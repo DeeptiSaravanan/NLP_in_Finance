{
 "cells": [
  {
   "cell_type": "markdown",
   "metadata": {},
   "source": [
    "#### Hierarchical Clustering (Agglomerative) on n-grams"
   ]
  },
  {
   "cell_type": "code",
   "execution_count": 1,
   "metadata": {},
   "outputs": [],
   "source": [
    "import pandas as pd\n",
    "import numpy as np\n",
    "import matplotlib.pyplot as plt\n",
    "%matplotlib inline"
   ]
  },
  {
   "cell_type": "code",
   "execution_count": 2,
   "metadata": {},
   "outputs": [],
   "source": [
    "%store -r ngramtrain"
   ]
  },
  {
   "cell_type": "code",
   "execution_count": 3,
   "metadata": {},
   "outputs": [
    {
     "data": {
      "text/html": [
       "<div>\n",
       "<style scoped>\n",
       "    .dataframe tbody tr th:only-of-type {\n",
       "        vertical-align: middle;\n",
       "    }\n",
       "\n",
       "    .dataframe tbody tr th {\n",
       "        vertical-align: top;\n",
       "    }\n",
       "\n",
       "    .dataframe thead th {\n",
       "        text-align: right;\n",
       "    }\n",
       "</style>\n",
       "<table border=\"1\" class=\"dataframe\">\n",
       "  <thead>\n",
       "    <tr style=\"text-align: right;\">\n",
       "      <th></th>\n",
       "      <th>0</th>\n",
       "      <th>1</th>\n",
       "      <th>2</th>\n",
       "      <th>3</th>\n",
       "      <th>4</th>\n",
       "      <th>5</th>\n",
       "      <th>6</th>\n",
       "      <th>7</th>\n",
       "      <th>8</th>\n",
       "      <th>9</th>\n",
       "      <th>...</th>\n",
       "      <th>90</th>\n",
       "      <th>91</th>\n",
       "      <th>92</th>\n",
       "      <th>93</th>\n",
       "      <th>94</th>\n",
       "      <th>95</th>\n",
       "      <th>96</th>\n",
       "      <th>97</th>\n",
       "      <th>98</th>\n",
       "      <th>99</th>\n",
       "    </tr>\n",
       "  </thead>\n",
       "  <tbody>\n",
       "    <tr>\n",
       "      <th>0</th>\n",
       "      <td>0.379520</td>\n",
       "      <td>-0.152076</td>\n",
       "      <td>0.164299</td>\n",
       "      <td>-0.260605</td>\n",
       "      <td>-0.555370</td>\n",
       "      <td>-0.449147</td>\n",
       "      <td>0.375688</td>\n",
       "      <td>0.140239</td>\n",
       "      <td>-0.404687</td>\n",
       "      <td>0.170535</td>\n",
       "      <td>...</td>\n",
       "      <td>-0.147169</td>\n",
       "      <td>-0.003854</td>\n",
       "      <td>0.421620</td>\n",
       "      <td>-0.131548</td>\n",
       "      <td>-0.783302</td>\n",
       "      <td>-0.104903</td>\n",
       "      <td>-0.013033</td>\n",
       "      <td>-0.336739</td>\n",
       "      <td>-0.426723</td>\n",
       "      <td>-0.265260</td>\n",
       "    </tr>\n",
       "    <tr>\n",
       "      <th>1</th>\n",
       "      <td>0.355087</td>\n",
       "      <td>-0.142812</td>\n",
       "      <td>0.121737</td>\n",
       "      <td>-0.232641</td>\n",
       "      <td>-0.491679</td>\n",
       "      <td>-0.396348</td>\n",
       "      <td>0.340843</td>\n",
       "      <td>0.133631</td>\n",
       "      <td>-0.348016</td>\n",
       "      <td>0.145430</td>\n",
       "      <td>...</td>\n",
       "      <td>-0.121881</td>\n",
       "      <td>0.010025</td>\n",
       "      <td>0.382660</td>\n",
       "      <td>-0.124365</td>\n",
       "      <td>-0.727108</td>\n",
       "      <td>-0.110026</td>\n",
       "      <td>-0.023400</td>\n",
       "      <td>-0.303090</td>\n",
       "      <td>-0.386937</td>\n",
       "      <td>-0.224230</td>\n",
       "    </tr>\n",
       "    <tr>\n",
       "      <th>2</th>\n",
       "      <td>0.371677</td>\n",
       "      <td>-0.164805</td>\n",
       "      <td>0.154603</td>\n",
       "      <td>-0.244721</td>\n",
       "      <td>-0.590529</td>\n",
       "      <td>-0.435620</td>\n",
       "      <td>0.358932</td>\n",
       "      <td>0.132503</td>\n",
       "      <td>-0.380974</td>\n",
       "      <td>0.147101</td>\n",
       "      <td>...</td>\n",
       "      <td>-0.152328</td>\n",
       "      <td>-0.015526</td>\n",
       "      <td>0.417187</td>\n",
       "      <td>-0.094420</td>\n",
       "      <td>-0.722133</td>\n",
       "      <td>-0.109605</td>\n",
       "      <td>-0.041019</td>\n",
       "      <td>-0.312155</td>\n",
       "      <td>-0.404749</td>\n",
       "      <td>-0.254256</td>\n",
       "    </tr>\n",
       "    <tr>\n",
       "      <th>3</th>\n",
       "      <td>0.336951</td>\n",
       "      <td>-0.121691</td>\n",
       "      <td>0.095535</td>\n",
       "      <td>-0.213793</td>\n",
       "      <td>-0.387230</td>\n",
       "      <td>-0.360023</td>\n",
       "      <td>0.309097</td>\n",
       "      <td>0.117259</td>\n",
       "      <td>-0.299793</td>\n",
       "      <td>0.144345</td>\n",
       "      <td>...</td>\n",
       "      <td>-0.096093</td>\n",
       "      <td>0.023677</td>\n",
       "      <td>0.348297</td>\n",
       "      <td>-0.148542</td>\n",
       "      <td>-0.709970</td>\n",
       "      <td>-0.109010</td>\n",
       "      <td>-0.005879</td>\n",
       "      <td>-0.287717</td>\n",
       "      <td>-0.382139</td>\n",
       "      <td>-0.209512</td>\n",
       "    </tr>\n",
       "    <tr>\n",
       "      <th>4</th>\n",
       "      <td>0.328181</td>\n",
       "      <td>-0.125198</td>\n",
       "      <td>0.105028</td>\n",
       "      <td>-0.221979</td>\n",
       "      <td>-0.420180</td>\n",
       "      <td>-0.356786</td>\n",
       "      <td>0.311444</td>\n",
       "      <td>0.125701</td>\n",
       "      <td>-0.314849</td>\n",
       "      <td>0.140924</td>\n",
       "      <td>...</td>\n",
       "      <td>-0.099644</td>\n",
       "      <td>0.013258</td>\n",
       "      <td>0.348730</td>\n",
       "      <td>-0.135317</td>\n",
       "      <td>-0.683202</td>\n",
       "      <td>-0.108050</td>\n",
       "      <td>-0.003507</td>\n",
       "      <td>-0.285391</td>\n",
       "      <td>-0.366516</td>\n",
       "      <td>-0.207449</td>\n",
       "    </tr>\n",
       "    <tr>\n",
       "      <th>...</th>\n",
       "      <td>...</td>\n",
       "      <td>...</td>\n",
       "      <td>...</td>\n",
       "      <td>...</td>\n",
       "      <td>...</td>\n",
       "      <td>...</td>\n",
       "      <td>...</td>\n",
       "      <td>...</td>\n",
       "      <td>...</td>\n",
       "      <td>...</td>\n",
       "      <td>...</td>\n",
       "      <td>...</td>\n",
       "      <td>...</td>\n",
       "      <td>...</td>\n",
       "      <td>...</td>\n",
       "      <td>...</td>\n",
       "      <td>...</td>\n",
       "      <td>...</td>\n",
       "      <td>...</td>\n",
       "      <td>...</td>\n",
       "      <td>...</td>\n",
       "    </tr>\n",
       "    <tr>\n",
       "      <th>2338</th>\n",
       "      <td>0.287346</td>\n",
       "      <td>-0.101472</td>\n",
       "      <td>0.084336</td>\n",
       "      <td>-0.177334</td>\n",
       "      <td>-0.367863</td>\n",
       "      <td>-0.316506</td>\n",
       "      <td>0.265734</td>\n",
       "      <td>0.089956</td>\n",
       "      <td>-0.254770</td>\n",
       "      <td>0.113416</td>\n",
       "      <td>...</td>\n",
       "      <td>-0.089457</td>\n",
       "      <td>0.022158</td>\n",
       "      <td>0.310913</td>\n",
       "      <td>-0.116383</td>\n",
       "      <td>-0.600881</td>\n",
       "      <td>-0.087903</td>\n",
       "      <td>-0.019036</td>\n",
       "      <td>-0.243700</td>\n",
       "      <td>-0.320650</td>\n",
       "      <td>-0.181707</td>\n",
       "    </tr>\n",
       "    <tr>\n",
       "      <th>2339</th>\n",
       "      <td>0.326526</td>\n",
       "      <td>-0.125203</td>\n",
       "      <td>0.142286</td>\n",
       "      <td>-0.222401</td>\n",
       "      <td>-0.454464</td>\n",
       "      <td>-0.377196</td>\n",
       "      <td>0.311904</td>\n",
       "      <td>0.118164</td>\n",
       "      <td>-0.342858</td>\n",
       "      <td>0.148584</td>\n",
       "      <td>...</td>\n",
       "      <td>-0.120163</td>\n",
       "      <td>0.003113</td>\n",
       "      <td>0.360308</td>\n",
       "      <td>-0.124837</td>\n",
       "      <td>-0.679510</td>\n",
       "      <td>-0.088851</td>\n",
       "      <td>0.002271</td>\n",
       "      <td>-0.287342</td>\n",
       "      <td>-0.379446</td>\n",
       "      <td>-0.235018</td>\n",
       "    </tr>\n",
       "    <tr>\n",
       "      <th>2340</th>\n",
       "      <td>0.326759</td>\n",
       "      <td>-0.139400</td>\n",
       "      <td>0.130477</td>\n",
       "      <td>-0.218388</td>\n",
       "      <td>-0.501017</td>\n",
       "      <td>-0.377243</td>\n",
       "      <td>0.312681</td>\n",
       "      <td>0.115235</td>\n",
       "      <td>-0.326349</td>\n",
       "      <td>0.131481</td>\n",
       "      <td>...</td>\n",
       "      <td>-0.124161</td>\n",
       "      <td>-0.007992</td>\n",
       "      <td>0.366612</td>\n",
       "      <td>-0.095417</td>\n",
       "      <td>-0.645491</td>\n",
       "      <td>-0.099047</td>\n",
       "      <td>-0.028481</td>\n",
       "      <td>-0.276542</td>\n",
       "      <td>-0.361885</td>\n",
       "      <td>-0.223456</td>\n",
       "    </tr>\n",
       "    <tr>\n",
       "      <th>2341</th>\n",
       "      <td>0.383185</td>\n",
       "      <td>-0.163811</td>\n",
       "      <td>0.166937</td>\n",
       "      <td>-0.267716</td>\n",
       "      <td>-0.599292</td>\n",
       "      <td>-0.446587</td>\n",
       "      <td>0.369971</td>\n",
       "      <td>0.141802</td>\n",
       "      <td>-0.401252</td>\n",
       "      <td>0.159236</td>\n",
       "      <td>...</td>\n",
       "      <td>-0.150699</td>\n",
       "      <td>-0.025405</td>\n",
       "      <td>0.422775</td>\n",
       "      <td>-0.106346</td>\n",
       "      <td>-0.732650</td>\n",
       "      <td>-0.114205</td>\n",
       "      <td>-0.022285</td>\n",
       "      <td>-0.333409</td>\n",
       "      <td>-0.423036</td>\n",
       "      <td>-0.272277</td>\n",
       "    </tr>\n",
       "    <tr>\n",
       "      <th>2342</th>\n",
       "      <td>0.307111</td>\n",
       "      <td>-0.122100</td>\n",
       "      <td>0.112332</td>\n",
       "      <td>-0.201490</td>\n",
       "      <td>-0.429065</td>\n",
       "      <td>-0.345025</td>\n",
       "      <td>0.288267</td>\n",
       "      <td>0.110414</td>\n",
       "      <td>-0.300188</td>\n",
       "      <td>0.127054</td>\n",
       "      <td>...</td>\n",
       "      <td>-0.105616</td>\n",
       "      <td>0.007140</td>\n",
       "      <td>0.337360</td>\n",
       "      <td>-0.110345</td>\n",
       "      <td>-0.626833</td>\n",
       "      <td>-0.092800</td>\n",
       "      <td>-0.014751</td>\n",
       "      <td>-0.261696</td>\n",
       "      <td>-0.344131</td>\n",
       "      <td>-0.204317</td>\n",
       "    </tr>\n",
       "  </tbody>\n",
       "</table>\n",
       "<p>2343 rows × 100 columns</p>\n",
       "</div>"
      ],
      "text/plain": [
       "            0         1         2         3         4         5         6   \\\n",
       "0     0.379520 -0.152076  0.164299 -0.260605 -0.555370 -0.449147  0.375688   \n",
       "1     0.355087 -0.142812  0.121737 -0.232641 -0.491679 -0.396348  0.340843   \n",
       "2     0.371677 -0.164805  0.154603 -0.244721 -0.590529 -0.435620  0.358932   \n",
       "3     0.336951 -0.121691  0.095535 -0.213793 -0.387230 -0.360023  0.309097   \n",
       "4     0.328181 -0.125198  0.105028 -0.221979 -0.420180 -0.356786  0.311444   \n",
       "...        ...       ...       ...       ...       ...       ...       ...   \n",
       "2338  0.287346 -0.101472  0.084336 -0.177334 -0.367863 -0.316506  0.265734   \n",
       "2339  0.326526 -0.125203  0.142286 -0.222401 -0.454464 -0.377196  0.311904   \n",
       "2340  0.326759 -0.139400  0.130477 -0.218388 -0.501017 -0.377243  0.312681   \n",
       "2341  0.383185 -0.163811  0.166937 -0.267716 -0.599292 -0.446587  0.369971   \n",
       "2342  0.307111 -0.122100  0.112332 -0.201490 -0.429065 -0.345025  0.288267   \n",
       "\n",
       "            7         8         9   ...        90        91        92  \\\n",
       "0     0.140239 -0.404687  0.170535  ... -0.147169 -0.003854  0.421620   \n",
       "1     0.133631 -0.348016  0.145430  ... -0.121881  0.010025  0.382660   \n",
       "2     0.132503 -0.380974  0.147101  ... -0.152328 -0.015526  0.417187   \n",
       "3     0.117259 -0.299793  0.144345  ... -0.096093  0.023677  0.348297   \n",
       "4     0.125701 -0.314849  0.140924  ... -0.099644  0.013258  0.348730   \n",
       "...        ...       ...       ...  ...       ...       ...       ...   \n",
       "2338  0.089956 -0.254770  0.113416  ... -0.089457  0.022158  0.310913   \n",
       "2339  0.118164 -0.342858  0.148584  ... -0.120163  0.003113  0.360308   \n",
       "2340  0.115235 -0.326349  0.131481  ... -0.124161 -0.007992  0.366612   \n",
       "2341  0.141802 -0.401252  0.159236  ... -0.150699 -0.025405  0.422775   \n",
       "2342  0.110414 -0.300188  0.127054  ... -0.105616  0.007140  0.337360   \n",
       "\n",
       "            93        94        95        96        97        98        99  \n",
       "0    -0.131548 -0.783302 -0.104903 -0.013033 -0.336739 -0.426723 -0.265260  \n",
       "1    -0.124365 -0.727108 -0.110026 -0.023400 -0.303090 -0.386937 -0.224230  \n",
       "2    -0.094420 -0.722133 -0.109605 -0.041019 -0.312155 -0.404749 -0.254256  \n",
       "3    -0.148542 -0.709970 -0.109010 -0.005879 -0.287717 -0.382139 -0.209512  \n",
       "4    -0.135317 -0.683202 -0.108050 -0.003507 -0.285391 -0.366516 -0.207449  \n",
       "...        ...       ...       ...       ...       ...       ...       ...  \n",
       "2338 -0.116383 -0.600881 -0.087903 -0.019036 -0.243700 -0.320650 -0.181707  \n",
       "2339 -0.124837 -0.679510 -0.088851  0.002271 -0.287342 -0.379446 -0.235018  \n",
       "2340 -0.095417 -0.645491 -0.099047 -0.028481 -0.276542 -0.361885 -0.223456  \n",
       "2341 -0.106346 -0.732650 -0.114205 -0.022285 -0.333409 -0.423036 -0.272277  \n",
       "2342 -0.110345 -0.626833 -0.092800 -0.014751 -0.261696 -0.344131 -0.204317  \n",
       "\n",
       "[2343 rows x 100 columns]"
      ]
     },
     "execution_count": 3,
     "metadata": {},
     "output_type": "execute_result"
    }
   ],
   "source": [
    "df = pd.DataFrame(ngramtrain)\n",
    "df"
   ]
  },
  {
   "cell_type": "code",
   "execution_count": 4,
   "metadata": {},
   "outputs": [
    {
     "name": "stderr",
     "output_type": "stream",
     "text": [
      "/home/deepti-saravanan/anaconda3/lib/python3.7/site-packages/sklearn/utils/deprecation.py:143: FutureWarning: The sklearn.datasets.samples_generator module is  deprecated in version 0.22 and will be removed in version 0.24. The corresponding classes / functions should instead be imported from sklearn.datasets. Anything that cannot be imported from sklearn.datasets is now part of the private API.\n",
      "  warnings.warn(message, FutureWarning)\n"
     ]
    }
   ],
   "source": [
    "import numpy as np\n",
    "from sklearn.datasets.samples_generator import make_blobs\n",
    "from sklearn.neighbors import NearestNeighbors\n",
    "from sklearn.cluster import DBSCAN\n",
    "from matplotlib import pyplot as plt\n",
    "import seaborn as sns\n",
    "sns.set()"
   ]
  },
  {
   "cell_type": "code",
   "execution_count": 5,
   "metadata": {},
   "outputs": [
    {
     "data": {
      "text/plain": [
       "array([[ 0.37952024, -0.15207615,  0.16429871, ..., -0.33673908,\n",
       "        -0.42672296, -0.26526031],\n",
       "       [ 0.35508725, -0.1428124 ,  0.12173699, ..., -0.30308996,\n",
       "        -0.38693738, -0.22423039],\n",
       "       [ 0.37167682, -0.1648054 ,  0.15460292, ..., -0.3121549 ,\n",
       "        -0.40474885, -0.25425553],\n",
       "       ...,\n",
       "       [ 0.32675896, -0.13940007,  0.13047682, ..., -0.27654171,\n",
       "        -0.36188479, -0.22345629],\n",
       "       [ 0.38318453, -0.16381136,  0.16693685, ..., -0.33340908,\n",
       "        -0.42303568, -0.27227719],\n",
       "       [ 0.30711145, -0.12209967,  0.11233192, ..., -0.2616961 ,\n",
       "        -0.34413129, -0.20431659]])"
      ]
     },
     "execution_count": 5,
     "metadata": {},
     "output_type": "execute_result"
    }
   ],
   "source": [
    "X = np.array(ngramtrain)\n",
    "X"
   ]
  },
  {
   "cell_type": "code",
   "execution_count": 6,
   "metadata": {},
   "outputs": [],
   "source": [
    "neigh = NearestNeighbors(n_neighbors=2)\n",
    "nbrs = neigh.fit(X)\n",
    "distances, indices = nbrs.kneighbors(X)"
   ]
  },
  {
   "cell_type": "code",
   "execution_count": 7,
   "metadata": {},
   "outputs": [
    {
     "data": {
      "text/plain": [
       "[<matplotlib.lines.Line2D at 0x7f640b0c48d0>]"
      ]
     },
     "execution_count": 7,
     "metadata": {},
     "output_type": "execute_result"
    },
    {
     "data": {
      "image/png": "[encoded data removed]",
      "text/plain": [
       "<Figure size 432x288 with 1 Axes>"
      ]
     },
     "metadata": {},
     "output_type": "display_data"
    }
   ],
   "source": [
    "distances = np.sort(distances, axis=0)\n",
    "distances = distances[:,1]\n",
    "plt.plot(distances)"
   ]
  },
  {
   "cell_type": "code",
   "execution_count": 8,
   "metadata": {},
   "outputs": [
    {
     "data": {
      "text/plain": [
       "DBSCAN(eps=0.2, min_samples=10)"
      ]
     },
     "execution_count": 8,
     "metadata": {},
     "output_type": "execute_result"
    }
   ],
   "source": [
    "m = DBSCAN(eps=0.2, min_samples=10)\n",
    "m.fit(X)"
   ]
  },
  {
   "cell_type": "code",
   "execution_count": 9,
   "metadata": {},
   "outputs": [],
   "source": [
    "label3 = m.labels_"
   ]
  },
  {
   "cell_type": "code",
   "execution_count": 10,
   "metadata": {},
   "outputs": [
    {
     "data": {
      "text/plain": [
       "[0, -1, 1]"
      ]
     },
     "execution_count": 10,
     "metadata": {},
     "output_type": "execute_result"
    }
   ],
   "source": [
    "#Number of clusters obtained\n",
    "j=[]\n",
    "for i in label3:\n",
    "    if(i not in j):\n",
    "        j.append(i)\n",
    "j"
   ]
  },
  {
   "cell_type": "code",
   "execution_count": 11,
   "metadata": {},
   "outputs": [],
   "source": [
    "colors = ['royalblue', 'maroon', 'forestgreen']\n",
    "vectorizer = np.vectorize(lambda x: colors[x % len(colors)])"
   ]
  },
  {
   "cell_type": "code",
   "execution_count": 13,
   "metadata": {},
   "outputs": [
    {
     "data": {
      "text/plain": [
       "<matplotlib.collections.PathCollection at 0x7f640944a6d8>"
      ]
     },
     "execution_count": 13,
     "metadata": {},
     "output_type": "execute_result"
    },
    {
     "data": {
      "image/png": "[encoded data removed]",
      "text/plain": [
       "<Figure size 432x288 with 1 Axes>"
      ]
     },
     "metadata": {},
     "output_type": "display_data"
    }
   ],
   "source": [
    "plt.scatter(X[:,0], X[:,1], c=vectorizer(label3))"
   ]
  },
  {
   "cell_type": "code",
   "execution_count": 14,
   "metadata": {},
   "outputs": [
    {
     "name": "stdout",
     "output_type": "stream",
     "text": [
      "2267\n",
      "11\n",
      "65\n"
     ]
    }
   ],
   "source": [
    "c0=0\n",
    "c1=0\n",
    "c2=0\n",
    "#c3=0\n",
    "for i in label3:\n",
    "    if(i==0):\n",
    "        c0=c0+1\n",
    "    elif(i==1):\n",
    "        c1=c1+1\n",
    "    #elif(i==2):\n",
    "    #    c2=c2+1\n",
    "    else:\n",
    "        c2=c2+1\n",
    "print(c0)\n",
    "print(c1)\n",
    "print(c2)\n",
    "#print(c3)"
   ]
  },
  {
   "cell_type": "code",
   "execution_count": 15,
   "metadata": {},
   "outputs": [],
   "source": [
    "X0 = ngramtrain"
   ]
  },
  {
   "cell_type": "code",
   "execution_count": 16,
   "metadata": {},
   "outputs": [],
   "source": [
    "#Cluster-wise separation of regulations' vector values\n",
    "t=-1\n",
    "r0 = []\n",
    "rid0 = []\n",
    "r1 = []\n",
    "rid1 = []\n",
    "r2 = []\n",
    "rid2 = []\n",
    "#r3 = []\n",
    "#rid3 = []\n",
    "for i in label3:\n",
    "    t=t+1\n",
    "    if(i==0):\n",
    "        r0.append(X0[t])\n",
    "        rid0.append(t)\n",
    "    elif(i==1):\n",
    "        r1.append(X0[t])\n",
    "        rid1.append(t)\n",
    "    #elif(i==2):\n",
    "    #    r2.append(X0[t])\n",
    "    #    rid2.append(t)\n",
    "    else:\n",
    "        r2.append(X0[t])\n",
    "        rid2.append(t)"
   ]
  },
  {
   "cell_type": "code",
   "execution_count": 17,
   "metadata": {},
   "outputs": [],
   "source": [
    "#Clusters centroids calculation\n",
    "#Cluster0\n",
    "jlist = [0]*100\n",
    "c=0\n",
    "s=[]\n",
    "for i in r0:\n",
    "    for k in range(0, len(i)): \n",
    "        s.append(i[k] + jlist[k]) \n",
    "    jlist=s\n",
    "    s=[]\n",
    "    #print(len(jlist))\n",
    "    c=c+1\n",
    "t=-1\n",
    "for l in jlist:\n",
    "    t=t+1\n",
    "    l=l/c\n",
    "    jlist[t] = l\n",
    "cent0 = jlist"
   ]
  },
  {
   "cell_type": "code",
   "execution_count": 18,
   "metadata": {},
   "outputs": [],
   "source": [
    "#Cluster1\n",
    "jlist = [0]*100\n",
    "c=0\n",
    "s=[]\n",
    "for i in r1:\n",
    "    for k in range(0, len(i)): \n",
    "        s.append(i[k] + jlist[k]) \n",
    "    jlist=s\n",
    "    s=[]\n",
    "    #print(len(jlist))\n",
    "    c=c+1\n",
    "t=-1\n",
    "for l in jlist:\n",
    "    t=t+1\n",
    "    l=l/c\n",
    "    jlist[t] = l\n",
    "cent1 = jlist"
   ]
  },
  {
   "cell_type": "code",
   "execution_count": 19,
   "metadata": {},
   "outputs": [],
   "source": [
    "#Cluster2\n",
    "jlist = [0]*100\n",
    "c=0\n",
    "s=[]\n",
    "for i in r2:\n",
    "    for k in range(0, len(i)): \n",
    "        s.append(i[k] + jlist[k]) \n",
    "    jlist=s\n",
    "    s=[]\n",
    "    #print(len(jlist))\n",
    "    c=c+1\n",
    "t=-1\n",
    "for l in jlist:\n",
    "    t=t+1\n",
    "    l=l/c\n",
    "    jlist[t] = l\n",
    "cent2 = jlist"
   ]
  },
  {
   "cell_type": "code",
   "execution_count": 20,
   "metadata": {},
   "outputs": [],
   "source": [
    "#Cosine similarity within cluster - ascending order\n",
    "\n",
    "from numpy import dot\n",
    "from numpy.linalg import norm\n",
    "\n",
    "def takeThird(elem):\n",
    "    return elem[2]"
   ]
  },
  {
   "cell_type": "code",
   "execution_count": 21,
   "metadata": {},
   "outputs": [],
   "source": [
    "#Cluster0\n",
    "cos0 = []\n",
    "i=0\n",
    "while(i<len(r0)-1):\n",
    "    j=len(r0)-1\n",
    "    while(j>i):\n",
    "        cos_sim = dot(r0[i], r0[j])/(norm(r0[i])*norm(r0[j]))\n",
    "        cos0.append([rid0[i],rid0[j],cos_sim])\n",
    "        j=j-1\n",
    "    i=i+1\n",
    "cos0.sort(key=takeThird)"
   ]
  },
  {
   "cell_type": "code",
   "execution_count": 22,
   "metadata": {},
   "outputs": [],
   "source": [
    "#Sorting regulations with cosine score\n",
    "ind0 = []\n",
    "cs_ind0 = []\n",
    "counter0 = []\n",
    "for i in cos0:\n",
    "    if(i[0] not in ind0):\n",
    "        ind0.append(i[0])\n",
    "        counter0.append(1)\n",
    "        cs_ind0.append(i[2])\n",
    "    else:\n",
    "        t=0\n",
    "        while(t<len(ind0)):\n",
    "            if(ind0[t] == i[0]):\n",
    "                cs_ind0[t] = cs_ind0[t]+i[2]\n",
    "                counter0[t] = counter0[t]+1\n",
    "                break\n",
    "            t=t+1\n",
    "    if(i[1] not in ind0):\n",
    "        ind0.append(i[1])\n",
    "        counter0.append(1)\n",
    "        cs_ind0.append(i[2])\n",
    "    else:\n",
    "        t=0\n",
    "        while(t<len(ind0)):\n",
    "            if(ind0[t] == i[1]):\n",
    "                cs_ind0[t] = cs_ind0[t]+i[2]\n",
    "                counter0[t] = counter0[t]+1\n",
    "                break\n",
    "            t=t+1\n",
    "p=0\n",
    "while(p<len(cs_ind0)):\n",
    "    cs_ind0[p] = cs_ind0[p]/counter0[p]\n",
    "    p=p+1\n",
    "    \n",
    "zipped_lists = zip(cs_ind0, ind0)\n",
    "sorted_pairs = sorted(zipped_lists)\n",
    "tuples = zip(*sorted_pairs)\n",
    "cs_ind0, ind0 = [ list(tuple) for tuple in tuples]"
   ]
  },
  {
   "cell_type": "code",
   "execution_count": 23,
   "metadata": {},
   "outputs": [],
   "source": [
    "#Cluster1\n",
    "cos1 = []\n",
    "i=0\n",
    "while(i<len(r1)-1):\n",
    "    j=len(r1)-1\n",
    "    while(j>i):\n",
    "        cos_sim = dot(r1[i], r1[j])/(norm(r1[i])*norm(r1[j]))\n",
    "        cos1.append([rid1[i],rid1[j],cos_sim])\n",
    "        j=j-1\n",
    "    i=i+1\n",
    "cos1.sort(key=takeThird)"
   ]
  },
  {
   "cell_type": "code",
   "execution_count": 24,
   "metadata": {},
   "outputs": [],
   "source": [
    "ind1 = []\n",
    "cs_ind1 = []\n",
    "counter1 = []\n",
    "for i in cos1:\n",
    "    if(i[0] not in ind1):\n",
    "        ind1.append(i[0])\n",
    "        counter1.append(1)\n",
    "        cs_ind1.append(i[2])\n",
    "    else:\n",
    "        t=0\n",
    "        while(t<len(ind1)):\n",
    "            if(ind1[t] == i[0]):\n",
    "                cs_ind1[t] = cs_ind1[t]+i[2]\n",
    "                counter1[t] = counter1[t]+1\n",
    "                break\n",
    "            t=t+1\n",
    "    if(i[1] not in ind1):\n",
    "        ind1.append(i[1])\n",
    "        counter1.append(1)\n",
    "        cs_ind1.append(i[2])\n",
    "    else:\n",
    "        t=0\n",
    "        while(t<len(ind1)):\n",
    "            if(ind1[t] == i[1]):\n",
    "                cs_ind1[t] = cs_ind1[t]+i[2]\n",
    "                counter1[t] = counter1[t]+1\n",
    "                break\n",
    "            t=t+1\n",
    "p=0\n",
    "while(p<len(cs_ind1)):\n",
    "    cs_ind1[p] = cs_ind1[p]/counter1[p]\n",
    "    p=p+1\n",
    "\n",
    "zipped_lists = zip(cs_ind1, ind1)\n",
    "sorted_pairs = sorted(zipped_lists)\n",
    "tuples = zip(*sorted_pairs)\n",
    "cs_ind1, ind1 = [ list(tuple) for tuple in tuples]"
   ]
  },
  {
   "cell_type": "code",
   "execution_count": 25,
   "metadata": {},
   "outputs": [],
   "source": [
    "#Cluster2\n",
    "cos2 = []\n",
    "i=0\n",
    "while(i<len(r2)-1):\n",
    "    j=len(r2)-1\n",
    "    while(j>i):\n",
    "        cos_sim = dot(r2[i], r2[j])/(norm(r2[i])*norm(r2[j]))\n",
    "        cos2.append([rid2[i],rid2[j],cos_sim])\n",
    "        j=j-1\n",
    "    i=i+1\n",
    "cos2.sort(key=takeThird)"
   ]
  },
  {
   "cell_type": "code",
   "execution_count": 26,
   "metadata": {},
   "outputs": [],
   "source": [
    "#Sorting regulations with cosine score\n",
    "ind2 = []\n",
    "cs_ind2 = []\n",
    "counter2 = []\n",
    "for i in cos2:\n",
    "    if(i[0] not in ind2):\n",
    "        ind2.append(i[0])\n",
    "        counter2.append(1)\n",
    "        cs_ind2.append(i[2])\n",
    "    else:\n",
    "        t=0\n",
    "        while(t<len(ind2)):\n",
    "            if(ind2[t] == i[0]):\n",
    "                cs_ind2[t] = cs_ind2[t]+i[2]\n",
    "                counter2[t] = counter2[t]+1\n",
    "                break\n",
    "            t=t+1\n",
    "    if(i[1] not in ind2):\n",
    "        ind2.append(i[1])\n",
    "        counter2.append(1)\n",
    "        cs_ind2.append(i[2])\n",
    "    else:\n",
    "        t=0\n",
    "        while(t<len(ind2)):\n",
    "            if(ind2[t] == i[1]):\n",
    "                cs_ind2[t] = cs_ind2[t]+i[2]\n",
    "                counter2[t] = counter2[t]+1\n",
    "                break\n",
    "            t=t+1\n",
    "p=0\n",
    "while(p<len(cs_ind2)):\n",
    "    cs_ind2[p] = cs_ind2[p]/counter2[p]\n",
    "    p=p+1\n",
    "    \n",
    "zipped_lists = zip(cs_ind2, ind2)\n",
    "sorted_pairs = sorted(zipped_lists)\n",
    "tuples = zip(*sorted_pairs)\n",
    "cs_ind2, ind2 = [ list(tuple) for tuple in tuples]"
   ]
  },
  {
   "cell_type": "code",
   "execution_count": 32,
   "metadata": {},
   "outputs": [
    {
     "name": "stdout",
     "output_type": "stream",
     "text": [
      "1133\n",
      "1145\n",
      "65\n"
     ]
    }
   ],
   "source": [
    "print(len(ind0))\n",
    "print(len(ind1))\n",
    "print(len(ind2))\n",
    "#print(len(ind3))"
   ]
  },
  {
   "cell_type": "code",
   "execution_count": 33,
   "metadata": {},
   "outputs": [],
   "source": [
    "c0 = len(ind0)\n",
    "c1 = len(ind1)\n",
    "c2 = len(ind2)"
   ]
  },
  {
   "cell_type": "code",
   "execution_count": 34,
   "metadata": {},
   "outputs": [],
   "source": [
    "#Resizing clusters\n",
    "\n",
    "#Cluster2 - size:781\n",
    "from scipy.spatial import distance\n",
    "if(c0>781):\n",
    "    i = c0-781\n",
    "    p=0\n",
    "    while(p<i):\n",
    "        e1= distance.euclidean(cs_ind0[p], cent1)\n",
    "        e2= distance.euclidean(cs_ind0[p], cent2)\n",
    "        #e3= distance.euclidean(cs_ind0[p], cent3)\n",
    "        e = min(e1,e2)\n",
    "        if(e1 == e):\n",
    "            cs_ind1.append(cs_ind0[p])\n",
    "            ind1.append(ind0[p])\n",
    "        #elif(e2 == e):\n",
    "        #    cs_ind2.append(cs_ind0[p])\n",
    "        #    ind2.append(ind0[p])\n",
    "        #    y=0\n",
    "        #    for ic in rid0:\n",
    "        #        if(ic == ind0[p]):\n",
    "        #            label4[y] = 2\n",
    "        #            break\n",
    "        #        y=y+1\n",
    "        else:\n",
    "            cs_ind2.append(cs_ind0[p])\n",
    "            ind2.append(ind0[p])\n",
    "            \n",
    "        cs_ind0.remove(cs_ind0[p])\n",
    "        ind0.remove(ind0[p])\n",
    "        p=p+1"
   ]
  },
  {
   "cell_type": "code",
   "execution_count": 35,
   "metadata": {},
   "outputs": [
    {
     "name": "stdout",
     "output_type": "stream",
     "text": [
      "781\n",
      "1497\n",
      "65\n"
     ]
    }
   ],
   "source": [
    "print(len(ind0))\n",
    "print(len(ind1))\n",
    "print(len(ind2))\n",
    "#print(len(ind3))"
   ]
  },
  {
   "cell_type": "code",
   "execution_count": 36,
   "metadata": {},
   "outputs": [],
   "source": [
    "#Cluster1 and 0 - size:781\n",
    "c2 = len(ind2)\n",
    "c1 = len(ind1)\n",
    "if(c2>781):\n",
    "    i = c2-781\n",
    "    p=0\n",
    "    while(p<i):\n",
    "        cs_ind1.append(cs_ind2[p])\n",
    "        ind1.append(ind2[p])\n",
    "        \n",
    "        cs_ind2.remove(cs_ind2[p])\n",
    "        ind2.remove(ind2[p])\n",
    "        p=p+1\n",
    "else:\n",
    "    i = c1-781\n",
    "    p=0\n",
    "    while(p<i):\n",
    "        cs_ind2.append(cs_ind1[p])\n",
    "        ind2.append(ind1[p])\n",
    "        \n",
    "        cs_ind1.remove(cs_ind1[p])\n",
    "        ind1.remove(ind1[p])\n",
    "        p=p+1"
   ]
  },
  {
   "cell_type": "code",
   "execution_count": 37,
   "metadata": {},
   "outputs": [
    {
     "name": "stdout",
     "output_type": "stream",
     "text": [
      "781\n",
      "781\n",
      "781\n"
     ]
    }
   ],
   "source": [
    "## Cluster sizes - final\n",
    "print(len(ind0))\n",
    "print(len(ind1))\n",
    "print(len(ind2))\n",
    "#print(len(ind3))"
   ]
  },
  {
   "cell_type": "code",
   "execution_count": 38,
   "metadata": {},
   "outputs": [],
   "source": [
    "for i in ind0:\n",
    "    label3[i] = 0\n",
    "for i in ind1:\n",
    "    label3[i] = 1\n",
    "for i in ind2:\n",
    "    label3[i] = 2\n",
    "\n",
    "#for i in ind3:\n",
    "#    label4[i] = 3"
   ]
  },
  {
   "cell_type": "code",
   "execution_count": 39,
   "metadata": {},
   "outputs": [
    {
     "name": "stdout",
     "output_type": "stream",
     "text": [
      "781\n",
      "781\n",
      "781\n"
     ]
    }
   ],
   "source": [
    "kl0=0\n",
    "kl1=0\n",
    "kl2=0\n",
    "#kl3=0\n",
    "\n",
    "for mass in label3:\n",
    "    if(mass==0):\n",
    "        kl0=kl0+1\n",
    "    elif(mass==1):\n",
    "        kl1=kl1+1\n",
    "    #elif(mass==2):\n",
    "    #    kl2=kl2+1\n",
    "    else:\n",
    "        kl2=kl2+1\n",
    "print(kl0)\n",
    "print(kl1)\n",
    "print(kl2)\n",
    "#print(kl3)"
   ]
  },
  {
   "cell_type": "markdown",
   "metadata": {},
   "source": [
    "## Topic Analysis - Clusterwise"
   ]
  },
  {
   "cell_type": "code",
   "execution_count": 40,
   "metadata": {},
   "outputs": [
    {
     "name": "stderr",
     "output_type": "stream",
     "text": [
      "/home/deepti-saravanan/anaconda3/lib/python3.7/site-packages/sklearn/utils/deprecation.py:143: FutureWarning: The sklearn.feature_extraction.stop_words module is  deprecated in version 0.22 and will be removed in version 0.24. The corresponding classes / functions should instead be imported from sklearn.feature_extraction.text. Anything that cannot be imported from sklearn.feature_extraction.text is now part of the private API.\n",
      "  warnings.warn(message, FutureWarning)\n"
     ]
    }
   ],
   "source": [
    "from sklearn.pipeline import Pipeline\n",
    "from sklearn.decomposition import LatentDirichletAllocation\n",
    "from sklearn.feature_extraction.text import CountVectorizer\n",
    "from utils import LemmaTokenizer, combined_plots"
   ]
  },
  {
   "cell_type": "code",
   "execution_count": 41,
   "metadata": {},
   "outputs": [],
   "source": [
    "%store -r lol"
   ]
  },
  {
   "cell_type": "code",
   "execution_count": 42,
   "metadata": {},
   "outputs": [],
   "source": [
    "counter = CountVectorizer(tokenizer=LemmaTokenizer())\n",
    "subj = pd.DataFrame(\n",
    "    counter.fit_transform(lol.astype(str)).toarray(),\n",
    "    columns=counter.get_feature_names()\n",
    ")"
   ]
  },
  {
   "cell_type": "code",
   "execution_count": 43,
   "metadata": {},
   "outputs": [],
   "source": [
    "subj['label'] = label3"
   ]
  },
  {
   "cell_type": "code",
   "execution_count": 44,
   "metadata": {},
   "outputs": [],
   "source": [
    "groups = pd.melt(\n",
    "    subj.groupby('label').sum().reset_index(),\n",
    "    id_vars='label', var_name='word', value_name='count'\n",
    ").groupby('label').apply(lambda group: group.sort_values(by='count', ascending=False)).reset_index(drop=True)"
   ]
  },
  {
   "cell_type": "code",
   "execution_count": 45,
   "metadata": {},
   "outputs": [],
   "source": [
    "groups.to_csv('ngram-dbscan.csv',index=False)"
   ]
  },
  {
   "cell_type": "code",
   "execution_count": 46,
   "metadata": {},
   "outputs": [],
   "source": [
    "pipeline = Pipeline([\n",
    "    ('counts', CountVectorizer(max_features=100, tokenizer=LemmaTokenizer())),\n",
    "    ('lda', LatentDirichletAllocation(n_components=3, learning_decay=0.5, max_iter=10, random_state=1))\n",
    "])"
   ]
  },
  {
   "cell_type": "code",
   "execution_count": 47,
   "metadata": {},
   "outputs": [
    {
     "data": {
      "text/plain": [
       "Pipeline(steps=[('counts',\n",
       "                 CountVectorizer(max_features=100,\n",
       "                                 tokenizer=<utils.LemmaTokenizer object at 0x7f63d247d278>)),\n",
       "                ('lda',\n",
       "                 LatentDirichletAllocation(learning_decay=0.5, n_components=3,\n",
       "                                           random_state=1))])"
      ]
     },
     "execution_count": 47,
     "metadata": {},
     "output_type": "execute_result"
    }
   ],
   "source": [
    "pipeline.fit(lol)"
   ]
  },
  {
   "cell_type": "code",
   "execution_count": 48,
   "metadata": {},
   "outputs": [],
   "source": [
    "vectorizer = pipeline.named_steps['counts']\n",
    "dtm = vectorizer.fit_transform(lol)"
   ]
  },
  {
   "cell_type": "code",
   "execution_count": 49,
   "metadata": {},
   "outputs": [],
   "source": [
    "import pyLDAvis\n",
    "import pyLDAvis.sklearn\n",
    "pyLDAvis.enable_notebook()"
   ]
  },
  {
   "cell_type": "code",
   "execution_count": 50,
   "metadata": {},
   "outputs": [],
   "source": [
    "p = pyLDAvis.sklearn.prepare(pipeline.named_steps['lda'], dtm, vectorizer)"
   ]
  },
  {
   "cell_type": "code",
   "execution_count": 51,
   "metadata": {},
   "outputs": [
    {
     "data": {
      "text/html": [
       "\n",
       "<link rel=\"stylesheet\" type=\"text/css\" href=\"https://cdn.rawgit.com/bmabey/pyLDAvis/files/ldavis.v1.0.0.css\">\n",
       "\n",
       "\n",
       "<div id=\"ldavis_el259221400667046519926742142763\"></div>\n",
       "<script type=\"text/javascript\">\n",
       "\n",
       "var ldavis_el259221400667046519926742142763_data = {\"mdsDat\": {\"x\": [-0.1623392447126845, -0.17166709220834325, 0.33400633692102766], \"y\": [0.26814428053034634, -0.263197987504971, -0.00494629302537536], \"topics\": [1, 2, 3], \"cluster\": [1, 1, 1], \"Freq\": [38.25290120527005, 31.523907325195694, 30.22319146953426]}, \"tinfo\": {\"Term\": [\"board\", \"entity\", \"list\", \"investment\", \"issuer\", \"manager\", \"security\", \"depository\", \"company\", \"offer\", \"stock\", \"applicant\", \"fund\", \"application\", \"exchange\", \"research\", \"specify\", \"sub\", \"share\", \"participant\", \"issue\", \"public\", \"director\", \"recognise\", \"acquirer\", \"investor\", \"unit\", \"certificate\", \"designate\", \"committee\", \"investment\", \"manager\", \"offer\", \"fund\", \"stock\", \"acquirer\", \"recognise\", \"exchange\", \"alternative\", \"corporation\", \"target\", \"acquisition\", \"invit\", \"open\", \"adviser\", \"clear\", \"clearing\", \"scheme\", \"right\", \"price\", \"announcement\", \"client\", \"voting\", \"recognize\", \"public\", \"company\", \"equity\", \"share\", \"shareholder\", \"date\", \"document\", \"portfolio\", \"person\", \"act\", \"entity\", \"list\", \"issuer\", \"research\", \"analyst\", \"unit\", \"reit\", \"debt\", \"holder\", \"committee\", \"foreign\", \"trust\", \"authorised\", \"party\", \"listed\", \"valuer\", \"investor\", \"security\", \"transaction\", \"convertible\", \"issue\", \"time\", \"report\", \"disclosure\", \"non\", \"officer\", \"requirement\", \"member\", \"sebi\", \"financial\", \"person\", \"portfolio\", \"depository\", \"board\", \"applicant\", \"application\", \"participant\", \"certificate\", \"registration\", \"inspect\", \"designate\", \"inspection\", \"notice\", \"proceeding\", \"specify\", \"authority\", \"settlement\", \"grant\", \"respect\", \"fee\", \"sub\", \"provision\", \"director\", \"decision\", \"information\", \"case\", \"term\", \"trustee\", \"record\", \"shall\", \"include\", \"requirement\", \"officer\"], \"Freq\": [889.0, 424.0, 358.0, 287.0, 235.0, 257.0, 215.0, 169.0, 261.0, 195.0, 192.0, 146.0, 179.0, 133.0, 169.0, 121.0, 122.0, 200.0, 199.0, 99.0, 142.0, 147.0, 213.0, 115.0, 114.0, 99.0, 87.0, 74.0, 74.0, 75.0, 286.614966482644, 256.8052204913125, 195.15222276133153, 179.24914196360245, 192.07093823242454, 113.6616328588133, 114.6446803252386, 167.98120451243327, 87.81173211002202, 87.79738538111387, 79.85677571553109, 65.9364167558031, 67.85956484710105, 59.97368225445668, 51.015961277721615, 50.03069307317613, 50.01025105083878, 47.03227607219611, 63.656838862652016, 43.01525396066001, 38.09910203170524, 37.08706770931494, 39.94025614033661, 35.90587289467953, 141.72595834794862, 249.71083773110794, 34.27513353666286, 175.95242771562855, 48.69808470432899, 42.1772628407811, 87.77698070223084, 90.34793169500105, 101.68208221356353, 53.95840787668307, 423.41122733496303, 358.2344644693562, 234.8884075882757, 120.63742119998312, 69.50594700799525, 86.35952951322614, 69.4723959448283, 66.48834720113376, 66.47268418110208, 74.36769389097803, 60.42186597882927, 58.398333121346276, 44.417256155103495, 44.40335149730055, 38.423212095375504, 47.15319058735834, 95.72613009611688, 204.11205167932894, 37.59246147328125, 37.11799110327705, 128.30550324205265, 36.70875680895781, 48.822500044519934, 73.82132560525476, 44.52401883635245, 70.65541960753295, 41.97307906428715, 26.26611039032166, 46.322645350345944, 31.21515825642042, 88.51225210193759, 55.59112935478491, 168.6757108196975, 885.8014398198833, 146.30387666501142, 132.64738073166833, 98.61550559339557, 74.21980360168573, 58.69304030902476, 48.983986452676156, 73.87569934855983, 37.28137062778546, 37.27061017347849, 34.35606482364508, 119.66247763903839, 62.51339694029135, 46.504526516575176, 77.89546048211092, 41.00931226827899, 38.991305570853434, 157.21181551429032, 69.39884741916903, 163.30506932797405, 26.549172828671264, 57.25018372147047, 98.83961504623835, 24.487113978283208, 52.5097923373405, 28.24872076506178, 26.022694669649596, 15.882356340128757, 21.194731702038993, 35.21977845307257], \"Total\": [889.0, 424.0, 358.0, 287.0, 235.0, 257.0, 215.0, 169.0, 261.0, 195.0, 192.0, 146.0, 179.0, 133.0, 169.0, 121.0, 122.0, 200.0, 199.0, 99.0, 142.0, 147.0, 213.0, 115.0, 114.0, 99.0, 87.0, 74.0, 74.0, 75.0, 287.3145689380935, 257.48895499047694, 195.84979272395674, 179.94286268718005, 192.86766308850036, 114.32670313287865, 115.32093902269138, 169.00924972128917, 88.4779432838142, 88.47771532493908, 80.52444705271517, 66.6060894026677, 68.59422152704887, 60.640810885029964, 51.69300972317928, 50.69898048317926, 50.69858015543492, 47.71653577230716, 64.61237793419939, 43.74011802074935, 38.768789856750544, 37.77422211064, 40.75505672079969, 36.78055993287439, 147.1575763227542, 261.55809328656045, 36.79605105089186, 199.02013349460478, 56.53178364636883, 49.759589244145324, 105.30113210254751, 146.59716640788608, 211.06106016601854, 85.1733126564447, 424.0850423223218, 358.9162156562066, 235.59632266464425, 121.3013291290918, 70.16895224923721, 87.21123727544722, 70.16841055258878, 67.16104274607338, 67.1608269725933, 75.17786010197723, 61.14422132634389, 59.13947724217675, 45.1033652761057, 45.10342640902295, 39.08849865870987, 48.1093191657313, 99.16618406013842, 215.38628178116616, 40.075558632356795, 40.07169704836069, 142.19481277608074, 40.98505594937798, 56.07604988974527, 90.01481025188015, 61.77382132418811, 106.21366301807768, 63.52448459323405, 42.96207406871295, 81.90403382141444, 55.86757457518486, 211.06106016601854, 146.59716640788608, 169.36631170280407, 889.6564301300658, 146.9807389091707, 133.35587178288338, 99.29051237585514, 74.96052151586832, 59.38689560640916, 49.65359988360621, 74.96978856614068, 37.9749735145945, 37.97526958947072, 35.05537622639541, 122.70020273758597, 64.28479352293907, 49.70689745107888, 86.81132727753047, 46.88052392496049, 45.89184778750502, 200.47435046378524, 89.99568098142822, 213.51161134180427, 35.22296144886186, 76.46484939599843, 132.14511779152562, 35.344473965157675, 87.36789254909344, 47.191189777090955, 46.25727053107279, 39.59498258675574, 63.52448459323405, 106.21366301807768], \"Category\": [\"Default\", \"Default\", \"Default\", \"Default\", \"Default\", \"Default\", \"Default\", \"Default\", \"Default\", \"Default\", \"Default\", \"Default\", \"Default\", \"Default\", \"Default\", \"Default\", \"Default\", \"Default\", \"Default\", \"Default\", \"Default\", \"Default\", \"Default\", \"Default\", \"Default\", \"Default\", \"Default\", \"Default\", \"Default\", \"Default\", \"Topic1\", \"Topic1\", \"Topic1\", \"Topic1\", \"Topic1\", \"Topic1\", \"Topic1\", \"Topic1\", \"Topic1\", \"Topic1\", \"Topic1\", \"Topic1\", \"Topic1\", \"Topic1\", \"Topic1\", \"Topic1\", \"Topic1\", \"Topic1\", \"Topic1\", \"Topic1\", \"Topic1\", \"Topic1\", \"Topic1\", \"Topic1\", \"Topic1\", \"Topic1\", \"Topic1\", \"Topic1\", \"Topic1\", \"Topic1\", \"Topic1\", \"Topic1\", \"Topic1\", \"Topic1\", \"Topic2\", \"Topic2\", \"Topic2\", \"Topic2\", \"Topic2\", \"Topic2\", \"Topic2\", \"Topic2\", \"Topic2\", \"Topic2\", \"Topic2\", \"Topic2\", \"Topic2\", \"Topic2\", \"Topic2\", \"Topic2\", \"Topic2\", \"Topic2\", \"Topic2\", \"Topic2\", \"Topic2\", \"Topic2\", \"Topic2\", \"Topic2\", \"Topic2\", \"Topic2\", \"Topic2\", \"Topic2\", \"Topic2\", \"Topic2\", \"Topic2\", \"Topic2\", \"Topic3\", \"Topic3\", \"Topic3\", \"Topic3\", \"Topic3\", \"Topic3\", \"Topic3\", \"Topic3\", \"Topic3\", \"Topic3\", \"Topic3\", \"Topic3\", \"Topic3\", \"Topic3\", \"Topic3\", \"Topic3\", \"Topic3\", \"Topic3\", \"Topic3\", \"Topic3\", \"Topic3\", \"Topic3\", \"Topic3\", \"Topic3\", \"Topic3\", \"Topic3\", \"Topic3\", \"Topic3\", \"Topic3\", \"Topic3\", \"Topic3\"], \"logprob\": [30.0, 29.0, 28.0, 27.0, 26.0, 25.0, 24.0, 23.0, 22.0, 21.0, 20.0, 19.0, 18.0, 17.0, 16.0, 15.0, 14.0, 13.0, 12.0, 11.0, 10.0, 9.0, 8.0, 7.0, 6.0, 5.0, 4.0, 3.0, 2.0, 1.0, -2.6194, -2.7292, -3.0037, -3.0887, -3.0196, -3.5443, -3.5357, -3.1536, -3.8023, -3.8025, -3.8973, -4.0888, -4.0601, -4.1836, -4.3454, -4.3649, -4.3653, -4.4267, -4.124, -4.5159, -4.6373, -4.6642, -4.5901, -4.6966, -3.3236, -2.7572, -4.7431, -3.1073, -4.3919, -4.5356, -3.8027, -3.7738, -3.6556, -4.2893, -2.0357, -2.2028, -2.6249, -3.2912, -3.8426, -3.6255, -3.8431, -3.887, -3.8872, -3.775, -3.9827, -4.0167, -4.2904, -4.2907, -4.4354, -4.2306, -3.5225, -2.7653, -4.4572, -4.4699, -3.2296, -4.481, -4.1958, -3.7824, -4.288, -3.8262, -4.347, -4.8157, -4.2484, -4.6431, -3.6009, -4.066, -2.9139, -1.2554, -3.0562, -3.1542, -3.4507, -3.7349, -3.9696, -4.1504, -3.7395, -4.4234, -4.4237, -4.5051, -3.2572, -3.9065, -4.2023, -3.6865, -4.3281, -4.3785, -2.9843, -3.802, -2.9463, -4.7629, -3.9945, -3.4484, -4.8437, -4.0809, -4.7008, -4.7829, -5.2767, -4.9881, -4.4803], \"loglift\": [30.0, 29.0, 28.0, 27.0, 26.0, 25.0, 24.0, 23.0, 22.0, 21.0, 20.0, 19.0, 18.0, 17.0, 16.0, 15.0, 14.0, 13.0, 12.0, 11.0, 10.0, 9.0, 8.0, 7.0, 6.0, 5.0, 4.0, 3.0, 2.0, 1.0, 0.9585, 0.9583, 0.9574, 0.9571, 0.9568, 0.9551, 0.9551, 0.9548, 0.9534, 0.9532, 0.9526, 0.9508, 0.9502, 0.9499, 0.9478, 0.9477, 0.9473, 0.9465, 0.9461, 0.9442, 0.9435, 0.9426, 0.9408, 0.9369, 0.9233, 0.9146, 0.89, 0.8378, 0.8118, 0.7956, 0.7789, 0.4769, 0.2307, 0.5045, 1.1528, 1.1525, 1.1514, 1.1489, 1.1449, 1.1446, 1.1445, 1.1444, 1.1441, 1.1436, 1.1425, 1.1418, 1.1391, 1.1388, 1.1373, 1.1343, 1.1191, 1.1007, 1.0905, 1.0779, 1.0516, 1.0442, 1.0159, 0.9561, 0.827, 0.7468, 0.74, 0.6624, 0.5845, 0.5723, 0.2854, 0.1848, 1.1925, 1.1922, 1.1919, 1.1912, 1.1897, 1.1866, 1.1848, 1.183, 1.1819, 1.1781, 1.1778, 1.1764, 1.1715, 1.1686, 1.13, 1.0882, 1.0628, 1.0336, 0.9535, 0.9367, 0.9285, 0.9139, 0.9072, 0.9062, 0.8296, 0.6874, 0.6834, 0.6213, 0.2831, 0.0989, 0.0927]}, \"token.table\": {\"Topic\": [1, 1, 1, 2, 3, 1, 1, 2, 1, 3, 3, 2, 2, 3, 1, 2, 3, 1, 2, 3, 3, 1, 1, 1, 2, 1, 2, 1, 2, 1, 1, 2, 2, 1, 3, 3, 2, 3, 1, 2, 3, 1, 2, 3, 1, 2, 3, 2, 1, 2, 1, 2, 1, 3, 1, 2, 3, 2, 1, 1, 3, 2, 1, 2, 3, 1, 2, 3, 3, 3, 1, 1, 2, 3, 1, 1, 2, 3, 2, 2, 2, 1, 1, 2, 1, 2, 3, 3, 1, 2, 3, 1, 3, 2, 1, 2, 3, 1, 2, 3, 1, 3, 1, 2, 3, 1, 2, 3, 1, 1, 1, 2, 3, 3, 2, 1, 2, 2, 3, 2, 1, 2, 3, 1, 3, 1, 1, 2, 1, 2, 3, 1, 3, 1, 2, 3, 1, 2, 1, 2, 3, 1, 2, 3, 1, 1, 2, 3, 1, 1, 2, 3, 2, 3, 1, 2, 2, 1, 2, 3, 1, 2, 1, 2, 1], \"Freq\": [0.9971423724823156, 0.9909003905182965, 0.6340014062598991, 0.14088920139108868, 0.23481533565181448, 0.9865937439725331, 0.9945981646263964, 0.997592207895066, 0.9801698773783964, 0.9933274324482968, 0.9973314127220226, 0.9755369633872923, 0.015555778360603506, 0.9800140367180209, 0.0033720882560938797, 0.00112402941869796, 0.9958900649663924, 0.2043208288829532, 0.04540462864065627, 0.7491763725708284, 0.9871863015832275, 0.9862131254609515, 0.9862209128284625, 0.9795039562066344, 0.9843323539619312, 0.9558106073441301, 0.042055666723141726, 0.07486580856257317, 0.9233449722717358, 0.9946007271640701, 0.8440584144279625, 0.14067640240466042, 0.9827125562885746, 0.22712457076088644, 0.7665454263179917, 0.9978371631340307, 0.01333870641929007, 0.9870642750274652, 0.07493737647076291, 0.1592419250003712, 0.7634245227958972, 0.13331139582943635, 0.8220869409481908, 0.04443713194314545, 0.8356985176028421, 0.0949657406366866, 0.07597259250934928, 0.9974414510910831, 0.9240121977484839, 0.05435365869108729, 0.9940284349942178, 0.005916835922584629, 0.15253253763963479, 0.8498241382779652, 0.37588887936666815, 0.5548835838269863, 0.053698411338095456, 0.9812865173270119, 0.9947602106963299, 0.10367310675054597, 0.8985002585047318, 0.9827157135354065, 0.10102290084951251, 0.5051145042475627, 0.40409160339805006, 0.013077904526054453, 0.23540228146898018, 0.7454405579851039, 0.9868368077009859, 0.9743258934935188, 0.9989051410123193, 0.010084082688848441, 0.9680719381294502, 0.03025224806654532, 0.9913371489052536, 0.07735865876712461, 0.9001734838356318, 0.02109781602739762, 0.9974688795737569, 0.9974472714905581, 0.9721529683650993, 0.9981010642165408, 0.37242149842230193, 0.6051849349362407, 0.09712852259069563, 0.7284639194302172, 0.17806895808294199, 0.9743182971440674, 0.9956609975832117, 0.6684639055138859, 0.32952446046459166, 0.9894326794830484, 0.9970741174669797, 0.975535641150265, 0.48327247062896306, 0.4216789204507619, 0.09949727336478652, 0.6139272825341494, 0.38199919802124854, 0.006821414250379438, 0.9830791947018009, 0.9698940265373404, 0.20000959827966114, 0.03333493304661019, 0.7667034600720344, 0.9649520163919911, 0.03397718367577433, 0.006795436735154867, 0.9972169926345447, 0.9787779214264564, 0.21190396019331806, 0.19071356417398624, 0.5933310885412906, 0.9934851686982707, 0.9833484819823145, 0.12483047600112972, 0.873813332007908, 0.661162389099862, 0.330581194549931, 0.9975158629237185, 0.02133081962993106, 0.1066540981496553, 0.8745636048271734, 0.9905222814299912, 0.015476910647343613, 0.984983491347186, 0.4273293800927419, 0.5616328995504608, 0.03714256977669567, 0.9471355293057396, 0.018571284888347837, 0.06035379703496029, 0.945542820214378, 0.21618223222406982, 0.23780045544647682, 0.5620738037825815, 0.8843326396661831, 0.11556619722910348, 0.866769042818754, 0.017689164139158244, 0.1238241489741077, 0.024449837352070073, 0.008149945784023357, 0.9779934940828029, 0.9955012516115663, 0.1895504333202193, 0.02494084648950254, 0.7831425797703797, 0.9934871076808284, 0.028292965994791513, 0.28292965994791514, 0.6790311838749963, 0.9027680734582855, 0.09759654848197681, 0.04990572978277115, 0.9482088658726519, 0.9807323754738213, 0.3777131282119088, 0.022891704740115683, 0.6066301756130656, 0.011466412256503238, 0.9861114540592785, 0.02078599359419555, 0.9769416989271908, 0.9814732997190422], \"Term\": [\"acquirer\", \"acquisition\", \"act\", \"act\", \"act\", \"adviser\", \"alternative\", \"analyst\", \"announcement\", \"applicant\", \"application\", \"authorised\", \"authority\", \"authority\", \"board\", \"board\", \"board\", \"case\", \"case\", \"case\", \"certificate\", \"clear\", \"clearing\", \"client\", \"committee\", \"company\", \"company\", \"convertible\", \"convertible\", \"corporation\", \"date\", \"date\", \"debt\", \"decision\", \"decision\", \"depository\", \"designate\", \"designate\", \"director\", \"director\", \"director\", \"disclosure\", \"disclosure\", \"disclosure\", \"document\", \"document\", \"document\", \"entity\", \"equity\", \"equity\", \"exchange\", \"exchange\", \"fee\", \"fee\", \"financial\", \"financial\", \"financial\", \"foreign\", \"fund\", \"grant\", \"grant\", \"holder\", \"include\", \"include\", \"include\", \"information\", \"information\", \"information\", \"inspect\", \"inspection\", \"investment\", \"investor\", \"investor\", \"investor\", \"invit\", \"issue\", \"issue\", \"issue\", \"issuer\", \"list\", \"listed\", \"manager\", \"member\", \"member\", \"non\", \"non\", \"non\", \"notice\", \"offer\", \"officer\", \"officer\", \"open\", \"participant\", \"party\", \"person\", \"person\", \"person\", \"portfolio\", \"portfolio\", \"portfolio\", \"price\", \"proceeding\", \"provision\", \"provision\", \"provision\", \"public\", \"public\", \"public\", \"recognise\", \"recognize\", \"record\", \"record\", \"record\", \"registration\", \"reit\", \"report\", \"report\", \"requirement\", \"requirement\", \"research\", \"respect\", \"respect\", \"respect\", \"right\", \"right\", \"scheme\", \"sebi\", \"sebi\", \"security\", \"security\", \"security\", \"settlement\", \"settlement\", \"shall\", \"shall\", \"shall\", \"share\", \"share\", \"shareholder\", \"shareholder\", \"shareholder\", \"specify\", \"specify\", \"specify\", \"stock\", \"sub\", \"sub\", \"sub\", \"target\", \"term\", \"term\", \"term\", \"time\", \"time\", \"transaction\", \"transaction\", \"trust\", \"trustee\", \"trustee\", \"trustee\", \"unit\", \"unit\", \"valuer\", \"valuer\", \"voting\"]}, \"R\": 30, \"lambda.step\": 0.01, \"plot.opts\": {\"xlab\": \"PC1\", \"ylab\": \"PC2\"}, \"topic.order\": [3, 2, 1]};\n",
       "\n",
       "function LDAvis_load_lib(url, callback){\n",
       "  var s = document.createElement('script');\n",
       "  s.src = url;\n",
       "  s.async = true;\n",
       "  s.onreadystatechange = s.onload = callback;\n",
       "  s.onerror = function(){console.warn(\"failed to load library \" + url);};\n",
       "  document.getElementsByTagName(\"head\")[0].appendChild(s);\n",
       "}\n",
       "\n",
       "if(typeof(LDAvis) !== \"undefined\"){\n",
       "   // already loaded: just create the visualization\n",
       "   !function(LDAvis){\n",
       "       new LDAvis(\"#\" + \"ldavis_el259221400667046519926742142763\", ldavis_el259221400667046519926742142763_data);\n",
       "   }(LDAvis);\n",
       "}else if(typeof define === \"function\" && define.amd){\n",
       "   // require.js is available: use it to load d3/LDAvis\n",
       "   require.config({paths: {d3: \"https://cdnjs.cloudflare.com/ajax/libs/d3/3.5.5/d3.min\"}});\n",
       "   require([\"d3\"], function(d3){\n",
       "      window.d3 = d3;\n",
       "      LDAvis_load_lib(\"https://cdn.rawgit.com/bmabey/pyLDAvis/files/ldavis.v1.0.0.js\", function(){\n",
       "        new LDAvis(\"#\" + \"ldavis_el259221400667046519926742142763\", ldavis_el259221400667046519926742142763_data);\n",
       "      });\n",
       "    });\n",
       "}else{\n",
       "    // require.js not available: dynamically load d3 & LDAvis\n",
       "    LDAvis_load_lib(\"https://cdnjs.cloudflare.com/ajax/libs/d3/3.5.5/d3.min.js\", function(){\n",
       "         LDAvis_load_lib(\"https://cdn.rawgit.com/bmabey/pyLDAvis/files/ldavis.v1.0.0.js\", function(){\n",
       "                 new LDAvis(\"#\" + \"ldavis_el259221400667046519926742142763\", ldavis_el259221400667046519926742142763_data);\n",
       "            })\n",
       "         });\n",
       "}\n",
       "</script>"
      ],
      "text/plain": [
       "<IPython.core.display.HTML object>"
      ]
     },
     "execution_count": 51,
     "metadata": {},
     "output_type": "execute_result"
    }
   ],
   "source": [
    "pyLDAvis.display(p)"
   ]
  },
  {
   "cell_type": "code",
   "execution_count": 52,
   "metadata": {},
   "outputs": [],
   "source": [
    "p_df = p.topic_info\n",
    "l=0\n",
    "tlist = []\n",
    "flist = []\n",
    "while(l<p_df.shape[0]):\n",
    "    if(p_df.iloc[l]['Category'] != 'Default'):\n",
    "        tlist.append(p_df.iloc[l]['Term'])\n",
    "        flist.append(p_df.iloc[l]['Total'])\n",
    "    l = l+1"
   ]
  },
  {
   "cell_type": "markdown",
   "metadata": {},
   "source": [
    "#### Tag words for accounting"
   ]
  },
  {
   "cell_type": "code",
   "execution_count": 53,
   "metadata": {},
   "outputs": [],
   "source": [
    "acc1 = pd.read_csv('/home/deepti-saravanan/Desktop/lexpredict-legal-dictionary-master/en/accounting/ifrs_iasb.csv', usecols=['Term'])\n",
    "acc2 = pd.read_csv('/home/deepti-saravanan/Desktop/lexpredict-legal-dictionary-master/en/accounting/uk_gaap.csv', usecols=['Term'])\n",
    "acc3 = pd.read_csv('/home/deepti-saravanan/Desktop/lexpredict-legal-dictionary-master/en/accounting/us_fasb.csv', usecols=['Term'])\n",
    "acc4 = pd.read_csv('/home/deepti-saravanan/Desktop/lexpredict-legal-dictionary-master/en/accounting/us_gaap.csv', usecols=['Term'])\n",
    "acc5 = pd.read_csv('/home/deepti-saravanan/Desktop/lexpredict-legal-dictionary-master/en/accounting/us_gasb.csv', usecols=['Term'])"
   ]
  },
  {
   "cell_type": "code",
   "execution_count": 54,
   "metadata": {},
   "outputs": [],
   "source": [
    "acc1 = acc1.append(acc2)\n",
    "acc1 = acc1.append(acc3)\n",
    "acc1 = acc1.append(acc4)\n",
    "acc1 = acc1.append(acc5)\n",
    "a11 = acc1.values.tolist()\n",
    "\n",
    "a1 = []\n",
    "for i in a11:\n",
    "    a1.append(i[0])\n",
    "    \n",
    "g1 = groups.values.tolist()\n",
    "g = []\n",
    "for j in g1:\n",
    "    g.append(j[1])"
   ]
  },
  {
   "cell_type": "code",
   "execution_count": 55,
   "metadata": {},
   "outputs": [],
   "source": [
    "account = []\n",
    "\n",
    "for n in a1:\n",
    "    k=0\n",
    "    while(k<len(g)):\n",
    "        if(g[k] == n):\n",
    "            if(n not in account):\n",
    "                account.append(n)\n",
    "        k = k+1"
   ]
  },
  {
   "cell_type": "code",
   "execution_count": 56,
   "metadata": {},
   "outputs": [
    {
     "data": {
      "text/plain": [
       "['accounting',\n",
       " 'acquirer',\n",
       " 'acquisition',\n",
       " 'agency',\n",
       " 'audit',\n",
       " 'bond',\n",
       " 'broker',\n",
       " 'capital',\n",
       " 'cash',\n",
       " 'chairman',\n",
       " 'charge',\n",
       " 'control',\n",
       " 'cost',\n",
       " 'coupon',\n",
       " 'credit',\n",
       " 'debenture',\n",
       " 'default',\n",
       " 'director',\n",
       " 'dividend',\n",
       " 'entity',\n",
       " 'equity',\n",
       " 'expense',\n",
       " 'format',\n",
       " 'group',\n",
       " 'inventory',\n",
       " 'management',\n",
       " 'margin',\n",
       " 'material',\n",
       " 'materiality',\n",
       " 'maturity',\n",
       " 'memorandum',\n",
       " 'merger',\n",
       " 'net',\n",
       " 'partnership',\n",
       " 'portfolio',\n",
       " 'principal',\n",
       " 'profit',\n",
       " 'prospectus',\n",
       " 'provision',\n",
       " 'recognition',\n",
       " 'return',\n",
       " 'revenue',\n",
       " 'risk',\n",
       " 'stock',\n",
       " 'substance',\n",
       " 'turnover',\n",
       " 'unlisted',\n",
       " 'agent',\n",
       " 'asset',\n",
       " 'associate',\n",
       " 'business',\n",
       " 'derivative',\n",
       " 'development',\n",
       " 'income',\n",
       " 'lease',\n",
       " 'liability',\n",
       " 'performance',\n",
       " 'probable',\n",
       " 'loss',\n",
       " 'research',\n",
       " 'restriction',\n",
       " 'state',\n",
       " 'subsidiary',\n",
       " 'vest',\n",
       " 'yield']"
      ]
     },
     "execution_count": 56,
     "metadata": {},
     "output_type": "execute_result"
    }
   ],
   "source": [
    "account"
   ]
  },
  {
   "cell_type": "code",
   "execution_count": 57,
   "metadata": {},
   "outputs": [
    {
     "name": "stdout",
     "output_type": "stream",
     "text": [
      "[0, 1, 2, 0, 1, 2, 0, 1, 2, 0, 1, 2, 0, 1, 2, 0, 1, 2, 0, 2, 0, 1, 2, 0, 2, 0, 1, 2, 0, 1, 2, 0, 1, 2, 0, 1, 2, 2, 0, 1, 2, 0, 1, 2, 0, 1, 2, 0, 1, 2, 0, 1, 2, 0, 1, 2, 0, 1, 2, 2, 0, 2, 0, 1, 2, 0, 0, 1, 2, 1, 0, 1, 2, 1, 0, 0, 1, 2, 0, 0, 2, 0, 1, 2, 0, 1, 2, 0, 2, 0, 1, 2, 1, 2, 0, 1, 2, 0, 1, 2, 0, 0, 1, 2, 0, 1, 2, 0, 1, 2, 0, 2, 0, 2, 0, 1, 2, 0, 1, 2, 0, 1, 2, 0, 1, 2, 0, 1, 2, 0, 2, 0, 2, 0, 0, 1, 2, 1, 0, 0, 1, 0, 1, 2, 0, 2, 0, 1, 2, 0, 1, 2, 1, 2, 1]\n",
      "['accounting', 'accounting', 'accounting', 'acquirer', 'acquirer', 'acquirer', 'acquisition', 'acquisition', 'acquisition', 'agency', 'agency', 'agency', 'audit', 'audit', 'audit', 'bond', 'bond', 'bond', 'broker', 'broker', 'capital', 'capital', 'capital', 'cash', 'cash', 'chairman', 'chairman', 'chairman', 'charge', 'charge', 'charge', 'control', 'control', 'control', 'cost', 'cost', 'cost', 'coupon', 'credit', 'credit', 'credit', 'debenture', 'debenture', 'debenture', 'default', 'default', 'default', 'director', 'director', 'director', 'dividend', 'dividend', 'dividend', 'entity', 'entity', 'entity', 'equity', 'equity', 'equity', 'expense', 'format', 'format', 'group', 'group', 'group', 'inventory', 'management', 'management', 'management', 'margin', 'material', 'material', 'material', 'materiality', 'maturity', 'memorandum', 'memorandum', 'memorandum', 'merger', 'net', 'net', 'partnership', 'partnership', 'partnership', 'portfolio', 'portfolio', 'portfolio', 'principal', 'principal', 'profit', 'profit', 'profit', 'prospectus', 'prospectus', 'provision', 'provision', 'provision', 'recognition', 'recognition', 'recognition', 'return', 'revenue', 'revenue', 'revenue', 'risk', 'risk', 'risk', 'stock', 'stock', 'stock', 'substance', 'turnover', 'unlisted', 'unlisted', 'agent', 'agent', 'agent', 'asset', 'asset', 'asset', 'associate', 'associate', 'associate', 'business', 'business', 'business', 'derivative', 'derivative', 'derivative', 'development', 'development', 'income', 'income', 'lease', 'liability', 'liability', 'liability', 'performance', 'probable', 'loss', 'loss', 'research', 'research', 'research', 'restriction', 'restriction', 'state', 'state', 'state', 'subsidiary', 'subsidiary', 'subsidiary', 'vest', 'vest', 'yield']\n",
      "[2, 1, 2, 31, 37, 46, 11, 6, 49, 5, 9, 2, 7, 10, 14, 3, 1, 4, 4, 5, 11, 3, 5, 1, 4, 1, 4, 1, 6, 9, 4, 6, 7, 16, 2, 3, 4, 1, 3, 8, 9, 4, 9, 9, 9, 4, 4, 86, 71, 60, 2, 2, 5, 150, 116, 156, 16, 11, 9, 4, 3, 2, 13, 3, 4, 1, 9, 12, 9, 1, 10, 9, 10, 1, 1, 2, 5, 7, 2, 1, 3, 2, 2, 4, 51, 45, 50, 1, 1, 5, 1, 4, 2, 3, 30, 28, 33, 5, 4, 8, 1, 2, 1, 1, 8, 3, 3, 70, 61, 62, 1, 1, 1, 2, 9, 6, 8, 10, 17, 14, 7, 3, 23, 7, 3, 11, 4, 1, 6, 1, 2, 1, 2, 4, 4, 4, 6, 3, 1, 5, 1, 35, 36, 49, 1, 3, 7, 4, 3, 2, 8, 5, 1, 1, 1]\n"
     ]
    }
   ],
   "source": [
    "regtext = pd.read_csv('../code/ngram-dbscan.csv')\n",
    "reg = regtext.values.tolist()\n",
    "label = []\n",
    "word = []\n",
    "freq = []\n",
    "for i in account:\n",
    "    k=0\n",
    "    while(k<len(reg)):\n",
    "        r = reg[k]\n",
    "        if(i == r[1]):\n",
    "            if(r[2] != 0):\n",
    "                label.append(r[0])\n",
    "                word.append(i)\n",
    "                freq.append(r[2])\n",
    "        k=k+1\n",
    "print(label)\n",
    "print(word)\n",
    "print(freq)"
   ]
  },
  {
   "cell_type": "markdown",
   "metadata": {},
   "source": [
    "#### Percentage accounting tag words clusterwise"
   ]
  },
  {
   "cell_type": "code",
   "execution_count": 58,
   "metadata": {},
   "outputs": [
    {
     "name": "stdout",
     "output_type": "stream",
     "text": [
      "5484\n",
      "5261\n",
      "6494\n"
     ]
    }
   ],
   "source": [
    "#Word counts clusterwise\n",
    "k=0\n",
    "c0 = 0\n",
    "c1 = 0\n",
    "c2 = 0\n",
    "#c3 = 0\n",
    "\n",
    "while(k<len(reg)):\n",
    "    r = reg[k]\n",
    "    if(r[0] == 0):\n",
    "        c0 = c0 + r[2]\n",
    "    elif(r[0] == 1):\n",
    "        c1 = c1 + r[2]\n",
    "    #elif(r[0] == 2):\n",
    "    #    c2 = c2 + r[2]\n",
    "    else:\n",
    "        c2 = c2 + r[2]\n",
    "    k=k+1\n",
    "print(c0)\n",
    "print(c1)\n",
    "print(c2)\n",
    "#print(c3)"
   ]
  },
  {
   "cell_type": "code",
   "execution_count": 59,
   "metadata": {},
   "outputs": [
    {
     "name": "stdout",
     "output_type": "stream",
     "text": [
      "12.345003646973012\n",
      "10.967496673636191\n",
      "11.595318755774562\n"
     ]
    }
   ],
   "source": [
    "#Percentage wrt frequency of other accounting terms within cluster\n",
    "sum0=0\n",
    "sum1=0\n",
    "sum2=0\n",
    "#sum3=0\n",
    "\n",
    "i=0\n",
    "while(i<len(label)):\n",
    "    if(label[i] == 0):\n",
    "        sum0 = sum0 + freq[i]\n",
    "    elif(label[i] == 1):\n",
    "        sum1 = sum1 + freq[i]\n",
    "    #elif(label[i] == 2):\n",
    "    #    sum2 = sum2 + freq[i]\n",
    "    else:\n",
    "        sum2 = sum2 + freq[i]\n",
    "    i=i+1\n",
    "s0=0\n",
    "s1=0\n",
    "s2=0\n",
    "#s3=0\n",
    "\n",
    "s0 = sum0/c0\n",
    "s1 = sum1/c1\n",
    "s2 = sum2/c2\n",
    "#s3 = sum3/c3\n",
    "\n",
    "print(s0*100)\n",
    "print(s1*100)\n",
    "print(s2*100)\n",
    "#print(s3*100)"
   ]
  },
  {
   "cell_type": "markdown",
   "metadata": {},
   "source": [
    "#### Relative to global frequency"
   ]
  },
  {
   "cell_type": "code",
   "execution_count": 60,
   "metadata": {},
   "outputs": [
    {
     "name": "stdout",
     "output_type": "stream",
     "text": [
      "32.89272659971025\n",
      "28.33195401530547\n",
      "38.49614629320296\n"
     ]
    }
   ],
   "source": [
    "#Percentage wrt global frequency of accounting terms\n",
    "t1=0\n",
    "t2=0\n",
    "t0=0\n",
    "#t3=0\n",
    "\n",
    "count1 = 0\n",
    "count2 = 0\n",
    "count0 = 0\n",
    "#count3=0\n",
    "l=0\n",
    "while(l<len(word)):\n",
    "    #r = reg[l]\n",
    "    if(label[l] == 0):\n",
    "        f=0\n",
    "        for i in tlist:\n",
    "            if(i == word[l]):\n",
    "                t0 = t0 + freq[l]/flist[f]\n",
    "                count0 = count0+1\n",
    "                break\n",
    "            f=f+1\n",
    "        #if(d==0):\n",
    "        #    t0 = t0 + 1\n",
    "        #    count0 = count0+1\n",
    "    elif(label[l] == 1):\n",
    "        f=0\n",
    "        for i in tlist:\n",
    "            if(i == word[l]):\n",
    "                t1 = t1 + freq[l]/flist[f]\n",
    "                count1 = count1+1\n",
    "                break\n",
    "            f=f+1\n",
    "        #if(d==0):\n",
    "        #    t1 = t1 + 1\n",
    "        #    count1 = count1+1\n",
    "    #elif(label[l] == 2):\n",
    "    #    f=0\n",
    "    #    for i in tlist:\n",
    "    #        if(i == word[l]):\n",
    "    #            t2 = t2 + freq[l]/flist[f]\n",
    "    #            count2 = count2+1\n",
    "    #            break\n",
    "    #        f=f+1\n",
    "        #if(d==0):\n",
    "        #    t2 = t2 + 1\n",
    "        #    count2 = count2+1\n",
    "    else:\n",
    "        f=0\n",
    "        for i in tlist:\n",
    "            if(i == word[l]):\n",
    "                t2 = t2 + freq[l]/flist[f]\n",
    "                count2 = count2+1\n",
    "                break\n",
    "            f=f+1\n",
    "        #if(d==0):\n",
    "        #    t3 = t3 + 1\n",
    "        #    count3 = count3+1\n",
    "    l=l+1\n",
    "\n",
    "s0 = t0/count0\n",
    "s1 = t1/count1\n",
    "s2 = t2/count2\n",
    "#s3 = t3/count3\n",
    "\n",
    "print(s0*100)\n",
    "print(s1*100)\n",
    "print(s2*100)\n",
    "#print(s3*100)"
   ]
  },
  {
   "cell_type": "markdown",
   "metadata": {},
   "source": [
    "#### Tag words for finance"
   ]
  },
  {
   "cell_type": "code",
   "execution_count": 61,
   "metadata": {},
   "outputs": [],
   "source": [
    "fin = pd.read_csv('/home/deepti-saravanan/Desktop/lexpredict-legal-dictionary-master/en/financial/financial.csv', usecols=['term'])"
   ]
  },
  {
   "cell_type": "code",
   "execution_count": 62,
   "metadata": {},
   "outputs": [],
   "source": [
    "f1 = fin.values.tolist()\n",
    "f = []\n",
    "for i in f1:\n",
    "    f.append(i[0])"
   ]
  },
  {
   "cell_type": "code",
   "execution_count": 63,
   "metadata": {},
   "outputs": [],
   "source": [
    "finance = []\n",
    "\n",
    "for n in f:\n",
    "    k=0\n",
    "    while(k<len(g)):\n",
    "        if(g[k] == n):\n",
    "            if(n not in finance):\n",
    "                finance.append(n)\n",
    "        k = k+1"
   ]
  },
  {
   "cell_type": "code",
   "execution_count": 64,
   "metadata": {},
   "outputs": [
    {
     "name": "stdout",
     "output_type": "stream",
     "text": [
      "[0, 1, 2, 0, 1, 2, 0, 1, 2, 0, 2, 0, 1, 2, 0, 1, 2, 0, 1, 0, 1, 2, 0, 1, 2, 0, 1, 2, 0, 1, 2, 0, 2, 0, 1, 2, 0, 1, 2, 0, 1, 2, 0, 1, 2, 0, 1, 2, 2, 0, 0, 1, 2, 0, 1, 2, 0, 1, 2, 0, 2, 1, 2, 2, 0, 1, 2, 1, 0, 1, 2, 2, 0, 1, 2, 2, 0, 2, 1, 0, 1, 2, 1, 2]\n",
      "['account', 'account', 'account', 'asset', 'asset', 'asset', 'basis', 'basis', 'basis', 'broker', 'broker', 'business', 'business', 'business', 'buy', 'buy', 'buy', 'commission', 'commission', 'debenture', 'debenture', 'debenture', 'dividend', 'dividend', 'dividend', 'equity', 'equity', 'equity', 'exchange', 'exchange', 'exchange', 'income', 'income', 'holding', 'holding', 'holding', 'information', 'information', 'information', 'institution', 'institution', 'institution', 'investment', 'investment', 'investment', 'issuer', 'issuer', 'issuer', 'lot', 'maturity', 'option', 'option', 'option', 'portfolio', 'portfolio', 'portfolio', 'price', 'price', 'price', 'principal', 'principal', 'prospectus', 'prospectus', 'quantity', 'right', 'right', 'right', 'sell', 'trade', 'trade', 'trade', 'turnover', 'unit', 'unit', 'unit', 'vesting', 'volume', 'volume', 'yield', 'default', 'default', 'default', 'insurance', 'insurance']\n",
      "[13, 18, 22, 10, 17, 14, 1, 3, 2, 4, 5, 7, 3, 11, 3, 5, 7, 5, 3, 4, 9, 9, 2, 2, 5, 16, 11, 9, 60, 51, 58, 1, 2, 7, 2, 5, 24, 27, 26, 10, 4, 3, 72, 77, 139, 80, 60, 94, 1, 1, 7, 6, 6, 51, 45, 50, 8, 14, 21, 1, 1, 2, 3, 1, 19, 13, 32, 1, 3, 3, 8, 1, 26, 22, 38, 1, 2, 11, 1, 9, 4, 4, 1, 4]\n"
     ]
    }
   ],
   "source": [
    "label = []\n",
    "word = []\n",
    "freq = []\n",
    "for i in finance:\n",
    "    k=0\n",
    "    while(k<len(reg)):\n",
    "        r = reg[k]\n",
    "        if(i == r[1]):\n",
    "            if(r[2] != 0):\n",
    "                label.append(r[0])\n",
    "                word.append(i)\n",
    "                freq.append(r[2])\n",
    "        k=k+1\n",
    "print(label)\n",
    "print(word)\n",
    "print(freq)"
   ]
  },
  {
   "cell_type": "code",
   "execution_count": null,
   "metadata": {},
   "outputs": [],
   "source": []
  },
  {
   "cell_type": "code",
   "execution_count": 65,
   "metadata": {},
   "outputs": [
    {
     "name": "stdout",
     "output_type": "stream",
     "text": [
      "8.13274981765135\n",
      "7.679148450864854\n",
      "9.131506005543578\n"
     ]
    }
   ],
   "source": [
    "#Percentage wrt frequency of other accounting terms within cluster\n",
    "sum0=0\n",
    "sum1=0\n",
    "sum2=0\n",
    "#sum3=0\n",
    "\n",
    "i=0\n",
    "while(i<len(label)):\n",
    "    if(label[i] == 0):\n",
    "        sum0 = sum0 + freq[i]\n",
    "    elif(label[i] == 1):\n",
    "        sum1 = sum1 + freq[i]\n",
    "    #elif(label[i] == 2):\n",
    "    #    sum2 = sum2 + freq[i]\n",
    "    else:\n",
    "        sum2 = sum2 + freq[i]\n",
    "    i=i+1\n",
    "s0=0\n",
    "s1=0\n",
    "s2=0\n",
    "#s3=0\n",
    "\n",
    "s0 = sum0/c0\n",
    "s1 = sum1/c1\n",
    "s2 = sum2/c2\n",
    "#s3 = sum3/c3\n",
    "\n",
    "print(s0*100)\n",
    "print(s1*100)\n",
    "print(s2*100)\n",
    "#print(s3*100)"
   ]
  },
  {
   "cell_type": "code",
   "execution_count": null,
   "metadata": {},
   "outputs": [],
   "source": []
  },
  {
   "cell_type": "code",
   "execution_count": 66,
   "metadata": {},
   "outputs": [
    {
     "name": "stdout",
     "output_type": "stream",
     "text": [
      "31.298311351725232\n",
      "28.410842978066526\n",
      "39.58594749786607\n"
     ]
    }
   ],
   "source": [
    "#Percentage wrt global frequency of accounting terms\n",
    "t1=0\n",
    "t2=0\n",
    "t0=0\n",
    "#t3=0\n",
    "\n",
    "count1 = 0\n",
    "count2 = 0\n",
    "count0 = 0\n",
    "#count3=0\n",
    "l=0\n",
    "while(l<len(word)):\n",
    "    #r = reg[l]\n",
    "    if(label[l] == 0):\n",
    "        f=0\n",
    "        for i in tlist:\n",
    "            if(i == word[l]):\n",
    "                t0 = t0 + freq[l]/flist[f]\n",
    "                count0 = count0+1\n",
    "                break\n",
    "            f=f+1\n",
    "        #if(d==0):\n",
    "        #    t0 = t0 + 1\n",
    "        #    count0 = count0+1\n",
    "    elif(label[l] == 1):\n",
    "        f=0\n",
    "        for i in tlist:\n",
    "            if(i == word[l]):\n",
    "                t1 = t1 + freq[l]/flist[f]\n",
    "                count1 = count1+1\n",
    "                break\n",
    "            f=f+1\n",
    "        #if(d==0):\n",
    "        #    t1 = t1 + 1\n",
    "        #    count1 = count1+1\n",
    "    #elif(label[l] == 2):\n",
    "    #    f=0\n",
    "    #    for i in tlist:\n",
    "    #        if(i == word[l]):\n",
    "    #            t2 = t2 + freq[l]/flist[f]\n",
    "    #            count2 = count2+1\n",
    "    #            break\n",
    "    #        f=f+1\n",
    "        #if(d==0):\n",
    "        #    t2 = t2 + 1\n",
    "        #    count2 = count2+1\n",
    "    else:\n",
    "        f=0\n",
    "        for i in tlist:\n",
    "            if(i == word[l]):\n",
    "                t2 = t2 + freq[l]/flist[f]\n",
    "                count2 = count2+1\n",
    "                break\n",
    "            f=f+1\n",
    "        #if(d==0):\n",
    "        #    t3 = t3 + 1\n",
    "        #    count3 = count3+1\n",
    "    l=l+1\n",
    "\n",
    "s0 = t0/count0\n",
    "s1 = t1/count1\n",
    "s2 = t2/count2\n",
    "#s3 = t3/count3\n",
    "\n",
    "print(s0*100)\n",
    "print(s1*100)\n",
    "print(s2*100)\n",
    "#print(s3*100)"
   ]
  },
  {
   "cell_type": "markdown",
   "metadata": {},
   "source": [
    "#### Tag words for Banking"
   ]
  },
  {
   "cell_type": "code",
   "execution_count": 67,
   "metadata": {},
   "outputs": [],
   "source": [
    "bank = pd.read_csv('/home/deepti-saravanan/Desktop/laws/semantics/code/banking.csv')"
   ]
  },
  {
   "cell_type": "code",
   "execution_count": 68,
   "metadata": {},
   "outputs": [],
   "source": [
    "b1 = bank.values.tolist()\n",
    "b2 = []\n",
    "for i in b1:\n",
    "    b2.append(i[0])"
   ]
  },
  {
   "cell_type": "code",
   "execution_count": 69,
   "metadata": {},
   "outputs": [],
   "source": [
    "banking = []\n",
    "\n",
    "for n in b2:\n",
    "    k=0\n",
    "    while(k<len(g)):\n",
    "        if(g[k] == n):\n",
    "            if(n not in banking):\n",
    "                banking.append(n)\n",
    "        k = k+1"
   ]
  },
  {
   "cell_type": "code",
   "execution_count": 70,
   "metadata": {},
   "outputs": [
    {
     "data": {
      "text/plain": [
       "['affidavit',\n",
       " 'alteration',\n",
       " 'application',\n",
       " 'bank',\n",
       " 'bankruptcy',\n",
       " 'bond',\n",
       " 'deposit',\n",
       " 'collateral',\n",
       " 'debit',\n",
       " 'draft',\n",
       " 'escrow',\n",
       " 'fiduciary',\n",
       " 'hold',\n",
       " 'insurance',\n",
       " 'lease',\n",
       " 'lender',\n",
       " 'lien',\n",
       " 'maturity',\n",
       " 'payment',\n",
       " 'refund',\n",
       " 'renewal',\n",
       " 'statement',\n",
       " 'transfer']"
      ]
     },
     "execution_count": 70,
     "metadata": {},
     "output_type": "execute_result"
    }
   ],
   "source": [
    "banking"
   ]
  },
  {
   "cell_type": "code",
   "execution_count": 71,
   "metadata": {},
   "outputs": [
    {
     "name": "stdout",
     "output_type": "stream",
     "text": [
      "[0, 2, 2, 0, 1, 2, 0, 1, 2, 2, 0, 1, 2, 0, 1, 2, 1, 2, 2, 0, 1, 2, 0, 1, 2, 0, 2, 0, 1, 2, 1, 2, 0, 2, 0, 0, 0, 1, 2, 0, 1, 2, 0, 1, 2, 0, 1, 2, 0, 1, 2]\n",
      "['affidavit', 'affidavit', 'alteration', 'application', 'application', 'application', 'bank', 'bank', 'bank', 'bankruptcy', 'bond', 'bond', 'bond', 'deposit', 'deposit', 'deposit', 'collateral', 'collateral', 'debit', 'draft', 'draft', 'draft', 'escrow', 'escrow', 'escrow', 'fiduciary', 'fiduciary', 'hold', 'hold', 'hold', 'insurance', 'insurance', 'lease', 'lender', 'lien', 'maturity', 'payment', 'payment', 'payment', 'refund', 'refund', 'refund', 'renewal', 'renewal', 'renewal', 'statement', 'statement', 'statement', 'transfer', 'transfer', 'transfer']\n",
      "[1, 1, 1, 50, 37, 49, 14, 8, 10, 3, 3, 1, 4, 1, 2, 2, 1, 1, 1, 8, 10, 15, 1, 7, 1, 1, 1, 10, 11, 12, 1, 4, 4, 1, 2, 1, 7, 12, 4, 2, 4, 3, 2, 1, 4, 13, 11, 16, 6, 6, 8]\n"
     ]
    }
   ],
   "source": [
    "label = []\n",
    "word = []\n",
    "freq = []\n",
    "for i in banking:\n",
    "    k=0\n",
    "    while(k<len(reg)):\n",
    "        r = reg[k]\n",
    "        if(i == r[1]):\n",
    "            if(r[2] != 0):\n",
    "                label.append(r[0])\n",
    "                word.append(i)\n",
    "                freq.append(r[2])\n",
    "        k=k+1\n",
    "print(label)\n",
    "print(word)\n",
    "print(freq)"
   ]
  },
  {
   "cell_type": "code",
   "execution_count": 72,
   "metadata": {},
   "outputs": [
    {
     "name": "stdout",
     "output_type": "stream",
     "text": [
      "2.297592997811816\n",
      "2.128872837863524\n",
      "2.1712349861410534\n"
     ]
    }
   ],
   "source": [
    "#Percentage wrt frequency of other accounting terms within cluster\n",
    "sum0=0\n",
    "sum1=0\n",
    "sum2=0\n",
    "#sum3=0\n",
    "\n",
    "i=0\n",
    "while(i<len(label)):\n",
    "    if(label[i] == 0):\n",
    "        sum0 = sum0 + freq[i]\n",
    "    elif(label[i] == 1):\n",
    "        sum1 = sum1 + freq[i]\n",
    "    #elif(label[i] == 2):\n",
    "    #    sum2 = sum2 + freq[i]\n",
    "    else:\n",
    "        sum2 = sum2 + freq[i]\n",
    "    i=i+1\n",
    "s0=0\n",
    "s1=0\n",
    "s2=0\n",
    "#s3=0\n",
    "\n",
    "s0 = sum0/c0\n",
    "s1 = sum1/c1\n",
    "s2 = sum2/c2\n",
    "#s3 = sum3/c3\n",
    "\n",
    "print(s0*100)\n",
    "print(s1*100)\n",
    "print(s2*100)\n",
    "#print(s3*100)"
   ]
  },
  {
   "cell_type": "code",
   "execution_count": 73,
   "metadata": {},
   "outputs": [
    {
     "name": "stdout",
     "output_type": "stream",
     "text": [
      "37.49366213240687\n",
      "27.74530997798108\n",
      "36.743788889758726\n"
     ]
    }
   ],
   "source": [
    "#Percentage wrt global frequency of accounting terms\n",
    "t1=0\n",
    "t2=0\n",
    "t0=0\n",
    "#t3=0\n",
    "\n",
    "count1 = 0\n",
    "count2 = 0\n",
    "count0 = 0\n",
    "#count3=0\n",
    "l=0\n",
    "while(l<len(word)):\n",
    "    #r = reg[l]\n",
    "    if(label[l] == 0):\n",
    "        f=0\n",
    "        for i in tlist:\n",
    "            if(i == word[l]):\n",
    "                t0 = t0 + freq[l]/flist[f]\n",
    "                count0 = count0+1\n",
    "                break\n",
    "            f=f+1\n",
    "        #if(d==0):\n",
    "        #    t0 = t0 + 1\n",
    "        #    count0 = count0+1\n",
    "    elif(label[l] == 1):\n",
    "        f=0\n",
    "        for i in tlist:\n",
    "            if(i == word[l]):\n",
    "                t1 = t1 + freq[l]/flist[f]\n",
    "                count1 = count1+1\n",
    "                break\n",
    "            f=f+1\n",
    "        #if(d==0):\n",
    "        #    t1 = t1 + 1\n",
    "        #    count1 = count1+1\n",
    "    #elif(label[l] == 2):\n",
    "    #    f=0\n",
    "    #    for i in tlist:\n",
    "    #        if(i == word[l]):\n",
    "    #            t2 = t2 + freq[l]/flist[f]\n",
    "    #            count2 = count2+1\n",
    "    #            break\n",
    "    #        f=f+1\n",
    "        #if(d==0):\n",
    "        #    t2 = t2 + 1\n",
    "        #    count2 = count2+1\n",
    "    else:\n",
    "        f=0\n",
    "        for i in tlist:\n",
    "            if(i == word[l]):\n",
    "                t2 = t2 + freq[l]/flist[f]\n",
    "                count2 = count2+1\n",
    "                break\n",
    "            f=f+1\n",
    "        #if(d==0):\n",
    "        #    t3 = t3 + 1\n",
    "        #    count3 = count3+1\n",
    "    l=l+1\n",
    "\n",
    "s0 = t0/count0\n",
    "s1 = t1/count1\n",
    "s2 = t2/count2\n",
    "#s3 = t3/count3\n",
    "\n",
    "print(s0*100)\n",
    "print(s1*100)\n",
    "print(s2*100)\n",
    "#print(s3*100)"
   ]
  },
  {
   "cell_type": "markdown",
   "metadata": {},
   "source": [
    "#### Tag words for Capital Market"
   ]
  },
  {
   "cell_type": "code",
   "execution_count": 74,
   "metadata": {},
   "outputs": [],
   "source": [
    "cap = pd.read_csv('/home/deepti-saravanan/Desktop/laws/semantics/CapMarket.csv')"
   ]
  },
  {
   "cell_type": "code",
   "execution_count": 75,
   "metadata": {},
   "outputs": [],
   "source": [
    "capm1 = cap.values.tolist()\n",
    "c = []\n",
    "for i in capm1:\n",
    "    c.append(i[0])"
   ]
  },
  {
   "cell_type": "code",
   "execution_count": 76,
   "metadata": {},
   "outputs": [],
   "source": [
    "cap_market = []\n",
    "\n",
    "for n in c:\n",
    "    k=0\n",
    "    while(k<len(g)):\n",
    "        if(g[k] == n):\n",
    "            if(n not in cap_market):\n",
    "                cap_market.append(n)\n",
    "        k = k+1"
   ]
  },
  {
   "cell_type": "code",
   "execution_count": 77,
   "metadata": {},
   "outputs": [
    {
     "data": {
      "text/plain": [
       "['acquirer',\n",
       " 'adviser',\n",
       " 'analyst',\n",
       " 'intermediary',\n",
       " 'arbitration',\n",
       " 'securities',\n",
       " 'bond',\n",
       " 'auditor',\n",
       " 'authorized',\n",
       " 'authority',\n",
       " 'basis',\n",
       " 'broker',\n",
       " 'brokerage',\n",
       " 'market',\n",
       " 'clearing',\n",
       " 'coupon',\n",
       " 'cover',\n",
       " 'custodian',\n",
       " 'delivery',\n",
       " 'dematerialise',\n",
       " 'depository',\n",
       " 'derivative',\n",
       " 'disclosure',\n",
       " 'distribution',\n",
       " 'dividend',\n",
       " 'equity',\n",
       " 'ex',\n",
       " 'exchange',\n",
       " 'hypothecation',\n",
       " 'director',\n",
       " 'insider',\n",
       " 'trading',\n",
       " 'investment',\n",
       " 'issuer',\n",
       " 'liquidation',\n",
       " 'company',\n",
       " 'listed',\n",
       " 'list',\n",
       " 'listing',\n",
       " 'security',\n",
       " 'key',\n",
       " 'manager',\n",
       " 'managerial',\n",
       " 'margin',\n",
       " 'maturity',\n",
       " 'merger',\n",
       " 'option',\n",
       " 'plan',\n",
       " 'person',\n",
       " 'portfolio',\n",
       " 'price',\n",
       " 'sensitive',\n",
       " 'information',\n",
       " 'prospectus',\n",
       " 'proxy',\n",
       " 'split',\n",
       " 'stakeholder',\n",
       " 'transferor',\n",
       " 'trustee',\n",
       " 'underlying',\n",
       " 'underwriter',\n",
       " 'underwriting',\n",
       " 'value',\n",
       " 'vesting',\n",
       " 'warrant',\n",
       " 'stock',\n",
       " 'settlement',\n",
       " 'invest',\n",
       " 'promoter']"
      ]
     },
     "execution_count": 77,
     "metadata": {},
     "output_type": "execute_result"
    }
   ],
   "source": [
    "cap_market"
   ]
  },
  {
   "cell_type": "code",
   "execution_count": 78,
   "metadata": {},
   "outputs": [
    {
     "name": "stdout",
     "output_type": "stream",
     "text": [
      "[0, 1, 2, 0, 1, 2, 0, 1, 2, 0, 1, 2, 1, 1, 2, 0, 1, 2, 0, 1, 2, 0, 0, 1, 2, 0, 1, 2, 0, 2, 0, 1, 0, 1, 2, 0, 1, 2, 2, 0, 2, 0, 1, 2, 0, 0, 1, 2, 0, 1, 2, 0, 1, 2, 0, 1, 2, 0, 1, 2, 0, 1, 2, 0, 1, 2, 1, 0, 1, 2, 1, 0, 1, 2, 0, 2, 0, 1, 2, 0, 1, 2, 0, 1, 2, 2, 0, 1, 2, 0, 1, 2, 0, 1, 2, 0, 1, 2, 0, 1, 2, 0, 1, 2, 0, 1, 2, 0, 1, 1, 0, 0, 0, 1, 2, 0, 1, 2, 0, 1, 2, 0, 1, 2, 0, 1, 2, 0, 1, 2, 0, 1, 2, 1, 2, 0, 1, 2, 0, 2, 0, 1, 2, 0, 1, 2, 0, 1, 2, 0, 1, 2, 1, 0, 1, 2, 2, 1, 2, 0, 1, 2, 0, 1, 2, 0, 2, 0, 1, 2]\n",
      "['acquirer', 'acquirer', 'acquirer', 'adviser', 'adviser', 'adviser', 'analyst', 'analyst', 'analyst', 'intermediary', 'intermediary', 'intermediary', 'arbitration', 'securities', 'securities', 'bond', 'bond', 'bond', 'auditor', 'auditor', 'auditor', 'authorized', 'authority', 'authority', 'authority', 'basis', 'basis', 'basis', 'broker', 'broker', 'brokerage', 'brokerage', 'market', 'market', 'market', 'clearing', 'clearing', 'clearing', 'coupon', 'cover', 'cover', 'custodian', 'custodian', 'custodian', 'delivery', 'dematerialise', 'dematerialise', 'dematerialise', 'depository', 'depository', 'depository', 'derivative', 'derivative', 'derivative', 'disclosure', 'disclosure', 'disclosure', 'distribution', 'distribution', 'distribution', 'dividend', 'dividend', 'dividend', 'equity', 'equity', 'equity', 'ex', 'exchange', 'exchange', 'exchange', 'hypothecation', 'director', 'director', 'director', 'insider', 'insider', 'trading', 'trading', 'trading', 'investment', 'investment', 'investment', 'issuer', 'issuer', 'issuer', 'liquidation', 'company', 'company', 'company', 'listed', 'listed', 'listed', 'list', 'list', 'list', 'listing', 'listing', 'listing', 'security', 'security', 'security', 'key', 'key', 'key', 'manager', 'manager', 'manager', 'managerial', 'managerial', 'margin', 'maturity', 'merger', 'option', 'option', 'option', 'plan', 'plan', 'plan', 'person', 'person', 'person', 'portfolio', 'portfolio', 'portfolio', 'price', 'price', 'price', 'sensitive', 'sensitive', 'sensitive', 'information', 'information', 'information', 'prospectus', 'prospectus', 'proxy', 'proxy', 'proxy', 'split', 'split', 'stakeholder', 'stakeholder', 'stakeholder', 'transferor', 'transferor', 'transferor', 'trustee', 'trustee', 'trustee', 'underlying', 'underwriter', 'underwriter', 'underwriting', 'value', 'value', 'value', 'vesting', 'warrant', 'warrant', 'stock', 'stock', 'stock', 'settlement', 'settlement', 'settlement', 'invest', 'invest', 'promoter', 'promoter', 'promoter']\n",
      "[31, 37, 46, 15, 17, 19, 22, 19, 28, 6, 14, 5, 2, 1, 1, 3, 1, 4, 6, 6, 17, 1, 20, 24, 21, 1, 3, 2, 4, 5, 1, 1, 9, 7, 10, 15, 17, 18, 1, 3, 1, 2, 2, 2, 1, 2, 1, 3, 72, 54, 47, 4, 1, 6, 38, 23, 28, 1, 3, 4, 2, 2, 5, 16, 11, 9, 1, 60, 51, 58, 2, 86, 71, 60, 3, 2, 7, 1, 19, 72, 77, 139, 80, 60, 94, 1, 65, 82, 115, 13, 13, 12, 128, 102, 127, 2, 4, 2, 77, 64, 73, 5, 12, 2, 78, 92, 88, 1, 4, 1, 1, 2, 7, 6, 6, 5, 5, 4, 66, 83, 62, 51, 45, 50, 8, 14, 21, 4, 2, 1, 24, 27, 26, 2, 3, 2, 3, 2, 1, 1, 2, 2, 1, 3, 3, 1, 26, 30, 32, 1, 1, 1, 1, 7, 8, 8, 1, 8, 6, 70, 61, 62, 12, 29, 9, 1, 1, 10, 8, 10]\n"
     ]
    }
   ],
   "source": [
    "label = []\n",
    "word = []\n",
    "freq = []\n",
    "for i in cap_market:\n",
    "    k=0\n",
    "    while(k<len(reg)):\n",
    "        r = reg[k]\n",
    "        if(i == r[1]):\n",
    "            if(r[2] != 0):\n",
    "                label.append(r[0])\n",
    "                word.append(i)\n",
    "                freq.append(r[2])\n",
    "        k=k+1\n",
    "print(label)\n",
    "print(word)\n",
    "print(freq)"
   ]
  },
  {
   "cell_type": "code",
   "execution_count": 79,
   "metadata": {},
   "outputs": [
    {
     "name": "stdout",
     "output_type": "stream",
     "text": [
      "22.88475565280817\n",
      "23.208515491351452\n",
      "21.28118263012011\n"
     ]
    }
   ],
   "source": [
    "#Percentage wrt frequency of other accounting terms within cluster\n",
    "sum0=0\n",
    "sum1=0\n",
    "sum2=0\n",
    "#sum3=0\n",
    "\n",
    "i=0\n",
    "while(i<len(label)):\n",
    "    if(label[i] == 0):\n",
    "        sum0 = sum0 + freq[i]\n",
    "    elif(label[i] == 1):\n",
    "        sum1 = sum1 + freq[i]\n",
    "    #elif(label[i] == 2):\n",
    "    #    sum2 = sum2 + freq[i]\n",
    "    else:\n",
    "        sum2 = sum2 + freq[i]\n",
    "    i=i+1\n",
    "s0=0\n",
    "s1=0\n",
    "s2=0\n",
    "#s3=0\n",
    "\n",
    "s0 = sum0/c0\n",
    "s1 = sum1/c1\n",
    "s2 = sum2/c2\n",
    "#s3 = sum3/c3\n",
    "\n",
    "print(s0*100)\n",
    "print(s1*100)\n",
    "print(s2*100)\n",
    "#print(s3*100)"
   ]
  },
  {
   "cell_type": "code",
   "execution_count": 80,
   "metadata": {},
   "outputs": [
    {
     "name": "stdout",
     "output_type": "stream",
     "text": [
      "32.37229620277214\n",
      "32.76401074857371\n",
      "34.56556156677586\n"
     ]
    }
   ],
   "source": [
    "#Percentage wrt global frequency of accounting terms\n",
    "t1=0\n",
    "t2=0\n",
    "t0=0\n",
    "#t3=0\n",
    "\n",
    "count1 = 0\n",
    "count2 = 0\n",
    "count0 = 0\n",
    "#count3=0\n",
    "l=0\n",
    "while(l<len(word)):\n",
    "    #r = reg[l]\n",
    "    if(label[l] == 0):\n",
    "        f=0\n",
    "        for i in tlist:\n",
    "            if(i == word[l]):\n",
    "                t0 = t0 + freq[l]/flist[f]\n",
    "                count0 = count0+1\n",
    "                break\n",
    "            f=f+1\n",
    "        #if(d==0):\n",
    "        #    t0 = t0 + 1\n",
    "        #    count0 = count0+1\n",
    "    elif(label[l] == 1):\n",
    "        f=0\n",
    "        for i in tlist:\n",
    "            if(i == word[l]):\n",
    "                t1 = t1 + freq[l]/flist[f]\n",
    "                count1 = count1+1\n",
    "                break\n",
    "            f=f+1\n",
    "        #if(d==0):\n",
    "        #    t1 = t1 + 1\n",
    "        #    count1 = count1+1\n",
    "    #elif(label[l] == 2):\n",
    "    #    f=0\n",
    "    #    for i in tlist:\n",
    "    #        if(i == word[l]):\n",
    "    #            t2 = t2 + freq[l]/flist[f]\n",
    "    #            count2 = count2+1\n",
    "    #            break\n",
    "    #        f=f+1\n",
    "        #if(d==0):\n",
    "        #    t2 = t2 + 1\n",
    "        #    count2 = count2+1\n",
    "    else:\n",
    "        f=0\n",
    "        for i in tlist:\n",
    "            if(i == word[l]):\n",
    "                t2 = t2 + freq[l]/flist[f]\n",
    "                count2 = count2+1\n",
    "                break\n",
    "            f=f+1\n",
    "        #if(d==0):\n",
    "        #    t3 = t3 + 1\n",
    "        #    count3 = count3+1\n",
    "    l=l+1\n",
    "\n",
    "s0 = t0/count0\n",
    "s1 = t1/count1\n",
    "s2 = t2/count2\n",
    "#s3 = t3/count3\n",
    "\n",
    "print(s0*100)\n",
    "print(s1*100)\n",
    "print(s2*100)\n",
    "#print(s3*100)"
   ]
  },
  {
   "cell_type": "markdown",
   "metadata": {},
   "source": [
    "#### Tag words for Commodity Market"
   ]
  },
  {
   "cell_type": "code",
   "execution_count": 81,
   "metadata": {},
   "outputs": [],
   "source": [
    "comm = pd.read_csv('/home/deepti-saravanan/Desktop/laws/semantics/CommMarket.csv')"
   ]
  },
  {
   "cell_type": "code",
   "execution_count": 82,
   "metadata": {},
   "outputs": [],
   "source": [
    "cm1 = comm.values.tolist()\n",
    "cm = []\n",
    "for i in cm1:\n",
    "    cm.append(i[0])"
   ]
  },
  {
   "cell_type": "code",
   "execution_count": 83,
   "metadata": {},
   "outputs": [],
   "source": [
    "comm_market = []\n",
    "\n",
    "for n in cm:\n",
    "    k=0\n",
    "    while(k<len(g)):\n",
    "        if(g[k] == n):\n",
    "            #print(\"word is: \")\n",
    "            #print(g[k])\n",
    "            if(n not in comm_market):\n",
    "                comm_market.append(n)\n",
    "        k = k+1"
   ]
  },
  {
   "cell_type": "code",
   "execution_count": 84,
   "metadata": {},
   "outputs": [
    {
     "data": {
      "text/plain": [
       "['basis',\n",
       " 'close',\n",
       " 'cover',\n",
       " 'delivery',\n",
       " 'contract',\n",
       " 'limit',\n",
       " 'liquidation',\n",
       " 'long',\n",
       " 'margin',\n",
       " 'offer',\n",
       " 'position',\n",
       " 'short',\n",
       " 'purchase',\n",
       " 'sale',\n",
       " 'merchant']"
      ]
     },
     "execution_count": 84,
     "metadata": {},
     "output_type": "execute_result"
    }
   ],
   "source": [
    "comm_market"
   ]
  },
  {
   "cell_type": "code",
   "execution_count": 85,
   "metadata": {},
   "outputs": [
    {
     "name": "stdout",
     "output_type": "stream",
     "text": [
      "[0, 1, 2, 0, 1, 0, 2, 0, 0, 1, 2, 0, 1, 2, 2, 0, 1, 0, 1, 2, 0, 1, 0, 1, 0, 1, 2, 0, 1, 2, 0, 1, 2]\n",
      "['basis', 'basis', 'basis', 'close', 'close', 'cover', 'cover', 'delivery', 'contract', 'contract', 'contract', 'limit', 'limit', 'limit', 'liquidation', 'long', 'margin', 'offer', 'offer', 'offer', 'position', 'position', 'short', 'short', 'purchase', 'purchase', 'purchase', 'sale', 'sale', 'sale', 'merchant', 'merchant', 'merchant']\n",
      "[1, 3, 2, 1, 1, 3, 1, 1, 4, 7, 9, 4, 4, 1, 1, 2, 1, 46, 69, 81, 3, 2, 2, 1, 1, 1, 8, 2, 1, 6, 10, 5, 10]\n"
     ]
    }
   ],
   "source": [
    "label = []\n",
    "word = []\n",
    "freq = []\n",
    "for i in comm_market:\n",
    "    k=0\n",
    "    while(k<len(reg)):\n",
    "        r = reg[k]\n",
    "        if(i == r[1]):\n",
    "            if(r[2] != 0):\n",
    "                label.append(r[0])\n",
    "                word.append(i)\n",
    "                freq.append(r[2])\n",
    "        k=k+1\n",
    "print(label)\n",
    "print(word)\n",
    "print(freq)"
   ]
  },
  {
   "cell_type": "code",
   "execution_count": 86,
   "metadata": {},
   "outputs": [
    {
     "name": "stdout",
     "output_type": "stream",
     "text": [
      "1.4587892049598834\n",
      "1.8057403535449534\n",
      "1.832460732984293\n"
     ]
    }
   ],
   "source": [
    "#Percentage wrt frequency of other accounting terms within cluster\n",
    "sum0=0\n",
    "sum1=0\n",
    "sum2=0\n",
    "#sum3=0\n",
    "\n",
    "i=0\n",
    "while(i<len(label)):\n",
    "    if(label[i] == 0):\n",
    "        sum0 = sum0 + freq[i]\n",
    "    elif(label[i] == 1):\n",
    "        sum1 = sum1 + freq[i]\n",
    "    #elif(label[i] == 2):\n",
    "    #    sum2 = sum2 + freq[i]\n",
    "    else:\n",
    "        sum2 = sum2 + freq[i]\n",
    "    i=i+1\n",
    "s0=0\n",
    "s1=0\n",
    "s2=0\n",
    "#s3=0\n",
    "\n",
    "s0 = sum0/c0\n",
    "s1 = sum1/c1\n",
    "s2 = sum2/c2\n",
    "#s3 = sum3/c3\n",
    "\n",
    "print(s0*100)\n",
    "print(s1*100)\n",
    "print(s2*100)\n",
    "#print(s3*100)"
   ]
  },
  {
   "cell_type": "code",
   "execution_count": 87,
   "metadata": {},
   "outputs": [
    {
     "name": "stdout",
     "output_type": "stream",
     "text": [
      "23.487387635296276\n",
      "35.231081452944416\n",
      "41.358226053456484\n"
     ]
    }
   ],
   "source": [
    "#Percentage wrt global frequency of accounting terms\n",
    "t1=0\n",
    "t2=0\n",
    "t0=0\n",
    "#t3=0\n",
    "\n",
    "count1 = 0\n",
    "count2 = 0\n",
    "count0 = 0\n",
    "#count3=0\n",
    "l=0\n",
    "while(l<len(word)):\n",
    "    #r = reg[l]\n",
    "    if(label[l] == 0):\n",
    "        f=0\n",
    "        for i in tlist:\n",
    "            if(i == word[l]):\n",
    "                t0 = t0 + freq[l]/flist[f]\n",
    "                count0 = count0+1\n",
    "                break\n",
    "            f=f+1\n",
    "        #if(d==0):\n",
    "        #    t0 = t0 + 1\n",
    "        #    count0 = count0+1\n",
    "    elif(label[l] == 1):\n",
    "        f=0\n",
    "        for i in tlist:\n",
    "            if(i == word[l]):\n",
    "                t1 = t1 + freq[l]/flist[f]\n",
    "                count1 = count1+1\n",
    "                break\n",
    "            f=f+1\n",
    "        #if(d==0):\n",
    "        #    t1 = t1 + 1\n",
    "        #    count1 = count1+1\n",
    "    #elif(label[l] == 2):\n",
    "    #    f=0\n",
    "    #    for i in tlist:\n",
    "    #        if(i == word[l]):\n",
    "    #            t2 = t2 + freq[l]/flist[f]\n",
    "    #            count2 = count2+1\n",
    "    #            break\n",
    "    #        f=f+1\n",
    "        #if(d==0):\n",
    "        #    t2 = t2 + 1\n",
    "        #    count2 = count2+1\n",
    "    else:\n",
    "        f=0\n",
    "        for i in tlist:\n",
    "            if(i == word[l]):\n",
    "                t2 = t2 + freq[l]/flist[f]\n",
    "                count2 = count2+1\n",
    "                break\n",
    "            f=f+1\n",
    "        #if(d==0):\n",
    "        #    t3 = t3 + 1\n",
    "        #    count3 = count3+1\n",
    "    l=l+1\n",
    "\n",
    "s0 = t0/count0\n",
    "s1 = t1/count1\n",
    "s2 = t2/count2\n",
    "#s3 = t3/count3\n",
    "\n",
    "print(s0*100)\n",
    "print(s1*100)\n",
    "print(s2*100)\n",
    "#print(s3*100)"
   ]
  },
  {
   "cell_type": "markdown",
   "metadata": {},
   "source": [
    "#### Tag words for Pension Funds"
   ]
  },
  {
   "cell_type": "code",
   "execution_count": 88,
   "metadata": {},
   "outputs": [],
   "source": [
    "pen = pd.read_csv('/home/deepti-saravanan/Desktop/laws/semantics/Pension.csv')"
   ]
  },
  {
   "cell_type": "code",
   "execution_count": 89,
   "metadata": {},
   "outputs": [],
   "source": [
    "p1 = pen.values.tolist()\n",
    "p = []\n",
    "for i in p1:\n",
    "    p.append(i[0])"
   ]
  },
  {
   "cell_type": "code",
   "execution_count": 90,
   "metadata": {},
   "outputs": [],
   "source": [
    "pension = []\n",
    "\n",
    "for n in p:\n",
    "    k=0\n",
    "    while(k<len(g)):\n",
    "        if(g[k] == n):\n",
    "            if(n not in pension):\n",
    "                pension.append(n)\n",
    "        k = k+1"
   ]
  },
  {
   "cell_type": "code",
   "execution_count": 91,
   "metadata": {},
   "outputs": [
    {
     "data": {
      "text/plain": [
       "['administrator', 'benefit', 'asset', 'retirement', 'member', 'pension']"
      ]
     },
     "execution_count": 91,
     "metadata": {},
     "output_type": "execute_result"
    }
   ],
   "source": [
    "pension"
   ]
  },
  {
   "cell_type": "code",
   "execution_count": 92,
   "metadata": {},
   "outputs": [
    {
     "name": "stdout",
     "output_type": "stream",
     "text": [
      "[0, 1, 2, 0, 1, 2, 0, 1, 2, 1, 2, 0, 1, 2, 2]\n",
      "['administrator', 'administrator', 'administrator', 'benefit', 'benefit', 'benefit', 'asset', 'asset', 'asset', 'retirement', 'retirement', 'member', 'member', 'member', 'pension']\n",
      "[3, 7, 18, 3, 6, 4, 10, 17, 14, 1, 1, 17, 11, 14, 3]\n"
     ]
    }
   ],
   "source": [
    "label = []\n",
    "word = []\n",
    "freq = []\n",
    "for i in pension:\n",
    "    k=0\n",
    "    while(k<len(reg)):\n",
    "        r = reg[k]\n",
    "        if(i == r[1]):\n",
    "            if(r[2] != 0):\n",
    "                label.append(r[0])\n",
    "                word.append(i)\n",
    "                freq.append(r[2])\n",
    "        k=k+1\n",
    "print(label)\n",
    "print(word)\n",
    "print(freq)"
   ]
  },
  {
   "cell_type": "code",
   "execution_count": 93,
   "metadata": {},
   "outputs": [
    {
     "name": "stdout",
     "output_type": "stream",
     "text": [
      "0.6017505470459519\n",
      "0.7983273141988215\n",
      "0.8315368032029566\n"
     ]
    }
   ],
   "source": [
    "#Percentage wrt frequency of other accounting terms within cluster\n",
    "sum0=0\n",
    "sum1=0\n",
    "sum2=0\n",
    "#sum3=0\n",
    "\n",
    "i=0\n",
    "while(i<len(label)):\n",
    "    if(label[i] == 0):\n",
    "        sum0 = sum0 + freq[i]\n",
    "    elif(label[i] == 1):\n",
    "        sum1 = sum1 + freq[i]\n",
    "    #elif(label[i] == 2):\n",
    "    #    sum2 = sum2 + freq[i]\n",
    "    else:\n",
    "        sum2 = sum2 + freq[i]\n",
    "    i=i+1\n",
    "s0=0\n",
    "s1=0\n",
    "s2=0\n",
    "#s3=0\n",
    "\n",
    "s0 = sum0/c0\n",
    "s1 = sum1/c1\n",
    "s2 = sum2/c2\n",
    "#s3 = sum3/c3\n",
    "\n",
    "print(s0*100)\n",
    "print(s1*100)\n",
    "print(s2*100)\n",
    "#print(s3*100)"
   ]
  },
  {
   "cell_type": "code",
   "execution_count": 94,
   "metadata": {},
   "outputs": [
    {
     "name": "stdout",
     "output_type": "stream",
     "text": [
      "39.56978420736959\n",
      "25.603978016533258\n",
      "32.58688111195142\n"
     ]
    }
   ],
   "source": [
    "#Percentage wrt global frequency of accounting terms\n",
    "t1=0\n",
    "t2=0\n",
    "t0=0\n",
    "#t3=0\n",
    "\n",
    "count1 = 0\n",
    "count2 = 0\n",
    "count0 = 0\n",
    "#count3=0\n",
    "l=0\n",
    "while(l<len(word)):\n",
    "    #r = reg[l]\n",
    "    if(label[l] == 0):\n",
    "        f=0\n",
    "        for i in tlist:\n",
    "            if(i == word[l]):\n",
    "                t0 = t0 + freq[l]/flist[f]\n",
    "                count0 = count0+1\n",
    "                break\n",
    "            f=f+1\n",
    "        #if(d==0):\n",
    "        #    t0 = t0 + 1\n",
    "        #    count0 = count0+1\n",
    "    elif(label[l] == 1):\n",
    "        f=0\n",
    "        for i in tlist:\n",
    "            if(i == word[l]):\n",
    "                t1 = t1 + freq[l]/flist[f]\n",
    "                count1 = count1+1\n",
    "                break\n",
    "            f=f+1\n",
    "        #if(d==0):\n",
    "        #    t1 = t1 + 1\n",
    "        #    count1 = count1+1\n",
    "    #elif(label[l] == 2):\n",
    "    #    f=0\n",
    "    #    for i in tlist:\n",
    "    #        if(i == word[l]):\n",
    "    #            t2 = t2 + freq[l]/flist[f]\n",
    "    #            count2 = count2+1\n",
    "    #            break\n",
    "    #        f=f+1\n",
    "        #if(d==0):\n",
    "        #    t2 = t2 + 1\n",
    "        #    count2 = count2+1\n",
    "    else:\n",
    "        f=0\n",
    "        for i in tlist:\n",
    "            if(i == word[l]):\n",
    "                t2 = t2 + freq[l]/flist[f]\n",
    "                count2 = count2+1\n",
    "                break\n",
    "            f=f+1\n",
    "        #if(d==0):\n",
    "        #    t3 = t3 + 1\n",
    "        #    count3 = count3+1\n",
    "    l=l+1\n",
    "\n",
    "s0 = t0/count0\n",
    "s1 = t1/count1\n",
    "s2 = t2/count2\n",
    "#s3 = t3/count3\n",
    "\n",
    "print(s0*100)\n",
    "print(s1*100)\n",
    "print(s2*100)\n",
    "#print(s3*100)"
   ]
  },
  {
   "cell_type": "markdown",
   "metadata": {},
   "source": [
    "Cluster 2 combo"
   ]
  },
  {
   "cell_type": "code",
   "execution_count": 95,
   "metadata": {},
   "outputs": [],
   "source": [
    "c2list = []\n",
    "for i in account:\n",
    "    c2list.append(i)\n",
    "for i in finance:\n",
    "    if(i not in c2list):\n",
    "        c2list.append(i)\n",
    "for i in cap_market:\n",
    "    if(i not in c2list):\n",
    "        c2list.append(i)\n",
    "for i in comm_market:\n",
    "    if(i not in c2list):\n",
    "        c2list.append(i)"
   ]
  },
  {
   "cell_type": "code",
   "execution_count": 96,
   "metadata": {},
   "outputs": [
    {
     "name": "stdout",
     "output_type": "stream",
     "text": [
      "[0, 1, 2, 0, 1, 2, 0, 1, 2, 0, 1, 2, 0, 1, 2, 0, 1, 2, 0, 2, 0, 1, 2, 0, 2, 0, 1, 2, 0, 1, 2, 0, 1, 2, 0, 1, 2, 2, 0, 1, 2, 0, 1, 2, 0, 1, 2, 0, 1, 2, 0, 1, 2, 0, 1, 2, 0, 1, 2, 2, 0, 2, 0, 1, 2, 0, 0, 1, 2, 1, 0, 1, 2, 1, 0, 0, 1, 2, 0, 0, 2, 0, 1, 2, 0, 1, 2, 0, 2, 0, 1, 2, 1, 2, 0, 1, 2, 0, 1, 2, 0, 0, 1, 2, 0, 1, 2, 0, 1, 2, 0, 2, 0, 2, 0, 1, 2, 0, 1, 2, 0, 1, 2, 0, 1, 2, 0, 1, 2, 0, 2, 0, 2, 0, 0, 1, 2, 1, 0, 0, 1, 0, 1, 2, 0, 2, 0, 1, 2, 0, 1, 2, 1, 2, 1, 0, 1, 2, 0, 1, 2, 0, 1, 2, 0, 1, 0, 1, 2, 0, 1, 2, 0, 1, 2, 0, 1, 2, 0, 1, 2, 0, 1, 2, 2, 0, 1, 2, 0, 1, 2, 2, 0, 1, 2, 1, 0, 1, 2, 0, 1, 2, 2, 0, 2, 1, 2, 0, 1, 2, 0, 1, 2, 0, 1, 2, 1, 1, 2, 0, 1, 2, 0, 0, 1, 2, 0, 1, 0, 1, 2, 0, 1, 2, 0, 2, 0, 1, 2, 0, 0, 1, 2, 0, 1, 2, 0, 1, 2, 0, 1, 2, 1, 1, 0, 2, 0, 1, 2, 2, 0, 1, 2, 0, 1, 2, 0, 1, 2, 0, 1, 2, 0, 1, 2, 0, 1, 2, 0, 1, 2, 0, 1, 0, 1, 2, 0, 1, 2, 0, 1, 2, 0, 1, 2, 0, 2, 0, 1, 2, 0, 1, 2, 0, 1, 2, 0, 1, 2, 1, 0, 1, 2, 1, 2, 0, 1, 2, 0, 2, 0, 1, 2, 0, 1, 0, 1, 2, 0, 1, 2, 0, 0, 1, 2, 0, 1, 0, 1, 0, 1, 2, 0, 1, 2, 0, 1, 2]\n",
      "['accounting', 'accounting', 'accounting', 'acquirer', 'acquirer', 'acquirer', 'acquisition', 'acquisition', 'acquisition', 'agency', 'agency', 'agency', 'audit', 'audit', 'audit', 'bond', 'bond', 'bond', 'broker', 'broker', 'capital', 'capital', 'capital', 'cash', 'cash', 'chairman', 'chairman', 'chairman', 'charge', 'charge', 'charge', 'control', 'control', 'control', 'cost', 'cost', 'cost', 'coupon', 'credit', 'credit', 'credit', 'debenture', 'debenture', 'debenture', 'default', 'default', 'default', 'director', 'director', 'director', 'dividend', 'dividend', 'dividend', 'entity', 'entity', 'entity', 'equity', 'equity', 'equity', 'expense', 'format', 'format', 'group', 'group', 'group', 'inventory', 'management', 'management', 'management', 'margin', 'material', 'material', 'material', 'materiality', 'maturity', 'memorandum', 'memorandum', 'memorandum', 'merger', 'net', 'net', 'partnership', 'partnership', 'partnership', 'portfolio', 'portfolio', 'portfolio', 'principal', 'principal', 'profit', 'profit', 'profit', 'prospectus', 'prospectus', 'provision', 'provision', 'provision', 'recognition', 'recognition', 'recognition', 'return', 'revenue', 'revenue', 'revenue', 'risk', 'risk', 'risk', 'stock', 'stock', 'stock', 'substance', 'turnover', 'unlisted', 'unlisted', 'agent', 'agent', 'agent', 'asset', 'asset', 'asset', 'associate', 'associate', 'associate', 'business', 'business', 'business', 'derivative', 'derivative', 'derivative', 'development', 'development', 'income', 'income', 'lease', 'liability', 'liability', 'liability', 'performance', 'probable', 'loss', 'loss', 'research', 'research', 'research', 'restriction', 'restriction', 'state', 'state', 'state', 'subsidiary', 'subsidiary', 'subsidiary', 'vest', 'vest', 'yield', 'account', 'account', 'account', 'basis', 'basis', 'basis', 'buy', 'buy', 'buy', 'commission', 'commission', 'exchange', 'exchange', 'exchange', 'holding', 'holding', 'holding', 'information', 'information', 'information', 'institution', 'institution', 'institution', 'investment', 'investment', 'investment', 'issuer', 'issuer', 'issuer', 'lot', 'option', 'option', 'option', 'price', 'price', 'price', 'quantity', 'right', 'right', 'right', 'sell', 'trade', 'trade', 'trade', 'unit', 'unit', 'unit', 'vesting', 'volume', 'volume', 'insurance', 'insurance', 'adviser', 'adviser', 'adviser', 'analyst', 'analyst', 'analyst', 'intermediary', 'intermediary', 'intermediary', 'arbitration', 'securities', 'securities', 'auditor', 'auditor', 'auditor', 'authorized', 'authority', 'authority', 'authority', 'brokerage', 'brokerage', 'market', 'market', 'market', 'clearing', 'clearing', 'clearing', 'cover', 'cover', 'custodian', 'custodian', 'custodian', 'delivery', 'dematerialise', 'dematerialise', 'dematerialise', 'depository', 'depository', 'depository', 'disclosure', 'disclosure', 'disclosure', 'distribution', 'distribution', 'distribution', 'ex', 'hypothecation', 'insider', 'insider', 'trading', 'trading', 'trading', 'liquidation', 'company', 'company', 'company', 'listed', 'listed', 'listed', 'list', 'list', 'list', 'listing', 'listing', 'listing', 'security', 'security', 'security', 'key', 'key', 'key', 'manager', 'manager', 'manager', 'managerial', 'managerial', 'plan', 'plan', 'plan', 'person', 'person', 'person', 'sensitive', 'sensitive', 'sensitive', 'proxy', 'proxy', 'proxy', 'split', 'split', 'stakeholder', 'stakeholder', 'stakeholder', 'transferor', 'transferor', 'transferor', 'trustee', 'trustee', 'trustee', 'underlying', 'underwriter', 'underwriter', 'underwriting', 'value', 'value', 'value', 'warrant', 'warrant', 'settlement', 'settlement', 'settlement', 'invest', 'invest', 'promoter', 'promoter', 'promoter', 'close', 'close', 'contract', 'contract', 'contract', 'limit', 'limit', 'limit', 'long', 'offer', 'offer', 'offer', 'position', 'position', 'short', 'short', 'purchase', 'purchase', 'purchase', 'sale', 'sale', 'sale', 'merchant', 'merchant', 'merchant']\n",
      "[2, 1, 2, 31, 37, 46, 11, 6, 49, 5, 9, 2, 7, 10, 14, 3, 1, 4, 4, 5, 11, 3, 5, 1, 4, 1, 4, 1, 6, 9, 4, 6, 7, 16, 2, 3, 4, 1, 3, 8, 9, 4, 9, 9, 9, 4, 4, 86, 71, 60, 2, 2, 5, 150, 116, 156, 16, 11, 9, 4, 3, 2, 13, 3, 4, 1, 9, 12, 9, 1, 10, 9, 10, 1, 1, 2, 5, 7, 2, 1, 3, 2, 2, 4, 51, 45, 50, 1, 1, 5, 1, 4, 2, 3, 30, 28, 33, 5, 4, 8, 1, 2, 1, 1, 8, 3, 3, 70, 61, 62, 1, 1, 1, 2, 9, 6, 8, 10, 17, 14, 7, 3, 23, 7, 3, 11, 4, 1, 6, 1, 2, 1, 2, 4, 4, 4, 6, 3, 1, 5, 1, 35, 36, 49, 1, 3, 7, 4, 3, 2, 8, 5, 1, 1, 1, 13, 18, 22, 1, 3, 2, 3, 5, 7, 5, 3, 60, 51, 58, 7, 2, 5, 24, 27, 26, 10, 4, 3, 72, 77, 139, 80, 60, 94, 1, 7, 6, 6, 8, 14, 21, 1, 19, 13, 32, 1, 3, 3, 8, 26, 22, 38, 1, 2, 11, 1, 4, 15, 17, 19, 22, 19, 28, 6, 14, 5, 2, 1, 1, 6, 6, 17, 1, 20, 24, 21, 1, 1, 9, 7, 10, 15, 17, 18, 3, 1, 2, 2, 2, 1, 2, 1, 3, 72, 54, 47, 38, 23, 28, 1, 3, 4, 1, 2, 3, 2, 7, 1, 19, 1, 65, 82, 115, 13, 13, 12, 128, 102, 127, 2, 4, 2, 77, 64, 73, 5, 12, 2, 78, 92, 88, 1, 4, 5, 5, 4, 66, 83, 62, 4, 2, 1, 2, 3, 2, 1, 1, 2, 2, 1, 3, 3, 1, 26, 30, 32, 1, 1, 1, 1, 7, 8, 8, 8, 6, 12, 29, 9, 1, 1, 10, 8, 10, 1, 1, 4, 7, 9, 4, 4, 1, 2, 46, 69, 81, 3, 2, 2, 1, 1, 1, 8, 2, 1, 6, 10, 5, 10]\n"
     ]
    }
   ],
   "source": [
    "label = []\n",
    "word = []\n",
    "freq = []\n",
    "for i in c2list:\n",
    "    k=0\n",
    "    while(k<len(reg)):\n",
    "        r = reg[k]\n",
    "        if(i == r[1]):\n",
    "            if(r[2] != 0):\n",
    "                label.append(r[0])\n",
    "                word.append(i)\n",
    "                freq.append(r[2])\n",
    "        k=k+1\n",
    "print(label)\n",
    "print(word)\n",
    "print(freq)"
   ]
  },
  {
   "cell_type": "code",
   "execution_count": 97,
   "metadata": {},
   "outputs": [
    {
     "name": "stdout",
     "output_type": "stream",
     "text": [
      "33.27862873814734\n",
      "32.86447443451815\n",
      "32.8149060671389\n"
     ]
    }
   ],
   "source": [
    "#Percentage wrt frequency of other accounting terms within cluster\n",
    "sum0=0\n",
    "sum1=0\n",
    "sum2=0\n",
    "#sum3=0\n",
    "\n",
    "i=0\n",
    "while(i<len(label)):\n",
    "    if(label[i] == 0):\n",
    "        sum0 = sum0 + freq[i]\n",
    "    elif(label[i] == 1):\n",
    "        sum1 = sum1 + freq[i]\n",
    "    #elif(label[i] == 2):\n",
    "    #    sum2 = sum2 + freq[i]\n",
    "    else:\n",
    "        sum2 = sum2 + freq[i]\n",
    "    i=i+1\n",
    "s0=0\n",
    "s1=0\n",
    "s2=0\n",
    "#s3=0\n",
    "\n",
    "s0 = sum0/c0\n",
    "s1 = sum1/c1\n",
    "s2 = sum2/c2\n",
    "#s3 = sum3/c3\n",
    "\n",
    "print(s0*100)\n",
    "print(s1*100)\n",
    "print(s2*100)\n",
    "#print(s3*100)"
   ]
  },
  {
   "cell_type": "code",
   "execution_count": 98,
   "metadata": {},
   "outputs": [
    {
     "name": "stdout",
     "output_type": "stream",
     "text": [
      "31.410169903453234\n",
      "31.098883290562636\n",
      "37.14341300330483\n"
     ]
    }
   ],
   "source": [
    "#Percentage wrt global frequency of accounting terms\n",
    "t1=0\n",
    "t2=0\n",
    "t0=0\n",
    "#t3=0\n",
    "\n",
    "count1 = 0\n",
    "count2 = 0\n",
    "count0 = 0\n",
    "#count3=0\n",
    "l=0\n",
    "while(l<len(word)):\n",
    "    #r = reg[l]\n",
    "    if(label[l] == 0):\n",
    "        f=0\n",
    "        for i in tlist:\n",
    "            if(i == word[l]):\n",
    "                t0 = t0 + freq[l]/flist[f]\n",
    "                count0 = count0+1\n",
    "                break\n",
    "            f=f+1\n",
    "        #if(d==0):\n",
    "        #    t0 = t0 + 1\n",
    "        #    count0 = count0+1\n",
    "    elif(label[l] == 1):\n",
    "        f=0\n",
    "        for i in tlist:\n",
    "            if(i == word[l]):\n",
    "                t1 = t1 + freq[l]/flist[f]\n",
    "                count1 = count1+1\n",
    "                break\n",
    "            f=f+1\n",
    "        #if(d==0):\n",
    "        #    t1 = t1 + 1\n",
    "        #    count1 = count1+1\n",
    "    #elif(label[l] == 2):\n",
    "    #    f=0\n",
    "    #    for i in tlist:\n",
    "    #        if(i == word[l]):\n",
    "    #            t2 = t2 + freq[l]/flist[f]\n",
    "    #            count2 = count2+1\n",
    "    #            break\n",
    "    #        f=f+1\n",
    "        #if(d==0):\n",
    "        #    t2 = t2 + 1\n",
    "        #    count2 = count2+1\n",
    "    else:\n",
    "        f=0\n",
    "        for i in tlist:\n",
    "            if(i == word[l]):\n",
    "                t2 = t2 + freq[l]/flist[f]\n",
    "                count2 = count2+1\n",
    "                break\n",
    "            f=f+1\n",
    "        #if(d==0):\n",
    "        #    t3 = t3 + 1\n",
    "        #    count3 = count3+1\n",
    "    l=l+1\n",
    "\n",
    "s0 = t0/count0\n",
    "s1 = t1/count1\n",
    "s2 = t2/count2\n",
    "#s3 = t3/count3\n",
    "\n",
    "print(s0*100)\n",
    "print(s1*100)\n",
    "print(s2*100)\n",
    "#print(s3*100)"
   ]
  }
 ],
 "metadata": {
  "kernelspec": {
   "display_name": "Python 3",
   "language": "python",
   "name": "python3"
  },
  "language_info": {
   "codemirror_mode": {
    "name": "ipython",
    "version": 3
   },
   "file_extension": ".py",
   "mimetype": "text/x-python",
   "name": "python",
   "nbconvert_exporter": "python",
   "pygments_lexer": "ipython3",
   "version": "3.7.3"
  }
 },
 "nbformat": 4,
 "nbformat_minor": 4
}
