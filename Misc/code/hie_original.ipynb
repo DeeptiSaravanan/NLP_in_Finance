{
 "cells": [
  {
   "cell_type": "markdown",
   "metadata": {},
   "source": [
    "## GPU usage"
   ]
  },
  {
   "cell_type": "code",
   "execution_count": 1,
   "metadata": {},
   "outputs": [
    {
     "name": "stdout",
     "output_type": "stream",
     "text": [
      "without GPU: 6.307576364008128\n"
     ]
    },
    {
     "ename": "CudaSupportError",
     "evalue": "Error at driver init: \n\nCUDA driver library cannot be found.\nIf you are sure that a CUDA driver is installed,\ntry setting environment variable NUMBA_CUDA_DRIVER\nwith the file path of the CUDA driver shared library.\n:",
     "output_type": "error",
     "traceback": [
      "\u001b[0;31m---------------------------------------------------------------------------\u001b[0m",
      "\u001b[0;31mCudaSupportError\u001b[0m                          Traceback (most recent call last)",
      "\u001b[0;32m<ipython-input-1-f48690b6965b>\u001b[0m in \u001b[0;36m<module>\u001b[0;34m\u001b[0m\n\u001b[1;32m     24\u001b[0m \u001b[0;34m\u001b[0m\u001b[0m\n\u001b[1;32m     25\u001b[0m     \u001b[0mstart\u001b[0m \u001b[0;34m=\u001b[0m \u001b[0mtimer\u001b[0m\u001b[0;34m(\u001b[0m\u001b[0;34m)\u001b[0m\u001b[0;34m\u001b[0m\u001b[0;34m\u001b[0m\u001b[0m\n\u001b[0;32m---> 26\u001b[0;31m     \u001b[0mfunc2\u001b[0m\u001b[0;34m(\u001b[0m\u001b[0ma\u001b[0m\u001b[0;34m)\u001b[0m\u001b[0;34m\u001b[0m\u001b[0;34m\u001b[0m\u001b[0m\n\u001b[0m\u001b[1;32m     27\u001b[0m     \u001b[0mprint\u001b[0m\u001b[0;34m(\u001b[0m\u001b[0;34m\"with GPU:\"\u001b[0m\u001b[0;34m,\u001b[0m \u001b[0mtimer\u001b[0m\u001b[0;34m(\u001b[0m\u001b[0;34m)\u001b[0m\u001b[0;34m-\u001b[0m\u001b[0mstart\u001b[0m\u001b[0;34m)\u001b[0m\u001b[0;34m\u001b[0m\u001b[0;34m\u001b[0m\u001b[0m\n",
      "\u001b[0;32m~/anaconda3/lib/python3.7/site-packages/numba/cuda/dispatcher.py\u001b[0m in \u001b[0;36m__call__\u001b[0;34m(self, *args, **kws)\u001b[0m\n\u001b[1;32m     38\u001b[0m \u001b[0;34m\u001b[0m\u001b[0m\n\u001b[1;32m     39\u001b[0m     \u001b[0;32mdef\u001b[0m \u001b[0m__call__\u001b[0m\u001b[0;34m(\u001b[0m\u001b[0mself\u001b[0m\u001b[0;34m,\u001b[0m \u001b[0;34m*\u001b[0m\u001b[0margs\u001b[0m\u001b[0;34m,\u001b[0m \u001b[0;34m**\u001b[0m\u001b[0mkws\u001b[0m\u001b[0;34m)\u001b[0m\u001b[0;34m:\u001b[0m\u001b[0;34m\u001b[0m\u001b[0;34m\u001b[0m\u001b[0m\n\u001b[0;32m---> 40\u001b[0;31m         \u001b[0;32mreturn\u001b[0m \u001b[0mself\u001b[0m\u001b[0;34m.\u001b[0m\u001b[0mcompiled\u001b[0m\u001b[0;34m(\u001b[0m\u001b[0;34m*\u001b[0m\u001b[0margs\u001b[0m\u001b[0;34m,\u001b[0m \u001b[0;34m**\u001b[0m\u001b[0mkws\u001b[0m\u001b[0;34m)\u001b[0m\u001b[0;34m\u001b[0m\u001b[0;34m\u001b[0m\u001b[0m\n\u001b[0m\u001b[1;32m     41\u001b[0m \u001b[0;34m\u001b[0m\u001b[0m\n\u001b[1;32m     42\u001b[0m     \u001b[0;32mdef\u001b[0m \u001b[0mdisable_compile\u001b[0m\u001b[0;34m(\u001b[0m\u001b[0mself\u001b[0m\u001b[0;34m,\u001b[0m \u001b[0mval\u001b[0m\u001b[0;34m=\u001b[0m\u001b[0;32mTrue\u001b[0m\u001b[0;34m)\u001b[0m\u001b[0;34m:\u001b[0m\u001b[0;34m\u001b[0m\u001b[0;34m\u001b[0m\u001b[0m\n",
      "\u001b[0;32m~/anaconda3/lib/python3.7/site-packages/numba/cuda/compiler.py\u001b[0m in \u001b[0;36m__call__\u001b[0;34m(self, *args)\u001b[0m\n\u001b[1;32m    831\u001b[0m         \u001b[0mSpecialize\u001b[0m \u001b[0;32mand\u001b[0m \u001b[0minvoke\u001b[0m \u001b[0mthis\u001b[0m \u001b[0mkernel\u001b[0m \u001b[0;32mwith\u001b[0m \u001b[0;34m*\u001b[0m\u001b[0margs\u001b[0m\u001b[0;34m*\u001b[0m\u001b[0;34m.\u001b[0m\u001b[0;34m\u001b[0m\u001b[0;34m\u001b[0m\u001b[0m\n\u001b[1;32m    832\u001b[0m         '''\n\u001b[0;32m--> 833\u001b[0;31m         \u001b[0mkernel\u001b[0m \u001b[0;34m=\u001b[0m \u001b[0mself\u001b[0m\u001b[0;34m.\u001b[0m\u001b[0mspecialize\u001b[0m\u001b[0;34m(\u001b[0m\u001b[0;34m*\u001b[0m\u001b[0margs\u001b[0m\u001b[0;34m)\u001b[0m\u001b[0;34m\u001b[0m\u001b[0;34m\u001b[0m\u001b[0m\n\u001b[0m\u001b[1;32m    834\u001b[0m         \u001b[0mcfg\u001b[0m \u001b[0;34m=\u001b[0m \u001b[0mkernel\u001b[0m\u001b[0;34m[\u001b[0m\u001b[0mself\u001b[0m\u001b[0;34m.\u001b[0m\u001b[0mgriddim\u001b[0m\u001b[0;34m,\u001b[0m \u001b[0mself\u001b[0m\u001b[0;34m.\u001b[0m\u001b[0mblockdim\u001b[0m\u001b[0;34m,\u001b[0m \u001b[0mself\u001b[0m\u001b[0;34m.\u001b[0m\u001b[0mstream\u001b[0m\u001b[0;34m,\u001b[0m \u001b[0mself\u001b[0m\u001b[0;34m.\u001b[0m\u001b[0msharedmem\u001b[0m\u001b[0;34m]\u001b[0m\u001b[0;34m\u001b[0m\u001b[0;34m\u001b[0m\u001b[0m\n\u001b[1;32m    835\u001b[0m         \u001b[0mcfg\u001b[0m\u001b[0;34m(\u001b[0m\u001b[0;34m*\u001b[0m\u001b[0margs\u001b[0m\u001b[0;34m)\u001b[0m\u001b[0;34m\u001b[0m\u001b[0;34m\u001b[0m\u001b[0m\n",
      "\u001b[0;32m~/anaconda3/lib/python3.7/site-packages/numba/cuda/compiler.py\u001b[0m in \u001b[0;36mspecialize\u001b[0;34m(self, *args)\u001b[0m\n\u001b[1;32m    842\u001b[0m         argtypes = tuple(\n\u001b[1;32m    843\u001b[0m             [self.typingctx.resolve_argument_type(a) for a in args])\n\u001b[0;32m--> 844\u001b[0;31m         \u001b[0mkernel\u001b[0m \u001b[0;34m=\u001b[0m \u001b[0mself\u001b[0m\u001b[0;34m.\u001b[0m\u001b[0mcompile\u001b[0m\u001b[0;34m(\u001b[0m\u001b[0margtypes\u001b[0m\u001b[0;34m)\u001b[0m\u001b[0;34m\u001b[0m\u001b[0;34m\u001b[0m\u001b[0m\n\u001b[0m\u001b[1;32m    845\u001b[0m         \u001b[0;32mreturn\u001b[0m \u001b[0mkernel\u001b[0m\u001b[0;34m\u001b[0m\u001b[0;34m\u001b[0m\u001b[0m\n\u001b[1;32m    846\u001b[0m \u001b[0;34m\u001b[0m\u001b[0m\n",
      "\u001b[0;32m~/anaconda3/lib/python3.7/site-packages/numba/cuda/compiler.py\u001b[0m in \u001b[0;36mcompile\u001b[0;34m(self, sig)\u001b[0m\n\u001b[1;32m    852\u001b[0m         \u001b[0margtypes\u001b[0m\u001b[0;34m,\u001b[0m \u001b[0mreturn_type\u001b[0m \u001b[0;34m=\u001b[0m \u001b[0msigutils\u001b[0m\u001b[0;34m.\u001b[0m\u001b[0mnormalize_signature\u001b[0m\u001b[0;34m(\u001b[0m\u001b[0msig\u001b[0m\u001b[0;34m)\u001b[0m\u001b[0;34m\u001b[0m\u001b[0;34m\u001b[0m\u001b[0m\n\u001b[1;32m    853\u001b[0m         \u001b[0;32massert\u001b[0m \u001b[0mreturn_type\u001b[0m \u001b[0;32mis\u001b[0m \u001b[0;32mNone\u001b[0m\u001b[0;34m\u001b[0m\u001b[0;34m\u001b[0m\u001b[0m\n\u001b[0;32m--> 854\u001b[0;31m         \u001b[0mcc\u001b[0m \u001b[0;34m=\u001b[0m \u001b[0mget_current_device\u001b[0m\u001b[0;34m(\u001b[0m\u001b[0;34m)\u001b[0m\u001b[0;34m.\u001b[0m\u001b[0mcompute_capability\u001b[0m\u001b[0;34m\u001b[0m\u001b[0;34m\u001b[0m\u001b[0m\n\u001b[0m\u001b[1;32m    855\u001b[0m         \u001b[0mkernel\u001b[0m \u001b[0;34m=\u001b[0m \u001b[0mself\u001b[0m\u001b[0;34m.\u001b[0m\u001b[0mdefinitions\u001b[0m\u001b[0;34m.\u001b[0m\u001b[0mget\u001b[0m\u001b[0;34m(\u001b[0m\u001b[0;34m(\u001b[0m\u001b[0mcc\u001b[0m\u001b[0;34m,\u001b[0m \u001b[0margtypes\u001b[0m\u001b[0;34m)\u001b[0m\u001b[0;34m)\u001b[0m\u001b[0;34m\u001b[0m\u001b[0;34m\u001b[0m\u001b[0m\n\u001b[1;32m    856\u001b[0m         \u001b[0;32mif\u001b[0m \u001b[0mkernel\u001b[0m \u001b[0;32mis\u001b[0m \u001b[0;32mNone\u001b[0m\u001b[0;34m:\u001b[0m\u001b[0;34m\u001b[0m\u001b[0;34m\u001b[0m\u001b[0m\n",
      "\u001b[0;32m~/anaconda3/lib/python3.7/site-packages/numba/cuda/api.py\u001b[0m in \u001b[0;36mget_current_device\u001b[0;34m()\u001b[0m\n\u001b[1;32m    373\u001b[0m \u001b[0;32mdef\u001b[0m \u001b[0mget_current_device\u001b[0m\u001b[0;34m(\u001b[0m\u001b[0;34m)\u001b[0m\u001b[0;34m:\u001b[0m\u001b[0;34m\u001b[0m\u001b[0;34m\u001b[0m\u001b[0m\n\u001b[1;32m    374\u001b[0m     \u001b[0;34m\"Get current device associated with the current thread\"\u001b[0m\u001b[0;34m\u001b[0m\u001b[0;34m\u001b[0m\u001b[0m\n\u001b[0;32m--> 375\u001b[0;31m     \u001b[0;32mreturn\u001b[0m \u001b[0mcurrent_context\u001b[0m\u001b[0;34m(\u001b[0m\u001b[0;34m)\u001b[0m\u001b[0;34m.\u001b[0m\u001b[0mdevice\u001b[0m\u001b[0;34m\u001b[0m\u001b[0;34m\u001b[0m\u001b[0m\n\u001b[0m\u001b[1;32m    376\u001b[0m \u001b[0;34m\u001b[0m\u001b[0m\n\u001b[1;32m    377\u001b[0m \u001b[0;34m\u001b[0m\u001b[0m\n",
      "\u001b[0;32m~/anaconda3/lib/python3.7/site-packages/numba/cuda/cudadrv/devices.py\u001b[0m in \u001b[0;36mget_context\u001b[0;34m(devnum)\u001b[0m\n\u001b[1;32m    210\u001b[0m     \u001b[0;32mreturn\u001b[0m \u001b[0mthe\u001b[0m \u001b[0mCUDA\u001b[0m \u001b[0mcontext\u001b[0m\u001b[0;34m.\u001b[0m\u001b[0;34m\u001b[0m\u001b[0;34m\u001b[0m\u001b[0m\n\u001b[1;32m    211\u001b[0m     \"\"\"\n\u001b[0;32m--> 212\u001b[0;31m     \u001b[0;32mreturn\u001b[0m \u001b[0m_runtime\u001b[0m\u001b[0;34m.\u001b[0m\u001b[0mget_or_create_context\u001b[0m\u001b[0;34m(\u001b[0m\u001b[0mdevnum\u001b[0m\u001b[0;34m)\u001b[0m\u001b[0;34m\u001b[0m\u001b[0;34m\u001b[0m\u001b[0m\n\u001b[0m\u001b[1;32m    213\u001b[0m \u001b[0;34m\u001b[0m\u001b[0m\n\u001b[1;32m    214\u001b[0m \u001b[0;34m\u001b[0m\u001b[0m\n",
      "\u001b[0;32m~/anaconda3/lib/python3.7/site-packages/numba/cuda/cudadrv/devices.py\u001b[0m in \u001b[0;36mget_or_create_context\u001b[0;34m(self, devnum)\u001b[0m\n\u001b[1;32m    136\u001b[0m             \u001b[0mattached_ctx\u001b[0m \u001b[0;34m=\u001b[0m \u001b[0mself\u001b[0m\u001b[0;34m.\u001b[0m\u001b[0m_get_attached_context\u001b[0m\u001b[0;34m(\u001b[0m\u001b[0;34m)\u001b[0m\u001b[0;34m\u001b[0m\u001b[0;34m\u001b[0m\u001b[0m\n\u001b[1;32m    137\u001b[0m             \u001b[0;32mif\u001b[0m \u001b[0mattached_ctx\u001b[0m \u001b[0;32mis\u001b[0m \u001b[0;32mNone\u001b[0m\u001b[0;34m:\u001b[0m\u001b[0;34m\u001b[0m\u001b[0;34m\u001b[0m\u001b[0m\n\u001b[0;32m--> 138\u001b[0;31m                 \u001b[0;32mreturn\u001b[0m \u001b[0mself\u001b[0m\u001b[0;34m.\u001b[0m\u001b[0m_get_or_create_context_uncached\u001b[0m\u001b[0;34m(\u001b[0m\u001b[0mdevnum\u001b[0m\u001b[0;34m)\u001b[0m\u001b[0;34m\u001b[0m\u001b[0;34m\u001b[0m\u001b[0m\n\u001b[0m\u001b[1;32m    139\u001b[0m             \u001b[0;32melse\u001b[0m\u001b[0;34m:\u001b[0m\u001b[0;34m\u001b[0m\u001b[0;34m\u001b[0m\u001b[0m\n\u001b[1;32m    140\u001b[0m                 \u001b[0;32mreturn\u001b[0m \u001b[0mattached_ctx\u001b[0m\u001b[0;34m\u001b[0m\u001b[0;34m\u001b[0m\u001b[0m\n",
      "\u001b[0;32m~/anaconda3/lib/python3.7/site-packages/numba/cuda/cudadrv/devices.py\u001b[0m in \u001b[0;36m_get_or_create_context_uncached\u001b[0;34m(self, devnum)\u001b[0m\n\u001b[1;32m    149\u001b[0m             \u001b[0;31m# Try to get the active context in the CUDA stack or\u001b[0m\u001b[0;34m\u001b[0m\u001b[0;34m\u001b[0m\u001b[0;34m\u001b[0m\u001b[0m\n\u001b[1;32m    150\u001b[0m             \u001b[0;31m# activate GPU-0 with the primary context\u001b[0m\u001b[0;34m\u001b[0m\u001b[0;34m\u001b[0m\u001b[0;34m\u001b[0m\u001b[0m\n\u001b[0;32m--> 151\u001b[0;31m             \u001b[0;32mwith\u001b[0m \u001b[0mdriver\u001b[0m\u001b[0;34m.\u001b[0m\u001b[0mget_active_context\u001b[0m\u001b[0;34m(\u001b[0m\u001b[0;34m)\u001b[0m \u001b[0;32mas\u001b[0m \u001b[0mac\u001b[0m\u001b[0;34m:\u001b[0m\u001b[0;34m\u001b[0m\u001b[0;34m\u001b[0m\u001b[0m\n\u001b[0m\u001b[1;32m    152\u001b[0m                 \u001b[0;32mif\u001b[0m \u001b[0;32mnot\u001b[0m \u001b[0mac\u001b[0m\u001b[0;34m:\u001b[0m\u001b[0;34m\u001b[0m\u001b[0;34m\u001b[0m\u001b[0m\n\u001b[1;32m    153\u001b[0m                     \u001b[0;32mreturn\u001b[0m \u001b[0mself\u001b[0m\u001b[0;34m.\u001b[0m\u001b[0m_activate_context_for\u001b[0m\u001b[0;34m(\u001b[0m\u001b[0;36m0\u001b[0m\u001b[0;34m)\u001b[0m\u001b[0;34m\u001b[0m\u001b[0;34m\u001b[0m\u001b[0m\n",
      "\u001b[0;32m~/anaconda3/lib/python3.7/site-packages/numba/cuda/cudadrv/driver.py\u001b[0m in \u001b[0;36m__enter__\u001b[0;34m(self)\u001b[0m\n\u001b[1;32m    386\u001b[0m         \u001b[0;32melse\u001b[0m\u001b[0;34m:\u001b[0m\u001b[0;34m\u001b[0m\u001b[0;34m\u001b[0m\u001b[0m\n\u001b[1;32m    387\u001b[0m             \u001b[0mhctx\u001b[0m \u001b[0;34m=\u001b[0m \u001b[0mdrvapi\u001b[0m\u001b[0;34m.\u001b[0m\u001b[0mcu_context\u001b[0m\u001b[0;34m(\u001b[0m\u001b[0;36m0\u001b[0m\u001b[0;34m)\u001b[0m\u001b[0;34m\u001b[0m\u001b[0;34m\u001b[0m\u001b[0m\n\u001b[0;32m--> 388\u001b[0;31m             \u001b[0mdriver\u001b[0m\u001b[0;34m.\u001b[0m\u001b[0mcuCtxGetCurrent\u001b[0m\u001b[0;34m(\u001b[0m\u001b[0mbyref\u001b[0m\u001b[0;34m(\u001b[0m\u001b[0mhctx\u001b[0m\u001b[0;34m)\u001b[0m\u001b[0;34m)\u001b[0m\u001b[0;34m\u001b[0m\u001b[0;34m\u001b[0m\u001b[0m\n\u001b[0m\u001b[1;32m    389\u001b[0m             \u001b[0mhctx\u001b[0m \u001b[0;34m=\u001b[0m \u001b[0mhctx\u001b[0m \u001b[0;32mif\u001b[0m \u001b[0mhctx\u001b[0m\u001b[0;34m.\u001b[0m\u001b[0mvalue\u001b[0m \u001b[0;32melse\u001b[0m \u001b[0;32mNone\u001b[0m\u001b[0;34m\u001b[0m\u001b[0;34m\u001b[0m\u001b[0m\n\u001b[1;32m    390\u001b[0m \u001b[0;34m\u001b[0m\u001b[0m\n",
      "\u001b[0;32m~/anaconda3/lib/python3.7/site-packages/numba/cuda/cudadrv/driver.py\u001b[0m in \u001b[0;36m__getattr__\u001b[0;34m(self, fname)\u001b[0m\n\u001b[1;32m    277\u001b[0m         \u001b[0;32mif\u001b[0m \u001b[0mself\u001b[0m\u001b[0;34m.\u001b[0m\u001b[0minitialization_error\u001b[0m \u001b[0;32mis\u001b[0m \u001b[0;32mnot\u001b[0m \u001b[0;32mNone\u001b[0m\u001b[0;34m:\u001b[0m\u001b[0;34m\u001b[0m\u001b[0;34m\u001b[0m\u001b[0m\n\u001b[1;32m    278\u001b[0m             raise CudaSupportError(\"Error at driver init: \\n%s:\" %\n\u001b[0;32m--> 279\u001b[0;31m                                    self.initialization_error)\n\u001b[0m\u001b[1;32m    280\u001b[0m \u001b[0;34m\u001b[0m\u001b[0m\n\u001b[1;32m    281\u001b[0m         \u001b[0;31m# Find function in driver library\u001b[0m\u001b[0;34m\u001b[0m\u001b[0;34m\u001b[0m\u001b[0;34m\u001b[0m\u001b[0m\n",
      "\u001b[0;31mCudaSupportError\u001b[0m: Error at driver init: \n\nCUDA driver library cannot be found.\nIf you are sure that a CUDA driver is installed,\ntry setting environment variable NUMBA_CUDA_DRIVER\nwith the file path of the CUDA driver shared library.\n:"
     ]
    }
   ],
   "source": [
    "from numba import jit, cuda \n",
    "import numpy as np \n",
    "# to measure exec time \n",
    "from timeit import default_timer as timer    \n",
    "  \n",
    "# normal function to run on cpu \n",
    "def func(a):                                 \n",
    "    for i in range(10000000): \n",
    "        a[i]+= 1      \n",
    "  \n",
    "# function optimized to run on gpu  \n",
    "@jit(target =\"cuda\")                          \n",
    "def func2(a): \n",
    "    for i in range(10000000): \n",
    "        a[i]+= 1\n",
    "if __name__==\"__main__\": \n",
    "    n = 10000000                            \n",
    "    a = np.ones(n, dtype = np.float64) \n",
    "    b = np.ones(n, dtype = np.float32) \n",
    "      \n",
    "    start = timer() \n",
    "    func(a) \n",
    "    print(\"without GPU:\", timer()-start)     \n",
    "      \n",
    "    start = timer() \n",
    "    func2(a) \n",
    "    print(\"with GPU:\", timer()-start)"
   ]
  },
  {
   "cell_type": "markdown",
   "metadata": {},
   "source": [
    "## word2vec model"
   ]
  },
  {
   "cell_type": "code",
   "execution_count": 1,
   "metadata": {},
   "outputs": [],
   "source": [
    "#Vector values\n",
    "%store -r X1\n",
    "#Tokens\n",
    "%store -r X2 "
   ]
  },
  {
   "cell_type": "markdown",
   "metadata": {},
   "source": [
    "## Equal-sized clusters - methods"
   ]
  },
  {
   "cell_type": "markdown",
   "metadata": {},
   "source": [
    "#### 1. Iterative Dichotomy"
   ]
  },
  {
   "cell_type": "code",
   "execution_count": null,
   "metadata": {},
   "outputs": [],
   "source": [
    "knitr::opts_chunk$set(message=FALSE, echo=FALSE, warning=FALSE, fig.width=10)\n",
    "```\n",
    "\n",
    "```{r}\n",
    "library(ape)\n",
    "library(ggplot2)\n",
    "library(dplyr)\n",
    "library(magrittr)\n",
    "library(tidyr)\n",
    "library(cluster)\n",
    "## Winsorize a vector\n",
    "winsor <- function(x, u){\n",
    "  if(any(x>u)) x[x>u] = u"
   ]
  },
  {
   "cell_type": "code",
   "execution_count": null,
   "metadata": {},
   "outputs": [],
   "source": [
    "hclustit <- function(mat, clsize = 10, method='ward.D', split.th=1.5){\n",
    "  lab = rep('l', nrow(mat))\n",
    "  lab.size = table(lab)\n",
    "  while(any(lab.size>clsize*split.th)){\n",
    "    lab.ii = which(lab == names(lab.size)[which.max(lab.size)])\n",
    "    mmat = mat[lab.ii,]\n",
    "    hc.o = hclust(dist(mmat), method=method)\n",
    "    lab[lab.ii] = paste0(lab[lab.ii], '-', cutree(hc.o, 2))\n",
    "    lab.size = table(lab)\n",
    "  }\n",
    "  lab\n",
    "}"
   ]
  },
  {
   "cell_type": "code",
   "execution_count": 2,
   "metadata": {},
   "outputs": [
    {
     "name": "stdout",
     "output_type": "stream",
     "text": [
      "['setosa' 'versicolor' 'virginica']\n"
     ]
    },
    {
     "data": {
      "text/plain": [
       "<seaborn.matrix.ClusterGrid at 0x7f4a66199b00>"
      ]
     },
     "execution_count": 2,
     "metadata": {},
     "output_type": "execute_result"
    },
    {
     "data": {
      "image/png": "[encoded data removed]",
      "text/plain": [
       "<Figure size 720x720 with 4 Axes>"
      ]
     },
     "metadata": {},
     "output_type": "display_data"
    }
   ],
   "source": [
    "import seaborn as sns; sns.set(color_codes=True)\n",
    "iris = sns.load_dataset(\"iris\")\n",
    "species = iris.pop(\"species\")   # Remove the species column\n",
    "print(species.unique())         # The samples seems to be from these three species\n",
    "sns.clustermap(iris, method=\"ward\", col_cluster=False, cbar_kws={'label': 'centimeters'})"
   ]
  },
  {
   "cell_type": "markdown",
   "metadata": {},
   "source": [
    "#### Hierarchical Clustering (Agglomerative)"
   ]
  },
  {
   "cell_type": "code",
   "execution_count": 1,
   "metadata": {},
   "outputs": [],
   "source": [
    "import pandas as pd\n",
    "import numpy as np\n",
    "import matplotlib.pyplot as plt\n",
    "%matplotlib inline"
   ]
  },
  {
   "cell_type": "code",
   "execution_count": 2,
   "metadata": {},
   "outputs": [],
   "source": [
    "%store -r X0"
   ]
  },
  {
   "cell_type": "code",
   "execution_count": 3,
   "metadata": {},
   "outputs": [],
   "source": [
    "from sklearn.manifold import SpectralEmbedding\n",
    "n_dim = 2\n",
    "embeddings = SpectralEmbedding(n_components=n_dim)"
   ]
  },
  {
   "cell_type": "code",
   "execution_count": 4,
   "metadata": {},
   "outputs": [],
   "source": [
    "subjects = pd.DataFrame(\n",
    "    embeddings.fit_transform(X0),\n",
    "    columns=['x{}'.format(i) for i in range(n_dim)])"
   ]
  },
  {
   "cell_type": "code",
   "execution_count": 5,
   "metadata": {},
   "outputs": [
    {
     "data": {
      "text/html": [
       "<div>\n",
       "<style scoped>\n",
       "    .dataframe tbody tr th:only-of-type {\n",
       "        vertical-align: middle;\n",
       "    }\n",
       "\n",
       "    .dataframe tbody tr th {\n",
       "        vertical-align: top;\n",
       "    }\n",
       "\n",
       "    .dataframe thead th {\n",
       "        text-align: right;\n",
       "    }\n",
       "</style>\n",
       "<table border=\"1\" class=\"dataframe\">\n",
       "  <thead>\n",
       "    <tr style=\"text-align: right;\">\n",
       "      <th></th>\n",
       "      <th>x0</th>\n",
       "      <th>x1</th>\n",
       "    </tr>\n",
       "  </thead>\n",
       "  <tbody>\n",
       "    <tr>\n",
       "      <th>0</th>\n",
       "      <td>-0.001486</td>\n",
       "      <td>0.001772</td>\n",
       "    </tr>\n",
       "    <tr>\n",
       "      <th>1</th>\n",
       "      <td>-0.000155</td>\n",
       "      <td>-0.001716</td>\n",
       "    </tr>\n",
       "    <tr>\n",
       "      <th>2</th>\n",
       "      <td>0.000852</td>\n",
       "      <td>-0.001446</td>\n",
       "    </tr>\n",
       "    <tr>\n",
       "      <th>3</th>\n",
       "      <td>-0.001345</td>\n",
       "      <td>0.000954</td>\n",
       "    </tr>\n",
       "    <tr>\n",
       "      <th>4</th>\n",
       "      <td>-0.001600</td>\n",
       "      <td>0.002195</td>\n",
       "    </tr>\n",
       "    <tr>\n",
       "      <th>...</th>\n",
       "      <td>...</td>\n",
       "      <td>...</td>\n",
       "    </tr>\n",
       "    <tr>\n",
       "      <th>2338</th>\n",
       "      <td>0.001604</td>\n",
       "      <td>-0.000359</td>\n",
       "    </tr>\n",
       "    <tr>\n",
       "      <th>2339</th>\n",
       "      <td>0.001088</td>\n",
       "      <td>-0.001092</td>\n",
       "    </tr>\n",
       "    <tr>\n",
       "      <th>2340</th>\n",
       "      <td>-0.000815</td>\n",
       "      <td>-0.000715</td>\n",
       "    </tr>\n",
       "    <tr>\n",
       "      <th>2341</th>\n",
       "      <td>0.001685</td>\n",
       "      <td>0.000011</td>\n",
       "    </tr>\n",
       "    <tr>\n",
       "      <th>2342</th>\n",
       "      <td>-0.001382</td>\n",
       "      <td>0.001141</td>\n",
       "    </tr>\n",
       "  </tbody>\n",
       "</table>\n",
       "<p>2343 rows × 2 columns</p>\n",
       "</div>"
      ],
      "text/plain": [
       "            x0        x1\n",
       "0    -0.001486  0.001772\n",
       "1    -0.000155 -0.001716\n",
       "2     0.000852 -0.001446\n",
       "3    -0.001345  0.000954\n",
       "4    -0.001600  0.002195\n",
       "...        ...       ...\n",
       "2338  0.001604 -0.000359\n",
       "2339  0.001088 -0.001092\n",
       "2340 -0.000815 -0.000715\n",
       "2341  0.001685  0.000011\n",
       "2342 -0.001382  0.001141\n",
       "\n",
       "[2343 rows x 2 columns]"
      ]
     },
     "execution_count": 5,
     "metadata": {},
     "output_type": "execute_result"
    }
   ],
   "source": [
    "df = pd.DataFrame(subjects)\n",
    "df"
   ]
  },
  {
   "cell_type": "code",
   "execution_count": 100,
   "metadata": {},
   "outputs": [
    {
     "data": {
      "image/png": "[encoded data removed]",
      "text/plain": [
       "<Figure size 720x504 with 1 Axes>"
      ]
     },
     "metadata": {
      "needs_background": "light"
     },
     "output_type": "display_data"
    }
   ],
   "source": [
    "#Number of Clusters\n",
    "import scipy.cluster.hierarchy as shc\n",
    "plt.figure(figsize=(10, 7))  \n",
    "plt.title(\"Dendrograms\")  \n",
    "dend = shc.dendrogram(shc.linkage(df, method='average'))"
   ]
  },
  {
   "cell_type": "code",
   "execution_count": 101,
   "metadata": {},
   "outputs": [
    {
     "data": {
      "image/png": "[encoded data removed]",
      "text/plain": [
       "<Figure size 720x504 with 1 Axes>"
      ]
     },
     "metadata": {
      "needs_background": "light"
     },
     "output_type": "display_data"
    }
   ],
   "source": [
    "#Number of Clusters\n",
    "import scipy.cluster.hierarchy as shc\n",
    "plt.figure(figsize=(10, 7))  \n",
    "plt.title(\"Dendrograms\")  \n",
    "dend = shc.dendrogram(shc.linkage(df, method='ward'))"
   ]
  },
  {
   "cell_type": "code",
   "execution_count": 79,
   "metadata": {},
   "outputs": [
    {
     "data": {
      "text/plain": [
       "<matplotlib.lines.Line2D at 0x7f03c4258470>"
      ]
     },
     "execution_count": 79,
     "metadata": {},
     "output_type": "execute_result"
    },
    {
     "data": {
      "image/png": "[encoded data removed]",
      "text/plain": [
       "<Figure size 720x504 with 1 Axes>"
      ]
     },
     "metadata": {
      "needs_background": "light"
     },
     "output_type": "display_data"
    }
   ],
   "source": [
    "plt.figure(figsize=(10, 7))  \n",
    "plt.title(\"Dendrograms\")  \n",
    "dend = shc.dendrogram(shc.linkage(df, method='ward'))\n",
    "plt.axhline(y=0.06, color='r', linestyle='--')"
   ]
  },
  {
   "cell_type": "code",
   "execution_count": 6,
   "metadata": {},
   "outputs": [
    {
     "data": {
      "text/plain": [
       "array([2, 1, 1, ..., 1, 0, 2])"
      ]
     },
     "execution_count": 6,
     "metadata": {},
     "output_type": "execute_result"
    }
   ],
   "source": [
    "from sklearn.cluster import AgglomerativeClustering\n",
    "cluster = AgglomerativeClustering(n_clusters=3, affinity='euclidean', linkage='average')  \n",
    "label = cluster.fit_predict(df)\n",
    "label"
   ]
  },
  {
   "cell_type": "code",
   "execution_count": 11,
   "metadata": {},
   "outputs": [
    {
     "data": {
      "text/plain": [
       "<matplotlib.collections.PathCollection at 0x7f5bbca5d9e8>"
      ]
     },
     "execution_count": 11,
     "metadata": {},
     "output_type": "execute_result"
    },
    {
     "data": {
      "image/png": "[encoded data removed]",
      "text/plain": [
       "<Figure size 720x504 with 1 Axes>"
      ]
     },
     "metadata": {
      "needs_background": "light"
     },
     "output_type": "display_data"
    }
   ],
   "source": [
    "plt.figure(figsize=(10, 7))  \n",
    "plt.scatter(df[2], df[1], c=cluster.labels_) "
   ]
  },
  {
   "cell_type": "code",
   "execution_count": 75,
   "metadata": {},
   "outputs": [
    {
     "data": {
      "text/plain": [
       "array([2, 1, 4, ..., 1, 0, 2])"
      ]
     },
     "execution_count": 75,
     "metadata": {},
     "output_type": "execute_result"
    }
   ],
   "source": [
    "from sklearn.cluster import AgglomerativeClustering\n",
    "cluster = AgglomerativeClustering(n_clusters=5, affinity='euclidean', linkage='average')  \n",
    "label2 = cluster.fit_predict(df)\n",
    "label2"
   ]
  },
  {
   "cell_type": "code",
   "execution_count": 15,
   "metadata": {},
   "outputs": [
    {
     "data": {
      "text/plain": [
       "<matplotlib.collections.PathCollection at 0x7f2c5524f438>"
      ]
     },
     "execution_count": 15,
     "metadata": {},
     "output_type": "execute_result"
    },
    {
     "data": {
      "image/png": "[encoded data removed]",
      "text/plain": [
       "<Figure size 720x504 with 1 Axes>"
      ]
     },
     "metadata": {
      "needs_background": "light"
     },
     "output_type": "display_data"
    }
   ],
   "source": [
    "plt.figure(figsize=(10, 7))  \n",
    "plt.scatter(df[0], df[50], c=cluster.labels_) "
   ]
  },
  {
   "cell_type": "code",
   "execution_count": 7,
   "metadata": {},
   "outputs": [
    {
     "name": "stdout",
     "output_type": "stream",
     "text": [
      "526\n",
      "1107\n",
      "710\n"
     ]
    }
   ],
   "source": [
    "c0=0\n",
    "c1=0\n",
    "c2=0\n",
    "\n",
    "for i in label:\n",
    "    if(i==0):\n",
    "        c0=c0+1\n",
    "    elif(i==1):\n",
    "        c1=c1+1\n",
    "    else:\n",
    "        c2=c2+1\n",
    "print(c0)\n",
    "print(c1)\n",
    "print(c2)"
   ]
  },
  {
   "cell_type": "code",
   "execution_count": 9,
   "metadata": {},
   "outputs": [
    {
     "data": {
      "image/png": "[encoded data removed]",
      "text/plain": [
       "<Figure size 432x288 with 1 Axes>"
      ]
     },
     "metadata": {
      "needs_background": "light"
     },
     "output_type": "display_data"
    },
    {
     "name": "stdout",
     "output_type": "stream",
     "text": [
      "clusters: 5\n"
     ]
    }
   ],
   "source": [
    "#Elbow plot\n",
    "from scipy.cluster.hierarchy import dendrogram, linkage\n",
    "Z = linkage(df, 'average')\n",
    "last = Z[-10:, 2]\n",
    "last_rev = last[::-1]\n",
    "idxs = np.arange(1, len(last) + 1)\n",
    "plt.plot(idxs, last_rev)\n",
    "\n",
    "acceleration = np.diff(last, 2)  # 2nd derivative of the distances\n",
    "acceleration_rev = acceleration[::-1]\n",
    "plt.plot(idxs[:-2] + 1, acceleration_rev)\n",
    "plt.show()\n",
    "k = acceleration_rev.argmax() + 2  # if idx 0 is the max of this we want 2 clusters\n",
    "print (\"clusters:\", k)"
   ]
  },
  {
   "cell_type": "code",
   "execution_count": 77,
   "metadata": {},
   "outputs": [
    {
     "data": {
      "text/plain": [
       "array([0.00148439, 0.00200426, 0.0027888 , 0.00347735])"
      ]
     },
     "execution_count": 77,
     "metadata": {},
     "output_type": "execute_result"
    }
   ],
   "source": [
    "Z[-4:,2]"
   ]
  },
  {
   "cell_type": "code",
   "execution_count": 97,
   "metadata": {},
   "outputs": [],
   "source": [
    "s = subjects.to_numpy()"
   ]
  },
  {
   "cell_type": "code",
   "execution_count": 94,
   "metadata": {},
   "outputs": [],
   "source": [
    "df0 = pd.DataFrame(subjects)\n",
    "s0 = df0.to_numpy()"
   ]
  },
  {
   "cell_type": "code",
   "execution_count": 98,
   "metadata": {},
   "outputs": [
    {
     "data": {
      "image/png": "[encoded data removed]",
      "text/plain": [
       "<Figure size 432x288 with 1 Axes>"
      ]
     },
     "metadata": {
      "needs_background": "light"
     },
     "output_type": "display_data"
    }
   ],
   "source": [
    "plt.scatter(s[0:10,0], s[0:10,1])\n",
    "plt.show()"
   ]
  },
  {
   "cell_type": "code",
   "execution_count": 15,
   "metadata": {},
   "outputs": [],
   "source": [
    "from sklearn.metrics import silhouette_score\n",
    "from sklearn.metrics import davies_bouldin_score"
   ]
  },
  {
   "cell_type": "code",
   "execution_count": 16,
   "metadata": {},
   "outputs": [
    {
     "data": {
      "text/plain": [
       "0.5908479903722514"
      ]
     },
     "execution_count": 16,
     "metadata": {},
     "output_type": "execute_result"
    }
   ],
   "source": [
    "#Embedding dim=3\n",
    "silhouette_avg = silhouette_score(subjects, label)\n",
    "silhouette_avg"
   ]
  },
  {
   "cell_type": "code",
   "execution_count": 17,
   "metadata": {},
   "outputs": [
    {
     "data": {
      "text/plain": [
       "0.5518770644257627"
      ]
     },
     "execution_count": 17,
     "metadata": {},
     "output_type": "execute_result"
    }
   ],
   "source": [
    "davies_bouldin_score(subjects, label)"
   ]
  },
  {
   "cell_type": "code",
   "execution_count": 10,
   "metadata": {},
   "outputs": [
    {
     "data": {
      "text/plain": [
       "0.81631657891613"
      ]
     },
     "execution_count": 10,
     "metadata": {},
     "output_type": "execute_result"
    }
   ],
   "source": [
    "from scipy.cluster.hierarchy import cophenet\n",
    "from scipy.spatial.distance import pdist\n",
    "\n",
    "c, coph_dists = cophenet(Z, pdist(df))\n",
    "c"
   ]
  },
  {
   "cell_type": "code",
   "execution_count": 11,
   "metadata": {},
   "outputs": [],
   "source": [
    "#Cluster-wise separation of regulations\n",
    "t=-1\n",
    "rid0 = []\n",
    "rid1 = []\n",
    "rid2 = []\n",
    "\n",
    "for i in label:\n",
    "    t=t+1\n",
    "    if(i==0):\n",
    "        rid0.append(t)\n",
    "    elif(i==1):\n",
    "        rid1.append(t)\n",
    "    else:\n",
    "        rid2.append(t)"
   ]
  },
  {
   "cell_type": "code",
   "execution_count": 12,
   "metadata": {},
   "outputs": [],
   "source": [
    "import pandas as pd\n",
    "ins = pd.read_csv('../data/final_rules.csv')\n",
    "corpus = ins['text'].tolist()"
   ]
  },
  {
   "cell_type": "code",
   "execution_count": 13,
   "metadata": {},
   "outputs": [],
   "source": [
    "r0 = []\n",
    "r1 = []\n",
    "r2 = []\n",
    "\n",
    "for i in rid0:\n",
    "    r0.append(corpus[i])\n",
    "for i in rid1:\n",
    "    r1.append(corpus[i])\n",
    "for i in rid2:\n",
    "    r2.append(corpus[i])"
   ]
  },
  {
   "cell_type": "code",
   "execution_count": 14,
   "metadata": {},
   "outputs": [],
   "source": [
    "df0 = pd.DataFrame(r0)\n",
    "df0.to_csv('reg0-hiespec.csv', index=False)\n",
    "df1 = pd.DataFrame(r1)\n",
    "df1.to_csv('reg1-hiespec.csv', index=False)\n",
    "df2 = pd.DataFrame(r2)\n",
    "df2.to_csv('reg2-hiespec.csv', index=False)"
   ]
  },
  {
   "cell_type": "code",
   "execution_count": 96,
   "metadata": {},
   "outputs": [],
   "source": [
    "#Cluster-wise separation of regulations' vector values\n",
    "t=-1\n",
    "r0 = []\n",
    "rid0 = []\n",
    "r1 = []\n",
    "rid1 = []\n",
    "r2 = []\n",
    "rid2 = []\n",
    "#r3 = []\n",
    "#rid3 = []\n",
    "for i in label:\n",
    "    t=t+1\n",
    "    if(i==0):\n",
    "        r0.append(X0[t])\n",
    "        rid0.append(t)\n",
    "    elif(i==1):\n",
    "        r1.append(X0[t])\n",
    "        rid1.append(t)\n",
    "    #elif(i==2):\n",
    "    #    r2.append(X0[t])\n",
    "    #    rid2.append(t)\n",
    "    else:\n",
    "        r2.append(X0[t])\n",
    "        rid2.append(t)"
   ]
  },
  {
   "cell_type": "code",
   "execution_count": 97,
   "metadata": {},
   "outputs": [],
   "source": [
    "labels = pd.DataFrame(label,columns=['target'])"
   ]
  },
  {
   "cell_type": "code",
   "execution_count": null,
   "metadata": {},
   "outputs": [],
   "source": []
  },
  {
   "cell_type": "markdown",
   "metadata": {},
   "source": [
    "#### PCA"
   ]
  },
  {
   "cell_type": "code",
   "execution_count": 87,
   "metadata": {},
   "outputs": [],
   "source": [
    "from sklearn.decomposition import PCA\n",
    "pca = PCA(n_components=5)\n",
    "principalComponents = pca.fit_transform(X0)\n",
    "principalDf = pd.DataFrame(data = principalComponents\n",
    "             , columns = ['principal component 1', 'principal component 2','principal component 3','principal component 4','principal component 5'])"
   ]
  },
  {
   "cell_type": "code",
   "execution_count": 56,
   "metadata": {},
   "outputs": [
    {
     "data": {
      "text/plain": [
       "<bound method BaseEstimator.get_params of PCA(n_components=5)>"
      ]
     },
     "execution_count": 56,
     "metadata": {},
     "output_type": "execute_result"
    }
   ],
   "source": [
    "pca.get_params"
   ]
  },
  {
   "cell_type": "code",
   "execution_count": 51,
   "metadata": {},
   "outputs": [],
   "source": [
    "finalDf = pd.concat([principalDf, labels], axis = 1)"
   ]
  },
  {
   "cell_type": "code",
   "execution_count": 52,
   "metadata": {},
   "outputs": [
    {
     "data": {
      "text/html": [
       "<div>\n",
       "<style scoped>\n",
       "    .dataframe tbody tr th:only-of-type {\n",
       "        vertical-align: middle;\n",
       "    }\n",
       "\n",
       "    .dataframe tbody tr th {\n",
       "        vertical-align: top;\n",
       "    }\n",
       "\n",
       "    .dataframe thead th {\n",
       "        text-align: right;\n",
       "    }\n",
       "</style>\n",
       "<table border=\"1\" class=\"dataframe\">\n",
       "  <thead>\n",
       "    <tr style=\"text-align: right;\">\n",
       "      <th></th>\n",
       "      <th>principal component 1</th>\n",
       "      <th>principal component 2</th>\n",
       "      <th>principal component 3</th>\n",
       "      <th>principal component 4</th>\n",
       "      <th>principal component 5</th>\n",
       "      <th>target</th>\n",
       "    </tr>\n",
       "  </thead>\n",
       "  <tbody>\n",
       "    <tr>\n",
       "      <th>0</th>\n",
       "      <td>-0.746799</td>\n",
       "      <td>0.619984</td>\n",
       "      <td>0.141660</td>\n",
       "      <td>0.051003</td>\n",
       "      <td>-0.012131</td>\n",
       "      <td>1</td>\n",
       "    </tr>\n",
       "    <tr>\n",
       "      <th>1</th>\n",
       "      <td>0.026652</td>\n",
       "      <td>0.033293</td>\n",
       "      <td>0.026638</td>\n",
       "      <td>0.027291</td>\n",
       "      <td>0.013364</td>\n",
       "      <td>2</td>\n",
       "    </tr>\n",
       "    <tr>\n",
       "      <th>2</th>\n",
       "      <td>0.209674</td>\n",
       "      <td>0.136698</td>\n",
       "      <td>-0.036992</td>\n",
       "      <td>0.085678</td>\n",
       "      <td>0.060313</td>\n",
       "      <td>0</td>\n",
       "    </tr>\n",
       "    <tr>\n",
       "      <th>3</th>\n",
       "      <td>-0.328287</td>\n",
       "      <td>-0.103865</td>\n",
       "      <td>0.014431</td>\n",
       "      <td>0.074963</td>\n",
       "      <td>-0.060319</td>\n",
       "      <td>2</td>\n",
       "    </tr>\n",
       "    <tr>\n",
       "      <th>4</th>\n",
       "      <td>-0.897524</td>\n",
       "      <td>0.101194</td>\n",
       "      <td>0.236069</td>\n",
       "      <td>0.004179</td>\n",
       "      <td>-0.018624</td>\n",
       "      <td>1</td>\n",
       "    </tr>\n",
       "    <tr>\n",
       "      <th>...</th>\n",
       "      <td>...</td>\n",
       "      <td>...</td>\n",
       "      <td>...</td>\n",
       "      <td>...</td>\n",
       "      <td>...</td>\n",
       "      <td>...</td>\n",
       "    </tr>\n",
       "    <tr>\n",
       "      <th>2338</th>\n",
       "      <td>0.356083</td>\n",
       "      <td>0.099370</td>\n",
       "      <td>0.007326</td>\n",
       "      <td>0.039737</td>\n",
       "      <td>0.041379</td>\n",
       "      <td>0</td>\n",
       "    </tr>\n",
       "    <tr>\n",
       "      <th>2339</th>\n",
       "      <td>0.270393</td>\n",
       "      <td>-0.214386</td>\n",
       "      <td>0.071421</td>\n",
       "      <td>-0.024998</td>\n",
       "      <td>-0.025753</td>\n",
       "      <td>0</td>\n",
       "    </tr>\n",
       "    <tr>\n",
       "      <th>2340</th>\n",
       "      <td>-0.163115</td>\n",
       "      <td>-0.207852</td>\n",
       "      <td>-0.038469</td>\n",
       "      <td>-0.048571</td>\n",
       "      <td>-0.047190</td>\n",
       "      <td>2</td>\n",
       "    </tr>\n",
       "    <tr>\n",
       "      <th>2341</th>\n",
       "      <td>0.409688</td>\n",
       "      <td>-0.255061</td>\n",
       "      <td>-0.000788</td>\n",
       "      <td>-0.033911</td>\n",
       "      <td>-0.053290</td>\n",
       "      <td>0</td>\n",
       "    </tr>\n",
       "    <tr>\n",
       "      <th>2342</th>\n",
       "      <td>-0.377630</td>\n",
       "      <td>-0.159992</td>\n",
       "      <td>-0.063326</td>\n",
       "      <td>-0.129668</td>\n",
       "      <td>-0.021477</td>\n",
       "      <td>2</td>\n",
       "    </tr>\n",
       "  </tbody>\n",
       "</table>\n",
       "<p>2343 rows × 6 columns</p>\n",
       "</div>"
      ],
      "text/plain": [
       "      principal component 1  principal component 2  principal component 3  \\\n",
       "0                 -0.746799               0.619984               0.141660   \n",
       "1                  0.026652               0.033293               0.026638   \n",
       "2                  0.209674               0.136698              -0.036992   \n",
       "3                 -0.328287              -0.103865               0.014431   \n",
       "4                 -0.897524               0.101194               0.236069   \n",
       "...                     ...                    ...                    ...   \n",
       "2338               0.356083               0.099370               0.007326   \n",
       "2339               0.270393              -0.214386               0.071421   \n",
       "2340              -0.163115              -0.207852              -0.038469   \n",
       "2341               0.409688              -0.255061              -0.000788   \n",
       "2342              -0.377630              -0.159992              -0.063326   \n",
       "\n",
       "      principal component 4  principal component 5  target  \n",
       "0                  0.051003              -0.012131       1  \n",
       "1                  0.027291               0.013364       2  \n",
       "2                  0.085678               0.060313       0  \n",
       "3                  0.074963              -0.060319       2  \n",
       "4                  0.004179              -0.018624       1  \n",
       "...                     ...                    ...     ...  \n",
       "2338               0.039737               0.041379       0  \n",
       "2339              -0.024998              -0.025753       0  \n",
       "2340              -0.048571              -0.047190       2  \n",
       "2341              -0.033911              -0.053290       0  \n",
       "2342              -0.129668              -0.021477       2  \n",
       "\n",
       "[2343 rows x 6 columns]"
      ]
     },
     "execution_count": 52,
     "metadata": {},
     "output_type": "execute_result"
    }
   ],
   "source": [
    "finalDf"
   ]
  },
  {
   "cell_type": "code",
   "execution_count": null,
   "metadata": {},
   "outputs": [],
   "source": []
  },
  {
   "cell_type": "code",
   "execution_count": 46,
   "metadata": {},
   "outputs": [
    {
     "data": {
      "image/png": "[encoded data removed]",
      "text/plain": [
       "<Figure size 576x576 with 1 Axes>"
      ]
     },
     "metadata": {
      "needs_background": "light"
     },
     "output_type": "display_data"
    }
   ],
   "source": [
    "fig = plt.figure(figsize = (8,8))\n",
    "ax = fig.add_subplot(1,1,1) \n",
    "ax.set_xlabel('Principal Component 1', fontsize = 15)\n",
    "ax.set_ylabel('Principal Component 2', fontsize = 15)\n",
    "ax.set_title('2 component PCA', fontsize = 20)\n",
    "targets = [0, 1, 2]\n",
    "colors = ['r', 'g', 'b']\n",
    "for target, color in zip(targets,colors):\n",
    "    indicesToKeep = finalDf['target'] == target\n",
    "    ax.scatter(finalDf.loc[indicesToKeep, 'principal component 1']\n",
    "               , finalDf.loc[indicesToKeep, 'principal component 2']\n",
    "               , c = color\n",
    "               , s = 50)\n",
    "ax.legend(targets)\n",
    "ax.grid()"
   ]
  },
  {
   "cell_type": "code",
   "execution_count": 47,
   "metadata": {},
   "outputs": [
    {
     "data": {
      "text/plain": [
       "array([0.67075964, 0.22600949])"
      ]
     },
     "execution_count": 47,
     "metadata": {},
     "output_type": "execute_result"
    }
   ],
   "source": [
    "pca.explained_variance_ratio_"
   ]
  },
  {
   "cell_type": "markdown",
   "metadata": {},
   "source": [
    "## Clusters validation"
   ]
  },
  {
   "cell_type": "markdown",
   "metadata": {},
   "source": [
    "#### silhouette_score"
   ]
  },
  {
   "cell_type": "code",
   "execution_count": 10,
   "metadata": {},
   "outputs": [],
   "source": [
    "from sklearn.metrics import silhouette_score\n",
    "from sklearn.metrics import davies_bouldin_score"
   ]
  },
  {
   "cell_type": "code",
   "execution_count": 8,
   "metadata": {},
   "outputs": [
    {
     "data": {
      "text/plain": [
       "0.5908479903722443"
      ]
     },
     "execution_count": 8,
     "metadata": {},
     "output_type": "execute_result"
    }
   ],
   "source": [
    "#Embedding dim=3\n",
    "silhouette_avg = silhouette_score(subjects, label)\n",
    "silhouette_avg"
   ]
  },
  {
   "cell_type": "code",
   "execution_count": 11,
   "metadata": {},
   "outputs": [
    {
     "data": {
      "text/plain": [
       "0.551877064425763"
      ]
     },
     "execution_count": 11,
     "metadata": {},
     "output_type": "execute_result"
    }
   ],
   "source": [
    "davies_bouldin_score(subjects, label)"
   ]
  },
  {
   "cell_type": "code",
   "execution_count": 9,
   "metadata": {},
   "outputs": [
    {
     "data": {
      "text/plain": [
       "0.5713336520169344"
      ]
     },
     "execution_count": 9,
     "metadata": {},
     "output_type": "execute_result"
    }
   ],
   "source": [
    "#Embedding dim=4\n",
    "silhouette_avg = silhouette_score(subjects, label)\n",
    "silhouette_avg"
   ]
  },
  {
   "cell_type": "code",
   "execution_count": 76,
   "metadata": {},
   "outputs": [
    {
     "data": {
      "text/plain": [
       "0.5430187910049907"
      ]
     },
     "execution_count": 76,
     "metadata": {},
     "output_type": "execute_result"
    }
   ],
   "source": [
    "#Embedding dim=5\n",
    "silhouette_avg = silhouette_score(subjects, label2)\n",
    "silhouette_avg"
   ]
  },
  {
   "cell_type": "markdown",
   "metadata": {},
   "source": [
    "#### Dunn index"
   ]
  },
  {
   "cell_type": "code",
   "execution_count": 10,
   "metadata": {},
   "outputs": [],
   "source": [
    "def delta(ck, cl):\n",
    "    values = np.ones([len(ck), len(cl)])*10000\n",
    "    \n",
    "    for i in range(0, len(ck)):\n",
    "        for j in range(0, len(cl)):\n",
    "            values[i, j] = np.linalg.norm(ck[i]-cl[j])\n",
    "            \n",
    "    return np.min(values)\n",
    "    \n",
    "def big_delta(ci):\n",
    "    values = np.zeros([len(ci), len(ci)])\n",
    "    \n",
    "    for i in range(0, len(ci)):\n",
    "        for j in range(0, len(ci)):\n",
    "            values[i, j] = np.linalg.norm(ci[i]-ci[j])\n",
    "            \n",
    "    return np.max(values)\n",
    "\n",
    "def dunn(k_list):\n",
    "    \"\"\" Dunn index [CVI]\n",
    "    \n",
    "    Parameters\n",
    "    ----------\n",
    "    k_list : list of np.arrays\n",
    "        A list containing a numpy array for each cluster |c| = number of clusters\n",
    "        c[K] is np.array([N, p]) (N : number of samples in cluster K, p : sample dimension)\n",
    "    \"\"\"\n",
    "    deltas = np.ones([len(k_list), len(k_list)])*1000000\n",
    "    big_deltas = np.zeros([len(k_list), 1])\n",
    "    l_range = list(range(0, len(k_list)))\n",
    "    \n",
    "    for k in l_range:\n",
    "        for l in (l_range[0:k]+l_range[k+1:]):\n",
    "            deltas[k, l] = delta(k_list[k], k_list[l])\n",
    "        \n",
    "        big_deltas[k] = big_delta(k_list[k])\n",
    "\n",
    "    di = np.min(deltas)/np.max(big_deltas)\n",
    "    return di"
   ]
  },
  {
   "cell_type": "code",
   "execution_count": 13,
   "metadata": {},
   "outputs": [],
   "source": [
    "rv0 = []\n",
    "rv1 = []\n",
    "rv2 = []\n",
    "\n",
    "for i in rid0:\n",
    "    rv0.append(X0[i])\n",
    "for i in rid1:\n",
    "    rv1.append(X0[i])\n",
    "for i in rid2:\n",
    "    rv2.append(X0[i])"
   ]
  },
  {
   "cell_type": "code",
   "execution_count": 14,
   "metadata": {},
   "outputs": [],
   "source": [
    "a0 = np.array(rv0)\n",
    "a1 = np.array(rv1)\n",
    "a2 = np.array(rv2)"
   ]
  },
  {
   "cell_type": "code",
   "execution_count": 15,
   "metadata": {},
   "outputs": [
    {
     "name": "stdout",
     "output_type": "stream",
     "text": [
      "0.007298408968761881\n"
     ]
    }
   ],
   "source": [
    "cluster_list = [a0,a1,a2] \n",
    "  \n",
    "print(dunn(cluster_list))"
   ]
  },
  {
   "cell_type": "code",
   "execution_count": 7,
   "metadata": {},
   "outputs": [],
   "source": [
    "#Clusters centroids calculation\n",
    "#Cluster0\n",
    "jlist = [0]*100\n",
    "c=0\n",
    "s=[]\n",
    "for i in r0:\n",
    "    for k in range(0, len(i)): \n",
    "        s.append(i[k] + jlist[k]) \n",
    "    jlist=s\n",
    "    s=[]\n",
    "    #print(len(jlist))\n",
    "    c=c+1\n",
    "t=-1\n",
    "for l in jlist:\n",
    "    t=t+1\n",
    "    l=l/c\n",
    "    jlist[t] = l\n",
    "cent0 = jlist"
   ]
  },
  {
   "cell_type": "code",
   "execution_count": 8,
   "metadata": {},
   "outputs": [],
   "source": [
    "#Cluster1\n",
    "jlist = [0]*100\n",
    "c=0\n",
    "s=[]\n",
    "for i in r1:\n",
    "    for k in range(0, len(i)): \n",
    "        s.append(i[k] + jlist[k]) \n",
    "    jlist=s\n",
    "    s=[]\n",
    "    #print(len(jlist))\n",
    "    c=c+1\n",
    "t=-1\n",
    "for l in jlist:\n",
    "    t=t+1\n",
    "    l=l/c\n",
    "    jlist[t] = l\n",
    "cent1 = jlist"
   ]
  },
  {
   "cell_type": "code",
   "execution_count": 9,
   "metadata": {},
   "outputs": [],
   "source": [
    "#Cluster2\n",
    "jlist = [0]*100\n",
    "c=0\n",
    "s=[]\n",
    "for i in r2:\n",
    "    for k in range(0, len(i)): \n",
    "        s.append(i[k] + jlist[k]) \n",
    "    jlist=s\n",
    "    s=[]\n",
    "    #print(len(jlist))\n",
    "    c=c+1\n",
    "t=-1\n",
    "for l in jlist:\n",
    "    t=t+1\n",
    "    l=l/c\n",
    "    jlist[t] = l\n",
    "cent2 = jlist"
   ]
  },
  {
   "cell_type": "code",
   "execution_count": 113,
   "metadata": {},
   "outputs": [],
   "source": [
    "'''\n",
    "#Cluster3\n",
    "jlist = [0]*100\n",
    "c=0\n",
    "s=[]\n",
    "for i in r3:\n",
    "    for k in range(0, len(i)): \n",
    "        s.append(i[k] + jlist[k]) \n",
    "    jlist=s\n",
    "    s=[]\n",
    "    #print(len(jlist))\n",
    "    c=c+1\n",
    "t=-1\n",
    "for l in jlist:\n",
    "    t=t+1\n",
    "    if(c==0):\n",
    "        l=l\n",
    "    else:\n",
    "        l=l/c\n",
    "    jlist[t] = l\n",
    "cent3 = jlist\n",
    "'''"
   ]
  },
  {
   "cell_type": "code",
   "execution_count": 15,
   "metadata": {},
   "outputs": [],
   "source": [
    "#Cosine similarity within cluster - ascending order\n",
    "\n",
    "from numpy import dot\n",
    "from numpy.linalg import norm\n",
    "\n",
    "def takeThird(elem):\n",
    "    return elem[2]"
   ]
  },
  {
   "cell_type": "code",
   "execution_count": 16,
   "metadata": {},
   "outputs": [],
   "source": [
    "#Cluster0\n",
    "cos0 = []\n",
    "i=0\n",
    "while(i<len(r0)-1):\n",
    "    j=len(r0)-1\n",
    "    while(j>i):\n",
    "        cos_sim = dot(r0[i], r0[j])/(norm(r0[i])*norm(r0[j]))\n",
    "        cos0.append([rid0[i],rid0[j],cos_sim])\n",
    "        j=j-1\n",
    "    i=i+1\n",
    "cos0.sort(key=takeThird)"
   ]
  },
  {
   "cell_type": "code",
   "execution_count": 17,
   "metadata": {},
   "outputs": [],
   "source": [
    "#Sorting regulations with cosine score\n",
    "ind0 = []\n",
    "cs_ind0 = []\n",
    "counter0 = []\n",
    "for i in cos0:\n",
    "    if(i[0] not in ind0):\n",
    "        ind0.append(i[0])\n",
    "        counter0.append(1)\n",
    "        cs_ind0.append(i[2])\n",
    "    else:\n",
    "        t=0\n",
    "        while(t<len(ind0)):\n",
    "            if(ind0[t] == i[0]):\n",
    "                cs_ind0[t] = cs_ind0[t]+i[2]\n",
    "                counter0[t] = counter0[t]+1\n",
    "                break\n",
    "            t=t+1\n",
    "    if(i[1] not in ind0):\n",
    "        ind0.append(i[1])\n",
    "        counter0.append(1)\n",
    "        cs_ind0.append(i[2])\n",
    "    else:\n",
    "        t=0\n",
    "        while(t<len(ind0)):\n",
    "            if(ind0[t] == i[1]):\n",
    "                cs_ind0[t] = cs_ind0[t]+i[2]\n",
    "                counter0[t] = counter0[t]+1\n",
    "                break\n",
    "            t=t+1\n",
    "p=0\n",
    "while(p<len(cs_ind0)):\n",
    "    cs_ind0[p] = cs_ind0[p]/counter0[p]\n",
    "    p=p+1\n",
    "    \n",
    "zipped_lists = zip(cs_ind0, ind0)\n",
    "sorted_pairs = sorted(zipped_lists)\n",
    "tuples = zip(*sorted_pairs)\n",
    "cs_ind0, ind0 = [ list(tuple) for tuple in tuples]"
   ]
  },
  {
   "cell_type": "code",
   "execution_count": 18,
   "metadata": {},
   "outputs": [],
   "source": [
    "#Cluster1\n",
    "cos1 = []\n",
    "i=0\n",
    "while(i<len(r1)-1):\n",
    "    j=len(r1)-1\n",
    "    while(j>i):\n",
    "        cos_sim = dot(r1[i], r1[j])/(norm(r1[i])*norm(r1[j]))\n",
    "        cos1.append([rid1[i],rid1[j],cos_sim])\n",
    "        j=j-1\n",
    "    i=i+1\n",
    "cos1.sort(key=takeThird)"
   ]
  },
  {
   "cell_type": "code",
   "execution_count": 19,
   "metadata": {},
   "outputs": [],
   "source": [
    "ind1 = []\n",
    "cs_ind1 = []\n",
    "counter1 = []\n",
    "for i in cos1:\n",
    "    if(i[0] not in ind1):\n",
    "        ind1.append(i[0])\n",
    "        counter1.append(1)\n",
    "        cs_ind1.append(i[2])\n",
    "    else:\n",
    "        t=0\n",
    "        while(t<len(ind1)):\n",
    "            if(ind1[t] == i[0]):\n",
    "                cs_ind1[t] = cs_ind1[t]+i[2]\n",
    "                counter1[t] = counter1[t]+1\n",
    "                break\n",
    "            t=t+1\n",
    "    if(i[1] not in ind1):\n",
    "        ind1.append(i[1])\n",
    "        counter1.append(1)\n",
    "        cs_ind1.append(i[2])\n",
    "    else:\n",
    "        t=0\n",
    "        while(t<len(ind1)):\n",
    "            if(ind1[t] == i[1]):\n",
    "                cs_ind1[t] = cs_ind1[t]+i[2]\n",
    "                counter1[t] = counter1[t]+1\n",
    "                break\n",
    "            t=t+1\n",
    "p=0\n",
    "while(p<len(cs_ind1)):\n",
    "    cs_ind1[p] = cs_ind1[p]/counter1[p]\n",
    "    p=p+1\n",
    "\n",
    "zipped_lists = zip(cs_ind1, ind1)\n",
    "sorted_pairs = sorted(zipped_lists)\n",
    "tuples = zip(*sorted_pairs)\n",
    "cs_ind1, ind1 = [ list(tuple) for tuple in tuples]"
   ]
  },
  {
   "cell_type": "code",
   "execution_count": 20,
   "metadata": {},
   "outputs": [],
   "source": [
    "#Cluster2\n",
    "cos2 = []\n",
    "i=0\n",
    "while(i<len(r2)-1):\n",
    "    j=len(r2)-1\n",
    "    while(j>i):\n",
    "        cos_sim = dot(r2[i], r2[j])/(norm(r2[i])*norm(r2[j]))\n",
    "        cos2.append([rid2[i],rid2[j],cos_sim])\n",
    "        j=j-1\n",
    "    i=i+1\n",
    "cos2.sort(key=takeThird)"
   ]
  },
  {
   "cell_type": "code",
   "execution_count": 21,
   "metadata": {},
   "outputs": [],
   "source": [
    "#Sorting regulations with cosine score\n",
    "ind2 = []\n",
    "cs_ind2 = []\n",
    "counter2 = []\n",
    "for i in cos2:\n",
    "    if(i[0] not in ind2):\n",
    "        ind2.append(i[0])\n",
    "        counter2.append(1)\n",
    "        cs_ind2.append(i[2])\n",
    "    else:\n",
    "        t=0\n",
    "        while(t<len(ind2)):\n",
    "            if(ind2[t] == i[0]):\n",
    "                cs_ind2[t] = cs_ind2[t]+i[2]\n",
    "                counter2[t] = counter2[t]+1\n",
    "                break\n",
    "            t=t+1\n",
    "    if(i[1] not in ind2):\n",
    "        ind2.append(i[1])\n",
    "        counter2.append(1)\n",
    "        cs_ind2.append(i[2])\n",
    "    else:\n",
    "        t=0\n",
    "        while(t<len(ind2)):\n",
    "            if(ind2[t] == i[1]):\n",
    "                cs_ind2[t] = cs_ind2[t]+i[2]\n",
    "                counter2[t] = counter2[t]+1\n",
    "                break\n",
    "            t=t+1\n",
    "p=0\n",
    "while(p<len(cs_ind2)):\n",
    "    cs_ind2[p] = cs_ind2[p]/counter2[p]\n",
    "    p=p+1\n",
    "    \n",
    "zipped_lists = zip(cs_ind2, ind2)\n",
    "sorted_pairs = sorted(zipped_lists)\n",
    "tuples = zip(*sorted_pairs)\n",
    "cs_ind2, ind2 = [ list(tuple) for tuple in tuples]"
   ]
  },
  {
   "cell_type": "code",
   "execution_count": 114,
   "metadata": {},
   "outputs": [],
   "source": [
    "'''\n",
    "#Cluster3\n",
    "cos3 = []\n",
    "i=0\n",
    "while(i<len(r3)-1):\n",
    "    j=len(r3)-1\n",
    "    while(j>i):\n",
    "        cos_sim = dot(r3[i], r3[j])/(norm(r3[i])*norm(r3[j]))\n",
    "        cos3.append([rid3[i],rid3[j],cos_sim])\n",
    "        j=j-1\n",
    "    i=i+1\n",
    "cos3.sort(key=takeThird)\n",
    "'''"
   ]
  },
  {
   "cell_type": "code",
   "execution_count": 115,
   "metadata": {},
   "outputs": [],
   "source": [
    "'''\n",
    "#Sorting regulations with cosine score\n",
    "ind3 = []\n",
    "cs_ind3 = []\n",
    "counter3 = []\n",
    "for i in cos3:\n",
    "    if(i[0] not in ind3):\n",
    "        ind3.append(i[0])\n",
    "        counter3.append(1)\n",
    "        cs_ind3.append(i[2])\n",
    "    else:\n",
    "        t=0\n",
    "        while(t<len(ind3)):\n",
    "            if(ind3[t] == i[0]):\n",
    "                cs_ind3[t] = cs_ind3[t]+i[2]\n",
    "                counter3[t] = counter3[t]+1\n",
    "                break\n",
    "            t=t+1\n",
    "    if(i[1] not in ind3):\n",
    "        ind3.append(i[1])\n",
    "        counter3.append(1)\n",
    "        cs_ind3.append(i[2])\n",
    "    else:\n",
    "        t=0\n",
    "        while(t<len(ind3)):\n",
    "            if(ind3[t] == i[1]):\n",
    "                cs_ind3[t] = cs_ind3[t]+i[2]\n",
    "                counter3[t] = counter3[t]+1\n",
    "                break\n",
    "            t=t+1\n",
    "p=0\n",
    "while(p<len(cs_ind3)):\n",
    "    cs_ind3[p] = cs_ind3[p]/counter3[p]\n",
    "    p=p+1\n",
    "    \n",
    "zipped_lists = zip(cs_ind3, ind3)\n",
    "sorted_pairs = sorted(zipped_lists)\n",
    "tuples = zip(*sorted_pairs)\n",
    "cs_ind3, ind3 = [ list(tuple) for tuple in tuples]\n",
    "'''"
   ]
  },
  {
   "cell_type": "code",
   "execution_count": 12,
   "metadata": {},
   "outputs": [],
   "source": [
    "#Cluster-wise separation of regulations\n",
    "t=-1\n",
    "rid0 = []\n",
    "rid1 = []\n",
    "rid2 = []\n",
    "\n",
    "for i in label:\n",
    "    t=t+1\n",
    "    if(i==0):\n",
    "        rid0.append(t)\n",
    "    elif(i==1):\n",
    "        rid1.append(t)\n",
    "    else:\n",
    "        rid2.append(t)"
   ]
  },
  {
   "cell_type": "code",
   "execution_count": 11,
   "metadata": {},
   "outputs": [],
   "source": [
    "import pandas as pd\n",
    "ins = pd.read_csv('../data/final_rules.csv')\n",
    "corpus = ins['text'].tolist()"
   ]
  },
  {
   "cell_type": "code",
   "execution_count": 12,
   "metadata": {},
   "outputs": [],
   "source": [
    "r0 = []\n",
    "r1 = []\n",
    "r2 = []\n",
    "\n",
    "for i in rid0:\n",
    "    r0.append(corpus[i])\n",
    "for i in rid1:\n",
    "    r1.append(corpus[i])\n",
    "for i in rid2:\n",
    "    r2.append(corpus[i])"
   ]
  },
  {
   "cell_type": "code",
   "execution_count": 15,
   "metadata": {},
   "outputs": [],
   "source": [
    "df0 = pd.DataFrame(r0)\n",
    "df0.to_csv('reg0-hieorig.csv', index=False)\n",
    "df1 = pd.DataFrame(r1)\n",
    "df1.to_csv('reg1-hieorig.csv', index=False)\n",
    "df2 = pd.DataFrame(r2)\n",
    "df2.to_csv('reg2-hieorig.csv', index=False)"
   ]
  },
  {
   "cell_type": "code",
   "execution_count": 13,
   "metadata": {},
   "outputs": [
    {
     "data": {
      "text/plain": [
       "['  Provided that where credit ratings are obtained from more than one credit rating agency, all the ratings, including the unaccepted ratings, shall be disclosed in the offer document or placement memorandum, as applicable.\\n                 ',\n",
       " ' 5.(1) An issuer making public issue of debt securities shall only issue revenue bonds.\\n                 ',\n",
       " ' (6)The issuer shall create a separate escrow account for servicing of revenue bonds with earmarked revenue.\\n                 ',\n",
       " ' 6.(1) The offer document shall contain true, fair and material disclosures, which are necessary for the subscribers of the revenue bonds to take an informed investment decision.\\n                 ',\n",
       " ' 6A. (1)The issuer shall appoint one or more merchant bankers, which are registered with the Board, as lead manager(s) to the issue.\\n                 ',\n",
       " ' (2)Where the issue is managed by more than one lead manager, the rights, obligations and responsibilities, relating to disclosures, allotment, refund and underwriting obligations among other things, if any, of each lead manager shall be predetermined and be disclosed in the draft offer document and the offer document.\\n                 ',\n",
       " ' (3)The issuer shall, in consultation with the lead manager(s), appoint other registered intermediaries after the lead manager(s) have independently assessed their capability to carry out their obligations.\\n                 ',\n",
       " ' 7. (1) No issuer shall make a public issue of revenue bonds unless a draft offer document has been filed with the designated stock exchange through the lead merchant banker:\\n Provided that where an issuer has filed a shelf prospectus, not more than four public issuances shall be made through a single shelf prospectus during a financial year.\\n                 ',\n",
       " ' (3)The draft offer document may also be displayed on the website of the issuer, merchant bankers and the stock exchanges where the revenue bonds are proposed to be listed.\\n                 ',\n",
       " ' (4)The lead merchant banker shall ensure that the draft offer document specifies the names and contact details of the compliance officer of the lead merchant banker, the officer concerned and the project officer, wherever applicable, of the issuer including their postal and email address, telephone and fax numbers.\\n                 ',\n",
       " ' (6)The issuer shall, before filing of draft offer documents with Board, obtain a “Viability Certificate“ or Detailed Project Appraisal Report (DPR) from a scheduled commercial bank or public financial institution stating that the project is financially viable, based on the estimates/assumptions available at that time.\\n                 ',\n",
       " ' (9)Where the issuer is a corporate municipal entity, the information memorandum shall contain the disclosures specified in Companies Act, 2013 and rules made thereunder and shall include disclosures regarding summary term sheet, material updations including revision in ratings, if any, along with the rating rationale and financial ratios specified in Schedule I.\\n                 ',\n",
       " ' (2)The issuer may extend the bidding period disclosed in the offer document, in case of force majeure, banking strike or similar circumstances, for a minimum period of three working days.]\\n                 ',\n",
       " ' 9.(1)The issuer may make an advertisement in a national daily with wide circulation, on or before the issue opening date and such advertisement shall, amongst other things, contain the disclosures as per Schedule IV.\\n                 ',\n",
       " ' (3) The advertisement shall be truthful, fair and clear and shall not contain a statement, promise or forecast which is untrue or misleading.\\n                 ',\n",
       " ' 8.(1) The draft and final offer document shall be displayed on the websites of stock exchanges and shall be available for download in PDF / HTML formats.\\n                 ',\n",
       " ' (3) Where any person makes a request for a physical copy of the offer document, the same shall be provided to him by the issuer or lead merchant banker.”\\n Page - 16 - of 68\\n(6)Any promotional or educative advertisement issued by the issuer during the subscription period shall not make any reference to the issue of 17[municipal debt securities] or be used for solicitation.\\n18[term sheet] and application forms.\\n                 ',\n",
       " ' 10.(1) The issuer and 19[lead manager] shall ensure that:\\n(a)every application form issued by the issuer is accompanied by a copy of the 20[term sheet];\\n(b)the 21[term sheet] shall not contain matters which are extraneous to the contents of the 22[offer document];\\n(c)adequate space shall be provided in the application form to enable the investors to fill in various details like name, address, etc:\\n23[Provided that where the issuer is a body corporate to which the Companies Act, 2013 applies, the term sheet may be read as abridged prospectus]\\n                 ',\n",
       " ' (3)In the event, there is a delay by the issuer in making the aforesaid refund, then the issuer shall refund the subscription amount along with interest at the rate of ten per cent. per annum for the delayed period.\\n                 ',\n",
       " ' 11A. (1) Issuers shall be allowed to retain the over-subscription money up to 100% of the Base Issue size but not exceeding the rated size or any lower limit as specified in the offer document, if any.\\n                 ',\n",
       " ' (2)For the issuers filing a shelf offer document, oversubscription may be retained up to the total size of the shelf offer document.]\\n                 ',\n",
       " ' (2) The proceeds of the issue shall be clearly earmarked for a defined project or a set of projects for which requisite approvals have been obtained from concerned authorities.\\n                 ',\n",
       " ' (5) Issuer’s contribution for each project shall not be less than twenty per cent. of the project costs, which shall be contributed from their internal resources or grants:\\n Page - 18 - of 68\\n                 ',\n",
       " ' (3) The lead manager(s) shall ensure that the allotment, credit of dematerialised securities and refund or unblocking of application monies, as may be applicable, are done electronically.\\n                 ',\n",
       " ' 15.(1) An issuer may list its debt securities issued on private placement basis on a recognised stock exchange subject to the following conditions:\\n(a)an issuer may issue general obligation bonds or revenue bonds;\\n(b)accounts of municipality being the issuer, shall be prepared in accordance with National Municipal Accounts Manual or in accordance with similar Municipal Accounts Manual adopted by the respective State Government for at least three immediately preceding financial years;\\n(c)no order or direction of restraint, prohibition or debarment by Board against the corporate municipal entity or its directors is in force;\\n(d) the issuer, being a corporate municipal entity, has issued such debt securities in compliance with the provisions of Companies Act, 2013 and particularly section 42 of the Companies Act, 2013 and rules prescribed there under and other applicable laws;\\n(e)the issuer shall not solicit or collect funds by issue of debt securities, except by way of private placement;\\n(f)the minimum subscription amount per investor shall not be less than rupees twenty five lakh or such amount as may be specified by Board from time to time;\\n(g)credit rating has been obtained in respect of such debt securities from at least one credit rating agency registered with the Board;\\n(h)the debt securities proposed to be listed are in dematerialized form;\\n(i)the disclosures as provided in Schedule Iof these regulations have been made.”\\nPage - 20 - of 68\\n                 ',\n",
       " ' (5)The debenture trustee shall, prior to the opening of private placement, furnish to the Board a due diligence certificate as per Schedule III of these regulations.\\n                 ',\n",
       " ' 15.The minimum subscription amount per investor shall be Rupees ten lakh.]\\n Page - 21 - of 68\\n                 ',\n",
       " ' 18.(1) The offer document 35[or term sheet] 36[or placement memorandum] shall not omit disclosure of a material fact which may make the statements made therein misleading 37[***].\\n                 ',\n",
       " ' 16.An issuer, proposing to issue debt securities shall maintain 100% asset cover sufficient to discharge the principal amount at all times for the debt securities issued.”\\n                 ',\n",
       " ' (2)Where the proceeds of the issue are earmarked for a defined project or a set of projects, prior requisite approvals, if applicable shall be obtained from the concerned authorities.\\n                 ',\n",
       " ' (2)The total value of secured debentures issued shall not exceed the market value of immovable property/other assets or receivables of the issuer, for which a charge shall be created.\\n                 ',\n",
       " ' (4)The issue proceeds shall not be utilised until the documents for creation of security are executed.”\\n Page - 24 - of 68\\n                 ',\n",
       " ' 20. (1) A trust deed for securing the issue of municipal debt securities shall be executed by the issuer in favour of the debenture trustee.\\n                 ',\n",
       " ' (4)The issue proceeds shall not be utilised until the Trust deed is executed.]\\n                 ',\n",
       " ' 20.(1) A trust deed for securing the issue of debentures shall be executed by the issuer in favour of the independent trustee or debenture trustee, as applicable, within three months of the closure of the issue.\\n                 ',\n",
       " ' (2) Where the issuer desires to roll-over the municipal debt securities issued, it shall do so only upon passing of a special resolution to that effect and give twenty one days’ notice of the proposed roll over to the holders of municipal debt securities:\\n Provided that, if the holders of municipal debt securities do not provide consent for the proposed roll over within the notice period, the issuer shall redeem the municipal debt securities of such holders.\\n                 ',\n",
       " ' (3)The notice referred to in sub- regulation (2) shall contain disclosures with regard to credit rating and rationale for roll-over.\\n                 ',\n",
       " ' 22.(1) For the redemption of the debentures issued by a corporate municipal entity, the issuer shall create debenture redemption reserve in accordance with the provisions of the Companies Act, 2013 and the rules made thereunder.\\n                 ',\n",
       " ' (2) Where the issuer is corporate municipal entity, one-third of its Board shall comprise of independent directors, as defined in section 149 of the Companies Act, 2013.\\n                 ',\n",
       " ' (4) In the event of credit rating being downgraded by two or more notches below the rating assigned at the time of issue, the issuer shall present to all bondholders, the reasons for fall in rating and the steps, if any, it intends to take to recover the rating.\\n                 ',\n",
       " ' (6) The issuer, the respective debenture trustees, wherever appointed, and stock exchanges shall disseminate all information and reports regarding debt securities including compliance reports filed by the issuers and the debenture trustees, if appointed, to the investors and the general public by placing them on their websites.\\n                 ',\n",
       " ' 24.(1) An Issuer, being a municipality, shall prepare its accounts in accordance with the National Municipal Accounts Manual or in accordance with similar Municipal Accounts Manual adopted by the respective State Government:\\n Provided that in case of the Issuer being a corporate municipal entity, the accounts shall be prepared in accordance with section 129 and 134 of the Companies Act, 2013 and the rules made thereunder.\\n                 ',\n",
       " ' (3) The bank account for issue proceeds and separate escrow account with earmarked revenues, shall be audited by persons so appointed by the municipality or the corporate municipal entity, within six months of the close of every financial year.”\\n Page - 29 - of 68\\n                 ',\n",
       " ' (3) The information in respect of issues such as issuer details, instrument details, ratings, rating migration, coupon, buyback etc. shall be required to be reported to a common database as may be specified by the Board.]\\n                 ',\n",
       " ' (4) The information in respect of issues such as issuer details, instrument details, ratings, rating migration, coupon, buyback, redemption details, shall be required to be reported to a common database with depositories or any other platform as may be specified by the Board.”\\n Page - 30 - of 68\\n                 ',\n",
       " ' (3)The debenture trustee shall monitor the separate escrow account maintained in respect of the earmarked revenue.\\n                 ',\n",
       " ' (4)The debenture trustee shall ensure disclosure of all material events on an ongoing basis.\\n                 ',\n",
       " ' 26.(1) The monitoring agency appointed under sub-regulation (7) of regulation 5 shall be vested with the requisite powers for protecting the interest of holders of debt securities.\\n                 ',\n",
       " ' (3) The monitoring agency shall monitor earmarked revenue in the separate escrow account.\\n                 ',\n",
       " ' (5) the debenture trustee, wherever appointed, shall disclose the information to the investors and the general public by issuing a press release in any of the following events:\\n(a)default by issuer to pay interest on debt securities or redemption amount;\\n(b)failure to create a charge on the assets;\\n(c)revision of rating assigned to the debt securities.\\n                 ',\n",
       " ' (7)The debenture trustee, wherever appointed, shall ensure disclosure of all material events on an ongoing basis\\n                 ',\n",
       " ' (8)The debenture trustees, wherever appointed, shall supervise the implementation of the conditions regarding creation of security for the debt securities and debenture redemption reserve.”\\n Page - 31 - of 68\\n(5)The debenture trustee shall supervise the implementation of the obligations cast in terms of provisions of these regulations.]\\n50[Obligations of the issuer and merchant banker.\\n                 ',\n",
       " ' 27B. (1) The Board may, exempt any person or class of persons from the operation of all or any of the provisions of these regulations for a period as may be specified but not exceeding twelve months, for furthering innovation in technological aspects relating to testing new products, processes, services, business models, etc. in live environment of regulatory sandbox in the securities markets.\\n                 ',\n",
       " ' (2)A company may implement several schemes as permitted under these regulations through a single trust:\\n                 ',\n",
       " ' (4)A person shall not be appointed as a trustee, if he-\\ni.is a director, key managerial personnel or promoter of the company or its holding, subsidiary or associate company or any relative of such director, key managerial personnel or promoter; or\\nii.beneficially holds ten percent or more of the paid-up share capital of the company.\\nProvided where individuals or ‘one person companies’ as defined under the Companies Act, 2013 are appointed as trustees, there shall be a minimum of two such trustees, and in case a corporate entity is appointed as a trustee, then it may be the sole trustee.\\n                 ',\n",
       " ' (7)The trust shall not deal in derivatives, and shall undertake only delivery based transactions for the purposes of secondary acquisition as permitted by these regulations.\\n                 ',\n",
       " ' (8)Subject to the requirements of Companies Act, 2013 read with Companies (Share Capital and Debenture) Rules, 2014, as amended from time to time, as may be applicable, the company may lend monies to the trust on appropriate terms and conditions to acquire the shares either through new issue or secondary acquisition, for the purposes of implementation of the scheme(s).\\n                 ',\n",
       " ' (13)The trust shall be required to hold the shares acquired through secondary acquisition for a minimum period of six months except where they are required to be transferred in the\\n circumstances enumerated in clause (b) of sub-regulation (14) of this regulation2[, whether off- market or on the platform of stock exchange.]\\n                 ',\n",
       " ' 5.(1) A company shall constitute a compensation committee for administration and superintendence of the schemes:\\n Provided that the company may designate such of its other committees as compensation committee if they fulfil the criteria as provided in sub-regulation (2) of this regulation:\\n                 ',\n",
       " ' (2)Subject to the proviso to sub-regulation (1), the company may by special resolution in a general meeting vary the terms of the schemes offered pursuant to an earlier resolution of the general body but not yet exercised by the employee provided such variation is not prejudicial to the interests of the employees.\\n                 ',\n",
       " ' 8.In case of winding up of the schemes being implemented by a company through trust, the excess monies or shares remaining with the trust after meeting all the obligations, if any, shall be utilised for repayment of loan or by way of distribution to employees as recommended by the compensation committee.\\n                 ',\n",
       " ' (2)No person other than the employee to whom the option, SAR or other benefit is granted shall be entitled to the benefit arising out of such option, SAR, benefit etc. :\\n Provided that in case of ESOS or SAR, under cashless exercise, the company may itself fund or permit the empanelled stock brokers to fund the payment of exercise price which shall be adjusted against the sale proceeds of some or all the shares, subject to the provisions of the applicable law or regulations.\\n                 ',\n",
       " ' (3)The option, SAR, or any other benefit granted to the employee shall not be pledged, hypothecated, mortgaged or otherwise alienated in any other manner.\\n                 ',\n",
       " ' (4)In the event of death of the employee while in employment, all the options, SAR or any other benefit granted to him under a scheme till such date shall vest in the legal heirs or nominees of the deceased employee.\\n                 ',\n",
       " ' (5)In case the employee suffers a permanent incapacity while in employment, all the options, SAR or any other benefit granted to him under a scheme as on the date of permanent incapacitation, shall vest in him on that day.\\n                 ',\n",
       " \" 12.(1) No company shall make any fresh grant which involves allotment or transfer of shares to its employees under any schemes formulated prior to its IPO and prior to the listing of its equity shares ('pre-IPO scheme’) unless:\\n(i)Such pre-IPO scheme is in conformity with these regulations; and\\n(ii)Such pre-IPO scheme is ratified by its shareholders subsequent to the IPO.\\nProvided that the ratification under clause (ii) may be done any time prior to grant of new options or shares or SAR under such pre-IPO scheme.\\n                 \",\n",
       " ' (3)For listing of shares issued pursuant to ESOS, ESPS or SAR , the company shall obtain the in-principle approval of the stock exchanges where it proposes to list the said shares.\\n                 ',\n",
       " \" (4)When holding company issues option, share, SAR or benefits to the employee of its subsidiary, the cost incurred by the holding company for issuing such option, share, SAR or benefits shall be disclosed in the 'notes to accounts' of the financial statements of the subsidiary company.\\n                 \",\n",
       " ' (5)In a case falling under sub-regulation (4), if the subsidiary reimburses the cost incurred by the holding company in granting option, share, SAR or benefits to the employees of the subsidiary, both the subsidiary as well as the holding company shall disclose the payment or receipt, as the case may be, in the ‘notes to accounts’ to their financial statements.\\n                 ',\n",
       " ' (6)The company shall appoint a registered merchant banker for the implementation of schemes covered by these regulations till the stage of obtaining in-principle approval from the stock exchanges in accordance with clause (b) of regulation 10.\\n                 ',\n",
       " \" 15.(1) Any company implementing any of the share based schemes shall follow the requirements of the 'Guidance Note on Accounting for employee share-based Payments' (Guidance Note) or Accounting Standards as may be prescribed by the Institute of Chartered Accountants of India (ICAI) from time to time, including the disclosure requirements prescribed therein.\\n                 \",\n",
       " ' (2)Where the existing Guidance Note or Accounting Standard do not prescribe accounting treatment or disclosure requirements for any of the schemes covered under these regulations then the company shall comply with the relevant Accounting Standard as may be prescribed by the ICAI from time to time.\\n                 ',\n",
       " ' 20.The amount payable by the employee, if any, at the time of grant of option, -\\n(a). may be forfeited by the company if the option is not exercised by the employee within the exercise period; or\\n(b).may be refunded to the employee if the options are not vested due to non-fulfilment of conditions relating to vesting of option as per the ESOS.\\nPART B: EMPLOYEE STOCK PURCHASE SCHEME (ESPS)\\nAdministration and implementation.\\n                 ',\n",
       " ' (2)Subject to the provisions of these regulations, a company shall have the freedom to implement cash settled or equity settled SAR scheme:\\n Provided that in case of equity settled SAR scheme, if the settlement results in fractional shares, then the consideration for fractional shares should be settled in cash.\\n                 ',\n",
       " ' 24.(1) There shall be a minimum vesting period of one year in case of SAR scheme: 23\\n Provided that in a case where SAR is granted by a company under a SAR scheme in lieu of SAR held by the same person under a SAR scheme in another company which has merged or amalgamated with the first mentioned company, the period during which the SAR granted by the transferor company were held by the employee shall be adjusted against the minimum vesting period required under this sub-regulation.\\n                 ',\n",
       " ' 25.The employee shall not have right to receive dividend or to vote or in any manner enjoy the benefits of a shareholder in respect of SAR granted to him.\\n PART D : GENERAL EMPLOYEE BENEFITS SCHEME (GEBS)\\n                 ',\n",
       " ' (2)At no point in time, the shares of the company or shares of its listed holding company shall exceed ten per cent of the book value or market value or fair value of the total assets of the scheme, whichever is lower, as appearing in its latest balance sheet for the purposes of GEBS.\\n PART E: RETIREMENT BENEFIT SCHEME (RBS)\\n                 ',\n",
       " ' 27A. (1) The Board may, exempt any person or class of persons from the operation of all or any of the provisions of these regulations for a period as may be specified but not exceeding twelve months, for furthering innovation in technological aspects relating to testing new products, processes, services, business models, etc. in live environment of regulatory sandbox in the securities markets.\\n                 ',\n",
       " ' (2)The Board shall have power to specify such disclosure and process requirements through guidance notes or circulars, as may be necessary for protection of interest of investors, securities market and for regulation of all schemes, by listed companies for the benefit of their employees, involving dealing, directly or indirectly, in shares and matters connected therewith or incidental thereto.\\n Power to relax strict enforcement of the regulations.\\n                 ',\n",
       " \" (2) A company making an application under sub-regulation (1), shall pay a non-refundable fee of rupees one lakh 6[by way of direct credit in the bank account through NEFT/RTGS/IMPS or any other mode allowed by RBI or] by way of a banker's cheque or demand draft payable at Mumbai in favour of the Board.\\n                 \",\n",
       " ' 4.For the purposes of these regulations, the Board shall, after attachment of the properties of the defaulter by the Recovery Officer, appoint an Administrator in the manner specified.\\n                 ',\n",
       " ' (3) The Administrator shall provide an undertaking to the Board of absence of any conflict of interest with the defaulter, its directors, promoters, key managerial personnel and its group entities.\\n                 ',\n",
       " ' (4) The Administrator shall also forthwith disclose to the Board any conflict of interest which may come to his knowledge during his tenure:\\n                 ',\n",
       " ' (5) For the purposes of these regulations, the Administrator shall be deemed to be a public servant within the meaning of section 21 of the Indian Penal Code (45 of 1860) and sections 22 and 23 of the Act shall accordingly apply to him.\\n                 ',\n",
       " ' (2)While discharging the functions under these regulations, the Administrator -\\n(a)may engage the services of a peer reviewed chartered accountant for verifying the claims of investors on the basis of documentary evidence and for submission of a certified report to the Administrator;\\nPage 5 of 12\\n(b)shall engage the services of a registered valuer to evaluate the properties of defaulter that are attached by the Recovery Officer and for submission of a certified valuation report in accordance with the guidelines issued by the Board;\\n(c)may engage the services of a registrar and share transfer agent registered with the Board or such other agency as may be approved by the Recovery\\nOfficer, for managing the entire repayment process.\\nProvided that the fees paid for such services shall be fixed by the Administrator taking into account the relevant factors including –\\n(a)the number of investors and the claims that are made;\\n(b)quantum of work involved;\\n(c)the number of assets to be evaluated;\\n(d)the geographical location of the property and its proximity with the valuer’s place of business;\\nand such fees shall be within the overall remuneration fixed by the Board for the Administrator:\\nProvided further that the intermediary or such other person engaged by the Administrator, shall not have any conflict of interest which would impede their independence or impartiality.\\n                 ',\n",
       " ' 8.(1) The Administrator shall undertake the process of sale of properties after conducting an independent valuation of such properties by a registered valuer.\\n                 ',\n",
       " ' (2) After considering the valuation report, the Recovery Officer may decide on the reserve price below which the property may not be sold.\\n                 ',\n",
       " ' (3) The Administrator may undertake the sale of properties through e-auction process and for this purpose engage an e-auction agency and shall in consultation with the Recovery Officer repeat the auction process till the time such properties are disposed off.\\n                 ',\n",
       " ' (4)The process of disposing off the properties shall be under the supervision of the Recovery Officer.\\n Page 6 of 12\\n                 ',\n",
       " ' (5)On completion of the sale and receipt of the sale consideration, the Recovery Officer shall issue an order confirming such sale in accordance with the Act.\\n                 ',\n",
       " ' 9.(1) For the purposes of inviting claims from the investors, the Administrator shall -\\n(a) issue advertisements in an English and a Hindi newspaper having nationwide circulation and if so directed by the Recovery Officer, issue such advertisement in vernacular newspaper(s) having circulation in the area(s) where the investors are concentrated;\\n(b) direct the defaulter to issue advertisement in its website, if available.\\n                 ',\n",
       " ' (5)The Administrator or the chartered accountant engaged by the Administrator, shall consider the total eligible claims as against the monies available for distribution to investors in order to determine whether the whole amount or a proportionate amount may be repaid to the investors as may be directed by the Recovery Officer.\\n                 ',\n",
       " ' (6)Upon ascertaining the eligibility, the Administrator in consultation with the Recovery Officer, shall repay the money to the eligible investors only through pay orders, demand drafts and electronic transfer through NEFT or RTGS.\\n                 ',\n",
       " ' (7)The refund process shall be kept open for an appropriate period as may be decided in consultation with the Recovery Officer.\\n Page 7 of 12\\n                 ',\n",
       " ' (8)The monies remaining in the interest bearing escrow bank account after satisfying all the permissible claims of investors and other charges, shall be retained therein for a period of three years in order to meet the claims that may be received from any unpaid investor.\\n                 ',\n",
       " ' (9)Upon completion of the period specified under sub-regulation (8), the unpaid monies due to investors, if any, shall be transferred to the Investor Protection and Education Fund of the Board.\\n                 ',\n",
       " ' 10.(1)The entire costs incurred in relation to the sale of properties, verification of investors’ claims, remuneration of Administrator including the fees paid, if any, to the chartered accountant or valuer or such other person engaged by the Administrator and registrar and share transfer agent and all other expenses incurred in connection with the recovery and/or the repayment process shall be borne by the defaulter(s), failing which, the monies recovered by the Board shall be appropriated in priority to the other liabilities.\\n                 ',\n",
       " ' 11. The proceeds from the sale of properties of the defaulter shall be distributed in the following order of priority, namely, -\\ni.the costs of administration incurred by the Board, if any, and the fees and charges payable to the Administrator and other persons appointed by the administrator in performing its functions under these regulations;\\nii.disgorgement and/or monies payable to investors:\\nProvided the Board may direct the Administrator to initiate the process of refund to the investors with the monies realized at the relevant time. For this purpose, the Administrator may call for claims in tranches\\niii.any other penalty or fees due from the defaulter to the Board under the provisions of the Act, the Securities Contracts (Regulation) Act, 1956 or the Depositories Act, 1996.\\nReturn of monies exceeding the liability.\\n                 ',\n",
       " ' 13. Upon completion of the repayments to all investors or recovery of the disgorgement amount from the defaulter, the Administrator shall file a detailed repayment/recovery report to the Recovery Officer or Board, as the case may be, within the period as may be specified.\\n Part V – Disgorgement of amounts\\n                 ',\n",
       " ' amount, if any, after such payment, shall be credited to the account of Investor Protection and Education Fund of the Board.\\n Part VI - General obligations and responsibilities\\n                ',\n",
       " ' 15.An Administrator -\\na)shall maintain high standards of integrity, promptitude and fairness in the conduct of all his business.\\nb)shall act with due skill, care and diligence in the conduct of all his business.\\nc)shall not misrepresent any facts or situations and shall refrain from being involved in any action that would bring disrepute to the profession.\\nd)shall act with objectivity during the course of his professional dealings by ensuring that all decisions are made without any bias, conflict of interest, coercion, or undue influence of any party, whether directly or indirectly connected to sale of properties, verification of claims and refund of monies.\\ne)shall not acquire, directly or indirectly, any of the assets of the defaulter.\\nf)shall maintain complete independence in all professional relationships and conduct the verification and refund process, as the case may be, independent of external influences.\\ng)shall not conceal any material information or knowingly make a misleading statement to the Recovery Officer or the Board.\\nh)shall not act with mala fide or be negligent while performing the functions and duties under the regulations.\\ni)shall provide all information and records as may be required by the Recovery Officer within the time specified by him.\\nj)shall ensure that confidentiality of the information relating to the sale of properties, verification and refund process, is maintained at all times: Provided that the Administrator may disclose any information after obtaining written authorization of the Recovery Officer or the Board.\\nk)shall disclose all costs towards the verification and refund process and endeavour to ensure that such costs are not unreasonable.\\nl)shall comply with the terms and conditions of its appointment.\\nPage 10 of 12\\n                 ',\n",
       " ' 16. (1) The Recovery Officer may, for reasons to be recorded in writing, recommend for replacement of the Administrator, in case the Administrator has -\\na)failed to comply with the terms and conditions of appointment;\\nb)engaged valuers or chartered accountants or such other persons who are ineligible to act so;\\nc)failed to comply with any of the obligations and responsibilities specified under these regulations;\\nd)acted against the instructions of the Recovery Officer or the Board; or\\ne)acted in such manner that is prejudicial to the interest of the investors.\\n                 ',\n",
       " ' (3)On receipt of such recommendation or suo moto, the Board may take apprpriate action against the Administrator or such intermediary or such other person enagaged by the Administrator, under the Act including the following:\\n(a) remove such Administrator from the Panel;\\n(b) forward the matter to the Insolvency and Bankruptcy Board of India for appropriate action against the Administrator who is an Insolvency Resolution Professional; and\\n(c) issue suitable directions restraining such person from engaging in activities in the securities market in his professional capacity.\\n                 ',\n",
       " ' 17. In order to remove any difficulties in the application or interpretation of these regulations, the Board may issue clarifications and guidelines, as deemed necessary.\\n Page 11 of 12\\n                 ',\n",
       " ' 4. 3[(1) No issuer shall make any public issue of non-convertible redeemable\\n                 ',\n",
       " \" 6.(1) No issuer shall make a public issue of' non-convertible redeemable preference shares unless a draft offer document has been filed with the designated stock exchange through the lead merchant banker.\\n                 \",\n",
       " ' (4)The lead merchant banker shall ensure that the draft offer document clearly specifies the names and contact particulars of the compliance officer of the lead merchant banker and the issuer including the postal and email address, telephone and fax numbers.\\n                 ',\n",
       " ' 7.(1) The draft and final offer document shall be displayed on the websites of stock exchanges and shall be available for download in PDF /HTML formats.\\n                 ',\n",
       " ' 8.(1) The issuer shall make an advertisement in one English national daily newspaper and one Hindi national daily newspaper with wide circulation at the place where the registered office of the issuer is situated, on or before the issue opening date and such advertisement shall, amongst other things, contain the disclosures as per Schedule I.\\n                 ',\n",
       " ' (3)The advertisement shall be truthful, fair and clear and shall not contain a statement, promise or forecast which is untrue or misleading.\\n                 ',\n",
       " ' (4)The credit rating shall be prominently displayed in the advertisement.\\n                 ',\n",
       " ' 9.(1) The issuer and lead merchant banker shall ensure that:\\n(a)every application form issued by the issuer is accompanied by a copy of the abridged prospectus;\\n(b)the abridged prospectus shall not contain matters which are extraneous to the contents of the prospectus;\\n(c)adequate space shall be provided in the application form to enable the investors to fill in various details like name, address, etc.\\n                 ',\n",
       " ' (2)In the event of non-receipt of minimum subscription, all application moneys received in the public issue shall be refunded forthwith to the applicants. In the\\n                 ',\n",
       " ' 15.(1) The offer document shall not omit disclosure of any material fact which may make the statements made therein, in light of the circumstances under which they are made, misleading.\\n                 ',\n",
       " ' 16A. (1) Every issuer desirous of listing its non-convertible redeemable preference shares, or perpetual non-cumulative preference shares or innovative perpetual debt instruments on a recognised stock exchange, shall execute an agreement with such stock exchange.\\n                 ',\n",
       " ' 17.(1) An issuer may list its non-convertible redeemable preference shares\\n                 ',\n",
       " ' issued on private placement basis on a recognized stock exchange subject to the following conditions:\\n(a) the issuer has issued such non-convertible redeemable preference\\n5Inserted by the SEBI (Listing Obligations and Disclosure Requirements) regulations, 2015, w.e.f. 1-12- 2015.\\n6Omitted by the SEBI (Issue and Listing of Non-Convertible Redeemable Preference Shares) (Amendment) Regulations, 2018, w.e.f. 09-10-2018. Prior to this amendment, the regulation read as: Security Deposit. 16B. (1) The issuer shall deposit, before the opening of subscription list, and keep deposited with the stock exchange(s) an amount calculated at the rate of one per cent. of the amount of securities offered for subscription to the public.\\n                ',\n",
       " ' 19.In exercise of the powers conferred by sub-rule (7) of rule 19 of the Securities Contracts (Regulations) Rules, 1957, the Board hereby relaxes the strict enforcement of sub-rules (1) and (3) of rule 19 of the said rules in relation to listing of non-convertible redeemable preference shares issued by way of a public issue or a private placement.\\n                 ',\n",
       " ' 20.(1) All the issuers making public issues of non-convertible redeemable preference shares or seeking listing of non-convertible redeemable preference shares issued on private placement basis shall comply with the conditions of listing specified in the respective listing agreement for non-convertible redeemable preference shares.\\n                 ',\n",
       " ' (2)& (3) 8[***]\\n(4)The issuer and stock exchanges shall disseminate all information and reports on non-convertible redeemable preference shares including compliance reports filed by the issuers regarding the non-convertible redeemable preference shares to the investors and the general public by placing them on their websites.\\n8Omitted by the SEBI (Listing Obligations and Disclosure Requirements) Regulations, 2015 w.e.f. 1-12-\\n                 ',\n",
       " ' 23.(1) These provisions of these regulations shall, so far as they may, apply to the issuance and listing of Perpetual Non-Cumulative Preference Shares and Innovative Perpetual Debt Instruments by banks.\\n                 ',\n",
       " ' (2)The purposes referred to in sub-regulation (1) may be as follows, namely:-\\n(a)to verify whether the provisions of the Act, Companies Act, 1956, Securities Contracts (Regulation) Act, 1956, Depositories Act, 1996, the rules and regulations made thereunder in respect of issue of securities have been complied with;\\n(b)to verify whether the requirement in respect of issue of securities as specified in these regulations has been complied with;\\n(c)to verify whether the requirement of listing conditions and continuous disclosure requirement have been complied with;\\n16\\n(d)to inquire into the complaints received from investors, other market participants or any other persons on any matter of issue and transfer of securities governed under these regulations;\\n(e)to inquire into affairs of the issuer in the interest of investor protection or the integrity of the market governed under these regulations;\\n(f)to inquire whether any direction issued by the Board has been complied with.\\n                 ',\n",
       " ' 25.(1) Without prejudice to its powers under Chapter VIA and section 24 of the Act, the Board may, in the interest of investors in securities market, issue such directions as it deems fit under section 11 or section 11A or section 11B or section\\n                 ',\n",
       " ' 11D of the Act including:\\n(a)directing the issuer to refund of the application monies to the applicants in a public issue;\\n(b)directing the persons concerned not to further deal in securities in any particular manner;\\n(c)directing the persons concerned not to access the securities market for a particular period;\\n(d)restraining the issuer or its promoters or directors from making further issues of securities;\\n(e)directing the person concerned to sell or divest the securities;\\n(f)directing the issuer or the depository not to give effect transfer or directing further freeze of transfer of securities;\\n(g)any other direction which Board may deem fit and proper in the circumstances of the case:\\nProvided that the Board shall, either before or after issuing such directions, give an opportunity of being heard to the persons against whom the directions are issued or proposed to be issued:\\n17\\nProvided further that, if, any ex-parte direction is required to be issued, the\\nBoard may give post decisional hearing to affected person.\\nPower of the Board to issue general order or circular.\\n                 ',\n",
       " ' (2)In particular, and without prejudice to the generality of the foregoing power and provisions of these regulations, such orders or circulars may provide for all or any of the following matters, namely:\\n(a)Electronic issuances and other issue procedures including the procedure for price discovery;\\n(b)Conditions governing trading, reporting, clearing and settlement of trade in non-convertible redeemable preference shares; or\\n(c)Listing conditions.\\n                 ',\n",
       " ' 27.(1) In order to remove any difficulties in the application or interpretation of these regulations, the Board may issue clarifications or grant relaxations from application requirement or conditions of these regulations, after recording reasons therefor.\\n                 ',\n",
       " ' (2)The Board may, on an application made by any issuer, relax any of the procedural requirements or conditions or strict enforcement of these regulations, if the Board is satisfied that:\\na.requirement is procedural or technical in nature; or\\nb.requirement causes undue hardship to a particular class of industry or issuers from accessing the securities market; or\\nc.relaxation is in the interest of substantial number of investors; or\\nd.such relaxation will be in the interest of securities market.\\n18\\n19\\n                 ',\n",
       " '  Provided further that existing schemes will be allowed to complete their agreed tenure, such funds shall not raise any fresh monies other than commitments already made till registration is granted under regulation 6:\\n                 ',\n",
       " ' (2)If required by the Board, the applicant or Sponsor or Manager shall appear before the Board for personal representation.\\n Procedure for grant of Certificate.\\n                 ',\n",
       " ' (5)An Alternative Investment Fund that has been granted in-principle approval may accept commitments from investors but shall not accept any monies till it is granted registration under sub-regulation (2) of this regulation.]\\n                 ',\n",
       " ' (2)An Alternative Investment Fund which has been granted registration under a particular category cannot change its category subsequent to registration, except with the approval of the Board.\\n                 ',\n",
       " ' 9.(1) All Alternative Investment Funds shall state investment strategy, investment purpose and its investment methodology in its placement memorandum to the investors.\\n                 ',\n",
       " ' 11.(1)Alternative Investment Fund shall raise funds through private placement by issue of information memorandum or placement memorandum, by whatever name called.\\n                 ',\n",
       " ' 12.(1) The Alternative Investment Fund may launch schemes subject to filing of placement memorandum with the Board.\\n                 ',\n",
       " ' (2)Category I and II Alternative Investment Fund or schemes launched by such funds shall have a minimum tenure of three years.\\n                 ',\n",
       " ' (3)Category III Alternative Investment Fund may be open ended or close ended.\\n                 ',\n",
       " ' (5)In the absence of consent of unit holders, the Alternative Investment Fund shall fully liquidate within one year following expiration of the fund tenure or extended tenure.\\n                 ',\n",
       " ' 14.(1) Units of close ended Alternative Investment Fund may be listed on stock exchange subject to a minimum tradable lot of one crore rupees.\\n                 ',\n",
       " ' (2)Listing of Alternative Investment Fund units shall be permitted only after final close of the fund or scheme.\\n                 ',\n",
       " ' 16.(1) The following investment conditions shall apply to all Category I Alternative Investment Funds:-\\n                 ',\n",
       " ' 19Inserted by SEBI (Alternative Investment Fund) (Amendment) Regulations, 2015, w.e.f 14.08.2015\\n(a)Category I Alternative Investment Fund shall invest in investee companies or venture capital undertaking or in special purpose vehicles or in limited liability partnerships or in units of other Alternative Investment Funds as specified in these regulations;\\n(b)Fund of Category I Alternative Investment Funds may invest in units of Category I Alternative Investment Funds of same sub-category:\\nProvided that they shall only invest in such units and shall not invest in units of other Fund of Funds:\\nProvided further that the investment conditions as specified in sub-regulations (2), (3), (4) or (5) shall not be applicable to investments by such funds.\\n(c)Category I Alternative Investment Funds shall not borrow funds directly or indirectly or engage in any leverage except for meeting temporary funding requirements for not more than thirty days, on not more than four occasions in a year and not more than ten percent of the 20[investable funds].\\n                 ',\n",
       " ' (4)The following conditions shall apply to social venture funds in addition to the conditions laid down in sub-regulation (1):-\\n(a)atleast seventy five percent of the 24[investable funds] shall be invested in unlisted securities or partnership interest of social ventures.\\n23Substituted by the SEBI (Alternative Investment Fund) (Amendment) Regulations, 2013, w.e..f 16-09-2013 for the word “corpus”\\n24Substituted by the SEBI (Alternative Investment Fund) (Amendment) Regulations, 2013, w.e..f 16-09-2013 for the word “corpus”\\n(b)such funds may accept grants, provided that such utilization of such grants shall be restricted to clause (a)25[:]\\n26[Provided that the amount of grant that may be accepted by the fund from any person shall not be less than twenty-five lakh rupees:\\nProvided further that no profits or gains shall accrue to the provider of such grants.]\\n(c)such funds may give grants to social ventures, provided that appropriate disclosure is made in the placement memorandum.\\n(d)such funds may accept muted returns for their investors i.e. they may accept returns on their investments which may be lower than prevailing returns for similar investments.\\n                 ',\n",
       " ' (5)The following conditions shall apply to Infrastructure Funds in addition to conditions laid down in sub-regulation (1):-\\n(a)atleast seventy five percent of the 27[investable funds] shall be invested in unlisted securities or units or partnership interest of venture capital undertaking or investee companies or special purpose vehicles, which are engaged in or formed for the purpose of operating, developing or holding infrastructure projects;\\n(b)notwithstanding clause (a) of sub-regulation (5), such funds may also invest in listed securitized debt instruments or listed debt securities of investee companies or special purpose vehicles, which are engaged in or formed for the purpose of operating, developing or holding infrastructure projects.\\n                 ',\n",
       " ' 17.The following investment conditions shall apply to Category II Alternative Investment Funds:-\\n                 ',\n",
       " ' 18.The following investment conditions shall apply to Category III Alternative Investment Funds:-\\n(a)Category III Alternative Investment Funds may invest in securities of listed or unlisted investee companies or derivatives or complex or structured products;\\n29[(aa) Category III Alternative Investment Funds may deal in goods received in delivery against physical settlement of commodity derivatives;]\\n(b) 30[Fund of Category III] Alternative Investment Funds may invest in units of Category I or Category II Alternative Investment Funds:\\nProvided that they invest solely in such units and shall not invest in units of other Fund of Funds.\\n(c)Category III Alternative Investment Funds may engage in leverage or borrow subject to consent from the investors in the fund and subject to a maximum limit, as may be specified by the Board:\\nProvided that such funds shall disclose information regarding the overall level of leverage employed, the level of leverage arising from borrowing of cash, the level of leverage arising from position held in derivatives or in any complex product and the main source of leverage in their fund to the investors and to the Board periodically, as may be specified by the Board.\\n(d)Category III Alternative Investment Funds shall be regulated through issuance of directions regarding areas such as operational standards, conduct of business rules, prudential requirements, restrictions on redemption and conflict of interest as may be specified by the Board.\\nOther Alternative Investment Fund.\\n29Inserted by the SEBI (Alternative Investment Fund) (Amendment) Regulations, 2019, w.e.f 10-05-2019.\\n30Substituted by the SEBI (Alternative Investment Fund) (Amendment) Regulations, 2013, w.e..f 16-09-2013 for the words and symbol “Fund of Category II”\\n                 ',\n",
       " ' 19D. (1) Angel funds shall only raise funds by way of issue of units to angel investors.\\n                 ',\n",
       " ' (2)An angel fund shall have a corpus of at least 33[five] crore rupees.\\n                 ',\n",
       " ' (3)Angel funds shall accept, up to a maximum period of 34[five] years, an investment of not less than twenty five lakh rupees from an angel investor.\\n                 ',\n",
       " ' (4)Angel fund shall raise funds through private placement by issue of information memorandum or placement memorandum, by whatever name called.\\n                 ',\n",
       " ' 19E. 36[(1) The angel fund may launch schemes subject to filing of a term sheet with the Board, containing material information regarding the scheme, in the format and time period as may be specified by the Board.]\\n                 ',\n",
       " ' 36Substituted by the SEBI (Alternative Investment Funds)(Amendment) Regulations, 2018, w.e.f. 01-06-2018. Prior to the substitution, it read as “The angel fund may launch schemes subject to filing of a scheme memorandum at least ten working days prior to launch of the scheme with the Board:\\n Provided that payment of scheme fees shall not apply to schemes launched by angel funds.”.\\n                 ',\n",
       " ' 37Omitted by the SEBI (Alternative Investment Funds)(Amendment) Regulations, 2018, w.e.f. 01-06-2018. Prior to the omission, it read as “(2) Such scheme memorandum shall contain all material information about the investments proposed under such scheme.”\\n                 ',\n",
       " ' 38Omitted by the SEBI (Alternative Investment Funds)(Amendment) Regulations, 2018, w.e.f. 01-06-2018. Prior to the omission, it read as “(3) The Board may communicate its comments, if any, to the applicant prior to launch of the Scheme and the applicant shall incorporate the comments in the scheme memorandum prior to launch of the scheme.”\\n39[(2)] No scheme of the angel fund shall have more than 40[two hundred] angel investors.\\n41[Provided that the provisions of the Companies Act, 2013 shall apply to the Angel Fund, if it is formed as a company.]\\nInvestment by Angel Funds.\\n                 ',\n",
       " ' (2)Investment by an angel fund in any venture capital undertaking shall not be less than 44[twenty five] lakh rupees and shall not exceed 45[ten crores] rupees.\\n                 ',\n",
       " ' (3)Investment by an angel fund in the venture capital undertaking shall be locked-in for a\\n                 ',\n",
       " ' (4)Angel funds shall not invest in associates.\\n                 ',\n",
       " ' (3)The manager of the angel fund shall obtain an undertaking from every angel investor proposing to make investment in a venture capital undertaking, confirming his approval for such an investment, prior to making such an investment.\\n Prohibition of Listing.\\n                 ',\n",
       " ' 20.(1) All Alternative Investment Funds shall review policies and procedures, and their implementation, on a regular basis, or as a result of business developments, to ensure their continued appropriateness.\\n                 ',\n",
       " ' 48[Provided further that the custodian appointed by Category III Alternative Investment Fund shall keep custody of securities and goods received in delivery against physical settlement of commodity derivatives.]\\n                 ',\n",
       " ' (5)The books of accounts of the Alternative Investment Fund shall be audited annually by a qualified auditor.\\n                 ',\n",
       " ' 21.(1) The Sponsor and Manager of the Alternative Investment Fund shall act in a fiduciary capacity towards its investors and shall disclose to the investors, all conflicts of interests as and when they arise or seem likely to arise.\\n                 ',\n",
       " ' (2)Manager shall establish and implement written policies and procedures to identify, monitor and appropriately mitigate conflicts of interest throughout the scope of business.\\n                 ',\n",
       " ' (3)Managers and Sponsors of Alternative Investment Fund shall abide by high level principles on avoidance of conflicts of interest with associated persons, as may be specified by the Board from time to time.\\n                 ',\n",
       " ' 22.All Alternative Investment Funds shall ensure transparency and disclosure of information to investors on the following:\\n(a)financial, risk management, operational, portfolio, and transactional information regarding fund investments shall be disclosed periodically to the investors;\\n(b)any fees ascribed to the Manager or Sponsor; and any fees charged to the Alternative Investment Fund or any investee company by an associate of the Manager or Sponsor shall be disclosed periodically to the investors;\\n(c)any inquiries/ legal actions by legal or regulatory bodies in any jurisdiction, as and when occurred;\\n(d)any material liability arising during the Alternative Investment Fund’s tenure shall be\\ndisclosed, as and when occurred;\\n(e)any breach of a provision of the placement memorandum or agreement made with the investor or any other fund documents, if any, as and when occurred;\\n(f)change in control of the Sponsor or Manager or Investee Company.\\n(g)Alternative Investment Fund shall provide at least on an annual basis, within 180 days from the year end, reports to investors including the following information, as may be applicable to the Alternative Investment Fund:-\\nA.financial information of investee companies.\\nB.material risks and how they are managed which may include:\\n(i) concentration risk at fund level; (ii) foreign exchange risk at fund level;\\n(iii)leverage risk at fund and investee company levels;\\n(iv)realization risk (i.e. change in exit environment) at fund and investee company levels;\\n(v)strategy risk (i.e. change in or divergence from business strategy) at investee company level;\\n(vi)reputation risk at investee company level;\\n(vii)extra-financial risks, including environmental, social and corporate governance risks, at fund and investee company level.\\n                 ',\n",
       " ' (3)Category III Alternative Investment Funds shall ensure that calculation of the net asset value (NAV) is independent from the fund management function of the Alternative Investment Fund and such NAV shall be disclosed to the investors at intervals not longer than a quarter for close ended Funds and at intervals not longer than a month for open ended funds.\\n                 ',\n",
       " ' 25.An Alternative Investment Fund, by itself or through the Manager or Sponsor, shall lay down procedure for resolution of disputes between the investors, Alternative Investment Fund, Manager or Sponsor through arbitration or any such mechanism as mutually decided between the investors and the Alternative Investment Fund.\\n Power to call for information.\\n                 ',\n",
       " ' 27.(1) The Manager or Sponsor shall be required to maintain following records describing:\\n(a)the assets under the scheme/fund;\\n(b)valuation policies and practices;\\n(c)investment strategies;\\n(d)particulars of investors and their contribution;\\n(e)rationale for investments made.\\n                 ',\n",
       " ' (2)An Alternative Investment Fund set up as a limited liability partnership shall be wound up in accordance with the provisions of The Limited Liability Partnership Act, 2008:\\n(a)when the tenure of the Alternative Investment Fund or all schemes launched by the Alternative Investment Fund, as mentioned in the placement memorandum is over; or\\n(b)if seventy five percent of the investors by value of their investment in the Alternative Investment Fund pass a resolution at a meeting of unitholders that the Alternative Investment Fund be wound up; or\\n(c)if the Board so directs in the interests of investors.\\n                 ',\n",
       " ' (3)During the course of an inspection, the Alternative Investment Fund against whom the inspection is being carried out shall be bound to discharge its obligations as provided in regulation 32.\\n                 ',\n",
       " ' (4)The Inspecting Authority shall, for the purposes of inspection, have power to obtain authenticated copies of documents, books, accounts of Alternative Investment Fund, from any person having control or custody of such documents, books or accounts.\\n                 ',\n",
       " ' 33.The Inspecting Authority shall, as soon as possible, on completion of the inspection submit an inspection report to the Board:\\n Provided that if directed to do so by the Board, he may submit an interim report.\\n                 ',\n",
       " ' 35A. (1) The Board may, exempt any person or class of persons from the operation of all or any of the provisions of these regulations for a period as may be specified but not exceeding twelve months, for furthering innovation in technological aspects relating to testing new products, processes, services, business models, etc. in live environment of regulatory sandbox in the securities markets.\\n                 ',\n",
       " ' 4.(i) The maximum limit of any buy-back shall be twenty-five per cent or less of the aggregate of paid-up capital and free reserves of the company2[, based on both standalone and consolidated financial statements of the company]:\\n                 ',\n",
       " ' 12.The provisions pertaining to buy-back through tender offer as specified in this Chapter shall be applicable mutatis mutandis to odd-lot shares or other specified securities.\\n Page 17 of 41\\n                 ',\n",
       " ' 17.(i) The identity of the company as a purchaser shall appear on the electronic screen when the order is placed;\\n(ii)The buy-back offer shall open not later than seven working days from the date of public announcement and shall close within six months from the date of opening of the offer.\\nSubsequent compliances for open market buy-back through stock exchange:\\n                 ',\n",
       " ' 20.(i) The company shall, before opening of the offer, create an escrow account\\n Page 20 of 41\\n                 ',\n",
       " ' 21.(i) Subject to the provisions of sub-regulation (ii) and (iii), the provisions of regulation 11 pertaining to the extinguishment of certificates for tender offers shall apply for extinguishment of certificates under this Chapter.\\n(ii)The company shall complete the verification of acceptances within fifteen days of the payout.\\n(iii)The company shall extinguish and physically destroy the securities certificates so bought back during the month in the presence of a Merchant Banker and the Statutory Auditor, on or before the fifteenth day of the succeeding month:\\nProvided that the company shall ensure that all the securities bought-back are extinguished within seven days of expiry of buy-back period.\\nBuy-back through book building\\n                 ',\n",
       " ' 23.The provisions pertaining to extinguishment of certificates for tender offer shall be applicable mutatis mutandis to the buy-back through book building.\\n                 ',\n",
       " ' 25.The merchant banker shall ensure that—\\n(i)the company is able to implement the offer;\\n(ii)the provision relating to escrow account has been complied with;\\n(iii)firm arrangements for monies for payment to fulfill the obligations under the offer are in place;\\n(iv)the public announcement of buy-back is made in terms of the regulations;\\n(v)the letter of offer has been filed in terms of the regulations;\\n(vi)a due diligence certificate along with the draft letter of offer has been furnished to the Board;\\n(vii)the contents of the public announcement of offer as well as the\\nPage 27 of 41\\nletter of offer are true, fair and adequate and quoting the source wherever necessary;\\n(viii)due compliance of sections 68, 69 and 70 of the Companies Act and any other laws or rules as may be applicable in this regard has been made;\\n(ix)the bank with whom the escrow or special amount has been deposited releases the balance amount to the company only upon fulfillment of all obligations by the company under the regulations;\\n(x)a final report is submitted to the Board in the form specified within fifteen days from the date of expiry of buyback period.\\n                 ',\n",
       " ' 25A. (1) The Board may, exempt any person or class of persons from the operation of all or any of the provisions of these regulations for a period as may be specified but not exceeding twelve months, for furthering innovation in technological aspects relating to testing new products, processes, services, business models, etc. in live environment of regulatory sandbox in the securities markets.\\n                 ',\n",
       " ' 28.(i) The Board may, in the interest of investors and the securities market, relax the strict enforcement of any requirement of these regulations except the provisions incorporated from the Companies Act, if the Board is satisfied that:\\n(a)the requirement is procedural in nature; or\\n(b)the requirement may cause undue hardship to investors;\\n(ii)For seeking relaxation under sub-regulation (i), the company shall file an application with the Board, supported by a duly sworn affidavit, giving details and the grounds on which such relaxation has\\nPage 29 of 41\\nbeen sought.\\n(iii)The company shall along with the application referred to under\\nsub-regulation (ii), pay a non-refundable fee of rupees fifty thousand, by way of direct credit in the bank account through NEFT/RTGS/IMPS or any other mode allowed by RBI or by way of a banker’s cheque or demand draft payable in Mumbai in favour of the Board.\\n(iv)The Board may after affording reasonable opportunity of being heard to the applicant and after considering all the relevant facts and circumstances, pass a reasoned order either granting or rejecting the relaxation sought as expeditiously as possible.\\nRepeal and savings\\n                 ',\n",
       " \" (3)An applicant seeking recognition as a stock exchange shall, in addition to the conditions as specified in sub-regulations (1) and (2), comply with the following conditions, namely:—\\n(a)the applicant has the necessary infrastructure for the orderly execution of trades;\\n(b)the applicant has an online screen-based trading system;\\n(c)the applicant has an online surveillance capability which monitors positions, prices and volumes in real time so as to ensure market integrity;\\n(d)the applicant has adequate infrastructure to list securities for trading on its platform, wherever applicable;\\n(e)the applicant has necessary capability to have a nationwide network of trading members and has adequate facility to admit and regulate its members;\\n(f)the applicant has made necessary arrangements to establish connectivity with its trading members and clearing corporation;\\n(g)the applicant has adequate Investor Protection Fund and Investor Services Fund;\\n(h)the applicant has adequate investor grievances redressal mechanism and arbitration mechanism to resolve disputes arising out of trades and its settlement;\\n(i)the applicant has the facility to disseminate information about trades, quantities and quotes in real time to at least two information vending networks which are accessible to investors in the country;\\n(j)the applicant has adequate systems' capacity supported by a business continuity plan including a disaster recovery site;\\n(k)the applicant has in its employment, sufficient number of persons having adequate professional and other relevant experience;\\n(l)the business feasibility plan has been appraised by a reputed agency having expertise in securities market; and\\n(m)any other conditions as may be specified by the Board.\\n                 \",\n",
       " \" (4)An applicant seeking recognition as a clearing corporation shall, in addition to the conditions as specified in sub-regulations (1) and (2), comply with the following conditions, namely:—\\n(a)the applicant has necessary infrastructure to ensure timely clearing and settlement of trades;\\n(b)the applicant has adequate risk management mechanism;\\n(c)the applicant has a settlement procedure including netting, novation and guarantee for settlement of trades in place, which is in accordance with the manner specified by the Board;\\n(d)the applicant has the capacity to establish a fund to guarantee settlement of trades;\\n(e)the applicant has necessary capability to have a wide network of clearing members and has adequate facility to admit and regulate its members;\\n(f)the applicant has established connectivity with the depositories, clearing banks, stock exchange and clearing members;\\n(g)the applicant has adequate systems' capacity for on-line/real time risk management of trades cleared and settled and is supported by a suitable business continuity plan including a disaster recovery site;\\n(h)the applicant has in its employment, sufficient number of persons having adequate professional and other relevant experience to the satisfaction of the Board;\\n(i)the applicant has the necessary arrangements in place for resolving disputes and redressal of grievances arising out of clearing and settlement of trades;\\n(j)the applicant has an agreement with a depository and with a recognised stock exchange in respect of clearing and settlement of the trades;\\n(k)the business feasibility plan has been appraised by a reputed agency having expertise in securities market; and\\n(l)any other conditions as may be specified by the Board.\\n                 \",\n",
       " ' 8.The Board may, before granting recognition to a stock exchange or clearing corporation, make inquiries and require such further information or document to be furnished, as it may deem necessary.\\n                 ',\n",
       " ' (4)An applicant seeking renewal of recognition as a stock exchange shall pay fee in terms of rule 7 of the rules, and an applicant seeking renewal of recognition as a clearing corporation shall also pay fee as payable by a stock exchange.\\n                 ',\n",
       " ' (2)Every applicant seeking recognition as a clearing corporation under regulation 4 shall have a minimum networth of one hundred crore rupees:\\n                 ',\n",
       " ' (3)(a) Every recognized clearing corporation, on commencement of operations, shall, on an ongoing basis, maintain capital including retained earnings and reserves, as may be specified by the Board from time to time, to adequately cover counterparty credit risk, business risk, legal and operational risk.\\n(b)Every recognized clearing corporation shall hold additional capital to cover costs required for orderly wind-down or recovery of operations.\\n(c)Every recognized clearing corporation shall maintain, at all times, a minimum net worth of one hundred crore rupees or capital as determined under regulation 14(3)(a) and 14(3)(b), whichever is higher.\\n                 ',\n",
       " ' 15.For the purposes of this Chapter:\\n(1)\"banking company\" shall have the same meaning as assigned to it in clause (c) of section 5 of the Banking Regulation Act, 1949 (10 of 1949);\\n(2)\"insurance company\" shall have the same meaning as assigned to it in sub-section (8) of section 2 of the Insurance Act, 1938 (4 of 1938);\\n(3)\"person resident in India\" shall have the same meaning as assigned to it in clause (v) of section 2 of the Foreign Exchange Management Act, 1999 (42 of 1999);\\n(4)\"person resident outside India\" shall have the same meaning as assigned to it in clause\\n(w) of section 2 of the Foreign Exchange Management Act, 1999 (42 of 1999).\\n(5)“public financial institution” shall have the same meaning as assigned to it in sub-section (72) of section 2 of the Companies Act, 2013\\n                 ',\n",
       " ' (2)The shareholding as specified in this Chapter shall include any instrument owned or controlled, directly or indirectly, that provides for entitlement to equity or rights over equity at any future date.\\n                 ',\n",
       " ' (2)No person resident in India shall at any time, directly or indirectly, either individually or together with persons acting in concert, acquire or hold more than five per cent of the paid up equity share capital in a recognised stock exchange:\\n Provided that,—\\n(a)a stock exchange;\\n(b)a depository;\\n(c)a banking company;\\n(d)an insurance company; and\\n(e)a public financial institution,\\nmay acquire or hold, either directly or indirectly, either individually or together with persons acting in concert, upto fifteen per cent of the paid up equity share capital of a recognised stock exchange.\\n                 ',\n",
       " ' (4)Subject to the limits as otherwise prescribed by the Central Government from time to time, the combined holding of all persons resident outside India in the paid up equity share capital of a recognised stock exchange shall not exceed, at any time, forty-nine per cent of its total paid up equity share capital\\n                 ',\n",
       " ' (5)No clearing corporation shall hold any right, stake or interest, of whatsoever nature, in any recognised stock exchange.\\n                 ',\n",
       " ' (2)No person resident in India, except a recognised stock exchange as permitted in sub- regulation (1), shall at any time, directly or indirectly, either individually or together\\n                 ',\n",
       " ' with persons acting in concert, acquire or hold more than five per cent. of the paid up equity share capital in a recognised clearing corporation:\\n Provided that,—\\n(a)a depository;\\n(b)a banking company;\\n(c)an insurance company; and\\n(d)a public financial institution,\\nmay acquire or hold, either directly or indirectly, either individually or together with persons acting in concert, upto fifteen per cent of the paid up equity share capital of a recognised clearing corporation.\\n                ',\n",
       " ' 23.(1) The governing board of every recognised stock exchange and recognised clearing corporation shall include:\\n(a)shareholder directors;\\n(b)public interest directors; and,\\n(c)managing director.\\n                 ',\n",
       " ' (4)The managing director shall be included in the category of shareholder directors.\\n                 ',\n",
       " '  Provided further that a person may be nominated as a public interest director for a maximum of three terms across recognized stock exchanges / recognized clearing corporations / depositories, subject to a maximum age limit of seventy five years.\\n                 ',\n",
       " ' (6)No public interest director shall become a shareholder director unless there is a cooling-off period of three years after ceasing to be a public interest director.\\n                 ',\n",
       " ' (9)Public interest directors shall be remunerated only by way of sitting fees as admissible to independent directors in the Companies Act, 2013.\\n                 ',\n",
       " ' (6)The Board may suo motu remove or terminate the appointment of the managing director if deemed fit in the interest of securities market:\\n Provided that no managing director shall be removed unless he has been given a reasonable opportunity of being heard.\\n                 ',\n",
       " ' (2)The Nomination and Remuneration Committee shall determine the compensation of key management personnel in terms of a compensation policy.\\n                 ',\n",
       " ' (6)The report under sub-regulation (5) shall comprise of ratio of compensation paid to each key management personnel, vis-a-vis. median of compensation paid to all employees of the recognized stock exchange or recognized clearing corporation.\\n                 ',\n",
       " ' (7)The tenure of a key management personnel, other than a director, shall be for a fixed period, as may be decided by the Nomination and Remuneration Committee.\\n                 ',\n",
       " ' 37.(1) Every recognised clearing corporation shall establish and maintain a Fund by whatever name called, for each segment, to guarantee the settlement of trades executed in respective segment of a recognised stock exchange:\\n                 ',\n",
       " ' (2)In the event of a clearing member failing to honour his settlement obligations, the Fund shall be utilized to complete the settlement.\\n                 ',\n",
       " ' (4)The sufficiency of the corpus of the Fund shall be tested by way of periodic stress tests, in the manner specified by the Board.\\n                 ',\n",
       " ' 39.(1) The recognised clearing corporation shall lay down a policy framework for ensuring that there is no discrimination while rendering clearing and settlement services in settlement of trades executed on shareholder stock exchange(s) and executed on non-shareholder stock exchange(s).\\n                 ',\n",
       " \" (4)If any issue arises in rendering non-discriminatory access to services of a recognized clearing corporation, the Board's decision shall be final.\\n                 \",\n",
       " ' (2)Subject to the provisions of any other law for the time being in force, every recognised clearing corporation shall maintain and preserve the following books of account and documents for a minimum period of eight years, namely:-\\n(a)Minute books of the meetings of:\\n(i)governing board;\\n(ii)any committees of the governing board;\\n(b)Record of clearing members showing their full names, addresses and details of bank and depository accounts for settlement purposes;\\n6Omitted by the Securities Contracts (Regulation) (Stock Exchanges and Clearing Corporations) (Amendment) Regulations, 2019, w.e.f. 04-06-2019. Prior to its omission, it read as “except”.\\n(c)Transaction records;\\n(d)Record of security deposits;\\n(e)Margin deposits book;\\n(f)Client margin collection details;\\n(g)Ledgers;\\n(h)Journals;\\n(i)Cash book;\\n(j)Bank account statement;\\n(k)Such other books of accounts and documents as may be specified by the Board from time to time.\\n                 ',\n",
       " ' 43A. Every recognized Clearing Corporation providing clearing and settlement services for commodity derivatives shall ensure guarantee for settlement of trades including good delivery.\\n                 ',\n",
       " ' 45.(1) Subject to the provisions of the applicable laws in force, a recognised stock exchange may apply for listing of its securities on any recognised stock exchange, other than itself and its associated stock exchange, if,—\\n(a)it is compliant with the provisions of these regulations particularly those relating to ownership and governance;\\n8Inserted by the Securities Contracts (Regulation) (Stock Exchanges and Clearing Corporations) (Amendment) Regulations, 2019, w.r.e.f. 03-10-2018.\\n(b)it has completed three years of continuous trading operations immediately preceding the date of application of listing; and\\n(c)it has obtained approval of the Board:\\nProvided the Board may specify such conditions as it may deem fit in the interest of the securities market including those in relation to transfer of shares held by any person.\\n                 ',\n",
       " ' 49A. (1) The Board may, exempt any person or class of persons from the operation of all or any of the provisions of these regulations for a period as may be specified but not exceeding twelve months, for furthering innovation in technological aspects relating to testing new products, processes, services, business models, etc. in live environment of regulatory sandbox in the securities markets.\\n                 ',\n",
       " ' 52.(1) On and from the commencement of these regulations, the Securities Contracts (Regulation) (Stock Exchanges and Clearing Corporations) Regulations, 2012 and the following circulars, shall stand rescinded:\\n(a)Circular No. CIR/MRD/DSA/33/2012, dated December 13, 2012 - Procedural norms on Recognitions, Ownership and Governance for Stock Exchanges and Clearing Corporations;\\n(b)Circular No. SEBI/HO/MRD/DSA/CIR/P/2016/30 dated January 22, 2016 - Amendment to SEBI Circular CIR/MRD/DSA/33/2012 dated December 13, 2012 pursuant to amendment in Regulation 2(1)(b) of SECC Regulations, 2012.\\n                 ',\n",
       " ' 14.(1) The Board shall take into account for considering grant of certificate of commencement of business, all matters which are relevant to the efficient and orderly functioning of the depository and in particular, the following, namely, whether—\\n(a)\\nthe depository has a net worth of not less than rupees one hundred crores;\\n(b)\\nthe bye-laws of the depository have been approved by the Board;\\n(c)\\nthe automatic data processing systems of the depository have been protected against\\n\\xa0\\nunauthorised access, alteration, destruction, disclosure or dissemination of records and\\n\\xa0\\ndata;\\n(d)\\nthe network through which continuous electronic means of communications are\\n\\xa0\\nestablished between the depository, participants, issuers and issuers’ agents is secure\\n\\xa0\\nagainst unauthorised entry or access;\\n(e)\\nthe depository has established standard transmission and encryption formats for\\n\\xa0\\nelectronic communications of data between the depository, participants, issuers and\\n\\xa0\\nissuers’ agents;\\n(f)\\nthe physical or electronic access to the premises, facilities, automatic data processing\\n\\xa0\\nsystems, data storage sites and facilities including back up sites and facilities and to the\\n\\xa0\\nelectronic data communication network connecting the depository, participants, issuers\\n\\xa0\\nand issuers’ agents is controlled, monitored and recorded;\\n(g)\\nthe depository has a detailed operations manual explaining all aspects of its functioning,\\n\\xa0\\nincluding the interface and method of transmission of information between the\\n\\xa0\\ndepository, issuers, issuers’ agents, participants and beneficial owners;\\n(h)\\nthe depository has established adequate procedures and facilities to ensure that its records\\n\\xa0\\nare protected against loss or destruction and arrangements have been made for\\n\\xa0\\nmaintaining back up facilities at a location different from that of the depository;\\n(i)\\nthe depository has made adequate arrangements including insurance for indemnifying the\\n\\xa0\\nbeneficial owners for any loss that may be caused to such beneficial owners by the\\n\\xa0\\nwrongful act, negligence or default of the depository or its participants or of any\\n\\xa0\\nemployee of the depository or participant; and\\n(j)\\nthe grant of certificate of commencement of business is in the interest of investors in the\\n\\xa0\\nsecurities market.\\n                 ',\n",
       " ' 15.(1) Every depository shall maintain networth as specified under regulation 14 (1) (a) at all times and submit an audited networth certificate from the statutory auditor on a yearly basis, by the thirtieth day of September of every year for the preceding financial year.\\n                 ',\n",
       " ' 19.For the purposes of this Chapter:\\n(1)\"banking company\" shall have the same meaning as assigned to it in clause (c) of section 5 of the Banking Regulation Act, 1949 (10 of 1949);\\n(2)\"insurance company\" shall have the same meaning as assigned to it in sub-section (8) of section 2 of the Insurance Act, 1938 (4 of 1938);\\n(3)\"person resident in India\" shall have the same meaning as assigned to it in clause (v) of section 2 of the Foreign Exchange Management Act, 1999 (42 of 1999);\\n(4)\"person resident outside India\" shall have the same meaning as assigned to it in clause\\n(w) of section 2 of the Foreign Exchange Management Act, 1999 (42 of 1999).\\n(5)“public financial institution” shall have the same meaning as assigned to it in sub-section (72) of section 2 of the Companies Act, 2013\\n                 ',\n",
       " ' 21.(1) No person resident in India shall at any time, directly or indirectly, either individually or together with persons acting in concert, acquire or hold more than five percent of the paid up equity share capital in a Depository:\\n Provided that,—\\n(i)a stock exchange;\\n(ii)a depository;\\n9\\n(iii)a banking company;\\n(iv)an insurance company; and\\n(v)a public financial institution,\\nmay acquire or hold, either directly or indirectly, either individually or together with persons acting in concert, upto fifteen percent of the paid up equity share capital of a Depository.\\n                 ',\n",
       " ' (3)Subject to the limits as otherwise prescribed by the Central Government from time to time, the combined holding of all persons resident outside India in the paid up equity share capital of a depository shall not exceed, at any time, forty-nine percent of its total paid up equity share capital.\\n                 ',\n",
       " ' person(s) so acquiring to exercise voting rights of two percent upto five percent, shall seek approval of the Board within fifteen days of such acquisition.\\n                ',\n",
       " ' (2)For the purpose of determining whether an applicant, depository, its shareholder, director, key management personnel or a participant, is a ‘fit and proper person’ under these regulations, the criteria specified under regulation 20 of Securities Contracts (Regulation) (Stock exchanges and Clearing Corporations) Regulations, 2018, shall be applicable\\n                 ',\n",
       " ' 24.(1) The governing board of every depository shall include:\\n(a)shareholder directors;\\n(b)public interest directors; and,\\n(c)managing director.\\n                 ',\n",
       " ' (7)The managing director shall be included in the category of shareholder directors.\\n                 ',\n",
       " ' (12)Depository shall monitor and ensure the compliance of sub-regulation 9 on continuous basis, to ensure that directors appointed, on their governing board, do not get associated with Depository Participant after approval and appointment.\\n                 ',\n",
       " ' (7)No public interest director shall become a shareholder director unless there is a cooling- off period of three years after ceasing to be a public interest director\\n                 ',\n",
       " ' (9)Public interest directors shall be remunerated only by way of payment of sitting fees as admissible to independent directors in the Companies Act, 2013.\\n                 ',\n",
       " ' (2)Every depository shall, subject to the guidelines issued by the Board from time to time, determine the qualification, manner of appointment, terms and conditions of appointment and other procedural formalities relating to the selection/ appointment of the managing director.\\n                 ',\n",
       " ' (3)The appointment of the managing director shall be for a term not exceeding five years:\\n Provided that post the completion of first term as Managing Director, the depository shall conduct the appointment process afresh:\\n                 ',\n",
       " ' (6)The Board may suo motu remove or terminate the appointment of the managing director if deemed fit in the interest of securities market:\\n Provided that no managing director shall be removed unless he has been given a reasonable opportunity of being heard.\\n                 ',\n",
       " ' 28.(1) A depository shall constitute a Nomination and Remuneration Committee comprising a majority of public interest directors and chaired by a public interest director.\\n                 ',\n",
       " ' (2)The Nomination and Remuneration Committee shall determine the compensation of key management personnel in terms of a compensation policy.\\n                 ',\n",
       " ' (6)The report under sub-regulation (5) shall comprise of ratio of compensation paid to each key management personnel, vis-a-viz. median of compensation paid to other employees of the depository.\\n                 ',\n",
       " ' (7)The tenure of a key management personnel, other than a director, in a department, shall be for a fixed period, as may be decided by the Nomination and Remuneration committee.\\n                 ',\n",
       " ' 31.(1) The disclosure requirements and corporate governance norms as specified for listed companies shall mutatis mutandis apply to a depository.\\n                 ',\n",
       " ' (3)Depository shall disclose resources committed towards strengthening regulatory functions and towards ensuring compliance with regulatory requirements applicable to the depository, backed by an activity based accounting in the report under section 134 of the Companies Act, 2013.\\n                 ',\n",
       " ' (7)The participant shall immediately intimate the Board, details of changes that have taken place in the information that was submitted, while seeking registration.\\n                 ',\n",
       " ' 37.The participant holding a certificate of registration shall, at all times, abide by the Code of Conduct as specified in Part A of Third Schedule.\\n                 ',\n",
       " ' 40.The depositories, participants, issuers, and issuers’ agents, in addition to the rights and obligations laid down in the Depositories Act and the bye-laws shall have the rights and obligations arising from the agreements entered into by them.\\n                 ',\n",
       " ' 41.Every depository shall, in its bye-laws, state the specific securities which are eligible for being held in dematerialised form in the depository.\\n                 ',\n",
       " ' 42.The following securities shall be eligible for being held in dematerialised form in a depository :—\\n(a) shares, scrips, stocks, bonds, debentures, debenture stock , Indian Depository Receipts or other marketable securities of a like nature in or of any incorporated company or other body corporate;\\n(b) units of mutual funds, rights under collective investment schemes and venture capital funds, commercial paper, certificates of deposit, securitised debt, money market instruments, Government securities and unlisted securities shall also be similarly eligible for being held in dematerialised form in a depository;\\n(c) any other security as may be specified by the Board from time to time, by way of a notification in the Official Gazette and subject to such conditions as it may deem fit to impose.\\nAgreement between depository and issuer\\n                 ',\n",
       " ' 45.Every depository shall maintain continuous electronic means of communication with all its participants, issuers or issuers’ agents, as the case may be, clearing houses and clearing corporations of the stock exchanges and with other depositories.\\n                 ',\n",
       " ' 48.Every depository shall have adequate mechanisms for the purposes of reviewing, monitoring and evaluating the depository’s controls systems, procedures and safeguards.\\n                 ',\n",
       " ' 50.A depository shall have adequate Business Continuity Plan for data and electronic records to prevent, prepare for, and recover from any disaster.\\n                 ',\n",
       " ' 52.Every depository shall take adequate measures including insurance to protect the interests of the beneficial owners against risks likely to be incurred on account of its activities as a depository.\\n                 ',\n",
       " ' 54.(1) Every depository shall maintain the following records and documents, namely :—\\n(a)records of securities dematerialised and rematerialised;\\n(b) the names of the transferor, transferee, and the dates of transfer of securities;\\n(c) a register and an index of beneficial owners;\\n(d) details of the holding of the securities of beneficial owners as at the end of each day;\\n(e) records of instructions received from and sent to participants, issuers, issuers’ agents and beneficial owners;\\n(f) records of approval, notice, entry and cancellation of pledge or hypothecation, as the case may be;\\n(g) details of participants;\\n(h) details of securities declared to be eligible for dematerialisation in the depository; and\\n(i) such other records as may be specified by the Board for carrying on the activities as a depository.\\n                 ',\n",
       " ' 55.Every depository shall extend all such co-operation to the beneficial owners, issuers, issuers’ agents, custodians of securities, other depositories and clearing organizations as is necessary for the effective, prompt and accurate clearance and settlement of securities transactions and conduct of business.\\n                 ',\n",
       " ' 56.In order to enable generation of a consolidated account statement for the use of a beneficial owner in respect of all demat assets held by him, the depository shall enter into necessary agreements for sharing of such information.\\n                 ',\n",
       " ' (3)Every entry in the beneficial owner’s account shall be supported by electronic instructions or any other mode of instruction received from the beneficial owner in accordance with the agreement with the beneficial owner.\\n                 ',\n",
       " ' 62.Every participant shall maintain continuous electronic means of communication with each depository in which it is a participant.\\n                 ',\n",
       " ' 63.Every participant shall have adequate mechanism for the purpose of reviewing, monitoring and evaluating the participant’s internal accounting controls and systems.\\n                 ',\n",
       " ' 66. (1) Every participant shall maintain the following records and documents, namely :—\\n(a) records of all the transactions entered into with a depository and with a beneficial owner;\\n(b) details of securities dematerialised, rematerialised on behalf of beneficial owners with whom it has entered into an agreement;\\n(c)records of instructions received from beneficial owners and statements of account provided to beneficial owners; and\\n(d) records of approval, notice, entry and cancellation of pledge or hypothecation, as the case may be.\\n                 ',\n",
       " ' (3)Every participant shall allow persons authorised by the depository in which it is a participant to enter its premises during normal office hours and inspect its records.\\n                 ',\n",
       " ' 71.All matters relating to transfer of securities, maintenance of records of holders of securities, handling of physical securities and establishing connectivity with the depositories shall be handled and maintained at a single point i.e. either in-house by the issuer or by a Share Transfer Agent registered with the Board.\\n                 ',\n",
       " ' 76.(1) Every issuer shall submit audit report on a quarterly basis, starting from September 30, 2003, to the concerned stock exchanges audited by a qualified Chartered Accountant or a practicing Company Secretary, for the purposes of reconciliation of the total issued capital, listed capital and capital held by depositories in dematerialized form, the details of changes in share capital during the quarter and the in-principle approval obtained by the issuer from all the stock exchanges where it is listed in respect of such further issued capital.\\n                 ',\n",
       " ' (3)The issuer shall immediately bring to the notice of the depositories and the stock exchanges, any difference observed in its issued, listed, and the capital held by depositories in dematerialised form.\\n                 ',\n",
       " ' (4)On receipt of the intimation under sub-regulation (3) the participants of both the pledger and the pledgee shall inform the pledger and the pledgee respectively of the entry of creation of the pledge.\\n                 ',\n",
       " ' (8)Subject to the provisions of the pledge document, the pledgee may invoke the pledge and on such invocation, the depository shall register the pledgee as beneficial owner of such securities and amend its records accordingly.\\n                 ',\n",
       " ' (9)After amending its records under sub-regulation (8) the depository shall immediately inform the participants of the pledger and pledgee of the change who in turn shall make the necessary changes in their records and inform the pledger and pledgee respectively.\\n                 ',\n",
       " ' (10)If a beneficial owner intends to create a hypothecation on a security owned by him he may do so in accordance with the provisions of sub-regulations (1) to (9).\\n                 ',\n",
       " ' (11)The provisions of sub-regulations (1) to (9) shall mutatis mutandis apply in such cases of hypothecation:\\n Provided that the depository before registering the hypothecatee as a beneficial owner shall obtain the prior concurrence of the hypothecator.\\n                 ',\n",
       " ' (2)In case an employee of the depository or the participant is rendering such advice, he shall also disclose the interest of his dependent family members and the employer including their long or short position in the said security, while rendering such advice.\\n                 ',\n",
       " ' 81.A depository and a participant shall appoint a compliance officer who shall be responsible for monitoring the compliance of the Act, rules and regulations, notifications, guidelines, instructions, etc., issued thereunder and for redressal of investors’ grievances.\\n(2) The compliance officer shall immediately and independently report to the Board any non- compliance observed by him.\\nEqual, fair and transparent access\\n                 ',\n",
       " ' 82.A depository shall ensure equal, unrestricted, transparent and fair access to all persons without any bias towards its associates and related entities.\\n                 ',\n",
       " ' 85.(1) Before ordering an inspection or investigation under regulation 84, the Board shall give not less than ten days notice to the depository, participant, beneficial owner, issuer or its agent, as the case may be.\\n                 ',\n",
       " ' 93A. (1) The Board may, exempt any person or class of persons from the operation of all or any of the provisions of these regulations for a period as may be specified but not exceeding twelve months, for furthering innovation in technological aspects relating to testing new products, processes, services, business models, etc. in live environment of regulatory sandbox in the securities markets.\\n                 ',\n",
       " ' 95.Without prejudice to exercise of its powers under the provisions of the Act, Depositories Act, 1996 and rules and regulations made thereunder, the Board may, either suo motu or on\\n                 ',\n",
       " ' 96.In order to remove any difficulties in the interpretation or application of the provisions of these regulations, the Board shall have the power to issue directions through guidance notes or circulars.\\n Power to specify procedures, etc. and issue clarifications\\n                 ',\n",
       " ' Notwithstanding anything contained in the first proviso, the Board may, on being satisfied that it is necessary, extend the time period by such further time, as it deems fit, in order to enable the applicant to remove the objections indicated by the Board.\\n                 ',\n",
       " ' (2)The applicant or his authorized representative shall, if so required, appear before the Board for personal representation in connection with the grant of certificate of registration.\\n                 ',\n",
       " ' 6.(1) The Board shall not consider an application, unless the applicant is a fit and proper person to the satisfaction of the Board and belongs to one of the following categories, namely:\\n(a)a wholly owned subsidiary of a recognized stock exchange, having nation-wide network of trading terminals, or;\\n(b)a wholly owned subsidiary of a depository or any other intermediary registered with the Board or;\\n(c)a wholly owned subsidiary of a Self Regulatory Organization (SRO) registered under SEBI (Self Regulatory Organization) Regulations, 2004,\\nProvided that any conflict of interest does not exist between the role of the applicant as KRA and other commercial activities of the applicant, its associates and group companies.\\nProvided further that the applicant shall have to satisfy to the Board about the organizational capabilities, technology and systems and safeguards for maintaining data privacy and preventing unauthorized sharing of data.\\nNotwithstanding the aforementioned, the Board shall have the power to examine any possible case of conflict of interest in applications.\\n                 ',\n",
       " ' (2)The applicant as mentioned in sub regulation (a) to (c) of regulation 6(1) above shall have a net worth of at least Rs 25 crore on a continuous basis.\\n                 ',\n",
       " ' 8[(4) The KRA shall immediately intimate the Board, details of changes that have taken place in the information that was submitted, while seeking registration.]\\n                 ',\n",
       " ' 9.For the purpose of determining whether an applicant is a fit and proper person, the Board may take into account the criteria specified in Schedule II of Intermediaries Regulations.\\n                 ',\n",
       " ' 16. The Intermediary has the following functions and obligations –\\n14[(a) The intermediary shall perform the initial KYC/due diligence of the client, upload the KYC information with proper authentication on the system of the KRA, furnish the scanned images of the KYC documents to the KRA, and retain the physical KYC documents:\\nProvided that in the case of clients of a mutual fund, the Registrar to an Issue and Share Transfer Agent appointed by the mutual fund may perform the initial KYC/due diligence of the client, upload the KYC information with proper authentication on the system of the KRA, and furnish the scanned images of KYC documents to the KRA.]\\n15[(aa) The intermediary or the mutual fund, as the case may be, shall furnish the physical KYC documents or authenticated copies thereof to the KRA, whenever so desired by the KRA.]\\n16[(b) When the client approaches another intermediary subsequently, the intermediary shall verify and download the client’s details from the system of KRA:\\nProvided that upon receipt of information on change in KYC details and status of the clients by the intermediary or when it comes to the knowledge of the intermediary, at any stage, the intermediary shall be responsible for uploading the updated information on the system of KRA and retaining the physical documents.\\n(c)An intermediary shall not use the KYC data of a client obtained from the KRA for purposes other than it is meant for; nor shall it make any commercial gain by sharing the same with any third party including its affiliates or associates.\\n(d)The intermediary shall have the ultimate responsibility for the KYC of its clients, by undertaking enhanced KYC measures commensurate with the risk profile of its clients.\\n17[Sharing of KYC information in the financial sector.\\n14Substituted by the SEBI {KYC(Know Your Client) Registration Agency} (Amendment) Regulations, 2013 w.e.f.\\n22-03-2013 for the following:\\n(a) The intermediary shall perform the initial KYC/due diligence of the client, shall upload the KYC information on the system of the KRA and send the original KYC documents to KRA forthwith from the date of account opening or within the time as prescribed by the board from time to time. However, in case of mutual funds, an RTA appointed by the mutual fund may also undertake the KYC of the client and send the original documents to the mutual fund or KRA.\\n15Inserted by the SEBI {KYC(Know Your Client) Registration Agency} (Amendment) Regulations, 2013 w.e.f.\\n22-03-2013\\n16Substituted by the SEBI {KYC(Know Your Client) Registration Agency} (Amendment) Regulations, 2014 w.e.f.\\n13-03-2014 for the following:\\n(b) When the client approaches another intermediary subsequently, it will be optional for the intermediary to verify and download the client’s details from the system of KRA or to take fresh KYC as per existing system. However, upon receipt of information on change in KYC details and status of the clients by the intermediary or when it comes to the knowledge of the intermediary, at any stage, the intermediary shall be responsible for uploading the updated information on the system of KRA and 16[retaining the physical documents].\\n17Inserted by the SEBI {KYC (Know Your Client) Registration Agency} (Second Amendment) Regulations, 2014, w.e.f. 11-8-2014.\\n                 ',\n",
       " ' 16A. (1) The entities, regulated by other regulators in the financial sector specified by the Board from time to time, may access the system of KRA for undertaking KYC of their clients who engage them for financial services.\\n                 ',\n",
       " ' (3)The system of KRA may be connected with any central KYC registry authorised by the Central Government for the purpose of collation and sharing of the KYC information in the financial sector.]\\n Power of the Board to issue clarifications\\n                 ',\n",
       " ' 18.(1) The Board may appoint one or more persons as inspecting authority to undertake inspection of the books of accounts, records, documents, infrastructure, systems and procedures, of a KRA, for any purpose specified in sub-regulation (2).\\n                 ',\n",
       " ' 19.(1) Before undertaking an inspection under regulation 19, the Board shall give not less than\\n                 ',\n",
       " ' (3)On being empowered by the Board, the inspecting authority shall undertake inspection and the KRA against whom an inspection is being carried out shall be bound to discharge his obligations as provided under regulation 20.\\n                 ',\n",
       " ' (4)It shall be the duty of every director, officer or employee of the KRA to give to the inspecting authority all assistance in connection with the inspection, which the inspecting authority may reasonably require.\\n                 ',\n",
       " ' 24.(1) The Board shall have the power to appoint a qualified independent auditor to inspect, into the books of accounts, records, documents, infrastructures, systems and procedures of a KRA.\\n                 ',\n",
       " ' 26.(1) The Board may, exempt any person or class of persons from the operation of all or any of the provisions of these regulations for a period as may be specified but not exceeding twelve months, for furthering innovation in technological aspects relating to testing new products, processes, services, business models, etc. in live environment of regulatory sandbox in the securities markets.\\n                 ',\n",
       " ' (2)The applicant or its principal officer shall, if so required, appear before the Board for personal representation.\\n                 ',\n",
       " ' 12.The certificate of registration granted under regulation 10 shall be valid unless it is suspended or cancelled by the Board.\\n Procedure where registration is refused\\n                 ',\n",
       " ' 16.(1) The provisions of this Chapter shall apply to eligible fund managers exclusively, pertaining to their activities as portfolio managers to eligible investment funds.\\n                 ',\n",
       " ' (2)All other provisions of these regulations and the guidelines and circulars issued thereunder, unless the context otherwise requires or is repugnant to the provisions of this chapter, shall apply to eligible fund managers in relation to their activities as portfolio managers to eligible investment funds.\\n Procedure to be followed by an existing Portfolio Manager.\\n                 ',\n",
       " ' if:\\n(a)it fulfills all the conditions specified in sub section (4) of Section 9A of the Income-tax Act, 1961; and\\n(b)it intimates the Board prior to undertaking such activity and submit declarations as\\nPage 10 of 62\\nspecified in clause (1) of Schedule VI.\\nProcedure to be followed by an applicant for fresh registration.\\n                ',\n",
       " ' 19.An eligible fund manager shall be required to: -\\n(1)comply with the requirements specified under Section 9A of the Income-tax Act, 1961 or any amendment, notification, clarification, guideline issued thereunder;\\n(2)offer discretionary or non-discretionary or advisory services or a combination thereof to eligible investment funds;\\n(3)operate in accordance to its mutually agreed contract with the eligible investment\\nfunds;\\n(4)provide all material disclosures to eligible investment funds;\\n(5)segregate funds and securities of each eligible investment fund;\\n(6)segregate the funds and securities of eligible investment funds from those of its other clients;\\nPage 11 of 62\\n(7)maintain and segregate its books and accounts pertaining to its activities as a portfolio manager to eligible investment funds and other clients;\\n(8)appoint a custodian:\\nProvided that the requirement of compliance with this sub-regulation would not arise in case an eligible investment fund has already appointed a custodian under the applicable act or regulations;\\n(9)keep the funds of eligible investment funds in scheduled commercial banks;\\nProvided that requirement of compliance with this sub-regulation would not arise in case an eligible investment fund does not intend to invest in Indian securities;\\n(10)maintain any additional records as may be specified by the Board and disclose the same to the Board as and when required;\\n(11)provide quarterly reports to the Board;\\n(12)ensure compliance with the Prevention of Money Laundering Act, 2002 and rules and regulations made thereunder;\\n(13)abide by the provisions in these regulations and circulars / guidelines issued by the Board from time to time.\\nCertain provisions not to apply.\\n                 ',\n",
       " ' 20.The eligible fund managers shall be exempted from the following provisions pertaining to their activities as portfolio managers to eligible investment funds notwithstanding anything contained in these regulations, Schedules thereto or circulars issued thereunder:\\n(i)sub-regulation (1), (2), (3) and (4) of Regulation 22;\\nPage 12 of 62\\n(ii)sub-regulation (2), (3), (4), (8) and (9) of Regulation 23;\\n(iii)clause (b) of sub-regulation (1) of Regulation 24;\\n(iv)clause (a) of sub-regulation (2) of Regulation 24;\\n(v)sub-regulation (7) of Regulation 24;\\n(vi)sub-regulation (11) of Regulation 24;\\n(vii)Regulation 26;\\n(viii)sub-regulation (3) of Regulation 30;\\n(ix)sub-regulation (1), (2), and (3) of Regulation 31;\\n(x)Form C in Schedule I; and\\n(xi)Schedules IV and V.\\n                 ',\n",
       " ' 22.(1) The portfolio manager shall, before taking up an assignment of management of funds and portfolio on behalf of a client, enter into an agreement in writing with such client that clearly defines the inter se relationship and sets out their mutual rights, liabilities and obligations relating to management of portfolio containing the details as specified in Schedule IV.\\n                 ',\n",
       " ' (4)The Disclosure Document, shall inter alia include the following :─\\n(a)the quantum and manner of payment of fees payable by the client for each activity for which service is rendered by the portfolio manager directly or indirectly (where such service is out sourced);\\n(b)portfolio risks including risk specific to each investment approach offered by the portfolio\\nPage 14 of 62\\nmanager;\\n(c)complete disclosures of transactions with related parties as per the accounting standards specified by the Institute of Chartered Accountants of India;\\n(d)details of conflicts of interest related to services offered by group companies or associates of the portfolio manager;\\n(e)the performance of the portfolio manager:\\nProvided that the performance of a discretionary portfolio manager shall be calculated using ‘Time Weighted Rate of Return’ for the immediately preceding three years and in such cases performance indicators shall also be disclosed:\\nProvided further that the portfolio manager may be allowed to disclose performance segregated on the basis of investment approach;\\n(f)the audited financial statements of the portfolio manager for the immediately preceding three years.\\n                 ',\n",
       " ' (5)The contents of the Disclosure Document shall be certified by an independent chartered accountant.\\n                 ',\n",
       " ' (11)The portfolio manager shall charge an agreed fee from the clients for rendering portfolio management services without guaranteeing or assuring, either directly or indirectly, any return and the fee so charged may be a fixed fee or a return based fee or a combination of both:\\n Provided that no up-front fees shall be charged by the portfolio manager directly or in-directly to the clients.\\n                 ',\n",
       " ' (12)The portfolio manager shall disclose the range of fees charged under various heads in the disclosure document.\\n                 ',\n",
       " ' 23.(1) The discretionary portfolio manager shall individually and independently manage the funds of each client in accordance with the needs of the client, in a manner which does not partake character of a Mutual Fund, whereas the non-discretionary portfolio manager shall manage the funds in accordance with the directions of the client.\\n                 ',\n",
       " \" (3) The portfolio manager shall act in a fiduciary capacity with regard to the client's funds.\\n Page 16 of 62\\n                 \",\n",
       " ' (4)The portfolio manager shall segregate each client’s holding in securities in separate accounts.\\n                 ',\n",
       " ' (6)The portfolio manager shall transact in securities within the limitation placed by the client himself with regard to dealing in securities under the provisions of the Reserve Bank of India Act, 1934 (2 of 1934).\\n                 ',\n",
       " \" (7)The portfolio manager shall not derive any direct or indirect benefit out of the client's funds or securities.\\n                 \",\n",
       " ' (10)The portfolio manager shall ensure proper and timely handling of complaints from his clients and take appropriate action immediately.\\n                 ',\n",
       " ' (5)Portfolio Managers may invest in units of Mutual Funds only through direct plan.\\n                 ',\n",
       " ' (6)The portfolio manager while investing in units of Mutual Funds through direct plan shall not charge any kind of distribution related fees to the client.\\n Page 18 of 62\\n                 ',\n",
       " \" (8)The portfolio manager shall not deploy the clients' funds in bill discounting, badla financing or for the purpose of lending or placement with corporate or non-corporate bodies.\\n                 \",\n",
       " ' (11)The portfolio manager shall not while dealing with clients’ funds indulge in speculative\\n                 ',\n",
       " ' transactions i.e, it shall not enter into any transaction for purchase or sale of any security which is periodically or ultimately settled otherwise than by actual delivery or transfer of security except the transactions in derivatives.\\n                ',\n",
       " \" (12)The portfolio manager shall, ordinarily purchase or sell securities separately for each client. However, in the event of aggregation of purchases or sales for economy of scale, inter se allocation shall be done on a pro rata basis and at weighted average price of the day's transactions. The portfolio manager shall not keep any open position in respect of allocation of sales or purchases effected in a day.\\n                 \",\n",
       " ' (13)The portfolio manager shall not execute off market transfers in client’s account except:\\n(a)for settlement of the clients’ own trades;\\n(b)for providing margin/ collateral for clients’ own positions;\\n(c)for dealing in unlisted securities in accordance with the regulations;\\n(d)with specific consent of the client for each transaction;\\n(e)for any other reason specified by the Board from time to time.\\n                 ',\n",
       " \" (14)The portfolio manager shall segregate each clients' funds and portfolio of securities and keep them separately from his own funds and securities and be responsible for safekeeping of clients'\\n Page 19 of 62\\n                 \",\n",
       " ' (16)The portfolio manager may, subject to authorization by the client in writing, participate in securities lending.\\n                 ',\n",
       " ' 25. Foreign portfolio investors may avail of the services of a portfolio manager.\\n                 ',\n",
       " ' 27.(1) Every portfolio manager shall keep and maintain the following books of accounts, records and documents namely: -\\n(a)a copy of balance sheet at the end of each accounting period;\\n(b)a copy of the profit and loss account for each accounting period;\\n(c)a copy of the auditor’s report on the accounts for each accounting period;\\n(d)a statement of financial position and;\\n(e)records in support of every investment transaction or recommendation which will indicate the data, facts and opinion leading to that investment decision:\\nProvided that such a record shall be maintained under the hands of the Principal Officer of the portfolio manager.\\nPage 20 of 62\\n                 ',\n",
       " \" 30.(1) (a) The portfolio manager shall maintain separate client-wise accounts.\\n(b)The funds received from the clients, investments or disinvestments, all the credits to the account of the client like interest, dividend, bonus, or any other beneficial interest received on the investment and debits for expenses, if any, shall be properly accounted for and details thereof shall be properly reflected in the client's account.\\n(c)The tax deducted at source as required under the provisions of the Income-Tax Act, 1961, (43 of 1961) shall be recorded in the portfolio account.\\n                 \",\n",
       " \" (2)The books of account will be audited yearly by qualified auditor to ensure that the portfolio manager has followed proper accounting methods and procedures and that the portfolio manager has performed his duties in accordance with the law. A certificate to this effect shall, if so specified, be submitted to the Board within six months of close of portfolio manager's accounting period.\\n Page 21 of 62\\n                 \",\n",
       " ' Disclosures to the Board.\\n                 ',\n",
       " ' 33.The Board may ask portfolio manager to disclose any information as and when required including the following: -\\n(a)particulars regarding the management of a portfolio;\\n(b)any change in the information or particulars previously furnished, which have a bearing on the certificate granted to him;\\n(c)the names of the clients whose portfolio it has managed;\\n(d)particulars relating to the net worth requirement as specified in regulation 9.\\nAppointment of compliance officer.\\n                 ',\n",
       " \" 34.(1) Every portfolio manager shall appoint a compliance officer who shall be responsible for monitoring the compliance of the Act, rules and regulations, notifications, guidelines, instructions etc., issued by the Board or the Central Government and for redressal of investors' grievances:\\n Page 23 of 62\\n                 \",\n",
       " ' (2)The compliance officer shall immediately and independently report to the Board any non- compliance observed by him.\\n                 ',\n",
       " ' 36. (1) Before undertaking an inspection under regulation 35, the Board shall give a reasonable\\n Page 24 of 62\\n                 ',\n",
       " ' (3)During the course of inspection the portfolio manager against whom an inspection is being carried out shall be bound to discharge his obligations as provided under regulation 37.\\n                 ',\n",
       " ' (3)The inspecting authority shall in the course of inspection, be entitled to examine or record statements of any principal officer, director, partner and employee of the portfolio manager.\\n                 ',\n",
       " ' 38. The inspecting authority shall, as soon as possible, submit an inspection report to the Board.\\n Page 25 of 62\\n                 ',\n",
       " ' (2) Notwithstanding such repeal, —\\n(a)anything done or any action taken or purported to have been done or taken including registration or approval granted, fees collected, registration or approval, suspended or cancelled, any adjudication, enquiry or investigation commenced or show-cause notice issued under the repealed regulations, prior to such repeal, shall be deemed to have been done or taken under the corresponding provisions of these regulations;\\n(b)any application made to the Board under the repealed regulations, prior to such repeal, and pending before it shall be deemed to have been made under the corresponding provisions of these regulations;\\n(c)the previous operation of the repealed regulations or anything duly done or suffered thereunder, any right, privilege, obligation or liability acquired, accrued or incurred under the repealed regulations, any penalty, incurred in respect of any violation committed against the repealed regulations, or any investigation, legal proceeding or remedy in respect of any such right, privilege, obligation, liability, penalty as aforesaid, shall remain unaffected as if the repealed regulations has never been repealed;\\n                 ',\n",
       " ' of the provisions of these regulations for a period as may be specified but not exceeding twelve months, for furthering innovation in technological aspects relating to testing new products, processes, services, business models, etc. in live environment of regulatory sandbox in the securities markets.\\n                ',\n",
       " ' 4.(1) For the purpose of the grant of certificate to 54[a trust], the Board shall consider all matters relevant to the activities as an InvIT.\\n                 ',\n",
       " ' (4)The trustee shall oversee activities of the project manager 71[***]with respect to compliance with these regulations and the 72[project implementation agreement/] project management agreement and shall obtain compliance certificate from the Project manager, in the form as may be specified, on a quarterly basis.\\n                 ',\n",
       " \" (6)The trustee shall review the transactions carried out between the investment manager and its associates and where the investment manager has advised that there may be a conflict of interest, shall obtain confirmation from a practising chartered accountant 73[or valuer, as applicable,] that such transaction is on arm's length basis.\\n                 \",\n",
       " \" (7)The trustee shall periodically review the status of unit holders' complaints and their redressal undertaken by the investment manager.\\n                 \",\n",
       " ' (8)The trustee shall make distributions and ensure that investment manager makes timely declaration of distributions to the unit holders in accordance with sub-regulations (6),(7) and (8) of regulation 18.\\n                 ',\n",
       " \" (12)The investment manager shall review the transactions carried out between the project manager and its associates and where the project manager has advised that there may be a conflict of interest, shall obtain confirmation from the 88[practicing chartered accountant or the valuer, as applicable,] that such transaction is on arm's length basis.\\n                 \",\n",
       " \" (13)The investment manager shall ensure adequate and timely redressal of all unit holders' grievances pertaining to activities of the InvIT.\\n                 \",\n",
       " ' (2)If the InvIT invests in under construction projects, the project manager shall,–\\n(a)undertake the operations and management of the projects, either directly or through appropriate agents;\\n(b)oversee the progress of development, approval status and other aspects of the project upto its completion, in case of appointment of agents for the purpose of execution.\\n                 ',\n",
       " ' (3)The project manager shall discharge all obligations in respect of achieving timely completion of the 95[project implementation agreement/] infrastructure project, wherever applicable, implementation, operation, maintenance and management of such infrastructure project in terms of the project management agreement.\\n                 ',\n",
       " ' 12.(1) The sponsor(s) shall set up the InvIT and appoint the trustees of the InvIT.\\n                 ',\n",
       " ' (2)The sponsor(s) shall transfer or undertake to transfer to the InvIT, its entire shareholding or interest 96[and rights] in the 97[holdco and/ or] SPV or ownership of the infrastructure projects, subject to a binding agreement and adequate disclosures in the offer document or placement memorandum, prior to allotment of units of the InvIT:\\n                 ',\n",
       " ' 15.(1) The offer document or placement memorandum of the InvIT shall contain material, true, correct and adequate disclosures to enable the investors to make an informed decision.\\n                 ',\n",
       " ' (2)Without prejudice to the generality of sub-regulation (1), the offer document or placement memorandum shall,–\\n(i)not be misleading or contain any untrue statements or mis- statements;\\n(ii)not provide for any guaranteed returns to the investors; and\\n(iii)include such other disclosures as may be specified by the Board.\\n                 ',\n",
       " ' 177[The placement memorandum shall contain all information as\\n                 ',\n",
       " ' (5)The units shall remain listed on the designated Stock Exchanges unless delisted under regulation 17.\\n                 ',\n",
       " ' (3)The Board may, instead of delisting of the units, if it deems fit, provide additional time to the InvIT or parties to the InvIT to comply with sub- regulation (1).\\n                 ',\n",
       " ' (2)In case of PPP projects, the InvIT shall mandatorily invest in the infrastructure projects through 194[holdco and/ or] SPV.\\n                 ',\n",
       " ' holdcos or through SPVs:\\n Provided that un-invested funds may be invested in instruments as provided under sub-clause (ii), (iii), (iv) and (v) of clause (b) of sub- regulation 5 of Regulation 18.]\\n                ',\n",
       " ' (7)If any infrastructure asset is sold by the InvIT or 222[holdco or] SPV or if the equity shares or interest in the 223[holdco/] SPV are sold by the InvIT,–\\n(a)if the InvIT 224[***] proposes to re-invest the sale proceeds into another infrastructure asset, it shall not be required to distribute any sales proceeds to the InvIT or to the investors;\\n(b)If the InvIT 225[***] proposes not to invest the sales proceeds into any other infrastructure asset 226[within a period of one year], it shall be require to distribute the same in accordance with sub- regulation (6).\\n                 ',\n",
       " ' 19.(1) All related party transactions shall be on an arms-length basis in accordance with relevant accounting standards, in the best interest of the unit holders, consistent with the strategy and investment objectives of the InvIT.\\n                 ',\n",
       " ' (5)With respect to any related party transaction, details of any fees or commissions received or to be received by 235[such related party (ies)] shall be adequately disclosed to the designated stock exchanges.\\n                 ',\n",
       " ' (7)The Board may specify additional guidelines with respect to related party transactions, as it deems fit.\\n                 ',\n",
       " ' (5)A half yearly valuation of the assets of the InvIT shall be conducted by the valuer for the half-year ending September 30th for a publicly offered InvIT for incorporating any key changes in the previous six months and such half yearly valuation report shall be prepared within one month from the date of end of such half year:\\n                 ',\n",
       " ' valuer for quarter ending June, September and December, for incorporating any key changes in the previous quarter and such quarterly report shall be prepared within one month from the date of the end of such quarter.]\\n                ',\n",
       " ' (8)For any transaction of purchase or sale of infrastructure projects, whether directly or through 246[holdco and/or] SPVs, for publicly offered InvITs,–\\n(a)a full valuation of the specific project shall be undertaken by the valuer;\\n(b)if,–\\n(1)in case of a purchase transaction, the asset is proposed to be purchased at a value greater than hundred ten per cent of the value of the asset as assessed by the valuer;\\n(2)in case of a sale transaction, the asset is proposed to be sold at a value less than ninety per cent. of the value of the asset as assessed by the valuer,\\napproval of the unit holders shall be obtained in accordance with regulation 22.\\n                 ',\n",
       " ' (3)248[For an] InvITs,–\\n(a)an annual meeting of all unit holders shall be held not less than once a year within one hundred twenty days from the end of financial year and the time between two meetings shall not exceed fifteen months;\\n(b)with respect to the annual meeting of unit holders,–\\n(i)any information that is required to be disclosed to the unit holders and any issue that, in the ordinary course of business, may require approval of the unit holders may be taken up in the meeting including,–\\n(1)latest annual accounts and performance of the InvIT;\\n(2)approval of auditor and fees of such auditor, as may be required;\\n(3)latest valuation reports;\\n(4)appointment of valuer, as may be required;\\n(5)any other issue;\\n(ii)for any issue taken up in such meetings which require approval from the unit holders other than as specified in sub- regulation (6) under, votes cast in favour of the resolution shall 249[ be more than] the votes cast against the resolution;\\n                 ',\n",
       " ' (4)The investment manager of shall submit a half-yearly report to the designated stock exchange within forty five days from the end of 258[***] half year ending 259[***] September 30th:\\n                 ',\n",
       " ' 260[Provided that for any InvIT, whose units are listed and whose consolidated borrowings and deferred payments, in terms of regulation 20, is above forty nine per cent., such InvIT shall also submit a quarterly report to the designated stock exchange within thirty days from the end of every quarter ending June and December.]\\n                 ',\n",
       " ' (5)261[Annual/ half yearly /quarterly reports shall contain disclosures as specified under Part-A, Part-B and Part-C, respectively, of Schedule IV.]\\n                 ',\n",
       " \" 26.(1) The investment manager shall maintain records pertaining to the activity of the InvIT, wherever applicable, including,–\\n(a)all investments or divestments of the InvIT and documents supporting the same including rationale for such investments or divestments;\\n(b)agreements entered into by the InvIT or on behalf of the InvIT;\\n(c)documents relating to appointment of persons as specified in sub-regulation (5) of regulation 10;\\n(d)insurance policies for infrastructure assets;\\n(e)investment management agreement;\\n(f)documents pertaining to issue and listing of units including placement memorandum, draft and final offer document, in- principle approval by designated stock exchanges, listing agreement with the designated stock exchanges, details of subscriptions, allotment of units, etc;\\n(g)distributions declared and made to the unit holders;\\n(h)disclosures and periodical reporting made to the trustee, Board, unit holders and the designated stock exchanges including annual reports, half yearly reports, etc.;\\n(i)valuation reports including methodology of valuation;\\n(j)books of accounts and financial statements;\\n(k)audit reports;\\n(l)reports relating to activities of the InvIT placed before the board of directors of the investment manager;\\n(m)unit holders' grievances and actions taken thereon including copies of correspondences made with the unit holder and the Board, if any;\\n(n)any other material documents;\\n                 \",\n",
       " ' (2)The trustee shall maintain records, wherever applicable, pertaining to,–\\n(a)certificate of registration granted by the Board;\\n(b)registered trust deed;\\n(c)documents pertaining to application made to the Board for registration as an InvIT;\\n(d)titles of the infrastructure assets:\\nProvided that where the original title documents are deposited with the lender or any other person in respect of any loan or debt, the trustee shall maintain copies of such title documents;\\n(e)notices and agenda send to unit holders for meetings held;\\n63\\n(f)minutes of meetings and resolutions passed therein;\\n(g)periodical reports and disclosures received by the trustee from the investment manager;\\n(h)disclosures, periodically or otherwise, made to the Board, unit holders and the designated stock exchanges;\\n(i)any other material documents.\\n                 ',\n",
       " ' 26B. Raising of funds and investments\\n(1)An InvIT raising funds by way of a private placement in terms of the provisions of this Chapter–\\n(a)shall do it through a placement memorandum;\\n(b)shall raise funds only from institutional investors and body corporates, whether Indian or foreign:\\nProvided that in case of foreign investors, such investment shall be subject to guidelines as may be specified by the Reserve Bank of India and the Government from time to time;\\n(c)shall not accept from an investor, an investment of value less than rupees one crore;\\n(d)shall not raise funds from more than twenty investors;\\n(e)shall file a placement memorandum with the Board alongwith the fee as specified in Schedule II, atleast 5 days prior to opening of the issue;\\n(f)shall file the final placement memorandum with the Board within a period of ten working days from the date of allotment of the units to the investors;\\n(g)invest not less than eighty per cent of the value of the InvIT assets in eligible infrastructure projects either directly or through holdcos or through SPVs:\\nProvided that un-invested funds may be invested in instruments as provided under sub-clause (ii), (iii), (iv) and (v) of clause (b) of sub- regulation 5 of Regulation 18.\\n65\\n                 ',\n",
       " ' (4)The inspecting officer shall, for the purposes of inspection, have power to obtain authenticated copies of documents, books, accounts of InvIT, from any person having control or custody of such documents, books or accounts.\\n                 ',\n",
       " ' 32A. (1) The Board may, exempt any person or class of persons from the operation of all or any of the provisions of these regulations for a period as may be specified but not exceeding twelve months, for furthering innovation in technological aspects relating to testing new products, processes, services, business models, etc. in live environment of regulatory sandbox in the securities markets.\\n                 ',\n",
       " ' 33A.The Board may, in the interest of investors or for the development of the securities market, relax the strict enforcement of any requirement of these regulations, if the Board is satisfied that,-\\n(a)requirement is procedural or technical in nature; or\\n(b)the requirement may cause undue hardship to investors; or\\n(c)the disclosure requirement is not relevant for a particular industry or class of listed entities; or\\n(d)the non-compliance was caused due to factors beyond the control of the issuer; or\\nany provision of Act(s), Rule(s), regulation(s) under which the listed entity is established or is governed by, is required to be given precedence to.]\\nOther InvITs.\\n                 ',\n",
       " ' 4.(1) For the purpose of the grant of certificate to 38[the trust], the Board shall consider all matters relevant to the activities as a REIT.\\n                 ',\n",
       " ' (2)Without prejudice to the generality of the foregoing provision, the Board shall consider the following, namely, -\\n                 ',\n",
       " ' (2)The Board, if it so desires, may require the applicant or any authorized representative to appear before the Board for personal representation in connection with the grant of certificate.\\n Procedure for grant of certificate.\\n                 ',\n",
       " \" (5)The trustee shall review the transactions carried out between the manager and its associates and where the manager has advised that there may be a conflict of interest, shall obtain confirmation from a practising chartered accountant 53[or a valuer, as applicable,] that such transaction is on arm's length basis.\\n                 \",\n",
       " \" (6)The trustee shall periodically review the status of unit holders' complaints and their redressal undertaken by the manager.\\n                 \",\n",
       " ' (2)The manager shall ensure that the real estate assets of the REIT or 55[holdco and/or] SPV have proper legal and marketable titles and that all the material contracts including rental or lease agreements entered into on behalf of REITs or 56[holdco and/or] SPV are legal, valid, binding and enforceable by and on behalf of the REIT or 57[holdco and/or] SPV.\\n                 ',\n",
       " ' (4)The manager shall undertake management of the REIT assets including lease management, maintenance of the assets, regular structural audits, regular safety audits, etc. either directly or through the appointment and supervision of appropriate agents.\\n                 ',\n",
       " ' (7)The manager shall arrange for adequate insurance coverage for the real estate assets of the REIT:\\n Provided that in case of assets held by real estate assets are adequately insured.\\n                 ',\n",
       " ' (8)If the REIT invests in under-construction properties as per these regulations, the manager-\\n(a)may undertake the development of the properties, either directly or through the SPV, or appoint any other person for development of such properties; and\\n(b)shall oversee the progress of development, approval status and other aspects of the properties upto its completion.\\n                 ',\n",
       " ' (10)The manager 59[and the merchant banker(s) shall] shall be responsible for,-\\n(a)filing 60[***] offer document with the Board and the designated stock exchange within the specified time period;\\n(b)obtaining in-principle approval 61[and final listing and trading approvals] from the designated stock exchange;\\n(c)dealing with all matters relating to issue and listing of the units of the REIT as specified in Chapter IV.\\n                 ',\n",
       " \" (13)The manager shall ensure adequate and timely redressal of all unit holders' grievances pertaining to activities of the REIT.\\n                 \",\n",
       " ' 11.(1) The sponsor(s) 68[and sponsor group(s)] shall set up the REIT and appoint the trustee of the REIT.\\n                 ',\n",
       " ' (2)The sponsor(s) 69[and sponsor group(s)] shall transfer or undertake to transfer, subject to a binding agreement and adequate disclosures in the initial offer 70[document], 71[their] entire shareholding or interest 72[and rights] in the 73[holdco and/or] SPV or entire ownership of the real estate assets to the REIT prior to allotment of units of the REIT to the applicants:\\n Provided that this shall not apply to the extent of any mandatory holding of shares or interest 74[and rights] in the 75[holdco and/or] SPV by the sponsor(s) 76[and sponsor group(s)] as required 77[under] any Act or regulations or circulars or guidelines of government or regulatory authority as specified from time to time.\\n                 ',\n",
       " ' 78Omitted“the sponsor(s) shall,” by the SEBI (Real Estate Investment Trusts) (Amendment) Regulations, 2016, w.e.f. 30.11.2016.\\n                 ',\n",
       " ' (4)If the sponsor(s) 86[and sponsor group(s)] propose(s) to sell its units below the limit specified in clauses (b) or (c) of sub-regulation (3) of this regulation-\\n(a)such units shall be sold only after a period of three years from the date of listing of the units;\\n(b)prior to sale of such units, the sponsor(s) 87[ and sponsor group(s)] shall arrange for another person(s) or entity(ies) to act as the re-designated sponsor(s) where the re-designated sponsor shall satisfy the eligibility norms for the sponsor as specified under 88[regulation 4]:\\nProvided that such units may also be sold to an existing sponsor;\\n(c)The 89[***]proposed redesignated sponsor shall obtain approval from the unit holders or provide option to exit to the unit holders in accordance with guidelines as may be specified:\\n79Inserted by the SEBI (Real Estate Investment Trusts) (Amendment) Regulations, 2016, w.e.f. 30.11.2016\\n80Inserted by the SEBI (Real Estate Investment Trusts) (Amendment) Regulations, 2016, w.e.f. 30.11.2016\\n81Inserted by the SEBI (Real Estate Investment Trusts) (Amendment) Regulations, 2016, w.e.f. 30.11.2016\\n82Inserted by the SEBI (Real Estate Investment Trusts) (Amendment) Regulations, 2016, w.e.f. 30.11.2016\\n83Inserted by the SEBI (Real Estate Investment Trusts) (Amendment) Regulations, 2016, w.e.f. 30.11.2016\\n84Omitted“,” by the SEBI (Real Estate Investment Trusts) (Amendment) Regulations, 2016, w.e.f. 30.11.2016.\\n85Inserted by the SEBI (Real Estate Investment Trusts) (Amendment) Regulations, 2016, w.e.f. 30.11.2016\\n86Inserted by the SEBI (Real Estate Investment Trusts) (Amendment) Regulations, 2016, w.e.f. 30.11.2016\\n87Inserted by the SEBI (Real Estate Investment Trusts) (Amendment) Regulations, 2016, w.e.f. 30.11.2016\\n88Substituted for the word and number “regulation 3” by the SEBI (Real Estate Investment Trusts) (Amendment) Regulations, 2017, w.e.f. 15.12.2017\\n89Omitted “sponsor/”by the SEBI (Real Estate Investment Trusts) (Amendment) Regulations, 2016, w.e.f. 30.11.2016.\\n23\\nProvided that this clause shall not apply where the units are proposed to be sold to an existing sponsor90[or member of sponsor group].\\n                 ',\n",
       " ' (5)If re-designated sponsor(s) propose(s) to sell its units to any another person, conditions specified under clauses (b), and (c) of sub-regulation (4) shall be complied with.\\n                 ',\n",
       " ' 12.The valuer(s) shall comply with the following conditions at all times-\\n(a)The valuer(s) shall ensure that the valuation of the REIT assets is impartial, true and fair and is in accordance with regulation 21;\\n(b)The valuer(s) shall ensure adequate and robust internal controls to ensure the integrity of its valuation reports;\\n(c)The valuer(s) shall ensure that it has sufficient key personnel with adequate experience and qualification to perform property valuations at all times;\\n(d)The valuer(s) shall ensure that it has sufficient financial resources to enable it to conduct its business effectively and meet its liabilities;\\n(e)The valuer(s) and any of its employees involved in valuing of the assets of the REIT, shall not,-\\n(i)invest in units of the REIT or in the assets being valued; and\\n(ii)sell the assets or units of REITs held prior to being appointed as the valuer,\\ntill the time such person is designated as valuer of such REIT and not less than six months after ceasing to be valuer of the REIT;\\n(f)The valuer(s) shall conduct the valuation of the REIT assets with transparency and fairness and shall render, at all times, high standards of service, exercise due diligence, ensure proper care and exercise independent professional judgment;\\n(g) The valuer(s) shall act with independence, objectivity and impartiality in performing the valuation;\\n90Inserted by the SEBI (Real Estate Investment Trusts) (Amendment) Regulations, 2016, w.e.f. 30.11.2016\\n24\\n(h)The valuer(s) shall discharge its duties towards the REIT in an efficient and competent manner, utilizing his knowledge, skills and experience in best possible way to complete given assignment;\\n(i)The valuer(s) shall not accept remuneration, in any form, for performing a valuation of the REIT assets from any person other than the REIT or its authorized representative;\\n(j)The valuer(s) shall before accepting any assignment, 91[from any related party to the REIT, shall] disclose to the REIT any direct or indirect consideration which the valuer may have in respect of such assignment;\\n(k)The valuer shall disclose to the trustee, any pending business transactions, contracts under negotiation and other arrangements with the manager or any other party whom the REIT is contracting with and any other factors that may interfere with the valuer’s ability to give an independent and professional valuation of the property;\\n(l)The valuer(s) shall not make false, misleading or exaggerated claims in order to secure assignments;\\n(m)The valuer(s) shall not provide misleading valuation, either by providing incorrect information or by withholding relevant information;\\n(n)The valuer(s) shall not accept an assignment that includes reporting of the outcome based on predetermined opinions and conclusions required by the REIT;\\n(o)The valuer(s) shall, prior to performing a valuation, acquaint itself with all laws or regulations relevant to such valuation.\\n                 ',\n",
       " ' (3)Any subsequent issue of units by the REIT may be by way of follow-on offer, preferential allotment, qualified institutional placement, rights issue, bonus issue, offer for sale or any other mechanism and in the manner as may be specified by the Board.\\n                 ',\n",
       " ' (6)The 111[draft offer document and/ or offer document] shall be accompanied by a due diligence certificate signed by the 112[***] lead merchant banker.\\n                 ',\n",
       " ' (7)The Board may communicate its comments to the lead merchant banker and, in the interest of investors, may require the lead merchant banker to carry out such modifications in the draft offer document as it deems fit.\\n                 ',\n",
       " ' 109Omitted “to be submitted to the Board, within a period of at least ten days,” by the SEBI (Real Estate Investment Trusts) (Amendment) Regulations, 2016, w.e.f. 30.11.2016\\n                 ',\n",
       " ' (9)In case no 113[observations] are 114[issued] by the Board 115[on] the draft offer document within twenty one working days from the date of receipt of satisfactory reply from the lead merchant bankers or manager, the REIT may 116[file] the 117[***] offer document or follow-on offer document 118[with the Board and the exchange(s)]:\\n                 ',\n",
       " ' (13)The application for subscription shall be accompanied by a statement containing the abridged version of the offer document, detailing the risk factors and summary of the terms of issue.\\n                 ',\n",
       " ' 129[(14) The minimum subscription from any investor in initial and/or public offer shall be rupees fifty thousand.]\\n                 ',\n",
       " ' (16)In case of over-subscriptions, the REIT shall allot units to the applicants on a proportionate basis rounded off to the nearest integer subject to minimum subscription amount per subscriber as specified in sub-regulation (14).\\n                 ',\n",
       " ' (18)The REIT shall issue units only in dematerialized form to all the applicants.\\n                 ',\n",
       " ' (20)The REIT shall refund money, -\\n                 ',\n",
       " ' “(14) Under both the initial offer and follow-on public offer, the REIT shall not accept subscription of an amount less than two lakh rupees from an applicant.”\\n                 ',\n",
       " ' 30\\n(a)to all applicants in case it fails to collect subscription amount of exceeding 130[ninety] per cent. of the 131[fresh] issue size as specified in the 132[***] offer document 133[***];\\n(b)to applicants to the extent of oversubscription in case the moneys received is in excess of the extent of over-subscription as specified in the 134[***] offer document:\\nProvided that right to retain such over subscription cannot exceed twenty five per cent. of the issue size;\\n135[Provided further, that the offer document shall contain adequate disclosures towards the utilisation of such oversubscription proceeds, if any, and such proceeds retained on account of oversubscription shall not be utilised towards general purposes.]\\n(c)to all applicants in case the number of subscribers to the initial offer forming part of the public is less than two hundred.\\n                 ',\n",
       " ' (22)Units may be offered for sale to public,-\\n(a)if such units have been held by the existing unitholders for a period of at least one year prior to the filing of draft offer document with the Board:\\nProvided that the holding period for the equity shares 136[, compulsorily convertible securities (from the date such securities are fully paid-up)] or partnership interest in the 137[holdco and/or] SPV against which such units have been received shall be\\n130Substituted for “seventy five” by the SEBI (Real Estate Investment Trusts) (Amendment) Regulations, 2016, w.e.f. 30.11.2016\\n131Inserted by the SEBI (Real Estate Investment Trusts) (Amendment) Regulations, 2016, w.e.f. 30.11.2016\\n132Omitted “initial” by the SEBI (Real Estate Investment Trusts) (Amendment) Regulations, 2016, w.e.f. 30.11.2016\\n133Omitted “or follow-on offer document” by the SEBI (Real Estate Investment Trusts) (Amendment) Regulations, 2016, w.e.f. 30.11.2016\\n134Omitted “initial offer document or follow-on” by the SEBI (Real Estate Investment Trusts) (Amendment) Regulations, 2016, w.e.f. 30.11.2016\\n135Inserted by the SEBI (Real Estate Investment Trusts) (Amendment) Regulations, 2016, w.e.f. 30.11.2016\\n136Inserted by the SEBI (Real Estate Investment Trusts) (Amendment) Regulations, 2017, w.e.f. 15.12.2017\\n137Inserted by the SEBI (Real Estate Investment Trusts) (Amendment) Regulations, 2016, w.e.f. 30.11.2016\\n31\\nconsidered for the purpose of calculation of one year period referred in this sub- regulation:\\n138[Provided further that the compulsorily convertible securities, whose holding period has been included for the purpose of calculation for offer for sale, shall be converted to equity shares of the holdco or SPV, prior to filing of offer document.]\\n(b)subject to other circulars or guidelines as may be specified by the Board in this regard.\\n139[(22A) The amount for general purposes, as mentioned in objects of the issue in the draft offer document filed with the Board, shall not exceed Ten per cent of the amount raised by the REIT by issuance of units.]\\n                 ',\n",
       " ' 15.(1) The Offer document of the REIT shall contain material, true, correct and adequate disclosures to enable the investors to make an informed decision.\\n                 ',\n",
       " ' (4)If an advertisement contains positive highlights, it shall also contain risk factors with equal importance in all aspects including print size.\\n                 ',\n",
       " ' (4)Trading lot for the purpose of trading of units of the REIT shall 141[consist of 100 units].\\n                 ',\n",
       " ' (2)The REIT shall not invest in vacant land or agricultural land or mortgages other than mortgage backed securities:\\n Provided that this shall not apply to any land which is contiguous and extension of an existing project being implemented in stages.\\n                 ',\n",
       " ' (4)Not less than eighty per cent. of value of the REIT assets shall be invested 157[***] in completed and rent 158[and/or income] generating properties subject to the following,-\\n(a)if the investment has been made through a 159[holdco and/or] SPV, whether by way of equity or debt or equity linked instruments or partnership interest, only the portion of direct investments in properties by such 160[ holdco and/or] SPVs shall be considered under this sub-regulation and the remaining portion shall be included under sub-regulation (5);\\n(b)if any project is implemented in stages, the part of the project which is completed and 161[rent and/or income generating] shall be considered under this sub- regulation and the remaining portion including any contiguous land as specified under proviso to sub-regulation (2) shall be included under clause (a) of sub- regulation (5).\\n                 ',\n",
       " ' (6)Not less than 169[fifty one] per cent. of the 170[consolidated] revenues of the REIT 171[, holdco] and the SPV, other than gains arising from disposal of properties, shall be, at all times, from rental, leasing and letting real estate assets or any other income incidental to the leasing of such assets.\\n                 ',\n",
       " ' (2)A REIT, subject to the conditions specified hereunder, may,-\\n(a)acquire assets from related parties;\\n(b)sell assets or securities to related parties;\\n(c)lease assets to related parties;\\n(d)lease assets from related parties;\\n(e)invest in securities issued by related parties;\\n(f)borrow from related parties.\\n                 ',\n",
       " ' (3)With respect to purchase or sale of properties 187[***] after initial offer,-\\n(a)two valuation reports from two different valuers, independent of each other, shall be obtained;\\n(b)such valuers shall undertake a full valuation of the assets proposed to be purchased or sold as specified under regulation 21;\\n(c)Transactions for purchase of such assets shall be at a price not greater than, and transactions for sale of such assets shall be at a price not lesser than, 188[one hundred ten percent and ninety percent of the] average of the two independent valuations 189[, respectively].\\n                 ',\n",
       " ' 190Words, figures and symbols “in accordance with clause (a) of sub-regulation (3), as may be applicable” omitted by the SEBI (Real Estate Investment Trusts) (Amendment) Regulations, 2017, w.e.f. 15.12.2017\\n                 ',\n",
       " ' 44\\n(a)identity of the related parties and their relationship with the REIT or parties to the REIT;\\n(b)nature and details of the transactions entered into or proposed to be entered into with such related parties including description and location of assets;\\n(c)the price or value of the assets or securities bought or sold or leased or proposed to be bought or sold or leased and if leased or proposed to be leased, value of the lease;\\n(d)ready reckoner rate of the real estate asset being bought or sold:\\nProvided that where such ready reckoner rate are not available, property tax assessment value or similar published rates by Government authorities shall be disclosed;\\n(e)summary of the valuation report(s);\\n(f)the current and expected rental yield;\\n(g)if the transactions are conditional upon the REIT receiving a stated amount of subscriptions, the minimum amount of such subscriptions to be received;\\n(h)amount of borrowing and rate of interest in case of borrowing from any related party;\\n(i)any other information that is required for the investor to take an informed decision.\\n                 ',\n",
       " ' (7)With respect to any properties leased to related parties to the REIT, both before and after initial offer, if,-\\n(a)such lease area exceeds twenty per cent. of the total area of the underlying assets;\\n(b)value of assets under such lease exceeds twenty per cent of the value of the total underlying assets;\\n(c)rental income obtained from such leased assets exceeds twenty per cent of the value of the rental income of all underlying assets,\\n45\\na fairness opinion from an independent valuer shall be obtained by the manager and submitted to the trustee and approval of unitholders in accordance with regulation 22 shall be obtained.\\n                 ',\n",
       " ' (12)No related party shall retain cash or other rebates from any property agent in consideration for referring transactions in REIT assets to the property agent.\\n                 ',\n",
       " ' 20. 195[(1) A REIT, whose units are listed on a recognized stock exchange, may issue debt securities in the manner specified by the Board:\\n Provided that such debt securities shall be listed on recognized stock exchange(s).]\\n196[(2)] The aggregate consolidated borrowings and deferred payments of the REIT 197[, holdco and/or the SPV(s),] net of cash and cash equivalents shall never exceed forty nine per cent. of the value of the REIT assets:\\nProvided that such borrowings and deferred payments shall not include any refundable security deposits to tenants.\\n198[(3)] If the aggregate consolidated borrowings and deferred payments of the REIT 199[, holdco and/or the SPV(s),] net of cash and cash equivalents exceed twenty five per cent. of the value of the REIT assets, for any further borrowing,-\\n(a)credit rating shall be obtained from a credit rating agency registered with the Board; and\\n(b)approval of unit holders shall be obtained in the manner as specified in regulation 22.\\n200[(4)] If the conditions specified in sub-regulations (1) and (2) are breached on account of market movements of the price of the underlying assets or securities, the manager shall inform\\n195Inserted by the SEBI (Real Estate Investment Trusts) (Amendment) Regulations, 2017, w.e.f. 15.12.2017\\n196Re-numbered by the SEBI (Real Estate Investment Trusts) (Amendment) Regulations, 2017, w.e.f. 15.12.2017\\n197Inserted by the SEBI (Real Estate Investment Trusts) (Amendment) Regulations, 2016, w.e.f. 30.11.2016\\n198Re-numbered by the SEBI (Real Estate Investment Trusts) (Amendment) Regulations, 2017, w.e.f. 15.12.2017\\n199Inserted by the SEBI (Real Estate Investment Trusts) (Amendment) Regulations, 2016, w.e.f. 30.11.2016\\n200Re-numbered by the SEBI (Real Estate Investment Trusts) (Amendment) Regulations, 2017, w.e.f. 15.12.2017\\n47\\nthe same to the trustee and ensure that the conditions as specified in this regulation are satisfied within six months of such breach.\\nValuation of assets.\\n                 ',\n",
       " ' (4)A full valuation shall be conducted by the valuer atleast once in every financial year:\\n Provided that such full valuation shall be conducted at the end of the financial year ending March 31st within three months from the end of such year.\\n                 ',\n",
       " ' (5)A half yearly valuation of the REIT assets shall be conducted by the valuer for the half-year ending on September 30 for incorporating any key changes in the previous six months and such half yearly valuation report shall be prepared within forty five days from the date of end of such half year.\\n                 ',\n",
       " ' 22.(1) The unit holder shall have the rights to receive income or distributions as provided for in the Offer document or trust deed.\\n                 ',\n",
       " ' 50\\n(a)any information that is required to be disclosed to the unit holders and any issue that, in the ordinary course of business, may require approval of the unit holders may be taken up in the meeting including,-\\n(i)latest annual accounts and performance of the REIT;\\n(ii)approval of auditor and fees of such auditor, as may be required;\\n(iii)latest valuation reports;\\n(iv)appointment of valuer, as may be required;\\n(v)any other issue including special issues as specified under sub- regulation (6);\\n(b)for any issue taken up in such meetings which require approval from the unit holders, votes cast in favour of the resolution shall 203[be more than] the votes cast against the resolution.\\n                 ',\n",
       " ' (8)In case of any change in sponsor or re-designated sponsor or change in control of sponsor or re-designated sponsor,-\\n(a)prior to such changes, approval shall be obtained from the unit holders wherein votes cast in favour of the resolution shall not be less than three times the votes cast against the resolution;\\n(b)if such change does not receive the required approval,-\\n(i)in case of change of sponsor or re-designated sponsor, the proposed re-designated sponsor who proposes to buy the units\\n205Substituted “three”by the SEBI (Real Estate Investment Trusts) (Amendment) Regulations, 2016, w.e.f. 30.11.2016\\n53\\nshall provide the dissenting unit holders an option to exit by buying their units;\\n(ii)in case of change in control of the sponsor or re-designated sponsor, the sponsor or re-designated sponsor shall provide the dissenting unit holders an option to exit by buying their units;\\n(c)if on account of such sale, the number of unit holders forming part of the public falls below 206[as required under sub-regulation (2A) of Regulation 14] two hundred or below 207[ the trustee may provide a period of one year to the manager to rectify the same, failing which], the 208[manager] shall apply for delisting of the units of the REIT in accordance with regulation 17.\\n                 ',\n",
       " ' 54\\n(a)acquisition or disposal of any properties, value of which exceeds five per cent. of value of the REIT assets;\\n(b)additional borrowing, at level of 209[holdco or] SPV or the REIT, resulting in such borrowing exceeding five per cent. of the value of the REIT assets during the year;\\n(c)additional issue of units by the REIT;\\n(d)details of any credit rating obtained by the REIT and any change in such rating;\\n(e)any issue which requires approval of the unit holders;\\n(f)any legal proceedings which may have significant bearing on the functioning of the REIT;\\n(g)notices and results of meetings of unit holders;\\n(h)any instance of non-compliance with these regulations including any breach of limits specified under these regulations;\\n(i)any material issue that in the opinion of the manager or trustee needs to be disclosed to the unit holders.\\n                 ',\n",
       " \" 211[for a period of not less than seven years,]-\\n(a)decisions of the manager with respect to investments or divestments and documents supporting the same;\\n(b)details of investments made by the REIT and documents supporting the same;\\n(c)agreements entered into by the REIT or on behalf of the REIT;\\n(d)documents relating to appointment of persons as specified in sub-regulation (5) of regulation 10;\\n(e)insurance policies for real estate assets;\\n(f)investment management agreement;\\n(g)documents pertaining to issue and listing of units including initial offer document or follow-on offer document(s) or other offer document(s), in-principle approval by designated stock exchanges, listing agreement with the designated stock exchanges, details of subscriptions, allotment of units, etc.;\\n(h)distributions declared and made to the unit holders;\\n(i)disclosures and periodical reporting made to the trustee, Board, unit holders and designated stock exchanges including annual reports, half yearly reports, etc.;\\n(j)valuation reports including methodology of valuation;\\n(k)books of accounts and financial statements;\\n(l)audit reports;\\n(m)reports relating to activities of the REIT placed before the Board of Directors of the manager;\\n211Inserted by the SEBI (Real Estate Investment Trusts) (Amendment) Regulations, 2016, w.e.f. 30.11.2016\\n56\\n(n)unit holders' grievances and actions taken thereon including copies of correspondences made with the unit holders and the Board, if any;\\n(o)any other material documents.\\n                 \",\n",
       " ' (2)The trustee shall maintain records pertaining to,-\\n(a)certificate of registration granted by the Board;\\n(b)registered trust deed;\\n(c)documents pertaining to application made to the Board for registration as a REIT;\\n(d)titles of the real estate assets:\\nProvided that where the original title documents are deposited with the lender in respect of any loan / debt, the trustee shall maintain copies of such title documents;\\n(e)notices and agenda send to unit holders for meetings held;\\n(f)minutes of meetings and resolutions passed therein;\\n(g)periodical reports and disclosures received by the trustee from the manager;\\n(h)disclosures, periodically or otherwise, made to the Board, unit holders and to the designated stock exchanges;\\n(i)any other material documents.\\n                 ',\n",
       " ' 27.The Board may suo motu or upon receipt of information or complaint appoint one or more persons as inspecting officers to undertake inspection of the books of accounts, records and\\n                 ',\n",
       " ' (4)The inspecting officer shall, for the purposes of inspection, have power to obtain authenticated copies of documents, books, accounts of REIT, from any person having control or custody of such documents, books or accounts.\\n                 ',\n",
       " ' 32A. (1) The Board may, exempt any person or class of persons from the operation of all or any of the provisions of these regulations for a period as may be specified but not exceeding twelve months, for furthering innovation in technological aspects relating to testing new products, processes, services, business models, etc. in live environment of regulatory sandbox in the securities markets.\\n                 ',\n",
       " ' (33A) The Board may, in the interest of investors or for the development of the securities market, relax the strict enforcement of any requirement of these regulations, if the Board is satisfied that\\n(a)requirement is procedural or technical in nature; or\\n(b)the requirement may cause undue hardship to investors; or\\n(c)the disclosure requirement is not relevant for a particular industry or class of listed entities; or\\n(d)the non-compliance was caused due to factors beyond the control of the issuer; or\\n(e)such relaxation will be in the interest of securities market216[; or]\\n217[(f)] any provision of Act(s), Rule(s), regulation(s) under which the listed entity is established or is governed by, is required to be given precedence to]\\nAmendments to other regulations.\\n                 ',\n",
       " ' 3.(1) No insider shall communicate, provide, or allow access to any unpublished price sensitive information, relating to a company or securities listed or proposed to be listed, to any person including other insiders except where such communication is in furtherance of legitimate purposes, performance of duties or discharge of legal obligations.\\n                 ',\n",
       " ' (2)No person shall procure from or cause the communication by any insider of unpublished price sensitive information, relating to a company or securities listed or proposed to be listed, except in furtherance of legitimate purposes, performance of duties or discharge of legal obligations.\\n                 ',\n",
       " ' 15[(5) The board of directors shall ensure that a structured digital database is maintained containing the names of such persons or entities as the case may be with whom information is shared under this regulation along with the Permanent Account Number or any other identifier authorized by law where Permanent Account Number is not available. Such databases shall be\\n                 ',\n",
       " ' (2)In the case of connected persons the onus of establishing, that they were not in possession of unpublished price sensitive information, shall be on such connected persons and in other cases, the onus would be on the Board.\\n                 ',\n",
       " ' (2)Such trading plan shall:–\\n(i)not entail commencement of trading on behalf of the insider earlier than six months from the public disclosure of the plan;\\n(ii)not entail trading for the period between the twentieth trading day prior to the last day of any financial period for which results are required to be announced by the issuer of the securities and the second trading day after the disclosure of such financial results;\\n(iii)entail trading for a period of not less than twelve months;\\nreasonable time gap between the decision to trade and the actual trade. Hence it is felt that a reasonable time would be twelve months.\\n(iv)not entail overlap of any period for which another trading plan is already in existence;\\n(v)set out either the value of trades to be effected or the number of securities to be traded along with the nature of the trade and the intervals at, or dates on which such trades shall be effected; and\\n(vi)not entail trading in securities for market abuse.\\nFraudulent and Unfair Trade Practices Relating to the Securities Market) Regulations, 2003.\\n                 ',\n",
       " ' 20[Provided that pre-clearance of trades shall not be required for a trade executed as per an approved trading plan.\\n Provided further that trading window norms and restrictions on contra trade shall not be applicable for trades carried out in accordance with an approved trading plan.]\\n                 ',\n",
       " ' 7B. (1) An Informant shall submit Original Information by furnishing the Voluntary Information Disclosure Form to the Office of Informant Protection of the Board in the format and manner set out in Schedule D. The Voluntary Information Disclosure Form may be submitted through informant’s legal representative:\\n Provided that where the Informant does not submit the Voluntary Information Disclosure Form through a legal representative, the Board may require such Informant to appear in person to ascertain his/her identity and the veracity of the information so provided.\\n                 ',\n",
       " ' (2)The legal representative shall,-\\ni.Verify the identity and contact details of the Informant;\\nii.Unless otherwise required by the Board, maintain confidentiality of the identity and existence of the Informant, including the original Voluntary Information Disclosure Form;\\niii.Undertake and certify that he/she,-\\n(a)Has reviewed the completed and signed Voluntary Information Disclosure Form for completeness and accuracy and that the information contained therein is true, correct and complete to the best of his/her knowledge;\\n(b)Has obtained a irrevocable consent from the Informant to provide to the Board with original Voluntary Information Disclosure Form whenever required by the Board; and\\n(c)Agrees to be legally obligated to provide the original Voluntary Information Disclosure Form within seven (7) calendar days of receiving such requests from the Board.\\niv.Submits to the Board, the copy of the Voluntary Information Disclosure Form in the manner provided in Schedule D of these regulations along with a signed certificate as required under clause (iii) of this sub-regulation (2).\\n                 ',\n",
       " ' 7C. (1) The Board may designate a division to function as the independent Office of Informant Protection.\\n                 ',\n",
       " ' (2)The Office of Informant Protection shall perform such functions as may be specified by the Board, including,-\\ni.Receiving and registering the Voluntary Information Disclosure Form;\\nii.Making all necessary communications with the Informant;\\niii.Maintaining a hotline for the benefit of potential Informant;\\niv.Maintaining confidentiality of the legal representative of the Informant and act as an interface between the Informant and the officers of the Board;\\nv.Interacting with the Informant Incentive Committee;\\nvi.Issuing press releases and rewards relating to Informant; and\\nvii.Submitting an annual report to the Board relating to the functioning of the Office of Informant Protection.\\n                 ',\n",
       " ' (3)On receipt of the Voluntary Information Disclosure Form, the Office of Informant Protection shall communicate the substance of the information along with the evidence submitted by the informant to the relevant department or division of the Board for examination and initiation of necessary action, if any.\\n                 ',\n",
       " ' 7D. (1) Upon collection or substantial recovery of the monetary sanctions amounting to at least twice the Reward, the Board may at its sole discretion, declare an Informant eligible for Reward and intimate the Informant or his or her legal representative to file an application in the format provided in Schedule-E for claiming such Reward:\\n Provided that the amount of Reward shall be ten percent of the monetary sanctions collected or recovered and shall not exceed Rupees One crore or such higher amount as the Board may specify from time to time:\\n                 ',\n",
       " '  Provided further that the Board may if deemed fit, out of the total Reward payable, grant an interim reward not exceeding Rupees Ten lacs or such higher amount as the Board may specify from time to time, on the issue of final order by the Board against the person directed to disgorge.\\n                 ',\n",
       " ' (2)In case of more than one Informant jointly providing the Original Information, the Reward, as specified in the intimation under sub-regulation (1), shall be divided equally amongst the total number of Informants.\\n                 ',\n",
       " ' organization’s compliance officer subsequently providing the same Information to the Board.\\n                ',\n",
       " ' 7F. (1) Informants who are considered tentatively eligible for a Reward, shall submit the Informant Reward Claim Form set out in Schedule E to the Board within the period specified in the intimation sent by the Board.\\n                 ',\n",
       " ' 7G. No Reward shall be made to an Informant:-\\n(1)who does not submit original information;\\n(2)who has acquired the Original Information, through or as a member, officer, or an employee\\nof:-\\n(i)any regulatory agency constituted by or under any law in India or outside India, including the Board;\\n(ii)any self-regulatory organization;\\n(iii)the surveillance or investigation wings of any recognised stock exchange or clearing corporation; or\\n(iv)any law enforcement organization including the police or any central or state revenue authorities.\\n(3)against whom the Board may initiate or has initiated criminal proceedings under securities laws;\\n(4)who wilfully refused to cooperate with the Board during its course of investigation, inquiry, audit, examination or other proceedings under securities laws;\\n(5)who:\\n(i)knowingly makes any false, fictitious, or fraudulent statement or representation; or\\n(ii)uses any false writing or document knowing that the writing or document contains any false, fictitious, or fraudulent statement or entry; or\\n(iii)fails to furnish the complete information available with him or accessible by him in relation to the alleged violation.\\n(6)who is obligated, under any law or otherwise, to report such Original Information to the Board, including a compliance officer under securities laws.\\nProvided that the Board may if deemed fit, at its sole discretion, exempt a person from any of these disqualifications.\\n                 ',\n",
       " ' 7H. (1) Any information including Original Information may, at the discretion of the Board, be made available:\\n(a)when it is required to be disclosed in connection with any legal proceedings in furtherance of the Board’s legal position;\\n(b)as permitted by these regulations; or\\n(c)as may be otherwise required or permitted by law.\\n                 ',\n",
       " ' (3)The Original Information and identity provided by an Informant shall be held in confidence and exempted from disclosure under clauses (g) and (h) of sub-section (1) of section 8 of the Right to Information Act, 2005 (No. 22 of 2005).\\n                 ',\n",
       " ' (2)Nothing in these regulations shall prohibit any Informant who believes that he or she has been subject to retaliation or victimisation by his or her employer, from approaching the competent court or tribunal for appropriate relief.\\n                 ',\n",
       " ' (3)Notwithstanding anything contained in sub-regulation (2), any employer who violates this Chapter may be liable for penalty, debarment, suspension, and/or criminal prosecution by the Board, as the case may be:\\n Provided that nothing in these regulations will require the Board to direct re-instatement or compensation by an employer.\\n                 ',\n",
       " ' 7J. (1) Any term in an agreement (oral or written) or Code of Conduct, is void in so far as it purports to preclude any person, other than an advocate, from submitting to the Board information relating to the violation of the securities laws that has occurred, is occurring or has a reasonable belief that it would occur.\\n                 ',\n",
       " ' (2)No person shall by way of any threat or act impede an individual from communicating with the Board, including enforcing or threatening to enforce, a confidentiality agreement (other than agreements related to legal representations of a client and communications there under) with respect to such communications.\\n                 ',\n",
       " ' (2)Where an action against an Informant is deemed appropriate the Board may take into account the co-operation rendered in the final determination of any penalty, sanction, direction or settlement thereof, as the case may be.\\n                 ',\n",
       " ' (5)Notwithstanding any action taken by the Board against an Informant, the Informant may, after payment of any monetary amounts be eligible for a Reward.\\n                 ',\n",
       " ' 7L. (1) The Informant Incentive Committee shall be assisted by the Office of Informant Protection.\\n                 ',\n",
       " ' (2)The Informant Incentive Committee shall give its recommendations to the Board on the following matters,-\\ni.Eligibility of Informant for reward;\\nii.Determination under regulations 7E and 7G; and\\niii.Such other issues relating to Informant as the Board may require from time to time.\\n                 ',\n",
       " ' (2)Every such code of practices and procedures for fair disclosure of unpublished price sensitive information and every amendment thereto shall be promptly intimated to the stock exchanges where the securities are listed.\\n                 ',\n",
       " ' 9.(1) The board of directors of every listed company and 26[the board of directors or head(s) of the organisation of every intermediary shall ensure that the chief executive officer or managing director] shall formulate a code of conduct 27[with their approval] to regulate, monitor and report trading by its 28[designated persons and immediate relatives of designated persons] towards achieving compliance with these regulations, adopting the minimum standards set out in Schedule B 29[(in case of a listed company) and Schedule C (in case of an intermediary)] to these regulations, without diluting the provisions of these regulations in any manner.\\n                 ',\n",
       " ' required to handle unpublished price sensitive information in the course of business operations shall formulate a code of conduct to regulate, monitor and report trading by their designated persons and immediate relative of designated persons towards achieving compliance with these regulations, adopting the minimum standards set out in Schedule C to these regulations, without diluting the provisions of these regulations in any manner.\\n                ',\n",
       " ' “Every other person who is required to handle unpublished price sensitive information in the course of business operations shall formulate a code of conduct to regulate, monitor and report trading by employees and other connected persons towards achieving compliance with these regulations, adopting the minimum standards set out in Schedule B to these regulations, without diluting the provisions of these regulations in any manner.”\\n                 ',\n",
       " ' “This provision is intended to mandate persons other than listed companies and market intermediaries that are required to handle unpublished price sensitive information to formulate a code of conduct governing trading in securities by their employees. These entities include professional firms such as auditors, accountancy firms, law firms, analysts, consultants etc., assisting or advising listed companies, market intermediaries and other capital market participants. Even entities that normally operate outside the capital market may handle unpublished price sensitive information. This provision would mandate all of them to formulate a code of conduct.”\\n                 ',\n",
       " ' (3)Every listed company, 36[intermediary] and other persons formulating a code of conduct shall identify and designate a compliance officer to administer the code of conduct and other requirements under these regulations.\\n                 ',\n",
       " ' 9A. (1) The Chief Executive Officer, Managing Director or such other analogous person of a listed company, intermediary or fiduciary shall put in place adequate and effective system of internal controls to ensure compliance with the requirements given in these regulations to prevent insider trading.\\n                 ',\n",
       " ' (5)Every listed company shall formulate written policies and procedures for inquiry in case of leak of unpublished price sensitive information or suspected leak of unpublished price sensitive information, which shall be approved by board of directors of the company and accordingly initiate appropriate inquiries on becoming aware of leak of unpublished price sensitive information or suspected leak of unpublished price sensitive information and inform the Board promptly of such leaks, inquiries and results of such inquiries.\\n                 ',\n",
       " ' (6)The listed company shall have a whistle-blower policy and make employees aware of such policy to enable employees to report instances of leak of unpublished price sensitive information.\\n                 ',\n",
       " ' 41[(2) For the purpose of Chapter IIIA, the Board may,-\\ni.by circular, specify procedures and processes for carrying out the purposes of these regulations;\\nii.remove any difficulty in the interpretation or application or implementation of the provisions of these regulations, by issuing clarifications and specifying procedures through circulars or guidelines.]\\nRepeal and Savings.\\n                 ',\n",
       " ' (2)Notwithstanding such repeal,—\\n(a)the previous operation of the repealed regulations or anything duly done or suffered thereunder, any right, privilege, obligation or liability acquired, accrued or incurred under the repealed regulations, any penalty, forfeiture or punishment incurred in respect of any offence committed against the repealed regulations, or any investigation, legal proceeding or remedy in respect of any such right, privilege, obligation, liability, penalty, forfeiture or punishment as aforesaid, shall remain unaffected as if the repealed regulations had never been repealed; and\\n(b)anything done or any action taken or purported to have been done or taken including any adjudication, enquiry or investigation commenced or show-cause notice issued under the repealed regulations prior to such repeal, shall be deemed to have been done or taken under the corresponding provisions of these regulations;\\n                 ',\n",
       " ' (8)An entity, registered as a foreign portfolio investor shall be permitted to invest in Indian securities as a person resident outside India in accordance with provisions of 3[the Foreign Exchange Management Act, 1999, rules and regulations made thereunder].\\n                 ',\n",
       " ' (2)A foreign portfolio investor shall ensure that any transfer of offshore derivative instruments issued by or on behalf of it, is subject to the following conditions –\\n(a)such offshore derivative instruments are transferred to persons subject to the fulfilment of sub-regulation (1); and\\n(b)prior consent of the foreign portfolio investor is obtained for such transfer, except in cases, where the persons to whom the offshore derivative instruments are to be transferred, are pre-approved by the foreign portfolio investor.\\n3Substituted for “Foreign Exchange Management (Transfer or Issue of Security by a Person Resident Outside India) Regulations, 2017 made under the Foreign Exchange Management Act, 1999” by the SEBI (Foreign Portfolio Investors) (Amendment) Regulation, 2019, w.e.f. 19-12-2019.\\n4Sub-regulation 9 omitted by the SEBI (Foreign Portfolio Investors) (Amendment) Regulation, 2019, w.e.f. 19-\\n12-2019. Prior to the omission, Sub-clause 9 read as under:\\n“In cases where the Government of India enters into agreements or treaties with other sovereign Governments and where such agreements or treaties specifically recognize certain entities to be distinct and separate, the Board may, during the validity of such agreements or treaties, recognize them as such, subject to conditions as may be specified by it.”\\nPage 14 of 29\\n                 ',\n",
       " ' 26.A foreign portfolio investor shall appoint a branch of a bank authorised by the Reserve Bank of India for opening a foreign currency denominated account and special non-resident rupee account before making any investments in India.\\n                 ',\n",
       " ' 28.(1) A foreign portfolio investor, or any of its employees shall not render directly or indirectly any investment advice about any security in the publicly accessible media, whether real-time or otherwise, unless a disclosure of its interest including long or short position in the said security has been made, while rendering such advice.\\n                 ',\n",
       " ' (2)In case, an employee of the foreign portfolio investor is rendering such advice, he shall also disclose the interest of his dependent family members and his employer including their long or short position in the said security, while rendering such advice.\\n                 ',\n",
       " ' 29.Every foreign portfolio investor shall maintain the following books of accounts, records and documents, namely –\\n(a)true and fair accounts relating to remittances of funds to India for buying and selling; and realising capital gains or losses on investment made from such remittances;\\n(b)bank statement of accounts;\\n(c)contract notes relating to purchase and sale of securities; and\\n(d)communication including in electronic mode from and to the designated depository participants, stock brokers and depository participants regarding investments in securities.\\nPreservation of books of accounts, records and documents.\\n                 ',\n",
       " ' (5)The designated depository participant shall carry out an annual review of its systems, procedures and controls by an independent professional.\\n                 ',\n",
       " ' (6)The designated depository participant shall furnish to the Board annual audit reports on its internal control for a particular calendar year within ninety days of the next calendar year.\\n                 ',\n",
       " ' (7)The designated depository participant shall submit the Action Taken Report, if any, on the audit report on a quarterly basis to the Board.\\n                 ',\n",
       " ' 32.(1) Every designated depository participant shall maintain the relevant true and fair records, books of accounts, and documents including the physical or electronic records relating to registration of foreign portfolio investors.\\n                 ',\n",
       " ' (2)The compliance officer shall immediately and independently report any non-compliance observed by him to the Board.\\n                 ',\n",
       " ' 35.(1) A designated depository participant, or any of its employees shall not render directly or indirectly any investment advice about any security in the publicly accessible media, whether real-time or otherwise, unless a disclosure of its interest including long or short position in the said security has been made, while rendering such advice.\\n                 ',\n",
       " ' (2)In case, an employee of the designated depository participant is rendering such advice, he shall also disclose the interest of his dependent family members and his employer including their long or short position in the said security, while rendering such advice.\\n                 ',\n",
       " ' 36.The Board may suo moto or upon receipt of any information or complaint, appoint one or more persons as inspecting authority to undertake inspection of the books of account, records and documents relating to a designated depository participant for any of the following purposes, namely, -\\n(a)to ensure that the books of account, records including telephone records and electronic records and documents are being maintained by the designated depository participants;\\n(b)to ascertain whether any circumstances exist that would render the designated depository participants unfit or ineligible;\\n(c)to inquire into the complaints received from investors, clients, other market participants or any other person on any matter having a bearing on the activities of the designated depository participants;\\n(d)to ascertain whether the provisions of the securities laws and the directions or circulars issued thereunder are being complied with by the designated depository participants;\\nPage 21 of 29\\n(e)to ascertain whether the established and are being adequate; and\\nsystems, procedures and safeguards which have been followed by the designated depository participants are\\n(f)to investigate suo moto into the affairs of the designated depository participants in the interest of the securities market or in the interest of investors.\\nNotice before inspection.\\n                 ',\n",
       " ' (2)During the course of an inspection, the designated depository participants against whom the inspection is being carried out shall be bound to discharge its obligation as provided in regulation 38.\\n                 ',\n",
       " ' 43A. (1) The Board may, exempt any person or class of persons from the operation of all or any of the provisions of these regulations for a period as may be specified but not exceeding twelve months, for furthering innovation in technological aspects relating to testing new products, processes, services, business models, etc. in live environment of regulatory sandbox in the securities markets.\\n                 ',\n",
       " ' (2)The listed entity which has listed its specified securities shall comply with the corporate governance provisions as specified in chapter IV which shall be implemented in a manner so as to achieve the objectives of the principles as mentioned below.\\n(a)The rights of shareholders: The listed entity shall seek to protect and facilitate the exercise of the following rights of shareholders:\\n(i)right to participate in, and to be sufficiently informed of, decisions concerning fundamental corporate changes.\\n(ii)opportunity to participate effectively and vote in general shareholder meetings. (iii)being informed of the rules, including voting procedures that govern general\\nshareholder meetings.\\n(iv)opportunity to ask questions to the board of directors, to place items on the agenda of general meetings, and to propose resolutions, subject to reasonable limitations.\\n(v)Effective shareholder participation in key corporate governance decisions, such as the nomination and election of members of board of directors.\\n(vi)exercise of ownership rights by all shareholders, including institutional investors.\\n(vii)adequate mechanism to address the grievances of the shareholders.\\n(viii)protection of minority shareholders from abusive actions by, or in the interest of, controlling shareholders acting either directly or indirectly, and effective means of redress.\\n7\\n(b)Timely information: The listed entity shall provide adequate and timely information to shareholders, including but not limited to the following:\\n(i)sufficient and timely information concerning the date, location and agenda of general meetings, as well as full and timely information regarding the issues to be discussed at the meeting.\\n(ii)Capital structures and arrangements that enable certain shareholders to obtain a degree of control disproportionate to their equity ownership.\\n(iii)rights attached to all series and classes of shares, which shall be disclosed to investors before they acquire shares.\\n(c)Equitable treatment: The listed entity shall ensure equitable treatment of all shareholders, including minority and foreign shareholders, in the following manner:\\n(i)All shareholders of the same series of a class shall be treated equally.\\n(ii)Effective shareholder participation in key corporate governance decisions,\\nsuch as the nomination and election of members of board of directors, shall be facilitated.\\n(iii)Exercise of voting rights by foreign shareholders shall be facilitated.\\n(iv)The listed entity shall devise a framework to avoid insider trading and abusive self-dealing.\\n(v)Processes and procedures for general shareholder meetings shall allow for equitable treatment of all shareholders.\\n(vi)Procedures of listed entity shall not make it unduly difficult or expensive to cast votes.\\n(d)Role of stakeholders in corporate governance: The listed entity shall recognise the rights of its stakeholders and encourage co-operation between listed entity and the stakeholders, in the following manner:\\n(i)The listed entity shall respect the rights of stakeholders that are established by law or through mutual agreements.\\n(ii)Stakeholders shall have the opportunity to obtain effective redress for violation of their rights.\\n(iii)Stakeholders shall have access to relevant, sufficient and reliable information on a timely and regular basis to enable them to participate in corporate governance process.\\n(iv)The listed entity shall devise an effective whistle blower mechanism enabling stakeholders, including individual employees and their representative bodies, to freely communicate their concerns about illegal or unethical practices.\\n(e)Disclosure and transparency: The listed entity shall ensure timely and accurate disclosure on all material matters including the financial situation, performance, ownership, and governance of the listed entity, in the following manner:\\n(i)Information shall be prepared and disclosed in accordance with the prescribed standards of accounting, financial and non-financial disclosure.\\n(ii)Channels for disseminating information shall provide for equal, timely and cost efficient access to relevant information by users.\\n(iii)Minutes of the meeting shall be maintained explicitly recording dissenting opinions, if any.\\n8\\n.\\n(f)Responsibilities of the board of directors: The board of directors of the listed entity shall have the following responsibilities:\\n(i)Disclosure of information:\\n(1)Members of board of directors and key managerial personnel shall disclose to the board of directors whether they, directly, indirectly, or on behalf of third parties, have a material interest in any transaction or matter directly affecting the listed entity.\\n(2)The board of directors and senior management shall conduct themselves so as to meet the expectations of operational transparency to stakeholders while at the same time maintaining confidentiality of information in order to foster a culture of good decision-making.\\n(ii)Key functions of the board of directors-\\n(1)Reviewing and guiding corporate strategy, major plans of action, risk policy, annual budgets and business plans, setting performance objectives, monitoring implementation and corporate performance, and overseeing major capital expenditures, acquisitions and divestments.\\n(2)Monitoring the effectiveness of the listed entity’s governance practices and making changes as needed.\\n(3)Selecting, compensating, monitoring and, when necessary, replacing key managerial personnel and overseeing succession planning.\\n(4)Aligning key managerial personnel and remuneration of board of directors with the longer term interests of the listed entity and its shareholders.\\n(5)Ensuring a transparent nomination process to the board of directors with the diversity of thought, experience, knowledge, perspective and gender in the board of directors.\\n(6)Monitoring and managing potential conflicts of interest of management, members of the board of directors and shareholders, including misuse of corporate assets and abuse in related party transactions.\\n(7)Ensuring the integrity of the listed entity’s accounting and financial reporting systems, including the independent audit, and that appropriate systems of control are in place, in particular, systems for risk management, financial and operational control, and compliance with the law and relevant standards.\\n(8)Overseeing the process of disclosure and communications.\\n(9)Monitoring and reviewing board of director’s evaluation framework.\\n(iii)Other responsibilities:\\n(1)The board of directors shall provide strategic guidance to the listed entity, ensure effective monitoring of the management and shall be accountable to the listed entity and the shareholders.\\n(2)The board of directors shall set a corporate culture and the values by which executives throughout a group shall behave.\\n(3)Members of the board of directors shall act on a fully informed basis, in good faith, with due diligence and care, and in the best interest of the listed entity and the shareholders.\\n(4)The board of directors shall encourage continuing directors training to ensure that the members of board of directors are kept up to date.\\n9\\n(5)Where decisions of the board of directors may affect different shareholder groups differently, the board of directors shall treat all shareholders fairly.\\n(6)The board of directors shall maintain high ethical standards and shall take into account the interests of stakeholders.\\n(7)The board of directors shall exercise objective independent judgement on corporate affairs.\\n(8)The board of directors shall consider assigning a sufficient number of non- executive members of the board of directors capable of exercising independent judgement to tasks where there is a potential for conflict of interest.\\n(9)The board of directors shall ensure that, while rightly encouraging positive thinking, these do not result in over-optimism that either leads to significant risks not being recognised or exposes the listed entity to excessive risk.\\n(10)The board of directors shall have ability to ‘step back’ to assist executive management by challenging the assumptions underlying: strategy, strategic initiatives (such as acquisitions), risk appetite, exposures and the key areas of the listed entity’s focus.\\n(11)When committees of the board of directors are established, their mandate, composition and working procedures shall be well defined and disclosed by the board of directors.\\n(12)Members of the board of directors shall be able to commit themselves effectively to their responsibilities.\\n(13)In order to fulfil their responsibilities, members of the board of directors shall have access to accurate, relevant and timely information.\\n(14)The board of directors and senior management shall facilitate the independent directors to perform their role effectively as a member of the board of directors and also a member of a committee of board of directors.\\n                 ',\n",
       " ' 5.The listed entity shall ensure that key managerial personnel, directors, promoters or any other person dealing with the listed entity, complies with responsibilities or obligations, if any, assigned to them under these regulations.\\n                 ',\n",
       " ' 6.(1) A listed entity shall appoint a qualified company secretary as the compliance officer.\\n                 ',\n",
       " ' Co-operation with intermediaries registered with the Board.\\n                 ',\n",
       " ' 9.The listed entity shall have a policy for preservation of documents, approved by its board of directors, classifying them in at least two categories as follows-\\n(a)documents whose preservation shall be permanent in nature ;\\n(b)documents with preservation period of not less than eight years after completion of\\nthe relevant transactions:\\nProvided that the listed entity may keep documents specified in clauses (a) and (b) in electronic mode.\\nFiling of information.\\n                 ',\n",
       " ' 12.The listed entity shall use any of the electronic mode of payment facility approved by the Reserve Bank of India, in the manner specified in Schedule I, for the payment of the following:\\n(a)dividends;\\n(b)interest;\\n(c)redemption or repayment amounts:\\nProvided that where it is not possible to use electronic mode of payment, ‘payable-at-par’ warrants or cheques may be issued:\\nProvided further that where the amount payable as dividend exceeds one thousand and five hundred rupees, the ‘payable-at-par’ warrants or cheques shall be sent by speed post.\\nGrievance Redressal Mechanism.\\n                 ',\n",
       " ' 13.(1) The listed entity shall ensure that adequate steps are taken for expeditious redressal of investor complaints.\\n                 ',\n",
       " ' (3)The listed entity shall file with the recognised stock exchange(s) on a quarterly basis, within twenty one days from the end of each quarter, a statement giving the number of investor complaints pending at the beginning of the quarter, those received during the quarter, disposed of during the quarter and those remaining unresolved at the end of the quarter.\\n                 ',\n",
       " ' (2) The compliance with the corporate governance provisions as specified in regulations 17, 12[17A,] 18, 19, 20, 21,22, 23, 24, 13[24A,] 25, 26, 27 and clauses (b) to (i) of sub-regulation\\n(2) of regulation 46 and para C , D and E of Schedule V shall not apply, in respect of -\\n(a)the listed entity having paid up equity share capital not exceeding rupees ten crore and net worth not exceeding rupees twenty five crore, as on the last day of the previous financial year:\\nProvided that where the provisions of the regulations specified in this regulation becomes applicable to a listed entity at a later date, such listed entity shall comply with the requirements those regulations within six months from the date on which the provisions became applicable to the listed entity.\\n(b)the listed entity which has listed its specified securities on the SME Exchange: Provided that for other listed entities which are not companies, but body corporate or\\nare subject to regulations under other statues, the provisions of corporate governance provisions as specified in regulation 17, 14[17A,] 18, 19, 20, 21, 22, 23, 24, 15[24A,] 25, 26, 27 and clauses (b) to (i) of sub-regulation (2) of regulation 46 and para C , D and E of Schedule V shall apply to the extent that it does not violate their respective statutes and guidelines or directives issued by the relevant authorities.\\n[(2A) The provisions as specified in regulation 17 shall not be applicable during the insolvency resolution process period in respect of a listed entity which is undergoing corporate insolvency resolution process under the Insolvency Code:\\nProvided that the role and responsibilities of the board of directors as specified under regulation 17 shall be fulfilled by the interim resolution professional or resolution professional in accordance with sections 17 and 23 of the Insolvency Code.\\n(2B) The provisions as specified in regulations 18, 19, 20 and 21 shall not be applicable during the insolvency resolution process period in respect of a listed entity which is undergoing corporate insolvency resolution process under the Insolvency Code:\\nProvided that the roles and responsibilities of the committees specified in the respective regulations shall be fulfilled by the interim resolution professional or resolution professional.]16\\n12Inserted by the SEBI (Listing Obligations and Disclosure Requirements) (Amendment) Regulations, 2018, w.e.f. 1.4.2019.\\n13Inserted ibid.\\n14Inserted by the SEBI (Listing Obligations and Disclosure Requirements) (Amendment) Regulations, 2018, w.e.f. 1.4.2019.\\n15Inserted ibid.\\n16Inserted by SEBI (Listing Obligations and Disclosure Requirements) (Third Amendment) Regulations, 2018, w.e.f. 31.05.2018.\\n14\\n                 ',\n",
       " ' (2)The board of directors shall meet at least four times a year, with a maximum time gap of one hundred and twenty days between any two meetings.\\n                 ',\n",
       " ' 27[(2A) The quorum for every meeting of the board of directors of the top 1000 listed entities with effect from April 1, 2019 and of the top 2000 listed entities with effect from April 1, 2020 shall be one-third of its total strength or three directors, whichever is higher, including at least one independent director.\\n                 ',\n",
       " ' (9)(a) The listed entity shall lay down procedures to inform members of board of directors about risk assessment and minimization procedures.\\n(b)The board of directors shall be responsible for framing, implementing and monitoring the risk management plan for the listed entity.\\n                 ',\n",
       " ' (2)The listed entity shall conduct the meetings of the audit committee in the following manner:\\n(a)The audit committee shall meet at least four times in a year and not more than one hundred and twenty days shall elapse between two meetings.\\n(b)The quorum for audit committee meeting shall either be two members or one third of the members of the audit committee, whichever is greater, with at least two independent directors.\\n(c)The audit committee shall have powers to investigate any activity within its terms of reference, seek information from any employee, obtain outside legal or other professional advice and secure attendance of outsiders with relevant expertise, if it considers necessary.\\n                 ',\n",
       " ' 19.(1) The board of directors shall constitute the nomination and remuneration committee as follows:\\n(a)the committee shall comprise of at least three directors ;\\n(b)all directors of the committee shall be non-executive directors; and\\n(c)at least fifty percent of the directors shall be independent directors 34[and in case of a listed entity having outstanding SR equity shares, two thirds of the nomination and remuneration committee shall comprise of independent directors].\\n                 ',\n",
       " ' 35[(2A) The quorum for a meeting of the nomination and remuneration committee shall be either two members or one third of the members of the committee, whichever is greater, including at least one independent director in attendance.]\\n                 ',\n",
       " \" (3)The Chairperson of the nomination and remuneration committee may be present at the annual general meeting, to answer the shareholders' queries; however, it shall be up to the chairperson to decide who shall answer the queries.\\n                 \",\n",
       " ' 36[(3A) The nomination and remuneration committee shall meet at least once in a year.]\\n                 ',\n",
       " ' 20.(1) The listed entity shall constitute a Stakeholders Relationship Committee to specifically look into 37[various aspects of interest] of shareholders, debenture holders and other security holders.\\n                 ',\n",
       " ' (2)The chairperson of this committee shall be a non-executive director.\\n                 ',\n",
       " ' 38[(2A) At least three directors, with at least one being an independent director, shall be members of the Committee 39[and in case of a listed entity having outstanding SR equity shares, at least two thirds of the Stakeholders Relationship Committee shall comprise of independent directors].]\\n                 ',\n",
       " ' 40[(3) The Chairperson of the Stakeholders Relationship Committee shall be present at the annual general meetings to answer queries of the security holders.]\\n                 ',\n",
       " ' 41[(3A) The stakeholders relationship committee shall meet at least once in a year.]\\n                 ',\n",
       " ' 21.(1) The board of directors shall constitute a Risk Management Committee.\\n                 ',\n",
       " ' (2)The majority of members of Risk Management Committee shall consist of members of the board of directors 42 [and in case of a listed entity having outstanding SR equity shares, at least two thirds of the Risk Management Committee shall comprise of independent directors].\\n                 ',\n",
       " ' 43[(3A) The risk management committee shall meet at least once in a year.]\\n                 ',\n",
       " ' (4)The board of directors shall define the role and responsibility of the Risk Management Committee and may delegate monitoring and reviewing of the risk management plan to the committee and such other functions as it may deem fit 44 [such function shall specifically cover cyber security].\\n                 ',\n",
       " ' (5)The provisions of this regulation shall be applicable to top 45 [500] listed entities, determined on the basis of market capitalisation, as at the end of the immediate previous financial year.\\n                 ',\n",
       " ' 22.(1) The listed entity shall formulate a vigil mechanism for directors and employees to report genuine concerns.\\n                 ',\n",
       " ' (2)The vigil mechanism shall provide for adequate safeguards against victimization of director(s) or employee(s) or any other person who avail the mechanism and also provide for direct access to the chairperson of the audit committee in appropriate or exceptional cases.\\n                 ',\n",
       " ' 23.(1) The listed entity shall formulate a policy on materiality of related party transactions and on dealing with related party transactions 46[including clear threshold limits duly approved by the board of directors and such policy shall be reviewed by the board of directors at least once every three years and updated accordingly]:\\n                 ',\n",
       " ' (2)All related party transactions shall require prior approval of the audit committee.\\n                 ',\n",
       " ' (3)Audit committee may grant omnibus approval for related party transactions proposed to be entered into by the listed entity subject to the following conditions, namely-\\n(a)the audit committee shall lay down the criteria for granting the omnibus approval in line with the policy on related party transactions of the listed entity and such approval\\nshall be applicable in respect of transactions which are repetitive in nature;\\n(b) the audit committee shall satisfy itself regarding the need for such omnibus\\n44Inserted ibid.\\n45Substituted for “100” by the SEBI (Listing Obligations and Disclosure Requirements) (Amendment) Regulations, 2018, w.e.f. 1.4.2019.\\n46Inserted ibid.\\n47Inserted by the SEBI (Listing Obligations and Disclosure Requirements) (Amendment) Regulations, 2018, w.e.f. 1.4.2019.\\n48Inserted by SEBI (Listing Obligations and Disclosure Requirements) (Amendment) Regulations, 2019\\n49Substituted for the word \"two\" by SEBI (Listing Obligations and Disclosure Requirements) (Third Amendment) Regulations, 2019, w.e.f. June 27, 2019\\n23\\napproval and that such approval is in the interest of the listed entity;\\n(c)the omnibus approval shall specify:\\n(i)the name(s) of the related party, nature of transaction, period of transaction, maximum amount of transactions that shall be entered into,\\n(ii)the indicative base price / current contracted price and the formula for variation in the price if any; and\\n(iii)such other conditions as the audit committee may deem fit:\\nProvided that where the need for related party transaction cannot be foreseen and aforesaid details are not available, audit committee may grant omnibus approval for such transactions subject to their value not exceeding rupees one crore per transaction.\\n(d)the audit committee shall review, at least on a quarterly basis, the details of related party transactions entered into by the listed entity pursuant to each of the omnibus approvals given.\\n(e)Such omnibus approvals shall be valid for a period not exceeding one year and shall require fresh approvals after the expiry of one year:\\n                 ',\n",
       " ' (4)All material related party transactions shall require approval of the shareholders through resolution and 50 [no related party shall vote to approve] such resolutions whether the entity is a related party to the particular transaction or not:\\n                 ',\n",
       " ' (7)For the purpose of this regulation, all entities falling under the definition of related parties shall 52[not vote to approve the relevant transaction] irrespective of whether the entity is a party to the particular transaction or not.\\n                 ',\n",
       " ' (8)All existing material related party contracts or arrangements entered into prior to the date of notification of these regulations and which may continue beyond such date shall be placed for approval of the shareholders in the first General Meeting subsequent to notification of these regulations.\\n                 ',\n",
       " ' 50Substituted for the words “the related parties shall abstain from voting on” by the SEBI (Listing Obligations and Disclosure Requirements) (Amendment) Regulations, 2018.\\n                 ',\n",
       " ' 24A. Every listed entity and its material unlisted subsidiaries incorporated in India shall undertake secretarial audit and shall annex with its annual report, a secretarial audit report, given by a company secretary in practice, in such form as may be specified with effect from the year ended March 31, 2019.]\\n                 ',\n",
       " \" 26.(1) A director shall not be a member in more than ten committees or act as chairperson of more than five committees across all listed entities in which he is a director which shall be determined as follows:\\n(a)the limit of the committees on which a director may serve in all public limited companies, whether listed or not, shall be included and all other companies including private limited companies, foreign companies and companies under Section 8 of the Companies Act, 2013 shall be excluded;\\n60Inserted ibid w.e.f. 1.4.2019 or the date specified in the provisions.\\n61Substituted by SEBI (Listing Obligations and Disclosure Requirements) (Third Amendment) Regulations, 2016, w.e.f. 04.01.2017. Prior to substitution, the title read as follows-\\n“Obligations with respect to directors and senior management”\\n27\\n(b)for the purpose of determination of limit, chairpersonship and membership of the audit committee and the Stakeholders' Relationship Committee alone shall be considered.\\n                 \",\n",
       " ' (2)Every director shall inform the listed entity about the committee positions he or she occupies in other listed entities and notify changes as and when they take place.\\n                 ',\n",
       " ' 29.(1) The listed entity shall give prior intimation to stock exchange about the meeting of the board of directors in which any of the following proposals is due to be considered:\\n(a)financial results viz. quarterly, half yearly, or annual, as the case may be;\\n(b)proposal for buyback of securities;\\n(c)proposal for voluntary delisting by the listed entity from the stock exchange(s);\\n29\\n(d)fund raising by way of further public offer, rights issue, American Depository Receipts/Global Depository Receipts/Foreign Currency Convertible Bonds, qualified institutions placement, debt issue, preferential issue or any other method and for determination of issue price:\\nProvided that intimation shall also be given in case of any annual general meeting or extraordinary general meeting or postal ballot that is proposed to be held for obtaining shareholder approval for further fund raising indicating type of issuance.\\n(e)declaration/ recommendation of dividend, issue of convertible securities including convertible debentures or of debentures carrying a right to subscribe to equity shares or the passing over of dividend.\\n(f)the proposal for declaration of bonus securities where such proposal is communicated to the board of directors of the listed entity as part of the agenda papers:\\n63[***]\\n                 ',\n",
       " ' (4)(i) The listed entity shall consider the following criteria for determination of materiality of events/ information:\\n(a)the omission of an event or information, which is likely to result in discontinuity or alteration of event or information already available publicly; or\\n(b)the omission of an event or information is likely to result in significant market reaction if the said omission came to light at a later date;\\n(c)In case where the criteria specified in sub-clauses (a) and (b) are not applicable, an event/information may be treated as being material if in the opinion of the board of directors of listed entity, the event / information is considered material.\\n(ii)The listed entity shall frame a policy for determination of materiality, based on criteria specified in this sub-regulation, duly approved by its board of directors, which shall be disclosed on its website.\\n                 ',\n",
       " ' (7)The listed entity shall, with respect to disclosures referred to in this regulation, make disclosures updating material developments on a regular basis, till such time the event is resolved/closed, with relevant explanations.\\n                 ',\n",
       " ' (11)The listed entity may on its own initiative also, confirm or deny any reported event or information to stock exchange(s).\\n                 ',\n",
       " ' 64[(4) All entities falling under promoter and promoter group shall be disclosed separately in the shareholding pattern appearing on the website of all stock exchanges having nationwide trading terminals where the specified securities of the entity are listed, in accordance with the formats specified by the Board.]\\n                 ',\n",
       " ' 31A. (1) All entities falling under promoter and promoter group shall be disclosed separately in the shareholding pattern appearing on the website of all stock exchanges having nationwide trading terminals where the specified securities of the entity are listed, in accordance with the formats specified by SEBI.\\n                 ',\n",
       " ' (4)In case of transmission/succession/inheritance, the inheritor shall be classified as promoter.\\n                 ',\n",
       " \" (5)When a new promoter replaces the previous promoter subsequent to an open offer or in any other manner, re-classification may be permitted subject to approval of shareholders in the general meeting and compliance of the following conditions:\\n(a)Such promoter along with the promoter group and the Persons Acting in Concert shall not hold more than ten per cent of the paid-up equity capital of the entity.\\n(b)Such promoter shall not continue to have any special rights through formal or informal arrangements. All shareholding agreements granting special rights to such entities shall be terminated.\\n(c)Such promoters and their relatives shall not act as key managerial person for a period of more than three years from the date of shareholders’ approval:\\nProvided that the resolution of the said shareholders' meeting must specifically grant approval for such promoter to act as key managerial person.\\n                 \",\n",
       " ' (6)Where an entity becomes professionally managed and does not have any identifiable promoter the existing promoters may be re-classified as public shareholders subject to approval of the shareholders in a general meeting.\\n                 ',\n",
       " ' (7)Without prejudice to sub-regulations (5) and (6), re-classification of promoter as public shareholders shall be subject to the following conditions:\\n(a)Such promoter shall not, directly or indirectly, exercise control, over the affairs of the entity.\\n(b)Increase in the level of public shareholding pursuant to re-classification of promoter shall not be counted towards achieving compliance with minimum public shareholding requirement under rule 19A of the Securities Contracts (Regulation) Rules, 1957, and the provisions of these regulations.\\n(c)The event of re-classification shall be disclosed to the stock exchanges as a material event in accordance with the provisions of these regulations.\\n(d)Board may relax any condition for re-classification in specific cases, if it is satisfied about non- exercise of control by the outgoing promoter or its persons acting in concert.\\n                 ',\n",
       " ' (3)Re-classification of status of a promoter/ person belonging to promoter group to public shall be permitted by the stock exchanges only upon satisfaction of the following conditions:\\n(a)an application for re-classification to the stock exchanges has been made by the listed entity consequent to the following procedures and not later than thirty days from the date of approval by shareholders in general meeting:\\n(i)the promoter(s) seeking re-classification shall make a request for re- classification to the listed entity which shall include rationale for seeking such re-classification and how the conditions specified in clause (b) below are satisfied;\\n(ii)the board of directors of the listed entity shall analyze the request and place the same before the shareholders in a general meeting for approval along with the views of the board of directors on the request:\\nProvided that there shall be a time gap of at least three months but not exceeding six months between the date of board meeting and the shareholder’s meeting considering the request of the promoter(s) seeking re-classification.\\n(iii)the request of the promoter(s) seeking re-classification shall be approved in the general meeting by an ordinary resolution in which the promoter(s) seeking re-classification and persons related to the promoter(s) seeking re-classification shall not vote to approve such re-classification request.\\n(b)the promoter(s) seeking re-classification and persons related to the promoter(s) seeking re-classification shall not:\\n(i)together, hold more than ten percent of the total voting rights in the listed entity;\\n(ii)exercise control over the affairs of the listed entity directly or indirectly;\\n(i)the existing promoter and promoter group seeking re-classification shall not remain in control of the listed entity; and\\n(ii)such re-classification along with the underlying rationale shall be disclosed to the stock exchanges within one day of the resolution plan being approved.\\n34\\n(iii)have any special rights with respect to the listed entity through formal or informal arrangements including through any shareholder agreements;\\n(iv)be represented on the board of directors (including not having a nominee director) of the listed entity;\\n(v)act as a key managerial person in the listed entity;\\n(vi)be a ‘wilful defaulter’ as per the Reserve Bank of India Guidelines;\\n(vii)be a fugitive economic offender.\\n(c)the listed entity shall:\\n(i)be compliant with the requirement for minimum public shareholding as required under regulation 38 of these regulations;\\n(ii)not have trading in its shares suspended by the stock exchanges;\\n(iii)not have any outstanding dues to the Board, the stock exchanges or the depositories.\\n                 ',\n",
       " ' (4)The promoter(s) seeking re-classification, subsequent to re-classification as public, shall comply with the following conditions:\\n(a)he shall continue to comply with conditions mentioned at sub-clauses (i),\\n(ii)and (iii) of clause (b) of sub-regulation 3 as specified above at all times from the date of such re-classification failing which, he shall automatically be reclassified as promoter/ persons belonging to promoter group, as applicable;\\n(b)he shall comply with conditions mentioned at sub-clauses (iv) and (v) of clause (b) of sub-regulation 3 for a period of not less than three years from the date of such re-classification failing which, he shall automatically be reclassified as promoter/ persons belonging to promoter group, as applicable.\\n                 ',\n",
       " ' (6)In case of transmission, succession, inheritance and gift of shares held by a promoter/ person belonging to the promoter group:\\n(a)immediately on such event, the recipient of such shares shall be classified as a promoter/ person belonging to the promoter group, as applicable.\\n(b)subsequently, in case the recipient classified as a promoter/person belonging to the promoter group proposes to seek re-classification of status as public, it may do so subject to compliance with conditions specified in sub-regulation\\n(3)above.\\n(c)in case of death of a promoter/person belonging to the promoter group, such person shall automatically cease to be included as a promoter/person belonging to the promoter group.\\n                 ',\n",
       " ' (7)A listed entity shall be considered as ‘listed entity with no promoters’ if due to re- classification or otherwise, the entity does not have any promoter;\\n                 ',\n",
       " ' 32.(1) The listed entity shall submit to the stock exchange the following statement(s) on a quarterly basis for public issue, rights issue, preferential issue etc. ,-\\n(a)indicating deviations, if any, in the use of proceeds from the objects stated in the offer document or explanatory statement to the notice for the general meeting, as\\napplicable;\\n(b)indicating category wise variation (capital expenditure, sales and marketing, working capital etc.) between projected utilisation of funds made by it in its offer document or explanatory statement to the notice for the general meeting, as applicable and the actual utilisation of funds.\\n                 ',\n",
       " ' (2)The statement(s) specified in sub-regulation (1), shall be continued to be given till such time the issue proceeds have been fully utilised or the purpose for which these proceeds were raised has been achieved.\\n                 ',\n",
       " ' (5)The listed entity shall prepare an annual statement of funds utilized for purposes other than those stated in the offer document/prospectus/notice, certified by the statutory auditors of the listed entity, and place it before the audit committee till such time the full money raised through the issue has been fully utilized.\\n                 ',\n",
       " ' 66[(7A) Where an entity has raised funds through preferential allotment or qualified institutions placement, the listed entity shall disclose every year, the utilization of such funds during that year in its Annual Report until such funds are fully utilized.]\\n                 ',\n",
       " ' (8)For the purpose of this regulation, any reference to “quarterly/quarter” in case of listed entity which have listed their specified securities on SME Exchange shall respectively be read as “half yearly/half year”.\\n                 ',\n",
       " ' 33.(1) While preparing financial results, the listed entity shall comply with the following:\\n(a)The financial results shall be prepared on the basis of accrual accounting policy and shall be in accordance with uniform accounting practices adopted for all the periods.\\n(b)The quarterly and year to date results shall be prepared in accordance with the recognition and measurement principles laid down in Accounting Standard 25 or Indian Accounting Standard 31 (AS 25/ Ind AS 34 – Interim Financial Reporting), as applicable, specified in Section 133 of the Companies Act, 2013 read with relevant rules framed thereunder or as specified by the Institute of Chartered Accountants of India, whichever is applicable.\\n(c)The standalone financial results and consolidated financial results shall be\\nprepared as per Generally Accepted Accounting Principles in India:\\nProvided that in addition to the above, the listed entity may also submit the financial results, as per the International Financial Reporting Standards notified by the International Accounting Standards Board.\\n(d)The listed entity shall ensure that the limited review or audit reports submitted to the stock exchange(s) on a quarterly or annual basis are to be given only by an auditor who has subjected himself to the peer review process of Institute of Chartered Accountants of India and holds a valid certificate issued by the Peer Review Board of the Institute of Chartered Accountants of India.\\n(e)The listed entity shall make the disclosures specified in Part A of Schedule IV.\\n                 ',\n",
       " ' (3)The listed entity shall submit the financial results in the following manner:\\n(a)The listed entity shall submit quarterly and year-to-date standalone financial results to the stock exchange within forty-five days of end of each quarter, other than the last quarter.\\n(b)In case the listed entity has subsidiaries, in addition to the requirement at clause\\n(a)of sub-regulation (3), the listed entity 67[shall] also submit quarterly/year-to- date consolidated financial results 68[.]\\n69[***]\\n(c)The quarterly and year-to-date financial results may be either audited or unaudited subject to the following:\\n(i)In case the listed entity opts to submit unaudited financial results, they shall be subject to limited review by the statutory auditors of the listed entity and shall be accompanied by the limited review report.\\n67Substituted for the word “may” by the SEBI (Listing Obligations and Disclosure Requirements) (Amendment) Regulations, 2018, w.e.f. 1.4.2019.\\n68Substituted ibid for the words “subject to following:”\\n69Sub-clauses (i) and (ii) omitted by the SEBI (Listing Obligations and Disclosure Requirements) (Amendment) Regulations, 2018, w.e.f. 1.4.2019. Prior to the omission, the said sub-clauses read as follows:\\n“(i) the listed entity shall intimate to the stock exchange, whether or not listed entity opts to additionally submit quarterly/year-to-date consolidated financial results in the first quarter of the financial year and this option shall not be changed during the financial year.\\nProvided that this option shall also be applicable to listed entity that is required to prepare consolidated financial results for the first time at the end of a financial year in respect of the quarter during the financial year in which the listed entity first acquires the subsidiary.\\n(ii) in case the listed entity changes its option in any subsequent year, it shall furnish comparable figures for the previous year in accordance with the option exercised for the current financial year.”\\n38\\nProvided that in case of public sector undertakings this limited review may be undertaken by any practicing Chartered Accountant.\\n(ii)In case the listed entity opts to submit audited financial results, they shall be accompanied by the audit report.\\n(d)The listed entity shall submit [annual]70 audited standalone financial results for the financial year, within sixty days from the end of the financial year along with the audit report and [Statement on Impact of Audit Qualifications (applicable only]71 for audit report with modified opinion):\\nProvided that if the listed entity has subsidiaries, it shall, while submitting annual audited standalone financial results also submit annual audited consolidated\\nfinancial results along with the audit report and [Statement on Impact of Audit Qualifications (applicable only]72 for audit report with modified opinion)[:]73\\n[Provided further that, in case of audit reports with unmodified opinion(s), the listed entity shall furnish a declaration to that effect to the Stock Exchange(s) while publishing the annual audited financial results.]74\\n(e)The listed entity shall also submit the audited 75[or limited reviewed] financial results in respect of the last quarter along-with the results for the entire financial year, with a note stating that the figures of last quarter are the balancing figures between audited figures in respect of the full financial year and the published year- to-date figures upto the third quarter of the current financial year.\\n(f)The listed entity shall also submit as part of its standalone or consolidated financial results for the half year, by way of a note, a statement of assets and liabilities as at the end of the half-year.\\n76[(g) The listed entity shall also submit as part of its standalone and consolidated financial results for the half year, by way of a note, statement of cash flows for the half-year.\\n(h)The listed entity shall ensure that, for the purposes of quarterly consolidated financial results, at least eighty percent of each of the consolidated revenue, assets and profits, respectively, shall have been subject to audit or in case of unaudited results, subjected to limited review.\\n70Inserted by SEBI (Listing Obligations and Disclosure Requirements) (Amendment) Regulations, 2016, w.e.f. 01.04.2016.\\n71Substituted for ‘either Form A (for audit report with unmodified opinion) or Form B (’ by SEBI (Listing\\nObligations and Disclosure Requirements) (Amendment) Regulations, 2016, w.e.f. 01.04.2016\\n72Substituted for ‘either Form A (for audit report with unmodified opinion) or Form B (’ by SEBI (Listing\\nObligations and Disclosure Requirements) (Amendment) Regulations, 2016, w.e.f. 01.04.2016\\n73Substituted for the symbol ‘.’ by SEBI (Listing Obligations and Disclosure Requirements) (Amendment)\\nRegulations, 2016, w.e.f. 01.04.2016.\\n74Inserted by SEBI (Listing Obligations and Disclosure Requirements) (Amendment) Regulations, 2016, w.e.f. 01.04.2016.\\n75Inserted by the SEBI (Listing Obligations and Disclosure Requirements) (Amendment) Regulations, 2018, w.e.f. 1.4.2019.\\n76Inserted ibid.\\n39\\n(i)The listed entity shall disclose, in the results for the last quarter in the financial year, by way of a note, the aggregate effect of material adjustments made in the results of that quarter which pertain to earlier periods.]\\n                 ',\n",
       " ' (4)The applicable formats of the financial results and [Statement on Impact of Audit Qualifications (for audit report with modified opinion)]77 shall be in the manner as specified by the Board [***]78.\\n                 ',\n",
       " ' (6)The [Statement on Impact of Audit Qualifications (for audit report with modified opinion)]79 and the accompanying annual audit report submitted in terms of clause (d) of sub-regulation (3) shall be reviewed by the stock exchange(s) [***]80.\\n                 ',\n",
       " ' 34. 83[(1) The listed entity shall submit to the stock exchange and publish on its website-\\n(a)a copy of the annual report sent to the shareholders along with the notice of the annual general meeting not later than the day of commencement of dispatch to its shareholders;\\n77Substituted for ‘Form A (for audit report with unmodified opinion) & Form B (for audit report with modified opinion)’ by SEBI (Listing Obligations and Disclosure Requirements) (Amendment) Regulations, 2016, w.e.f. 01.04.2016\\n78The words ‘from time to time’ omitted by SEBI (Listing Obligations and Disclosure Requirements)\\n(Amendment) Regulations, 2016, w.e.f. 01.04.2016.\\n79Substituted for ‘Form B’ by SEBI (Listing Obligations and Disclosure Requirements) (Amendment) Regulations, 2016, w.e.f. 01.04.2016\\n80The words ‘and Qualified Audit Report Review Committee in manner as specified in Schedule VIII’ omitted by SEBI (Listing Obligations and Disclosure Requirements) (Amendment) Regulations, 2016, w.e.f. 01.04.2016.\\n81Omitted by SEBI (Listing Obligations and Disclosure Requirements) (Amendment) Regulations, 2016, w.e.f. 01.04.2016. Prior to omission, sub regulation (7) read as follows:\\n‘(7) The listed entity shall on the direction issued by the Board, carry out the necessary steps, for rectification of modified opinion and/or submission of revised pro-forma financial results, in the manner specified in Schedule\\nVIII.’\\n82Inserted by the SEBI (Listing Obligations and Disclosure Requirements) (Amendment) Regulations, 2018, w.e.f. 1.4.2019.\\n83Substituted ibid, and applicable for Annual report filed for the year ended March 31, 2019 and thereafter. Prior to the substitution, sub-regulation (1) read as follows:\\n“(1) The listed entity shall submit the annual report to the stock exchange within twenty one working days of it being approved and adopted in the annual general meeting as per the provisions of the Companies Act, 2013.”\\n40\\n(b)in the event of any changes to the annual report, the revised copy along with the details of and explanation for the changes shall be sent not later than 48 hours after the annual general meeting.]\\n(2)The annual report shall contain the following:\\n(a)audited financial statements i.e. balance sheets, profit and loss accounts etc [,and\\nStatement on Impact of Audit Qualifications as stipulated in regulation 33(3)(d), if applicable;]84\\n(b)consolidated financial statements audited by its statutory auditors;\\n(c)cash flow statement presented only under the indirect method as prescribed in Accounting Standard-3 or Indian Accounting Standard 7, as applicable, specified in Section 133 of the Companies Act, 2013 read with relevant rules framed thereunder or as specified by the Institute of Chartered Accountants of India, whichever is applicable;\\n(d)directors report;\\n(e)management discussion and analysis report - either as a part of directors report or addition thereto;\\n(f)for the top 85 [one thousand] listed entities based on market capitalization (calculated as on March 31 of every financial year), business responsibility report describing the initiatives taken by them from an environmental, social and governance perspective, in the format as specified by the Board from time to time:\\nProvided that listed entities other than top 86 [one thousand] listed companies based on market capitalization and listed entities which have listed their specified securities on SME Exchange, may include these business responsibility reports on a voluntary basis in the format as specified.\\n(3)The annual report shall contain any other disclosures specified in Companies Act, 2013 along with other requirements as specified in Schedule V of these regulations.\\nAnnual Information Memorandum.\\n                 ',\n",
       " ' 36.(1) The listed entity shall send the annual report in the following manner to the shareholders:\\n(a)Soft copies of full annual report to all those shareholder(s) who have registered their email address(es) 87 [***] 88 [either with the listed entity or with any depository];\\n84Substituted for the symbol ‘;’ by SEBI (Listing Obligations and Disclosure Requirements) (Amendment) Regulations, 2016, w.e.f. 01.04.2016.\\n85Substituted for “five hundred” by the SEBI (Listing Obligations and Disclosure Requirements) (Fifth Amendment) Regulations, 2019, w.e.f. 26.12.2019.\\n86Substituted for “five hundred” by the SEBI (Listing Obligations and Disclosure Requirements) (Fifth Amendment) Regulations, 2019, w.e.f. 26.12.2019.\\n87Words “for the purpose” omitted by the SEBI (Listing Obligations and Disclosure Requirements) (Amendment) Regulations, 2018, w.e.f. 1.4.2019.\\n88Inserted ibid, applicable for Annual report filed for the year ended March 31, 2019 and thereafter.\\n41\\n(b)Hard copy of statement containing the salient features of all the documents, as prescribed in Section 136 of Companies Act, 2013 or rules made thereunder to those shareholder(s) who have not so registered;\\n(c)Hard copies of full annual reports to those shareholders, who request for the same.\\n                 ',\n",
       " ' (5)The notice being sent to shareholders for an annual general meeting, where the statutory auditor(s) is/are proposed to be appointed/re-appointed shall include the following disclosures as a part of the explanatory statement to the notice:\\n(a)Proposed fees payable to the statutory auditor(s) along with terms of appointment and in case of a new auditor, any material change in the fee payable to such auditor from that paid to the outgoing auditor along with the rationale for such change;\\n(b)Basis of recommendation for appointment including the details in relation to and credentials of the statutory auditor(s) proposed to be appointed.]\\nDraft Scheme of Arrangement & Scheme of Arrangement.\\n                 ',\n",
       " ' (2)The listed entity shall not file any scheme of arrangement under sections 391-394 and 101 of the Companies Act, 1956 or under Sections 230-234 and Section 66 of Companies Act, 2013 ,whichever applicable, with any Court or Tribunal unless it has obtained observation letter or No-objection letter from the stock exchange(s).\\n                 ',\n",
       " ' 91[(6) Nothing contained in this regulation shall apply to draft schemes which solely provide for merger of a wholly owned subsidiary with its holding company:\\n Provided that such draft schemes shall be filed with the stock exchanges for the purpose of disclosures.]\\n                 ',\n",
       " ' 38.The listed entity shall comply with the minimum public shareholding requirements specified in Rule 19(2) and Rule 19A of the Securities Contracts (Regulation) Rules,\\n                 ',\n",
       " ' 39.(1) The listed entity shall comply with Rule 19(3) of Securities Contract (Regulations) Rules, 1957 in respect of Letter/Advices of Allotment, Acceptance or Rights, transfers,\\n                 ',\n",
       " ' (2)The listed entity shall issue certificates or receipts or advices, as applicable, of subdivision, split, consolidation, renewal, exchanges, endorsements, issuance of duplicates thereof or issuance of new certificates or receipts or advices, as applicable, in cases of loss or old decrepit or worn out certificates or receipts or advices, as applicable within a period of thirty days from the date of such lodgement.\\n                 ',\n",
       " ' (4)The listed entity shall not register transfer when any statutory prohibition or any attachment or prohibitory order of a competent authority restrains it from transferring the securities f r om the name of the transferor(s).\\n                 ',\n",
       " ' (5)The listed entity shall not register the transfer of its securities in the name of the transferee(s) when the transferor(s) objects to the transfer:\\n Provided that the transferor serves on the listed entity, within sixty working days of raising the objection, a prohibitory order of a Court of competent jurisdiction.\\n                 ',\n",
       " ' (9)The listed entity shall ensure that the share transfer agent and/or the in-house share transfer facility, as the case may be, produces a certificate from a practicing company secretary within one month of the end of each half of the financial year, certifying that all certificates have been issued within thirty days of the date of lodgement for transfer, sub- division, consolidation, renewal, exchange or endorsement of calls/allotment monies.\\n                 ',\n",
       " ' (4)The listed entity shall, issue or offer in the first instance all shares (including forfeited shares), securities, rights, privileges and benefits to subscribe pro rata basis , to the equity shareholders of the listed entity, unless the shareholders in the general meeting decide otherwise.\\n                 ',\n",
       " ' 96[Other provisions relating to outstanding SR equity shares.\\n41A (1) The SR equity shares shall be treated at par with the ordinary equity shares in every respect, including dividends, except in the case of voting on resolutions.\\n(2)The total voting rights of SR shareholders (including ordinary shares) in the issuer upon listing, pursuant to an initial public offer, shall not at any point of time exceed seventy four per cent.\\n(3)The SR equity shares shall be treated as ordinary equity shares in terms of voting rights (i.e. one SR share shall only have one vote) in the following circumstances -\\ni.appointment or removal of independent directors and/or auditor;\\nii.where a promoter is willingly transferring control to another entity;\\niii.related party transactions in terms of these regulations involving an SR shareholder;\\niv.voluntary winding up of the listed entity;\\nv.changes to the Articles of Association or Memorandum of Association of the listed entity, except any change affecting the SR equity share;\\nvi.initiation of a voluntary resolution process under the Insolvency Code;\\nvii.utilization of funds for purposes other than business;\\n95 Substituted by the SEBI (Listing Obligations and Disclosure Requirements) (Fourth Amendment) Regulations, 2019, w.e.f. 29.7.2019. Prior to its substitution, sub-regulation (3) read as follows,-\\n“(3) The listed entity shall not issue shares in any manner which may confer on any person, superior rights as to voting or dividend vis-à-vis the rights on equity shares that are already listed.”\\n96Inserted by the SEBI (Listing Obligations and Disclosure Requirements) (Fourth Amendment) Regulations, 2019, w.e.f. 29.7.2019.\\n46\\nviii.substantial value transaction based on materiality threshold as specified under these regulations;\\nix.passing of special resolution in respect of delisting or buy-back of shares; and\\nx.other circumstances or subject matter as may be specified by the Board, from time to time.\\n(4)The SR equity shares shall be converted into equity shares having voting rights same as that of ordinary shares on the fifth anniversary of listing of ordinary shares of the listed entity: Provided that the SR equity shares may be valid for upto an additional five years, after a resolution to that effect has been passed, where the SR shareholders have not been permitted to vote:\\nProvided further that the SR shareholders may convert their SR equity shares into ordinary equity shares at any time prior to the period as specified in this sub-regulation.\\n(5)The SR equity shares shall be compulsorily converted into equity shares having voting rights same as that of ordinary shares on the occurrence of any of the following events -\\ni.demise of the promoter(s) or founder holding such shares;\\nii.an SR shareholder resigns from the executive position in the listed entity;\\niii.merger or acquisition of the listed entity having SR shareholder/s, where the control would no longer remain with the SR shareholder/s;\\niv.the SR equity shares are sold by an SR shareholder who continues to hold such shares after the lock-in period but prior to the lapse of validity of such SR equity shares.]\\nRecord Date or Date of closure of transfer books.\\n                 ',\n",
       " \" is listed for the following purposes:\\n(a)declaration of dividend;\\n(b)issue of right or bonus shares;\\n(c)issue of shares for conversion of debentures or any other convertible security;\\n(d)shares arising out of rights attached to debentures or any other convertible security\\n(e)corporate actions like mergers, de-mergers, splits and bonus shares, where stock derivatives are available on the stock of listed entity or where listed entity's stocks form part of an index on which derivatives are available;\\n(f)such other purposes as may be specified by the stock exchange(s).\\n                \",\n",
       " ' (2)The listed entity shall give notice in advance of atleast seven working days (excluding the date of intimation and the record date) to stock exchange(s) of record date specifying the purpose of the record date:\\n                 ',\n",
       " ' (3)The listed entity shall recommend or declare all dividend and/or cash bonuses at least five working days (excluding the date of intimation and the record date) before the record date fixed for the purpose.\\n                 ',\n",
       " ' 43.(1) The listed entity shall declare and disclose the dividend on per share basis only.\\n                 ',\n",
       " ' (2)The listed entity shall not forfeit unclaimed dividends before the claim becomes barred by law and such forfeiture, if effected, shall be annulled in appropriate cases.\\n                 ',\n",
       " ' 98[Dividend Distribution Policy.\\n43A (1) The top five hundred listed entities based on market capitalization (calculated as on March 31 of every financial year) shall formulate a dividend distribution policy which shall be disclosed in their annual reports and on their websites.\\n(2)The dividend distribution policy shall include the following parameters:\\n(a)the circumstances under which the shareholders of the listed entities may or may not expect dividend;\\n(b)the financial parameters that shall be considered while declaring dividend;\\n(c)internal and external factors that shall be considered for declaration of dividend;\\n(d)policy as to how the retained earnings shall be utilized; and\\n(e)parameters that shall be adopted with regard to various classes of shares:\\nProvided that if the listed entity proposes to declare dividend on the basis of parameters in addition to clauses (a) to (e) or proposes to change such additional parameters or the dividend distribution policy contained in any of the parameters, it shall disclose such changes along with the rationale for the same in its annual report and on its website.\\n(3)The listed entities other than top five hundred listed entities based on market capitalization may disclose their dividend distribution policies on a voluntary basis in their annual reports and on their websites.]\\n                 ',\n",
       " \" 44.(1) The listed entity shall provide the facility of remote e-voting facility to its shareholders, in respect of all shareholders' resolutions.\\n                 \",\n",
       " ' 100[(5) The top 100 listed entities by market capitalization, determined as on March 31st of every financial year, shall hold their annual general meetings within a period of five months from the date of closing of the financial year.\\n                 ',\n",
       " ' (6)The top 100 listed entities shall provide one-way live webcast of the proceedings of the annual general meetings.\\n                 ',\n",
       " ' (2)On satisfaction of conditions at sub-regulation (1), the listed entity shall file an application for name availability with Registrar of Companies.\\n                 ',\n",
       " ' 46.(1) The listed entity shall maintain a functional website containing the basic information about the listed entity.\\n                 ',\n",
       " ' (2)The listed entity shall disseminate the following information 101[under a separate section on its website]:\\n(a)details of its business;\\n(b)terms and conditions of appointment of independent directors;\\n(c)composition of various committees of board of directors;\\n(d)code of conduct of board of directors and senior management personnel;\\n(e)details of establishment of vigil mechanism/ Whistle Blower policy;\\n(f)criteria of making payments to non-executive directors , if the same has not been disclosed in annual report;\\n(g)policy on dealing with related party transactions;\\n(h)policy for determining ‘material’ subsidiaries;\\n(i)details of familiarization programmes imparted to independent directors including the following details:-\\n(i)number of programmes attended by independent directors (during the year and\\non a cumulative basis till date),\\n(ii)number of hours spent by independent directors in such programmes (during the year and on cumulative basis till date), and\\n(iii)other relevant details\\n(j)the email address for grievance redressal and other relevant details;\\n(k)contact information of the designated officials of the listed entity who are responsible for assisting and handling investor grievances;\\n(l)financial information including:\\n(i)notice of meeting of the board of directors where financial results shall be discussed;\\n(ii)financial results, on conclusion of the meeting of the board of directors where the financial results were approved;\\n(iii)complete copy of the annual report including balance sheet, profit and loss account, directors report, corporate governance report etc;\\n(m)shareholding pattern;\\n(n)details of agreements entered into with the media companies and/or their associates, etc;\\n(o)schedule of analyst or institutional investor meet and presentations made by the listed entity to analysts or institutional investors simultaneously with submission to stock exchange;\\n(p)new name and the old name of the listed entity for a continuous period of one year, from the date of the last name change;\\n(q)items in sub-regulation (1) of regulation 47 .\\n102[(r) With effect from October 1, 2018, all credit ratings obtained by the entity for all its outstanding instruments, updated immediately as and when there is any revision in any of the ratings.\\n(s)separate audited financial statements of each subsidiary of the listed entity in respect of a relevant financial year, uploaded at least 21 days prior to the date of the annual general meeting which has been called to inter alia consider accounts of that financial year.]\\n                 ',\n",
       " ' (2)The provisions of this chapter shall also be applicable to “perpetual debt instrument” and \"perpetual non-cumulative preference share” listed by banks.\\n                 ',\n",
       " ' [Provided that, in case of audit reports with unmodified opinion, the listed entity shall furnish a declaration to that effect to the Stock Exchange(s) while publishing the annual audited financial results.]107\\n(b)The [Statement on Impact of Audit Qualifications (for audit report with modified opinion]108 and the accompanying annual audit report submitted in terms of clause (a) shall be reviewed by the stock exchange(s) [***]109.\\n(c)[***]110\\n(d)The applicable [format]111 of [Statement on Impact of Audit Qualifications (for audit\\nreport with modified opinion)]112 shall be [in the manner as]113 specified by the Board [***]114.\\n                 ',\n",
       " ' (4)The listed entity, while submitting half yearly / annual financial results, shall disclose the following line items along with the financial results:\\n                 ',\n",
       " ' ‘The listed entity shall on the direction issued by the Board, carry out the necessary steps, for rectification of modified opinion and/or submission of revised pro-forma financial results, in the manner specified in Schedule\\n                 ',\n",
       " ' 54\\n(a)credit rating and change in credit rating (if any);\\n(b)asset cover available, in case of non convertible debt securities;\\n(c)debt-equity ratio;\\n(d)previous due date for the payment of interest/ dividend for non-convertible redeemable preference shares/ repayment of principal of non-convertible preference shares /non convertible debt securities and whether the same has been paid or not; and,\\n(e)next due date for the payment of interest/ dividend of non-convertible preference shares /principal along with the amount of interest/ dividend of non-convertible preference shares payable and the redemption amount;\\n(f)debt service coverage ratio;\\n(g)interest service coverage ratio;\\n(h)outstanding redeemable preference shares (quantity and value);\\n(i)capital redemption reserve/debenture redemption reserve;\\n(j)net worth;\\n(k)net profit after tax;\\n(l)earnings per share:\\nProvided that the requirement of disclosures of debt service coverage ratio, asset cover and interest service coverage ratio shall not be applicable for banks or non banking financial companies registered with the Reserve Bank of India.\\nProvided further that the requirement of this sub- regulation shall not be applicable in case of unsecured debt instruments issued by regulated financial sector entities eligible for meeting capital requirements as specified by respective regulators.\\n                 ',\n",
       " ' 53.The annual report of the listed entity shall contain disclosures as specified in Companies Act, 2013 along with the following:\\n(a)audited financial statements i.e. balance sheets, profit and loss accounts etc [, and Statement on Impact of Audit Qualifications as stipulated in regulation 52(3)(a), if applicable;]116\\n(b)cash flow statement presented only under the indirect method as prescribed in Accounting Standard-3/ Indian Accounting Standard 7, mandated under Section 133 of the Companies Act, 2013 read with relevant rules framed thereunder or by the Institute of Chartered Accountants of India, whichever is applicable;\\n(c)auditors report;\\n(d)directors report;\\n(e)name of the debenture trustees with full contact details ;\\n(f)related party disclosures as specified in Para A of Schedule V.\\nAsset Cover.\\n                 ',\n",
       " ' 54.(1) In respect of its listed non-convertible debt securities, the listed entity shall maintain hundred per cent. asset cover sufficient to discharge the principal amount at all times for the non-convertible debt securities issued.\\n                 ',\n",
       " ' (2)The listed entity shall disclose to the stock exchange in quarterly, half-yearly, year- to-date and annual financial statements, as applicable, the extent and nature of security created and maintained with respect to its secured listed non-convertible debt securities.\\n                 ',\n",
       " \" 56.(1) The listed entity shall forward the following to the debenture trustee promptly:\\n(a)a copy of the annual report at the same time as it is issued along with a copy of certificate from the listed entity's auditors in respect of utilisation of funds during the implementation period of the project for which the funds have been raised:\\nProvided that in the case of debentures or preference shares issued for financing working capital or general corporate purposes or for capital raising purposes the copy of the auditor's certificate may be submitted at the end of each financial year till the funds have been fully utilised or the purpose for which these funds were intended has been achieved.\\n(b)a copy of all notices, resolutions and circulars relating to-\\n(i)new issue of non convertible debt securities at the same time as they are sent to shareholders/ holders of non convertible debt securities;\\n(ii)the meetings of holders of non-convertible debt securities at the same time as they are sent to the holders of non convertible debt securities or advertised in the media including those relating to proceedings of the meetings;\\n(c)intimations regarding :\\n(i)any revision in the rating;\\n(ii)any default in timely payment of interest or redemption or both in respect of the non convertible debt securities;\\n(iii)failure to create charge on the assets;\\n(d)a half-yearly certificate regarding maintenance of hundred percent. asset cover in respect of listed non convertible debt securities, by either a practicing company secretary or a practicing chartered accountant, along with the half yearly financial results:\\nProvided that submission of such half yearly certificates is not applicable in cases where a listed entity is a bank or non banking financial companies registered with Reserve Bank of India or where bonds are secured by a Government guarantee.\\n                 \",\n",
       " ' 58.(1) The listed entity shall send the following documents:\\n(a)Soft copies of full annual reports to all the holders of non convertible preference share who have registered their email address(es) for the purpose;\\n(b)Hard copy of statement containing the salient features of all the documents, as specified in Section 136 of Companies Act, 2013 and rules made thereunder to those holders of non convertible preference share who have not so registered;\\n(c)Hard copies of full annual reports to those holders of non convertible debt securities and non convertible preference share, who request for the same.\\n(d)Half yearly communication as specified in sub-regulation (4) and (5) of regulation 52, to holders of non convertible debt securities and non convertible preference shares;\\n                 ',\n",
       " ' 59.(1) The listed entity shall not make material modification without prior approval of the stock exchange(s) where the non convertible debt securities or non-convertible redeemable preference shares, as applicable, are listed, to :\\n(a)the structure of the debenture in terms of coupon, conversion, redemption, or otherwise.\\n(b)the structure of the non-convertible redeemable preference shares in terms of dividend of non-convertible preference shares payable, conversion, redemption, or otherwise.\\n                 ',\n",
       " ' (2)The listed entity shall not forfeit unclaimed interest/dividend and such unclaimed interest/dividend shall be transferred to the ‘Investor Education and Protection Fund’ set up as per Section 125 of the Companies Act, 2013.\\n                 ',\n",
       " ' 62.(1) The listed entity shall maintain a functional website containing the following information about the listed entity:-\\n(a)details of its business;\\n(b)financial information including complete copy of the annual report including balance sheet, profit and loss account, directors report etc;\\n(c)contact information of the designated officials of the listed entity who are responsible for assisting and handling investor grievances;\\n(d)email address for grievance redressal and other relevant details;\\n(e)name of the debenture trustees with full contact details;\\n(f)the information, report, notices, call letters, circulars, proceedings, etc concerning non-convertible redeemable preference shares or non convertible debt securities;\\n(g)all information and reports including compliance reports filed by the listed entity;\\n(h)information with respect to the following events:\\n(i)default by issuer to pay interest on or redemption amount;\\n(ii)failure to create a charge on the assets;\\n(iii)revision of rating assigned to the non convertible debt securities:\\n                 ',\n",
       " ' 63.(1) Entity which has listed its ‘specified securities’ and ‘non-convertible debt securities’ or ‘non-convertible redeemable preference shares’ or both on any recognised stock exchange, shall be bound by the provisions in Chapter IV of these regulations.\\n                 ',\n",
       " ' (2)The listed entity described in sub-regulation (1) shall additionally comply with the following regulations in Chapter V:\\n(a)regulation 50(2),(3);\\n(b)regulation 51;\\n(c)regulation 52(3), (4), (5) and (6);\\n(d)regulation 53\\n(e)regulation 54\\n(f)regulation 55\\n(g)regulation 56\\n(h)regulation 57\\n(i)regulation 58\\n(j)regulation 59\\n(k)regulation 60\\n(l)regulation 61:\\nProvided that the listed entity which has submitted any information to the stock exchange in compliance with the disclosure requirements under Chapter IV of these regulations, need not re-submit any such information under the provisions of this regulations without prejudice to any power conferred on the Board or the stock exchange or any other authority under any law to seek any such information from the listed entity:\\nProvided further that the listed entity, which has satisfied certain obligations in compliance with other chapters, shall not separately satisfy the same conditions under this chapter.\\nDelisting.\\n                 ',\n",
       " ' 65.The provisions of this chapter shall apply to listed entity whose securities market regulators are signatories to the Multilateral Memorandum of Understanding of International Organization of Securities Commission issuing ‘Indian Depository Receipts’ as defined under Rule 13 of the Companies (Registration of Foreign Companies) Rules, 2014.\\n                 ',\n",
       " ' 66.For the purpose of this chapter , unless the context otherwise requires -\\n(a)“IDR Holder(s)” shall mean holder(s) of Indian Depository Receipts.\\n(b)“Depository Agreement” shall mean an agreement between the listed entity and the domestic depository\\n(c)“Home Country” or “country of origin” shall mean the country or parent country where the listed entity is incorporated and listed.\\n(d)“Security holder” shall mean holder of the security or equity shares of the listed entity in the home country.\\nGeneral Obligations of listed entity.\\n                 ',\n",
       " ' 67.(1) All correspondences filed with the stock exchange(s) and those sent to the IDR Holders shall be in English.\\n                 ',\n",
       " ' (3)The listed entity shall undertake that the competent Courts, Tribunals and regulatory authorities in India shall have jurisdiction in the event of any dispute, either with the stock exchange or any investor, concerning the India Depository Receipts offered or subscribed or bought in India.\\n                 ',\n",
       " ' (2)The listed entity shall file the following details with the stock exchange as is required to be filed in compliance with the disclosure requirements of the listing authority or stock exchange in its home country or any other jurisdiction where the securities of the listed entity are listed:\\n(a)Shareholding Pattern;\\n(b)Pre and post arrangement share holding pattern and Capital Structure in case of any corporate restructuring like mergers / amalgamations\\nPeriodical Financial Results.\\n                 ',\n",
       " ' (2)The annual report shall contain the following:\\n(a)Report of board of directors;\\n(b)Balance Sheet;\\n(c)Profit and Loss Account;\\n(d)Auditors Report;\\n(e)All periodical and special reports( if applicable);\\n(f)Any such other report which is required to be sent to security holders annually.\\n                 ',\n",
       " ' 73.The listed entity shall disclose/send the following documents to IDR Holders, at the same time and to the extent that it discloses to security holders in its home country or in other jurisdictions where its securities are listed:\\n(a)Soft copies of the annual report to all the IDR holders who have registered their email address(es) for the purpose\\n(b)Hard copy of the annual report to those IDR holders who request for the same either through domestic depository or Compliance Officer\\n(c)the pre and post arrangement capital structure and share holding pattern in case of any corporate restructuring like mergers / amalgamations and other schemes\\nEquitable Treatment to IDR Holders.\\n                 ',\n",
       " ' (3)In case of take-over or delisting or buy-back of its equity shares, the listed entity shall, while following the laws applicable in its home country, give equitable treatment to IDR holders vis-à-vis security holder in home country.\\n                 ',\n",
       " ' (4)The listed entity shall ensure protection of interests of IDR holders particularly with respect to all corporate benefits permissible under Indian laws and the laws of its home country and shall address all investor grievances adequately.\\n                 ',\n",
       " ' 75.(1)The listed entity shall publish the following information in the newspaper :\\n(a)periodical financial results required to be disclosed;\\n(b)Notices given to its IDR Holders by advertisement;\\n                 ',\n",
       " ' (2)The information specified in sub-regulation (1) shall be issued in at one English national daily newspaper circulating in the whole or substantially the whole of India and in one Hindi national daily newspaper in India.\\n                 ',\n",
       " ' (2)The listed entity shall not forfeit unclaimed dividends before the claim becomes barred by law in the home country of the listed entity, as may be applicable, and that such forfeiture, when effected, shall be annulled in appropriate cases.\\n                 ',\n",
       " ' (3)The Indian Depository Receipts shall have two-way fungibility in the manner specified by the Board from time to time.\\n                 ',\n",
       " ' 79.(1) The listed entity shall, either directly or through an agent, send out proxy forms to IDR Holders in all cases mentioning that a security holder may vote either for or against each resolution.\\n                 ',\n",
       " ' (2)Voting rights of the IDR Holders shall be exercised in accordance with the depository agreement.\\n                 ',\n",
       " ' 80.(1) The listed entity shall, if it decides to delist Indian Depository Receipts, give fair and reasonable treatment to IDR holders.\\n                 ',\n",
       " ' (3)The listed entity shall, in case underlying equity shares are delisted, shall delist and cancel the Indian Depository Receipts.\\n                 ',\n",
       " ' 81.(1) The provisions of this chapter shall apply to Special Purpose Distinct Entity issuing securitised debt instruments and trustees of Special Purpose Distinct Entity shall ensure compliance with each of the provisions of these regulations.\\n                 ',\n",
       " ' 82.(1) The listed entity shall intimate the Stock exchange, of its intention to issue new securitized debt instruments either through a public issue or on private placement basis (if it proposes to list such privately placed debt securities on the Stock exchange) prior to issuing such securities.\\n                 ',\n",
       " ' (4)The listed entity shall provide the stock exchange, either by itself or through the servicer, loan level information, without disclosing particulars of individual borrowers, in manner specified by stock exchange.\\n                 ',\n",
       " ' 84.(1) Every rating obtained by the listed entity with respect to securitised debt instruments shall be periodically reviewed, preferably once a year, by a credit rating agency registered by the Board.\\n                 ',\n",
       " ' (2) Any revision in rating(s) shall be disseminated by the stock exchange(s).\\n                 ',\n",
       " ' 85.(1) The listed entity shall provide either by itself or through the servicer, loan level information without disclosing particulars of individual borrower to its investors.\\n                 ',\n",
       " ' (4)The listed entity shall display the email address of the grievance redressal division and other relevant details prominently on its website and in the various materials / pamphlets/ advertisement campaigns initiated by it for creating investor awareness.\\n                 ',\n",
       " ' (2) The listed entity shall ensure timely interest/ redemption payment.\\n                 ',\n",
       " ' (3)The listed entity shall ensure that where credit enhancement has been provided for, it shall make credit enhancement available for listed securitized debt instruments at all times.\\n                 ',\n",
       " ' (2)The expressions “asset reconstruction company”, \"investor\", “issue”, “issuer”, “offer for sale”, “private placement offer”, “qualified buyer”, \"scheme\", “security receipts”, \"sponsor\", and “valuer” shall have the same meaning as assigned to them under Securities and Exchange\\n                 ',\n",
       " ' (4)The listed entity, suo moto, may confirm or deny any reported event or information to stock exchange(s).\\n                 ',\n",
       " ' 87C. (1) An issuer whose security receipts are listed on a stock exchange shall ensure that:\\n(i)the listed security receipts are valued at the end of each quarter i.e. as on March 31, June 30, September 30 and December 31 of every year;\\n(ii)valuation is conducted by an independent valuer; and\\n(iii)the net asset value is calculated on the basis of such independent valuation and the same is declared by the asset reconstruction company within fifteen days of the end of the quarter.\\n                 ',\n",
       " ' (2)The issuer shall also comply with the extant Reserve Bank of India requirement of obtaining credit rating of security receipts at half yearly interval and declaration of the net asset value thereafter and/or any other requirement as prescribed by the Reserve Bank of India from time to time.\\n Provided that in those two quarters in a year, where both external valuation and credit rating are required, issuer shall disclose lower of the two calculated Net Asset Value.\\n                 ',\n",
       " ' 88.(1)The provisions of this chapter shall apply to the asset management company managing the mutual fund scheme whose units are listed on the recognised stock exchange(s).\\n                 ',\n",
       " ' 92.(1) Upon receipt of relevant intimations, information, filings, reports, statements, documents or any other submissions in terms of these regulations, from the listed entity the recognised stock exchange(s) shall immediately disseminate the same on its website.\\n                 ',\n",
       " ' (2)The disseminations by the recognised stock exchange(s) as mentioned in sub-regulation\\n(1)shall be made in organised, user friendly and easily referable manner including by providing hyperlinks for easy accessibility.\\nTransferability.\\n                 ',\n",
       " ' 93.The recognised stock exchange(s) shall coordinate with Depositories to ensure compliance with the applicable laws or directions of the Board or any competent court with regard to freezing / unfreezing, lock-in/ release of lock-in with respect to securities issued or managed by the listed entity.\\n                 ',\n",
       " ' (2)The stock exchange(s) shall submit to the Board its Objection Letter or No- Objection Letter on the draft scheme of arrangement after inter-alia ascertaining whether the draft scheme of arrangement is in compliance with securities laws within thirty days of receipt of draft scheme of arrangement or within seven days of date of receipt of satisfactory reply on clarifications from the listed entity and/or opinion from independent chartered accountant, if any, sought by stock exchange(s), as applicable.\\n                 ',\n",
       " ' (3)The stock exchange(s), shall issue Observation Letter or No-objection letter to the listed entity within seven days of receipt of comments from the Board, after suitably incorporating such comments in the Observation Letter or No-objection letter:\\n Provided that the validity of the ‘Observation Letter’ or No-objection letter of stock exchanges shall be six months from the date of issuance.\\n                 ',\n",
       " ' 95.The recognised stock exchange(s) shall review the Statement on Impact of Audit Qualifications and the accompanying annual audit report submitted in terms of clause\\n(d)of sub-regulation (3) of regulation 33 and clause (a) of sub-regulation (3) of regulation 52.]119\\nGrievance Redressal.\\n                 ',\n",
       " ' 99A. (1) The Board may, exempt any person or class of persons from the operation of all or any of the provisions of these regulations for a period as may be specified but not exceeding twelve months, for furthering innovation in technological aspects relating to testing new products, processes, services, business models, etc. in live environment of regulatory sandbox in the securities markets.\\n                 ',\n",
       " ' 101.(1) In order to remove any difficulties in the application or interpretation of these regulations, the Board may issue clarifications through guidance notes or circulars after recording reasons in writing.\\n                 ',\n",
       " ' (2)In particular, and without prejudice to the generality of the foregoing power, such guidance notes or circulars may provide for all or any of the following matters, namely:\\n(a)procedural aspects including intimation to be given, documents to be submitted;\\n(b)disclosure requirements;\\n(c)listing conditions.\\nPower to relax strict enforcement of the regulations.\\n                 ',\n",
       " ' 102.[(1)]121 The Board may in the interest of investors and securities market and for the development of the securities market, relax the strict enforcement of any requirement of these regulations, if the Board is satisfied that:\\n(a)any provision of Act(s), Rule(s), regulation(s) under which the listed entity is established or is governed by, is required to be given precedence to; or\\n(b)the requirement may cause undue hardship to investors; or\\n(c)the disclosure requirement is not relevant for a particular industry or class of listed entities; or\\n(d)the requirement is technical in nature; or\\n(e)the non-compliance is caused due to factors affecting a class of entities but being beyond the control of the entities.\\n122[(2) For seeking relaxation under sub-regulation (1), an application, giving details and the grounds on which such relaxation has been sought, shall be filed with the Board.\\n(3)The application referred to under sub-regulation (2) shall be accompanied by a non- refundable fee of rupees one lakh payable by way of direct credit in the bank account through NEFT/ RTGS/ IMPS or any other mode allowed by Reserve Bank of India or by way of a demand draft in favour of the Board payable in Mumbai.]\\nRepeal and Savings\\n                 ',\n",
       " ' 103.(1) On and from the commencement of these regulations, all circulars stipulating or modifying the provisions of the listing agreements including those specified in Schedule X, shall stand rescinded.\\n                 ',\n",
       " ' 110.The stock exchange(s) shall grant in-principle approval/list the securities or reject the application for in-principle approval /listing by the issuer or issuing company, as the case maybe, within thirty days from the later of the following dates:\\n(a)the date of receipt of application for in-principle approval/listing from issuer or the issuing company, as the case may be,;\\n(b)the date of receipt of satisfactory reply from the issuer or the issuing company, as the case may be, in cases where the stock exchange(s) has sought any clarification from them.\"\\n109\\n(xi)In Schedule VIII, in part E in clause 5, in item XVI, after sub-item B and before sub-item C, the following sub-item shall be inserted, namely:-\\n\"(BA) Dealing with Fractional Entitlement: Manner of dealing with fractional entitlement viz. payment of the equivalent of the value, if any, of the fractional rights in cash etc.\"\\n(xii)In Schedule XIX, in part A, in item 13, after sub-item(e), the following sub-item shall be inserted, namely:-\\n\"(f) Different classes of shares based on different criteria, if any.\"\\n(xiii)In Schedule XIX, in part A, in item 14, before sub-item (a), the following general instructions shall be inserted, namely:-\\nGeneral Instructions:\\n(1)The format of disclosure of financial results may be as per the disclosure requirements of the issuing company in the home country where the Issuing Company is listed.\\n(2)The issuing company shall intimate to the investors in the offer document the type of disclosures that it will follow i.e. whether as per Indian GAAP, IFRS or US GAAP and any change in such format shall be informed to the IDR Holders by way of notices to the stock exchange.\\n(xiv)In Schedule XIX, in Part B, in item 2, after sub-item (d), the following sub-item shall be inserted, namely:-\\n\"(e) Different classes of shares based on different criteria, if any.\"\\n(xv)In Schedule XX in the reference title the number “110” shall be substituted, with the number “114”.\\n                 ',\n",
       " ' 110\\n(ii)After regulation 19 and before regulation 20, the following regulations shall be inserted, namely:-\\n\"Listing Agreement.\\n                 ',\n",
       " ' 16A. (1) Every issuer desirous of listing its non-convertible redeemable preference shares, or perpetual non-cumulative preference shares or innovative perpetual debt instruments on a recognised stock exchange, shall execute an agreement with such stock exchange.\\n                 ',\n",
       " ' (3)The amount stipulated in sub-regulation (1) shall be refundable or forfeitable in the manner specified by the Board.”\\n(ii)In regulation 20, sub-regulations (2) and (3) shall be omitted.\\n(iii)In Schedule I, in para. III, in sub-para (ii), under the heading “Delay in Dispatch of Allotment Letters or Refund Orders” after the word and sign \"closure.\" and before the words\\n\"The issuer further agrees\", the following shall be inserted, namely:-\\n\"Issuer agrees that credit to demat accounts of the allottees shall be made within two working days from the date of allotment.\"\\n                 ',\n",
       " ' 35A. (1) Every special purpose distinct entity desirous of listing securitised debt instruments on a recognised stock exchange, shall execute an agreement with such stock exchange.\\n                 ',\n",
       " ' (3)The amount stipulated in sub-regulation (1) shall be refundable or forfeitable in the manner specified by the Board.\"\\n(iii) In regulation 36, sub-regulation (3) shall be substituted with the following, namely:- \"(3) In case of a private placement of securitised debt instruments, the special purpose distinct entity shall file listing particulars with the recognised stock exchange, along with the application made under sub-regulation (1) of regulation 35, containing such information as may be necessary for any investor in the secondary market to make an\\n112\\ninformed investment decision in respect of its securitised debt instruments and the special purpose distinct entity shall promptly disseminate such information, as prescribed, in such manner as the recognised stock exchange(s) may determine from time to time \".\\n(iv)For regulation 37, the following shall be substituted, namely:-\\n“Continuous listing conditions.\\n                 ',\n",
       " ' 12[Provided further that, acquisition pursuant to a resolution plan approved under section 31 of the Insolvency and Bankruptcy Code, 2016 [No. 31 of 2016] shall be exempt from the obligation under the proviso to the sub-regulation (2) of regulation 3.]\\n                 ',\n",
       " ' (3)Shares acquired through bonus issue or stock splits shall not be considered for purposes of the dis-entitlement set out in this regulation.\\n                 ',\n",
       " ' (4)In the event the shares accepted in the open offer were such that the shareholding of the acquirer taken together with persons acting in concert with him pursuant to completion of the open offer results in their shareholding exceeding the maximum permissible non-public shareholding, the acquirer shall be required to bring down the non-public shareholding to the level specified and within the time permitted under Securities Contract (Regulation) Rules, 1957.\\n                 ',\n",
       " ' (9)The price parameters under sub-regulation (2) and sub-regulation (3) may be adjusted by the acquirer in consultation with the manager to the offer, for corporate actions such as issuances pursuant to rights issue, bonus issue, stock consolidations, stock splits, payment of dividend, de-mergers and reduction of capital, where the\\n Page 19 of 69\\n                 ',\n",
       " ' (11)Where the open offer is subject to a minimum level of acceptances, the acquirer may, subject to the other provisions of this regulation, indicate a lower price, which will not be less than the price determined under this regulation, for acquiring all the acceptances despite the acceptance falling short of the indicated minimum level of acceptance, in the event the open offer does not receive the minimum acceptance.\\n                 ',\n",
       " ' (13)The offer price for partly paid up shares shall be computed as the difference between the offer price and the amount due towards calls-in-arrears including calls remaining unpaid with interest, if any, thereon.\\n                 ',\n",
       " '  Provided further that in respect of acquisition by way of purchase of shares from the lenders, the acquisition shall be exempted subject to the compliance with the following conditions:\\n(a)the guidelines for determining the purchase price have been specified by the Reserve Bank of India and that the purchase price has been determined in accordance with such guidelines;\\n(b)the purchase price shall be certified by two independent qualified valuers, and for this purpose ‘valuer’ shall be a person who is registered under section 247 of the Companies Act, 2013 and the relevant Rules framed thereunder:\\nProvided that till such date on which section 247 of the Companies Act, 2013 and the relevant Rules come into force, valuer shall mean an independent merchant banker registered with the Board or an independent chartered accountant in practice having a minimum experience of ten years;\\n(c)the specified securities so purchased shall be locked-in for a period of at least three years from the date of purchase;\\n(d)the lock-in of equity shares acquired pursuant to conversion of convertible securities purchased from the lenders shall be reduced to the extent the convertible securities have already been locked-in;\\n(e)a special resolution has been passed by shareholders of the issuer before the purchase;\\n(f)the issuer shall, in addition to the disclosures required under the Companies Act, 2013 or any other applicable law, disclose the following information pertaining to the proposed acquirer(s) in the explanatory statement to the notice for the general meeting proposed for passing special resolution as stipulated at clause (e) of this sub-regulation:\\na.the identity including of the natural persons who are the ultimate beneficial owners of the shares proposed to be purchased and/ or who ultimately control the proposed acquirer(s);\\nb.the business model;\\nc.a statement on growth of business over the period of time;\\nd.summary of audited financials of previous three financial years;\\ne.track record in turning around companies, if any;\\nf.the proposed roadmap for effecting turnaround of the issuer;\\ng.applicable provisions of the Companies Act, 2013 are complied with.”\\n39Inserted by the SEBI(Substantial Acquisition of Shares and Takeovers) (Fourth Amendment) Regulations, 2015, w.e.f. 22-12-2015.\\n40Omitted by the SEBI (Substantial Acquisition of Shares and Takeovers) (Amendment) Regulations, 2019, w.e.f 29.03.2019. Prior to its omission, sub-regulation (2) read as follows,-\\n“The acquisition of shares of a target company, not involving a change of control over such target company, pursuant to a scheme of corporate debt restructuring in terms of the Corporate Debt Restructuring Scheme notified by the Reserve Bank of India vide circular no. B.P.BC 15/21.04,\\n114/2001 dated August 23, 2001, or any modification or re-notification thereto provided such Page 30 of 69\\n41[(2A) An increase in the voting rights of any shareholder beyond the threshold limits stipulated in sub-regulations (1) and (2) of regulation 3, without the acquisition of control, pursuant to the conversion of equity shares with superior voting rights into ordinary equity shares, shall be exempted from the obligation to make an open offer under regulation 3.]\\n                 ',\n",
       " ' (4)The acquirer or the target company, as the case may be, shall along with the application referred to under sub-regulation (3) pay a non-refundable fee of rupees 51 [five lakh], 52 [by way of direct credit in the bank account through NEFT/RTGS/IMPS or any other mode allowed by RBI or] by way of a banker’s cheque or demand draft payable in Mumbai in favour of the Board.\\n                 ',\n",
       " ' (5)The Board may after affording reasonable opportunity of being heard to the applicant and after considering all the relevant facts and circumstances, pass a reasoned order either granting or rejecting the exemption or relaxation sought as expeditiously as possible:\\n                 ',\n",
       " ' \\xa0\\nc.\\nMore than one thousand crore\\nFive crore rupees (Rs. 5,00,00,000)\\n\\xa0\\n\\xa0\\n\\xa0\\n\\xa0\\n\\xa0\\n\\xa0\\n\\xa0\\n\\xa0\\n\\xa0\\n\\xa0\\n\\xa0\\n\\xa0\\n56 Inserted by the SEBI (Payment of Fees and Mode of Payment) (Amendment) Regulations, 2017, w.e.f. 6-3-2017.\\n57Substituted by the SEBI (Payment of fees) (Amendment) Regulations, 2014 w.e.f. 23-05-2014. Prior to its substitution, the table in sub-regulation (1), read as under,\\n“\\nSl.\\nConsideration payable under the\\nFee (Rs.)\\nNo.\\nOpen Offer\\n\\xa0\\na.\\nUpto ten crore rupees.\\nOne lakh twenty five thousands rupees (\\n\\xa0\\n\\xa0\\n1,25,000)\\nb.\\nMore than ten crore rupees, but less\\nOne lakh twenty five thousands rupees (\\n\\xa0\\nthan or equal to one thousand crore\\n1,25,000) plus 0.025 per cent of the portion\\n\\xa0\\nrupees.\\nof the offer size in excess of ten crore\\n\\xa0\\n\\xa0\\nrupees ( 10,00,00,000).\\nc.\\nMore than one thousand crore\\nOne crore twenty five lakh rupees (\\n\\xa0\\nrupees, but less than or equal to five\\n1,25,00,000) plus 0.03125 per cent of the\\n\\xa0\\nthousand crore rupees.\\nportion of the offer size in excess of one\\n\\xa0\\n\\xa0\\nthousand crore rupees ( 1000,00,00,000).\\nd.\\nMore than five thousand crore\\nTwo crore fifty lakh rupees ( 2,50,00,000)\\n\\xa0\\nrupees.\\nplus 0.01 per cent of the portion of the offer\\n\\xa0\\n\\xa0\\nsize in excess of five thousand crore rupees\\n\\xa0\\n\\xa0\\n( 5000,00,00,000), subject to a maximum\\n\\xa0\\n\\xa0\\nof three crore rupees ( 3,00,00,000).\\n\\xa0\\n\\xa0\\n“.\\n\\xa0\\nPage 41 of 69\\n\\xa0\\n\\xa0\\nrupees.\\nplus 0.125 per cent of the portion of\\n\\xa0\\n\\xa0\\nthe offer size in excess of one\\n\\xa0\\n\\xa0\\nthousand\\ncrore\\nrupees\\n\\xa0\\n\\xa0\\n(1000,00,00,000).\\n\\xa0\\n\\xa0\\n\\xa0\\n\\xa0\\n\\xa0\\n\\xa0\\n\\xa0\\n\\xa0\\n\\xa0\\n\\xa0\\n]\\n(2)The consideration payable under the open offer shall be calculated at the offer price, assuming full acceptance of the open offer, and in the event the open offer is subject to differential pricing, shall be computed at the highest offer price, irrespective of manner of payment of the consideration:\\nProvided that in the event of consideration payable under the open offer being enhanced owing to a revision to the offer price or offer size the fees payable shall stand revised accordingly, and shall be paid within five working days from the date of such revision.\\n(3)The manager to the open offer shall provide soft copies of the public announcement, the detailed public statement and the draft letter of offer in accordance with such specifications as may be specified, and the Board shall upload the same on its website.\\n(4)The Board shall give its comments on the draft letter of offer as expeditiously as possible but not later than fifteen working days of the receipt of the draft letter of offer and in the event of no comments being issued by the Board within such period, it shall be deemed that the Board does not have comments to offer:\\nProvided that in the event the Board has sought clarifications or additional information from the manager to the open offer, the period for issuance of comments shall be extended to the fifth working day from the date of receipt of satisfactory reply to the clarification or additional information sought.\\nPage 42 of 69\\nProvided further that in the event the Board specifies any changes, the manager to the open offer and the acquirer shall carry out such changes in the letter of offer before it is dispatched to the shareholders.\\n(5)In the case of competing offers, the Board shall provide its comments on the draft letter of offer in respect of each competing offer on the same day.\\n(6)In the event the disclosures in the draft letter of offer are inadequate the Board may call for a revised letter of offer and shall deal with the revised letter of offer in\\naccordance with sub-regulation (4).\\nProvision of escrow.\\n                 ',\n",
       " ' \\xa0\\na.\\nOn the first five hundred crore\\nan amount equal to twenty-five per cent of\\n\\xa0\\nrupees\\nthe consideration\\n\\xa0\\n\\xa0\\n\\xa0\\nb.\\nOn the balance consideration\\nan additional amount equal to ten per cent\\n\\xa0\\n\\xa0\\nof the balance consideration\\n\\xa0\\n\\xa0\\n\\xa0\\nProvided that where an open offer is made conditional upon minimum level of acceptance, hundred percent of the consideration payable in respect of minimum level of acceptance or fifty per cent of the consideration payable under the open offer, whichever is higher, shall be deposited in cash in the escrow account.\\n                 ',\n",
       " ' (8)The schedule of activities and the tendering period for all competing offers shall be carried out with identical timelines and the last date for tendering shares in acceptance of the every competing offer shall stand revised to the last date for tendering shares in acceptance of the competing offer last made.\\n                 ',\n",
       " ' (5)The target company shall furnish to the acquirer within two working days from the identified date, a list of shareholders as per the register of members of the target company containing names, addresses, shareholding and folio number, in electronic form, wherever available, and a list of persons whose applications, if any, for registration of transfer of shares are pending with the target company:\\n Provided that the acquirer shall reimburse reasonable costs payable by the target company to external agencies in order to furnish such information.\\n                 ',\n",
       " ' 27.(1) Prior to public announcement being made, the manager to the open offer shall ensure that,—\\n(a) the acquirer is able to implement the open offer; and\\nPage 59 of 69\\n(b)firm arrangements for funds through verifiable means have been made by the acquirer to meet the payment obligations under the open offer.\\n                 ',\n",
       " ' 68[(3) For the purposes of this Chapter, the term “encumbrance” shall include,-\\n(a)any restriction on the free and marketable title to shares, by whatever name called, whether executed directly or indirectly;\\n(b)pledge, lien, negative lien, non-disposal undertaking; or\\n(c)any covenant, transaction, condition or arrangement in the nature of encumbrance, by whatever name called, whether executed directly or indirectly.]\\n                 ',\n",
       " ' (4)Upon receipt of the disclosures required under this Chapter, the stock exchange shall forthwith disseminate the information so received.\\n                 ',\n",
       " ' “(3) For the purposes of this Chapter, the term “encumbrance” shall include a pledge, lien or any such transaction, by whatever name called.”\\n                 ',\n",
       " ' 32.(1) Without prejudice to its powers under Chapter VIA and section 24 of the Act, the Board may, in the interest of investors in securities and the securities market, issue such directions 75[or any other order] as it deems fit under section 11 or section 11B or section 11D of the Act, including,—\\n                 ',\n",
       " ' (2)In any proceedings initiated by the Board, the Board shall comply with principles of natural justice before issuing directions to any person.\\n                 ',\n",
       " ' 76 Substituted by the SEBI (Substantial Acquisition of Shares and Takeovers) (Second Amendment) Regulations, 2018, w.e.f. 11-09-2018. Prior to this, it read as “shall have the power to issue directions through guidance notes or circulars”.\\n                 ',\n",
       " ' (2)Notwithstanding such repeal,—\\n(a)anything done or any action taken or purported to have been done or taken including comments on any letter of offer, exemption granted by the Board, fees collected, any adjudication, enquiry or investigation commenced or show-cause notice issued under the repealed regulations, prior to such repeal, shall be deemed to have been done or taken under the corresponding provisions of these regulations;\\n(b)the previous operation of the repealed regulations or anything duly done or suffered thereunder, any right, privilege, obligation or liability acquired, accrued or incurred under the repealed regulations, any penalty, forfeiture or punishment incurred in respect of any offence committed against the repealed regulations, or any investigation, legal proceeding or remedy in respect of any such right, privilege, obligation, liability, penalty, forfeiture or punishment as aforesaid, shall remain unaffected as if the repealed regulations has never been repealed;\\n(c)any open offer for which a public announcement has been made under the repealed regulations shall be required to be continued and completed under the repealed regulations.\\n                 ',\n",
       " ' 4.The following persons shall not be required to seek registration under regulation 3 subject to the fulfillment of the conditions stipulated therefor, —\\n(a)Any person who gives general comments in good faith in regard to trends in the financial or securities market or the economic situation where such comments do not specify any particular securities or investment product;\\n(b)Any insurance agent or insurance broker who offers investment advice solely in insurance products and is registered with Insurance Regulatory and Development Authority for such activity;\\n(c)Any pension advisor who offers investment advice solely on pension products and is registered with Pension Fund Regulatory and Development Authority for such activity;\\n3\\n(d)Any distributor of mutual funds, who is a member of a self regulatory organisation recognised by the Board or is registered with an association of asset management companies of mutual funds, providing any investment advice to its clients incidental to its primary activity;\\n(e)Any advocate, solicitor or law firm, who provides investment advice to their clients, incidental to their legal practise;\\n(f)Any member of Institute of Chartered Accountants of India, Institute of Company Secretaries of India, Institute of Cost and Works Accountants of India, Actuarial Society of India or any other professional body as may be specified by the Board, who provides investment advice to their clients, incidental to his professional service;\\n(g)Any stock broker or sub-broker registered under SEBI (Stock Broker and Sub- Broker) Regulations, 1992, portfolio manager registered under SEBI (Portfolio Managers) Regulations, 1993 or merchant banker registered under SEBI (Merchant Bankers) Regulations, 1992, who provides any investment advice to its clients incidental to their primary activity:\\nProvided that such intermediaries shall comply with the general obligation(s) and responsibilities as specified in Chapter III of these regulations:\\nProvided further that existing portfolio manager offering only investment advisory services may apply for registration under these regulations after expiry of his current certificate of registration as a portfolio manager;\\n(h)Any fund manager, by whatever name called of a mutual fund, alternative investment fund or any other intermediary or entity registered with the Board;\\n(i)Any person who provides investment advice exclusively to clients based out of India:\\nProvided that persons providing investment advice to Non-Resident Indian or Person of Indian Origin shall fall within the purview of these regulations;\\n(j)Any representative and partner of an investment adviser which is registered under these regulations:\\nProvided that such representative and partner shall comply with regulation 7 of these regulations;\\n(k)Any other person as may be specified by the Board.\\nFurnishing of further information, clarification and personal representation.\\n                 ',\n",
       " ' (2)The applicant or his authorised representative, if so required, shall appear before the Board for personal representation.\\n                 ',\n",
       " ' 7.(1) An individual registered as an investment adviser under these regulations and partners and representatives of an investment adviser registered under these regulations offering investment advice shall have the following minimum qualifications, at all times:\\n(a)A professional qualification or post-graduate degree or post graduate diploma in finance, accountancy, business management, commerce, economics, capital market, banking, insurance or actuarial science from a university or an institution recognized by the central government or any state government or a recognised foreign university or institution or association; or\\n(b)A graduate in any discipline with an experience of at least five years in activities relating to advice in financial products or securities or fund or asset or portfolio management.\\n                 ',\n",
       " ' (2)An individual registered as an investment adviser and partners and representatives of investment advisers registered under these regulations offering investment advice shall have, at all times, a certification on financial planning or fund or asset or portfolio management or investment advisory services:\\n(a)from NISM; or\\n(b)from any other organization or institution including Financial Planning Standards Board India or any recognized stock exchange in India provided that such certification is accredited by NISM.:\\nProvided that the existing investment advisers seeking registration under these regulations shall ensure that their partners and representatives obtain such certification within two years from the date of commencement of these regulations:\\nProvided further that fresh certification must be obtained before expiry of the validity of the existing certification to ensure continuity in compliance with certification requirements.\\nCapital adequacy.\\n                 ',\n",
       " ' 8.(1) Investment advisers which are body corporate shall have a net worth of not less than twenty five lakh rupees.\\n                 ',\n",
       " ' (2)Investment advisers who are individuals or partnership firms shall have net tangible assets of value not less than rupees one lakh:\\n Provided that existing investment advisers shall comply with the capital adequacy requirement within one year from the date of commencement of these regulations.\\n                 ',\n",
       " ' 10.The certificate of registration granted under regulation 9 shall be valid 2[till it is suspended or cancelled by the Board.]\\n                 ',\n",
       " ' 13.The certificate granted under regulation 9 shall, inter alia, be subject to the following conditions:-\\n(a)the investment adviser shall abide by the provisions of the Act and these regulations;\\n(b)the investment adviser shall forthwith inform the Board in writing, if any information or particulars previously submitted to the Board are found to be false or misleading in any material particular or if there is any material change in the information already submitted;\\n(c)the investment adviser, not being an individual, shall include the words\\n‘investment adviser’ in its name:\\nProvided that if the investment advisory service is being provided by a separately identifiable department or division or a subsidiary, then such separately identifiable department or division or subsidiary shall include the words ‘investment adviser’ in its name;\\n(d)individuals registered as investment advisers shall use the term ‘investment adviser’ in all their correspondences with their clients.\\nRecognition of body or body corporate for regulation of investment advisers.\\n                 ',\n",
       " ' 14.(1) The Board may recognize any body or body corporate for the purpose of regulating investment advisers.\\n                 ',\n",
       " ' 15.(1) An investment adviser shall act in a fiduciary capacity towards its clients and shall disclose all conflicts of interests as and when they arise.\\n                 ',\n",
       " ' (3)An investment adviser shall maintain an arms-length relationship between its activities as an investment adviser and other activities.\\n                 ',\n",
       " ' (8)An investment advisor shall follow Know Your Client procedure as specified by the Board from time to time.\\n                 ',\n",
       " ' (9)An investment adviser shall abide by Code of Conduct as specified in Third Schedule.\\n                 ',\n",
       " ' (13)It shall be the responsibility of the Investment Adviser to ensure that its representatives and partners, as applicable, comply with the certification and qualification requirements under Regulation 7 at all times.\\n                 ',\n",
       " ' 16.Investment adviser shall ensure that,-\\n(a)it obtains from the client, such information as is necessary for the purpose of giving investment advice, including the following:-\\n(i)age;\\n9\\n(ii)investment objectives including time for which they wish to stay invested, the purposes of the investment ;\\n(iii)income details;\\n(iv)existing investments/ assets;\\n(v)risk appetite/ tolerance;\\n(vi)liability/borrowing details.\\n(b)it has a process for assessing the risk a client is willing and able to take, including:\\n(i)assessing a client’s capacity for absorbing loss;\\n(ii)identifying whether client is unwilling or unable to accept the risk of loss of capital;\\n(iii)appropriately interpreting client responses to questions and not attributing inappropriate weight to certain answers.\\n(c)where tools are used for risk profiling, it should be ensured that the tools are fit for the purpose and any limitations are identified and mitigated;\\n(d)any questions or description in any questionnaires used to establish the risk a client is willing and able to take are fair, clear and not misleading, and should ensure that:\\n(i)questionnaire is not vague or use double negatives or in a complex language that the client may not understand;\\n(ii)questionnaire is not structured in a way that it contains leading questions.\\n(e)risk profile of the client is communicated to the client after risk assessment is done;\\n(f)information provided by clients and their risk assessment is updated periodically.\\n                 ',\n",
       " ' 17.Investment adviser shall ensure that,-\\n(a)All investments on which investment advice is provided is appropriate to the risk profile of the client;\\n(b)It has a documented process for selecting investments based on client’s investment objectives and financial situation;\\n(c)It understands the nature and risks of products or assets selected for clients;\\n(d)It has a reasonable basis for believing that a recommendation or transaction entered into:\\n(i)meets the client’s investment objectives;\\n(ii)is such that the client is able to bear any related investment risks consistent with its investment objectives and risk tolerance;\\n10\\n(iii)is such that the client has the necessary experience and knowledge to understand the risks involved in the transaction.\\n(e)Whenever a recommendation is given to a client to purchase of a particular complex financial product, such recommendation or advice is based upon a reasonable assessment that the structure and risk reward profile of financial product is consistent with clients experience, knowledge, investment objectives, risk appetite and capacity for absorbing loss.\\n                 ',\n",
       " ' 18.(1) An investment adviser shall disclose to a prospective client, all material information about itself including its business, disciplinary history, the terms and conditions on which it offers advisory services, affiliations with other intermediaries and such other information as is necessary to take an informed decision on whether or not to avail its services.\\n                 ',\n",
       " ' (6)An investment adviser shall, while making an investment advice, make adequate disclosure to the client of all material facts relating to the key features of the products or securities, particularly, performance track record.\\n                 ',\n",
       " ' (7)An investment adviser shall draw the client’s attention to the warnings, disclaimers in documents, advertising materials relating to an investment product which it is recommending to the client.\\n                 ',\n",
       " ' 19.(1) An investment adviser shall maintain the following records,-\\n(a)Know Your Client records of the client;\\n(b)Risk profiling and risk assessment of the client;\\n11\\n(c)Suitability assessment of the advice being provided;\\n(d)Copies of agreements with clients, if any;\\n(e)Investment advice provided, whether written or oral;\\n(f)Rationale for arriving at investment advice, duly signed and dated;\\n(g)A register or record containing list of the clients, the date of advice, nature of the advice, the products/securities in which advice was rendered and fee, if any charged for such advice.\\n                 ',\n",
       " ' (3)An investment adviser shall conduct yearly audit in respect of compliance with these regulations from a member of Institute of Chartered Accountants of India or Institute of Company Secretaries of India.\\n                 ',\n",
       " ' 21.(1) An investment adviser shall redress client grievances promptly.\\n                 ',\n",
       " ' (2)An investment adviser shall have adequate procedure for expeditious grievance redressal.\\n                 ',\n",
       " ' (3)Client grievances pertaining to financial products in which investments have been made based on investment advice, shall fall within the purview of the regulator of such financial product.\\n                 ',\n",
       " ' (4)Any dispute between the investment adviser and his client may be resolved through arbitration or through Ombudsman authorized or appointed for the purpose by any regulatory authority, as applicable.\\n                 ',\n",
       " ' 22.Investment advisers which are banks, NBFCs and body corporate providing distribution or execution services to their clients shall keep their investment advisory services segregated from such activities:\\n Provided that such distribution or execution services can only be offered subject to the following:\\n(a)The client shall not be under any obligation to avail the distribution or execution services offered by the investment adviser.\\n12\\n(b)The investment adviser shall maintain arms length relationship between its activities as investment adviser and distribution or execution services.\\n(c)All fees and charges paid to distribution or execution service providers by the client shall be paid directly to the service providers and not through the investment adviser.\\n                 ',\n",
       " ' (3)During the course of an inspection, the investment adviser against whom the inspection is being carried out shall be bound to discharge its obligations as provided in regulation 25.\\n                 ',\n",
       " ' (4)The inspecting authority shall, for the purposes of inspection, have power to obtain authenticated copies of documents, books, accounts of investment adviser, from any person having control or custody of such documents, books or accounts.\\n                 ',\n",
       " ' 27.The Board may after consideration of the inspection report and after giving reasonable opportunity of hearing to the investment advisers or its authorized representatives, issue such directions as it deems fit in the interest of securities market or the investors including,-\\n(a)requiring an investment adviser not to provide investment advice for a particular period;\\n(b)requiring the investment adviser to refund any money collected as fees, charges or commissions or otherwise to the concerned clients along with the requisite interest.\\n(c)prohibiting the investment adviser from operating in the capital market or accessing the capital market for a specified period.\\n                 ',\n",
       " ' 28A. (1) The Board may, exempt any person or class of persons from the operation of all or any of the provisions of these regulations for a period as may be specified but not exceeding twelve months, for furthering innovation in technological aspects relating to testing new products, processes, services, business models, etc. in live environment of regulatory sandbox in the securities markets.\\n                 ',\n",
       " ' 30.The Board reserves the right to alter, modify and overrule any decision, action taken or penalties imposed by the body or body corporate recognized under regulation 14.\\n                 ',\n",
       " ' (8)An application for settlement of defaults related to disclosures, shall to the extent possible, be made after making the required disclosure.\\n                 ',\n",
       " ' 5.(1) No application for settlement of any specified proceedings shall be considered, if:\\n(a)an earlier application with regard to the same alleged default had been rejected;\\n(b)the audit or investigation or inspection or inquiry, if any, in respect of any cause of action, is not complete, except in case of applications involving confidentiality; or\\n(c)monies due under an order issued under securities laws are liable for recovery under securities laws.\\n                 ',\n",
       " ' (2)The Board may not settle any specified proceeding, if it is of the opinion that the alleged default, -\\ni.has market wide impact,\\nii.caused losses to a large number of investors, or\\niii.affected the integrity of the market.\\n                 ',\n",
       " ' (3)Without prejudice to the generality of the foregoing provisions, for settling any specified proceeding the Board may inter alia take into account the following factors, -\\n(a)whether the applicant has refunded or disgorged the monies due, to the satisfaction of the Board;\\n(b)whether the applicant has provided an exit or purchase option to investors in compliance with securities laws, to the satisfaction of the Board;\\n5\\n(c)whether the applicant is in compliance with securities laws or any order or direction passed under securities laws, to the satisfaction of the Board;\\n(d)any other factor as may be deemed appropriate by the Board.\\n                 ',\n",
       " ' (4)Without prejudice to sub-regulations (1) and (3), the Board may not settle the specified proceedings where the applicant is a wilful defaulter, a fugitive economic offender or has defaulted in payment of any fees due or penalty imposed under securities laws.\\n                 ',\n",
       " ' (5)Nothing contained in these regulations shall be construed to restrict the right of the Panel of Whole Time Members to consider or reject any application in respect of any specified proceeding without examination by the Internal Committee or the High Powered Advisory Committee.\\n                 ',\n",
       " ' 6.(1) An application may at any time be rejected on the following grounds:\\n(a)Where the applicant refuses to receive or respond to the communications sent by the Board;\\n(b)Where the applicant does not submit or delays the submission of information, document, etc., as called for by the Board;\\n(c)Where the applicant who is required to appear, does not appear before the Internal Committee on more than one occasion;\\n(d)Where the applicant violates in any manner the undertaking and waivers as provided in Part-C of the Schedule-I;\\n(e)Where the applicant does not remit the settlement amount within the period specified in clause (a) of sub-regulation (2) of regulation 15 and/or does not abide by the undertaking and waivers.\\n                 ',\n",
       " ' (2)The rejection under sub-regulation (1) shall be communicated to the applicant:\\n Provided that the applicant shall continue to be bound by the waivers given in respect of limitation or laches in respect of the initiation or continuation or restoration of any legal proceeding and the waivers given under sub-paras (d), (e), (f) and (g) of para 12 of the undertaking and waivers as provided in Part-C of the Schedule-I.\\n                 ',\n",
       " ' 7.(1) An application may be withdrawn at any time prior to the communication of the decision of the Panel of Whole Time Members under regulation 15.\\n                 ',\n",
       " ' (2)The non-monetary terms may include the following:\\n(a)Suspension or cessation of business activities for a specified period;\\n(b)Exit from Management;\\n(c)Disgorgement on account of the action or inaction of the applicant;\\n(d)Refraining from acting as a partner or officer or director of an intermediary or as an officer or director of a company that has a class of securities regulated by the Board, for specified periods;\\n(e)Cancel securities and reduce holdings where the securities are issued fraudulently, including bonus shares received on such securities, if any, and reimburse any dividends received, etc.;\\n(f)Lock-in of securities;\\n(g)Implementation of enhanced policies and procedures to prevent future securities laws violations as well as agreeing to appoint or engage an independent consultant to review internal policies, processes and procedures;\\n(h)Provide enhanced training and education to employees of intermediaries and securities market infrastructure institutions;\\n(i)Submit to enhanced internal audit and reporting requirements.\\n                 ',\n",
       " ' (3)The settlement amount, excluding the legal costs and disgorged amount, shall be credited to the Consolidated Fund of India.\\n                 ',\n",
       " ' (5)The amount of profits made or losses avoided by the applicant that may be disgorged as part of the settlement terms, shall be credited to the Investor Protection and Education Fund.\\n                 ',\n",
       " ' 10.While arriving at the settlement terms, the factors indicated in Schedule-II may be considered, including but not limited, to the following:\\n(a)conduct of the applicant during the specified proceeding, investigation, inspection or audit;\\n(b)the role played by the applicant in case the alleged default is committed by a group of persons;\\n(c)nature, gravity and impact of alleged defaults;\\n(d)whether any other proceeding against the applicant for non-compliance of securities laws is pending or concluded;\\n(e)the extent of harm and/or loss to the investors’ and/or gains made by the applicant;\\n(f)processes that have been introduced since the alleged default to minimize future defaults or lapses;\\n(g)compliance schedule proposed by the applicant;\\n(h)economic benefits accruing to any person from the non-compliance or delayed compliance;\\n(i)conditions which are necessary to deter future non-compliance by the same or another person;\\n(j)satisfaction of claim of investors regarding payment of money due to them or delivery of securities to them;\\n(k)any other enforcement action that has been taken against the applicant for the same violation;\\n(l)any other factors necessary in the facts and circumstances of the case.\\n9\\n                 ',\n",
       " ' 11.(1) The Board shall constitute a High Powered Advisory Committee for consideration and recommendation of the terms of settlement.\\n                 ',\n",
       " ' (2)The High Powered Advisory Committee shall consist of a Judicial member who has been the Judge of the Supreme Court or a High Court and three external experts having expertise in securities market or in matters connected therewith or incidental thereto.\\n                 ',\n",
       " ' (3)The term of the members of the High Powered Advisory Committee shall be three years which may be extended for a further period of two years.\\n                 ',\n",
       " ' (4)The quorum for a meeting of the High Powered Advisory Committee shall be of three members.\\n                 ',\n",
       " ' (5)The High Powered Advisory Committee shall conduct its meetings in the manner specified by the Board in this regard:\\n Provided that:\\n(i)where any member of the High Powered Advisory Committee seeks recusal, the remaining two or more members may submit their recommendation on the terms of settlement;\\n(ii)where no consensus or majority may be reached, the recommendation made by the Judicial member shall be considered to be the recommendation of the High Powered Advisory Committee and in case of recusal of the Judicial member, the recommendations of the remaining two or more members shall be submitted for consideration to the Panel of Whole Time Members; and\\n10\\n(iii)where all or all but one of the members of the High Powered Advisory Committee recuse themselves in respect of an application, the Board may constitute another High Powered Advisory Committee.\\nInternal committee(s).\\n                 ',\n",
       " ' 12. (1) Internal Committee(s) shall be constituted by the Board.\\n                 ',\n",
       " ' (3)The proposed settlement terms, if any, shall be placed before the High Powered Advisory Committee.\\n                 ',\n",
       " ' 14.(1) The High Powered Advisory Committee shall consider the proposed settlement terms placed before it along with the following:\\n(a)the application, undertaking and waivers of the applicant;\\n(b)factors specified in regulation 10;\\n(c)settlement terms or revised settlement terms proposed by the applicant;\\n(d)any other relevant material available on record.\\n                 ',\n",
       " ' (2)The High Powered Advisory Committee may seek revision of the settlement terms and refer the application back to the Internal Committee.\\n                 ',\n",
       " ' (3)The recommendations of the High Powered Advisory Committee shall be placed before the Panel of Whole Time Members.\\n                 ',\n",
       " ' 15.(1) The Panel of Whole Time Members shall consider the recommendations of the High Powered Advisory Committee and may accept or reject the same:\\n                 ',\n",
       " ' 12\\n Provided that where the recommendations of the High Powered Advisory Committee to settle the specified proceedings are rejected, the panel of Whole Time Members shall record reasons for rejection of the recommendations:\\n                 ',\n",
       " '  Provided further that where the recommendation of the High Powered Advisory Committee to settle the specified proceedings are rejected, such decision of the panel of Whole Time Members shall be communicated to the applicant.\\n                 ',\n",
       " ' 16.(1) Notwithstanding anything contained in Chapter VI, before initiating any specified proceeding, the Board may issue a notice of summary settlement in the format as specified in Part-A of Schedule-III, calling upon the noticee to file a settlement application under Chapter- II and submit the settlement amount and/or furnish an undertaking in respect of other non- monetary terms or comply with other non-monetary terms, as may be specified in the summary settlement notice in respect of the specified proceeding(s) to be initiated for the following defaults,-\\ni.Delayed disclosures, including filing of returns, report, document, etc.;\\nii.Non-disclosure in relation to companies exclusively listed on regional stock exchanges which have exited;\\niii.Disclosures not made in the specified formats;\\niv.Delayed compliance of any of the requirements of law or directions issued by the Board;\\nv.Such other defaults as may be determined by the Board.\\nProvided that, the specified proceeding(s) shall not be settled under this Chapter, if in the opinion of the Board, the applicant has failed to make a full and true disclosure of facts or failed to co-operate in the required manner.\\n                 ',\n",
       " ' (2) Notwithstanding anything contained in the notice of settlement, the Board shall have the power to modify the enforcement action to be brought against the noticee and the notice of settlement shall not confer any right upon the noticee to seek settlement or avoid any enforcement action.\\n                 ',\n",
       " ' 18.(1) A notice of settlement in the format as specified in Part-B of Schedule-III, indicating the substance of the probable charges and enforcement actions, may, except in cases covered under Chapter VII, be issued by the Board prior to the issuance of the notice to show cause so as to afford the noticee an opportunity to file a settlement application under Chapter-II, within fifteen calendar days from the date of receipt of the settlement notice.\\n                 ',\n",
       " ' (2)Notwithstanding anything contained in the settlement notice, the Board shall have the right to modify the nature of the enforcement action to be initiated against the noticee and the charges stated in the notice shall not confer any right to seek settlement on the said basis or avoid any enforcement action due to modified charges.\\n                 ',\n",
       " ' (3)Without prejudice to sub-regulations (1) and (2), the Board may subject the applicant to further restrictions or conditions, as deemed fit, after considering the facts and circumstances of the case.\\n                 ',\n",
       " ' (5)Upon being satisfied the Board may assure the benefit of confidentiality and shall thereupon mark the status of the application depending upon its priority and convey the same to the applicant in writing.\\n                 ',\n",
       " ' (6)The Board may, for reasons to be recorded in writing, at any stage, reject the application if the information, documents or evidence is found to be incomplete or false to the knowledge of the applicant.\\n                 ',\n",
       " ' (7)The rejection of the application for confidentiality shall be communicated to the applicant.\\n                 ',\n",
       " ' 20. (1) The provisions of Chapters IV to VI of these regulations may be applied mutatis mutandis to a settlement application filed under this Chapter and a settlement order passed accordingly.\\n                 ',\n",
       " ' 21. For the purposes of providing the applicant with interim confidentiality and assurance from being proceeded with, the Board may not initiate regulatory measures when the Board has a reasonable belief that the information provided to it relates to a possible securities law violation that has occurred, is ongoing or about to occur.\\n                 ',\n",
       " ' 22. Notwithstanding anything contained in Chapter X, the following shall be treated as confidential, -\\n(a)the identity of the applicant seeking confidentiality; and\\n(b)the information, documents and evidence furnished by the applicant under this Chapter:\\nProvided that, the identity of the applicant or such information or documents or evidence may not be treated as confidential if, —\\n(i)the disclosure is required by law;\\n18\\n(ii)the applicant has agreed to such disclosure in writing; or\\n(iii)there has been a public disclosure by the applicant.\\n                 ',\n",
       " ' 23.(1) The Adjudicating Officer shall by an appropriate order dispose of the proceeding pending before him on the basis of the approved settlement terms.\\n                 ',\n",
       " ' (3)The settlement order passed under these regulations shall, contain the details of the alleged default(s), relevant provisions of the securities laws, brief facts and circumstances relevant to the alleged default, the admissions made by the applicant, if any and the settlement terms.\\n                 ',\n",
       " ' (2)The proposal of settlement along with the settlement terms or rejection thereof shall be placed before such Tribunal or court for appropriate orders.\\n                 ',\n",
       " ' 27.(1) A settlement order under these regulations shall not be admissible as evidence in any other proceeding relating to an alleged default not covered under the settlement order nor affect the right of third parties arising out of the alleged default.\\n                 ',\n",
       " ' 21\\n Provided that, nothing in these regulations shall prohibit the Board from revoking the settlement order where the applicant fails to pay any difference due to any discrepancy in calculation of the settlement amount:\\n                 ',\n",
       " '  Provided further that, the applicant shall continue to be bound by the waivers given in respect of limitation or laches in respect of initiating or continuing or restoring of any legal proceeding and the waivers given in sub-paras (d), (e) (f) and (g) of para 12 of the undertaking and waivers as provided in Part-C of the Schedule-I.\\n                 ',\n",
       " ' 33.The provisions of Chapters IV to VI and Schedule-II may be applied mutatis mutandis for arriving at a proposal pursuant to a compounding application.\\n                 ',\n",
       " ' 1.The settlement amount (SA) shall comprise of the Indicative Amount (IA) arrived at in terms of these guidelines and the factors provided in regulation 10, wherever applicable.\\n                 ',\n",
       " ' 2.The IA shall not be less than Rupees 3 lakh for first time applicants or Rupees 7 lakh for others, as the case may be:\\n Provided that in case of individual applicants who submit to the satisfaction of the IC or HPAC or Panel of WTMs that, without knowledge of the illegal activity, they had lent the use of their securities account to the key operator or intermediary or securities market infrastructure institution involved in such activity, the SA may not exceed the minimum penalty for that violation under securities laws.\\n                 ',\n",
       " ' 3.Based on the stage at which the proceeding(s), for which the application is made, is/are pending, the proceeding conversion factor (PCF) shall be applied when calculating the IA.\\n                 ',\n",
       " ' 5.PCF for Applications made voluntary or seeking settlement with confidentiality: Where an entity desires to obtain the benefit of a lower PCF, it may, suo motto, before the receipt of any notice to show cause, intimate the Board of such default hereinafter referred to as ‘intimation defaults’ and co-operate with the Board in the investigation, inquiry, inspection or audit. Such an application shall be deemed to have been made\\n                 ',\n",
       " ' 6.The IA shall be calculated per count of default, jointly or separately as per the facts and circumstances of the case, in accordance with these guidelines.\\n                 ',\n",
       " ' 7.While considering the application, the alleged default(s) detailed in the Inspection Report or the Investigation Report or the Report of the Designated Authority (DA) or the notice to show cause, including any supplementary notice to show cause issued by any authority in a pending proceeding, or the facts/findings detailed in the order of the Designated Member (DM) or the Whole Time Member (WTM) or the Adjudicating Officer (AO) or the Securities Appellate Tribunal (SAT), as applicable, may be the basis for calculating the IA.\\n                 ',\n",
       " ' In case, the Internal Committee (IC) or the High Powered Advisory Committee (HPAC) or the Panel of Whole Time Members (WTMs) are of the opinion that the facts disclose a different default, the modification of the charge(s) may be sought.\\n                 ',\n",
       " ' 8.The alleged defaults shall, wherever applicable, be categorised based on the facts and circumstances by the IC or HPAC or the Panel of WTMs.\\n                 ',\n",
       " ' 9.Notwithstanding anything contained in these guidelines, the IC or HPAC or Panel of WTMs shall have the discretion to recommend acceptance or rejection or accept or reject an application, to recommend an amount, lower or higher than the amounts arrived at in terms of these guidelines, for reasons to be recorded, in accordance with the provisions of securities laws, considering the facts and circumstances of the case and the gravity of the charges.\\n                 ',\n",
       " ' 10.In case the applicant is body corporate, the IC or HPAC or Panel of WTMs may require\\n                 ',\n",
       " ' 11.In cases where the formulae for calculating the IA are inapplicable or cannot be adapted due to the peculiar nature of the default or the facts and circumstances of the case or where the defaults detailed in the Tables in these guidelines are not covered, the IC or HPAC or Panel of WTMs may arrive at the SA, as they deem fit.\\n                 ',\n",
       " ' 12.In case of an amendment(s) or repeal of the securities laws, these guidelines shall continue to apply to similar provisions under the amended or new laws, mutatis mutandis.\\n                 ',\n",
       " ' Indicative amount (IA) shall be calculated as follows:\\n                 ',\n",
       " ' #Legal costs of the Board may be applicable to an application made at the stages mentioned in points “b”, “d” and “e” as provided in Table I.\\n                 ',\n",
       " ' 1.The IA shall not exceed the maximum penalty under securities laws that may be levied for each count of violation multiplied by the counts of alleged default in accordance with these guidelines.\\n                 ',\n",
       " ' 2.(a) Where an order of penalty has been passed prior to making an application, then ‘B’ shall not be less than the penalty so awarded;\\n(b)In case more than one proceeding arising from the same cause of action has been initiated against the applicant, the IA shall be increased by 20%;\\n                 ',\n",
       " ' 3.In case of grant of confidentiality, the IA arrived in accordance with this Schedule shall, be further reduced as follows, -\\ni.those marked first in priority status may be granted reduction of up to or equal to ninety percent of the IA;\\nii.those marked second in priority status may be granted reduction of upto or equal to fifty percent of the IA; and\\niii.those marked third or subsequent in the priority status may be granted reduction upto or equal to twenty five percent of the IA.\\n                 ',\n",
       " ' 5.Notwithstanding anything in this Schedule, -\\ni.where a compounding application has been filed in respect of an offence under securities laws for non-payment of penalty, the proposal agreeing to the composition of the offence may be made to the court in lieu of such penalty and\\n33\\ninterest as deemed appropriate along with legal charges as determined by the Board;\\nii.where a compounding application has been filed in respect of an offence under securities laws other than for non-payment of penalty, the proposal agreeing to the composition of the offence may be made to the court in lieu of terms as may be approved by the Panel of Whole Time Members; and\\niii.where a compounding application is filed after framing of the charges by the court, the proposal agreeing to the composition may be made after increasing the amount calculated under this Schedule by atleast twenty-five per-cent along with legal charges and along with any other terms as may be approved by the Panel of Whole Time Members.\\n                 ',\n",
       " ' ∗In this schedule an ‘intermediary or securities market infrastructure institutions’ includes any person required by securities laws to be registered or recognised by the Board.\\n                 ',\n",
       " ' 4.Acceptance of responsibility and acknowledgement of misconduct to the Board prior to detection and intervention by truthfully admitting the conduct;\\n                 ',\n",
       " ' II.While assessing the relevant factors, the IC or HPAC or Panel of WTMs may take into account the following general aggravating factors with a base value of ‘0.2’ applied once for all or any of them:\\n                 ',\n",
       " ' III.While assessing the relevant factors, the IC or HPAC or Panel of WTMs may take into account the following factors tending to show the alleged default was deliberate with a base value of ‘0.25’ applied once for all or any of them:\\n                 ',\n",
       " ' IV. While assessing the relevant factors, the IC or HPAC or Panel of WTMs may take into account the following factor tending to show the alleged default was reckless with a base value of ‘0.3’:\\n                 ',\n",
       " ' the highest value shall be applied.]\\n                ',\n",
       " ' 41\\nb.\\nc.\\nd.\\ne.\\nf.\\nFactors for volume traded and/or\\nprice change for the default\\nTime value of ill-gotten gains*\\nReputation risk applicable in all\\nsettlements without admitting violation of securities laws\\nViolation in illiquid scrip\\nPersons who are indigent or\\nundergoing liquidation or\\nbankruptcy process or whose\\nresolution/repayment plan has been\\nsubmitted to the adjudicating\\nauthority for approval\\nSum of ‘V’, ‘P’ and ‘Q’, wherever\\napplicable, to be applied to each member of group or the applicant when he acts alone, only if the volume traded or price change, quantity traded in respect of the group, of which the applicant is a part of or the applicant when he acts alone, as the case may be, can be calculated from the findings brought out in the investigation report or inquiry or notice to show cause or order, as the case may be.\\nIn case multiple trading periods are involved, the highest change has to be considered.\\n                 ',\n",
       " ' *Factor ‘c’ is applicable only in cases where the actual profit and/or loss avoided (approx.) is determinable and disgorgement with interest is not ordered. While calculating the period, the fractions may be ignored.\\n                 ',\n",
       " ' In cases of multiple applicants where joint and several liabilities exists, a single IA may\\n                 ',\n",
       " ' IC or HPAC or Panel of WTMs may deem fit and any other factor may also be\\n considered while imposing any limit in respect of amounts that may be required from a\\n                 ',\n",
       " ' 2.The BA for violation at (II) shall only be as per the lowest slab, irrespective of change in shareholding over the reporting period. In case of violations related to disclosures that are required to be made annually\\\\ the amount for delay for every three months or\\n                 ',\n",
       " ' part thereof shall be computed only for the first disclosure violation. In case the noticee complies with the annual reporting\\n                ',\n",
       " ' 1.In cases of disclosure related violations by connected persons or by key managerial persons, the BA may be increased by 25%.\\n                 ',\n",
       " ' SA may be applicable)\\n                 ',\n",
       " ' 1.In cases of disclosure related violations by key managerial persons, the Benchmark Amount may be increased by 25%.\\n                 ',\n",
       " ' 2.In this Schedule, ‘Principal Officer’ means a person that may be covered under Section 27 of the SEBI Act, as amended by the Finance Act, 2018.\\n                 ',\n",
       " ' 3.‘Fund’ means an AIF, MF, CIS, and any other pooling arrangement required to be registered with the Board.\\n                 ',\n",
       " ' 2.In view of the aforesaid, probable proceedings against you under….(relevant provisions under which the proceedings may be initiated or continued) may be initiated or continued\\n                 ',\n",
       " ' 3.Notwithstanding anything contained in this notice, the Board reserves the right to modify the proceedings and charges to be brought against you and this notice shall not confer any right to seek settlement or avoid any action initiated by the Board.\\n                 ',\n",
       " ' 4.Subject to Regulation 5 of the SEBI (Settlement Proceedings) Regulations, 2018 the aforesaid proceedings to be initiated may be settled and disposed of upon filing of a settlement application under Chapter-II of the SEBI (Settlement Proceedings) Regulations, 2018 upon remittance of a settlement amount of Rs. …………..to SEBI in terms of …..\\n                 ',\n",
       " ' 2.In view of the aforesaid, probable proceedings against you under….(relevant provisions under which the proceedings may be initiated or continued) may be initiated or continued.\\n                 ',\n",
       " ' 3.Notwithstanding anything contained in this notice, the Board reserves the right to modify the proceedings and charges to be brought against you and this notice shall not confer any right to seek settlement or avoid any action initiated by the Board.\\n                 ',\n",
       " ' 4.Subject to regulation 5 of the SEBI (Settlement Proceedings) Regulations, 2018, the aforesaid proceedings to be initiated may, be settled and disposed of upon filing of a\\n                 ',\n",
       " ' (2) The applicant or his authorised representative, if so required, shall appear before the Board for personal representation.\\n                 ',\n",
       " ' 7.(1) An individual registered as research analyst under these regulations, individuals employed as research analyst and partners of a research analyst, if any, engaged in preparation and/or publication of research report or research analysis shall have the following minimum qualifications, at all times:\\n Page 5 of 24\\n(i)A professional qualification or post-graduate degree or post graduate diploma in finance, accountancy, business management, commerce, economics, capital market, financial services or markets provided by:\\n(a)a university which is recognized by University Grants Commission or by any other commission/council/board/body established under an Act of Parliament in India for the purpose; or\\n(b)an institute/association affiliated with such university; or\\n(c)an institute/ association/university established by the central government or state government; or\\n(d)autonomous institute falling under administrative control of Government of India;\\nor\\n(ii)professional qualification or post-graduate degree or post graduate diploma which is accredited by All Indian Council for Technical Education, National Assessment and Accreditation Council or National Board of Accreditation or any other council/board/body set up under an Act of Parliament in India for the purpose; or\\n(iii)a graduate in any discipline with an experience of at least five years in activities relating to financial products or markets or securities or fund or asset or portfolio management.\\n                 ',\n",
       " ' 8. (1) A research analyst who is individual or partnership firm shall have net tangible assets of value not less than one lakh rupees.\\n                 ',\n",
       " ' (2)A research analyst who is body corporate or limited liability partnership firm shall have a networth of not less than twenty five lakh rupees.\\n                 ',\n",
       " ' (3)All existing research analysts shall comply with the capital adequacy requirement within one year from the date of commencement of these regulations.\\n                 ',\n",
       " ' 10. The certificate of registration granted under regulation 9 shall be valid 1[till it is suspended or cancelled by the Board].\\n                 ',\n",
       " ' 14. (1) The Board may recognize any body or body corporate for the purpose of regulating research analysts.\\n                 ',\n",
       " ' 15. (1) Research analyst or research entity shall have written internal policies and control procedures governing the dealing and trading by any research analyst for:\\n(i)addressing actual or potential conflict of interest arising from such dealings or trading of securities of subject company;\\n(ii)promoting objective and reliable research that reflects the unbiased view of research analyst; and\\n(iii)preventing the use of research report or research analysis to manipulate the securities market.\\n                 ',\n",
       " ' 16. (1) Personal trading activities of the individuals employed as research analyst by research entity shall be monitored, recorded and whereever necessary, shall be subject to a formal approval process.\\n                 ',\n",
       " ' (3)Independent research analysts, individuals employed as research analysts by research entity or their associates shall not deal or trade directly or indirectly in securities that he reviews in a manner contrary to his given recommendation.\\n                 ',\n",
       " \" (4)Independent research analysts, individuals employed as research analysts by research entity or their associate shall not purchase or receive securities of the issuer before the issuer's initial public offering, if the issuer is principally engaged in the same types of business as companies that the research analyst follows or recommends.\\n                 \",\n",
       " ' (5)Provisions of sub-regulations (2) to (4) shall apply mutatis mutandis to a research entity unless it has segregated its research activities from all other activities and maintained an arms-length relationship between such activities.\\n                 ',\n",
       " ' (6)Notwithstanding anything contained in sub-regulations (2) to (4), such restrictions to trade or deal in securities may not apply in case of significant news or event concerning the subject company or based upon an unanticipated significant change in the personal financial circumstances of the research analyst, subject to prior written approval as per the terms specified in the approved internal policies and procedures.\\n                 ',\n",
       " ' 17. (1) Research entity shall not pay any bonus, salary or other form of compensation to any individual employed as research analyst that is determined or based on any specific merchant banking or investment banking or brokerage services transaction.\\n                 ',\n",
       " ' (2)The compensation of all individuals employed as research analyst shall be reviewed, documented and approved annually by board of directors/committee appointed by board of directors of the research entity, which does not consist of representation from its merchant banking or investment banking or brokerage services divisions.\\n                 ',\n",
       " ' (4)Research analyst or individuals employed as research analyst by research entity shall not participate in business activities designed to solicit investment banking or merchant banking or brokerage services business, such as sales pitches and deal road shows.\\n                 ',\n",
       " ' (5)Research analyst or individuals employed as research analyst by research entity shall not engage in any communication with a current or prospective client in the presence of personnel from investment banking or merchant banking or brokerage services divisions or company management about an investment banking services transaction.\\n                 ',\n",
       " ' (6)Investment banking or merchant banking or brokerage services division’s personnel of research entity shall not direct the individuals employed as research analyst to engage in sales or marketing related to an investment banking or merchant banking or brokerage services and shall not direct the research analyst to engage in any communication with a current or prospective client about such division’s transaction:\\n Provided that sub-regulations (4) to (6) shall not prohibit research analyst or research entity from engaging in investor education activities including publication of pre-deal research and briefing the views of the research analyst on the transaction to the sales or marketing personnel.\\n                 ',\n",
       " ' (7)Research analyst or research entity shall have adequate documentary basis, supported by research, for preparing a research report.\\n                 ',\n",
       " ' (10)Research entity shall ensure that the individuals employed as research analyst are separate from other employees who are performing sales trading, dealing, corporate finance advisory or any other activity that may affect the independence of its research report:\\n Provided that the individual employed as research analyst by research entity can receive feedback from sales or trading personnel of brokerage division to ascertain the impact of research report.\\n                 ',\n",
       " ' (2)If any person including a director or employee of an investment adviser or credit rating agency or asset management company or fund manager, makes public appearance or makes a recommendation or offers an opinion concerning securities or public offers through public media, all the provisions of regulations 16 and 17 shall apply mutatis mutandis to him and he shall disclose his name, registration status and details of financial interest in the subject company at the time of,-\\n(i)making such recommendation or offering such opinion in personal capacity;\\n(ii)responding to queries from audiences or journalists in personal capacity; (iii)communicating the research report or substance of the research report through the public\\nmedia.\\nPage 12 of 24\\nDistribution of research reports.\\n                 ',\n",
       " ' 22. (1) A research report shall not be made available selectively to internal trading personnel or a particular client or class of clients in advance of other clients who are entitled to receive the research report.\\n                 ',\n",
       " ' (2)Research analyst or research entity who distributes any third party research report shall review the third party research report for any untrue statement of material fact or any false or misleading information.\\n                 ',\n",
       " ' (3)Research analyst or research entity who distributes any third party research report shall disclose any material conflict of interest of such third party research provider or he shall provide a web address that directs a recipient to the relevant disclosures.\\n                 ',\n",
       " ' 23. (1) All the provisions of Chapter II, III, IV, V and VI shall apply mutatis mutandis to the proxy adviser:\\n Provided that the employees of proxy advisors engaged in providing proxy advisory services shall be required to have a minimum qualification of being a graduate in any discipline:\\n                 ',\n",
       " '  Provided further that certification requirements for employees of proxy advisors engaged in providing proxy advisory services shall be as specified by the Board:\\n                 ',\n",
       " ' (2)The proxy adviser shall additionally disclose the following:\\n(i)the extent of research involved in a particular recommendation and the extent and/or effectiveness of its controls and procedures in ensuring the accuracy of issuer data;\\n(ii)policies and procedures for interacting with issuers, informing issuers about the recommendation and review of recommendations;\\n                 ',\n",
       " ' 24. (1) Research analyst or research entity shall maintain an arms-length relationship between its research activity and other activities.\\n                 ',\n",
       " ' (2)Research analyst or research entity shall abide by Code of Conduct as specified in Third Schedule.\\n Page 13 of 24\\n                 ',\n",
       " ' 25. (1) Research analyst or research entity shall maintain the following records:\\n(i)research report duly signed and dated;\\n(ii)research recommendation provided;\\n(iii)rationale for arriving at research recommendation;\\n(iv)record of public appearance.\\n                 ',\n",
       " ' (4)The inspecting authority shall, for the purposes of inspection, have power to obtain authenticated copies of documents, books, accounts of research analyst or research entity, from any person having control or custody of such documents, books or accounts.\\n                 ',\n",
       " ' 34. The Board reserves the right to alter, modify and overrule any decision, action taken or penalties imposed by the body or body corporate recognized under regulation 14.\\n Page 17 of 24\\n                 ',\n",
       " ' 3. An Investigating Authority, having reason to believe that any or all of the grounds specified under sub-section (8) of section 11C of the Act exist, may make a request in writing in physical or electronic mode as per Form A of the Schedule to the Chairman for issuance of warrant of authority, specifying therin the grounds reasons for multiple execution, if required and the details of the person or enterprise and its building, place, vessel, vehicle or aircraft whose search is required to be authorised,.\\n                 ',\n",
       " ' (2) The Chairman may authorise multiple execution of the warrant of authority during the period in which it is in force.\\n                 ',\n",
       " ' 5.(1) A warrant of authority shall be signed and sealed by the Chairman.\\n                 ',\n",
       " ' (2)Every warrant of authority issued by the Chairman shall remain in force until it is cancelled by the Chairman or until it is executed, or till the expiry of the time limit specified for execution in the warrant of authority, whichever is earlier\\n                 ',\n",
       " ' 6. A warrant of authority issued under these regulations shall be returned to the Chairman,-\\n(a)after being executed fully along with the seizure memo, or\\n(b)if not executed, whether partially or not, within the time authorised, if any, for its execution, on the expiry of such time.\\nand the authorised officer shall make an endorsement on the warrant of authority stating as to the powers which have been exercised by him under such authority.\\n                 ',\n",
       " ' 8 (1) If ingress into any, place or building cannot be so obtained or no one is present in the place or building , it shall be lawful for the authorised officer executing the warrant of authority, to enter such building or place and search therein and in order to\\n                 ',\n",
       " ' effect an entrance into such building or place, to break open any outer or inner door or window of any building or place, whether that of the person to be searched or of any other person, if after notification of his authority and purpose and demand of admittance duly made, he cannot otherwise obtain admittance.\\n Provided that if any such building or place is an apartment in actual occupancy of a woman, who according to custom does not appear in public, the authorised officer shall, before entering such apartment, give notice to such woman that she is at liberty to withdraw and shall afford her every reasonable facility for withdrawing and may then break open any outer or inner door or window of the apartment and enter it.\\n                ',\n",
       " ' (2)The authorised officer may require any person who is the owner, or has the immediate possession, or control, of any box, locker, safe, almirah or any other receptacle situate in such building, place to open the same and allow access to inspect or examine its contents, and, where the keys thereof are not available or where such person fails to comply with any such requirement, may cause any action to be taken including the breaking open of such box, locker, safe, almirah or other receptacle which the Authorised Officer may deem necessary for carrying out all or any of the purposes specified under the warrant of authority.\\n                 ',\n",
       " ' (2)If ingress into any vessel, vehicle or aircraft authorised to be searched cannot be obtained because such vessel, vehicle or aircraft is moving or for any other reason, it shall be lawful for the authorised officer executing the warrant of authority, to require the person for the time being in control of the vehicle, vessel or aircraft to stop any such vessel or vehicle or, in the case of an aircraft, compel it to stop or land, and when stopped to refrain from moving it, or if the vehicle, vessel or aircraft is already stationary, to refrain from moving it, and search any part of the vessel, vehicle or aircraft.\\n                 ',\n",
       " ' (3)The authorised officer shall have authority, in order to effect an entrance into such vessel, vehicle or aircraft, to break open any outer or inner door or window of any such vessel, vehicle or aircraft, if after notification of his authority and purpose and demand\\n                 ',\n",
       " ' of admittance duly made, he cannot otherwise obtain admittance:\\n Provided that if any such vessel, vehicle or aircraft is occupied by a woman, who according to custom does not appear in public, the authorised officer shall, before entering such vessel, vehicle or aircraft, give notice to such woman that she is at liberty to withdraw and shall afford her every reasonable facility for withdrawing.\\n                ',\n",
       " ' (8)The authorised officer may search, with such assistance, the vessel, vehicle or aircraft authorized to be searched, where such information or documents are expected or believed to be kept.\\n                 ',\n",
       " ' 12. The authorised officer while executing the warrant of authority, if so authorised, shall have the power of inspection of the documents found in any place, building, vessel, vehicle and aircraft.\\n Power of seizure.\\n                 ',\n",
       " ' 14. (1) An authorised officer executing the warrant of authority shall, in the presence of the person from whom or whose premises,vessel, vehicle or aircraft the documents were seized, if such person is available, prepare a seizure memo in Form E of the Schedule duly signed by two witnesses, containing a list of all documents seized or copied in the course of such search and of the places in which they were respectively found and verify the inventory of any such documents seized:\\n                 ',\n",
       " ' 6\\n Provided that in the case of seizure or copying of electronic storage media or the seizure or copying of electronically stored information, the authorised officer shall enter in Form F of the Schedule the description of the physical storage media that were seized or copied.\\n                 ',\n",
       " ' (2)The seizure memo shall contain the following details, as may be applicable:\\n(a)the time of entry into and exit from place, building, vessel, vehicle or aircraft;\\n(b)the identity of the persons searched;\\n(c)the address of place and building and details of vessel, vehicle or aircraft searched;\\n(d)the details of officers present, if any, at the time of seizure;\\n(e)the details of other persons present, if any, at the time of seizure;\\n(f)the signature of the authorised officer;\\n(g)the signature of the witnesses with thump impression and date;\\n(h)the description of identification mark, if any, placed by any person from whose possession or control the documents are seized;\\n(i)the signature of the owner or the person who is in immediate possession or control of premises, building, vehicle, vessel or aircraft, if available therein;\\n(j)the signature of the persons from whom the seizure is effected.\\nPower to place identification mark.\\n                 ',\n",
       " ' 15. The authorised officer while executing the warrant of authority, if authorised, shall have the power to place mark of identification on any books of account or other documents:\\n Provided that any person from whose possession or control the document is seized shall be permitted to put his own identification mark on the documents seized:\\n                 ',\n",
       " ' 17. (1) The authorised officer while executing the warrant of authority shall have the power to record on oath the statement of any person who is found to be in possession or in control of the information or documents referred to in sub clauses (i), (iii) or (iv) of sub-section (8) of section 11C of the Act:\\n Provided that on the refusal to take oath by such persons, the statement maybe recorded, on recording such refusal in the statement duly singed by the authorised officer.\\n                 ',\n",
       " ' whose signatures shall be appended to the statement so recorded:\\n Provided that the authorised officer on reasonable steps taken by him to find witness, finds that no witness is available or willing to stand as witness and on noting the same, shall record the statement, on the same being vediographed, and the statement shall not be invalid on the mere ground that no one has stood as witness for the recording of the statement.\\n                ',\n",
       " ' 18. (1) The authorised officer before executing the warrant of authority, shall,-\\n(a)identify himself or herself either by name or by official identification documents;\\n(b)show the warrant of authority to the person who occupies the premises or to any person in charge of vessel, vehicle or aircraft authorised to be searched and on request provide copy of such warrant of authority:\\nProvided if such person is not present a copy of the warrant shall be pasted in a prominent place on the premises, vessel, vehicle or aircraft authorised to be searched;\\n(c)conduct search and seizure if any, in the presence of the witnesses and prepare panchnama as prescribed in Form-G of the Schedule if witnesses are available.\\n(d)deliver a copy of the seizure memo prepared under regulation 14 to any person from whose possession or control the documents are seized;\\n                 ',\n",
       " '  Provided further that in respect of any other dwelling place, wherein the books of account, other documents have been stated or believed to be kept, the search shall be initiated, resumed and completed only in daytime, unless authorised to the contrary:\\n                 ',\n",
       " ' 19. The occupant of the building, place, vessel, vehicle or aircraft searched, including the person in charge of such vessel, vehicle or aircraft, shall have the right,-\\n(a)to see the warrant of authority and authorised officer and to obtain a copy thereof;\\n(b)to verify the identity of the authorised officer and officials assisting him;\\n(c)to be present during the search and seizure;\\n(d)to put his own mark of identification on the documents seized along with his signature, stamp,seal etc.\\n(e)to have copy of document seized or take extracts therefrom, in the presence of the authorised officer or any other person authorised by him in this behalf, at such place and reasonable time as the authorised officer may appoint in this behalf;\\n(f)to have a copy of any statement recorded during search and seizure;\\nObligations of persons under search and persons in charge.\\n                 ',\n",
       " ' (2)Any person in charge of or in any vessel, vehicle or aircraft authorised to be searched shall, on demand by the authorised officer, locate and identify the vessel, vehicle or aircraft.\\n                 ',\n",
       " ' (3)Any person in charge of or in any building, place, vessel, vehicle or aircraft authorised to be searched shall, on demand by the authorised officer to execute a warrant of authority and on production of such authority, allow him free ingress thereto and afford all reasonable facilities for a search therein.\\n                 ',\n",
       " ' (8)No person shall prevent any authorised officer or any officers assisting him from execution of warrant of authority.\\n                 ',\n",
       " ' 21. (1) The documents seized shall be transmited in safe manner to the place of custody.\\n                 ',\n",
       " ' (2)The authorised officer who is not the Investigating Authority, shall hand over the documents seized along with the seizure memo to the Investigating Authority.\\n                 ',\n",
       " ' (5)The authorised officer or the Investigating Authority, as the case may be, shall ensure that the physical documents and electronic storage devices on which electronic records are stored, are maintained and stored in suitable physical and environmental conditions.\\n                 ',\n",
       " ' 22.(1) The Investigating Authority shall return the documents kept under regulation 21 to the company or the other body corporate, or, as the case may be, to the managing director or the manager or any other person from whose or custody or power they were seized:\\n Provided that the Investigating Authority may, before returning such books, registers, other documents and record as aforesaid, place identification mark on them or any part thereof.\\n                 ',\n",
       " ' (2)Any personal information severable from any document seized and kept in accordance with these regulations shall be returned by the Investigating Authority to the person to whom such information relates on a written request being made in this behalf by him.\\n Protection of personal information.\\n                 ',\n",
       " ' 24.Notwithstanding anything contained in regulation 22 of these regulations, -\\n(a)the forensic copy of the data or mirror image of the storage device and any copy\\nthereof may be retained, on being satisfied that such data or image has evidentiary value.\\n(b)any copy made or generated from any other documents seized in accordance with these regulations may be retained.\\n                 ']"
      ]
     },
     "execution_count": 13,
     "metadata": {},
     "output_type": "execute_result"
    }
   ],
   "source": [
    "r0"
   ]
  },
  {
   "cell_type": "markdown",
   "metadata": {},
   "source": [
    "## Topic Analysis - Clusterwise"
   ]
  },
  {
   "cell_type": "code",
   "execution_count": 18,
   "metadata": {},
   "outputs": [
    {
     "name": "stderr",
     "output_type": "stream",
     "text": [
      "/home/deepti-saravanan/anaconda3/lib/python3.7/site-packages/sklearn/utils/deprecation.py:143: FutureWarning: The sklearn.feature_extraction.stop_words module is  deprecated in version 0.22 and will be removed in version 0.24. The corresponding classes / functions should instead be imported from sklearn.feature_extraction.text. Anything that cannot be imported from sklearn.feature_extraction.text is now part of the private API.\n",
      "  warnings.warn(message, FutureWarning)\n"
     ]
    }
   ],
   "source": [
    "from sklearn.pipeline import Pipeline\n",
    "from sklearn.decomposition import LatentDirichletAllocation\n",
    "from sklearn.feature_extraction.text import CountVectorizer\n",
    "from utils import LemmaTokenizer, combined_plots"
   ]
  },
  {
   "cell_type": "code",
   "execution_count": 19,
   "metadata": {},
   "outputs": [],
   "source": [
    "%store -r lol"
   ]
  },
  {
   "cell_type": "code",
   "execution_count": 20,
   "metadata": {},
   "outputs": [],
   "source": [
    "counter = CountVectorizer(tokenizer=LemmaTokenizer())\n",
    "subj = pd.DataFrame(\n",
    "    counter.fit_transform(lol.astype(str)).toarray(),\n",
    "    columns=counter.get_feature_names()\n",
    ")"
   ]
  },
  {
   "cell_type": "code",
   "execution_count": 32,
   "metadata": {},
   "outputs": [],
   "source": [
    "%store -r vaelabel"
   ]
  },
  {
   "cell_type": "code",
   "execution_count": 42,
   "metadata": {},
   "outputs": [],
   "source": [
    "subj['label'] = vaelabel"
   ]
  },
  {
   "cell_type": "code",
   "execution_count": 43,
   "metadata": {},
   "outputs": [],
   "source": [
    "groups = pd.melt(\n",
    "    subj.groupby('label').sum().reset_index(),\n",
    "    id_vars='label', var_name='word', value_name='count'\n",
    ").groupby('label').apply(lambda group: group.sort_values(by='count', ascending=False)).reset_index(drop=True)"
   ]
  },
  {
   "cell_type": "code",
   "execution_count": 44,
   "metadata": {},
   "outputs": [],
   "source": [
    "groups.to_csv('vae-lda.csv',index=False)"
   ]
  },
  {
   "cell_type": "code",
   "execution_count": 45,
   "metadata": {},
   "outputs": [],
   "source": [
    "pipeline = Pipeline([\n",
    "    ('counts', CountVectorizer(max_features=100, tokenizer=LemmaTokenizer())),\n",
    "    ('lda', LatentDirichletAllocation(n_components=3, learning_decay=0.5, max_iter=10, random_state=1))\n",
    "])"
   ]
  },
  {
   "cell_type": "code",
   "execution_count": 46,
   "metadata": {},
   "outputs": [
    {
     "data": {
      "text/plain": [
       "Pipeline(steps=[('counts',\n",
       "                 CountVectorizer(max_features=100,\n",
       "                                 tokenizer=<utils.LemmaTokenizer object at 0x7f09ea890c88>)),\n",
       "                ('lda',\n",
       "                 LatentDirichletAllocation(learning_decay=0.5, n_components=3,\n",
       "                                           random_state=1))])"
      ]
     },
     "execution_count": 46,
     "metadata": {},
     "output_type": "execute_result"
    }
   ],
   "source": [
    "pipeline.fit(lol)"
   ]
  },
  {
   "cell_type": "code",
   "execution_count": 47,
   "metadata": {},
   "outputs": [],
   "source": [
    "vectorizer = pipeline.named_steps['counts']\n",
    "dtm = vectorizer.fit_transform(lol)"
   ]
  },
  {
   "cell_type": "code",
   "execution_count": 48,
   "metadata": {},
   "outputs": [],
   "source": [
    "import pyLDAvis\n",
    "import pyLDAvis.sklearn\n",
    "pyLDAvis.enable_notebook()"
   ]
  },
  {
   "cell_type": "code",
   "execution_count": 49,
   "metadata": {},
   "outputs": [],
   "source": [
    "p = pyLDAvis.sklearn.prepare(pipeline.named_steps['lda'], dtm, vectorizer)"
   ]
  },
  {
   "cell_type": "markdown",
   "metadata": {},
   "source": [
    "#### Hie-Spec"
   ]
  },
  {
   "cell_type": "code",
   "execution_count": 31,
   "metadata": {},
   "outputs": [
    {
     "data": {
      "text/html": [
       "\n",
       "<link rel=\"stylesheet\" type=\"text/css\" href=\"https://cdn.rawgit.com/bmabey/pyLDAvis/files/ldavis.v1.0.0.css\">\n",
       "\n",
       "\n",
       "<div id=\"ldavis_el175601396811109440484353288228\"></div>\n",
       "<script type=\"text/javascript\">\n",
       "\n",
       "var ldavis_el175601396811109440484353288228_data = {\"mdsDat\": {\"x\": [-0.1623392447126845, -0.17166709220834325, 0.33400633692102766], \"y\": [0.26814428053034634, -0.263197987504971, -0.00494629302537536], \"topics\": [1, 2, 3], \"cluster\": [1, 1, 1], \"Freq\": [38.25290120527005, 31.523907325195694, 30.22319146953426]}, \"tinfo\": {\"Term\": [\"board\", \"entity\", \"list\", \"investment\", \"issuer\", \"manager\", \"security\", \"depository\", \"company\", \"offer\", \"stock\", \"applicant\", \"fund\", \"application\", \"exchange\", \"research\", \"specify\", \"sub\", \"share\", \"participant\", \"issue\", \"public\", \"director\", \"recognise\", \"acquirer\", \"investor\", \"unit\", \"certificate\", \"designate\", \"committee\", \"investment\", \"manager\", \"offer\", \"fund\", \"stock\", \"acquirer\", \"recognise\", \"exchange\", \"alternative\", \"corporation\", \"target\", \"acquisition\", \"invit\", \"open\", \"adviser\", \"clear\", \"clearing\", \"scheme\", \"right\", \"price\", \"announcement\", \"client\", \"voting\", \"recognize\", \"public\", \"company\", \"equity\", \"share\", \"shareholder\", \"date\", \"document\", \"portfolio\", \"person\", \"act\", \"entity\", \"list\", \"issuer\", \"research\", \"analyst\", \"unit\", \"reit\", \"debt\", \"holder\", \"committee\", \"foreign\", \"trust\", \"authorised\", \"party\", \"listed\", \"valuer\", \"investor\", \"security\", \"transaction\", \"convertible\", \"issue\", \"time\", \"report\", \"disclosure\", \"non\", \"officer\", \"requirement\", \"member\", \"sebi\", \"financial\", \"person\", \"portfolio\", \"depository\", \"board\", \"applicant\", \"application\", \"participant\", \"certificate\", \"registration\", \"inspect\", \"designate\", \"inspection\", \"notice\", \"proceeding\", \"specify\", \"authority\", \"settlement\", \"grant\", \"respect\", \"fee\", \"sub\", \"provision\", \"director\", \"decision\", \"information\", \"case\", \"term\", \"trustee\", \"record\", \"shall\", \"include\", \"requirement\", \"officer\"], \"Freq\": [889.0, 424.0, 358.0, 287.0, 235.0, 257.0, 215.0, 169.0, 261.0, 195.0, 192.0, 146.0, 179.0, 133.0, 169.0, 121.0, 122.0, 200.0, 199.0, 99.0, 142.0, 147.0, 213.0, 115.0, 114.0, 99.0, 87.0, 74.0, 74.0, 75.0, 286.614966482644, 256.8052204913125, 195.15222276133153, 179.24914196360245, 192.07093823242454, 113.6616328588133, 114.6446803252386, 167.98120451243327, 87.81173211002202, 87.79738538111387, 79.85677571553109, 65.9364167558031, 67.85956484710105, 59.97368225445668, 51.015961277721615, 50.03069307317613, 50.01025105083878, 47.03227607219611, 63.656838862652016, 43.01525396066001, 38.09910203170524, 37.08706770931494, 39.94025614033661, 35.90587289467953, 141.72595834794862, 249.71083773110794, 34.27513353666286, 175.95242771562855, 48.69808470432899, 42.1772628407811, 87.77698070223084, 90.34793169500105, 101.68208221356353, 53.95840787668307, 423.41122733496303, 358.2344644693562, 234.8884075882757, 120.63742119998312, 69.50594700799525, 86.35952951322614, 69.4723959448283, 66.48834720113376, 66.47268418110208, 74.36769389097803, 60.42186597882927, 58.398333121346276, 44.417256155103495, 44.40335149730055, 38.423212095375504, 47.15319058735834, 95.72613009611688, 204.11205167932894, 37.59246147328125, 37.11799110327705, 128.30550324205265, 36.70875680895781, 48.822500044519934, 73.82132560525476, 44.52401883635245, 70.65541960753295, 41.97307906428715, 26.26611039032166, 46.322645350345944, 31.21515825642042, 88.51225210193759, 55.59112935478491, 168.6757108196975, 885.8014398198833, 146.30387666501142, 132.64738073166833, 98.61550559339557, 74.21980360168573, 58.69304030902476, 48.983986452676156, 73.87569934855983, 37.28137062778546, 37.27061017347849, 34.35606482364508, 119.66247763903839, 62.51339694029135, 46.504526516575176, 77.89546048211092, 41.00931226827899, 38.991305570853434, 157.21181551429032, 69.39884741916903, 163.30506932797405, 26.549172828671264, 57.25018372147047, 98.83961504623835, 24.487113978283208, 52.5097923373405, 28.24872076506178, 26.022694669649596, 15.882356340128757, 21.194731702038993, 35.21977845307257], \"Total\": [889.0, 424.0, 358.0, 287.0, 235.0, 257.0, 215.0, 169.0, 261.0, 195.0, 192.0, 146.0, 179.0, 133.0, 169.0, 121.0, 122.0, 200.0, 199.0, 99.0, 142.0, 147.0, 213.0, 115.0, 114.0, 99.0, 87.0, 74.0, 74.0, 75.0, 287.3145689380935, 257.48895499047694, 195.84979272395674, 179.94286268718005, 192.86766308850036, 114.32670313287865, 115.32093902269138, 169.00924972128917, 88.4779432838142, 88.47771532493908, 80.52444705271517, 66.6060894026677, 68.59422152704887, 60.640810885029964, 51.69300972317928, 50.69898048317926, 50.69858015543492, 47.71653577230716, 64.61237793419939, 43.74011802074935, 38.768789856750544, 37.77422211064, 40.75505672079969, 36.78055993287439, 147.1575763227542, 261.55809328656045, 36.79605105089186, 199.02013349460478, 56.53178364636883, 49.759589244145324, 105.30113210254751, 146.59716640788608, 211.06106016601854, 85.1733126564447, 424.0850423223218, 358.9162156562066, 235.59632266464425, 121.3013291290918, 70.16895224923721, 87.21123727544722, 70.16841055258878, 67.16104274607338, 67.1608269725933, 75.17786010197723, 61.14422132634389, 59.13947724217675, 45.1033652761057, 45.10342640902295, 39.08849865870987, 48.1093191657313, 99.16618406013842, 215.38628178116616, 40.075558632356795, 40.07169704836069, 142.19481277608074, 40.98505594937798, 56.07604988974527, 90.01481025188015, 61.77382132418811, 106.21366301807768, 63.52448459323405, 42.96207406871295, 81.90403382141444, 55.86757457518486, 211.06106016601854, 146.59716640788608, 169.36631170280407, 889.6564301300658, 146.9807389091707, 133.35587178288338, 99.29051237585514, 74.96052151586832, 59.38689560640916, 49.65359988360621, 74.96978856614068, 37.9749735145945, 37.97526958947072, 35.05537622639541, 122.70020273758597, 64.28479352293907, 49.70689745107888, 86.81132727753047, 46.88052392496049, 45.89184778750502, 200.47435046378524, 89.99568098142822, 213.51161134180427, 35.22296144886186, 76.46484939599843, 132.14511779152562, 35.344473965157675, 87.36789254909344, 47.191189777090955, 46.25727053107279, 39.59498258675574, 63.52448459323405, 106.21366301807768], \"Category\": [\"Default\", \"Default\", \"Default\", \"Default\", \"Default\", \"Default\", \"Default\", \"Default\", \"Default\", \"Default\", \"Default\", \"Default\", \"Default\", \"Default\", \"Default\", \"Default\", \"Default\", \"Default\", \"Default\", \"Default\", \"Default\", \"Default\", \"Default\", \"Default\", \"Default\", \"Default\", \"Default\", \"Default\", \"Default\", \"Default\", \"Topic1\", \"Topic1\", \"Topic1\", \"Topic1\", \"Topic1\", \"Topic1\", \"Topic1\", \"Topic1\", \"Topic1\", \"Topic1\", \"Topic1\", \"Topic1\", \"Topic1\", \"Topic1\", \"Topic1\", \"Topic1\", \"Topic1\", \"Topic1\", \"Topic1\", \"Topic1\", \"Topic1\", \"Topic1\", \"Topic1\", \"Topic1\", \"Topic1\", \"Topic1\", \"Topic1\", \"Topic1\", \"Topic1\", \"Topic1\", \"Topic1\", \"Topic1\", \"Topic1\", \"Topic1\", \"Topic2\", \"Topic2\", \"Topic2\", \"Topic2\", \"Topic2\", \"Topic2\", \"Topic2\", \"Topic2\", \"Topic2\", \"Topic2\", \"Topic2\", \"Topic2\", \"Topic2\", \"Topic2\", \"Topic2\", \"Topic2\", \"Topic2\", \"Topic2\", \"Topic2\", \"Topic2\", \"Topic2\", \"Topic2\", \"Topic2\", \"Topic2\", \"Topic2\", \"Topic2\", \"Topic2\", \"Topic2\", \"Topic2\", \"Topic2\", \"Topic2\", \"Topic2\", \"Topic3\", \"Topic3\", \"Topic3\", \"Topic3\", \"Topic3\", \"Topic3\", \"Topic3\", \"Topic3\", \"Topic3\", \"Topic3\", \"Topic3\", \"Topic3\", \"Topic3\", \"Topic3\", \"Topic3\", \"Topic3\", \"Topic3\", \"Topic3\", \"Topic3\", \"Topic3\", \"Topic3\", \"Topic3\", \"Topic3\", \"Topic3\", \"Topic3\", \"Topic3\", \"Topic3\", \"Topic3\", \"Topic3\", \"Topic3\", \"Topic3\"], \"logprob\": [30.0, 29.0, 28.0, 27.0, 26.0, 25.0, 24.0, 23.0, 22.0, 21.0, 20.0, 19.0, 18.0, 17.0, 16.0, 15.0, 14.0, 13.0, 12.0, 11.0, 10.0, 9.0, 8.0, 7.0, 6.0, 5.0, 4.0, 3.0, 2.0, 1.0, -2.6194, -2.7292, -3.0037, -3.0887, -3.0196, -3.5443, -3.5357, -3.1536, -3.8023, -3.8025, -3.8973, -4.0888, -4.0601, -4.1836, -4.3454, -4.3649, -4.3653, -4.4267, -4.124, -4.5159, -4.6373, -4.6642, -4.5901, -4.6966, -3.3236, -2.7572, -4.7431, -3.1073, -4.3919, -4.5356, -3.8027, -3.7738, -3.6556, -4.2893, -2.0357, -2.2028, -2.6249, -3.2912, -3.8426, -3.6255, -3.8431, -3.887, -3.8872, -3.775, -3.9827, -4.0167, -4.2904, -4.2907, -4.4354, -4.2306, -3.5225, -2.7653, -4.4572, -4.4699, -3.2296, -4.481, -4.1958, -3.7824, -4.288, -3.8262, -4.347, -4.8157, -4.2484, -4.6431, -3.6009, -4.066, -2.9139, -1.2554, -3.0562, -3.1542, -3.4507, -3.7349, -3.9696, -4.1504, -3.7395, -4.4234, -4.4237, -4.5051, -3.2572, -3.9065, -4.2023, -3.6865, -4.3281, -4.3785, -2.9843, -3.802, -2.9463, -4.7629, -3.9945, -3.4484, -4.8437, -4.0809, -4.7008, -4.7829, -5.2767, -4.9881, -4.4803], \"loglift\": [30.0, 29.0, 28.0, 27.0, 26.0, 25.0, 24.0, 23.0, 22.0, 21.0, 20.0, 19.0, 18.0, 17.0, 16.0, 15.0, 14.0, 13.0, 12.0, 11.0, 10.0, 9.0, 8.0, 7.0, 6.0, 5.0, 4.0, 3.0, 2.0, 1.0, 0.9585, 0.9583, 0.9574, 0.9571, 0.9568, 0.9551, 0.9551, 0.9548, 0.9534, 0.9532, 0.9526, 0.9508, 0.9502, 0.9499, 0.9478, 0.9477, 0.9473, 0.9465, 0.9461, 0.9442, 0.9435, 0.9426, 0.9408, 0.9369, 0.9233, 0.9146, 0.89, 0.8378, 0.8118, 0.7956, 0.7789, 0.4769, 0.2307, 0.5045, 1.1528, 1.1525, 1.1514, 1.1489, 1.1449, 1.1446, 1.1445, 1.1444, 1.1441, 1.1436, 1.1425, 1.1418, 1.1391, 1.1388, 1.1373, 1.1343, 1.1191, 1.1007, 1.0905, 1.0779, 1.0516, 1.0442, 1.0159, 0.9561, 0.827, 0.7468, 0.74, 0.6624, 0.5845, 0.5723, 0.2854, 0.1848, 1.1925, 1.1922, 1.1919, 1.1912, 1.1897, 1.1866, 1.1848, 1.183, 1.1819, 1.1781, 1.1778, 1.1764, 1.1715, 1.1686, 1.13, 1.0882, 1.0628, 1.0336, 0.9535, 0.9367, 0.9285, 0.9139, 0.9072, 0.9062, 0.8296, 0.6874, 0.6834, 0.6213, 0.2831, 0.0989, 0.0927]}, \"token.table\": {\"Topic\": [1, 1, 1, 2, 3, 1, 1, 2, 1, 3, 3, 2, 2, 3, 1, 2, 3, 1, 2, 3, 3, 1, 1, 1, 2, 1, 2, 1, 2, 1, 1, 2, 2, 1, 3, 3, 2, 3, 1, 2, 3, 1, 2, 3, 1, 2, 3, 2, 1, 2, 1, 2, 1, 3, 1, 2, 3, 2, 1, 1, 3, 2, 1, 2, 3, 1, 2, 3, 3, 3, 1, 1, 2, 3, 1, 1, 2, 3, 2, 2, 2, 1, 1, 2, 1, 2, 3, 3, 1, 2, 3, 1, 3, 2, 1, 2, 3, 1, 2, 3, 1, 3, 1, 2, 3, 1, 2, 3, 1, 1, 1, 2, 3, 3, 2, 1, 2, 2, 3, 2, 1, 2, 3, 1, 3, 1, 1, 2, 1, 2, 3, 1, 3, 1, 2, 3, 1, 2, 1, 2, 3, 1, 2, 3, 1, 1, 2, 3, 1, 1, 2, 3, 2, 3, 1, 2, 2, 1, 2, 3, 1, 2, 1, 2, 1], \"Freq\": [0.9971423724823156, 0.9909003905182965, 0.6340014062598991, 0.14088920139108868, 0.23481533565181448, 0.9865937439725331, 0.9945981646263964, 0.997592207895066, 0.9801698773783964, 0.9933274324482968, 0.9973314127220226, 0.9755369633872923, 0.015555778360603506, 0.9800140367180209, 0.0033720882560938797, 0.00112402941869796, 0.9958900649663924, 0.2043208288829532, 0.04540462864065627, 0.7491763725708284, 0.9871863015832275, 0.9862131254609515, 0.9862209128284625, 0.9795039562066344, 0.9843323539619312, 0.9558106073441301, 0.042055666723141726, 0.07486580856257317, 0.9233449722717358, 0.9946007271640701, 0.8440584144279625, 0.14067640240466042, 0.9827125562885746, 0.22712457076088644, 0.7665454263179917, 0.9978371631340307, 0.01333870641929007, 0.9870642750274652, 0.07493737647076291, 0.1592419250003712, 0.7634245227958972, 0.13331139582943635, 0.8220869409481908, 0.04443713194314545, 0.8356985176028421, 0.0949657406366866, 0.07597259250934928, 0.9974414510910831, 0.9240121977484839, 0.05435365869108729, 0.9940284349942178, 0.005916835922584629, 0.15253253763963479, 0.8498241382779652, 0.37588887936666815, 0.5548835838269863, 0.053698411338095456, 0.9812865173270119, 0.9947602106963299, 0.10367310675054597, 0.8985002585047318, 0.9827157135354065, 0.10102290084951251, 0.5051145042475627, 0.40409160339805006, 0.013077904526054453, 0.23540228146898018, 0.7454405579851039, 0.9868368077009859, 0.9743258934935188, 0.9989051410123193, 0.010084082688848441, 0.9680719381294502, 0.03025224806654532, 0.9913371489052536, 0.07735865876712461, 0.9001734838356318, 0.02109781602739762, 0.9974688795737569, 0.9974472714905581, 0.9721529683650993, 0.9981010642165408, 0.37242149842230193, 0.6051849349362407, 0.09712852259069563, 0.7284639194302172, 0.17806895808294199, 0.9743182971440674, 0.9956609975832117, 0.6684639055138859, 0.32952446046459166, 0.9894326794830484, 0.9970741174669797, 0.975535641150265, 0.48327247062896306, 0.4216789204507619, 0.09949727336478652, 0.6139272825341494, 0.38199919802124854, 0.006821414250379438, 0.9830791947018009, 0.9698940265373404, 0.20000959827966114, 0.03333493304661019, 0.7667034600720344, 0.9649520163919911, 0.03397718367577433, 0.006795436735154867, 0.9972169926345447, 0.9787779214264564, 0.21190396019331806, 0.19071356417398624, 0.5933310885412906, 0.9934851686982707, 0.9833484819823145, 0.12483047600112972, 0.873813332007908, 0.661162389099862, 0.330581194549931, 0.9975158629237185, 0.02133081962993106, 0.1066540981496553, 0.8745636048271734, 0.9905222814299912, 0.015476910647343613, 0.984983491347186, 0.4273293800927419, 0.5616328995504608, 0.03714256977669567, 0.9471355293057396, 0.018571284888347837, 0.06035379703496029, 0.945542820214378, 0.21618223222406982, 0.23780045544647682, 0.5620738037825815, 0.8843326396661831, 0.11556619722910348, 0.866769042818754, 0.017689164139158244, 0.1238241489741077, 0.024449837352070073, 0.008149945784023357, 0.9779934940828029, 0.9955012516115663, 0.1895504333202193, 0.02494084648950254, 0.7831425797703797, 0.9934871076808284, 0.028292965994791513, 0.28292965994791514, 0.6790311838749963, 0.9027680734582855, 0.09759654848197681, 0.04990572978277115, 0.9482088658726519, 0.9807323754738213, 0.3777131282119088, 0.022891704740115683, 0.6066301756130656, 0.011466412256503238, 0.9861114540592785, 0.02078599359419555, 0.9769416989271908, 0.9814732997190422], \"Term\": [\"acquirer\", \"acquisition\", \"act\", \"act\", \"act\", \"adviser\", \"alternative\", \"analyst\", \"announcement\", \"applicant\", \"application\", \"authorised\", \"authority\", \"authority\", \"board\", \"board\", \"board\", \"case\", \"case\", \"case\", \"certificate\", \"clear\", \"clearing\", \"client\", \"committee\", \"company\", \"company\", \"convertible\", \"convertible\", \"corporation\", \"date\", \"date\", \"debt\", \"decision\", \"decision\", \"depository\", \"designate\", \"designate\", \"director\", \"director\", \"director\", \"disclosure\", \"disclosure\", \"disclosure\", \"document\", \"document\", \"document\", \"entity\", \"equity\", \"equity\", \"exchange\", \"exchange\", \"fee\", \"fee\", \"financial\", \"financial\", \"financial\", \"foreign\", \"fund\", \"grant\", \"grant\", \"holder\", \"include\", \"include\", \"include\", \"information\", \"information\", \"information\", \"inspect\", \"inspection\", \"investment\", \"investor\", \"investor\", \"investor\", \"invit\", \"issue\", \"issue\", \"issue\", \"issuer\", \"list\", \"listed\", \"manager\", \"member\", \"member\", \"non\", \"non\", \"non\", \"notice\", \"offer\", \"officer\", \"officer\", \"open\", \"participant\", \"party\", \"person\", \"person\", \"person\", \"portfolio\", \"portfolio\", \"portfolio\", \"price\", \"proceeding\", \"provision\", \"provision\", \"provision\", \"public\", \"public\", \"public\", \"recognise\", \"recognize\", \"record\", \"record\", \"record\", \"registration\", \"reit\", \"report\", \"report\", \"requirement\", \"requirement\", \"research\", \"respect\", \"respect\", \"respect\", \"right\", \"right\", \"scheme\", \"sebi\", \"sebi\", \"security\", \"security\", \"security\", \"settlement\", \"settlement\", \"shall\", \"shall\", \"shall\", \"share\", \"share\", \"shareholder\", \"shareholder\", \"shareholder\", \"specify\", \"specify\", \"specify\", \"stock\", \"sub\", \"sub\", \"sub\", \"target\", \"term\", \"term\", \"term\", \"time\", \"time\", \"transaction\", \"transaction\", \"trust\", \"trustee\", \"trustee\", \"trustee\", \"unit\", \"unit\", \"valuer\", \"valuer\", \"voting\"]}, \"R\": 30, \"lambda.step\": 0.01, \"plot.opts\": {\"xlab\": \"PC1\", \"ylab\": \"PC2\"}, \"topic.order\": [3, 2, 1]};\n",
       "\n",
       "function LDAvis_load_lib(url, callback){\n",
       "  var s = document.createElement('script');\n",
       "  s.src = url;\n",
       "  s.async = true;\n",
       "  s.onreadystatechange = s.onload = callback;\n",
       "  s.onerror = function(){console.warn(\"failed to load library \" + url);};\n",
       "  document.getElementsByTagName(\"head\")[0].appendChild(s);\n",
       "}\n",
       "\n",
       "if(typeof(LDAvis) !== \"undefined\"){\n",
       "   // already loaded: just create the visualization\n",
       "   !function(LDAvis){\n",
       "       new LDAvis(\"#\" + \"ldavis_el175601396811109440484353288228\", ldavis_el175601396811109440484353288228_data);\n",
       "   }(LDAvis);\n",
       "}else if(typeof define === \"function\" && define.amd){\n",
       "   // require.js is available: use it to load d3/LDAvis\n",
       "   require.config({paths: {d3: \"https://cdnjs.cloudflare.com/ajax/libs/d3/3.5.5/d3.min\"}});\n",
       "   require([\"d3\"], function(d3){\n",
       "      window.d3 = d3;\n",
       "      LDAvis_load_lib(\"https://cdn.rawgit.com/bmabey/pyLDAvis/files/ldavis.v1.0.0.js\", function(){\n",
       "        new LDAvis(\"#\" + \"ldavis_el175601396811109440484353288228\", ldavis_el175601396811109440484353288228_data);\n",
       "      });\n",
       "    });\n",
       "}else{\n",
       "    // require.js not available: dynamically load d3 & LDAvis\n",
       "    LDAvis_load_lib(\"https://cdnjs.cloudflare.com/ajax/libs/d3/3.5.5/d3.min.js\", function(){\n",
       "         LDAvis_load_lib(\"https://cdn.rawgit.com/bmabey/pyLDAvis/files/ldavis.v1.0.0.js\", function(){\n",
       "                 new LDAvis(\"#\" + \"ldavis_el175601396811109440484353288228\", ldavis_el175601396811109440484353288228_data);\n",
       "            })\n",
       "         });\n",
       "}\n",
       "</script>"
      ],
      "text/plain": [
       "<IPython.core.display.HTML object>"
      ]
     },
     "execution_count": 31,
     "metadata": {},
     "output_type": "execute_result"
    }
   ],
   "source": [
    "pyLDAvis.display(p)"
   ]
  },
  {
   "cell_type": "markdown",
   "metadata": {},
   "source": [
    "#### VAE"
   ]
  },
  {
   "cell_type": "code",
   "execution_count": 50,
   "metadata": {},
   "outputs": [
    {
     "data": {
      "text/html": [
       "\n",
       "<link rel=\"stylesheet\" type=\"text/css\" href=\"https://cdn.rawgit.com/bmabey/pyLDAvis/files/ldavis.v1.0.0.css\">\n",
       "\n",
       "\n",
       "<div id=\"ldavis_el175601396811109428487159551239\"></div>\n",
       "<script type=\"text/javascript\">\n",
       "\n",
       "var ldavis_el175601396811109428487159551239_data = {\"mdsDat\": {\"x\": [-0.1623392447126845, -0.17166709220834325, 0.33400633692102766], \"y\": [0.26814428053034634, -0.263197987504971, -0.00494629302537536], \"topics\": [1, 2, 3], \"cluster\": [1, 1, 1], \"Freq\": [38.25290120527005, 31.523907325195694, 30.22319146953426]}, \"tinfo\": {\"Term\": [\"board\", \"entity\", \"list\", \"investment\", \"issuer\", \"manager\", \"security\", \"depository\", \"company\", \"offer\", \"stock\", \"applicant\", \"fund\", \"application\", \"exchange\", \"research\", \"specify\", \"sub\", \"share\", \"participant\", \"issue\", \"public\", \"director\", \"recognise\", \"acquirer\", \"investor\", \"unit\", \"certificate\", \"designate\", \"committee\", \"investment\", \"manager\", \"offer\", \"fund\", \"stock\", \"acquirer\", \"recognise\", \"exchange\", \"alternative\", \"corporation\", \"target\", \"acquisition\", \"invit\", \"open\", \"adviser\", \"clear\", \"clearing\", \"scheme\", \"right\", \"price\", \"announcement\", \"client\", \"voting\", \"recognize\", \"public\", \"company\", \"equity\", \"share\", \"shareholder\", \"date\", \"document\", \"portfolio\", \"person\", \"act\", \"entity\", \"list\", \"issuer\", \"research\", \"analyst\", \"unit\", \"reit\", \"debt\", \"holder\", \"committee\", \"foreign\", \"trust\", \"authorised\", \"party\", \"listed\", \"valuer\", \"investor\", \"security\", \"transaction\", \"convertible\", \"issue\", \"time\", \"report\", \"disclosure\", \"non\", \"officer\", \"requirement\", \"member\", \"sebi\", \"financial\", \"person\", \"portfolio\", \"depository\", \"board\", \"applicant\", \"application\", \"participant\", \"certificate\", \"registration\", \"inspect\", \"designate\", \"inspection\", \"notice\", \"proceeding\", \"specify\", \"authority\", \"settlement\", \"grant\", \"respect\", \"fee\", \"sub\", \"provision\", \"director\", \"decision\", \"information\", \"case\", \"term\", \"trustee\", \"record\", \"shall\", \"include\", \"requirement\", \"officer\"], \"Freq\": [889.0, 424.0, 358.0, 287.0, 235.0, 257.0, 215.0, 169.0, 261.0, 195.0, 192.0, 146.0, 179.0, 133.0, 169.0, 121.0, 122.0, 200.0, 199.0, 99.0, 142.0, 147.0, 213.0, 115.0, 114.0, 99.0, 87.0, 74.0, 74.0, 75.0, 286.614966482644, 256.8052204913125, 195.15222276133153, 179.24914196360245, 192.07093823242454, 113.6616328588133, 114.6446803252386, 167.98120451243327, 87.81173211002202, 87.79738538111387, 79.85677571553109, 65.9364167558031, 67.85956484710105, 59.97368225445668, 51.015961277721615, 50.03069307317613, 50.01025105083878, 47.03227607219611, 63.656838862652016, 43.01525396066001, 38.09910203170524, 37.08706770931494, 39.94025614033661, 35.90587289467953, 141.72595834794862, 249.71083773110794, 34.27513353666286, 175.95242771562855, 48.69808470432899, 42.1772628407811, 87.77698070223084, 90.34793169500105, 101.68208221356353, 53.95840787668307, 423.41122733496303, 358.2344644693562, 234.8884075882757, 120.63742119998312, 69.50594700799525, 86.35952951322614, 69.4723959448283, 66.48834720113376, 66.47268418110208, 74.36769389097803, 60.42186597882927, 58.398333121346276, 44.417256155103495, 44.40335149730055, 38.423212095375504, 47.15319058735834, 95.72613009611688, 204.11205167932894, 37.59246147328125, 37.11799110327705, 128.30550324205265, 36.70875680895781, 48.822500044519934, 73.82132560525476, 44.52401883635245, 70.65541960753295, 41.97307906428715, 26.26611039032166, 46.322645350345944, 31.21515825642042, 88.51225210193759, 55.59112935478491, 168.6757108196975, 885.8014398198833, 146.30387666501142, 132.64738073166833, 98.61550559339557, 74.21980360168573, 58.69304030902476, 48.983986452676156, 73.87569934855983, 37.28137062778546, 37.27061017347849, 34.35606482364508, 119.66247763903839, 62.51339694029135, 46.504526516575176, 77.89546048211092, 41.00931226827899, 38.991305570853434, 157.21181551429032, 69.39884741916903, 163.30506932797405, 26.549172828671264, 57.25018372147047, 98.83961504623835, 24.487113978283208, 52.5097923373405, 28.24872076506178, 26.022694669649596, 15.882356340128757, 21.194731702038993, 35.21977845307257], \"Total\": [889.0, 424.0, 358.0, 287.0, 235.0, 257.0, 215.0, 169.0, 261.0, 195.0, 192.0, 146.0, 179.0, 133.0, 169.0, 121.0, 122.0, 200.0, 199.0, 99.0, 142.0, 147.0, 213.0, 115.0, 114.0, 99.0, 87.0, 74.0, 74.0, 75.0, 287.3145689380935, 257.48895499047694, 195.84979272395674, 179.94286268718005, 192.86766308850036, 114.32670313287865, 115.32093902269138, 169.00924972128917, 88.4779432838142, 88.47771532493908, 80.52444705271517, 66.6060894026677, 68.59422152704887, 60.640810885029964, 51.69300972317928, 50.69898048317926, 50.69858015543492, 47.71653577230716, 64.61237793419939, 43.74011802074935, 38.768789856750544, 37.77422211064, 40.75505672079969, 36.78055993287439, 147.1575763227542, 261.55809328656045, 36.79605105089186, 199.02013349460478, 56.53178364636883, 49.759589244145324, 105.30113210254751, 146.59716640788608, 211.06106016601854, 85.1733126564447, 424.0850423223218, 358.9162156562066, 235.59632266464425, 121.3013291290918, 70.16895224923721, 87.21123727544722, 70.16841055258878, 67.16104274607338, 67.1608269725933, 75.17786010197723, 61.14422132634389, 59.13947724217675, 45.1033652761057, 45.10342640902295, 39.08849865870987, 48.1093191657313, 99.16618406013842, 215.38628178116616, 40.075558632356795, 40.07169704836069, 142.19481277608074, 40.98505594937798, 56.07604988974527, 90.01481025188015, 61.77382132418811, 106.21366301807768, 63.52448459323405, 42.96207406871295, 81.90403382141444, 55.86757457518486, 211.06106016601854, 146.59716640788608, 169.36631170280407, 889.6564301300658, 146.9807389091707, 133.35587178288338, 99.29051237585514, 74.96052151586832, 59.38689560640916, 49.65359988360621, 74.96978856614068, 37.9749735145945, 37.97526958947072, 35.05537622639541, 122.70020273758597, 64.28479352293907, 49.70689745107888, 86.81132727753047, 46.88052392496049, 45.89184778750502, 200.47435046378524, 89.99568098142822, 213.51161134180427, 35.22296144886186, 76.46484939599843, 132.14511779152562, 35.344473965157675, 87.36789254909344, 47.191189777090955, 46.25727053107279, 39.59498258675574, 63.52448459323405, 106.21366301807768], \"Category\": [\"Default\", \"Default\", \"Default\", \"Default\", \"Default\", \"Default\", \"Default\", \"Default\", \"Default\", \"Default\", \"Default\", \"Default\", \"Default\", \"Default\", \"Default\", \"Default\", \"Default\", \"Default\", \"Default\", \"Default\", \"Default\", \"Default\", \"Default\", \"Default\", \"Default\", \"Default\", \"Default\", \"Default\", \"Default\", \"Default\", \"Topic1\", \"Topic1\", \"Topic1\", \"Topic1\", \"Topic1\", \"Topic1\", \"Topic1\", \"Topic1\", \"Topic1\", \"Topic1\", \"Topic1\", \"Topic1\", \"Topic1\", \"Topic1\", \"Topic1\", \"Topic1\", \"Topic1\", \"Topic1\", \"Topic1\", \"Topic1\", \"Topic1\", \"Topic1\", \"Topic1\", \"Topic1\", \"Topic1\", \"Topic1\", \"Topic1\", \"Topic1\", \"Topic1\", \"Topic1\", \"Topic1\", \"Topic1\", \"Topic1\", \"Topic1\", \"Topic2\", \"Topic2\", \"Topic2\", \"Topic2\", \"Topic2\", \"Topic2\", \"Topic2\", \"Topic2\", \"Topic2\", \"Topic2\", \"Topic2\", \"Topic2\", \"Topic2\", \"Topic2\", \"Topic2\", \"Topic2\", \"Topic2\", \"Topic2\", \"Topic2\", \"Topic2\", \"Topic2\", \"Topic2\", \"Topic2\", \"Topic2\", \"Topic2\", \"Topic2\", \"Topic2\", \"Topic2\", \"Topic2\", \"Topic2\", \"Topic2\", \"Topic2\", \"Topic3\", \"Topic3\", \"Topic3\", \"Topic3\", \"Topic3\", \"Topic3\", \"Topic3\", \"Topic3\", \"Topic3\", \"Topic3\", \"Topic3\", \"Topic3\", \"Topic3\", \"Topic3\", \"Topic3\", \"Topic3\", \"Topic3\", \"Topic3\", \"Topic3\", \"Topic3\", \"Topic3\", \"Topic3\", \"Topic3\", \"Topic3\", \"Topic3\", \"Topic3\", \"Topic3\", \"Topic3\", \"Topic3\", \"Topic3\", \"Topic3\"], \"logprob\": [30.0, 29.0, 28.0, 27.0, 26.0, 25.0, 24.0, 23.0, 22.0, 21.0, 20.0, 19.0, 18.0, 17.0, 16.0, 15.0, 14.0, 13.0, 12.0, 11.0, 10.0, 9.0, 8.0, 7.0, 6.0, 5.0, 4.0, 3.0, 2.0, 1.0, -2.6194, -2.7292, -3.0037, -3.0887, -3.0196, -3.5443, -3.5357, -3.1536, -3.8023, -3.8025, -3.8973, -4.0888, -4.0601, -4.1836, -4.3454, -4.3649, -4.3653, -4.4267, -4.124, -4.5159, -4.6373, -4.6642, -4.5901, -4.6966, -3.3236, -2.7572, -4.7431, -3.1073, -4.3919, -4.5356, -3.8027, -3.7738, -3.6556, -4.2893, -2.0357, -2.2028, -2.6249, -3.2912, -3.8426, -3.6255, -3.8431, -3.887, -3.8872, -3.775, -3.9827, -4.0167, -4.2904, -4.2907, -4.4354, -4.2306, -3.5225, -2.7653, -4.4572, -4.4699, -3.2296, -4.481, -4.1958, -3.7824, -4.288, -3.8262, -4.347, -4.8157, -4.2484, -4.6431, -3.6009, -4.066, -2.9139, -1.2554, -3.0562, -3.1542, -3.4507, -3.7349, -3.9696, -4.1504, -3.7395, -4.4234, -4.4237, -4.5051, -3.2572, -3.9065, -4.2023, -3.6865, -4.3281, -4.3785, -2.9843, -3.802, -2.9463, -4.7629, -3.9945, -3.4484, -4.8437, -4.0809, -4.7008, -4.7829, -5.2767, -4.9881, -4.4803], \"loglift\": [30.0, 29.0, 28.0, 27.0, 26.0, 25.0, 24.0, 23.0, 22.0, 21.0, 20.0, 19.0, 18.0, 17.0, 16.0, 15.0, 14.0, 13.0, 12.0, 11.0, 10.0, 9.0, 8.0, 7.0, 6.0, 5.0, 4.0, 3.0, 2.0, 1.0, 0.9585, 0.9583, 0.9574, 0.9571, 0.9568, 0.9551, 0.9551, 0.9548, 0.9534, 0.9532, 0.9526, 0.9508, 0.9502, 0.9499, 0.9478, 0.9477, 0.9473, 0.9465, 0.9461, 0.9442, 0.9435, 0.9426, 0.9408, 0.9369, 0.9233, 0.9146, 0.89, 0.8378, 0.8118, 0.7956, 0.7789, 0.4769, 0.2307, 0.5045, 1.1528, 1.1525, 1.1514, 1.1489, 1.1449, 1.1446, 1.1445, 1.1444, 1.1441, 1.1436, 1.1425, 1.1418, 1.1391, 1.1388, 1.1373, 1.1343, 1.1191, 1.1007, 1.0905, 1.0779, 1.0516, 1.0442, 1.0159, 0.9561, 0.827, 0.7468, 0.74, 0.6624, 0.5845, 0.5723, 0.2854, 0.1848, 1.1925, 1.1922, 1.1919, 1.1912, 1.1897, 1.1866, 1.1848, 1.183, 1.1819, 1.1781, 1.1778, 1.1764, 1.1715, 1.1686, 1.13, 1.0882, 1.0628, 1.0336, 0.9535, 0.9367, 0.9285, 0.9139, 0.9072, 0.9062, 0.8296, 0.6874, 0.6834, 0.6213, 0.2831, 0.0989, 0.0927]}, \"token.table\": {\"Topic\": [1, 1, 1, 2, 3, 1, 1, 2, 1, 3, 3, 2, 2, 3, 1, 2, 3, 1, 2, 3, 3, 1, 1, 1, 2, 1, 2, 1, 2, 1, 1, 2, 2, 1, 3, 3, 2, 3, 1, 2, 3, 1, 2, 3, 1, 2, 3, 2, 1, 2, 1, 2, 1, 3, 1, 2, 3, 2, 1, 1, 3, 2, 1, 2, 3, 1, 2, 3, 3, 3, 1, 1, 2, 3, 1, 1, 2, 3, 2, 2, 2, 1, 1, 2, 1, 2, 3, 3, 1, 2, 3, 1, 3, 2, 1, 2, 3, 1, 2, 3, 1, 3, 1, 2, 3, 1, 2, 3, 1, 1, 1, 2, 3, 3, 2, 1, 2, 2, 3, 2, 1, 2, 3, 1, 3, 1, 1, 2, 1, 2, 3, 1, 3, 1, 2, 3, 1, 2, 1, 2, 3, 1, 2, 3, 1, 1, 2, 3, 1, 1, 2, 3, 2, 3, 1, 2, 2, 1, 2, 3, 1, 2, 1, 2, 1], \"Freq\": [0.9971423724823156, 0.9909003905182965, 0.6340014062598991, 0.14088920139108868, 0.23481533565181448, 0.9865937439725331, 0.9945981646263964, 0.997592207895066, 0.9801698773783964, 0.9933274324482968, 0.9973314127220226, 0.9755369633872923, 0.015555778360603506, 0.9800140367180209, 0.0033720882560938797, 0.00112402941869796, 0.9958900649663924, 0.2043208288829532, 0.04540462864065627, 0.7491763725708284, 0.9871863015832275, 0.9862131254609515, 0.9862209128284625, 0.9795039562066344, 0.9843323539619312, 0.9558106073441301, 0.042055666723141726, 0.07486580856257317, 0.9233449722717358, 0.9946007271640701, 0.8440584144279625, 0.14067640240466042, 0.9827125562885746, 0.22712457076088644, 0.7665454263179917, 0.9978371631340307, 0.01333870641929007, 0.9870642750274652, 0.07493737647076291, 0.1592419250003712, 0.7634245227958972, 0.13331139582943635, 0.8220869409481908, 0.04443713194314545, 0.8356985176028421, 0.0949657406366866, 0.07597259250934928, 0.9974414510910831, 0.9240121977484839, 0.05435365869108729, 0.9940284349942178, 0.005916835922584629, 0.15253253763963479, 0.8498241382779652, 0.37588887936666815, 0.5548835838269863, 0.053698411338095456, 0.9812865173270119, 0.9947602106963299, 0.10367310675054597, 0.8985002585047318, 0.9827157135354065, 0.10102290084951251, 0.5051145042475627, 0.40409160339805006, 0.013077904526054453, 0.23540228146898018, 0.7454405579851039, 0.9868368077009859, 0.9743258934935188, 0.9989051410123193, 0.010084082688848441, 0.9680719381294502, 0.03025224806654532, 0.9913371489052536, 0.07735865876712461, 0.9001734838356318, 0.02109781602739762, 0.9974688795737569, 0.9974472714905581, 0.9721529683650993, 0.9981010642165408, 0.37242149842230193, 0.6051849349362407, 0.09712852259069563, 0.7284639194302172, 0.17806895808294199, 0.9743182971440674, 0.9956609975832117, 0.6684639055138859, 0.32952446046459166, 0.9894326794830484, 0.9970741174669797, 0.975535641150265, 0.48327247062896306, 0.4216789204507619, 0.09949727336478652, 0.6139272825341494, 0.38199919802124854, 0.006821414250379438, 0.9830791947018009, 0.9698940265373404, 0.20000959827966114, 0.03333493304661019, 0.7667034600720344, 0.9649520163919911, 0.03397718367577433, 0.006795436735154867, 0.9972169926345447, 0.9787779214264564, 0.21190396019331806, 0.19071356417398624, 0.5933310885412906, 0.9934851686982707, 0.9833484819823145, 0.12483047600112972, 0.873813332007908, 0.661162389099862, 0.330581194549931, 0.9975158629237185, 0.02133081962993106, 0.1066540981496553, 0.8745636048271734, 0.9905222814299912, 0.015476910647343613, 0.984983491347186, 0.4273293800927419, 0.5616328995504608, 0.03714256977669567, 0.9471355293057396, 0.018571284888347837, 0.06035379703496029, 0.945542820214378, 0.21618223222406982, 0.23780045544647682, 0.5620738037825815, 0.8843326396661831, 0.11556619722910348, 0.866769042818754, 0.017689164139158244, 0.1238241489741077, 0.024449837352070073, 0.008149945784023357, 0.9779934940828029, 0.9955012516115663, 0.1895504333202193, 0.02494084648950254, 0.7831425797703797, 0.9934871076808284, 0.028292965994791513, 0.28292965994791514, 0.6790311838749963, 0.9027680734582855, 0.09759654848197681, 0.04990572978277115, 0.9482088658726519, 0.9807323754738213, 0.3777131282119088, 0.022891704740115683, 0.6066301756130656, 0.011466412256503238, 0.9861114540592785, 0.02078599359419555, 0.9769416989271908, 0.9814732997190422], \"Term\": [\"acquirer\", \"acquisition\", \"act\", \"act\", \"act\", \"adviser\", \"alternative\", \"analyst\", \"announcement\", \"applicant\", \"application\", \"authorised\", \"authority\", \"authority\", \"board\", \"board\", \"board\", \"case\", \"case\", \"case\", \"certificate\", \"clear\", \"clearing\", \"client\", \"committee\", \"company\", \"company\", \"convertible\", \"convertible\", \"corporation\", \"date\", \"date\", \"debt\", \"decision\", \"decision\", \"depository\", \"designate\", \"designate\", \"director\", \"director\", \"director\", \"disclosure\", \"disclosure\", \"disclosure\", \"document\", \"document\", \"document\", \"entity\", \"equity\", \"equity\", \"exchange\", \"exchange\", \"fee\", \"fee\", \"financial\", \"financial\", \"financial\", \"foreign\", \"fund\", \"grant\", \"grant\", \"holder\", \"include\", \"include\", \"include\", \"information\", \"information\", \"information\", \"inspect\", \"inspection\", \"investment\", \"investor\", \"investor\", \"investor\", \"invit\", \"issue\", \"issue\", \"issue\", \"issuer\", \"list\", \"listed\", \"manager\", \"member\", \"member\", \"non\", \"non\", \"non\", \"notice\", \"offer\", \"officer\", \"officer\", \"open\", \"participant\", \"party\", \"person\", \"person\", \"person\", \"portfolio\", \"portfolio\", \"portfolio\", \"price\", \"proceeding\", \"provision\", \"provision\", \"provision\", \"public\", \"public\", \"public\", \"recognise\", \"recognize\", \"record\", \"record\", \"record\", \"registration\", \"reit\", \"report\", \"report\", \"requirement\", \"requirement\", \"research\", \"respect\", \"respect\", \"respect\", \"right\", \"right\", \"scheme\", \"sebi\", \"sebi\", \"security\", \"security\", \"security\", \"settlement\", \"settlement\", \"shall\", \"shall\", \"shall\", \"share\", \"share\", \"shareholder\", \"shareholder\", \"shareholder\", \"specify\", \"specify\", \"specify\", \"stock\", \"sub\", \"sub\", \"sub\", \"target\", \"term\", \"term\", \"term\", \"time\", \"time\", \"transaction\", \"transaction\", \"trust\", \"trustee\", \"trustee\", \"trustee\", \"unit\", \"unit\", \"valuer\", \"valuer\", \"voting\"]}, \"R\": 30, \"lambda.step\": 0.01, \"plot.opts\": {\"xlab\": \"PC1\", \"ylab\": \"PC2\"}, \"topic.order\": [3, 2, 1]};\n",
       "\n",
       "function LDAvis_load_lib(url, callback){\n",
       "  var s = document.createElement('script');\n",
       "  s.src = url;\n",
       "  s.async = true;\n",
       "  s.onreadystatechange = s.onload = callback;\n",
       "  s.onerror = function(){console.warn(\"failed to load library \" + url);};\n",
       "  document.getElementsByTagName(\"head\")[0].appendChild(s);\n",
       "}\n",
       "\n",
       "if(typeof(LDAvis) !== \"undefined\"){\n",
       "   // already loaded: just create the visualization\n",
       "   !function(LDAvis){\n",
       "       new LDAvis(\"#\" + \"ldavis_el175601396811109428487159551239\", ldavis_el175601396811109428487159551239_data);\n",
       "   }(LDAvis);\n",
       "}else if(typeof define === \"function\" && define.amd){\n",
       "   // require.js is available: use it to load d3/LDAvis\n",
       "   require.config({paths: {d3: \"https://cdnjs.cloudflare.com/ajax/libs/d3/3.5.5/d3.min\"}});\n",
       "   require([\"d3\"], function(d3){\n",
       "      window.d3 = d3;\n",
       "      LDAvis_load_lib(\"https://cdn.rawgit.com/bmabey/pyLDAvis/files/ldavis.v1.0.0.js\", function(){\n",
       "        new LDAvis(\"#\" + \"ldavis_el175601396811109428487159551239\", ldavis_el175601396811109428487159551239_data);\n",
       "      });\n",
       "    });\n",
       "}else{\n",
       "    // require.js not available: dynamically load d3 & LDAvis\n",
       "    LDAvis_load_lib(\"https://cdnjs.cloudflare.com/ajax/libs/d3/3.5.5/d3.min.js\", function(){\n",
       "         LDAvis_load_lib(\"https://cdn.rawgit.com/bmabey/pyLDAvis/files/ldavis.v1.0.0.js\", function(){\n",
       "                 new LDAvis(\"#\" + \"ldavis_el175601396811109428487159551239\", ldavis_el175601396811109428487159551239_data);\n",
       "            })\n",
       "         });\n",
       "}\n",
       "</script>"
      ],
      "text/plain": [
       "<IPython.core.display.HTML object>"
      ]
     },
     "execution_count": 50,
     "metadata": {},
     "output_type": "execute_result"
    }
   ],
   "source": [
    "pyLDAvis.display(p)"
   ]
  },
  {
   "cell_type": "code",
   "execution_count": 51,
   "metadata": {},
   "outputs": [],
   "source": [
    "p_df = p.topic_info\n",
    "l=0\n",
    "tlist = []\n",
    "flist = []\n",
    "while(l<p_df.shape[0]):\n",
    "    if(p_df.iloc[l]['Category'] != 'Default'):\n",
    "        tlist.append(p_df.iloc[l]['Term'])\n",
    "        flist.append(p_df.iloc[l]['Total'])\n",
    "    l = l+1"
   ]
  },
  {
   "cell_type": "code",
   "execution_count": 52,
   "metadata": {},
   "outputs": [],
   "source": [
    "account = ['accounting',\n",
    " 'acquirer',\n",
    " 'acquisition',\n",
    " 'agency',\n",
    " 'audit',\n",
    " 'bond',\n",
    " 'broker',\n",
    " 'capital',\n",
    " 'cash',\n",
    " 'chairman',\n",
    " 'charge',\n",
    " 'control',\n",
    " 'cost',\n",
    " 'coupon',\n",
    " 'credit',\n",
    " 'debenture',\n",
    " 'default',\n",
    " 'director',\n",
    " 'dividend',\n",
    " 'entity',\n",
    " 'equity',\n",
    " 'expense',\n",
    " 'format',\n",
    " 'group',\n",
    " 'inventory',\n",
    " 'management',\n",
    " 'margin',\n",
    " 'material',\n",
    " 'materiality',\n",
    " 'maturity',\n",
    " 'memorandum',\n",
    " 'merger',\n",
    " 'net',\n",
    " 'partnership',\n",
    " 'portfolio',\n",
    " 'principal',\n",
    " 'profit',\n",
    " 'prospectus',\n",
    " 'provision',\n",
    " 'recognition',\n",
    " 'return',\n",
    " 'revenue',\n",
    " 'risk',\n",
    " 'stock',\n",
    " 'substance',\n",
    " 'turnover',\n",
    " 'unlisted',\n",
    " 'agent',\n",
    " 'asset',\n",
    " 'associate',\n",
    " 'business',\n",
    " 'derivative',\n",
    " 'development',\n",
    " 'income',\n",
    " 'lease',\n",
    " 'liability',\n",
    " 'performance',\n",
    " 'probable',\n",
    " 'loss',\n",
    " 'research',\n",
    " 'restriction',\n",
    " 'state',\n",
    " 'subsidiary',\n",
    " 'vest',\n",
    " 'yield']"
   ]
  },
  {
   "cell_type": "code",
   "execution_count": 53,
   "metadata": {},
   "outputs": [],
   "source": [
    "finance = ['account',\n",
    " 'ask',\n",
    " 'asset',\n",
    " 'basis',\n",
    " 'bid',\n",
    " 'broker',\n",
    " 'business',\n",
    " 'buy',\n",
    " 'commission',\n",
    " 'debenture',\n",
    " 'distributions',\n",
    " 'dividend',\n",
    " 'equity',\n",
    " 'exchange',\n",
    " 'growth',\n",
    " 'income',\n",
    " 'holding',\n",
    " 'information',\n",
    " 'institution',\n",
    " 'interest',\n",
    " 'investment',\n",
    " 'issuer',\n",
    " 'leverage',\n",
    " 'lot',\n",
    " 'maturity',\n",
    " 'option',\n",
    " 'options',\n",
    " 'portfolio',\n",
    " 'price',\n",
    " 'principal',\n",
    " 'proceeds',\n",
    " 'prospectus',\n",
    " 'quantity',\n",
    " 'right',\n",
    " 'sales',\n",
    " 'sell',\n",
    " 'symbol',\n",
    " 'trade',\n",
    " 'unit',\n",
    " 'vesting',\n",
    " 'volume',\n",
    " 'warrants',\n",
    " 'default',\n",
    " 'insurance',\n",
    " 'litigation']"
   ]
  },
  {
   "cell_type": "code",
   "execution_count": 54,
   "metadata": {},
   "outputs": [],
   "source": [
    "cap_market = ['acquirer',\n",
    " 'adviser',\n",
    " 'analyst',\n",
    " 'intermediary',\n",
    " 'arbitration',\n",
    " 'securities',\n",
    " 'auction',\n",
    " 'auditor',\n",
    " 'authorized',\n",
    " 'authority',\n",
    " 'badla',\n",
    " 'basis',\n",
    " 'bear',\n",
    " 'bid',\n",
    " 'break',\n",
    " 'broker',\n",
    " 'brokerage',\n",
    " 'market',\n",
    " 'clearing',\n",
    " 'cover',\n",
    " 'custodian',\n",
    " 'debentures',\n",
    " 'delivery',\n",
    " 'dematerialise',\n",
    " 'depository',\n",
    " 'derivative',\n",
    " 'disclosure',\n",
    " 'distribution',\n",
    " 'dividend',\n",
    " 'equity',\n",
    " 'exchange',\n",
    " 'gross',\n",
    " 'hypothecation',\n",
    " 'director',\n",
    " 'insider',\n",
    " 'trading',\n",
    " 'interest',\n",
    " 'investment',\n",
    " 'issuer',\n",
    " 'leverage',\n",
    " 'liabilities',\n",
    " 'liquidation',\n",
    " 'company',\n",
    " 'listed',\n",
    " 'list',\n",
    " 'listing',\n",
    " 'security',\n",
    " 'key',\n",
    " 'manager',\n",
    " 'managerial',\n",
    " 'margin',\n",
    " 'maturity',\n",
    " 'merger',\n",
    " 'netting',\n",
    " 'option',\n",
    " 'plan',\n",
    " 'person',\n",
    " 'pooling',\n",
    " 'portfolio',\n",
    " 'premium',\n",
    " 'price',\n",
    " 'sensitive',\n",
    " 'information',\n",
    " 'prospectus',\n",
    " 'proxy',\n",
    " 'transferee',\n",
    " 'transferor',\n",
    " 'trustee',\n",
    " 'underlying',\n",
    " 'underwriter',\n",
    " 'underwriting',\n",
    " 'value',\n",
    " 'vesting',\n",
    " 'warrant',\n",
    " 'stock',\n",
    " 'settlement',\n",
    " 'invest',\n",
    " 'promoter']"
   ]
  },
  {
   "cell_type": "code",
   "execution_count": 55,
   "metadata": {},
   "outputs": [],
   "source": [
    "comm_market = ['basis',\n",
    " 'bear',\n",
    " 'bid',\n",
    " 'breaking',\n",
    " 'call',\n",
    " 'close',\n",
    " 'cover',\n",
    " 'delivery',\n",
    " 'contract',\n",
    " 'limit',\n",
    " 'liquidation',\n",
    " 'local',\n",
    " 'long',\n",
    " 'margin',\n",
    " 'offer',\n",
    " 'opening',\n",
    " 'put',\n",
    " 'point',\n",
    " 'position',\n",
    " 'premium',\n",
    " 'range',\n",
    " 'reaction',\n",
    " 'short',\n",
    " 'purchase',\n",
    " 'sale',\n",
    " 'merchant']"
   ]
  },
  {
   "cell_type": "code",
   "execution_count": 56,
   "metadata": {},
   "outputs": [],
   "source": [
    "pension = ['accrued',\n",
    " 'administrator',\n",
    " 'benefit',\n",
    " 'asset',\n",
    " 'retirement',\n",
    " 'member',\n",
    " 'pension']"
   ]
  },
  {
   "cell_type": "code",
   "execution_count": 57,
   "metadata": {},
   "outputs": [],
   "source": [
    "banking = ['mortgages',\n",
    " 'alteration',\n",
    " 'application',\n",
    " 'authorization',\n",
    " 'bank',\n",
    " 'bankruptcy',\n",
    " 'deposit',\n",
    " 'collateral',\n",
    " 'disclosures',\n",
    " 'draft',\n",
    " 'escrow',\n",
    " 'fiduciary',\n",
    " 'hold',\n",
    " 'insurance',\n",
    " 'interest',\n",
    " 'lease',\n",
    " 'lender',\n",
    " 'lien',\n",
    " 'maturity',\n",
    " 'mortgage',\n",
    " 'payment',\n",
    " 'reconciliation',\n",
    " 'refund',\n",
    " 'renewal',\n",
    " 'safekeeping',\n",
    " 'statement',\n",
    " 'terms',\n",
    " 'transfer']"
   ]
  },
  {
   "cell_type": "code",
   "execution_count": 58,
   "metadata": {},
   "outputs": [],
   "source": [
    "market = []\n",
    "for i in cap_market:\n",
    "    if(i not in market):\n",
    "        market.append(i)\n",
    "for i in comm_market:\n",
    "    if(i not in market):\n",
    "        market.append(i)    \n",
    "i=0\n",
    "while(i<35):\n",
    "    if(finance[i] not in market):\n",
    "        market.append(finance[i])\n",
    "    i=i+1\n",
    "market.append('bond')\n",
    "market.append('cash')\n",
    "market.append('capital')\n",
    "market.append('restriction')\n",
    "accword = ['credit','entity','expense','inventory','material','materiality','partnership','profit','return','revenue','risk','unlisted','agent','liability','performance','yield']\n",
    "for i in accword:\n",
    "    market.append(i)\n",
    "i=0\n",
    "while(i<20):\n",
    "    if(account[i] not in market):\n",
    "        market.append(account[i])\n",
    "    i=i+1"
   ]
  },
  {
   "cell_type": "markdown",
   "metadata": {},
   "source": [
    "#### Tag words for accounting"
   ]
  },
  {
   "cell_type": "code",
   "execution_count": 38,
   "metadata": {},
   "outputs": [],
   "source": [
    "acc1 = pd.read_csv('/home/deepti-saravanan/Desktop/lexpredict-legal-dictionary-master/en/accounting/ifrs_iasb.csv', usecols=['Term'])\n",
    "acc2 = pd.read_csv('/home/deepti-saravanan/Desktop/lexpredict-legal-dictionary-master/en/accounting/uk_gaap.csv', usecols=['Term'])\n",
    "acc3 = pd.read_csv('/home/deepti-saravanan/Desktop/lexpredict-legal-dictionary-master/en/accounting/us_fasb.csv', usecols=['Term'])\n",
    "acc4 = pd.read_csv('/home/deepti-saravanan/Desktop/lexpredict-legal-dictionary-master/en/accounting/us_gaap.csv', usecols=['Term'])\n",
    "acc5 = pd.read_csv('/home/deepti-saravanan/Desktop/lexpredict-legal-dictionary-master/en/accounting/us_gasb.csv', usecols=['Term'])"
   ]
  },
  {
   "cell_type": "code",
   "execution_count": 39,
   "metadata": {},
   "outputs": [],
   "source": [
    "acc1 = acc1.append(acc2)\n",
    "acc1 = acc1.append(acc3)\n",
    "acc1 = acc1.append(acc4)\n",
    "acc1 = acc1.append(acc5)\n",
    "a11 = acc1.values.tolist()\n",
    "\n",
    "a1 = []\n",
    "for i in a11:\n",
    "    a1.append(i[0])\n",
    "    \n",
    "g1 = groups.values.tolist()\n",
    "g = []\n",
    "for j in g1:\n",
    "    g.append(j[1])"
   ]
  },
  {
   "cell_type": "code",
   "execution_count": 84,
   "metadata": {},
   "outputs": [],
   "source": [
    "account = []\n",
    "\n",
    "for n in a1:\n",
    "    k=0\n",
    "    while(k<len(g)):\n",
    "        if(g[k] == n):\n",
    "            if(n not in account):\n",
    "                account.append(n)\n",
    "        k = k+1"
   ]
  },
  {
   "cell_type": "code",
   "execution_count": 85,
   "metadata": {},
   "outputs": [
    {
     "data": {
      "text/plain": [
       "['accounting',\n",
       " 'acquirer',\n",
       " 'acquisition',\n",
       " 'agency',\n",
       " 'audit',\n",
       " 'bond',\n",
       " 'broker',\n",
       " 'capital',\n",
       " 'cash',\n",
       " 'chairman',\n",
       " 'charge',\n",
       " 'control',\n",
       " 'cost',\n",
       " 'coupon',\n",
       " 'credit',\n",
       " 'debenture',\n",
       " 'default',\n",
       " 'director',\n",
       " 'dividend',\n",
       " 'entity',\n",
       " 'equity',\n",
       " 'expense',\n",
       " 'format',\n",
       " 'group',\n",
       " 'inventory',\n",
       " 'management',\n",
       " 'margin',\n",
       " 'material',\n",
       " 'materiality',\n",
       " 'maturity',\n",
       " 'memorandum',\n",
       " 'merger',\n",
       " 'net',\n",
       " 'partnership',\n",
       " 'portfolio',\n",
       " 'principal',\n",
       " 'profit',\n",
       " 'prospectus',\n",
       " 'provision',\n",
       " 'recognition',\n",
       " 'return',\n",
       " 'revenue',\n",
       " 'risk',\n",
       " 'stock',\n",
       " 'substance',\n",
       " 'turnover',\n",
       " 'unlisted',\n",
       " 'agent',\n",
       " 'asset',\n",
       " 'associate',\n",
       " 'business',\n",
       " 'derivative',\n",
       " 'development',\n",
       " 'income',\n",
       " 'lease',\n",
       " 'liability',\n",
       " 'performance',\n",
       " 'probable',\n",
       " 'loss',\n",
       " 'research',\n",
       " 'restriction',\n",
       " 'state',\n",
       " 'subsidiary',\n",
       " 'vest',\n",
       " 'yield']"
      ]
     },
     "execution_count": 85,
     "metadata": {},
     "output_type": "execute_result"
    }
   ],
   "source": [
    "account"
   ]
  },
  {
   "cell_type": "code",
   "execution_count": 59,
   "metadata": {},
   "outputs": [
    {
     "name": "stdout",
     "output_type": "stream",
     "text": [
      "[2, 0, 2, 0, 2, 0, 2, 0, 2, 0, 2, 2, 0, 1, 2, 2, 2, 1, 2, 2, 0, 2, 2, 0, 2, 0, 2, 2, 0, 1, 2, 2, 0, 1, 2, 0, 1, 2, 2, 2, 0, 2, 2, 1, 2, 1, 0, 2, 2, 2, 2, 0, 2, 2, 0, 1, 2, 2, 0, 1, 2, 2, 0, 2, 1, 2, 2, 0, 2, 1, 2, 0, 1, 2, 2, 0, 0, 2, 0, 1, 2, 0, 2, 1, 2, 2, 0, 2, 2, 2, 2, 2, 2, 2, 0, 2, 0, 2, 2, 2, 0, 2, 2, 2]\n",
      "['accounting', 'acquirer', 'acquirer', 'acquisition', 'acquisition', 'agency', 'agency', 'audit', 'audit', 'bond', 'bond', 'broker', 'capital', 'capital', 'capital', 'cash', 'chairman', 'charge', 'charge', 'control', 'cost', 'cost', 'coupon', 'credit', 'credit', 'debenture', 'debenture', 'default', 'director', 'director', 'director', 'dividend', 'entity', 'entity', 'entity', 'equity', 'equity', 'equity', 'expense', 'format', 'group', 'group', 'inventory', 'management', 'management', 'margin', 'material', 'material', 'materiality', 'maturity', 'memorandum', 'merger', 'net', 'partnership', 'portfolio', 'portfolio', 'portfolio', 'principal', 'profit', 'profit', 'profit', 'prospectus', 'provision', 'provision', 'recognition', 'recognition', 'return', 'revenue', 'revenue', 'risk', 'risk', 'stock', 'stock', 'stock', 'substance', 'turnover', 'unlisted', 'unlisted', 'agent', 'agent', 'agent', 'asset', 'asset', 'associate', 'associate', 'business', 'derivative', 'derivative', 'development', 'income', 'lease', 'liability', 'performance', 'probable', 'loss', 'loss', 'research', 'research', 'restriction', 'state', 'subsidiary', 'subsidiary', 'vest', 'yield']\n",
      "[5, 4, 110, 3, 63, 1, 15, 3, 28, 2, 6, 9, 2, 4, 13, 5, 6, 2, 17, 29, 1, 8, 1, 3, 17, 3, 19, 17, 21, 20, 176, 9, 201, 4, 217, 7, 5, 24, 4, 5, 7, 13, 1, 5, 25, 1, 4, 25, 1, 1, 14, 2, 4, 8, 3, 1, 142, 2, 3, 1, 6, 5, 6, 85, 1, 16, 1, 1, 3, 1, 13, 31, 62, 100, 1, 1, 2, 1, 2, 1, 20, 1, 40, 3, 30, 21, 3, 8, 3, 3, 4, 14, 3, 1, 1, 5, 3, 117, 4, 14, 1, 14, 2, 1]\n"
     ]
    }
   ],
   "source": [
    "regtext = pd.read_csv('../code/vae-lda.csv')\n",
    "reg = regtext.values.tolist()\n",
    "label = []\n",
    "word = []\n",
    "freq = []\n",
    "for i in account:\n",
    "    k=0\n",
    "    while(k<len(reg)):\n",
    "        r = reg[k]\n",
    "        if(i == r[1]):\n",
    "            if(r[2] != 0):\n",
    "                label.append(r[0])\n",
    "                word.append(i)\n",
    "                freq.append(r[2])\n",
    "        k=k+1\n",
    "print(label)\n",
    "print(word)\n",
    "print(freq)"
   ]
  },
  {
   "cell_type": "markdown",
   "metadata": {},
   "source": [
    "#### Percentage accounting tag words clusterwise"
   ]
  },
  {
   "cell_type": "code",
   "execution_count": 60,
   "metadata": {},
   "outputs": [
    {
     "name": "stdout",
     "output_type": "stream",
     "text": [
      "1230\n",
      "671\n",
      "15338\n"
     ]
    }
   ],
   "source": [
    "#Word counts clusterwise\n",
    "k=0\n",
    "c0 = 0\n",
    "c1 = 0\n",
    "c2 = 0\n",
    "#c3 = 0\n",
    "\n",
    "while(k<len(reg)):\n",
    "    r = reg[k]\n",
    "    if(r[0] == 0):\n",
    "        c0 = c0 + r[2]\n",
    "    elif(r[0] == 1):\n",
    "        c1 = c1 + r[2]\n",
    "    #elif(r[0] == 2):\n",
    "    #    c2 = c2 + r[2]\n",
    "    else:\n",
    "        c2 = c2 + r[2]\n",
    "    k=k+1\n",
    "print(c0)\n",
    "print(c1)\n",
    "print(c2)\n",
    "#print(c3)"
   ]
  },
  {
   "cell_type": "code",
   "execution_count": 61,
   "metadata": {},
   "outputs": [
    {
     "name": "stdout",
     "output_type": "stream",
     "text": [
      "26.178861788617887\n",
      "16.542473919523097\n",
      "10.262094145260138\n"
     ]
    }
   ],
   "source": [
    "#Percentage wrt frequency of other accounting terms within cluster\n",
    "sum0=0\n",
    "sum1=0\n",
    "sum2=0\n",
    "#sum3=0\n",
    "\n",
    "i=0\n",
    "while(i<len(label)):\n",
    "    if(label[i] == 0):\n",
    "        sum0 = sum0 + freq[i]\n",
    "    elif(label[i] == 1):\n",
    "        sum1 = sum1 + freq[i]\n",
    "    #elif(label[i] == 2):\n",
    "    #    sum2 = sum2 + freq[i]\n",
    "    else:\n",
    "        sum2 = sum2 + freq[i]\n",
    "    i=i+1\n",
    "s0=0\n",
    "s1=0\n",
    "s2=0\n",
    "#s3=0\n",
    "\n",
    "s0 = sum0/c0\n",
    "s1 = sum1/c1\n",
    "s2 = sum2/c2\n",
    "#s3 = sum3/c3\n",
    "\n",
    "print(s0*100)\n",
    "print(s1*100)\n",
    "print(s2*100)\n",
    "#print(s3*100)"
   ]
  },
  {
   "cell_type": "markdown",
   "metadata": {},
   "source": [
    "#### Relative to global frequency"
   ]
  },
  {
   "cell_type": "code",
   "execution_count": 62,
   "metadata": {},
   "outputs": [
    {
     "name": "stdout",
     "output_type": "stream",
     "text": [
      "12.390899012766281\n",
      "11.345465957178861\n",
      "81.02689125257527\n"
     ]
    }
   ],
   "source": [
    "#Percentage wrt global frequency of accounting terms\n",
    "t1=0\n",
    "t2=0\n",
    "t0=0\n",
    "#t3=0\n",
    "\n",
    "count1 = 0\n",
    "count2 = 0\n",
    "count0 = 0\n",
    "#count3=0\n",
    "l=0\n",
    "while(l<len(word)):\n",
    "    d=0\n",
    "    #r = reg[l]\n",
    "    if(label[l] == 0):\n",
    "        f=0\n",
    "        for i in tlist:\n",
    "            if(i == word[l]):\n",
    "                t0 = t0 + freq[l]/flist[f]\n",
    "                count0 = count0+1\n",
    "                d=d+1\n",
    "                break\n",
    "            f=f+1\n",
    "        #if(d==0):\n",
    "        #    t0 = t0 + 1\n",
    "        #    count0 = count0+1\n",
    "    elif(label[l] == 1):\n",
    "        f=0\n",
    "        for i in tlist:\n",
    "            if(i == word[l]):\n",
    "                t1 = t1 + freq[l]/flist[f]\n",
    "                count1 = count1+1\n",
    "                break\n",
    "            f=f+1\n",
    "        #if(d==0):\n",
    "        #    t1 = t1 + 1\n",
    "        #    count1 = count1+1\n",
    "    #elif(label[l] == 2):\n",
    "    #    f=0\n",
    "    #    for i in tlist:\n",
    "    #        if(i == word[l]):\n",
    "    #            t2 = t2 + freq[l]/flist[f]\n",
    "    #            count2 = count2+1\n",
    "    #            break\n",
    "    #        f=f+1\n",
    "        #if(d==0):\n",
    "        #    t2 = t2 + 1\n",
    "        #    count2 = count2+1\n",
    "    else:\n",
    "        f=0\n",
    "        for i in tlist:\n",
    "            if(i == word[l]):\n",
    "                t2 = t2 + freq[l]/flist[f]\n",
    "                count2 = count2+1\n",
    "                break\n",
    "            f=f+1\n",
    "        #if(d==0):\n",
    "        #    t3 = t3 + 1\n",
    "        #    count3 = count3+1\n",
    "    l=l+1\n",
    "\n",
    "s0 = t0/count0\n",
    "s1 = t1/count1\n",
    "s2 = t2/count2\n",
    "#s3 = t3/count3\n",
    "\n",
    "print(s0*100)\n",
    "print(s1*100)\n",
    "print(s2*100)\n",
    "#print(s3*100)"
   ]
  },
  {
   "cell_type": "markdown",
   "metadata": {},
   "source": [
    "#### Tag words for finance"
   ]
  },
  {
   "cell_type": "code",
   "execution_count": 48,
   "metadata": {},
   "outputs": [],
   "source": [
    "fin = pd.read_csv('/home/deepti-saravanan/Desktop/lexpredict-legal-dictionary-master/en/financial/financial.csv', usecols=['term'])"
   ]
  },
  {
   "cell_type": "code",
   "execution_count": 49,
   "metadata": {},
   "outputs": [],
   "source": [
    "f1 = fin.values.tolist()\n",
    "f = []\n",
    "for i in f1:\n",
    "    f.append(i[0])"
   ]
  },
  {
   "cell_type": "code",
   "execution_count": 50,
   "metadata": {},
   "outputs": [],
   "source": [
    "finance = []\n",
    "\n",
    "for n in f:\n",
    "    k=0\n",
    "    while(k<len(g)):\n",
    "        if(g[k] == n):\n",
    "            if(n not in finance):\n",
    "                finance.append(n)\n",
    "        k = k+1"
   ]
  },
  {
   "cell_type": "code",
   "execution_count": 51,
   "metadata": {},
   "outputs": [
    {
     "data": {
      "text/plain": [
       "['account',\n",
       " 'asset',\n",
       " 'basis',\n",
       " 'broker',\n",
       " 'business',\n",
       " 'buy',\n",
       " 'commission',\n",
       " 'debenture',\n",
       " 'dividend',\n",
       " 'equity',\n",
       " 'exchange',\n",
       " 'income',\n",
       " 'holding',\n",
       " 'information',\n",
       " 'institution',\n",
       " 'investment',\n",
       " 'issuer',\n",
       " 'lot',\n",
       " 'maturity',\n",
       " 'option',\n",
       " 'portfolio',\n",
       " 'price',\n",
       " 'principal',\n",
       " 'prospectus',\n",
       " 'quantity',\n",
       " 'right',\n",
       " 'sell',\n",
       " 'trade',\n",
       " 'turnover',\n",
       " 'unit',\n",
       " 'vesting',\n",
       " 'volume',\n",
       " 'yield',\n",
       " 'default',\n",
       " 'insurance']"
      ]
     },
     "execution_count": 51,
     "metadata": {},
     "output_type": "execute_result"
    }
   ],
   "source": [
    "finance"
   ]
  },
  {
   "cell_type": "code",
   "execution_count": 63,
   "metadata": {},
   "outputs": [
    {
     "name": "stdout",
     "output_type": "stream",
     "text": [
      "[1, 2, 0, 2, 0, 1, 2, 2, 2, 2, 2, 0, 2, 2, 0, 1, 2, 0, 1, 2, 2, 0, 1, 2, 0, 2, 1, 2, 0, 2, 0, 1, 2, 2, 2, 0, 2, 0, 1, 2, 0, 2, 2, 2, 2, 1, 2, 2, 1, 2, 0, 1, 2, 2, 2, 2, 1, 2]\n",
      "['account', 'account', 'asset', 'asset', 'basis', 'basis', 'basis', 'broker', 'business', 'buy', 'commission', 'debenture', 'debenture', 'dividend', 'equity', 'equity', 'equity', 'exchange', 'exchange', 'exchange', 'income', 'holding', 'holding', 'holding', 'information', 'information', 'institution', 'institution', 'investment', 'investment', 'issuer', 'issuer', 'issuer', 'lot', 'maturity', 'option', 'option', 'portfolio', 'portfolio', 'portfolio', 'price', 'price', 'principal', 'prospectus', 'quantity', 'right', 'right', 'sell', 'trade', 'trade', 'unit', 'unit', 'unit', 'vesting', 'volume', 'default', 'insurance', 'insurance']\n",
      "[1, 52, 1, 40, 1, 1, 4, 9, 21, 15, 8, 3, 19, 9, 7, 5, 24, 29, 53, 87, 3, 2, 2, 10, 9, 68, 2, 15, 2, 286, 4, 7, 223, 1, 1, 3, 16, 3, 1, 142, 2, 41, 2, 5, 1, 3, 61, 1, 3, 11, 4, 3, 79, 1, 13, 17, 1, 4]\n"
     ]
    }
   ],
   "source": [
    "regtext = pd.read_csv('../code/vae-lda.csv')\n",
    "reg = regtext.values.tolist()\n",
    "label = []\n",
    "word = []\n",
    "freq = []\n",
    "for i in finance:\n",
    "    k=0\n",
    "    while(k<len(reg)):\n",
    "        r = reg[k]\n",
    "        if(i == r[1]):\n",
    "            if(r[2] != 0):\n",
    "                label.append(r[0])\n",
    "                word.append(i)\n",
    "                freq.append(r[2])\n",
    "        k=k+1\n",
    "print(label)\n",
    "print(word)\n",
    "print(freq)"
   ]
  },
  {
   "cell_type": "code",
   "execution_count": null,
   "metadata": {},
   "outputs": [],
   "source": []
  },
  {
   "cell_type": "code",
   "execution_count": 64,
   "metadata": {},
   "outputs": [
    {
     "name": "stdout",
     "output_type": "stream",
     "text": [
      "1230\n",
      "671\n",
      "15338\n",
      "0\n"
     ]
    }
   ],
   "source": [
    "#Word counts clusterwise\n",
    "k=0\n",
    "c0 = 0\n",
    "c1 = 0\n",
    "c2 = 0\n",
    "c3 = 0\n",
    "\n",
    "while(k<len(reg)):\n",
    "    r = reg[k]\n",
    "    if(r[0] == 0):\n",
    "        c0 = c0 + r[2]\n",
    "    elif(r[0] == 1):\n",
    "        c1 = c1 + r[2]\n",
    "    elif(r[0] == 2):\n",
    "        c2 = c2 + r[2]\n",
    "    else:\n",
    "        c3 = c3 + r[2]\n",
    "    k=k+1\n",
    "print(c0)\n",
    "print(c1)\n",
    "print(c2)\n",
    "print(c3)"
   ]
  },
  {
   "cell_type": "code",
   "execution_count": 65,
   "metadata": {},
   "outputs": [
    {
     "name": "stdout",
     "output_type": "stream",
     "text": [
      "5.691056910569105\n",
      "12.220566318926975\n",
      "8.403964010953189\n"
     ]
    }
   ],
   "source": [
    "#Percentage wrt frequency of other accounting terms within cluster\n",
    "sum0=0\n",
    "sum1=0\n",
    "sum2=0\n",
    "#sum3=0\n",
    "\n",
    "i=0\n",
    "while(i<len(label)):\n",
    "    if(label[i] == 0):\n",
    "        sum0 = sum0 + freq[i]\n",
    "    elif(label[i] == 1):\n",
    "        sum1 = sum1 + freq[i]\n",
    "    #elif(label[i] == 2):\n",
    "    #    sum2 = sum2 + freq[i]\n",
    "    else:\n",
    "        sum2 = sum2 + freq[i]\n",
    "    i=i+1\n",
    "s0=0\n",
    "s1=0\n",
    "s2=0\n",
    "#s3=0\n",
    "\n",
    "s0 = sum0/c0\n",
    "s1 = sum1/c1\n",
    "s2 = sum2/c2\n",
    "#s3 = sum3/c3\n",
    "\n",
    "print(s0*100)\n",
    "print(s1*100)\n",
    "print(s2*100)\n",
    "#print(s3*100)"
   ]
  },
  {
   "cell_type": "code",
   "execution_count": null,
   "metadata": {},
   "outputs": [],
   "source": []
  },
  {
   "cell_type": "code",
   "execution_count": 66,
   "metadata": {},
   "outputs": [
    {
     "name": "stdout",
     "output_type": "stream",
     "text": [
      "7.694011231537001\n",
      "9.447327875877505\n",
      "86.15776214903995\n"
     ]
    }
   ],
   "source": [
    "#Percentage wrt global frequency of accounting terms\n",
    "t1=0\n",
    "t2=0\n",
    "t0=0\n",
    "#t3=0\n",
    "\n",
    "count1 = 0\n",
    "count2 = 0\n",
    "count0 = 0\n",
    "#count3=0\n",
    "l=0\n",
    "while(l<len(word)):\n",
    "    d=0\n",
    "    #r = reg[l]\n",
    "    if(label[l] == 0):\n",
    "        f=0\n",
    "        for i in tlist:\n",
    "            if(i == word[l]):\n",
    "                t0 = t0 + freq[l]/flist[f]\n",
    "                count0 = count0+1\n",
    "                d=d+1\n",
    "                break\n",
    "            f=f+1\n",
    "        #if(d==0):\n",
    "        #    t0 = t0 + 1\n",
    "        #    count0 = count0+1\n",
    "    elif(label[l] == 1):\n",
    "        f=0\n",
    "        for i in tlist:\n",
    "            if(i == word[l]):\n",
    "                t1 = t1 + freq[l]/flist[f]\n",
    "                count1 = count1+1\n",
    "                break\n",
    "            f=f+1\n",
    "        #if(d==0):\n",
    "        #    t1 = t1 + 1\n",
    "        #    count1 = count1+1\n",
    "    #elif(label[l] == 2):\n",
    "    #    f=0\n",
    "    #    for i in tlist:\n",
    "    #        if(i == word[l]):\n",
    "    #            t2 = t2 + freq[l]/flist[f]\n",
    "    #            count2 = count2+1\n",
    "    #            break\n",
    "    #        f=f+1\n",
    "        #if(d==0):\n",
    "        #    t2 = t2 + 1\n",
    "        #    count2 = count2+1\n",
    "    else:\n",
    "        f=0\n",
    "        for i in tlist:\n",
    "            if(i == word[l]):\n",
    "                t2 = t2 + freq[l]/flist[f]\n",
    "                count2 = count2+1\n",
    "                break\n",
    "            f=f+1\n",
    "        #if(d==0):\n",
    "        #    t3 = t3 + 1\n",
    "        #    count3 = count3+1\n",
    "    l=l+1\n",
    "\n",
    "s0 = t0/count0\n",
    "s1 = t1/count1\n",
    "s2 = t2/count2\n",
    "#s3 = t3/count3\n",
    "\n",
    "print(s0*100)\n",
    "print(s1*100)\n",
    "print(s2*100)\n",
    "#print(s3*100)"
   ]
  },
  {
   "cell_type": "markdown",
   "metadata": {},
   "source": [
    "#### Tag words for Banking"
   ]
  },
  {
   "cell_type": "code",
   "execution_count": 56,
   "metadata": {},
   "outputs": [],
   "source": [
    "bank = pd.read_csv('/home/deepti-saravanan/Desktop/laws/semantics/code/banking.csv')"
   ]
  },
  {
   "cell_type": "code",
   "execution_count": 57,
   "metadata": {},
   "outputs": [],
   "source": [
    "b1 = bank.values.tolist()\n",
    "b2 = []\n",
    "for i in b1:\n",
    "    b2.append(i[0])"
   ]
  },
  {
   "cell_type": "code",
   "execution_count": 58,
   "metadata": {},
   "outputs": [],
   "source": [
    "banking = []\n",
    "\n",
    "for n in b2:\n",
    "    k=0\n",
    "    while(k<len(g)):\n",
    "        if(g[k] == n):\n",
    "            if(n not in banking):\n",
    "                banking.append(n)\n",
    "        k = k+1"
   ]
  },
  {
   "cell_type": "code",
   "execution_count": 59,
   "metadata": {},
   "outputs": [
    {
     "data": {
      "text/plain": [
       "['affidavit',\n",
       " 'alteration',\n",
       " 'application',\n",
       " 'bank',\n",
       " 'bankruptcy',\n",
       " 'bond',\n",
       " 'deposit',\n",
       " 'collateral',\n",
       " 'debit',\n",
       " 'draft',\n",
       " 'escrow',\n",
       " 'fiduciary',\n",
       " 'hold',\n",
       " 'insurance',\n",
       " 'lease',\n",
       " 'lender',\n",
       " 'lien',\n",
       " 'maturity',\n",
       " 'payment',\n",
       " 'refund',\n",
       " 'renewal',\n",
       " 'statement',\n",
       " 'transfer']"
      ]
     },
     "execution_count": 59,
     "metadata": {},
     "output_type": "execute_result"
    }
   ],
   "source": [
    "banking"
   ]
  },
  {
   "cell_type": "code",
   "execution_count": 67,
   "metadata": {},
   "outputs": [
    {
     "name": "stdout",
     "output_type": "stream",
     "text": [
      "[2, 0, 2, 2, 2, 1, 2, 1, 2, 0, 2, 2, 2, 0, 1, 2, 1, 2, 2, 2, 2, 2, 1, 2, 2, 1, 2, 0, 2, 0, 2]\n",
      "['alteration', 'application', 'application', 'bank', 'bankruptcy', 'deposit', 'deposit', 'collateral', 'collateral', 'draft', 'draft', 'escrow', 'fiduciary', 'hold', 'hold', 'hold', 'insurance', 'insurance', 'lease', 'lender', 'lien', 'maturity', 'payment', 'payment', 'refund', 'renewal', 'renewal', 'statement', 'statement', 'transfer', 'transfer']\n",
      "[1, 2, 134, 32, 3, 1, 4, 1, 1, 1, 32, 9, 2, 3, 2, 28, 1, 4, 4, 1, 2, 1, 1, 22, 9, 1, 6, 6, 34, 5, 15]\n"
     ]
    }
   ],
   "source": [
    "label = []\n",
    "word = []\n",
    "freq = []\n",
    "for i in banking:\n",
    "    k=0\n",
    "    while(k<len(reg)):\n",
    "        r = reg[k]\n",
    "        if(i == r[1]):\n",
    "            if(r[2] != 0):\n",
    "                label.append(r[0])\n",
    "                word.append(i)\n",
    "                freq.append(r[2])\n",
    "        k=k+1\n",
    "print(label)\n",
    "print(word)\n",
    "print(freq)"
   ]
  },
  {
   "cell_type": "code",
   "execution_count": 68,
   "metadata": {},
   "outputs": [
    {
     "name": "stdout",
     "output_type": "stream",
     "text": [
      "1.3821138211382114\n",
      "1.0432190760059614\n",
      "2.2427956708827748\n"
     ]
    }
   ],
   "source": [
    "#Percentage wrt frequency of other accounting terms within cluster\n",
    "sum0=0\n",
    "sum1=0\n",
    "sum2=0\n",
    "#sum3=0\n",
    "\n",
    "i=0\n",
    "while(i<len(label)):\n",
    "    if(label[i] == 0):\n",
    "        sum0 = sum0 + freq[i]\n",
    "    elif(label[i] == 1):\n",
    "        sum1 = sum1 + freq[i]\n",
    "    #elif(label[i] == 2):\n",
    "    #    sum2 = sum2 + freq[i]\n",
    "    else:\n",
    "        sum2 = sum2 + freq[i]\n",
    "    i=i+1\n",
    "s0=0\n",
    "s1=0\n",
    "s2=0\n",
    "#s3=0\n",
    "\n",
    "s0 = sum0/c0\n",
    "s1 = sum1/c1\n",
    "s2 = sum2/c2\n",
    "#s3 = sum3/c3\n",
    "\n",
    "print(s0*100)\n",
    "print(s1*100)\n",
    "print(s2*100)\n",
    "#print(s3*100)"
   ]
  },
  {
   "cell_type": "code",
   "execution_count": 70,
   "metadata": {},
   "outputs": [
    {
     "name": "stdout",
     "output_type": "stream",
     "text": [
      "1.4997464852962745\n",
      "0.0\n",
      "100.4830145148504\n"
     ]
    }
   ],
   "source": [
    "#Percentage wrt global frequency of accounting terms\n",
    "t1=0\n",
    "t2=0\n",
    "t0=0\n",
    "#t3=0\n",
    "\n",
    "count1 = 0\n",
    "count2 = 0\n",
    "count0 = 0\n",
    "#count3=0\n",
    "l=0\n",
    "while(l<len(word)):\n",
    "    d=0\n",
    "    #r = reg[l]\n",
    "    if(label[l] == 0):\n",
    "        f=0\n",
    "        for i in tlist:\n",
    "            if(i == word[l]):\n",
    "                t0 = t0 + freq[l]/flist[f]\n",
    "                count0 = count0+1\n",
    "                d=d+1\n",
    "                break\n",
    "            f=f+1\n",
    "        #if(d==0):\n",
    "        #    t0 = t0 + 1\n",
    "        #    count0 = count0+1\n",
    "    elif(label[l] == 1):\n",
    "        f=0\n",
    "        for i in tlist:\n",
    "            if(i == word[l]):\n",
    "                t1 = t1 + freq[l]/flist[f]\n",
    "                count1 = count1+1\n",
    "                break\n",
    "            f=f+1\n",
    "        #if(d==0):\n",
    "        #    t1 = t1 + 1\n",
    "        #    count1 = count1+1\n",
    "    #elif(label[l] == 2):\n",
    "    #    f=0\n",
    "    #    for i in tlist:\n",
    "    #        if(i == word[l]):\n",
    "    #            t2 = t2 + freq[l]/flist[f]\n",
    "    #            count2 = count2+1\n",
    "    #            break\n",
    "    #        f=f+1\n",
    "        #if(d==0):\n",
    "        #    t2 = t2 + 1\n",
    "        #    count2 = count2+1\n",
    "    else:\n",
    "        f=0\n",
    "        for i in tlist:\n",
    "            if(i == word[l]):\n",
    "                t2 = t2 + freq[l]/flist[f]\n",
    "                count2 = count2+1\n",
    "                break\n",
    "            f=f+1\n",
    "        #if(d==0):\n",
    "        #    t3 = t3 + 1\n",
    "        #    count3 = count3+1\n",
    "    l=l+1\n",
    "count1=1\n",
    "s0 = t0/count0\n",
    "s1 = t1/count1\n",
    "s2 = t2/count2\n",
    "#s3 = t3/count3\n",
    "\n",
    "print(s0*100)\n",
    "print(s1*100)\n",
    "print(s2*100)\n",
    "#print(s3*100)"
   ]
  },
  {
   "cell_type": "markdown",
   "metadata": {},
   "source": [
    "#### Tag words for Capital Market"
   ]
  },
  {
   "cell_type": "code",
   "execution_count": 63,
   "metadata": {},
   "outputs": [],
   "source": [
    "cap = pd.read_csv('/home/deepti-saravanan/Desktop/laws/semantics/CapMarket.csv')"
   ]
  },
  {
   "cell_type": "code",
   "execution_count": 64,
   "metadata": {},
   "outputs": [],
   "source": [
    "capm1 = cap.values.tolist()\n",
    "c = []\n",
    "for i in capm1:\n",
    "    c.append(i[0])"
   ]
  },
  {
   "cell_type": "code",
   "execution_count": 65,
   "metadata": {},
   "outputs": [],
   "source": [
    "cap_market = []\n",
    "\n",
    "for n in c:\n",
    "    k=0\n",
    "    while(k<len(g)):\n",
    "        if(g[k] == n):\n",
    "            if(n not in cap_market):\n",
    "                cap_market.append(n)\n",
    "        k = k+1"
   ]
  },
  {
   "cell_type": "code",
   "execution_count": 66,
   "metadata": {},
   "outputs": [
    {
     "data": {
      "text/plain": [
       "['acquirer',\n",
       " 'adviser',\n",
       " 'analyst',\n",
       " 'intermediary',\n",
       " 'arbitration',\n",
       " 'securities',\n",
       " 'bond',\n",
       " 'auditor',\n",
       " 'authorized',\n",
       " 'authority',\n",
       " 'basis',\n",
       " 'broker',\n",
       " 'brokerage',\n",
       " 'market',\n",
       " 'clearing',\n",
       " 'coupon',\n",
       " 'cover',\n",
       " 'custodian',\n",
       " 'delivery',\n",
       " 'dematerialise',\n",
       " 'depository',\n",
       " 'derivative',\n",
       " 'disclosure',\n",
       " 'distribution',\n",
       " 'dividend',\n",
       " 'equity',\n",
       " 'ex',\n",
       " 'exchange',\n",
       " 'hypothecation',\n",
       " 'director',\n",
       " 'insider',\n",
       " 'trading',\n",
       " 'investment',\n",
       " 'issuer',\n",
       " 'liquidation',\n",
       " 'company',\n",
       " 'listed',\n",
       " 'list',\n",
       " 'listing',\n",
       " 'security',\n",
       " 'key',\n",
       " 'manager',\n",
       " 'managerial',\n",
       " 'margin',\n",
       " 'maturity',\n",
       " 'merger',\n",
       " 'option',\n",
       " 'plan',\n",
       " 'person',\n",
       " 'portfolio',\n",
       " 'price',\n",
       " 'sensitive',\n",
       " 'information',\n",
       " 'prospectus',\n",
       " 'proxy',\n",
       " 'split',\n",
       " 'stakeholder',\n",
       " 'transferor',\n",
       " 'trustee',\n",
       " 'underlying',\n",
       " 'underwriter',\n",
       " 'underwriting',\n",
       " 'value',\n",
       " 'vesting',\n",
       " 'warrant',\n",
       " 'stock',\n",
       " 'settlement',\n",
       " 'invest',\n",
       " 'promoter']"
      ]
     },
     "execution_count": 66,
     "metadata": {},
     "output_type": "execute_result"
    }
   ],
   "source": [
    "cap_market"
   ]
  },
  {
   "cell_type": "code",
   "execution_count": 71,
   "metadata": {},
   "outputs": [
    {
     "name": "stdout",
     "output_type": "stream",
     "text": [
      "[0, 2, 0, 2, 0, 2, 2, 2, 2, 0, 2, 2, 0, 2, 0, 1, 2, 2, 2, 1, 2, 1, 2, 2, 2, 2, 2, 1, 2, 0, 2, 0, 1, 2, 2, 2, 0, 1, 2, 0, 1, 2, 2, 0, 1, 2, 0, 2, 0, 1, 2, 0, 2, 0, 1, 2, 2, 0, 1, 2, 0, 2, 0, 1, 2, 2, 0, 1, 2, 0, 1, 2, 1, 2, 0, 2, 1, 2, 0, 0, 2, 2, 0, 1, 2, 0, 1, 2, 0, 2, 0, 2, 0, 2, 2, 2, 0, 2, 0, 2, 0, 2, 2, 2, 2, 2, 0, 1, 2, 1, 2, 2, 0, 2, 0, 2, 2, 2, 2, 2, 2, 2, 0, 2, 2, 2, 1, 2, 0, 2, 2, 2, 2, 0, 2, 2, 0, 1, 2, 1, 2, 2, 2, 2, 1, 2, 0, 2, 2, 0, 1, 2, 2, 0, 2, 0, 1, 2, 2, 2, 0, 2, 2, 2, 0, 1, 2, 2, 0, 2, 1, 2, 0, 2, 0, 1, 2, 2, 2, 2, 2, 0, 2, 0, 2, 0, 2, 2, 1, 2, 2, 0, 2, 2, 2]\n",
      "['acquirer', 'acquirer', 'adviser', 'adviser', 'analyst', 'analyst', 'intermediary', 'arbitration', 'securities', 'auditor', 'auditor', 'authorized', 'authority', 'authority', 'basis', 'basis', 'basis', 'broker', 'brokerage', 'market', 'market', 'clearing', 'clearing', 'cover', 'custodian', 'delivery', 'dematerialise', 'depository', 'depository', 'derivative', 'derivative', 'disclosure', 'disclosure', 'disclosure', 'distribution', 'dividend', 'equity', 'equity', 'equity', 'exchange', 'exchange', 'exchange', 'hypothecation', 'director', 'director', 'director', 'insider', 'insider', 'trading', 'trading', 'trading', 'investment', 'investment', 'issuer', 'issuer', 'issuer', 'liquidation', 'company', 'company', 'company', 'listed', 'listed', 'list', 'list', 'list', 'listing', 'security', 'security', 'security', 'key', 'key', 'key', 'manager', 'manager', 'managerial', 'managerial', 'margin', 'maturity', 'merger', 'option', 'option', 'plan', 'person', 'person', 'person', 'portfolio', 'portfolio', 'portfolio', 'price', 'price', 'sensitive', 'sensitive', 'information', 'information', 'prospectus', 'proxy', 'transferor', 'transferor', 'trustee', 'trustee', 'underlying', 'underwriter', 'underwriting', 'value', 'vesting', 'warrant', 'stock', 'stock', 'stock', 'settlement', 'settlement', 'invest', 'promoter', 'promoter', 'close', 'close', 'contract', 'limit', 'long', 'offer', 'position', 'short', 'purchase', 'purchase', 'sale', 'merchant', 'account', 'account', 'asset', 'asset', 'business', 'buy', 'commission', 'debenture', 'debenture', 'income', 'holding', 'holding', 'holding', 'institution', 'institution', 'lot', 'principal', 'quantity', 'right', 'right', 'bond', 'bond', 'cash', 'capital', 'capital', 'capital', 'restriction', 'credit', 'credit', 'entity', 'entity', 'entity', 'expense', 'inventory', 'material', 'material', 'materiality', 'partnership', 'profit', 'profit', 'profit', 'return', 'revenue', 'revenue', 'risk', 'risk', 'unlisted', 'unlisted', 'agent', 'agent', 'agent', 'liability', 'performance', 'yield', 'accounting', 'acquisition', 'acquisition', 'agency', 'agency', 'audit', 'audit', 'chairman', 'charge', 'charge', 'control', 'cost', 'cost', 'coupon', 'default']\n",
      "[4, 110, 1, 50, 1, 68, 25, 2, 2, 2, 27, 1, 1, 64, 1, 1, 4, 9, 2, 1, 25, 25, 25, 4, 6, 1, 6, 2, 171, 3, 8, 10, 1, 78, 8, 9, 7, 5, 24, 29, 53, 87, 2, 21, 20, 176, 1, 4, 1, 3, 23, 2, 286, 4, 7, 223, 1, 13, 7, 242, 23, 15, 187, 11, 159, 8, 18, 13, 183, 1, 4, 14, 1, 257, 1, 4, 1, 1, 2, 3, 16, 14, 18, 5, 188, 3, 1, 142, 2, 41, 1, 6, 9, 68, 5, 7, 1, 6, 1, 87, 1, 2, 1, 23, 1, 14, 31, 62, 100, 6, 44, 2, 10, 18, 1, 1, 20, 9, 2, 196, 5, 3, 1, 9, 9, 25, 1, 52, 1, 40, 21, 15, 8, 3, 19, 3, 2, 2, 10, 2, 15, 1, 2, 1, 3, 61, 2, 6, 5, 2, 4, 13, 4, 3, 17, 201, 4, 217, 4, 1, 4, 25, 1, 8, 3, 1, 6, 1, 1, 3, 1, 13, 2, 1, 2, 1, 20, 14, 3, 1, 5, 3, 63, 1, 15, 3, 28, 6, 2, 17, 29, 1, 8, 1, 17]\n"
     ]
    }
   ],
   "source": [
    "label = []\n",
    "word = []\n",
    "freq = []\n",
    "for i in market:\n",
    "    k=0\n",
    "    while(k<len(reg)):\n",
    "        r = reg[k]\n",
    "        if(i == r[1]):\n",
    "            if(r[2] != 0):\n",
    "                label.append(r[0])\n",
    "                word.append(i)\n",
    "                freq.append(r[2])\n",
    "        k=k+1\n",
    "print(label)\n",
    "print(word)\n",
    "print(freq)"
   ]
  },
  {
   "cell_type": "code",
   "execution_count": 72,
   "metadata": {},
   "outputs": [
    {
     "name": "stdout",
     "output_type": "stream",
     "text": [
      "52.76422764227642\n",
      "37.257824143070046\n",
      "27.8915112791759\n"
     ]
    }
   ],
   "source": [
    "#Percentage wrt frequency of other accounting terms within cluster\n",
    "sum0=0\n",
    "sum1=0\n",
    "sum2=0\n",
    "#sum3=0\n",
    "\n",
    "i=0\n",
    "while(i<len(label)):\n",
    "    if(label[i] == 0):\n",
    "        sum0 = sum0 + freq[i]\n",
    "    elif(label[i] == 1):\n",
    "        sum1 = sum1 + freq[i]\n",
    "    #elif(label[i] == 2):\n",
    "    #    sum2 = sum2 + freq[i]\n",
    "    else:\n",
    "        sum2 = sum2 + freq[i]\n",
    "    i=i+1\n",
    "s0=0\n",
    "s1=0\n",
    "s2=0\n",
    "#s3=0\n",
    "\n",
    "s0 = sum0/c0\n",
    "s1 = sum1/c1\n",
    "s2 = sum2/c2\n",
    "#s3 = sum3/c3\n",
    "\n",
    "print(s0*100)\n",
    "print(s1*100)\n",
    "print(s2*100)\n",
    "#print(s3*100)"
   ]
  },
  {
   "cell_type": "code",
   "execution_count": 73,
   "metadata": {},
   "outputs": [
    {
     "name": "stdout",
     "output_type": "stream",
     "text": [
      "13.10182203605073\n",
      "10.229911251540571\n",
      "83.15798478749149\n"
     ]
    }
   ],
   "source": [
    "#Percentage wrt global frequency of accounting terms\n",
    "t1=0\n",
    "t2=0\n",
    "t0=0\n",
    "#t3=0\n",
    "\n",
    "count1 = 0\n",
    "count2 = 0\n",
    "count0 = 0\n",
    "#count3=0\n",
    "l=0\n",
    "while(l<len(word)):\n",
    "    d=0\n",
    "    #r = reg[l]\n",
    "    if(label[l] == 0):\n",
    "        f=0\n",
    "        for i in tlist:\n",
    "            if(i == word[l]):\n",
    "                t0 = t0 + freq[l]/flist[f]\n",
    "                count0 = count0+1\n",
    "                d=d+1\n",
    "                break\n",
    "            f=f+1\n",
    "        #if(d==0):\n",
    "        #    t0 = t0 + 1\n",
    "        #    count0 = count0+1\n",
    "    elif(label[l] == 1):\n",
    "        f=0\n",
    "        for i in tlist:\n",
    "            if(i == word[l]):\n",
    "                t1 = t1 + freq[l]/flist[f]\n",
    "                count1 = count1+1\n",
    "                break\n",
    "            f=f+1\n",
    "        #if(d==0):\n",
    "        #    t1 = t1 + 1\n",
    "        #    count1 = count1+1\n",
    "    #elif(label[l] == 2):\n",
    "    #    f=0\n",
    "    #    for i in tlist:\n",
    "    #        if(i == word[l]):\n",
    "    #            t2 = t2 + freq[l]/flist[f]\n",
    "    #            count2 = count2+1\n",
    "    #            break\n",
    "    #        f=f+1\n",
    "        #if(d==0):\n",
    "        #    t2 = t2 + 1\n",
    "        #    count2 = count2+1\n",
    "    else:\n",
    "        f=0\n",
    "        for i in tlist:\n",
    "            if(i == word[l]):\n",
    "                t2 = t2 + freq[l]/flist[f]\n",
    "                count2 = count2+1\n",
    "                break\n",
    "            f=f+1\n",
    "        #if(d==0):\n",
    "        #    t3 = t3 + 1\n",
    "        #    count3 = count3+1\n",
    "    l=l+1\n",
    "\n",
    "s0 = t0/count0\n",
    "s1 = t1/count1\n",
    "s2 = t2/count2\n",
    "#s3 = t3/count3\n",
    "\n",
    "print(s0*100)\n",
    "print(s1*100)\n",
    "print(s2*100)\n",
    "#print(s3*100)"
   ]
  },
  {
   "cell_type": "markdown",
   "metadata": {},
   "source": [
    "#### Tag words for Commodity Market"
   ]
  },
  {
   "cell_type": "code",
   "execution_count": 70,
   "metadata": {},
   "outputs": [],
   "source": [
    "comm = pd.read_csv('/home/deepti-saravanan/Desktop/laws/semantics/CommMarket.csv')"
   ]
  },
  {
   "cell_type": "code",
   "execution_count": 71,
   "metadata": {},
   "outputs": [],
   "source": [
    "cm1 = comm.values.tolist()\n",
    "cm = []\n",
    "for i in cm1:\n",
    "    cm.append(i[0])"
   ]
  },
  {
   "cell_type": "code",
   "execution_count": 72,
   "metadata": {},
   "outputs": [],
   "source": [
    "comm_market = []\n",
    "\n",
    "for n in cm:\n",
    "    k=0\n",
    "    while(k<len(g)):\n",
    "        if(g[k] == n):\n",
    "            #print(\"word is: \")\n",
    "            #print(g[k])\n",
    "            if(n not in comm_market):\n",
    "                comm_market.append(n)\n",
    "        k = k+1"
   ]
  },
  {
   "cell_type": "code",
   "execution_count": 74,
   "metadata": {},
   "outputs": [
    {
     "data": {
      "text/plain": [
       "['basis',\n",
       " 'bear',\n",
       " 'bid',\n",
       " 'breaking',\n",
       " 'call',\n",
       " 'close',\n",
       " 'cover',\n",
       " 'delivery',\n",
       " 'contract',\n",
       " 'limit',\n",
       " 'liquidation',\n",
       " 'local',\n",
       " 'long',\n",
       " 'margin',\n",
       " 'offer',\n",
       " 'opening',\n",
       " 'put',\n",
       " 'point',\n",
       " 'position',\n",
       " 'premium',\n",
       " 'range',\n",
       " 'reaction',\n",
       " 'short',\n",
       " 'purchase',\n",
       " 'sale',\n",
       " 'merchant']"
      ]
     },
     "execution_count": 74,
     "metadata": {},
     "output_type": "execute_result"
    }
   ],
   "source": [
    "comm_market"
   ]
  },
  {
   "cell_type": "code",
   "execution_count": 75,
   "metadata": {},
   "outputs": [
    {
     "name": "stdout",
     "output_type": "stream",
     "text": [
      "[0, 1, 2, 0, 2, 2, 2, 2, 2, 2, 2, 1, 2, 2, 2, 0, 2, 2, 2]\n",
      "['basis', 'basis', 'basis', 'close', 'close', 'cover', 'delivery', 'contract', 'limit', 'liquidation', 'long', 'margin', 'offer', 'position', 'short', 'purchase', 'purchase', 'sale', 'merchant']\n",
      "[1, 1, 4, 1, 1, 4, 1, 20, 9, 1, 2, 1, 196, 5, 3, 1, 9, 9, 25]\n"
     ]
    }
   ],
   "source": [
    "label = []\n",
    "word = []\n",
    "freq = []\n",
    "for i in comm_market:\n",
    "    k=0\n",
    "    while(k<len(reg)):\n",
    "        r = reg[k]\n",
    "        if(i == r[1]):\n",
    "            if(r[2] != 0):\n",
    "                label.append(r[0])\n",
    "                word.append(i)\n",
    "                freq.append(r[2])\n",
    "        k=k+1\n",
    "print(label)\n",
    "print(word)\n",
    "print(freq)"
   ]
  },
  {
   "cell_type": "code",
   "execution_count": 76,
   "metadata": {},
   "outputs": [
    {
     "name": "stdout",
     "output_type": "stream",
     "text": [
      "0.24390243902439024\n",
      "0.29806259314456035\n",
      "1.8842091537358194\n"
     ]
    }
   ],
   "source": [
    "#Percentage wrt frequency of other accounting terms within cluster\n",
    "sum0=0\n",
    "sum1=0\n",
    "sum2=0\n",
    "#sum3=0\n",
    "\n",
    "i=0\n",
    "while(i<len(label)):\n",
    "    if(label[i] == 0):\n",
    "        sum0 = sum0 + freq[i]\n",
    "    elif(label[i] == 1):\n",
    "        sum1 = sum1 + freq[i]\n",
    "    #elif(label[i] == 2):\n",
    "    #    sum2 = sum2 + freq[i]\n",
    "    else:\n",
    "        sum2 = sum2 + freq[i]\n",
    "    i=i+1\n",
    "s0=0\n",
    "s1=0\n",
    "s2=0\n",
    "#s3=0\n",
    "\n",
    "s0 = sum0/c0\n",
    "s1 = sum1/c1\n",
    "s2 = sum2/c2\n",
    "#s3 = sum3/c3\n",
    "\n",
    "print(s0*100)\n",
    "print(s1*100)\n",
    "print(s2*100)\n",
    "#print(s3*100)"
   ]
  },
  {
   "cell_type": "code",
   "execution_count": 79,
   "metadata": {},
   "outputs": [
    {
     "name": "stdout",
     "output_type": "stream",
     "text": [
      "0.0\n",
      "0.0\n",
      "100.07669514169717\n"
     ]
    }
   ],
   "source": [
    "#Percentage wrt global frequency of accounting terms\n",
    "t1=0\n",
    "t2=0\n",
    "t0=0\n",
    "#t3=0\n",
    "\n",
    "count1 = 0\n",
    "count2 = 0\n",
    "count0 = 0\n",
    "#count3=0\n",
    "l=0\n",
    "while(l<len(word)):\n",
    "    d=0\n",
    "    #r = reg[l]\n",
    "    if(label[l] == 0):\n",
    "        f=0\n",
    "        for i in tlist:\n",
    "            if(i == word[l]):\n",
    "                t0 = t0 + freq[l]/flist[f]\n",
    "                count0 = count0+1\n",
    "                d=d+1\n",
    "                break\n",
    "            f=f+1\n",
    "        #if(d==0):\n",
    "        #    t0 = t0 + 1\n",
    "        #    count0 = count0+1\n",
    "    elif(label[l] == 1):\n",
    "        f=0\n",
    "        for i in tlist:\n",
    "            if(i == word[l]):\n",
    "                t1 = t1 + freq[l]/flist[f]\n",
    "                count1 = count1+1\n",
    "                break\n",
    "            f=f+1\n",
    "        #if(d==0):\n",
    "        #    t1 = t1 + 1\n",
    "        #    count1 = count1+1\n",
    "    #elif(label[l] == 2):\n",
    "    #    f=0\n",
    "    #    for i in tlist:\n",
    "    #        if(i == word[l]):\n",
    "    #            t2 = t2 + freq[l]/flist[f]\n",
    "    #            count2 = count2+1\n",
    "    #            break\n",
    "    #        f=f+1\n",
    "        #if(d==0):\n",
    "        #    t2 = t2 + 1\n",
    "        #    count2 = count2+1\n",
    "    else:\n",
    "        f=0\n",
    "        for i in tlist:\n",
    "            if(i == word[l]):\n",
    "                t2 = t2 + freq[l]/flist[f]\n",
    "                count2 = count2+1\n",
    "                break\n",
    "            f=f+1\n",
    "        #if(d==0):\n",
    "        #    t3 = t3 + 1\n",
    "        #    count3 = count3+1\n",
    "    l=l+1\n",
    "count0=1\n",
    "count1=1\n",
    "s0 = t0/count0\n",
    "s1 = t1/count1\n",
    "s2 = t2/count2\n",
    "#s3 = t3/count3\n",
    "\n",
    "print(s0*100)\n",
    "print(s1*100)\n",
    "print(s2*100)\n",
    "#print(s3*100)"
   ]
  },
  {
   "cell_type": "markdown",
   "metadata": {},
   "source": [
    "#### Tag words for Pension Funds"
   ]
  },
  {
   "cell_type": "code",
   "execution_count": 77,
   "metadata": {},
   "outputs": [],
   "source": [
    "pen = pd.read_csv('/home/deepti-saravanan/Desktop/laws/semantics/Pension.csv')"
   ]
  },
  {
   "cell_type": "code",
   "execution_count": 78,
   "metadata": {},
   "outputs": [],
   "source": [
    "p1 = pen.values.tolist()\n",
    "p = []\n",
    "for i in p1:\n",
    "    p.append(i[0])"
   ]
  },
  {
   "cell_type": "code",
   "execution_count": 79,
   "metadata": {},
   "outputs": [],
   "source": [
    "pension = []\n",
    "\n",
    "for n in p:\n",
    "    k=0\n",
    "    while(k<len(g)):\n",
    "        if(g[k] == n):\n",
    "            if(n not in pension):\n",
    "                pension.append(n)\n",
    "        k = k+1"
   ]
  },
  {
   "cell_type": "code",
   "execution_count": 80,
   "metadata": {},
   "outputs": [
    {
     "data": {
      "text/plain": [
       "['accrued',\n",
       " 'administrator',\n",
       " 'benefit',\n",
       " 'asset',\n",
       " 'retirement',\n",
       " 'member',\n",
       " 'pension']"
      ]
     },
     "execution_count": 80,
     "metadata": {},
     "output_type": "execute_result"
    }
   ],
   "source": [
    "pension"
   ]
  },
  {
   "cell_type": "code",
   "execution_count": 81,
   "metadata": {},
   "outputs": [
    {
     "name": "stdout",
     "output_type": "stream",
     "text": [
      "[2, 0, 2, 0, 2, 2, 1, 2, 2]\n",
      "['administrator', 'benefit', 'benefit', 'asset', 'asset', 'retirement', 'member', 'member', 'pension']\n",
      "[28, 1, 12, 1, 40, 2, 8, 34, 3]\n"
     ]
    }
   ],
   "source": [
    "label = []\n",
    "word = []\n",
    "freq = []\n",
    "for i in pension:\n",
    "    k=0\n",
    "    while(k<len(reg)):\n",
    "        r = reg[k]\n",
    "        if(i == r[1]):\n",
    "            if(r[2] != 0):\n",
    "                label.append(r[0])\n",
    "                word.append(i)\n",
    "                freq.append(r[2])\n",
    "        k=k+1\n",
    "print(label)\n",
    "print(word)\n",
    "print(freq)"
   ]
  },
  {
   "cell_type": "code",
   "execution_count": 82,
   "metadata": {},
   "outputs": [
    {
     "name": "stdout",
     "output_type": "stream",
     "text": [
      "0.16260162601626016\n",
      "1.1922503725782414\n",
      "0.7758508280088668\n"
     ]
    }
   ],
   "source": [
    "#Percentage wrt frequency of other accounting terms within cluster\n",
    "sum0=0\n",
    "sum1=0\n",
    "sum2=0\n",
    "#sum3=0\n",
    "\n",
    "i=0\n",
    "while(i<len(label)):\n",
    "    if(label[i] == 0):\n",
    "        sum0 = sum0 + freq[i]\n",
    "    elif(label[i] == 1):\n",
    "        sum1 = sum1 + freq[i]\n",
    "    #elif(label[i] == 2):\n",
    "    #    sum2 = sum2 + freq[i]\n",
    "    else:\n",
    "        sum2 = sum2 + freq[i]\n",
    "    i=i+1\n",
    "s0=0\n",
    "s1=0\n",
    "s2=0\n",
    "#s3=0\n",
    "\n",
    "s0 = sum0/c0\n",
    "s1 = sum1/c1\n",
    "s2 = sum2/c2\n",
    "#s3 = sum3/c3\n",
    "\n",
    "print(s0*100)\n",
    "print(s1*100)\n",
    "print(s2*100)\n",
    "#print(s3*100)"
   ]
  },
  {
   "cell_type": "code",
   "execution_count": 84,
   "metadata": {},
   "outputs": [
    {
     "name": "stdout",
     "output_type": "stream",
     "text": [
      "0.0\n",
      "18.621074921115095\n",
      "79.13956841473917\n"
     ]
    }
   ],
   "source": [
    "#Percentage wrt global frequency of accounting terms\n",
    "t1=0\n",
    "t2=0\n",
    "t0=0\n",
    "#t3=0\n",
    "\n",
    "count1 = 0\n",
    "count2 = 0\n",
    "count0 = 0\n",
    "#count3=0\n",
    "l=0\n",
    "while(l<len(word)):\n",
    "    d=0\n",
    "    #r = reg[l]\n",
    "    if(label[l] == 0):\n",
    "        f=0\n",
    "        for i in tlist:\n",
    "            if(i == word[l]):\n",
    "                t0 = t0 + freq[l]/flist[f]\n",
    "                count0 = count0+1\n",
    "                d=d+1\n",
    "                break\n",
    "            f=f+1\n",
    "        #if(d==0):\n",
    "        #    t0 = t0 + 1\n",
    "        #    count0 = count0+1\n",
    "    elif(label[l] == 1):\n",
    "        f=0\n",
    "        for i in tlist:\n",
    "            if(i == word[l]):\n",
    "                t1 = t1 + freq[l]/flist[f]\n",
    "                count1 = count1+1\n",
    "                break\n",
    "            f=f+1\n",
    "        #if(d==0):\n",
    "        #    t1 = t1 + 1\n",
    "        #    count1 = count1+1\n",
    "    #elif(label[l] == 2):\n",
    "    #    f=0\n",
    "    #    for i in tlist:\n",
    "    #        if(i == word[l]):\n",
    "    #            t2 = t2 + freq[l]/flist[f]\n",
    "    #            count2 = count2+1\n",
    "    #            break\n",
    "    #        f=f+1\n",
    "        #if(d==0):\n",
    "        #    t2 = t2 + 1\n",
    "        #    count2 = count2+1\n",
    "    else:\n",
    "        f=0\n",
    "        for i in tlist:\n",
    "            if(i == word[l]):\n",
    "                t2 = t2 + freq[l]/flist[f]\n",
    "                count2 = count2+1\n",
    "                break\n",
    "            f=f+1\n",
    "        #if(d==0):\n",
    "        #    t3 = t3 + 1\n",
    "        #    count3 = count3+1\n",
    "    l=l+1\n",
    "count0=1\n",
    "s0 = t0/count0\n",
    "s1 = t1/count1\n",
    "s2 = t2/count2\n",
    "#s3 = t3/count3\n",
    "\n",
    "print(s0*100)\n",
    "print(s1*100)\n",
    "print(s2*100)\n",
    "#print(s3*100)"
   ]
  },
  {
   "cell_type": "markdown",
   "metadata": {},
   "source": [
    "#### 10 cluster analysis"
   ]
  },
  {
   "cell_type": "code",
   "execution_count": 5,
   "metadata": {},
   "outputs": [],
   "source": [
    "import pandas as pd\n",
    "df = pd.read_csv('groups100_10clusters.csv')\n",
    "p = df['label'].tolist()"
   ]
  },
  {
   "cell_type": "code",
   "execution_count": 13,
   "metadata": {},
   "outputs": [],
   "source": [
    "c0=0\n",
    "c1=0\n",
    "c2=0\n",
    "c3=0\n",
    "c4=0\n",
    "c5=0\n",
    "c6=0\n",
    "c7=0\n",
    "c8=0\n",
    "c9=0\n",
    "\n",
    "for i in p:\n",
    "    if(i==0):\n",
    "        c0=c0+1\n",
    "    elif(i==1):\n",
    "        c1=c1+1\n",
    "    elif(i==2):\n",
    "        c2=c2+1\n",
    "    elif(i==3):\n",
    "        c3=c3+1\n",
    "    elif(i==4):\n",
    "        c4=c4+1\n",
    "    elif(i==5):\n",
    "        c5=c5+1\n",
    "    elif(i==6):\n",
    "        c6=c6+1\n",
    "    elif(i==7):\n",
    "        c7=c7+1\n",
    "    elif(i==8):\n",
    "        c8=c8+1\n",
    "    else:\n",
    "        c9=c9+1"
   ]
  },
  {
   "cell_type": "code",
   "execution_count": 14,
   "metadata": {},
   "outputs": [
    {
     "name": "stdout",
     "output_type": "stream",
     "text": [
      "1353\n",
      "1353\n",
      "1353\n",
      "1353\n",
      "1353\n",
      "1353\n",
      "1353\n",
      "1353\n",
      "1353\n",
      "1353\n"
     ]
    }
   ],
   "source": [
    "print(c0)\n",
    "print(c1)\n",
    "print(c2)\n",
    "print(c3)\n",
    "print(c4)\n",
    "print(c5)\n",
    "print(c6)\n",
    "print(c7)\n",
    "print(c8)\n",
    "print(c9)"
   ]
  }
 ],
 "metadata": {
  "kernelspec": {
   "display_name": "Python 3",
   "language": "python",
   "name": "python3"
  },
  "language_info": {
   "codemirror_mode": {
    "name": "ipython",
    "version": 3
   },
   "file_extension": ".py",
   "mimetype": "text/x-python",
   "name": "python",
   "nbconvert_exporter": "python",
   "pygments_lexer": "ipython3",
   "version": "3.7.3"
  }
 },
 "nbformat": 4,
 "nbformat_minor": 4
}
