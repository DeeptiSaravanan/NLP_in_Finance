{
 "cells": [
  {
   "cell_type": "markdown",
   "metadata": {},
   "source": [
    "## word2vec model"
   ]
  },
  {
   "cell_type": "code",
   "execution_count": 1,
   "metadata": {},
   "outputs": [],
   "source": [
    "#Vector values\n",
    "%store -r X1\n",
    "#Tokens\n",
    "%store -r X2 "
   ]
  },
  {
   "cell_type": "markdown",
   "metadata": {},
   "source": [
    "#### Hierarchical Clustering (Agglomerative)"
   ]
  },
  {
   "cell_type": "code",
   "execution_count": 2,
   "metadata": {},
   "outputs": [],
   "source": [
    "import pandas as pd\n",
    "import numpy as np\n",
    "import matplotlib.pyplot as plt\n",
    "%matplotlib inline"
   ]
  },
  {
   "cell_type": "code",
   "execution_count": 3,
   "metadata": {},
   "outputs": [],
   "source": [
    "%store -r X0"
   ]
  },
  {
   "cell_type": "code",
   "execution_count": 4,
   "metadata": {},
   "outputs": [
    {
     "data": {
      "text/html": [
       "<div>\n",
       "<style scoped>\n",
       "    .dataframe tbody tr th:only-of-type {\n",
       "        vertical-align: middle;\n",
       "    }\n",
       "\n",
       "    .dataframe tbody tr th {\n",
       "        vertical-align: top;\n",
       "    }\n",
       "\n",
       "    .dataframe thead th {\n",
       "        text-align: right;\n",
       "    }\n",
       "</style>\n",
       "<table border=\"1\" class=\"dataframe\">\n",
       "  <thead>\n",
       "    <tr style=\"text-align: right;\">\n",
       "      <th></th>\n",
       "      <th>0</th>\n",
       "      <th>1</th>\n",
       "      <th>2</th>\n",
       "      <th>3</th>\n",
       "      <th>4</th>\n",
       "      <th>5</th>\n",
       "      <th>6</th>\n",
       "      <th>7</th>\n",
       "      <th>8</th>\n",
       "      <th>9</th>\n",
       "      <th>...</th>\n",
       "      <th>90</th>\n",
       "      <th>91</th>\n",
       "      <th>92</th>\n",
       "      <th>93</th>\n",
       "      <th>94</th>\n",
       "      <th>95</th>\n",
       "      <th>96</th>\n",
       "      <th>97</th>\n",
       "      <th>98</th>\n",
       "      <th>99</th>\n",
       "    </tr>\n",
       "  </thead>\n",
       "  <tbody>\n",
       "    <tr>\n",
       "      <th>0</th>\n",
       "      <td>-1.182876</td>\n",
       "      <td>-0.539255</td>\n",
       "      <td>0.623149</td>\n",
       "      <td>0.008464</td>\n",
       "      <td>0.431349</td>\n",
       "      <td>-0.381419</td>\n",
       "      <td>-0.096156</td>\n",
       "      <td>0.402546</td>\n",
       "      <td>-0.374244</td>\n",
       "      <td>0.215626</td>\n",
       "      <td>...</td>\n",
       "      <td>-0.239564</td>\n",
       "      <td>-0.137126</td>\n",
       "      <td>-0.624595</td>\n",
       "      <td>-0.416080</td>\n",
       "      <td>0.112537</td>\n",
       "      <td>-0.051800</td>\n",
       "      <td>-0.421833</td>\n",
       "      <td>-0.872877</td>\n",
       "      <td>0.250991</td>\n",
       "      <td>-0.363233</td>\n",
       "    </tr>\n",
       "    <tr>\n",
       "      <th>1</th>\n",
       "      <td>-0.898775</td>\n",
       "      <td>-0.525640</td>\n",
       "      <td>0.484910</td>\n",
       "      <td>0.079801</td>\n",
       "      <td>0.389435</td>\n",
       "      <td>-0.405577</td>\n",
       "      <td>-0.090909</td>\n",
       "      <td>0.304581</td>\n",
       "      <td>-0.240838</td>\n",
       "      <td>0.118364</td>\n",
       "      <td>...</td>\n",
       "      <td>-0.195233</td>\n",
       "      <td>-0.128892</td>\n",
       "      <td>-0.596956</td>\n",
       "      <td>-0.391619</td>\n",
       "      <td>0.058752</td>\n",
       "      <td>-0.033231</td>\n",
       "      <td>-0.332462</td>\n",
       "      <td>-0.740581</td>\n",
       "      <td>0.253588</td>\n",
       "      <td>-0.328854</td>\n",
       "    </tr>\n",
       "    <tr>\n",
       "      <th>2</th>\n",
       "      <td>-0.898998</td>\n",
       "      <td>-0.483292</td>\n",
       "      <td>0.491294</td>\n",
       "      <td>0.046856</td>\n",
       "      <td>0.377234</td>\n",
       "      <td>-0.384501</td>\n",
       "      <td>-0.088844</td>\n",
       "      <td>0.283815</td>\n",
       "      <td>-0.258444</td>\n",
       "      <td>0.155945</td>\n",
       "      <td>...</td>\n",
       "      <td>-0.200170</td>\n",
       "      <td>-0.112116</td>\n",
       "      <td>-0.539157</td>\n",
       "      <td>-0.359218</td>\n",
       "      <td>0.035425</td>\n",
       "      <td>-0.055829</td>\n",
       "      <td>-0.300265</td>\n",
       "      <td>-0.693450</td>\n",
       "      <td>0.215287</td>\n",
       "      <td>-0.306638</td>\n",
       "    </tr>\n",
       "    <tr>\n",
       "      <th>3</th>\n",
       "      <td>-0.922868</td>\n",
       "      <td>-0.558936</td>\n",
       "      <td>0.495553</td>\n",
       "      <td>0.115359</td>\n",
       "      <td>0.424003</td>\n",
       "      <td>-0.462849</td>\n",
       "      <td>-0.107120</td>\n",
       "      <td>0.332129</td>\n",
       "      <td>-0.226776</td>\n",
       "      <td>0.130044</td>\n",
       "      <td>...</td>\n",
       "      <td>-0.223359</td>\n",
       "      <td>-0.130825</td>\n",
       "      <td>-0.647510</td>\n",
       "      <td>-0.450930</td>\n",
       "      <td>0.074602</td>\n",
       "      <td>-0.034828</td>\n",
       "      <td>-0.349202</td>\n",
       "      <td>-0.789436</td>\n",
       "      <td>0.263617</td>\n",
       "      <td>-0.340973</td>\n",
       "    </tr>\n",
       "    <tr>\n",
       "      <th>4</th>\n",
       "      <td>-1.070419</td>\n",
       "      <td>-0.607455</td>\n",
       "      <td>0.565508</td>\n",
       "      <td>0.122724</td>\n",
       "      <td>0.462499</td>\n",
       "      <td>-0.466554</td>\n",
       "      <td>-0.095084</td>\n",
       "      <td>0.381031</td>\n",
       "      <td>-0.268322</td>\n",
       "      <td>0.114248</td>\n",
       "      <td>...</td>\n",
       "      <td>-0.254694</td>\n",
       "      <td>-0.179352</td>\n",
       "      <td>-0.726750</td>\n",
       "      <td>-0.486144</td>\n",
       "      <td>0.103926</td>\n",
       "      <td>-0.009376</td>\n",
       "      <td>-0.455256</td>\n",
       "      <td>-0.921676</td>\n",
       "      <td>0.319046</td>\n",
       "      <td>-0.397929</td>\n",
       "    </tr>\n",
       "    <tr>\n",
       "      <th>...</th>\n",
       "      <td>...</td>\n",
       "      <td>...</td>\n",
       "      <td>...</td>\n",
       "      <td>...</td>\n",
       "      <td>...</td>\n",
       "      <td>...</td>\n",
       "      <td>...</td>\n",
       "      <td>...</td>\n",
       "      <td>...</td>\n",
       "      <td>...</td>\n",
       "      <td>...</td>\n",
       "      <td>...</td>\n",
       "      <td>...</td>\n",
       "      <td>...</td>\n",
       "      <td>...</td>\n",
       "      <td>...</td>\n",
       "      <td>...</td>\n",
       "      <td>...</td>\n",
       "      <td>...</td>\n",
       "      <td>...</td>\n",
       "      <td>...</td>\n",
       "    </tr>\n",
       "    <tr>\n",
       "      <th>2338</th>\n",
       "      <td>-0.847113</td>\n",
       "      <td>-0.471628</td>\n",
       "      <td>0.462987</td>\n",
       "      <td>0.047407</td>\n",
       "      <td>0.373264</td>\n",
       "      <td>-0.366083</td>\n",
       "      <td>-0.096897</td>\n",
       "      <td>0.296906</td>\n",
       "      <td>-0.234989</td>\n",
       "      <td>0.143815</td>\n",
       "      <td>...</td>\n",
       "      <td>-0.189319</td>\n",
       "      <td>-0.111783</td>\n",
       "      <td>-0.535008</td>\n",
       "      <td>-0.356312</td>\n",
       "      <td>0.049205</td>\n",
       "      <td>-0.050779</td>\n",
       "      <td>-0.292119</td>\n",
       "      <td>-0.670910</td>\n",
       "      <td>0.214802</td>\n",
       "      <td>-0.314861</td>\n",
       "    </tr>\n",
       "    <tr>\n",
       "      <th>2339</th>\n",
       "      <td>-0.779544</td>\n",
       "      <td>-0.506875</td>\n",
       "      <td>0.426720</td>\n",
       "      <td>0.108979</td>\n",
       "      <td>0.386499</td>\n",
       "      <td>-0.420156</td>\n",
       "      <td>-0.087601</td>\n",
       "      <td>0.294217</td>\n",
       "      <td>-0.168192</td>\n",
       "      <td>0.076739</td>\n",
       "      <td>...</td>\n",
       "      <td>-0.200740</td>\n",
       "      <td>-0.131923</td>\n",
       "      <td>-0.587230</td>\n",
       "      <td>-0.393712</td>\n",
       "      <td>0.062481</td>\n",
       "      <td>-0.029494</td>\n",
       "      <td>-0.305283</td>\n",
       "      <td>-0.692354</td>\n",
       "      <td>0.251748</td>\n",
       "      <td>-0.322637</td>\n",
       "    </tr>\n",
       "    <tr>\n",
       "      <th>2340</th>\n",
       "      <td>-0.861640</td>\n",
       "      <td>-0.555067</td>\n",
       "      <td>0.473710</td>\n",
       "      <td>0.100930</td>\n",
       "      <td>0.423303</td>\n",
       "      <td>-0.470789</td>\n",
       "      <td>-0.102910</td>\n",
       "      <td>0.336168</td>\n",
       "      <td>-0.184507</td>\n",
       "      <td>0.089637</td>\n",
       "      <td>...</td>\n",
       "      <td>-0.217675</td>\n",
       "      <td>-0.135928</td>\n",
       "      <td>-0.644451</td>\n",
       "      <td>-0.422058</td>\n",
       "      <td>0.065832</td>\n",
       "      <td>-0.037323</td>\n",
       "      <td>-0.315606</td>\n",
       "      <td>-0.749253</td>\n",
       "      <td>0.269930</td>\n",
       "      <td>-0.361516</td>\n",
       "    </tr>\n",
       "    <tr>\n",
       "      <th>2341</th>\n",
       "      <td>-0.743727</td>\n",
       "      <td>-0.493287</td>\n",
       "      <td>0.411707</td>\n",
       "      <td>0.101703</td>\n",
       "      <td>0.375816</td>\n",
       "      <td>-0.415421</td>\n",
       "      <td>-0.090648</td>\n",
       "      <td>0.296040</td>\n",
       "      <td>-0.151840</td>\n",
       "      <td>0.074667</td>\n",
       "      <td>...</td>\n",
       "      <td>-0.191211</td>\n",
       "      <td>-0.119361</td>\n",
       "      <td>-0.562058</td>\n",
       "      <td>-0.385415</td>\n",
       "      <td>0.061182</td>\n",
       "      <td>-0.033107</td>\n",
       "      <td>-0.270259</td>\n",
       "      <td>-0.645806</td>\n",
       "      <td>0.242805</td>\n",
       "      <td>-0.315184</td>\n",
       "    </tr>\n",
       "    <tr>\n",
       "      <th>2342</th>\n",
       "      <td>-0.910239</td>\n",
       "      <td>-0.584149</td>\n",
       "      <td>0.502524</td>\n",
       "      <td>0.082619</td>\n",
       "      <td>0.428718</td>\n",
       "      <td>-0.497757</td>\n",
       "      <td>-0.104976</td>\n",
       "      <td>0.361766</td>\n",
       "      <td>-0.203105</td>\n",
       "      <td>0.086809</td>\n",
       "      <td>...</td>\n",
       "      <td>-0.236084</td>\n",
       "      <td>-0.137006</td>\n",
       "      <td>-0.675090</td>\n",
       "      <td>-0.420153</td>\n",
       "      <td>0.058218</td>\n",
       "      <td>-0.039048</td>\n",
       "      <td>-0.324109</td>\n",
       "      <td>-0.777958</td>\n",
       "      <td>0.290916</td>\n",
       "      <td>-0.392751</td>\n",
       "    </tr>\n",
       "  </tbody>\n",
       "</table>\n",
       "<p>2343 rows × 100 columns</p>\n",
       "</div>"
      ],
      "text/plain": [
       "            0         1         2         3         4         5         6   \\\n",
       "0    -1.182876 -0.539255  0.623149  0.008464  0.431349 -0.381419 -0.096156   \n",
       "1    -0.898775 -0.525640  0.484910  0.079801  0.389435 -0.405577 -0.090909   \n",
       "2    -0.898998 -0.483292  0.491294  0.046856  0.377234 -0.384501 -0.088844   \n",
       "3    -0.922868 -0.558936  0.495553  0.115359  0.424003 -0.462849 -0.107120   \n",
       "4    -1.070419 -0.607455  0.565508  0.122724  0.462499 -0.466554 -0.095084   \n",
       "...        ...       ...       ...       ...       ...       ...       ...   \n",
       "2338 -0.847113 -0.471628  0.462987  0.047407  0.373264 -0.366083 -0.096897   \n",
       "2339 -0.779544 -0.506875  0.426720  0.108979  0.386499 -0.420156 -0.087601   \n",
       "2340 -0.861640 -0.555067  0.473710  0.100930  0.423303 -0.470789 -0.102910   \n",
       "2341 -0.743727 -0.493287  0.411707  0.101703  0.375816 -0.415421 -0.090648   \n",
       "2342 -0.910239 -0.584149  0.502524  0.082619  0.428718 -0.497757 -0.104976   \n",
       "\n",
       "            7         8         9   ...        90        91        92  \\\n",
       "0     0.402546 -0.374244  0.215626  ... -0.239564 -0.137126 -0.624595   \n",
       "1     0.304581 -0.240838  0.118364  ... -0.195233 -0.128892 -0.596956   \n",
       "2     0.283815 -0.258444  0.155945  ... -0.200170 -0.112116 -0.539157   \n",
       "3     0.332129 -0.226776  0.130044  ... -0.223359 -0.130825 -0.647510   \n",
       "4     0.381031 -0.268322  0.114248  ... -0.254694 -0.179352 -0.726750   \n",
       "...        ...       ...       ...  ...       ...       ...       ...   \n",
       "2338  0.296906 -0.234989  0.143815  ... -0.189319 -0.111783 -0.535008   \n",
       "2339  0.294217 -0.168192  0.076739  ... -0.200740 -0.131923 -0.587230   \n",
       "2340  0.336168 -0.184507  0.089637  ... -0.217675 -0.135928 -0.644451   \n",
       "2341  0.296040 -0.151840  0.074667  ... -0.191211 -0.119361 -0.562058   \n",
       "2342  0.361766 -0.203105  0.086809  ... -0.236084 -0.137006 -0.675090   \n",
       "\n",
       "            93        94        95        96        97        98        99  \n",
       "0    -0.416080  0.112537 -0.051800 -0.421833 -0.872877  0.250991 -0.363233  \n",
       "1    -0.391619  0.058752 -0.033231 -0.332462 -0.740581  0.253588 -0.328854  \n",
       "2    -0.359218  0.035425 -0.055829 -0.300265 -0.693450  0.215287 -0.306638  \n",
       "3    -0.450930  0.074602 -0.034828 -0.349202 -0.789436  0.263617 -0.340973  \n",
       "4    -0.486144  0.103926 -0.009376 -0.455256 -0.921676  0.319046 -0.397929  \n",
       "...        ...       ...       ...       ...       ...       ...       ...  \n",
       "2338 -0.356312  0.049205 -0.050779 -0.292119 -0.670910  0.214802 -0.314861  \n",
       "2339 -0.393712  0.062481 -0.029494 -0.305283 -0.692354  0.251748 -0.322637  \n",
       "2340 -0.422058  0.065832 -0.037323 -0.315606 -0.749253  0.269930 -0.361516  \n",
       "2341 -0.385415  0.061182 -0.033107 -0.270259 -0.645806  0.242805 -0.315184  \n",
       "2342 -0.420153  0.058218 -0.039048 -0.324109 -0.777958  0.290916 -0.392751  \n",
       "\n",
       "[2343 rows x 100 columns]"
      ]
     },
     "execution_count": 4,
     "metadata": {},
     "output_type": "execute_result"
    }
   ],
   "source": [
    "df = pd.DataFrame(X0)\n",
    "df"
   ]
  },
  {
   "cell_type": "code",
   "execution_count": null,
   "metadata": {},
   "outputs": [],
   "source": [
    "#Number of Clusters\n",
    "import scipy.cluster.hierarchy as shc\n",
    "plt.figure(figsize=(10, 7))  \n",
    "plt.title(\"Dendrograms\")  \n",
    "dend = shc.dendrogram(shc.linkage(df, method='ward'))"
   ]
  },
  {
   "cell_type": "code",
   "execution_count": 7,
   "metadata": {},
   "outputs": [
    {
     "data": {
      "text/plain": [
       "<matplotlib.lines.Line2D at 0x7f2c55bfd470>"
      ]
     },
     "execution_count": 7,
     "metadata": {},
     "output_type": "execute_result"
    },
    {
     "data": {
      "image/png": "[encoded data removed]",
      "text/plain": [
       "<Figure size 720x504 with 1 Axes>"
      ]
     },
     "metadata": {
      "needs_background": "light"
     },
     "output_type": "display_data"
    }
   ],
   "source": [
    "plt.figure(figsize=(10, 7))  \n",
    "plt.title(\"Dendrograms\")  \n",
    "dend = shc.dendrogram(shc.linkage(df, method='ward'))\n",
    "plt.axhline(y=9, color='r', linestyle='--')"
   ]
  },
  {
   "cell_type": "code",
   "execution_count": 5,
   "metadata": {},
   "outputs": [
    {
     "data": {
      "text/plain": [
       "array([1, 2, 0, ..., 2, 0, 2])"
      ]
     },
     "execution_count": 5,
     "metadata": {},
     "output_type": "execute_result"
    }
   ],
   "source": [
    "from sklearn.cluster import AgglomerativeClustering\n",
    "cluster = AgglomerativeClustering(n_clusters=3, affinity='euclidean', linkage='ward')  \n",
    "label3 = cluster.fit_predict(df)\n",
    "label3"
   ]
  },
  {
   "cell_type": "code",
   "execution_count": 10,
   "metadata": {},
   "outputs": [
    {
     "data": {
      "text/plain": [
       "<matplotlib.collections.PathCollection at 0x7f2c5655f6d8>"
      ]
     },
     "execution_count": 10,
     "metadata": {},
     "output_type": "execute_result"
    },
    {
     "data": {
      "image/png": "[encoded data removed]",
      "text/plain": [
       "<Figure size 720x504 with 1 Axes>"
      ]
     },
     "metadata": {
      "needs_background": "light"
     },
     "output_type": "display_data"
    }
   ],
   "source": [
    "plt.figure(figsize=(10, 7))  \n",
    "plt.scatter(df[0], df[50], c=cluster.labels_) "
   ]
  },
  {
   "cell_type": "code",
   "execution_count": 223,
   "metadata": {},
   "outputs": [
    {
     "data": {
      "text/plain": [
       "array([1, 1, 2, ..., 2, 2, 3])"
      ]
     },
     "execution_count": 223,
     "metadata": {},
     "output_type": "execute_result"
    }
   ],
   "source": [
    "from sklearn.cluster import AgglomerativeClustering\n",
    "cluster = AgglomerativeClustering(n_clusters=4, affinity='euclidean', linkage='ward')  \n",
    "label4 = cluster.fit_predict(df)\n",
    "label4"
   ]
  },
  {
   "cell_type": "code",
   "execution_count": 15,
   "metadata": {},
   "outputs": [
    {
     "data": {
      "text/plain": [
       "<matplotlib.collections.PathCollection at 0x7f2c5524f438>"
      ]
     },
     "execution_count": 15,
     "metadata": {},
     "output_type": "execute_result"
    },
    {
     "data": {
      "image/png": "[encoded data removed]",
      "text/plain": [
       "<Figure size 720x504 with 1 Axes>"
      ]
     },
     "metadata": {
      "needs_background": "light"
     },
     "output_type": "display_data"
    }
   ],
   "source": [
    "plt.figure(figsize=(10, 7))  \n",
    "plt.scatter(df[0], df[50], c=cluster.labels_) "
   ]
  },
  {
   "cell_type": "code",
   "execution_count": 6,
   "metadata": {},
   "outputs": [
    {
     "name": "stdout",
     "output_type": "stream",
     "text": [
      "816\n",
      "422\n",
      "1105\n"
     ]
    }
   ],
   "source": [
    "c0=0\n",
    "c1=0\n",
    "c2=0\n",
    "#c3=0\n",
    "for i in label3:\n",
    "    if(i==0):\n",
    "        c0=c0+1\n",
    "    elif(i==1):\n",
    "        c1=c1+1\n",
    "    #elif(i==2):\n",
    "    #    c2=c2+1\n",
    "    else:\n",
    "        c2=c2+1\n",
    "print(c0)\n",
    "print(c1)\n",
    "print(c2)\n",
    "#print(c3)"
   ]
  },
  {
   "cell_type": "code",
   "execution_count": 7,
   "metadata": {},
   "outputs": [],
   "source": [
    "#Cluster-wise separation of regulations' vector values\n",
    "t=-1\n",
    "r0 = []\n",
    "rid0 = []\n",
    "r1 = []\n",
    "rid1 = []\n",
    "r2 = []\n",
    "rid2 = []\n",
    "#r3 = []\n",
    "#rid3 = []\n",
    "for i in label3:\n",
    "    t=t+1\n",
    "    if(i==0):\n",
    "        r0.append(X0[t])\n",
    "        rid0.append(t)\n",
    "    elif(i==1):\n",
    "        r1.append(X0[t])\n",
    "        rid1.append(t)\n",
    "    #elif(i==2):\n",
    "    #    r2.append(X0[t])\n",
    "    #    rid2.append(t)\n",
    "    else:\n",
    "        r2.append(X0[t])\n",
    "        rid2.append(t)"
   ]
  },
  {
   "cell_type": "code",
   "execution_count": 8,
   "metadata": {},
   "outputs": [],
   "source": [
    "#Clusters centroids calculation\n",
    "#Cluster0\n",
    "jlist = [0]*100\n",
    "c=0\n",
    "s=[]\n",
    "for i in r0:\n",
    "    for k in range(0, len(i)): \n",
    "        s.append(i[k] + jlist[k]) \n",
    "    jlist=s\n",
    "    s=[]\n",
    "    #print(len(jlist))\n",
    "    c=c+1\n",
    "t=-1\n",
    "for l in jlist:\n",
    "    t=t+1\n",
    "    l=l/c\n",
    "    jlist[t] = l\n",
    "cent0 = jlist"
   ]
  },
  {
   "cell_type": "code",
   "execution_count": 9,
   "metadata": {},
   "outputs": [],
   "source": [
    "#Cluster1\n",
    "jlist = [0]*100\n",
    "c=0\n",
    "s=[]\n",
    "for i in r1:\n",
    "    for k in range(0, len(i)): \n",
    "        s.append(i[k] + jlist[k]) \n",
    "    jlist=s\n",
    "    s=[]\n",
    "    #print(len(jlist))\n",
    "    c=c+1\n",
    "t=-1\n",
    "for l in jlist:\n",
    "    t=t+1\n",
    "    l=l/c\n",
    "    jlist[t] = l\n",
    "cent1 = jlist"
   ]
  },
  {
   "cell_type": "code",
   "execution_count": 10,
   "metadata": {},
   "outputs": [],
   "source": [
    "#Cluster2\n",
    "jlist = [0]*100\n",
    "c=0\n",
    "s=[]\n",
    "for i in r2:\n",
    "    for k in range(0, len(i)): \n",
    "        s.append(i[k] + jlist[k]) \n",
    "    jlist=s\n",
    "    s=[]\n",
    "    #print(len(jlist))\n",
    "    c=c+1\n",
    "t=-1\n",
    "for l in jlist:\n",
    "    t=t+1\n",
    "    l=l/c\n",
    "    jlist[t] = l\n",
    "cent2 = jlist"
   ]
  },
  {
   "cell_type": "code",
   "execution_count": 170,
   "metadata": {},
   "outputs": [
    {
     "data": {
      "text/plain": [
       "'\\n#Cluster3\\njlist = [0]*100\\nc=0\\ns=[]\\nfor i in r3:\\n    for k in range(0, len(i)): \\n        s.append(i[k] + jlist[k]) \\n    jlist=s\\n    s=[]\\n    #print(len(jlist))\\n    c=c+1\\nt=-1\\nfor l in jlist:\\n    t=t+1\\n    if(c==0):\\n        l=l\\n    else:\\n        l=l/c\\n    jlist[t] = l\\ncent3 = jlist\\n'"
      ]
     },
     "execution_count": 170,
     "metadata": {},
     "output_type": "execute_result"
    }
   ],
   "source": [
    "'''\n",
    "#Cluster3\n",
    "jlist = [0]*100\n",
    "c=0\n",
    "s=[]\n",
    "for i in r3:\n",
    "    for k in range(0, len(i)): \n",
    "        s.append(i[k] + jlist[k]) \n",
    "    jlist=s\n",
    "    s=[]\n",
    "    #print(len(jlist))\n",
    "    c=c+1\n",
    "t=-1\n",
    "for l in jlist:\n",
    "    t=t+1\n",
    "    if(c==0):\n",
    "        l=l\n",
    "    else:\n",
    "        l=l/c\n",
    "    jlist[t] = l\n",
    "cent3 = jlist\n",
    "'''"
   ]
  },
  {
   "cell_type": "code",
   "execution_count": 11,
   "metadata": {},
   "outputs": [],
   "source": [
    "#Cosine similarity within cluster - ascending order\n",
    "\n",
    "from numpy import dot\n",
    "from numpy.linalg import norm\n",
    "\n",
    "def takeThird(elem):\n",
    "    return elem[2]"
   ]
  },
  {
   "cell_type": "code",
   "execution_count": 12,
   "metadata": {},
   "outputs": [],
   "source": [
    "#Cluster0\n",
    "cos0 = []\n",
    "i=0\n",
    "while(i<len(r0)-1):\n",
    "    j=len(r0)-1\n",
    "    while(j>i):\n",
    "        cos_sim = dot(r0[i], r0[j])/(norm(r0[i])*norm(r0[j]))\n",
    "        cos0.append([rid0[i],rid0[j],cos_sim])\n",
    "        j=j-1\n",
    "    i=i+1\n",
    "cos0.sort(key=takeThird)"
   ]
  },
  {
   "cell_type": "code",
   "execution_count": 13,
   "metadata": {},
   "outputs": [],
   "source": [
    "#Sorting regulations with cosine score\n",
    "ind0 = []\n",
    "cs_ind0 = []\n",
    "counter0 = []\n",
    "for i in cos0:\n",
    "    if(i[0] not in ind0):\n",
    "        ind0.append(i[0])\n",
    "        counter0.append(1)\n",
    "        cs_ind0.append(i[2])\n",
    "    else:\n",
    "        t=0\n",
    "        while(t<len(ind0)):\n",
    "            if(ind0[t] == i[0]):\n",
    "                cs_ind0[t] = cs_ind0[t]+i[2]\n",
    "                counter0[t] = counter0[t]+1\n",
    "                break\n",
    "            t=t+1\n",
    "    if(i[1] not in ind0):\n",
    "        ind0.append(i[1])\n",
    "        counter0.append(1)\n",
    "        cs_ind0.append(i[2])\n",
    "    else:\n",
    "        t=0\n",
    "        while(t<len(ind0)):\n",
    "            if(ind0[t] == i[1]):\n",
    "                cs_ind0[t] = cs_ind0[t]+i[2]\n",
    "                counter0[t] = counter0[t]+1\n",
    "                break\n",
    "            t=t+1\n",
    "p=0\n",
    "while(p<len(cs_ind0)):\n",
    "    cs_ind0[p] = cs_ind0[p]/counter0[p]\n",
    "    p=p+1\n",
    "    \n",
    "zipped_lists = zip(cs_ind0, ind0)\n",
    "sorted_pairs = sorted(zipped_lists)\n",
    "tuples = zip(*sorted_pairs)\n",
    "cs_ind0, ind0 = [ list(tuple) for tuple in tuples]"
   ]
  },
  {
   "cell_type": "code",
   "execution_count": 14,
   "metadata": {},
   "outputs": [],
   "source": [
    "#Cluster1\n",
    "cos1 = []\n",
    "i=0\n",
    "while(i<len(r1)-1):\n",
    "    j=len(r1)-1\n",
    "    while(j>i):\n",
    "        cos_sim = dot(r1[i], r1[j])/(norm(r1[i])*norm(r1[j]))\n",
    "        cos1.append([rid1[i],rid1[j],cos_sim])\n",
    "        j=j-1\n",
    "    i=i+1\n",
    "cos1.sort(key=takeThird)"
   ]
  },
  {
   "cell_type": "code",
   "execution_count": 15,
   "metadata": {},
   "outputs": [],
   "source": [
    "ind1 = []\n",
    "cs_ind1 = []\n",
    "counter1 = []\n",
    "for i in cos1:\n",
    "    if(i[0] not in ind1):\n",
    "        ind1.append(i[0])\n",
    "        counter1.append(1)\n",
    "        cs_ind1.append(i[2])\n",
    "    else:\n",
    "        t=0\n",
    "        while(t<len(ind1)):\n",
    "            if(ind1[t] == i[0]):\n",
    "                cs_ind1[t] = cs_ind1[t]+i[2]\n",
    "                counter1[t] = counter1[t]+1\n",
    "                break\n",
    "            t=t+1\n",
    "    if(i[1] not in ind1):\n",
    "        ind1.append(i[1])\n",
    "        counter1.append(1)\n",
    "        cs_ind1.append(i[2])\n",
    "    else:\n",
    "        t=0\n",
    "        while(t<len(ind1)):\n",
    "            if(ind1[t] == i[1]):\n",
    "                cs_ind1[t] = cs_ind1[t]+i[2]\n",
    "                counter1[t] = counter1[t]+1\n",
    "                break\n",
    "            t=t+1\n",
    "p=0\n",
    "while(p<len(cs_ind1)):\n",
    "    cs_ind1[p] = cs_ind1[p]/counter1[p]\n",
    "    p=p+1\n",
    "\n",
    "zipped_lists = zip(cs_ind1, ind1)\n",
    "sorted_pairs = sorted(zipped_lists)\n",
    "tuples = zip(*sorted_pairs)\n",
    "cs_ind1, ind1 = [ list(tuple) for tuple in tuples]"
   ]
  },
  {
   "cell_type": "code",
   "execution_count": 16,
   "metadata": {},
   "outputs": [],
   "source": [
    "#Cluster2\n",
    "cos2 = []\n",
    "i=0\n",
    "while(i<len(r2)-1):\n",
    "    j=len(r2)-1\n",
    "    while(j>i):\n",
    "        cos_sim = dot(r2[i], r2[j])/(norm(r2[i])*norm(r2[j]))\n",
    "        cos2.append([rid2[i],rid2[j],cos_sim])\n",
    "        j=j-1\n",
    "    i=i+1\n",
    "cos2.sort(key=takeThird)"
   ]
  },
  {
   "cell_type": "code",
   "execution_count": 17,
   "metadata": {},
   "outputs": [],
   "source": [
    "#Sorting regulations with cosine score\n",
    "ind2 = []\n",
    "cs_ind2 = []\n",
    "counter2 = []\n",
    "for i in cos2:\n",
    "    if(i[0] not in ind2):\n",
    "        ind2.append(i[0])\n",
    "        counter2.append(1)\n",
    "        cs_ind2.append(i[2])\n",
    "    else:\n",
    "        t=0\n",
    "        while(t<len(ind2)):\n",
    "            if(ind2[t] == i[0]):\n",
    "                cs_ind2[t] = cs_ind2[t]+i[2]\n",
    "                counter2[t] = counter2[t]+1\n",
    "                break\n",
    "            t=t+1\n",
    "    if(i[1] not in ind2):\n",
    "        ind2.append(i[1])\n",
    "        counter2.append(1)\n",
    "        cs_ind2.append(i[2])\n",
    "    else:\n",
    "        t=0\n",
    "        while(t<len(ind2)):\n",
    "            if(ind2[t] == i[1]):\n",
    "                cs_ind2[t] = cs_ind2[t]+i[2]\n",
    "                counter2[t] = counter2[t]+1\n",
    "                break\n",
    "            t=t+1\n",
    "p=0\n",
    "while(p<len(cs_ind2)):\n",
    "    cs_ind2[p] = cs_ind2[p]/counter2[p]\n",
    "    p=p+1\n",
    "    \n",
    "zipped_lists = zip(cs_ind2, ind2)\n",
    "sorted_pairs = sorted(zipped_lists)\n",
    "tuples = zip(*sorted_pairs)\n",
    "cs_ind2, ind2 = [ list(tuple) for tuple in tuples]"
   ]
  },
  {
   "cell_type": "code",
   "execution_count": 18,
   "metadata": {},
   "outputs": [
    {
     "name": "stdout",
     "output_type": "stream",
     "text": [
      "816\n",
      "422\n",
      "1105\n"
     ]
    }
   ],
   "source": [
    "print(len(ind0))\n",
    "print(len(ind1))\n",
    "print(len(ind2))\n",
    "#print(len(ind3))"
   ]
  },
  {
   "cell_type": "code",
   "execution_count": 19,
   "metadata": {},
   "outputs": [],
   "source": [
    "c0 = len(ind0)\n",
    "c1 = len(ind1)\n",
    "c2 = len(ind2)"
   ]
  },
  {
   "cell_type": "code",
   "execution_count": 20,
   "metadata": {},
   "outputs": [],
   "source": [
    "#Resizing clusters\n",
    "\n",
    "#Cluster0 - size:781\n",
    "from scipy.spatial import distance\n",
    "if(c0>781):\n",
    "    i = c0-781\n",
    "    p=0\n",
    "    while(p<i):\n",
    "        e1= distance.euclidean(cs_ind0[p], cent1)\n",
    "        e2= distance.euclidean(cs_ind0[p], cent2)\n",
    "        #e3= distance.euclidean(cs_ind0[p], cent3)\n",
    "        e = min(e1,e2)\n",
    "        if(e1 == e):\n",
    "            cs_ind1.append(cs_ind0[p])\n",
    "            ind1.append(ind0[p])\n",
    "        #elif(e2 == e):\n",
    "        #    cs_ind2.append(cs_ind0[p])\n",
    "        #    ind2.append(ind0[p])\n",
    "        #    y=0\n",
    "        #    for ic in rid0:\n",
    "        #        if(ic == ind0[p]):\n",
    "        #            label4[y] = 2\n",
    "        #            break\n",
    "        #        y=y+1\n",
    "        else:\n",
    "            cs_ind2.append(cs_ind0[p])\n",
    "            ind2.append(ind0[p])\n",
    "            \n",
    "        cs_ind0.remove(cs_ind0[p])\n",
    "        ind0.remove(ind0[p])\n",
    "        p=p+1"
   ]
  },
  {
   "cell_type": "code",
   "execution_count": 21,
   "metadata": {},
   "outputs": [
    {
     "name": "stdout",
     "output_type": "stream",
     "text": [
      "781\n",
      "422\n",
      "1140\n"
     ]
    }
   ],
   "source": [
    "print(len(ind0))\n",
    "print(len(ind1))\n",
    "print(len(ind2))\n",
    "#print(len(ind3))"
   ]
  },
  {
   "cell_type": "code",
   "execution_count": 22,
   "metadata": {},
   "outputs": [],
   "source": [
    "#Cluster1 and 2 - size:781\n",
    "c2 = len(ind2)\n",
    "c1 = len(ind1)\n",
    "if(c2>781):\n",
    "    i = c2-781\n",
    "    p=0\n",
    "    while(p<i):\n",
    "        cs_ind1.append(cs_ind2[p])\n",
    "        ind1.append(ind2[p])\n",
    "        \n",
    "        cs_ind2.remove(cs_ind2[p])\n",
    "        ind2.remove(ind2[p])\n",
    "        p=p+1\n",
    "else:\n",
    "    i = c1-781\n",
    "    p=0\n",
    "    while(p<i):\n",
    "        cs_ind2.append(cs_ind1[p])\n",
    "        ind2.append(ind1[p])\n",
    "        \n",
    "        cs_ind1.remove(cs_ind1[p])\n",
    "        ind1.remove(ind1[p])\n",
    "        p=p+1"
   ]
  },
  {
   "cell_type": "code",
   "execution_count": 24,
   "metadata": {},
   "outputs": [
    {
     "name": "stdout",
     "output_type": "stream",
     "text": [
      "781\n",
      "781\n",
      "781\n"
     ]
    }
   ],
   "source": [
    "## Cluster sizes - final\n",
    "print(len(ind0))\n",
    "print(len(ind1))\n",
    "print(len(ind2))\n",
    "#print(len(ind3))"
   ]
  },
  {
   "cell_type": "code",
   "execution_count": 23,
   "metadata": {},
   "outputs": [],
   "source": [
    "for i in ind0:\n",
    "    label3[i] = 0\n",
    "for i in ind1:\n",
    "    label3[i] = 1\n",
    "for i in ind2:\n",
    "    label3[i] = 2\n",
    "\n",
    "#for i in ind3:\n",
    "#    label4[i] = 3"
   ]
  },
  {
   "cell_type": "code",
   "execution_count": 25,
   "metadata": {},
   "outputs": [
    {
     "name": "stdout",
     "output_type": "stream",
     "text": [
      "781\n",
      "781\n",
      "781\n"
     ]
    }
   ],
   "source": [
    "kl0=0\n",
    "kl1=0\n",
    "kl2=0\n",
    "#kl3=0\n",
    "\n",
    "for mass in label3:\n",
    "    if(mass==0):\n",
    "        kl0=kl0+1\n",
    "    elif(mass==1):\n",
    "        kl1=kl1+1\n",
    "    #elif(mass==2):\n",
    "    #    kl2=kl2+1\n",
    "    else:\n",
    "        kl2=kl2+1\n",
    "print(kl0)\n",
    "print(kl1)\n",
    "print(kl2)\n",
    "#print(kl3)"
   ]
  },
  {
   "cell_type": "markdown",
   "metadata": {},
   "source": [
    "## Clusters Validation"
   ]
  },
  {
   "cell_type": "markdown",
   "metadata": {},
   "source": [
    "#### silhouette_score"
   ]
  },
  {
   "cell_type": "code",
   "execution_count": 26,
   "metadata": {},
   "outputs": [],
   "source": [
    "from sklearn.metrics import silhouette_score"
   ]
  },
  {
   "cell_type": "code",
   "execution_count": 27,
   "metadata": {},
   "outputs": [
    {
     "data": {
      "text/plain": [
       "0.14597472583901316"
      ]
     },
     "execution_count": 27,
     "metadata": {},
     "output_type": "execute_result"
    }
   ],
   "source": [
    "silhouette_avg = silhouette_score(X0, label3)\n",
    "silhouette_avg"
   ]
  },
  {
   "cell_type": "code",
   "execution_count": 26,
   "metadata": {},
   "outputs": [],
   "source": [
    "#Cluster-wise separation of regulations\n",
    "t=-1\n",
    "rid0 = []\n",
    "rid1 = []\n",
    "rid2 = []\n",
    "\n",
    "for i in label3:\n",
    "    t=t+1\n",
    "    if(i==0):\n",
    "        rid0.append(t)\n",
    "    elif(i==1):\n",
    "        rid1.append(t)\n",
    "    else:\n",
    "        rid2.append(t)"
   ]
  },
  {
   "cell_type": "code",
   "execution_count": 27,
   "metadata": {},
   "outputs": [],
   "source": [
    "import pandas as pd\n",
    "ins = pd.read_csv('../data/final_rules.csv')\n",
    "corpus = ins['text'].tolist()"
   ]
  },
  {
   "cell_type": "code",
   "execution_count": 28,
   "metadata": {},
   "outputs": [],
   "source": [
    "r0 = []\n",
    "r1 = []\n",
    "r2 = []\n",
    "\n",
    "for i in rid0:\n",
    "    r0.append(corpus[i])\n",
    "for i in rid1:\n",
    "    r1.append(corpus[i])\n",
    "for i in rid2:\n",
    "    r2.append(corpus[i])"
   ]
  },
  {
   "cell_type": "code",
   "execution_count": 30,
   "metadata": {},
   "outputs": [],
   "source": [
    "df0 = pd.DataFrame(r0)\n",
    "df0.to_csv('reg0-uni.csv', index=False)\n",
    "df1 = pd.DataFrame(r1)\n",
    "df1.to_csv('reg1-uni.csv', index=False)\n",
    "df2 = pd.DataFrame(r2)\n",
    "df2.to_csv('reg2-uni.csv', index=False)"
   ]
  },
  {
   "cell_type": "markdown",
   "metadata": {},
   "source": [
    "## Topic Analysis - Clusterwise"
   ]
  },
  {
   "cell_type": "code",
   "execution_count": 31,
   "metadata": {},
   "outputs": [
    {
     "name": "stderr",
     "output_type": "stream",
     "text": [
      "/home/deepti-saravanan/anaconda3/lib/python3.7/site-packages/sklearn/utils/deprecation.py:143: FutureWarning: The sklearn.feature_extraction.stop_words module is  deprecated in version 0.22 and will be removed in version 0.24. The corresponding classes / functions should instead be imported from sklearn.feature_extraction.text. Anything that cannot be imported from sklearn.feature_extraction.text is now part of the private API.\n",
      "  warnings.warn(message, FutureWarning)\n"
     ]
    }
   ],
   "source": [
    "from sklearn.pipeline import Pipeline\n",
    "from sklearn.decomposition import LatentDirichletAllocation\n",
    "from sklearn.feature_extraction.text import CountVectorizer\n",
    "from utils import LemmaTokenizer, combined_plots"
   ]
  },
  {
   "cell_type": "code",
   "execution_count": 32,
   "metadata": {},
   "outputs": [],
   "source": [
    "%store -r lol"
   ]
  },
  {
   "cell_type": "code",
   "execution_count": 33,
   "metadata": {},
   "outputs": [],
   "source": [
    "counter = CountVectorizer(tokenizer=LemmaTokenizer())\n",
    "subj = pd.DataFrame(\n",
    "    counter.fit_transform(lol.astype(str)).toarray(),\n",
    "    columns=counter.get_feature_names()\n",
    ")"
   ]
  },
  {
   "cell_type": "code",
   "execution_count": 34,
   "metadata": {},
   "outputs": [],
   "source": [
    "subj['label'] = label3"
   ]
  },
  {
   "cell_type": "code",
   "execution_count": 35,
   "metadata": {},
   "outputs": [],
   "source": [
    "groups = pd.melt(\n",
    "    subj.groupby('label').sum().reset_index(),\n",
    "    id_vars='label', var_name='word', value_name='count'\n",
    ").groupby('label').apply(lambda group: group.sort_values(by='count', ascending=False)).reset_index(drop=True)"
   ]
  },
  {
   "cell_type": "code",
   "execution_count": 36,
   "metadata": {},
   "outputs": [],
   "source": [
    "groups.to_csv('hierarchical3_equal.csv',index=False)"
   ]
  },
  {
   "cell_type": "code",
   "execution_count": 37,
   "metadata": {},
   "outputs": [],
   "source": [
    "pipeline = Pipeline([\n",
    "    ('counts', CountVectorizer(max_features=100, tokenizer=LemmaTokenizer())),\n",
    "    ('lda', LatentDirichletAllocation(n_components=3, learning_decay=0.5, max_iter=10, random_state=1))\n",
    "])"
   ]
  },
  {
   "cell_type": "code",
   "execution_count": 38,
   "metadata": {},
   "outputs": [
    {
     "data": {
      "text/plain": [
       "Pipeline(steps=[('counts',\n",
       "                 CountVectorizer(max_features=100,\n",
       "                                 tokenizer=<utils.LemmaTokenizer object at 0x7ff658bd4c88>)),\n",
       "                ('lda',\n",
       "                 LatentDirichletAllocation(learning_decay=0.5, n_components=3,\n",
       "                                           random_state=1))])"
      ]
     },
     "execution_count": 38,
     "metadata": {},
     "output_type": "execute_result"
    }
   ],
   "source": [
    "pipeline.fit(lol)"
   ]
  },
  {
   "cell_type": "code",
   "execution_count": 39,
   "metadata": {},
   "outputs": [],
   "source": [
    "vectorizer = pipeline.named_steps['counts']\n",
    "dtm = vectorizer.fit_transform(lol)"
   ]
  },
  {
   "cell_type": "code",
   "execution_count": 40,
   "metadata": {},
   "outputs": [],
   "source": [
    "import pyLDAvis\n",
    "import pyLDAvis.sklearn\n",
    "pyLDAvis.enable_notebook()"
   ]
  },
  {
   "cell_type": "code",
   "execution_count": 41,
   "metadata": {},
   "outputs": [],
   "source": [
    "p = pyLDAvis.sklearn.prepare(pipeline.named_steps['lda'], dtm, vectorizer)"
   ]
  },
  {
   "cell_type": "code",
   "execution_count": 42,
   "metadata": {},
   "outputs": [
    {
     "data": {
      "text/html": [
       "\n",
       "<link rel=\"stylesheet\" type=\"text/css\" href=\"https://cdn.rawgit.com/bmabey/pyLDAvis/files/ldavis.v1.0.0.css\">\n",
       "\n",
       "\n",
       "<div id=\"ldavis_el253501406960256311446865298858\"></div>\n",
       "<script type=\"text/javascript\">\n",
       "\n",
       "var ldavis_el253501406960256311446865298858_data = {\"mdsDat\": {\"x\": [-0.1623392447126845, -0.17166709220834325, 0.33400633692102766], \"y\": [0.26814428053034634, -0.263197987504971, -0.00494629302537536], \"topics\": [1, 2, 3], \"cluster\": [1, 1, 1], \"Freq\": [38.25290120527005, 31.523907325195694, 30.22319146953426]}, \"tinfo\": {\"Term\": [\"board\", \"entity\", \"list\", \"investment\", \"issuer\", \"manager\", \"security\", \"depository\", \"company\", \"offer\", \"stock\", \"applicant\", \"fund\", \"application\", \"exchange\", \"research\", \"specify\", \"sub\", \"share\", \"participant\", \"issue\", \"public\", \"director\", \"recognise\", \"acquirer\", \"investor\", \"unit\", \"certificate\", \"designate\", \"committee\", \"investment\", \"manager\", \"offer\", \"fund\", \"stock\", \"acquirer\", \"recognise\", \"exchange\", \"alternative\", \"corporation\", \"target\", \"acquisition\", \"invit\", \"open\", \"adviser\", \"clear\", \"clearing\", \"scheme\", \"right\", \"price\", \"announcement\", \"client\", \"voting\", \"recognize\", \"public\", \"company\", \"equity\", \"share\", \"shareholder\", \"date\", \"document\", \"portfolio\", \"person\", \"act\", \"entity\", \"list\", \"issuer\", \"research\", \"analyst\", \"unit\", \"reit\", \"debt\", \"holder\", \"committee\", \"foreign\", \"trust\", \"authorised\", \"party\", \"listed\", \"valuer\", \"investor\", \"security\", \"transaction\", \"convertible\", \"issue\", \"time\", \"report\", \"disclosure\", \"non\", \"officer\", \"requirement\", \"member\", \"sebi\", \"financial\", \"person\", \"portfolio\", \"depository\", \"board\", \"applicant\", \"application\", \"participant\", \"certificate\", \"registration\", \"inspect\", \"designate\", \"inspection\", \"notice\", \"proceeding\", \"specify\", \"authority\", \"settlement\", \"grant\", \"respect\", \"fee\", \"sub\", \"provision\", \"director\", \"decision\", \"information\", \"case\", \"term\", \"trustee\", \"record\", \"shall\", \"include\", \"requirement\", \"officer\"], \"Freq\": [889.0, 424.0, 358.0, 287.0, 235.0, 257.0, 215.0, 169.0, 261.0, 195.0, 192.0, 146.0, 179.0, 133.0, 169.0, 121.0, 122.0, 200.0, 199.0, 99.0, 142.0, 147.0, 213.0, 115.0, 114.0, 99.0, 87.0, 74.0, 74.0, 75.0, 286.614966482644, 256.8052204913125, 195.15222276133153, 179.24914196360245, 192.07093823242454, 113.6616328588133, 114.6446803252386, 167.98120451243327, 87.81173211002202, 87.79738538111387, 79.85677571553109, 65.9364167558031, 67.85956484710105, 59.97368225445668, 51.015961277721615, 50.03069307317613, 50.01025105083878, 47.03227607219611, 63.656838862652016, 43.01525396066001, 38.09910203170524, 37.08706770931494, 39.94025614033661, 35.90587289467953, 141.72595834794862, 249.71083773110794, 34.27513353666286, 175.95242771562855, 48.69808470432899, 42.1772628407811, 87.77698070223084, 90.34793169500105, 101.68208221356353, 53.95840787668307, 423.41122733496303, 358.2344644693562, 234.8884075882757, 120.63742119998312, 69.50594700799525, 86.35952951322614, 69.4723959448283, 66.48834720113376, 66.47268418110208, 74.36769389097803, 60.42186597882927, 58.398333121346276, 44.417256155103495, 44.40335149730055, 38.423212095375504, 47.15319058735834, 95.72613009611688, 204.11205167932894, 37.59246147328125, 37.11799110327705, 128.30550324205265, 36.70875680895781, 48.822500044519934, 73.82132560525476, 44.52401883635245, 70.65541960753295, 41.97307906428715, 26.26611039032166, 46.322645350345944, 31.21515825642042, 88.51225210193759, 55.59112935478491, 168.6757108196975, 885.8014398198833, 146.30387666501142, 132.64738073166833, 98.61550559339557, 74.21980360168573, 58.69304030902476, 48.983986452676156, 73.87569934855983, 37.28137062778546, 37.27061017347849, 34.35606482364508, 119.66247763903839, 62.51339694029135, 46.504526516575176, 77.89546048211092, 41.00931226827899, 38.991305570853434, 157.21181551429032, 69.39884741916903, 163.30506932797405, 26.549172828671264, 57.25018372147047, 98.83961504623835, 24.487113978283208, 52.5097923373405, 28.24872076506178, 26.022694669649596, 15.882356340128757, 21.194731702038993, 35.21977845307257], \"Total\": [889.0, 424.0, 358.0, 287.0, 235.0, 257.0, 215.0, 169.0, 261.0, 195.0, 192.0, 146.0, 179.0, 133.0, 169.0, 121.0, 122.0, 200.0, 199.0, 99.0, 142.0, 147.0, 213.0, 115.0, 114.0, 99.0, 87.0, 74.0, 74.0, 75.0, 287.3145689380935, 257.48895499047694, 195.84979272395674, 179.94286268718005, 192.86766308850036, 114.32670313287865, 115.32093902269138, 169.00924972128917, 88.4779432838142, 88.47771532493908, 80.52444705271517, 66.6060894026677, 68.59422152704887, 60.640810885029964, 51.69300972317928, 50.69898048317926, 50.69858015543492, 47.71653577230716, 64.61237793419939, 43.74011802074935, 38.768789856750544, 37.77422211064, 40.75505672079969, 36.78055993287439, 147.1575763227542, 261.55809328656045, 36.79605105089186, 199.02013349460478, 56.53178364636883, 49.759589244145324, 105.30113210254751, 146.59716640788608, 211.06106016601854, 85.1733126564447, 424.0850423223218, 358.9162156562066, 235.59632266464425, 121.3013291290918, 70.16895224923721, 87.21123727544722, 70.16841055258878, 67.16104274607338, 67.1608269725933, 75.17786010197723, 61.14422132634389, 59.13947724217675, 45.1033652761057, 45.10342640902295, 39.08849865870987, 48.1093191657313, 99.16618406013842, 215.38628178116616, 40.075558632356795, 40.07169704836069, 142.19481277608074, 40.98505594937798, 56.07604988974527, 90.01481025188015, 61.77382132418811, 106.21366301807768, 63.52448459323405, 42.96207406871295, 81.90403382141444, 55.86757457518486, 211.06106016601854, 146.59716640788608, 169.36631170280407, 889.6564301300658, 146.9807389091707, 133.35587178288338, 99.29051237585514, 74.96052151586832, 59.38689560640916, 49.65359988360621, 74.96978856614068, 37.9749735145945, 37.97526958947072, 35.05537622639541, 122.70020273758597, 64.28479352293907, 49.70689745107888, 86.81132727753047, 46.88052392496049, 45.89184778750502, 200.47435046378524, 89.99568098142822, 213.51161134180427, 35.22296144886186, 76.46484939599843, 132.14511779152562, 35.344473965157675, 87.36789254909344, 47.191189777090955, 46.25727053107279, 39.59498258675574, 63.52448459323405, 106.21366301807768], \"Category\": [\"Default\", \"Default\", \"Default\", \"Default\", \"Default\", \"Default\", \"Default\", \"Default\", \"Default\", \"Default\", \"Default\", \"Default\", \"Default\", \"Default\", \"Default\", \"Default\", \"Default\", \"Default\", \"Default\", \"Default\", \"Default\", \"Default\", \"Default\", \"Default\", \"Default\", \"Default\", \"Default\", \"Default\", \"Default\", \"Default\", \"Topic1\", \"Topic1\", \"Topic1\", \"Topic1\", \"Topic1\", \"Topic1\", \"Topic1\", \"Topic1\", \"Topic1\", \"Topic1\", \"Topic1\", \"Topic1\", \"Topic1\", \"Topic1\", \"Topic1\", \"Topic1\", \"Topic1\", \"Topic1\", \"Topic1\", \"Topic1\", \"Topic1\", \"Topic1\", \"Topic1\", \"Topic1\", \"Topic1\", \"Topic1\", \"Topic1\", \"Topic1\", \"Topic1\", \"Topic1\", \"Topic1\", \"Topic1\", \"Topic1\", \"Topic1\", \"Topic2\", \"Topic2\", \"Topic2\", \"Topic2\", \"Topic2\", \"Topic2\", \"Topic2\", \"Topic2\", \"Topic2\", \"Topic2\", \"Topic2\", \"Topic2\", \"Topic2\", \"Topic2\", \"Topic2\", \"Topic2\", \"Topic2\", \"Topic2\", \"Topic2\", \"Topic2\", \"Topic2\", \"Topic2\", \"Topic2\", \"Topic2\", \"Topic2\", \"Topic2\", \"Topic2\", \"Topic2\", \"Topic2\", \"Topic2\", \"Topic2\", \"Topic2\", \"Topic3\", \"Topic3\", \"Topic3\", \"Topic3\", \"Topic3\", \"Topic3\", \"Topic3\", \"Topic3\", \"Topic3\", \"Topic3\", \"Topic3\", \"Topic3\", \"Topic3\", \"Topic3\", \"Topic3\", \"Topic3\", \"Topic3\", \"Topic3\", \"Topic3\", \"Topic3\", \"Topic3\", \"Topic3\", \"Topic3\", \"Topic3\", \"Topic3\", \"Topic3\", \"Topic3\", \"Topic3\", \"Topic3\", \"Topic3\", \"Topic3\"], \"logprob\": [30.0, 29.0, 28.0, 27.0, 26.0, 25.0, 24.0, 23.0, 22.0, 21.0, 20.0, 19.0, 18.0, 17.0, 16.0, 15.0, 14.0, 13.0, 12.0, 11.0, 10.0, 9.0, 8.0, 7.0, 6.0, 5.0, 4.0, 3.0, 2.0, 1.0, -2.6194, -2.7292, -3.0037, -3.0887, -3.0196, -3.5443, -3.5357, -3.1536, -3.8023, -3.8025, -3.8973, -4.0888, -4.0601, -4.1836, -4.3454, -4.3649, -4.3653, -4.4267, -4.124, -4.5159, -4.6373, -4.6642, -4.5901, -4.6966, -3.3236, -2.7572, -4.7431, -3.1073, -4.3919, -4.5356, -3.8027, -3.7738, -3.6556, -4.2893, -2.0357, -2.2028, -2.6249, -3.2912, -3.8426, -3.6255, -3.8431, -3.887, -3.8872, -3.775, -3.9827, -4.0167, -4.2904, -4.2907, -4.4354, -4.2306, -3.5225, -2.7653, -4.4572, -4.4699, -3.2296, -4.481, -4.1958, -3.7824, -4.288, -3.8262, -4.347, -4.8157, -4.2484, -4.6431, -3.6009, -4.066, -2.9139, -1.2554, -3.0562, -3.1542, -3.4507, -3.7349, -3.9696, -4.1504, -3.7395, -4.4234, -4.4237, -4.5051, -3.2572, -3.9065, -4.2023, -3.6865, -4.3281, -4.3785, -2.9843, -3.802, -2.9463, -4.7629, -3.9945, -3.4484, -4.8437, -4.0809, -4.7008, -4.7829, -5.2767, -4.9881, -4.4803], \"loglift\": [30.0, 29.0, 28.0, 27.0, 26.0, 25.0, 24.0, 23.0, 22.0, 21.0, 20.0, 19.0, 18.0, 17.0, 16.0, 15.0, 14.0, 13.0, 12.0, 11.0, 10.0, 9.0, 8.0, 7.0, 6.0, 5.0, 4.0, 3.0, 2.0, 1.0, 0.9585, 0.9583, 0.9574, 0.9571, 0.9568, 0.9551, 0.9551, 0.9548, 0.9534, 0.9532, 0.9526, 0.9508, 0.9502, 0.9499, 0.9478, 0.9477, 0.9473, 0.9465, 0.9461, 0.9442, 0.9435, 0.9426, 0.9408, 0.9369, 0.9233, 0.9146, 0.89, 0.8378, 0.8118, 0.7956, 0.7789, 0.4769, 0.2307, 0.5045, 1.1528, 1.1525, 1.1514, 1.1489, 1.1449, 1.1446, 1.1445, 1.1444, 1.1441, 1.1436, 1.1425, 1.1418, 1.1391, 1.1388, 1.1373, 1.1343, 1.1191, 1.1007, 1.0905, 1.0779, 1.0516, 1.0442, 1.0159, 0.9561, 0.827, 0.7468, 0.74, 0.6624, 0.5845, 0.5723, 0.2854, 0.1848, 1.1925, 1.1922, 1.1919, 1.1912, 1.1897, 1.1866, 1.1848, 1.183, 1.1819, 1.1781, 1.1778, 1.1764, 1.1715, 1.1686, 1.13, 1.0882, 1.0628, 1.0336, 0.9535, 0.9367, 0.9285, 0.9139, 0.9072, 0.9062, 0.8296, 0.6874, 0.6834, 0.6213, 0.2831, 0.0989, 0.0927]}, \"token.table\": {\"Topic\": [1, 1, 1, 2, 3, 1, 1, 2, 1, 3, 3, 2, 2, 3, 1, 2, 3, 1, 2, 3, 3, 1, 1, 1, 2, 1, 2, 1, 2, 1, 1, 2, 2, 1, 3, 3, 2, 3, 1, 2, 3, 1, 2, 3, 1, 2, 3, 2, 1, 2, 1, 2, 1, 3, 1, 2, 3, 2, 1, 1, 3, 2, 1, 2, 3, 1, 2, 3, 3, 3, 1, 1, 2, 3, 1, 1, 2, 3, 2, 2, 2, 1, 1, 2, 1, 2, 3, 3, 1, 2, 3, 1, 3, 2, 1, 2, 3, 1, 2, 3, 1, 3, 1, 2, 3, 1, 2, 3, 1, 1, 1, 2, 3, 3, 2, 1, 2, 2, 3, 2, 1, 2, 3, 1, 3, 1, 1, 2, 1, 2, 3, 1, 3, 1, 2, 3, 1, 2, 1, 2, 3, 1, 2, 3, 1, 1, 2, 3, 1, 1, 2, 3, 2, 3, 1, 2, 2, 1, 2, 3, 1, 2, 1, 2, 1], \"Freq\": [0.9971423724823156, 0.9909003905182965, 0.6340014062598991, 0.14088920139108868, 0.23481533565181448, 0.9865937439725331, 0.9945981646263964, 0.997592207895066, 0.9801698773783964, 0.9933274324482968, 0.9973314127220226, 0.9755369633872923, 0.015555778360603506, 0.9800140367180209, 0.0033720882560938797, 0.00112402941869796, 0.9958900649663924, 0.2043208288829532, 0.04540462864065627, 0.7491763725708284, 0.9871863015832275, 0.9862131254609515, 0.9862209128284625, 0.9795039562066344, 0.9843323539619312, 0.9558106073441301, 0.042055666723141726, 0.07486580856257317, 0.9233449722717358, 0.9946007271640701, 0.8440584144279625, 0.14067640240466042, 0.9827125562885746, 0.22712457076088644, 0.7665454263179917, 0.9978371631340307, 0.01333870641929007, 0.9870642750274652, 0.07493737647076291, 0.1592419250003712, 0.7634245227958972, 0.13331139582943635, 0.8220869409481908, 0.04443713194314545, 0.8356985176028421, 0.0949657406366866, 0.07597259250934928, 0.9974414510910831, 0.9240121977484839, 0.05435365869108729, 0.9940284349942178, 0.005916835922584629, 0.15253253763963479, 0.8498241382779652, 0.37588887936666815, 0.5548835838269863, 0.053698411338095456, 0.9812865173270119, 0.9947602106963299, 0.10367310675054597, 0.8985002585047318, 0.9827157135354065, 0.10102290084951251, 0.5051145042475627, 0.40409160339805006, 0.013077904526054453, 0.23540228146898018, 0.7454405579851039, 0.9868368077009859, 0.9743258934935188, 0.9989051410123193, 0.010084082688848441, 0.9680719381294502, 0.03025224806654532, 0.9913371489052536, 0.07735865876712461, 0.9001734838356318, 0.02109781602739762, 0.9974688795737569, 0.9974472714905581, 0.9721529683650993, 0.9981010642165408, 0.37242149842230193, 0.6051849349362407, 0.09712852259069563, 0.7284639194302172, 0.17806895808294199, 0.9743182971440674, 0.9956609975832117, 0.6684639055138859, 0.32952446046459166, 0.9894326794830484, 0.9970741174669797, 0.975535641150265, 0.48327247062896306, 0.4216789204507619, 0.09949727336478652, 0.6139272825341494, 0.38199919802124854, 0.006821414250379438, 0.9830791947018009, 0.9698940265373404, 0.20000959827966114, 0.03333493304661019, 0.7667034600720344, 0.9649520163919911, 0.03397718367577433, 0.006795436735154867, 0.9972169926345447, 0.9787779214264564, 0.21190396019331806, 0.19071356417398624, 0.5933310885412906, 0.9934851686982707, 0.9833484819823145, 0.12483047600112972, 0.873813332007908, 0.661162389099862, 0.330581194549931, 0.9975158629237185, 0.02133081962993106, 0.1066540981496553, 0.8745636048271734, 0.9905222814299912, 0.015476910647343613, 0.984983491347186, 0.4273293800927419, 0.5616328995504608, 0.03714256977669567, 0.9471355293057396, 0.018571284888347837, 0.06035379703496029, 0.945542820214378, 0.21618223222406982, 0.23780045544647682, 0.5620738037825815, 0.8843326396661831, 0.11556619722910348, 0.866769042818754, 0.017689164139158244, 0.1238241489741077, 0.024449837352070073, 0.008149945784023357, 0.9779934940828029, 0.9955012516115663, 0.1895504333202193, 0.02494084648950254, 0.7831425797703797, 0.9934871076808284, 0.028292965994791513, 0.28292965994791514, 0.6790311838749963, 0.9027680734582855, 0.09759654848197681, 0.04990572978277115, 0.9482088658726519, 0.9807323754738213, 0.3777131282119088, 0.022891704740115683, 0.6066301756130656, 0.011466412256503238, 0.9861114540592785, 0.02078599359419555, 0.9769416989271908, 0.9814732997190422], \"Term\": [\"acquirer\", \"acquisition\", \"act\", \"act\", \"act\", \"adviser\", \"alternative\", \"analyst\", \"announcement\", \"applicant\", \"application\", \"authorised\", \"authority\", \"authority\", \"board\", \"board\", \"board\", \"case\", \"case\", \"case\", \"certificate\", \"clear\", \"clearing\", \"client\", \"committee\", \"company\", \"company\", \"convertible\", \"convertible\", \"corporation\", \"date\", \"date\", \"debt\", \"decision\", \"decision\", \"depository\", \"designate\", \"designate\", \"director\", \"director\", \"director\", \"disclosure\", \"disclosure\", \"disclosure\", \"document\", \"document\", \"document\", \"entity\", \"equity\", \"equity\", \"exchange\", \"exchange\", \"fee\", \"fee\", \"financial\", \"financial\", \"financial\", \"foreign\", \"fund\", \"grant\", \"grant\", \"holder\", \"include\", \"include\", \"include\", \"information\", \"information\", \"information\", \"inspect\", \"inspection\", \"investment\", \"investor\", \"investor\", \"investor\", \"invit\", \"issue\", \"issue\", \"issue\", \"issuer\", \"list\", \"listed\", \"manager\", \"member\", \"member\", \"non\", \"non\", \"non\", \"notice\", \"offer\", \"officer\", \"officer\", \"open\", \"participant\", \"party\", \"person\", \"person\", \"person\", \"portfolio\", \"portfolio\", \"portfolio\", \"price\", \"proceeding\", \"provision\", \"provision\", \"provision\", \"public\", \"public\", \"public\", \"recognise\", \"recognize\", \"record\", \"record\", \"record\", \"registration\", \"reit\", \"report\", \"report\", \"requirement\", \"requirement\", \"research\", \"respect\", \"respect\", \"respect\", \"right\", \"right\", \"scheme\", \"sebi\", \"sebi\", \"security\", \"security\", \"security\", \"settlement\", \"settlement\", \"shall\", \"shall\", \"shall\", \"share\", \"share\", \"shareholder\", \"shareholder\", \"shareholder\", \"specify\", \"specify\", \"specify\", \"stock\", \"sub\", \"sub\", \"sub\", \"target\", \"term\", \"term\", \"term\", \"time\", \"time\", \"transaction\", \"transaction\", \"trust\", \"trustee\", \"trustee\", \"trustee\", \"unit\", \"unit\", \"valuer\", \"valuer\", \"voting\"]}, \"R\": 30, \"lambda.step\": 0.01, \"plot.opts\": {\"xlab\": \"PC1\", \"ylab\": \"PC2\"}, \"topic.order\": [3, 2, 1]};\n",
       "\n",
       "function LDAvis_load_lib(url, callback){\n",
       "  var s = document.createElement('script');\n",
       "  s.src = url;\n",
       "  s.async = true;\n",
       "  s.onreadystatechange = s.onload = callback;\n",
       "  s.onerror = function(){console.warn(\"failed to load library \" + url);};\n",
       "  document.getElementsByTagName(\"head\")[0].appendChild(s);\n",
       "}\n",
       "\n",
       "if(typeof(LDAvis) !== \"undefined\"){\n",
       "   // already loaded: just create the visualization\n",
       "   !function(LDAvis){\n",
       "       new LDAvis(\"#\" + \"ldavis_el253501406960256311446865298858\", ldavis_el253501406960256311446865298858_data);\n",
       "   }(LDAvis);\n",
       "}else if(typeof define === \"function\" && define.amd){\n",
       "   // require.js is available: use it to load d3/LDAvis\n",
       "   require.config({paths: {d3: \"https://cdnjs.cloudflare.com/ajax/libs/d3/3.5.5/d3.min\"}});\n",
       "   require([\"d3\"], function(d3){\n",
       "      window.d3 = d3;\n",
       "      LDAvis_load_lib(\"https://cdn.rawgit.com/bmabey/pyLDAvis/files/ldavis.v1.0.0.js\", function(){\n",
       "        new LDAvis(\"#\" + \"ldavis_el253501406960256311446865298858\", ldavis_el253501406960256311446865298858_data);\n",
       "      });\n",
       "    });\n",
       "}else{\n",
       "    // require.js not available: dynamically load d3 & LDAvis\n",
       "    LDAvis_load_lib(\"https://cdnjs.cloudflare.com/ajax/libs/d3/3.5.5/d3.min.js\", function(){\n",
       "         LDAvis_load_lib(\"https://cdn.rawgit.com/bmabey/pyLDAvis/files/ldavis.v1.0.0.js\", function(){\n",
       "                 new LDAvis(\"#\" + \"ldavis_el253501406960256311446865298858\", ldavis_el253501406960256311446865298858_data);\n",
       "            })\n",
       "         });\n",
       "}\n",
       "</script>"
      ],
      "text/plain": [
       "<IPython.core.display.HTML object>"
      ]
     },
     "execution_count": 42,
     "metadata": {},
     "output_type": "execute_result"
    }
   ],
   "source": [
    "pyLDAvis.display(p)"
   ]
  },
  {
   "cell_type": "code",
   "execution_count": 43,
   "metadata": {},
   "outputs": [],
   "source": [
    "p_df = p.topic_info\n",
    "l=0\n",
    "tlist = []\n",
    "flist = []\n",
    "while(l<p_df.shape[0]):\n",
    "    if(p_df.iloc[l]['Category'] != 'Default'):\n",
    "        tlist.append(p_df.iloc[l]['Term'])\n",
    "        flist.append(p_df.iloc[l]['Total'])\n",
    "    l = l+1"
   ]
  },
  {
   "cell_type": "markdown",
   "metadata": {},
   "source": [
    "#### Tag words for accounting"
   ]
  },
  {
   "cell_type": "code",
   "execution_count": 44,
   "metadata": {},
   "outputs": [],
   "source": [
    "acc1 = pd.read_csv('/home/deepti-saravanan/Desktop/lexpredict-legal-dictionary-master/en/accounting/ifrs_iasb.csv', usecols=['Term'])\n",
    "acc2 = pd.read_csv('/home/deepti-saravanan/Desktop/lexpredict-legal-dictionary-master/en/accounting/uk_gaap.csv', usecols=['Term'])\n",
    "acc3 = pd.read_csv('/home/deepti-saravanan/Desktop/lexpredict-legal-dictionary-master/en/accounting/us_fasb.csv', usecols=['Term'])\n",
    "acc4 = pd.read_csv('/home/deepti-saravanan/Desktop/lexpredict-legal-dictionary-master/en/accounting/us_gaap.csv', usecols=['Term'])\n",
    "acc5 = pd.read_csv('/home/deepti-saravanan/Desktop/lexpredict-legal-dictionary-master/en/accounting/us_gasb.csv', usecols=['Term'])"
   ]
  },
  {
   "cell_type": "code",
   "execution_count": 45,
   "metadata": {},
   "outputs": [],
   "source": [
    "acc1 = acc1.append(acc2)\n",
    "acc1 = acc1.append(acc3)\n",
    "acc1 = acc1.append(acc4)\n",
    "acc1 = acc1.append(acc5)\n",
    "a11 = acc1.values.tolist()\n",
    "\n",
    "a1 = []\n",
    "for i in a11:\n",
    "    a1.append(i[0])\n",
    "    \n",
    "g1 = groups.values.tolist()\n",
    "g = []\n",
    "for j in g1:\n",
    "    g.append(j[1])"
   ]
  },
  {
   "cell_type": "code",
   "execution_count": 47,
   "metadata": {},
   "outputs": [],
   "source": [
    "account = []\n",
    "\n",
    "for n in a1:\n",
    "    k=0\n",
    "    while(k<len(g)):\n",
    "        if(g[k] == n):\n",
    "            if(n not in account):\n",
    "                account.append(n)\n",
    "        k = k+1"
   ]
  },
  {
   "cell_type": "code",
   "execution_count": 48,
   "metadata": {},
   "outputs": [
    {
     "data": {
      "text/plain": [
       "['accounting',\n",
       " 'acquirer',\n",
       " 'acquisition',\n",
       " 'agency',\n",
       " 'audit',\n",
       " 'bond',\n",
       " 'broker',\n",
       " 'capital',\n",
       " 'cash',\n",
       " 'chairman',\n",
       " 'charge',\n",
       " 'control',\n",
       " 'cost',\n",
       " 'coupon',\n",
       " 'credit',\n",
       " 'debenture',\n",
       " 'default',\n",
       " 'director',\n",
       " 'dividend',\n",
       " 'entity',\n",
       " 'equity',\n",
       " 'expense',\n",
       " 'format',\n",
       " 'group',\n",
       " 'inventory',\n",
       " 'management',\n",
       " 'margin',\n",
       " 'material',\n",
       " 'materiality',\n",
       " 'maturity',\n",
       " 'memorandum',\n",
       " 'merger',\n",
       " 'net',\n",
       " 'partnership',\n",
       " 'portfolio',\n",
       " 'principal',\n",
       " 'profit',\n",
       " 'prospectus',\n",
       " 'provision',\n",
       " 'recognition',\n",
       " 'return',\n",
       " 'revenue',\n",
       " 'risk',\n",
       " 'stock',\n",
       " 'substance',\n",
       " 'turnover',\n",
       " 'unlisted',\n",
       " 'agent',\n",
       " 'asset',\n",
       " 'associate',\n",
       " 'business',\n",
       " 'derivative',\n",
       " 'development',\n",
       " 'income',\n",
       " 'lease',\n",
       " 'liability',\n",
       " 'performance',\n",
       " 'probable',\n",
       " 'loss',\n",
       " 'research',\n",
       " 'restriction',\n",
       " 'state',\n",
       " 'subsidiary',\n",
       " 'vest',\n",
       " 'yield']"
      ]
     },
     "execution_count": 48,
     "metadata": {},
     "output_type": "execute_result"
    }
   ],
   "source": [
    "account"
   ]
  },
  {
   "cell_type": "code",
   "execution_count": 49,
   "metadata": {},
   "outputs": [
    {
     "name": "stdout",
     "output_type": "stream",
     "text": [
      "[0, 2, 0, 1, 2, 0, 1, 2, 0, 1, 2, 0, 1, 2, 0, 1, 2, 0, 2, 0, 1, 2, 0, 2, 0, 2, 0, 1, 2, 0, 1, 2, 0, 1, 2, 0, 0, 1, 2, 0, 1, 2, 0, 2, 0, 1, 2, 0, 1, 0, 1, 2, 0, 1, 2, 0, 1, 0, 2, 0, 1, 2, 2, 0, 1, 2, 1, 0, 1, 2, 0, 2, 0, 1, 2, 0, 0, 0, 1, 2, 0, 1, 2, 0, 2, 0, 1, 2, 0, 1, 2, 0, 1, 2, 0, 1, 2, 2, 0, 2, 0, 1, 2, 0, 1, 2, 0, 2, 0, 2, 0, 1, 2, 0, 1, 2, 0, 1, 2, 0, 1, 2, 0, 1, 0, 0, 0, 0, 1, 2, 0, 0, 0, 2, 0, 1, 2, 0, 1, 0, 1, 2, 0, 2, 1, 2, 0]\n",
      "['accounting', 'accounting', 'acquirer', 'acquirer', 'acquirer', 'acquisition', 'acquisition', 'acquisition', 'agency', 'agency', 'agency', 'audit', 'audit', 'audit', 'bond', 'bond', 'bond', 'broker', 'broker', 'capital', 'capital', 'capital', 'cash', 'cash', 'chairman', 'chairman', 'charge', 'charge', 'charge', 'control', 'control', 'control', 'cost', 'cost', 'cost', 'coupon', 'credit', 'credit', 'credit', 'debenture', 'debenture', 'debenture', 'default', 'default', 'director', 'director', 'director', 'dividend', 'dividend', 'entity', 'entity', 'entity', 'equity', 'equity', 'equity', 'expense', 'expense', 'format', 'format', 'group', 'group', 'group', 'inventory', 'management', 'management', 'management', 'margin', 'material', 'material', 'material', 'materiality', 'maturity', 'memorandum', 'memorandum', 'memorandum', 'merger', 'net', 'partnership', 'partnership', 'partnership', 'portfolio', 'portfolio', 'portfolio', 'principal', 'principal', 'profit', 'profit', 'profit', 'prospectus', 'prospectus', 'prospectus', 'provision', 'provision', 'provision', 'recognition', 'recognition', 'recognition', 'return', 'revenue', 'revenue', 'risk', 'risk', 'risk', 'stock', 'stock', 'stock', 'substance', 'turnover', 'unlisted', 'unlisted', 'agent', 'agent', 'agent', 'asset', 'asset', 'asset', 'associate', 'associate', 'associate', 'business', 'business', 'business', 'derivative', 'derivative', 'development', 'income', 'lease', 'liability', 'liability', 'liability', 'performance', 'probable', 'loss', 'loss', 'research', 'research', 'research', 'restriction', 'restriction', 'state', 'state', 'state', 'subsidiary', 'subsidiary', 'vest', 'vest', 'yield']\n",
      "[3, 2, 9, 37, 68, 6, 3, 57, 7, 3, 6, 19, 7, 5, 3, 4, 1, 5, 4, 8, 8, 3, 4, 1, 5, 1, 9, 7, 3, 6, 6, 17, 6, 2, 1, 1, 9, 2, 9, 10, 6, 6, 15, 2, 70, 92, 55, 7, 2, 184, 124, 114, 14, 17, 5, 3, 1, 4, 1, 8, 5, 7, 1, 12, 16, 2, 1, 10, 7, 12, 1, 1, 5, 2, 7, 2, 4, 4, 1, 3, 45, 35, 66, 1, 1, 5, 2, 3, 2, 2, 1, 34, 22, 35, 4, 8, 5, 1, 3, 1, 10, 3, 1, 34, 109, 50, 1, 1, 2, 1, 7, 6, 10, 25, 8, 8, 7, 9, 17, 12, 4, 5, 9, 2, 3, 3, 4, 11, 1, 2, 3, 1, 4, 2, 49, 31, 40, 3, 1, 5, 1, 8, 7, 8, 1, 1, 1]\n"
     ]
    }
   ],
   "source": [
    "regtext = pd.read_csv('../code/hierarchical3_equal.csv')\n",
    "reg = regtext.values.tolist()\n",
    "label = []\n",
    "word = []\n",
    "freq = []\n",
    "for i in account:\n",
    "    k=0\n",
    "    while(k<len(reg)):\n",
    "        r = reg[k]\n",
    "        if(i == r[1]):\n",
    "            if(r[2] != 0):\n",
    "                label.append(r[0])\n",
    "                word.append(i)\n",
    "                freq.append(r[2])\n",
    "        k=k+1\n",
    "print(label)\n",
    "print(word)\n",
    "print(freq)"
   ]
  },
  {
   "cell_type": "code",
   "execution_count": 50,
   "metadata": {},
   "outputs": [],
   "source": [
    "df = pd.DataFrame(list(zip(label, word, freq)), columns =['Cluster', 'word', 'freq'])\n",
    "df.to_csv('uni-acc.csv',index=False)"
   ]
  },
  {
   "cell_type": "markdown",
   "metadata": {},
   "source": [
    "#### Percentage accounting tag words clusterwise"
   ]
  },
  {
   "cell_type": "code",
   "execution_count": 46,
   "metadata": {},
   "outputs": [
    {
     "name": "stdout",
     "output_type": "stream",
     "text": [
      "6526\n",
      "5112\n",
      "5601\n"
     ]
    }
   ],
   "source": [
    "#Word counts clusterwise\n",
    "k=0\n",
    "c0 = 0\n",
    "c1 = 0\n",
    "c2 = 0\n",
    "#c3 = 0\n",
    "\n",
    "while(k<len(reg)):\n",
    "    r = reg[k]\n",
    "    if(r[0] == 0):\n",
    "        c0 = c0 + r[2]\n",
    "    elif(r[0] == 1):\n",
    "        c1 = c1 + r[2]\n",
    "    #elif(r[0] == 2):\n",
    "    #    c2 = c2 + r[2]\n",
    "    else:\n",
    "        c2 = c2 + r[2]\n",
    "    k=k+1\n",
    "print(c0)\n",
    "print(c1)\n",
    "print(c2)\n",
    "#print(c3)"
   ]
  },
  {
   "cell_type": "code",
   "execution_count": 72,
   "metadata": {},
   "outputs": [
    {
     "name": "stdout",
     "output_type": "stream",
     "text": [
      "34.454168585905116\n",
      "33.728144388042864\n",
      "30.182648401826484\n"
     ]
    }
   ],
   "source": [
    "#Percentage wrt frequency of other accounting terms within cluster\n",
    "sum0=0\n",
    "sum1=0\n",
    "sum2=0\n",
    "#sum3=0\n",
    "\n",
    "i=0\n",
    "while(i<len(label)):\n",
    "    if(label[i] == 0):\n",
    "        sum0 = sum0 + freq[i]\n",
    "    elif(label[i] == 1):\n",
    "        sum1 = sum1 + freq[i]\n",
    "    #elif(label[i] == 2):\n",
    "    #    sum2 = sum2 + freq[i]\n",
    "    else:\n",
    "        sum2 = sum2 + freq[i]\n",
    "    i=i+1\n",
    "s0=0\n",
    "s1=0\n",
    "s2=0\n",
    "#s3=0\n",
    "\n",
    "s0 = sum0/f_0\n",
    "s1 = sum1/f_1\n",
    "s2 = sum2/f_2\n",
    "#s3 = sum3/c3\n",
    "\n",
    "print(s0*100)\n",
    "print(s1*100)\n",
    "print(s2*100)\n",
    "#print(s3*100)"
   ]
  },
  {
   "cell_type": "markdown",
   "metadata": {},
   "source": [
    "#### Relative to global frequency"
   ]
  },
  {
   "cell_type": "code",
   "execution_count": 73,
   "metadata": {},
   "outputs": [
    {
     "name": "stdout",
     "output_type": "stream",
     "text": [
      "28.62227142097465\n",
      "31.75429998549521\n",
      "39.34425550174884\n"
     ]
    }
   ],
   "source": [
    "#Percentage wrt global frequency of accounting terms\n",
    "t1=0\n",
    "t2=0\n",
    "t0=0\n",
    "#t3=0\n",
    "\n",
    "count1 = 0\n",
    "count2 = 0\n",
    "count0 = 0\n",
    "#count3=0\n",
    "l=0\n",
    "while(l<len(word)):\n",
    "    #r = reg[l]\n",
    "    if(label[l] == 0):\n",
    "        f=0\n",
    "        for i in tlist:\n",
    "            if(i == word[l]):\n",
    "                t0 = t0 + freq[l]/flist[f]\n",
    "                count0 = count0+1\n",
    "                break\n",
    "            f=f+1\n",
    "        #if(d==0):\n",
    "        #    t0 = t0 + 1\n",
    "        #    count0 = count0+1\n",
    "    elif(label[l] == 1):\n",
    "        f=0\n",
    "        for i in tlist:\n",
    "            if(i == word[l]):\n",
    "                t1 = t1 + freq[l]/flist[f]\n",
    "                count1 = count1+1\n",
    "                break\n",
    "            f=f+1\n",
    "        #if(d==0):\n",
    "        #    t1 = t1 + 1\n",
    "        #    count1 = count1+1\n",
    "    #elif(label[l] == 2):\n",
    "    #    f=0\n",
    "    #    for i in tlist:\n",
    "    #        if(i == word[l]):\n",
    "    #            t2 = t2 + freq[l]/flist[f]\n",
    "    #            count2 = count2+1\n",
    "    #            break\n",
    "    #        f=f+1\n",
    "        #if(d==0):\n",
    "        #    t2 = t2 + 1\n",
    "        #    count2 = count2+1\n",
    "    else:\n",
    "        f=0\n",
    "        for i in tlist:\n",
    "            if(i == word[l]):\n",
    "                t2 = t2 + freq[l]/flist[f]\n",
    "                count2 = count2+1\n",
    "                break\n",
    "            f=f+1\n",
    "        #if(d==0):\n",
    "        #    t3 = t3 + 1\n",
    "        #    count3 = count3+1\n",
    "    l=l+1\n",
    "\n",
    "s0 = t0/count0\n",
    "s1 = t1/count1\n",
    "s2 = t2/count2\n",
    "#s3 = t3/count3\n",
    "\n",
    "print(s0*100)\n",
    "print(s1*100)\n",
    "print(s2*100)\n",
    "#print(s3*100)"
   ]
  },
  {
   "cell_type": "markdown",
   "metadata": {},
   "source": [
    "#### Tag words for finance"
   ]
  },
  {
   "cell_type": "code",
   "execution_count": 51,
   "metadata": {},
   "outputs": [],
   "source": [
    "fin = pd.read_csv('/home/deepti-saravanan/Desktop/lexpredict-legal-dictionary-master/en/financial/financial.csv', usecols=['term'])"
   ]
  },
  {
   "cell_type": "code",
   "execution_count": 52,
   "metadata": {},
   "outputs": [],
   "source": [
    "f1 = fin.values.tolist()\n",
    "f = []\n",
    "for i in f1:\n",
    "    f.append(i[0])"
   ]
  },
  {
   "cell_type": "code",
   "execution_count": 53,
   "metadata": {},
   "outputs": [],
   "source": [
    "finance = []\n",
    "\n",
    "for n in f:\n",
    "    k=0\n",
    "    while(k<len(g)):\n",
    "        if(g[k] == n):\n",
    "            if(n not in finance):\n",
    "                finance.append(n)\n",
    "        k = k+1"
   ]
  },
  {
   "cell_type": "code",
   "execution_count": 54,
   "metadata": {},
   "outputs": [
    {
     "name": "stdout",
     "output_type": "stream",
     "text": [
      "asset\n",
      "broker\n",
      "business\n",
      "debenture\n",
      "dividend\n",
      "equity\n",
      "income\n",
      "maturity\n",
      "portfolio\n",
      "principal\n",
      "prospectus\n",
      "turnover\n",
      "yield\n",
      "default\n"
     ]
    }
   ],
   "source": [
    "for i in finance:\n",
    "    if(i in account):\n",
    "        print(i)"
   ]
  },
  {
   "cell_type": "code",
   "execution_count": 55,
   "metadata": {},
   "outputs": [
    {
     "name": "stdout",
     "output_type": "stream",
     "text": [
      "[0, 1, 2, 0, 1, 2, 0, 1, 2, 0, 2, 0, 1, 2, 0, 1, 2, 0, 1, 2, 0, 1, 2, 0, 1, 0, 1, 2, 0, 1, 2, 0, 0, 1, 2, 0, 1, 2, 0, 1, 2, 0, 1, 2, 0, 1, 2, 1, 2, 0, 1, 2, 0, 1, 2, 0, 1, 2, 0, 2, 0, 1, 2, 0, 0, 1, 2, 1, 0, 1, 2, 2, 0, 1, 2, 1, 0, 1, 2, 0, 0, 2, 0]\n",
      "['account', 'account', 'account', 'asset', 'asset', 'asset', 'basis', 'basis', 'basis', 'broker', 'broker', 'business', 'business', 'business', 'buy', 'buy', 'buy', 'commission', 'commission', 'commission', 'debenture', 'debenture', 'debenture', 'dividend', 'dividend', 'equity', 'equity', 'equity', 'exchange', 'exchange', 'exchange', 'income', 'holding', 'holding', 'holding', 'information', 'information', 'information', 'institution', 'institution', 'institution', 'investment', 'investment', 'investment', 'issuer', 'issuer', 'issuer', 'lot', 'maturity', 'option', 'option', 'option', 'portfolio', 'portfolio', 'portfolio', 'price', 'price', 'price', 'principal', 'principal', 'prospectus', 'prospectus', 'prospectus', 'quantity', 'right', 'right', 'right', 'sell', 'trade', 'trade', 'trade', 'turnover', 'unit', 'unit', 'unit', 'vesting', 'volume', 'volume', 'volume', 'yield', 'default', 'default', 'insurance']\n",
      "[16, 7, 30, 25, 8, 8, 1, 3, 2, 5, 4, 12, 4, 5, 4, 3, 8, 4, 2, 2, 10, 6, 6, 7, 2, 14, 17, 5, 26, 101, 42, 3, 4, 2, 8, 36, 15, 26, 8, 3, 6, 127, 75, 86, 74, 71, 89, 1, 1, 10, 2, 7, 45, 35, 66, 11, 5, 27, 1, 1, 2, 2, 1, 1, 15, 16, 33, 1, 3, 6, 5, 1, 22, 29, 35, 1, 2, 3, 8, 1, 15, 2, 5]\n"
     ]
    }
   ],
   "source": [
    "label = []\n",
    "word = []\n",
    "freq = []\n",
    "for i in finance:\n",
    "    k=0\n",
    "    while(k<len(reg)):\n",
    "        r = reg[k]\n",
    "        if(i == r[1]):\n",
    "            if(r[2] != 0):\n",
    "                label.append(r[0])\n",
    "                word.append(i)\n",
    "                freq.append(r[2])\n",
    "        k=k+1\n",
    "print(label)\n",
    "print(word)\n",
    "print(freq)"
   ]
  },
  {
   "cell_type": "code",
   "execution_count": 56,
   "metadata": {},
   "outputs": [],
   "source": [
    "df = pd.DataFrame(list(zip(label, word, freq)), columns =['Cluster', 'word', 'freq'])\n",
    "df.to_csv('uni-fin.csv',index=False)"
   ]
  },
  {
   "cell_type": "code",
   "execution_count": null,
   "metadata": {},
   "outputs": [],
   "source": []
  },
  {
   "cell_type": "code",
   "execution_count": 79,
   "metadata": {},
   "outputs": [
    {
     "name": "stdout",
     "output_type": "stream",
     "text": [
      "23.445416858590512\n",
      "23.688663282571913\n",
      "23.470319634703195\n"
     ]
    }
   ],
   "source": [
    "#Percentage wrt frequency of other accounting terms within cluster\n",
    "sum0=0\n",
    "sum1=0\n",
    "sum2=0\n",
    "#sum3=0\n",
    "\n",
    "i=0\n",
    "while(i<len(label)):\n",
    "    if(label[i] == 0):\n",
    "        sum0 = sum0 + freq[i]\n",
    "    elif(label[i] == 1):\n",
    "        sum1 = sum1 + freq[i]\n",
    "    #elif(label[i] == 2):\n",
    "    #    sum2 = sum2 + freq[i]\n",
    "    else:\n",
    "        sum2 = sum2 + freq[i]\n",
    "    i=i+1\n",
    "s0=0\n",
    "s1=0\n",
    "s2=0\n",
    "#s3=0\n",
    "\n",
    "s0 = sum0/f_0\n",
    "s1 = sum1/f_1\n",
    "s2 = sum2/f_2\n",
    "#s3 = sum3/c3\n",
    "\n",
    "print(s0*100)\n",
    "print(s1*100)\n",
    "print(s2*100)\n",
    "#print(s3*100)"
   ]
  },
  {
   "cell_type": "code",
   "execution_count": null,
   "metadata": {},
   "outputs": [],
   "source": []
  },
  {
   "cell_type": "code",
   "execution_count": 80,
   "metadata": {},
   "outputs": [
    {
     "name": "stdout",
     "output_type": "stream",
     "text": [
      "31.156694036547677\n",
      "30.57103911881208\n",
      "37.56736867229809\n"
     ]
    }
   ],
   "source": [
    "#Percentage wrt global frequency of accounting terms\n",
    "t1=0\n",
    "t2=0\n",
    "t0=0\n",
    "#t3=0\n",
    "\n",
    "count1 = 0\n",
    "count2 = 0\n",
    "count0 = 0\n",
    "#count3=0\n",
    "l=0\n",
    "while(l<len(word)):\n",
    "    #r = reg[l]\n",
    "    if(label[l] == 0):\n",
    "        f=0\n",
    "        for i in tlist:\n",
    "            if(i == word[l]):\n",
    "                t0 = t0 + freq[l]/flist[f]\n",
    "                count0 = count0+1\n",
    "                break\n",
    "            f=f+1\n",
    "        #if(d==0):\n",
    "        #    t0 = t0 + 1\n",
    "        #    count0 = count0+1\n",
    "    elif(label[l] == 1):\n",
    "        f=0\n",
    "        for i in tlist:\n",
    "            if(i == word[l]):\n",
    "                t1 = t1 + freq[l]/flist[f]\n",
    "                count1 = count1+1\n",
    "                break\n",
    "            f=f+1\n",
    "        #if(d==0):\n",
    "        #    t1 = t1 + 1\n",
    "        #    count1 = count1+1\n",
    "    #elif(label[l] == 2):\n",
    "    #    f=0\n",
    "    #    for i in tlist:\n",
    "    #        if(i == word[l]):\n",
    "    #            t2 = t2 + freq[l]/flist[f]\n",
    "    #            count2 = count2+1\n",
    "    #            break\n",
    "    #        f=f+1\n",
    "        #if(d==0):\n",
    "        #    t2 = t2 + 1\n",
    "        #    count2 = count2+1\n",
    "    else:\n",
    "        f=0\n",
    "        for i in tlist:\n",
    "            if(i == word[l]):\n",
    "                t2 = t2 + freq[l]/flist[f]\n",
    "                count2 = count2+1\n",
    "                break\n",
    "            f=f+1\n",
    "        #if(d==0):\n",
    "        #    t3 = t3 + 1\n",
    "        #    count3 = count3+1\n",
    "    l=l+1\n",
    "\n",
    "s0 = t0/count0\n",
    "s1 = t1/count1\n",
    "s2 = t2/count2\n",
    "#s3 = t3/count3\n",
    "\n",
    "print(s0*100)\n",
    "print(s1*100)\n",
    "print(s2*100)\n",
    "#print(s3*100)"
   ]
  },
  {
   "cell_type": "markdown",
   "metadata": {},
   "source": [
    "#### Tag words for Banking"
   ]
  },
  {
   "cell_type": "code",
   "execution_count": 57,
   "metadata": {},
   "outputs": [],
   "source": [
    "bank = pd.read_csv('/home/deepti-saravanan/Desktop/laws/semantics/code/banking.csv')"
   ]
  },
  {
   "cell_type": "code",
   "execution_count": 58,
   "metadata": {},
   "outputs": [],
   "source": [
    "b1 = bank.values.tolist()\n",
    "b2 = []\n",
    "for i in b1:\n",
    "    b2.append(i[0])"
   ]
  },
  {
   "cell_type": "code",
   "execution_count": 59,
   "metadata": {},
   "outputs": [],
   "source": [
    "banking = []\n",
    "\n",
    "for n in b2:\n",
    "    k=0\n",
    "    while(k<len(g)):\n",
    "        if(g[k] == n):\n",
    "            if(n not in banking):\n",
    "                banking.append(n)\n",
    "        k = k+1"
   ]
  },
  {
   "cell_type": "code",
   "execution_count": 60,
   "metadata": {},
   "outputs": [
    {
     "data": {
      "text/plain": [
       "['affidavit',\n",
       " 'alteration',\n",
       " 'application',\n",
       " 'bank',\n",
       " 'bankruptcy',\n",
       " 'bond',\n",
       " 'deposit',\n",
       " 'collateral',\n",
       " 'debit',\n",
       " 'draft',\n",
       " 'escrow',\n",
       " 'fiduciary',\n",
       " 'hold',\n",
       " 'insurance',\n",
       " 'lease',\n",
       " 'lender',\n",
       " 'lien',\n",
       " 'maturity',\n",
       " 'payment',\n",
       " 'refund',\n",
       " 'renewal',\n",
       " 'statement',\n",
       " 'transfer']"
      ]
     },
     "execution_count": 60,
     "metadata": {},
     "output_type": "execute_result"
    }
   ],
   "source": [
    "banking"
   ]
  },
  {
   "cell_type": "code",
   "execution_count": 61,
   "metadata": {},
   "outputs": [
    {
     "name": "stdout",
     "output_type": "stream",
     "text": [
      "[0, 2, 2, 0, 1, 2, 0, 1, 2, 0, 2, 0, 1, 2, 0, 1, 2, 1, 2, 0, 0, 1, 2, 0, 1, 2, 0, 2, 0, 1, 2, 0, 0, 0, 0, 2, 0, 1, 2, 0, 2, 0, 1, 2, 0, 1, 2, 0, 1, 2]\n",
      "['affidavit', 'affidavit', 'alteration', 'application', 'application', 'application', 'bank', 'bank', 'bank', 'bankruptcy', 'bankruptcy', 'bond', 'bond', 'bond', 'deposit', 'deposit', 'deposit', 'collateral', 'collateral', 'debit', 'draft', 'draft', 'draft', 'escrow', 'escrow', 'escrow', 'fiduciary', 'fiduciary', 'hold', 'hold', 'hold', 'insurance', 'lease', 'lender', 'lien', 'maturity', 'payment', 'payment', 'payment', 'refund', 'refund', 'renewal', 'renewal', 'renewal', 'statement', 'statement', 'statement', 'transfer', 'transfer', 'transfer']\n",
      "[1, 1, 1, 27, 42, 67, 14, 3, 15, 2, 1, 3, 4, 1, 2, 1, 2, 1, 1, 1, 12, 6, 15, 4, 1, 4, 1, 1, 7, 15, 11, 5, 4, 1, 2, 1, 11, 3, 9, 4, 5, 2, 3, 2, 11, 5, 24, 10, 3, 7]\n"
     ]
    }
   ],
   "source": [
    "label = []\n",
    "word = []\n",
    "freq = []\n",
    "for i in banking:\n",
    "    k=0\n",
    "    while(k<len(reg)):\n",
    "        r = reg[k]\n",
    "        if(i == r[1]):\n",
    "            if(r[2] != 0):\n",
    "                label.append(r[0])\n",
    "                word.append(i)\n",
    "                freq.append(r[2])\n",
    "        k=k+1\n",
    "print(label)\n",
    "print(word)\n",
    "print(freq)"
   ]
  },
  {
   "cell_type": "code",
   "execution_count": 62,
   "metadata": {},
   "outputs": [],
   "source": [
    "df = pd.DataFrame(list(zip(label, word, freq)), columns =['Cluster', 'word', 'freq'])\n",
    "df.to_csv('uni-bank.csv',index=False)"
   ]
  },
  {
   "cell_type": "code",
   "execution_count": 86,
   "metadata": {},
   "outputs": [
    {
     "name": "stdout",
     "output_type": "stream",
     "text": [
      "5.711653615845233\n",
      "4.906937394247039\n",
      "7.671232876712329\n"
     ]
    }
   ],
   "source": [
    "#Percentage wrt frequency of other accounting terms within cluster\n",
    "sum0=0\n",
    "sum1=0\n",
    "sum2=0\n",
    "#sum3=0\n",
    "\n",
    "i=0\n",
    "while(i<len(label)):\n",
    "    if(label[i] == 0):\n",
    "        sum0 = sum0 + freq[i]\n",
    "    elif(label[i] == 1):\n",
    "        sum1 = sum1 + freq[i]\n",
    "    #elif(label[i] == 2):\n",
    "    #    sum2 = sum2 + freq[i]\n",
    "    else:\n",
    "        sum2 = sum2 + freq[i]\n",
    "    i=i+1\n",
    "s0=0\n",
    "s1=0\n",
    "s2=0\n",
    "#s3=0\n",
    "\n",
    "s0 = sum0/f_0\n",
    "s1 = sum1/f_1\n",
    "s2 = sum2/f_2\n",
    "#s3 = sum3/c3\n",
    "\n",
    "print(s0*100)\n",
    "print(s1*100)\n",
    "print(s2*100)\n",
    "#print(s3*100)"
   ]
  },
  {
   "cell_type": "code",
   "execution_count": 87,
   "metadata": {},
   "outputs": [
    {
     "name": "stdout",
     "output_type": "stream",
     "text": [
      "20.24657755149971\n",
      "31.494676191221764\n",
      "50.2415072574252\n"
     ]
    }
   ],
   "source": [
    "#Percentage wrt global frequency of accounting terms\n",
    "t1=0\n",
    "t2=0\n",
    "t0=0\n",
    "#t3=0\n",
    "\n",
    "count1 = 0\n",
    "count2 = 0\n",
    "count0 = 0\n",
    "#count3=0\n",
    "l=0\n",
    "while(l<len(word)):\n",
    "    #r = reg[l]\n",
    "    if(label[l] == 0):\n",
    "        f=0\n",
    "        for i in tlist:\n",
    "            if(i == word[l]):\n",
    "                t0 = t0 + freq[l]/flist[f]\n",
    "                count0 = count0+1\n",
    "                break\n",
    "            f=f+1\n",
    "        #if(d==0):\n",
    "        #    t0 = t0 + 1\n",
    "        #    count0 = count0+1\n",
    "    elif(label[l] == 1):\n",
    "        f=0\n",
    "        for i in tlist:\n",
    "            if(i == word[l]):\n",
    "                t1 = t1 + freq[l]/flist[f]\n",
    "                count1 = count1+1\n",
    "                break\n",
    "            f=f+1\n",
    "        #if(d==0):\n",
    "        #    t1 = t1 + 1\n",
    "        #    count1 = count1+1\n",
    "    #elif(label[l] == 2):\n",
    "    #    f=0\n",
    "    #    for i in tlist:\n",
    "    #        if(i == word[l]):\n",
    "    #            t2 = t2 + freq[l]/flist[f]\n",
    "    #            count2 = count2+1\n",
    "    #            break\n",
    "    #        f=f+1\n",
    "        #if(d==0):\n",
    "        #    t2 = t2 + 1\n",
    "        #    count2 = count2+1\n",
    "    else:\n",
    "        f=0\n",
    "        for i in tlist:\n",
    "            if(i == word[l]):\n",
    "                t2 = t2 + freq[l]/flist[f]\n",
    "                count2 = count2+1\n",
    "                break\n",
    "            f=f+1\n",
    "        #if(d==0):\n",
    "        #    t3 = t3 + 1\n",
    "        #    count3 = count3+1\n",
    "    l=l+1\n",
    "\n",
    "s0 = t0/count0\n",
    "s1 = t1/count1\n",
    "s2 = t2/count2\n",
    "#s3 = t3/count3\n",
    "\n",
    "print(s0*100)\n",
    "print(s1*100)\n",
    "print(s2*100)\n",
    "#print(s3*100)"
   ]
  },
  {
   "cell_type": "markdown",
   "metadata": {},
   "source": [
    "#### Tag words for Capital Market"
   ]
  },
  {
   "cell_type": "code",
   "execution_count": 63,
   "metadata": {},
   "outputs": [],
   "source": [
    "cap = pd.read_csv('/home/deepti-saravanan/Desktop/laws/semantics/CapMarket.csv')"
   ]
  },
  {
   "cell_type": "code",
   "execution_count": 64,
   "metadata": {},
   "outputs": [],
   "source": [
    "capm1 = cap.values.tolist()\n",
    "c = []\n",
    "for i in capm1:\n",
    "    c.append(i[0])"
   ]
  },
  {
   "cell_type": "code",
   "execution_count": 65,
   "metadata": {},
   "outputs": [],
   "source": [
    "cap_market = []\n",
    "\n",
    "for n in c:\n",
    "    k=0\n",
    "    while(k<len(g)):\n",
    "        if(g[k] == n):\n",
    "            if(n not in cap_market):\n",
    "                cap_market.append(n)\n",
    "        k = k+1"
   ]
  },
  {
   "cell_type": "code",
   "execution_count": 66,
   "metadata": {},
   "outputs": [
    {
     "data": {
      "text/plain": [
       "['acquirer',\n",
       " 'adviser',\n",
       " 'analyst',\n",
       " 'intermediary',\n",
       " 'arbitration',\n",
       " 'securities',\n",
       " 'bond',\n",
       " 'auditor',\n",
       " 'authorized',\n",
       " 'authority',\n",
       " 'basis',\n",
       " 'broker',\n",
       " 'brokerage',\n",
       " 'market',\n",
       " 'clearing',\n",
       " 'coupon',\n",
       " 'cover',\n",
       " 'custodian',\n",
       " 'delivery',\n",
       " 'dematerialise',\n",
       " 'depository',\n",
       " 'derivative',\n",
       " 'disclosure',\n",
       " 'distribution',\n",
       " 'dividend',\n",
       " 'equity',\n",
       " 'ex',\n",
       " 'exchange',\n",
       " 'hypothecation',\n",
       " 'director',\n",
       " 'insider',\n",
       " 'trading',\n",
       " 'investment',\n",
       " 'issuer',\n",
       " 'liquidation',\n",
       " 'company',\n",
       " 'listed',\n",
       " 'list',\n",
       " 'listing',\n",
       " 'security',\n",
       " 'key',\n",
       " 'manager',\n",
       " 'managerial',\n",
       " 'margin',\n",
       " 'maturity',\n",
       " 'merger',\n",
       " 'option',\n",
       " 'plan',\n",
       " 'person',\n",
       " 'portfolio',\n",
       " 'price',\n",
       " 'sensitive',\n",
       " 'information',\n",
       " 'prospectus',\n",
       " 'proxy',\n",
       " 'split',\n",
       " 'stakeholder',\n",
       " 'transferor',\n",
       " 'trustee',\n",
       " 'underlying',\n",
       " 'underwriter',\n",
       " 'underwriting',\n",
       " 'value',\n",
       " 'vesting',\n",
       " 'warrant',\n",
       " 'stock',\n",
       " 'settlement',\n",
       " 'invest',\n",
       " 'promoter']"
      ]
     },
     "execution_count": 66,
     "metadata": {},
     "output_type": "execute_result"
    }
   ],
   "source": [
    "cap_market"
   ]
  },
  {
   "cell_type": "code",
   "execution_count": 67,
   "metadata": {},
   "outputs": [
    {
     "name": "stdout",
     "output_type": "stream",
     "text": [
      "[0, 1, 2, 0, 1, 2, 0, 1, 2, 0, 1, 2, 1, 2, 1, 2, 0, 1, 2, 0, 1, 2, 2, 0, 1, 2, 0, 1, 2, 0, 2, 0, 0, 1, 2, 0, 1, 2, 0, 0, 2, 0, 1, 2, 0, 0, 2, 0, 1, 2, 0, 1, 0, 1, 2, 0, 1, 0, 1, 0, 1, 2, 0, 0, 1, 2, 2, 0, 1, 2, 0, 1, 2, 0, 1, 2, 0, 1, 2, 0, 1, 2, 0, 0, 1, 2, 0, 1, 2, 0, 1, 2, 0, 1, 2, 0, 1, 2, 0, 1, 2, 0, 1, 2, 0, 2, 1, 2, 0, 0, 1, 2, 0, 1, 2, 0, 1, 2, 0, 1, 2, 0, 1, 2, 0, 1, 2, 0, 1, 2, 0, 1, 2, 0, 1, 2, 0, 0, 2, 0, 2, 0, 1, 2, 0, 1, 2, 2, 0, 1, 2, 1, 0, 1, 2, 0, 1, 2, 0, 1, 2, 0, 0, 1, 2]\n",
      "['acquirer', 'acquirer', 'acquirer', 'adviser', 'adviser', 'adviser', 'analyst', 'analyst', 'analyst', 'intermediary', 'intermediary', 'intermediary', 'arbitration', 'arbitration', 'securities', 'securities', 'bond', 'bond', 'bond', 'auditor', 'auditor', 'auditor', 'authorized', 'authority', 'authority', 'authority', 'basis', 'basis', 'basis', 'broker', 'broker', 'brokerage', 'market', 'market', 'market', 'clearing', 'clearing', 'clearing', 'coupon', 'cover', 'cover', 'custodian', 'custodian', 'custodian', 'delivery', 'dematerialise', 'dematerialise', 'depository', 'depository', 'depository', 'derivative', 'derivative', 'disclosure', 'disclosure', 'disclosure', 'distribution', 'distribution', 'dividend', 'dividend', 'equity', 'equity', 'equity', 'ex', 'exchange', 'exchange', 'exchange', 'hypothecation', 'director', 'director', 'director', 'insider', 'insider', 'insider', 'trading', 'trading', 'trading', 'investment', 'investment', 'investment', 'issuer', 'issuer', 'issuer', 'liquidation', 'company', 'company', 'company', 'listed', 'listed', 'listed', 'list', 'list', 'list', 'listing', 'listing', 'listing', 'security', 'security', 'security', 'key', 'key', 'key', 'manager', 'manager', 'manager', 'managerial', 'managerial', 'margin', 'maturity', 'merger', 'option', 'option', 'option', 'plan', 'plan', 'plan', 'person', 'person', 'person', 'portfolio', 'portfolio', 'portfolio', 'price', 'price', 'price', 'sensitive', 'sensitive', 'sensitive', 'information', 'information', 'information', 'prospectus', 'prospectus', 'prospectus', 'proxy', 'proxy', 'proxy', 'split', 'stakeholder', 'stakeholder', 'transferor', 'transferor', 'trustee', 'trustee', 'trustee', 'underlying', 'underwriter', 'underwriter', 'underwriting', 'value', 'value', 'value', 'vesting', 'warrant', 'warrant', 'warrant', 'stock', 'stock', 'stock', 'settlement', 'settlement', 'settlement', 'invest', 'promoter', 'promoter', 'promoter']\n",
      "[9, 37, 68, 31, 11, 9, 30, 16, 23, 17, 5, 3, 1, 1, 1, 1, 3, 4, 1, 8, 5, 16, 1, 29, 19, 17, 1, 3, 2, 5, 4, 2, 14, 6, 6, 9, 31, 10, 1, 3, 1, 1, 2, 3, 1, 5, 1, 48, 46, 79, 9, 2, 37, 27, 25, 4, 4, 7, 2, 14, 17, 5, 1, 26, 101, 42, 2, 70, 92, 55, 1, 1, 3, 6, 13, 8, 127, 75, 86, 74, 71, 89, 1, 79, 52, 131, 11, 14, 13, 156, 106, 95, 4, 3, 1, 72, 68, 74, 7, 6, 6, 69, 83, 106, 2, 3, 1, 1, 2, 10, 2, 7, 8, 1, 5, 51, 78, 82, 45, 35, 66, 11, 5, 27, 4, 1, 2, 36, 15, 26, 2, 2, 1, 4, 1, 2, 2, 4, 1, 4, 3, 21, 28, 39, 1, 1, 1, 1, 10, 4, 9, 1, 8, 5, 1, 34, 109, 50, 17, 20, 13, 2, 16, 3, 9]\n"
     ]
    }
   ],
   "source": [
    "label = []\n",
    "word = []\n",
    "freq = []\n",
    "for i in cap_market:\n",
    "    k=0\n",
    "    while(k<len(reg)):\n",
    "        r = reg[k]\n",
    "        if(i == r[1]):\n",
    "            if(r[2] != 0):\n",
    "                label.append(r[0])\n",
    "                word.append(i)\n",
    "                freq.append(r[2])\n",
    "        k=k+1\n",
    "print(label)\n",
    "print(word)\n",
    "print(freq)"
   ]
  },
  {
   "cell_type": "code",
   "execution_count": 68,
   "metadata": {},
   "outputs": [],
   "source": [
    "df = pd.DataFrame(list(zip(label, word, freq)), columns =['Cluster', 'word', 'freq'])\n",
    "df.to_csv('uni-cap.csv',index=False)"
   ]
  },
  {
   "cell_type": "code",
   "execution_count": 93,
   "metadata": {},
   "outputs": [
    {
     "name": "stdout",
     "output_type": "stream",
     "text": [
      "59.23537540304007\n",
      "69.7123519458545\n",
      "61.00456621004567\n"
     ]
    }
   ],
   "source": [
    "#Percentage wrt frequency of other accounting terms within cluster\n",
    "sum0=0\n",
    "sum1=0\n",
    "sum2=0\n",
    "#sum3=0\n",
    "\n",
    "i=0\n",
    "while(i<len(label)):\n",
    "    if(label[i] == 0):\n",
    "        sum0 = sum0 + freq[i]\n",
    "    elif(label[i] == 1):\n",
    "        sum1 = sum1 + freq[i]\n",
    "    #elif(label[i] == 2):\n",
    "    #    sum2 = sum2 + freq[i]\n",
    "    else:\n",
    "        sum2 = sum2 + freq[i]\n",
    "    i=i+1\n",
    "s0=0\n",
    "s1=0\n",
    "s2=0\n",
    "#s3=0\n",
    "\n",
    "s0 = sum0/f_0\n",
    "s1 = sum1/f_1\n",
    "s2 = sum2/f_2\n",
    "#s3 = sum3/c3\n",
    "\n",
    "print(s0*100)\n",
    "print(s1*100)\n",
    "print(s2*100)\n",
    "#print(s3*100)"
   ]
  },
  {
   "cell_type": "code",
   "execution_count": 94,
   "metadata": {},
   "outputs": [
    {
     "name": "stdout",
     "output_type": "stream",
     "text": [
      "32.07175661971771\n",
      "33.30442666359185\n",
      "34.32568523481214\n"
     ]
    }
   ],
   "source": [
    "#Percentage wrt global frequency of accounting terms\n",
    "t1=0\n",
    "t2=0\n",
    "t0=0\n",
    "#t3=0\n",
    "\n",
    "count1 = 0\n",
    "count2 = 0\n",
    "count0 = 0\n",
    "#count3=0\n",
    "l=0\n",
    "while(l<len(word)):\n",
    "    #r = reg[l]\n",
    "    if(label[l] == 0):\n",
    "        f=0\n",
    "        for i in tlist:\n",
    "            if(i == word[l]):\n",
    "                t0 = t0 + freq[l]/flist[f]\n",
    "                count0 = count0+1\n",
    "                break\n",
    "            f=f+1\n",
    "        #if(d==0):\n",
    "        #    t0 = t0 + 1\n",
    "        #    count0 = count0+1\n",
    "    elif(label[l] == 1):\n",
    "        f=0\n",
    "        for i in tlist:\n",
    "            if(i == word[l]):\n",
    "                t1 = t1 + freq[l]/flist[f]\n",
    "                count1 = count1+1\n",
    "                break\n",
    "            f=f+1\n",
    "        #if(d==0):\n",
    "        #    t1 = t1 + 1\n",
    "        #    count1 = count1+1\n",
    "    #elif(label[l] == 2):\n",
    "    #    f=0\n",
    "    #    for i in tlist:\n",
    "    #        if(i == word[l]):\n",
    "    #            t2 = t2 + freq[l]/flist[f]\n",
    "    #            count2 = count2+1\n",
    "    #            break\n",
    "    #        f=f+1\n",
    "        #if(d==0):\n",
    "        #    t2 = t2 + 1\n",
    "        #    count2 = count2+1\n",
    "    else:\n",
    "        f=0\n",
    "        for i in tlist:\n",
    "            if(i == word[l]):\n",
    "                t2 = t2 + freq[l]/flist[f]\n",
    "                count2 = count2+1\n",
    "                break\n",
    "            f=f+1\n",
    "        #if(d==0):\n",
    "        #    t3 = t3 + 1\n",
    "        #    count3 = count3+1\n",
    "    l=l+1\n",
    "\n",
    "s0 = t0/count0\n",
    "s1 = t1/count1\n",
    "s2 = t2/count2\n",
    "#s3 = t3/count3\n",
    "\n",
    "print(s0*100)\n",
    "print(s1*100)\n",
    "print(s2*100)\n",
    "#print(s3*100)"
   ]
  },
  {
   "cell_type": "markdown",
   "metadata": {},
   "source": [
    "#### Tag words for Commodity Market"
   ]
  },
  {
   "cell_type": "code",
   "execution_count": 69,
   "metadata": {},
   "outputs": [],
   "source": [
    "comm = pd.read_csv('/home/deepti-saravanan/Desktop/laws/semantics/CommMarket.csv')"
   ]
  },
  {
   "cell_type": "code",
   "execution_count": 70,
   "metadata": {},
   "outputs": [],
   "source": [
    "cm1 = comm.values.tolist()\n",
    "cm = []\n",
    "for i in cm1:\n",
    "    cm.append(i[0])"
   ]
  },
  {
   "cell_type": "code",
   "execution_count": 71,
   "metadata": {},
   "outputs": [],
   "source": [
    "comm_market = []\n",
    "\n",
    "for n in cm:\n",
    "    k=0\n",
    "    while(k<len(g)):\n",
    "        if(g[k] == n):\n",
    "            #print(\"word is: \")\n",
    "            #print(g[k])\n",
    "            if(n not in comm_market):\n",
    "                comm_market.append(n)\n",
    "        k = k+1"
   ]
  },
  {
   "cell_type": "code",
   "execution_count": 72,
   "metadata": {},
   "outputs": [
    {
     "data": {
      "text/plain": [
       "['basis',\n",
       " 'close',\n",
       " 'cover',\n",
       " 'delivery',\n",
       " 'contract',\n",
       " 'limit',\n",
       " 'liquidation',\n",
       " 'long',\n",
       " 'margin',\n",
       " 'offer',\n",
       " 'position',\n",
       " 'short',\n",
       " 'purchase',\n",
       " 'sale',\n",
       " 'merchant']"
      ]
     },
     "execution_count": 72,
     "metadata": {},
     "output_type": "execute_result"
    }
   ],
   "source": [
    "comm_market"
   ]
  },
  {
   "cell_type": "code",
   "execution_count": 73,
   "metadata": {},
   "outputs": [
    {
     "name": "stdout",
     "output_type": "stream",
     "text": [
      "[0, 1, 2, 2, 0, 2, 0, 0, 1, 2, 0, 1, 2, 0, 0, 1, 0, 1, 2, 0, 1, 2, 0, 0, 2, 0, 2, 0, 1, 2]\n",
      "['basis', 'basis', 'basis', 'close', 'cover', 'cover', 'delivery', 'contract', 'contract', 'contract', 'limit', 'limit', 'limit', 'liquidation', 'long', 'margin', 'offer', 'offer', 'offer', 'position', 'position', 'position', 'short', 'purchase', 'purchase', 'sale', 'sale', 'merchant', 'merchant', 'merchant']\n",
      "[1, 3, 2, 2, 3, 1, 1, 12, 1, 7, 4, 1, 4, 1, 2, 1, 46, 61, 89, 2, 1, 2, 3, 7, 3, 5, 4, 6, 3, 16]\n"
     ]
    }
   ],
   "source": [
    "label = []\n",
    "word = []\n",
    "freq = []\n",
    "for i in comm_market:\n",
    "    k=0\n",
    "    while(k<len(reg)):\n",
    "        r = reg[k]\n",
    "        if(i == r[1]):\n",
    "            if(r[2] != 0):\n",
    "                label.append(r[0])\n",
    "                word.append(i)\n",
    "                freq.append(r[2])\n",
    "        k=k+1\n",
    "print(label)\n",
    "print(word)\n",
    "print(freq)"
   ]
  },
  {
   "cell_type": "code",
   "execution_count": 74,
   "metadata": {},
   "outputs": [],
   "source": [
    "df = pd.DataFrame(list(zip(label, word, freq)), columns =['Cluster', 'word', 'freq'])\n",
    "df.to_csv('uni-comm.csv',index=False)"
   ]
  },
  {
   "cell_type": "code",
   "execution_count": 100,
   "metadata": {},
   "outputs": [
    {
     "name": "stdout",
     "output_type": "stream",
     "text": [
      "4.2837402118839245\n",
      "4.004512126339538\n",
      "5.93607305936073\n"
     ]
    }
   ],
   "source": [
    "#Percentage wrt frequency of other accounting terms within cluster\n",
    "sum0=0\n",
    "sum1=0\n",
    "sum2=0\n",
    "#sum3=0\n",
    "\n",
    "i=0\n",
    "while(i<len(label)):\n",
    "    if(label[i] == 0):\n",
    "        sum0 = sum0 + freq[i]\n",
    "    elif(label[i] == 1):\n",
    "        sum1 = sum1 + freq[i]\n",
    "    #elif(label[i] == 2):\n",
    "    #    sum2 = sum2 + freq[i]\n",
    "    else:\n",
    "        sum2 = sum2 + freq[i]\n",
    "    i=i+1\n",
    "s0=0\n",
    "s1=0\n",
    "s2=0\n",
    "#s3=0\n",
    "\n",
    "s0 = sum0/f_0\n",
    "s1 = sum1/f_1\n",
    "s2 = sum2/f_2\n",
    "#s3 = sum3/c3\n",
    "\n",
    "print(s0*100)\n",
    "print(s1*100)\n",
    "print(s2*100)\n",
    "#print(s3*100)"
   ]
  },
  {
   "cell_type": "code",
   "execution_count": 101,
   "metadata": {},
   "outputs": [
    {
     "name": "stdout",
     "output_type": "stream",
     "text": [
      "23.487387635296276\n",
      "31.146318385936368\n",
      "45.44298912046453\n"
     ]
    }
   ],
   "source": [
    "#Percentage wrt global frequency of accounting terms\n",
    "t1=0\n",
    "t2=0\n",
    "t0=0\n",
    "#t3=0\n",
    "\n",
    "count1 = 0\n",
    "count2 = 0\n",
    "count0 = 0\n",
    "#count3=0\n",
    "l=0\n",
    "while(l<len(word)):\n",
    "    #r = reg[l]\n",
    "    if(label[l] == 0):\n",
    "        f=0\n",
    "        for i in tlist:\n",
    "            if(i == word[l]):\n",
    "                t0 = t0 + freq[l]/flist[f]\n",
    "                count0 = count0+1\n",
    "                break\n",
    "            f=f+1\n",
    "        #if(d==0):\n",
    "        #    t0 = t0 + 1\n",
    "        #    count0 = count0+1\n",
    "    elif(label[l] == 1):\n",
    "        f=0\n",
    "        for i in tlist:\n",
    "            if(i == word[l]):\n",
    "                t1 = t1 + freq[l]/flist[f]\n",
    "                count1 = count1+1\n",
    "                break\n",
    "            f=f+1\n",
    "        #if(d==0):\n",
    "        #    t1 = t1 + 1\n",
    "        #    count1 = count1+1\n",
    "    #elif(label[l] == 2):\n",
    "    #    f=0\n",
    "    #    for i in tlist:\n",
    "    #        if(i == word[l]):\n",
    "    #            t2 = t2 + freq[l]/flist[f]\n",
    "    #            count2 = count2+1\n",
    "    #            break\n",
    "    #        f=f+1\n",
    "        #if(d==0):\n",
    "        #    t2 = t2 + 1\n",
    "        #    count2 = count2+1\n",
    "    else:\n",
    "        f=0\n",
    "        for i in tlist:\n",
    "            if(i == word[l]):\n",
    "                t2 = t2 + freq[l]/flist[f]\n",
    "                count2 = count2+1\n",
    "                break\n",
    "            f=f+1\n",
    "        #if(d==0):\n",
    "        #    t3 = t3 + 1\n",
    "        #    count3 = count3+1\n",
    "    l=l+1\n",
    "\n",
    "s0 = t0/count0\n",
    "s1 = t1/count1\n",
    "s2 = t2/count2\n",
    "#s3 = t3/count3\n",
    "\n",
    "print(s0*100)\n",
    "print(s1*100)\n",
    "print(s2*100)\n",
    "#print(s3*100)"
   ]
  },
  {
   "cell_type": "markdown",
   "metadata": {},
   "source": [
    "#### Tag words for Pension Funds"
   ]
  },
  {
   "cell_type": "code",
   "execution_count": 75,
   "metadata": {},
   "outputs": [],
   "source": [
    "pen = pd.read_csv('/home/deepti-saravanan/Desktop/laws/semantics/Pension.csv')"
   ]
  },
  {
   "cell_type": "code",
   "execution_count": 76,
   "metadata": {},
   "outputs": [],
   "source": [
    "p1 = pen.values.tolist()\n",
    "p = []\n",
    "for i in p1:\n",
    "    p.append(i[0])"
   ]
  },
  {
   "cell_type": "code",
   "execution_count": 77,
   "metadata": {},
   "outputs": [],
   "source": [
    "pension = []\n",
    "\n",
    "for n in p:\n",
    "    k=0\n",
    "    while(k<len(g)):\n",
    "        if(g[k] == n):\n",
    "            if(n not in pension):\n",
    "                pension.append(n)\n",
    "        k = k+1"
   ]
  },
  {
   "cell_type": "code",
   "execution_count": 78,
   "metadata": {},
   "outputs": [
    {
     "data": {
      "text/plain": [
       "['administrator', 'benefit', 'asset', 'retirement', 'member', 'pension']"
      ]
     },
     "execution_count": 78,
     "metadata": {},
     "output_type": "execute_result"
    }
   ],
   "source": [
    "pension"
   ]
  },
  {
   "cell_type": "code",
   "execution_count": 79,
   "metadata": {},
   "outputs": [
    {
     "name": "stdout",
     "output_type": "stream",
     "text": [
      "[0, 2, 0, 1, 2, 0, 1, 2, 2, 0, 1, 2, 0]\n",
      "['administrator', 'administrator', 'benefit', 'benefit', 'benefit', 'asset', 'asset', 'asset', 'retirement', 'member', 'member', 'member', 'pension']\n",
      "[23, 5, 6, 2, 5, 25, 8, 8, 2, 23, 15, 4, 3]\n"
     ]
    }
   ],
   "source": [
    "label = []\n",
    "word = []\n",
    "freq = []\n",
    "for i in pension:\n",
    "    k=0\n",
    "    while(k<len(reg)):\n",
    "        r = reg[k]\n",
    "        if(i == r[1]):\n",
    "            if(r[2] != 0):\n",
    "                label.append(r[0])\n",
    "                word.append(i)\n",
    "                freq.append(r[2])\n",
    "        k=k+1\n",
    "print(label)\n",
    "print(word)\n",
    "print(freq)"
   ]
  },
  {
   "cell_type": "code",
   "execution_count": 80,
   "metadata": {},
   "outputs": [],
   "source": [
    "df = pd.DataFrame(list(zip(label, word, freq)), columns =['Cluster', 'word', 'freq'])\n",
    "df.to_csv('uni-pf.csv',index=False)"
   ]
  },
  {
   "cell_type": "code",
   "execution_count": 107,
   "metadata": {},
   "outputs": [
    {
     "name": "stdout",
     "output_type": "stream",
     "text": [
      "3.6849378166743434\n",
      "1.410039481105471\n",
      "1.095890410958904\n"
     ]
    }
   ],
   "source": [
    "#Percentage wrt frequency of other accounting terms within cluster\n",
    "sum0=0\n",
    "sum1=0\n",
    "sum2=0\n",
    "#sum3=0\n",
    "\n",
    "i=0\n",
    "while(i<len(label)):\n",
    "    if(label[i] == 0):\n",
    "        sum0 = sum0 + freq[i]\n",
    "    elif(label[i] == 1):\n",
    "        sum1 = sum1 + freq[i]\n",
    "    #elif(label[i] == 2):\n",
    "    #    sum2 = sum2 + freq[i]\n",
    "    else:\n",
    "        sum2 = sum2 + freq[i]\n",
    "    i=i+1\n",
    "s0=0\n",
    "s1=0\n",
    "s2=0\n",
    "#s3=0\n",
    "\n",
    "s0 = sum0/f_0\n",
    "s1 = sum1/f_1\n",
    "s2 = sum2/f_2\n",
    "#s3 = sum3/c3\n",
    "\n",
    "print(s0*100)\n",
    "print(s1*100)\n",
    "print(s2*100)\n",
    "#print(s3*100)"
   ]
  },
  {
   "cell_type": "code",
   "execution_count": 108,
   "metadata": {},
   "outputs": [
    {
     "name": "stdout",
     "output_type": "stream",
     "text": [
      "53.5355903982059\n",
      "34.91451547709081\n",
      "9.310537460557548\n"
     ]
    }
   ],
   "source": [
    "#Percentage wrt global frequency of accounting terms\n",
    "t1=0\n",
    "t2=0\n",
    "t0=0\n",
    "#t3=0\n",
    "\n",
    "count1 = 0\n",
    "count2 = 0\n",
    "count0 = 0\n",
    "#count3=0\n",
    "l=0\n",
    "while(l<len(word)):\n",
    "    #r = reg[l]\n",
    "    if(label[l] == 0):\n",
    "        f=0\n",
    "        for i in tlist:\n",
    "            if(i == word[l]):\n",
    "                t0 = t0 + freq[l]/flist[f]\n",
    "                count0 = count0+1\n",
    "                break\n",
    "            f=f+1\n",
    "        #if(d==0):\n",
    "        #    t0 = t0 + 1\n",
    "        #    count0 = count0+1\n",
    "    elif(label[l] == 1):\n",
    "        f=0\n",
    "        for i in tlist:\n",
    "            if(i == word[l]):\n",
    "                t1 = t1 + freq[l]/flist[f]\n",
    "                count1 = count1+1\n",
    "                break\n",
    "            f=f+1\n",
    "        #if(d==0):\n",
    "        #    t1 = t1 + 1\n",
    "        #    count1 = count1+1\n",
    "    #elif(label[l] == 2):\n",
    "    #    f=0\n",
    "    #    for i in tlist:\n",
    "    #        if(i == word[l]):\n",
    "    #            t2 = t2 + freq[l]/flist[f]\n",
    "    #            count2 = count2+1\n",
    "    #            break\n",
    "    #        f=f+1\n",
    "        #if(d==0):\n",
    "        #    t2 = t2 + 1\n",
    "        #    count2 = count2+1\n",
    "    else:\n",
    "        f=0\n",
    "        for i in tlist:\n",
    "            if(i == word[l]):\n",
    "                t2 = t2 + freq[l]/flist[f]\n",
    "                count2 = count2+1\n",
    "                break\n",
    "            f=f+1\n",
    "        #if(d==0):\n",
    "        #    t3 = t3 + 1\n",
    "        #    count3 = count3+1\n",
    "    l=l+1\n",
    "\n",
    "s0 = t0/count0\n",
    "s1 = t1/count1\n",
    "s2 = t2/count2\n",
    "#s3 = t3/count3\n",
    "\n",
    "print(s0*100)\n",
    "print(s1*100)\n",
    "print(s2*100)\n",
    "#print(s3*100)"
   ]
  },
  {
   "cell_type": "markdown",
   "metadata": {},
   "source": [
    "Cluster 2 combo"
   ]
  },
  {
   "cell_type": "code",
   "execution_count": 62,
   "metadata": {},
   "outputs": [],
   "source": [
    "c2list = []\n",
    "for i in account:\n",
    "    c2list.append(i)\n",
    "for i in finance:\n",
    "    if(i not in c2list):\n",
    "        c2list.append(i)\n",
    "for i in cap_market:\n",
    "    if(i not in c2list):\n",
    "        c2list.append(i)\n",
    "for i in pension:\n",
    "    if(i not in c2list):\n",
    "        c2list.append(i)\n",
    "for i in comm_market:\n",
    "    if(i not in c2list):\n",
    "        c2list.append(i)\n",
    "for i in banking:\n",
    "    if(i not in c2list):\n",
    "        c2list.append(i)"
   ]
  },
  {
   "cell_type": "code",
   "execution_count": 65,
   "metadata": {},
   "outputs": [
    {
     "name": "stdout",
     "output_type": "stream",
     "text": [
      "[0, 2, 0, 1, 2, 0, 1, 2, 0, 1, 2, 0, 1, 2, 0, 1, 2, 0, 2, 0, 1, 2, 0, 2, 0, 2, 0, 1, 2, 0, 1, 2, 0, 1, 2, 0, 0, 1, 2, 0, 1, 2, 0, 2, 0, 1, 2, 0, 1, 0, 1, 2, 0, 1, 2, 0, 1, 0, 2, 0, 1, 2, 2, 0, 1, 2, 1, 0, 1, 2, 0, 2, 0, 1, 2, 0, 0, 0, 1, 2, 0, 1, 2, 0, 2, 0, 1, 2, 0, 1, 2, 0, 1, 2, 0, 1, 2, 2, 0, 2, 0, 1, 2, 0, 1, 2, 0, 2, 0, 2, 0, 1, 2, 0, 1, 2, 0, 1, 2, 0, 1, 2, 0, 1, 0, 0, 0, 0, 1, 2, 0, 0, 0, 2, 0, 1, 2, 0, 1, 0, 1, 2, 0, 2, 1, 2, 0, 0, 1, 2, 0, 1, 2, 0, 1, 2, 0, 1, 2, 0, 1, 2, 0, 1, 2, 0, 1, 2, 0, 1, 2, 0, 1, 2, 0, 1, 2, 1, 0, 1, 2, 0, 1, 2, 0, 0, 1, 2, 1, 0, 1, 2, 0, 1, 2, 1, 0, 1, 2, 0, 0, 1, 2, 0, 1, 2, 0, 1, 2, 1, 2, 1, 2, 0, 1, 2, 2, 0, 1, 2, 0, 0, 1, 2, 0, 1, 2, 0, 2, 0, 1, 2, 0, 0, 2, 0, 1, 2, 0, 1, 2, 0, 1, 0, 2, 0, 1, 2, 0, 1, 2, 0, 0, 1, 2, 0, 1, 2, 0, 1, 2, 0, 1, 2, 0, 1, 2, 0, 1, 2, 0, 1, 2, 0, 2, 0, 1, 2, 0, 1, 2, 0, 1, 2, 0, 1, 2, 0, 0, 2, 0, 2, 0, 1, 2, 0, 1, 2, 2, 0, 1, 2, 0, 1, 2, 0, 1, 2, 0, 0, 1, 2, 0, 2, 0, 1, 2, 2, 0, 1, 2, 0, 2, 0, 1, 2, 0, 1, 2, 0, 0, 1, 2, 0, 1, 2, 0, 0, 2, 0, 2, 0, 1, 2, 0, 2, 2, 0, 1, 2, 0, 1, 2, 0, 2, 0, 1, 2, 1, 2, 0, 0, 1, 2, 0, 1, 2, 0, 2, 0, 1, 2, 0, 0, 0, 1, 2, 0, 2, 0, 1, 2, 0, 1, 2, 0, 1, 2]\n",
      "['accounting', 'accounting', 'acquirer', 'acquirer', 'acquirer', 'acquisition', 'acquisition', 'acquisition', 'agency', 'agency', 'agency', 'audit', 'audit', 'audit', 'bond', 'bond', 'bond', 'broker', 'broker', 'capital', 'capital', 'capital', 'cash', 'cash', 'chairman', 'chairman', 'charge', 'charge', 'charge', 'control', 'control', 'control', 'cost', 'cost', 'cost', 'coupon', 'credit', 'credit', 'credit', 'debenture', 'debenture', 'debenture', 'default', 'default', 'director', 'director', 'director', 'dividend', 'dividend', 'entity', 'entity', 'entity', 'equity', 'equity', 'equity', 'expense', 'expense', 'format', 'format', 'group', 'group', 'group', 'inventory', 'management', 'management', 'management', 'margin', 'material', 'material', 'material', 'materiality', 'maturity', 'memorandum', 'memorandum', 'memorandum', 'merger', 'net', 'partnership', 'partnership', 'partnership', 'portfolio', 'portfolio', 'portfolio', 'principal', 'principal', 'profit', 'profit', 'profit', 'prospectus', 'prospectus', 'prospectus', 'provision', 'provision', 'provision', 'recognition', 'recognition', 'recognition', 'return', 'revenue', 'revenue', 'risk', 'risk', 'risk', 'stock', 'stock', 'stock', 'substance', 'turnover', 'unlisted', 'unlisted', 'agent', 'agent', 'agent', 'asset', 'asset', 'asset', 'associate', 'associate', 'associate', 'business', 'business', 'business', 'derivative', 'derivative', 'development', 'income', 'lease', 'liability', 'liability', 'liability', 'performance', 'probable', 'loss', 'loss', 'research', 'research', 'research', 'restriction', 'restriction', 'state', 'state', 'state', 'subsidiary', 'subsidiary', 'vest', 'vest', 'yield', 'account', 'account', 'account', 'basis', 'basis', 'basis', 'buy', 'buy', 'buy', 'commission', 'commission', 'commission', 'exchange', 'exchange', 'exchange', 'holding', 'holding', 'holding', 'information', 'information', 'information', 'institution', 'institution', 'institution', 'investment', 'investment', 'investment', 'issuer', 'issuer', 'issuer', 'lot', 'option', 'option', 'option', 'price', 'price', 'price', 'quantity', 'right', 'right', 'right', 'sell', 'trade', 'trade', 'trade', 'unit', 'unit', 'unit', 'vesting', 'volume', 'volume', 'volume', 'insurance', 'adviser', 'adviser', 'adviser', 'analyst', 'analyst', 'analyst', 'intermediary', 'intermediary', 'intermediary', 'arbitration', 'arbitration', 'securities', 'securities', 'auditor', 'auditor', 'auditor', 'authorized', 'authority', 'authority', 'authority', 'brokerage', 'market', 'market', 'market', 'clearing', 'clearing', 'clearing', 'cover', 'cover', 'custodian', 'custodian', 'custodian', 'delivery', 'dematerialise', 'dematerialise', 'depository', 'depository', 'depository', 'disclosure', 'disclosure', 'disclosure', 'distribution', 'distribution', 'ex', 'hypothecation', 'insider', 'insider', 'insider', 'trading', 'trading', 'trading', 'liquidation', 'company', 'company', 'company', 'listed', 'listed', 'listed', 'list', 'list', 'list', 'listing', 'listing', 'listing', 'security', 'security', 'security', 'key', 'key', 'key', 'manager', 'manager', 'manager', 'managerial', 'managerial', 'plan', 'plan', 'plan', 'person', 'person', 'person', 'sensitive', 'sensitive', 'sensitive', 'proxy', 'proxy', 'proxy', 'split', 'stakeholder', 'stakeholder', 'transferor', 'transferor', 'trustee', 'trustee', 'trustee', 'underlying', 'underwriter', 'underwriter', 'underwriting', 'value', 'value', 'value', 'warrant', 'warrant', 'warrant', 'settlement', 'settlement', 'settlement', 'invest', 'promoter', 'promoter', 'promoter', 'administrator', 'administrator', 'benefit', 'benefit', 'benefit', 'retirement', 'member', 'member', 'member', 'pension', 'close', 'contract', 'contract', 'contract', 'limit', 'limit', 'limit', 'long', 'offer', 'offer', 'offer', 'position', 'position', 'position', 'short', 'purchase', 'purchase', 'sale', 'sale', 'merchant', 'merchant', 'merchant', 'affidavit', 'affidavit', 'alteration', 'application', 'application', 'application', 'bank', 'bank', 'bank', 'bankruptcy', 'bankruptcy', 'deposit', 'deposit', 'deposit', 'collateral', 'collateral', 'debit', 'draft', 'draft', 'draft', 'escrow', 'escrow', 'escrow', 'fiduciary', 'fiduciary', 'hold', 'hold', 'hold', 'lender', 'lien', 'payment', 'payment', 'payment', 'refund', 'refund', 'renewal', 'renewal', 'renewal', 'statement', 'statement', 'statement', 'transfer', 'transfer', 'transfer']\n",
      "[3, 2, 9, 37, 68, 6, 3, 57, 7, 3, 6, 19, 7, 5, 3, 4, 1, 5, 4, 8, 8, 3, 4, 1, 5, 1, 9, 7, 3, 6, 6, 17, 6, 2, 1, 1, 9, 2, 9, 10, 6, 6, 15, 2, 70, 92, 55, 7, 2, 184, 124, 114, 14, 17, 5, 3, 1, 4, 1, 8, 5, 7, 1, 12, 16, 2, 1, 10, 7, 12, 1, 1, 5, 2, 7, 2, 4, 4, 1, 3, 45, 35, 66, 1, 1, 5, 2, 3, 2, 2, 1, 34, 22, 35, 4, 8, 5, 1, 3, 1, 10, 3, 1, 34, 109, 50, 1, 1, 2, 1, 7, 6, 10, 25, 8, 8, 7, 9, 17, 12, 4, 5, 9, 2, 3, 3, 4, 11, 1, 2, 3, 1, 4, 2, 49, 31, 40, 3, 1, 5, 1, 8, 7, 8, 1, 1, 1, 16, 7, 30, 1, 3, 2, 4, 3, 8, 4, 2, 2, 26, 101, 42, 4, 2, 8, 36, 15, 26, 8, 3, 6, 127, 75, 86, 74, 71, 89, 1, 10, 2, 7, 11, 5, 27, 1, 15, 16, 33, 1, 3, 6, 5, 22, 29, 35, 1, 2, 3, 8, 5, 31, 11, 9, 30, 16, 23, 17, 5, 3, 1, 1, 1, 1, 8, 5, 16, 1, 29, 19, 17, 2, 14, 6, 6, 9, 31, 10, 3, 1, 1, 2, 3, 1, 5, 1, 48, 46, 79, 37, 27, 25, 4, 4, 1, 2, 1, 1, 3, 6, 13, 8, 1, 79, 52, 131, 11, 14, 13, 156, 106, 95, 4, 3, 1, 72, 68, 74, 7, 6, 6, 69, 83, 106, 2, 3, 8, 1, 5, 51, 78, 82, 4, 1, 2, 4, 1, 2, 2, 4, 1, 4, 3, 21, 28, 39, 1, 1, 1, 1, 10, 4, 9, 8, 5, 1, 17, 20, 13, 2, 16, 3, 9, 23, 5, 6, 2, 5, 2, 23, 15, 4, 3, 2, 12, 1, 7, 4, 1, 4, 2, 46, 61, 89, 2, 1, 2, 3, 7, 3, 5, 4, 6, 3, 16, 1, 1, 1, 27, 42, 67, 14, 3, 15, 2, 1, 2, 1, 2, 1, 1, 1, 12, 6, 15, 4, 1, 4, 1, 1, 7, 15, 11, 1, 2, 11, 3, 9, 4, 5, 2, 3, 2, 11, 5, 24, 10, 3, 7]\n"
     ]
    }
   ],
   "source": [
    "label = []\n",
    "word = []\n",
    "freq = []\n",
    "for i in c2list:\n",
    "    k=0\n",
    "    while(k<len(reg)):\n",
    "        r = reg[k]\n",
    "        if(i == r[1]):\n",
    "            if(r[2] != 0):\n",
    "                label.append(r[0])\n",
    "                word.append(i)\n",
    "                freq.append(r[2])\n",
    "        k=k+1\n",
    "print(label)\n",
    "print(word)\n",
    "print(freq)"
   ]
  },
  {
   "cell_type": "code",
   "execution_count": 67,
   "metadata": {},
   "outputs": [],
   "source": [
    "f_0 = 0\n",
    "f_1 = 0\n",
    "f_2 = 0\n",
    "t=-1\n",
    "for i in label:\n",
    "    t=t+1\n",
    "    if(i==0):\n",
    "        f_0 = f_0 + freq[t]\n",
    "    elif(i==1):\n",
    "        f_1 = f_1 + freq[t]\n",
    "    else:\n",
    "        f_2 = f_2 + freq[t]"
   ]
  },
  {
   "cell_type": "code",
   "execution_count": 85,
   "metadata": {},
   "outputs": [
    {
     "name": "stdout",
     "output_type": "stream",
     "text": [
      "30.554704259883543\n",
      "34.135367762128325\n",
      "31.297982503124445\n"
     ]
    }
   ],
   "source": [
    "#Percentage wrt frequency of other accounting terms within cluster\n",
    "sum0=0\n",
    "sum1=0\n",
    "sum2=0\n",
    "#sum3=0\n",
    "\n",
    "i=0\n",
    "while(i<len(label)):\n",
    "    if(label[i] == 0):\n",
    "        sum0 = sum0 + freq[i]\n",
    "    elif(label[i] == 1):\n",
    "        sum1 = sum1 + freq[i]\n",
    "    #elif(label[i] == 2):\n",
    "    #    sum2 = sum2 + freq[i]\n",
    "    else:\n",
    "        sum2 = sum2 + freq[i]\n",
    "    i=i+1\n",
    "s0=0\n",
    "s1=0\n",
    "s2=0\n",
    "#s3=0\n",
    "\n",
    "s0 = sum0/c0\n",
    "s1 = sum1/c1\n",
    "s2 = sum2/c2\n",
    "#s3 = sum3/c3\n",
    "\n",
    "print(s0*100)\n",
    "print(s1*100)\n",
    "print(s2*100)\n",
    "#print(s3*100)"
   ]
  },
  {
   "cell_type": "code",
   "execution_count": 86,
   "metadata": {},
   "outputs": [
    {
     "name": "stdout",
     "output_type": "stream",
     "text": [
      "36.907815002175255\n",
      "31.68619188881402\n",
      "30.983747957755845\n"
     ]
    }
   ],
   "source": [
    "#Percentage wrt global frequency of accounting terms\n",
    "t1=0\n",
    "t2=0\n",
    "t0=0\n",
    "#t3=0\n",
    "\n",
    "count1 = 0\n",
    "count2 = 0\n",
    "count0 = 0\n",
    "#count3=0\n",
    "l=0\n",
    "while(l<len(word)):\n",
    "    #r = reg[l]\n",
    "    if(label[l] == 0):\n",
    "        f=0\n",
    "        for i in tlist:\n",
    "            if(i == word[l]):\n",
    "                t0 = t0 + freq[l]/flist[f]\n",
    "                count0 = count0+1\n",
    "                break\n",
    "            f=f+1\n",
    "        #if(d==0):\n",
    "        #    t0 = t0 + 1\n",
    "        #    count0 = count0+1\n",
    "    elif(label[l] == 1):\n",
    "        f=0\n",
    "        for i in tlist:\n",
    "            if(i == word[l]):\n",
    "                t1 = t1 + freq[l]/flist[f]\n",
    "                count1 = count1+1\n",
    "                break\n",
    "            f=f+1\n",
    "        #if(d==0):\n",
    "        #    t1 = t1 + 1\n",
    "        #    count1 = count1+1\n",
    "    #elif(label[l] == 2):\n",
    "    #    f=0\n",
    "    #    for i in tlist:\n",
    "    #        if(i == word[l]):\n",
    "    #            t2 = t2 + freq[l]/flist[f]\n",
    "    #            count2 = count2+1\n",
    "    #            break\n",
    "    #        f=f+1\n",
    "        #if(d==0):\n",
    "        #    t2 = t2 + 1\n",
    "        #    count2 = count2+1\n",
    "    else:\n",
    "        f=0\n",
    "        for i in tlist:\n",
    "            if(i == word[l]):\n",
    "                t2 = t2 + freq[l]/flist[f]\n",
    "                count2 = count2+1\n",
    "                break\n",
    "            f=f+1\n",
    "        #if(d==0):\n",
    "        #    t3 = t3 + 1\n",
    "        #    count3 = count3+1\n",
    "    l=l+1\n",
    "\n",
    "s0 = t0/count0\n",
    "s1 = t1/count1\n",
    "s2 = t2/count2\n",
    "#s3 = t3/count3\n",
    "\n",
    "print(s0*100)\n",
    "print(s1*100)\n",
    "print(s2*100)\n",
    "#print(s3*100)"
   ]
  }
 ],
 "metadata": {
  "kernelspec": {
   "display_name": "Python 3",
   "language": "python",
   "name": "python3"
  },
  "language_info": {
   "codemirror_mode": {
    "name": "ipython",
    "version": 3
   },
   "file_extension": ".py",
   "mimetype": "text/x-python",
   "name": "python",
   "nbconvert_exporter": "python",
   "pygments_lexer": "ipython3",
   "version": "3.7.3"
  }
 },
 "nbformat": 4,
 "nbformat_minor": 4
}
