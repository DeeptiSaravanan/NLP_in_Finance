{
  "nbformat": 4,
  "nbformat_minor": 0,
  "metadata": {
    "colab": {
      "name": "AO Extraction",
      "provenance": [],
      "collapsed_sections": []
    },
    "kernelspec": {
      "name": "python3",
      "display_name": "Python 3"
    }
  },
  "cells": [
    {
      "cell_type": "code",
      "metadata": {
        "id": "0SvlsDWutMJZ",
        "colab_type": "code",
        "colab": {}
      },
      "source": [
        "import os\n",
        "import re"
      ],
      "execution_count": null,
      "outputs": []
    },
    {
      "cell_type": "code",
      "metadata": {
        "id": "dw0DMizbtY5t",
        "colab_type": "code",
        "colab": {
          "base_uri": "https://localhost:8080/",
          "height": 34
        },
        "outputId": "ef7a9f7e-4e4d-4351-b4e1-dad8d3f1a429"
      },
      "source": [
        "import spacy\n",
        "from spacy.matcher import Matcher\n",
        "#import en_core_web_lg\n",
        "import en_core_web_sm\n"
      ],
      "execution_count": null,
      "outputs": [
        {
          "output_type": "stream",
          "text": [
            "2.1.8\n"
          ],
          "name": "stdout"
        }
      ]
    },
    {
      "cell_type": "code",
      "metadata": {
        "id": "bc9agU333zUv",
        "colab_type": "code",
        "colab": {
          "base_uri": "https://localhost:8080/",
          "height": 292
        },
        "outputId": "5f6a670b-a4f2-49ef-c3ef-9b09ddc09a46"
      },
      "source": [
        "!python -m spacy download en_core_web_sm\n"
      ],
      "execution_count": null,
      "outputs": [
        {
          "output_type": "stream",
          "text": [
            "Collecting en_core_web_sm==2.1.0\n",
            "\u001b[?25l  Downloading https://github.com/explosion/spacy-models/releases/download/en_core_web_sm-2.1.0/en_core_web_sm-2.1.0.tar.gz (11.1MB)\n",
            "\u001b[K     |████████████████████████████████| 11.1MB 3.8MB/s \n",
            "\u001b[?25hBuilding wheels for collected packages: en-core-web-sm\n",
            "  Building wheel for en-core-web-sm (setup.py) ... \u001b[?25l\u001b[?25hdone\n",
            "  Created wheel for en-core-web-sm: filename=en_core_web_sm-2.1.0-cp36-none-any.whl size=11074435 sha256=2da1df0062bee99ecb0900ec96b8b2f5baeb6ac8eb33a9de372325bcc997935a\n",
            "  Stored in directory: /tmp/pip-ephem-wheel-cache-fqb4z8iv/wheels/39/ea/3b/507f7df78be8631a7a3d7090962194cf55bc1158572c0be77f\n",
            "Successfully built en-core-web-sm\n",
            "Installing collected packages: en-core-web-sm\n",
            "  Found existing installation: en-core-web-sm 2.2.5\n",
            "    Uninstalling en-core-web-sm-2.2.5:\n",
            "      Successfully uninstalled en-core-web-sm-2.2.5\n",
            "Successfully installed en-core-web-sm-2.1.0\n",
            "\u001b[38;5;2m✔ Download and installation successful\u001b[0m\n",
            "You can now load the model via spacy.load('en_core_web_sm')\n"
          ],
          "name": "stdout"
        }
      ]
    },
    {
      "cell_type": "code",
      "metadata": {
        "id": "2E4Rkqf0rHs0",
        "colab_type": "code",
        "colab": {
          "base_uri": "https://localhost:8080/",
          "height": 136
        },
        "outputId": "2009fd4c-ce4b-40fe-d118-57adef3be38f"
      },
      "source": [
        "!pip install tika\n"
      ],
      "execution_count": null,
      "outputs": [
        {
          "output_type": "stream",
          "text": [
            "Requirement already satisfied: tika in /usr/local/lib/python3.6/dist-packages (1.24)\n",
            "Requirement already satisfied: setuptools in /usr/local/lib/python3.6/dist-packages (from tika) (49.2.0)\n",
            "Requirement already satisfied: requests in /usr/local/lib/python3.6/dist-packages (from tika) (2.23.0)\n",
            "Requirement already satisfied: urllib3!=1.25.0,!=1.25.1,<1.26,>=1.21.1 in /usr/local/lib/python3.6/dist-packages (from requests->tika) (1.24.3)\n",
            "Requirement already satisfied: idna<3,>=2.5 in /usr/local/lib/python3.6/dist-packages (from requests->tika) (2.10)\n",
            "Requirement already satisfied: chardet<4,>=3.0.2 in /usr/local/lib/python3.6/dist-packages (from requests->tika) (3.0.4)\n",
            "Requirement already satisfied: certifi>=2017.4.17 in /usr/local/lib/python3.6/dist-packages (from requests->tika) (2020.6.20)\n"
          ],
          "name": "stdout"
        }
      ]
    },
    {
      "cell_type": "code",
      "metadata": {
        "id": "O4yFRiAgrS8q",
        "colab_type": "code",
        "colab": {}
      },
      "source": [
        "from tika import parser \n",
        "\n",
        "raw = parser.from_file('./Data/1404800252689.pdf')\n",
        "text = raw['content']"
      ],
      "execution_count": null,
      "outputs": []
    },
    {
      "cell_type": "code",
      "metadata": {
        "id": "sr7oSrc5sw-_",
        "colab_type": "code",
        "colab": {}
      },
      "source": [
        "#All AO orders start with a background subsection \n",
        "header_index = text.lower().find('background')\n",
        "#print(header_index)\n",
        "text_header = text[:header_index]\n",
        "text = text[header_index:]\n",
        "points_split = re.split(\"\\n[0-9]?[0-9]\\.\\s\",text)\n",
        "num_of_points = len(points_split)\n",
        "#print(text_header)"
      ],
      "execution_count": null,
      "outputs": []
    },
    {
      "cell_type": "code",
      "metadata": {
        "id": "p6xDVwo1VJ4X",
        "colab_type": "code",
        "colab": {}
      },
      "source": [
        "\n",
        "\n",
        "\n",
        "def preprocess(pt):\n",
        "  pt = re.sub('\\[.*\\]','',pt)\n",
        "  pt = re.sub('\\(.*\\)','',pt)\n",
        "  pt = re.sub('\\n','',pt)\n",
        "  pt = re.sub('Order\\%.*\\%.',\"\",pt)\n",
        "  pt = re.sub('Microsoft Word',\"\",pt)  \n",
        "  pt = re.sub('\\sPage\\s[0-9]\\sof\\s[0-9]?[0-9]\\s','',pt)\n",
        "  pt = re.sub('.*docx','',pt)\n",
        "  pt = re.sub('_*_','',pt)\n",
        "  pt = re.sub('/',' ',pt)\n",
        "  pt = re.sub('\\sPage\\s[0-9]','',pt)\n",
        "  pt = re.sub('[0-9]?[0-9]\\.','',pt)\n",
        "  pt = pt.lstrip()\n",
        "  pt = pt.rstrip()\n",
        "  return pt\n",
        "\n",
        "pre_processed_header = preprocess(text_header)"
      ],
      "execution_count": null,
      "outputs": []
    },
    {
      "cell_type": "code",
      "metadata": {
        "id": "y7MbSWOpW9by",
        "colab_type": "code",
        "colab": {
          "base_uri": "https://localhost:8080/",
          "height": 54
        },
        "outputId": "36fa24ce-e6ae-4614-b304-552b6e0c2d90"
      },
      "source": [
        "print(pre_processed_header)"
      ],
      "execution_count": null,
      "outputs": [
        {
          "output_type": "stream",
          "text": [
            "AO order  Orchid Chemicals and Pharmaceuticals Senthil Kumar  BEFORE THE ADJUDICATING OFFICER SECURITIES AND EXCHANGE BOARD OF INDIA   [ADJUDICATION ORDER NO. PGUNDER SECTION 15-I OF SECURITIES AND EXCHANGE BOARD OF INDIA ACT, 1992 READ WITH RULE 5 OF SECURITIES AND EXCHANGE BOARD OF INDIA (PROCEDURE FOR HOLDING INQUIRY AND IMPOSING PENALTIES BY ADJUDICATING  RULES, 1995  AO SPV 71 2012]  In respect of  Mr. Senthil Kumar U.P.                                In the matter of            M s Orchid Chemicals and Pharmaceuticals Limited\n"
          ],
          "name": "stdout"
        }
      ]
    },
    {
      "cell_type": "code",
      "metadata": {
        "id": "v_KsLyeNtgG_",
        "colab_type": "code",
        "colab": {}
      },
      "source": [
        "nlp = en_core_web_sm.load()\n",
        "matcher = Matcher(nlp.vocab)\n",
        "doc = nlp(pre_processed_header)\n",
        "#print(doc)"
      ],
      "execution_count": null,
      "outputs": []
    },
    {
      "cell_type": "code",
      "metadata": {
        "id": "7bW4WYcScBAJ",
        "colab_type": "code",
        "colab": {
          "base_uri": "https://localhost:8080/",
          "height": 51
        },
        "outputId": "01072562-9b45-4718-d0ec-7ad27ad72c32"
      },
      "source": [
        "pattern_names = [{\"LOWER\": \"in\"}, {\"LEMMA\": \"respect\"},{\"LEMMA\": \"of\"}]\n",
        "matcher.add(\"Names\", None, pattern_names)\n",
        "matches = matcher(doc)\n",
        "for match_id, start, end in matches:\n",
        "  names_start = end \n",
        "\n",
        "pattern_company = [{\"LOWER\": \"in\"}, {\"LEMMA\": \"the\"},{\"LEMMA\": \"matter\"}, {\"LEMMA\": \"of\"}]\n",
        "matcher.add(\"Names\", None, pattern_company)\n",
        "matches = matcher(doc)\n",
        "for match_id, start, end in matches:\n",
        "  names_end = start\n",
        "  company_starts = end\n",
        "\n",
        "tokens = [token.text for token in doc] \n",
        "print(f'The names of the Noticees is/are {\" \".join(tokens[names_start:names_end])}')\n",
        "print(f'The name of the company is {\" \".join(tokens[company_starts:])}')\n",
        "\n",
        "\n"
      ],
      "execution_count": null,
      "outputs": [
        {
          "output_type": "stream",
          "text": [
            "The names of the Noticees is/are   Mr. Senthil Kumar U.P.                                \n",
            "The name of the company is             M s Orchid Chemicals and Pharmaceuticals Limited\n"
          ],
          "name": "stdout"
        }
      ]
    },
    {
      "cell_type": "code",
      "metadata": {
        "id": "mztj7FtBhq0Y",
        "colab_type": "code",
        "colab": {
          "base_uri": "https://localhost:8080/",
          "height": 51
        },
        "outputId": "e2b991f9-715e-4d13-b6d6-d1d277afdf85"
      },
      "source": [
        "#validating spacys NER \n",
        "names_spacy = [ent for ent in doc.ents if ent.label_ == \"PERSON\"]\n",
        "print(names_spacy)\n",
        "Organization_spacy = [ent for ent in doc.ents if ent.label_ == \"ORG\"]\n",
        "print(Organization_spacy)"
      ],
      "execution_count": null,
      "outputs": [
        {
          "output_type": "stream",
          "text": [
            "[Kumar  , READ, Senthil Kumar]\n",
            "[AO, SECURITIES AND, Orchid Chemicals and Pharmaceuticals Limited]\n"
          ],
          "name": "stdout"
        }
      ]
    },
    {
      "cell_type": "code",
      "metadata": {
        "id": "_qsOf_57tDO-",
        "colab_type": "code",
        "colab": {
          "base_uri": "https://localhost:8080/",
          "height": 54
        },
        "outputId": "6abe4390-bf38-418c-abc2-65238c37222a"
      },
      "source": [
        "def footer_preprocess(pt):\n",
        "  pt = re.sub('\\n','',pt)\n",
        "  pt = re.sub('Order\\%.*\\%.',\"\",pt)\n",
        "  pt = re.sub('\\sPage\\s[0-9]\\sof\\s[0-9]?[0-9]\\s',\"\",pt)\n",
        "  pt = pt.lstrip()\n",
        "  pt = pt.rstrip()\n",
        "  pt = \" \".join(pt.split())\n",
        "  return pt\n",
        "\n",
        "footer_pre_processed = footer_preprocess(points_split[num_of_points-1])\n",
        "print(footer_pre_processed)"
      ],
      "execution_count": null,
      "outputs": [
        {
          "output_type": "stream",
          "text": [
            "In terms of the Rule 6 of the Adjudication Rules, copies of this order are sent to the Noticee and also to the Securities and Exchange Board of India. The matter is disposed of accordingly. DATE: November 29, 2012 PIYOOSH GUPTA PLACE: Mumbai ADJUDICATING OFFICER BEFORE THE ADJUDICATING OFFICER\n"
          ],
          "name": "stdout"
        }
      ]
    },
    {
      "cell_type": "code",
      "metadata": {
        "id": "ge2NTc_Q2DX3",
        "colab_type": "code",
        "colab": {
          "base_uri": "https://localhost:8080/",
          "height": 51
        },
        "outputId": "f00f1f31-502f-465d-d478-ad016d64ceb6"
      },
      "source": [
        "doc = nlp(footer_pre_processed)\n",
        "pattern_place = [{\"LOWER\": \"place\"}, {'IS_PUNCT': True}]\n",
        "matcher.add(\"place\", None, pattern_place)\n",
        "matches = matcher(doc)\n",
        "for match_id, start, end in matches:\n",
        "  place_index = end\n",
        "tokens = [token.text for token in doc]\n",
        "print(f\"The place is {tokens[place_index]}\")\n",
        "\n",
        "#Only complete rule \n",
        "pattern_date = [{'LOWER': 'date'},\n",
        "          {'IS_PUNCT': True},\n",
        "          {'ENT_TYPE': 'DATE'},\n",
        "          {'ENT_TYPE': 'DATE'},\n",
        "          {'IS_PUNCT': True},\n",
        "          {'IS_DIGIT': True}]\n",
        "matcher.add(\"date\",None,pattern_date)\n",
        "matches = matcher(doc)\n",
        "for match_id, start, end in matches:\n",
        "  if tokens[start+2:end]:\n",
        "    print(f\"The date is {' '.join(tokens[start+2:end])}\")"
      ],
      "execution_count": null,
      "outputs": [
        {
          "output_type": "stream",
          "text": [
            "The place is Mumbai\n",
            "The date is November 29 , 2012\n"
          ],
          "name": "stdout"
        }
      ]
    },
    {
      "cell_type": "code",
      "metadata": {
        "id": "w9pi28iU71TY",
        "colab_type": "code",
        "colab": {
          "base_uri": "https://localhost:8080/",
          "height": 68
        },
        "outputId": "8a1ab4ae-e13f-459c-9841-d09bddf9fe88"
      },
      "source": [
        "#validating spacys NER \n",
        "\n",
        "locations_spacy = [ent for ent in doc.ents if ent.label_ == \"LOC\"]\n",
        "print(locations_spacy)\n",
        "Gpe_spacy = [ent for ent in doc.ents if ent.label_ == \"GPE\"]\n",
        "print(Gpe_spacy)\n",
        "dates_spacy = [ent for ent in doc.ents if ent.label_ == \"DATE\"]\n",
        "print(dates_spacy)\n"
      ],
      "execution_count": null,
      "outputs": [
        {
          "output_type": "stream",
          "text": [
            "[]\n",
            "[India, Mumbai]\n",
            "[November 29, 2012]\n"
          ],
          "name": "stdout"
        }
      ]
    },
    {
      "cell_type": "code",
      "metadata": {
        "id": "rEnS6OY252Xu",
        "colab_type": "code",
        "colab": {
          "base_uri": "https://localhost:8080/",
          "height": 34
        },
        "outputId": "3e884605-9981-4133-a289-7b951addbeef"
      },
      "source": [
        "results = re.findall('\\n\\n[Aa1iI]\\.',points_split[4].lower())\n",
        "print(results)"
      ],
      "execution_count": null,
      "outputs": [
        {
          "output_type": "stream",
          "text": [
            "['\\n\\na.']\n"
          ],
          "name": "stdout"
        }
      ]
    },
    {
      "cell_type": "code",
      "metadata": {
        "id": "IpM8Bew32IrO",
        "colab_type": "code",
        "colab": {
          "base_uri": "https://localhost:8080/",
          "height": 445
        },
        "outputId": "bf3f3274-f6c3-4e31-bee7-4e96f6918139"
      },
      "source": [
        "!pip3 install https://blackstone-model.s3-eu-west-1.amazonaws.com/en_blackstone_proto-0.0.1.tar.gz\n",
        "\n"
      ],
      "execution_count": null,
      "outputs": [
        {
          "output_type": "stream",
          "text": [
            "Collecting https://blackstone-model.s3-eu-west-1.amazonaws.com/en_blackstone_proto-0.0.1.tar.gz\n",
            "  Using cached https://blackstone-model.s3-eu-west-1.amazonaws.com/en_blackstone_proto-0.0.1.tar.gz\n",
            "Requirement already satisfied (use --upgrade to upgrade): en-blackstone-proto==0.0.1 from https://blackstone-model.s3-eu-west-1.amazonaws.com/en_blackstone_proto-0.0.1.tar.gz in /usr/local/lib/python3.6/dist-packages\n",
            "Requirement already satisfied: spacy>=2.1.6 in /usr/local/lib/python3.6/dist-packages (from en-blackstone-proto==0.0.1) (2.1.8)\n",
            "Requirement already satisfied: preshed<2.1.0,>=2.0.1 in /usr/local/lib/python3.6/dist-packages (from spacy>=2.1.6->en-blackstone-proto==0.0.1) (2.0.1)\n",
            "Requirement already satisfied: requests<3.0.0,>=2.13.0 in /usr/local/lib/python3.6/dist-packages (from spacy>=2.1.6->en-blackstone-proto==0.0.1) (2.23.0)\n",
            "Requirement already satisfied: wasabi<1.1.0,>=0.2.0 in /usr/local/lib/python3.6/dist-packages (from spacy>=2.1.6->en-blackstone-proto==0.0.1) (0.7.1)\n",
            "Requirement already satisfied: plac<1.0.0,>=0.9.6 in /usr/local/lib/python3.6/dist-packages (from spacy>=2.1.6->en-blackstone-proto==0.0.1) (0.9.6)\n",
            "Requirement already satisfied: numpy>=1.15.0 in /usr/local/lib/python3.6/dist-packages (from spacy>=2.1.6->en-blackstone-proto==0.0.1) (1.18.5)\n",
            "Requirement already satisfied: thinc<7.1.0,>=7.0.8 in /usr/local/lib/python3.6/dist-packages (from spacy>=2.1.6->en-blackstone-proto==0.0.1) (7.0.8)\n",
            "Requirement already satisfied: srsly<1.1.0,>=0.0.6 in /usr/local/lib/python3.6/dist-packages (from spacy>=2.1.6->en-blackstone-proto==0.0.1) (1.0.2)\n",
            "Requirement already satisfied: cymem<2.1.0,>=2.0.2 in /usr/local/lib/python3.6/dist-packages (from spacy>=2.1.6->en-blackstone-proto==0.0.1) (2.0.3)\n",
            "Requirement already satisfied: blis<0.3.0,>=0.2.2 in /usr/local/lib/python3.6/dist-packages (from spacy>=2.1.6->en-blackstone-proto==0.0.1) (0.2.4)\n",
            "Requirement already satisfied: murmurhash<1.1.0,>=0.28.0 in /usr/local/lib/python3.6/dist-packages (from spacy>=2.1.6->en-blackstone-proto==0.0.1) (1.0.2)\n",
            "Requirement already satisfied: urllib3!=1.25.0,!=1.25.1,<1.26,>=1.21.1 in /usr/local/lib/python3.6/dist-packages (from requests<3.0.0,>=2.13.0->spacy>=2.1.6->en-blackstone-proto==0.0.1) (1.24.3)\n",
            "Requirement already satisfied: chardet<4,>=3.0.2 in /usr/local/lib/python3.6/dist-packages (from requests<3.0.0,>=2.13.0->spacy>=2.1.6->en-blackstone-proto==0.0.1) (3.0.4)\n",
            "Requirement already satisfied: certifi>=2017.4.17 in /usr/local/lib/python3.6/dist-packages (from requests<3.0.0,>=2.13.0->spacy>=2.1.6->en-blackstone-proto==0.0.1) (2020.6.20)\n",
            "Requirement already satisfied: idna<3,>=2.5 in /usr/local/lib/python3.6/dist-packages (from requests<3.0.0,>=2.13.0->spacy>=2.1.6->en-blackstone-proto==0.0.1) (2.10)\n",
            "Requirement already satisfied: tqdm<5.0.0,>=4.10.0 in /usr/local/lib/python3.6/dist-packages (from thinc<7.1.0,>=7.0.8->spacy>=2.1.6->en-blackstone-proto==0.0.1) (4.41.1)\n",
            "Building wheels for collected packages: en-blackstone-proto\n",
            "  Building wheel for en-blackstone-proto (setup.py) ... \u001b[?25l\u001b[?25hdone\n",
            "  Created wheel for en-blackstone-proto: filename=en_blackstone_proto-0.0.1-cp36-none-any.whl size=243759404 sha256=d99a0b46a5fffc1c06c1a570c24bdbd7523dac586c1467926aa0d3929a5eaa19\n",
            "  Stored in directory: /root/.cache/pip/wheels/a2/81/dd/09c3b4ef7899e7d9cf92ed3152d29a08b5fd80f7a8bf66df4d\n",
            "Successfully built en-blackstone-proto\n"
          ],
          "name": "stdout"
        }
      ]
    },
    {
      "cell_type": "code",
      "metadata": {
        "id": "TzwOHEKp2jW7",
        "colab_type": "code",
        "colab": {}
      },
      "source": [
        "import en_blackstone_proto"
      ],
      "execution_count": null,
      "outputs": []
    },
    {
      "cell_type": "code",
      "metadata": {
        "id": "AD_9J1pK54PP",
        "colab_type": "code",
        "colab": {
          "base_uri": "https://localhost:8080/",
          "height": 34
        },
        "outputId": "e644020f-31a6-4391-d9c2-093ce0d2e7e2"
      },
      "source": [
        "\n",
        "matcher = Matcher(nlp.vocab)\n",
        "for pt in points_split[1:num_of_points-1]:\n",
        "  doc = nlp(pt)\n",
        "  tokens = [token.text for token in doc]\n",
        "  pattern_regulations_one = [{'LOWER': 'a.'},\n",
        "            {'LOWER': 'whether'}]\n",
        "  pattern_regulations_two = [{'LOWER': 'a)'},\n",
        "            {'LOWER': 'whether'}]\n",
        "  pattern_regulations_three = [{'LOWER': '1.'},\n",
        "            {'LOWER': 'whether'}]\n",
        "  pattern_regulations_four = [{'LOWER': '1)'},\n",
        "            {'LOWER': 'whether'}]\n",
        "\n",
        "  matcher.add(\"RegRule1\",None,pattern_regulations_one)\n",
        "  matcher.add(\"RegRule2\",None,pattern_regulations_two)\n",
        "  matcher.add(\"RegRule3\",None,pattern_regulations_three)\n",
        "  matcher.add(\"RegRule4\",None,pattern_regulations_four)\n",
        "  matches = matcher(doc)\n",
        "  if len(matches)>0:\n",
        "    print(\"found\")\n",
        "\n",
        "#load blackstone and run where found get a list of regulations \n",
        "#Use file to write \n",
        "#notice the irregularities \n",
        "\n",
        "    \n"
      ],
      "execution_count": null,
      "outputs": [
        {
          "output_type": "stream",
          "text": [
            "found\n"
          ],
          "name": "stdout"
        }
      ]
    },
    {
      "cell_type": "code",
      "metadata": {
        "id": "IK31FuNe872M",
        "colab_type": "code",
        "colab": {
          "base_uri": "https://localhost:8080/",
          "height": 289
        },
        "outputId": "a97c574a-7579-45fa-8f68-f0e1ce023632"
      },
      "source": [
        "all_files = []\n",
        "is_found = False\n",
        "\n",
        "for path,dirname,filenames in os.walk('/content/drive/My Drive/SEBI /Orders'):\n",
        "  for names in filenames:\n",
        "    all_files.append(os.path.join(path,names))\n",
        "\n",
        "all_regulation_text = []\n",
        "for document in all_files:\n",
        "  is_found == False\n",
        "  raw = parser.from_file(document)\n",
        "  text = raw['content']with\n",
        "  #All AO orders start with a background subsection \n",
        "  header_index = text.lower().find('background')\n",
        "  if header_index == -1:\n",
        "    header_index = text.lower().find('facts')\n",
        "  #print(header_index)\n",
        "  text_header = text[:header_index]\n",
        "  text = text[header_index:]\n",
        "  points_split = re.split(\"\\n[0-9]?[0-9]\\.\\s\",text)\n",
        "  num_of_points = len(points_split)\n",
        "  #print(text_header)\n",
        "  nlp = en_core_web_sm.load()\n",
        "  matcher = Matcher(nlp.vocab)\n",
        "  regulation_text_point = []\n",
        "  for pt in points_split[1:num_of_points-1]:\n",
        "    is_found = False \n",
        "    pt = re.sub('\\n',' ',pt)\n",
        "    doc = nlp(pt)\n",
        "    tokens = [token.text for token in doc]\n",
        "    pattern_regulations_one = [{'LOWER': 'a.'},\n",
        "              {'LOWER': 'whether'}]\n",
        "    pattern_regulations_two = [{'ORTH': 'a'},\n",
        "           {'IS_PUNCT': True},\n",
        "           {'IS_PUNCT': True, 'OP': '?'},\n",
        "           {'LOWER': 'whether'}]\n",
        "    pattern_regulations_three = [{'LOWER': '1.'},\n",
        "              {'LOWER': 'whether'}]\n",
        "    pattern_regulations_four = [{'ORTH': '1'},\n",
        "           {'IS_PUNCT': True},\n",
        "           {'LOWER': 'whether'}]\n",
        "    pattern_regulations_five = [{'LOWER': '1)'},\n",
        "              {'LOWER': 'whether'}]\n",
        "    pattern_regulations_six = [{'ORTH': 'i'},\n",
        "           {'IS_PUNCT': True},\n",
        "           {'IS_PUNCT': True, 'OP': '?'},\n",
        "           {'LOWER': 'whether'}]\n",
        "    pattern_regulations_seven = [{'IS_PUNCT': False, 'IS_ALPHA': False, 'IS_DIGIT': False, 'IS_ASCII': False},\n",
        "           {'LOWER': 'whether'}]\n",
        "    matcher.add(\"RegRule1\",None,pattern_regulations_one)\n",
        "    matcher.add(\"RegRule2\",None,pattern_regulations_two)\n",
        "    matcher.add(\"RegRule3\",None,pattern_regulations_three)\n",
        "    matcher.add(\"RegRule4\",None,pattern_regulations_four)\n",
        "    matcher.add(\"RegRule5\",None,pattern_regulations_five)\n",
        "    matcher.add(\"RegRule6\",None,pattern_regulations_six)\n",
        "    matcher.add(\"RegRule7\",None,pattern_regulations_seven)\n",
        "\n",
        "    matches = matcher(doc)\n",
        "    if len(matches)>0:\n",
        "      print(\"found\")\n",
        "      regulation_text_point.append(pt)\n",
        "  all_regulation_text.append((regulation_text_point,document))\n",
        "\n",
        "  \n",
        "  \n",
        "\n",
        "   "
      ],
      "execution_count": null,
      "outputs": [
        {
          "output_type": "stream",
          "text": [
            "found\n",
            "found\n",
            "found\n",
            "found\n",
            "found\n",
            "found\n",
            "found\n",
            "found\n",
            "found\n",
            "found\n",
            "found\n",
            "found\n",
            "found\n",
            "found\n",
            "found\n",
            "found\n"
          ],
          "name": "stdout"
        }
      ]
    },
    {
      "cell_type": "code",
      "metadata": {
        "id": "7UXbwDy42mLS",
        "colab_type": "code",
        "colab": {
          "base_uri": "https://localhost:8080/",
          "height": 989
        },
        "outputId": "f4d64c07-98b3-4122-e8d1-3b6116496a06"
      },
      "source": [
        "nlp = en_blackstone_proto.load()\n",
        "for regtext in all_regulation_text:\n",
        "\n",
        "  total_ents = []\n",
        "  print(regtext[0])\n",
        "  for text in regtext[0]:\n",
        "    doc = nlp(text)\n",
        "    for ent in doc.ents:\n",
        "      if ent.label_ == 'PROVISION':\n",
        "        total_ents.append(ent.text)\n",
        "\n",
        "  print(total_ents)\n",
        "  print(regtext[1],end=\"\\n\")\n"
      ],
      "execution_count": null,
      "outputs": [
        {
          "output_type": "stream",
          "text": [
            "['On perusal of the Show Cause Notice, and other material available on record, I have the  following issues for consideration, viz,      (1) Whether the noticee has violated Regulations 3 (a) (b) (c) & (d), 4 (1), (2) (a) (d) (k) and   (r) of SEBI (PFUTP) Regulations 2003.  (2) Whether the noticee has violated Section 11C(3) read with 11C(2) of the SEBI Act.  (3) Whether the noticee has violated Regulation 13(4) read with 13(5) of SEBI (PIT)   Regulations, 1992  (4) Whether the noticee is liable for monetary penalty under sections. 15HA and 15A (a) &   (b) of SEBI Act, 1992. .  (5) What quantum of monetary penalty should be imposed on the noticee, taking into   consideration the factors mentioned in section 15J of SEBI Act     FINDINGS  ']\n",
            "['Regulations 3', 'Section 11C(3)', 'Regulation 13(4)', 'section 15J']\n",
            "/content/drive/My Drive/SEBI /Orders/1404287891786.pdf\n",
            "\n",
            "['I have carefully perused the documents available on record and   the submissions of the Noticee. The issues that arise for   consideration in the present case are:   a. Whether the Noticee has violated the provisions of Clause   4.2 of Part A, Schedule I under Regulation 12 (1) of PIT   Regulations?.   b. Does the violation, if any, on the part of the Noticee attract   penalty under section 15HB of SEBI Act?   c. If so, how much penalty should be imposed on the Noticee   taking into consideration the factors mentioned in section   15J of the SEBI Act?      ']\n",
            "['Regulation 12', 'section 15HB of', 'section   15J']\n",
            "/content/drive/My Drive/SEBI /Orders/1404800252689.pdf\n",
            "\n",
            "['I have carefully perused the charges made against the Noticees as mentioned in the SCN,   written  submissions and all the documents available on record. In the instant matter,   the following issues arise for consideration and determination:   a) Whether the Noticee at serial No. 1 has failed to comply with  Regulation 3 (i), (ii) & 4 of the PIT Regulations read with Regulation 12  (1), read with Clause 4.2 of Schedule I, Part A of the PIT Regulations  and Whether the Noticee at Serial No. 2 has failed to comply with  Regulation 3 (i), (ii) & 4 of the PIT Regulations?     b) Whether Noticee at serial No. 1 is liable for monetary penalty under   Sections 15 G and 15 HB of the SEBI Act and whether Noticee at Serial  No. 2 is liable for monetary penalty under Sections 15 G of the SEBI  Act?     c) If so, what should be the quantum of monetary penalty?    ', 'I find that in order to establish whether the Noticees have traded on the basis of UPSI   and have violated the PIT Regulations, the following issues must be established.     a. Whether there was unpublished price sensitive information?   b. Whether the Noticees were insiders under the PIT Regulations?   c. Whether they have traded ‘on the basis’ of the UPSI?      ']\n",
            "['Regulation 3', '& 4', 'Regulation 12', 'Clause 4.2', 'Regulation 3', '& 4', 'Sections 15', 'Sections 15']\n",
            "/content/drive/My Drive/SEBI /Orders/1404464407975.pdf\n",
            "\n",
            "['The issues that arise for consideration in the present case are :   a) Whether Noticees had violated the provisions of Section 12A(d) and   (e) of SEBI Act, 1992, Regulations 3(i) and (ii) read with Regulation   4 of  the PIT Regulations?   b) Whether Noticees had violated the provisions of Regulation 7(1A)   of the SAST Regulations?   c) Does the violation, if any, on the part of the Noticee attract   monetary penalty under Section 15A(b) and 15G of SEBI Act?       Adjudication order against PVP Energy Pvt. Ltd. and its Promoter-Director-Mr. Prasad V Potluri          Page 10 of 28     d) If so, what would be the monetary penalty that can be imposed   taking into consideration the factors mentioned in Section 15J of   SEBI Act?    FINDINGS  ']\n",
            "['Section 12A(d)', 'Regulation 7(1A', 'Section 15A(b)', 'Page 10', 'Section 15J']\n",
            "/content/drive/My Drive/SEBI /Orders/1427451086607.pdf\n",
            "\n",
            "[' The issues that arise for consideration in the present case are:   a. Whether the Noticees have violated the provisions of regulations   12(2) & 12(3) read with Clause 2.1 of Schedule II of PIT   Regulations and regulations 12 (1) & 12 (3) read with Clause 1.2   of Part A of Schedule I of PIT Regulations?.           Adjudication Order in the matter of MAN Industries (I) Limited  Page 5 of 19        March 28,2014          b. Do the violations, if any, on the part of the Noticees attract penalty   under section 15HB of SEBI Act?   c. If so, how much penalty should be imposed on the Noticees taking   into consideration the factors mentioned in section 15J of the SEBI   Act?      ', ' Now, before moving further, it is to be determined as to whether the   information relating to bagging of orders constitutes \\'price sensitive   information\\' within the meaning of provisions of regulation 2(ha) of the PIT   Regulations. As per regulation 2(ha) of the PIT Regulations \"price sensitive   information\\' means any information which relates directly or indirectly to a   company and which if published is likely to materially affect the price of   securities of company.    Explanation.- The following shall be deemed to be price sensitive information:-  (i) periodical financial results of the company;   (ii) intended declaration of dividend (both interim and final);   (iii) issue of securities or buy-back of securities;   (iv) any major expansion plans or execution of new projects;   (v) amalgamation, mergers and takeovers;   (vi) disposal of the whole or substantial part of the undertaking; and   (vii) significant changes in policies, plans or operations of the company\".         Adjudication Order in the matter of MAN Industries (I) Limited  Page 9 of 19        March 28,2014       I note that the definition of \\'price sensitive information\\' is broad enough to   cover within its ambit any information which if published is likely to materially   affect the price of securities of a company. In this regard, what is relevant to   be seen is that (i) whether the information directly or indirectly related to the   company and (ii) whether the information, if published, is likely to materially   affect the price of securities of a company. If the answers to these two   questions are in affirmative, then the information has to be construed as price   sensitive information irrespective of actual price witnessed post disclosure of   the information.       In the instant matter, from the material available on record, I note that the   company has vide its letters dated April 29, 2009 made corporate   announcement to both NSE and BSE wherein they announced securing a   prestigious order worth Rs 1340 crores from Middle East.  These orders   comprise of  two separate orders - one with Noroo Gustar for a value of 90   million euro  and the other with GRC for a value of 112 million euro. It is also   noted that the company recorded net sales turnover of 1883. 42 crore for the   year ended March 2009 and of Rs 1505.96 crores for the year ended March   2010.  Thus, it is evident that these orders constituted a substantial % of   turnover of the company. The company itself had stated in its letter to   exchanges that  \"MAN Industries (India) Limited, one of the leading Large   Diameter Pipe Manufacturing companies in the country, today announced   securing a prestigious order worth Rs. 1340 crore from middle east during the   current year\". The enormity and the magnitude of the orders is such that it   clearly constitutes price sensitive information and certainly it is impossible for   anyone to treat the information relating to bagging of orders of this magnitude   as one not materially affecting the share price of the company which has   received the orders. As such, in the instant case there cannot be any   hesitation in holding that the information about the bagging of orders was   directly relating to the company and would materially affect the price if   published.         Adjudication Order in the matter of MAN Industries (I) Limited  Page 10 of 19        March 28,2014       In this regard, I further note that the Noticees themselves have considered   bagging of orders of this kind would affect the price. For example, MAN   industries (Noticee No.1), vide its reply dated December 16, 2013, while   explaining /defending the delay in disseminating the information has stated as   under:      \".....it needs to be appreciated that any premature disclosure of information about any  order that is yet to attain finality would not be the interest of the company or even the   investors as the same could boomerang on our clients as they would be held liable for  intentionally misleading the investors by disclosing information about such an order   that is yet to be finalized\".        J C Mansukahni (Noticee No.3) in his reply dated February 11, 2014 has   stated as under:      \".........there were several other distinguishing factors regarding the order of Niroo  Gustar Institute as compared to any other Client, which required the company to be  more cautious and to disclose to the public at large the details of the order, once the   company was confident of its execution. Some of the factors are as under:      i. The order from Niroo Gustar Institute was a significant order to the tune of   90 million Euros.    ii. The order entailed huge raw material cost.   iii. Niroo Gustar Institute is located in Iran and at the relevant time there were   many restrictions imposed on trade with Iran.   iv. Niroo Gustar Institute was a new client and hence sine kind of financial   commitments in tune with the Article 7 of the agreement was required to n  treat the order as executable.     h. From the above factors it is clear that the contract of Niroo Gustar Institute  was an important contract and as a matter of abundant caution required to   be disclosed to the investors at large since the sane a significant  order.........\"      Thus, admittedly, when the company bagged the orders of this magnitude,   there existed a price sensitive information.         Adjudication Order in the matter of MAN Industries (I) Limited  Page 11 of 19        March 28,2014       Further the company itself chose to inform the stock exchanges regarding the   bagging of the said orders and this fact only shows that the company had,   undisputedly, considered information relating to bagging of orders to be   constituting price sensitive information. I also note that the scrip of the   company closed at 4.74 % higher price than the opening price on April 29,   2009 and there was also a quantum jump in the volume traded in the scrip   from 1,20,446 shares to 2,64,668 shares.       Thus, I hold that the information relating to bagging of orders by the company   as stated above was indeed a price sensitive information.      ']\n",
            "['Clause 2.1', 'Schedule II', 'regulations 12', '& 12', 'Clause 1.2', 'Page 5', 'section 15HB of', 'section 15J', 'regulation 2(ha)', 'regulation 2(ha)', 'Article 7', 'Page 11']\n",
            "/content/drive/My Drive/SEBI /Orders/1404297629677.pdf\n",
            "\n",
            "['I have carefully perused the charges made against the Noticees as mentioned in the SCN,   written and oral submissions and all the documents available on record. In the instant   matter, the following issues arise for consideration and determination:   a) Whether the Noticee at serial No. 1 has failed to comply with  Regulation 3 (i), (ii) & 4 read with Regulation 12 (1), read with Clause  4.2 of Schedule I, Part A of the PIT Regulations and Whether the  Noticee at Serial No. 2 has failed to comply with Regulation 3 (i), (ii) &  4 of the PIT Regulations?     b) Whether Noticee at serial No. 1 is liable for monetary penalty under   Sections 15 G and 15 HB of the SEBI Act and whether the Noticee at  Serial No. 2 is liable for monetary penalty under Section 15 G of the  SEBI Act?     c) If so, what should be the quantum of monetary penalty?    ', 'In order to examine as to whether the Noticees have traded on the   basis of UPSI and have violated the Insider Trading Regulations, the following issues   must be established.     a. Whether there was any UPSI?   b. Whether the Noticees were insiders under the PIT Regulations?   c. Whether the Noticees traded ‘on the basis’ of the UPSI?     ']\n",
            "['Regulation 3', 'Regulation 12', 'Regulation 3', 'Sections 15', 'Section 15']\n",
            "/content/drive/My Drive/SEBI /Orders/1404464457988.pdf\n",
            "\n",
            "['The issues that, therefore, arise for consideration in the present case are:    a. Whether the Noticees have violated the provision of Regulations 12 (1) read with Clause   1.2 under Part A of Schedule I of the PIT Regulations, 1992?   b. Does the violation, if any, attract monetary penalty under Section 15 HB of SEBI Act?   c. If so, what would be the monetary penalty that can be imposed taking into   consideration the factors mentioned in Section 15J of SEBI Act?      -------------------------------------------------------------------------------------------------------------------------------------------------- Adjudication Order in the matter of Falcon Tyres Ltd.                                                                             Page 13 of 25      FINDINGS  ']\n",
            "['Regulations 12', 'Section 15', 'Section 15J']\n",
            "/content/drive/My Drive/SEBI /Orders/1404470735980.pdf\n",
            "\n",
            "['I have carefully perused the documents available on record, written and oral   submissions made by the Noticee. The issues that arise for consideration in the   present case are:   a. Whether the Noticee has violated the provisions of Regulation   3 (i) of the PIT Regulations read with Section 12A (d) and (e)   of the SEBI Act?    b. Does the violation, if any, on the part of the Noticee attract   penalty under section 15G of SEBI Act?   c. If so, how much penalty should be imposed on the Noticee   taking into consideration the factors mentioned in section 15J   of the SEBI Act?           Adjudication order in respect of TAN Murti in the matter of SCSL Page 6 of 13       ']\n",
            "['Regulation   3', 'Section 12A', 'section 15', 'section 15J   ', 'Page 6']\n",
            "/content/drive/My Drive/SEBI /Orders/1404444629445.pdf\n",
            "\n",
            "['I have carefully perused the charges against the Noticee mentioned   in the SCN, the submissions of the Noticee and the documents   available on record. The issue that arises for consideration in the   present case is stated and determined, as follows:        Adjudication Order in respect of Mythili Balasubramanian in the matter of Suzlon Energy Limited                      Page 4 of 7     \\uf0a7 Whether the Noticee has violated Clause 1.2 of Model code of   Conduct in Part A, Schedule I provided under Regulation 12(1)   of the PIT Regulations?     ']\n",
            "['Page 4', 'Clause 1.2', 'Regulation 12(1)']\n",
            "/content/drive/My Drive/SEBI /Orders/1407404374671.pdf\n",
            "\n",
            "[]\n",
            "[]\n",
            "/content/drive/My Drive/SEBI /Orders/1404291134181.pdf\n",
            "\n",
            "['The issues that arise for consideration in the present case are:     a). Whether Noticee had violated regulations 3 (i), (ii) and 4 of PIT   Regulations?      b). Does the violation, if any, on the part of Noticee attract monetary penalty   under sections 15G SEBI Act?      c) If so, what would the monetary penalty be that can be imposed taking into   consideration the factors mentioned in section 15J of SEBI Act?       Before moving forward, it will be appropriate to refer to the relevant provisions   which read as under:      “Prohibition on dealing, communicating or counseling on matters relating to   insider trading     ']\n",
            "['regulations 3', 'section 15J']\n",
            "/content/drive/My Drive/SEBI /Orders/1404723207350.pdf\n",
            "\n",
            "['The issues that arise for consideration in the present case are:   a) Whether the Noticee had violated regulations 3(a), 3 (c) and 4 (1) and 4   (2) (e) of the PFUTP and section 12A of SEBI Act?    b) Does the violation, if any, on the part of the Noticee attract monetary   penalty under section 15 HA of SEBI Act?     Page 5 of 18   c) Whether the Noticee had violated regulation 13 (4) read with 13(5) of PIT?    d) Does the violation, if any, on the part of the Noticee attract monetary   penalty under section 15 A(b) of SEBI Act?   e) If so, what would be the monetary penalty that can be imposed taking into   consideration the factors mentioned in section 15J of SEBI Act?      ']\n",
            "['regulations 3(a)', 'section 12A', 'section 15', 'Page 5', 'regulation 13', 'section 15', 'section 15J']\n",
            "/content/drive/My Drive/SEBI /Orders/1405074996313.pdf\n",
            "\n",
            "['I have carefully perused the written and oral submissions of the   Noticee and the documents available on record. The issues that   arise for consideration in the present case are :       (i) Whether the Noticee was holding more than 5% of the   shares of MSFL prior to sale of the shares?   (ii) Whether the Noticee attracted the disclosure   requirements under regulation 13(3) read with regulation   13(5) of SEBI (PIT)?   (iii) If so, whether the Noticee had complied with the same or   not?   (iv) Does the non-compliance, if any, on the part of the   Noticee attract monetary penalty under section 15A(b) of   SEBI Act?   (v) If so, what would be the monetary penalty that can be   imposed taking into consideration the factors mentioned   in section 15J of SEBI Act?      ']\n",
            "['regulation 13(3)', 'regulation   13(5', 'section 15A(b)', 'section 15J']\n",
            "/content/drive/My Drive/SEBI /Orders/1404801027938.pdf\n",
            "\n",
            "['I have carefully perused the written and oral submissions of the   Noticee and the documents available on record. The issues that arise   for consideration in the present case are :       (i) Whether the Noticee was holding more than 5% of the shares of   IECL prior to sale of the shares?   (ii) Whether the Noticee attracted the disclosure requirements   under regulation 13(3) read with regulation 13(5) of SEBI (PIT)?   (iii)  If so, whether the Noticee had complied with the same or not?        Page 4 of 9   (iv) Does the non-compliance, if any, on the part of the Noticee   attract monetary penalty under section 15A(b) of SEBI Act?   (v) If so, what would be the monetary penalty that can be imposed   taking into consideration the factors mentioned in section 15J of   SEBI Act?      ']\n",
            "['regulation 13(3)', 'regulation 13(5)', 'Page 4', 'section 15A(b)', 'section 15J']\n",
            "/content/drive/My Drive/SEBI /Orders/1405072562921.pdf\n",
            "\n"
          ],
          "name": "stdout"
        }
      ]
    },
    {
      "cell_type": "code",
      "metadata": {
        "id": "dtiw1D9x_kwx",
        "colab_type": "code",
        "colab": {}
      },
      "source": [
        ""
      ],
      "execution_count": null,
      "outputs": []
    }
  ]
}