{
 "cells": [
  {
   "cell_type": "code",
   "execution_count": 11,
   "metadata": {},
   "outputs": [
    {
     "data": {
      "text/plain": [
       "['tagger', 'parser', 'ner']"
      ]
     },
     "execution_count": 11,
     "metadata": {},
     "output_type": "execute_result"
    }
   ],
   "source": [
    "import spacy\n",
    "nlp=spacy.load('en_core_web_sm')\n",
    "\n",
    "nlp.pipe_names"
   ]
  },
  {
   "cell_type": "code",
   "execution_count": 12,
   "metadata": {},
   "outputs": [
    {
     "name": "stdout",
     "output_type": "stream",
     "text": [
      "English LANGUAGE\n",
      "Hindi GPE\n",
      "vernacular newspaper(s GPE\n"
     ]
    }
   ],
   "source": [
    "# article_text = 'issue advertisements in an English and a Hindi newspaper having nationwide circulation and if so directed by the Recovery Officer, issue such advertisement in vernacular newspaper(s) having circulation in the area(s) where the investors are concentrated'\n",
    "article_text = 'issue advertisements in an English and a Hindi newspaper having nationwide circulation and if so directed by the Recovery Officer, issue such advertisement in vernacular newspaper(s) having circulation in the area(s) where the investors are concentrated'\n",
    "\n",
    "doc=nlp(article_text)\n",
    "for ent in doc.ents:\n",
    "  print(ent.text,ent.label_)"
   ]
  },
  {
   "cell_type": "code",
   "execution_count": 13,
   "metadata": {},
   "outputs": [],
   "source": [
    "ner=nlp.get_pipe(\"ner\")"
   ]
  },
  {
   "cell_type": "markdown",
   "metadata": {},
   "source": [
    "Ujwal's annotations"
   ]
  },
  {
   "cell_type": "code",
   "execution_count": 15,
   "metadata": {},
   "outputs": [
    {
     "name": "stdout",
     "output_type": "stream",
     "text": [
      "[('\"NOTE: It is intended that disclosure of trades would need to be of not only those executed by the person concerned but also by the immediate relatives and of other persons for whom the person concerned takes trading decisions. These regulations are primarily aimed at preventing abuse by trading when in possession of unpublished price sensitive information and therefore, what matters is whether the person who takes trading decisions is in possession of such information rather than whether the person who has title to the trades is in such possession.', {'entities': [(132, 151, 'PER')]}), ('\"(4)The disclosures made under this Chapter shall be maintained by the company, for a minimum period of five years, in such form as may be specified.', {'entities': [(67, 78, 'ORG')]}), ('(a). Every promoter 21[, member of the promoter group] , key managerial personnel and director of every company whose securities are listed on any recognised stock exchange shall disclose his holding of securities of the company as on the date of these regulations taking effect, to the company within thirty days of these regulations taking effect;', {'entities': [(11, 19, 'PER')]}), ('(b). Every person on appointment as a key managerial personnel or a director of the company or upon becoming a 22[promoter or member of the promoter group] shall disclose his holding of securities of the company as on the date of appointment or becoming a promoter, to the company within seven days of such appointment or becoming a promoter.', {'entities': [(38, 62, 'PER')]}), ('(a). Every promoter 23[, member of the promoter group], 24[designated person] and director of every company shall disclose to the company the number of such securities acquired or disposed of within two trading days of such transaction if the value of the securities traded, whether in one transaction or a series of transactions over any calendar quarter, aggregates to a traded value in excess of ten lakh rupees or such other value as may be specified;', {'entities': [(11, 19, 'PER')]}), ('(b). Every company shall notify the particulars of such trading to the stock exchange on which the securities are listed within two trading days of receipt of the disclosure or from becoming aware of such information.', {'entities': [(11, 18, 'ORG')]}), ('21Inserted by Securities and Exchange Board of India (Prohibition of Insider Trading) (Amendment) Regulations, 2019 (w.e.f. January 21, 2019)', {'entities': [(14, 52, 'ORG')]}), ('\"(3)Any company whose securities are listed on a stock exchange may, at its discretion require any other connected person or class of connected persons to make disclosures of holdings and trading in securities of the company in such form and at such frequency as may be determined by the company in order to monitor compliance with these regulations.', {'entities': [(8, 15, 'ORG')]}), ('\"NOTE: This is an enabling provision for listed companies to seek information from those to whom it has to provide unpublished price sensitive information. This provision confers discretion on any company to seek such information. For example, a listed company may ask that a management consultant who would advise it on corporate strategy and would need to review unpublished price sensitive information, should make disclosures of his trades to the company.', {'entities': [(41, 57, 'ORG')]}), ('\"(1) An Informant shall submit Original Information by furnishing the Voluntary Information Disclosure Form to the Office of Informant Protection of the Board in the format and manner set out in Schedule D. The Voluntary Information Disclosure Form may be submitted through informant’s legal representative:', {'entities': [(8, 17, 'PER')]}), ('\"Provided that where the Informant does not submit the Voluntary Information Disclosure Form through a legal representative, the Board may require such Informant to appear in person to ascertain his/her identity and the veracity of the information so provided.', {'entities': [(25, 34, 'PER')]}), ('\"Explanation. – Where any information pertaining to any violation of the Securities Laws is received in a manner not in accordance with the manner provided under these regulations, the Board may require such information to be filed with it in accordance with these regulations or reject the same.', {'entities': [(181, 190, 'ORG')]}), ('\"(2)The legal representative shall,-', {'entities': [(4, 28, 'PER')]}), ('i.Verify the identity and contact details of the Informant;', {'entities': [(49, 58, 'PER')]}), ('ii.Unless otherwise required by the Board, maintain confidentiality of the identity and existence of the Informant, including the original Voluntary Information Disclosure Form;', {'entities': [(32, 41, 'ORG')]}), ('(b)Has obtained a irrevocable consent from the Informant to provide to the Board with original Voluntary Information Disclosure Form whenever required by the Board; and', {'entities': [(47, 56, 'PER')]}), ('(c)Agrees to be legally obligated to provide the original Voluntary Information Disclosure Form within seven (7) calendar days of receiving such requests from the Board.', {'entities': [(159, 168, 'ORG')]}), ('iv.Submits to the Board, the copy of the Voluntary Information Disclosure Form in the manner provided in Schedule D of these regulations along with a signed certificate as required under clause (iii) of this sub-regulation (2).', {'entities': [(14, 24, 'ORG')]}), ('\"(1) The Board may designate a division to function as the independent Office of Informant Protection.', {'entities': [(5, 14, 'MISC')]}), ('\"(2)The Office of Informant Protection shall perform such functions as may be specified by the Board, including,-', {'entities': [(4, 27, 'ORG')]}), ('ii.Making all necessary communications with the Informant;', {'entities': [(48, 57, 'PER')]}), ('iii.Maintaining a hotline for the benefit of potential Informant;', {'entities': [(45, 64, 'PER')]}), ('iv.Maintaining confidentiality of the legal representative of the Informant and act as an interface between the Informant and the officers of the Board;', {'entities': [(38, 75, 'PER')]}), ('v.Interacting with the Informant Incentive Committee;', {'entities': [(22, 52, 'ORG')]}), ('vi.Issuing press releases and rewards relating to Informant; and', {'entities': [(50, 59, 'PER')]}), ('vii.Submitting an annual report to the Board relating to the functioning of the Office of Informant Protection.', {'entities': [(35, 44, 'ORG')]}), ('\"(3)On receipt of the Voluntary Information Disclosure Form, the Office of Informant Protection shall communicate the substance of the information along with the evidence submitted by the informant to the relevant department or division of the Board for examination and initiation of necessary action, if any.', {'entities': [(65, 95, 'ORG')]}), ('\"(1) Upon collection or substantial recovery of the monetary sanctions amounting to at least twice the Reward, the Board may at its sole discretion, declare an Informant eligible for Reward and intimate the Informant or his or her legal representative to file an application in the format provided in Schedule-E for claiming such Reward:', {'entities': [(110, 121, 'ORG')]}), ('\"Provided that the amount of Reward shall be ten percent of the monetary sanctions collected or recovered and shall not exceed Rupees One crore or such higher amount as the Board may specify from time to time:', {'entities': [(169, 178, 'ORG')]}), ('\"Provided further that the Board may if deemed fit, out of the total Reward payable, grant an interim reward not exceeding Rupees Ten lacs or such higher amount as the Board may specify from time to time, on the issue of final order by the Board against the person directed to disgorge.', {'entities': [(23, 32, 'ORG')]}), ('\"(2)In case of more than one Informant jointly providing the Original Information, the Reward, as specified in the intimation under sub-regulation (1), shall be divided equally amongst the total number of Informants.', {'entities': [(29, 38, 'PER')]}), ('\"(3)The Reward under these regulations shall be paid from the Investor Protection and Education Fund.', {'entities': [(62, 100, 'MISC')]}), ('\"(1) The amount of the Reward, if payable, shall be determined by the Board.', {'entities': [(66, 75, 'ORG')]}), ('\"(2)While determining the amount of Reward under sub-regulation (1), the Board may specify the factors that may be taken into consideration by the Informant Incentive Committee.', {'entities': [(69, 78, 'ORG')]}), ('\"(3)An Informant may be eligible for a Reward whether or not he reported the matter to his organization as per its internal legal and compliance procedures and irrespective of such', {'entities': [(7, 16, 'PER')]}), ('\"organization’s compliance officer subsequently providing the same Information to the Board.', {'entities': [(1, 34, 'PER')]}), ('\"(1) Informants who are considered tentatively eligible for a Reward, shall submit the Informant Reward Claim Form set out in Schedule E to the Board within the period specified in the intimation sent by the Board.', {'entities': [(5, 15, 'PER')]}), ('\"(2)Prior to the payment of a Reward, an Informant shall directly or through his or her legal representative, disclose his or her identity and provide such other information as the Board may require.', {'entities': [(41, 50, 'PER')]}), ('\"7G. No Reward shall be made to an Informant:-', {'entities': [(35, 44, 'PER')]}), ('(2)who has acquired the Original Information, through or as a member, officer, or an employee', {'entities': [(62, 68, 'PER')]}), ('(i)any regulatory agency constituted by or under any law in India or outside India, including the Board;', {'entities': [(94, 103, 'ORG')]}), ('(ii)any self-regulatory organization;', {'entities': [(24, 36, 'ORG')]}), ('(iii)the surveillance or investigation wings of any recognised stock exchange or clearing corporation; or', {'entities': [(52, 77, 'ORG')]}), ('(iv)any law enforcement organization including the police or any central or state revenue authorities.', {'entities': [(8, 36, 'ORG')]}), ('(3)against whom the Board may initiate or has initiated criminal proceedings under securities laws;', {'entities': [(16, 25, 'ORG')]}), ('(4)who wilfully refused to cooperate with the Board during its course of investigation, inquiry, audit, examination or other proceedings under securities laws;', {'entities': [(42, 51, 'ORG')]}), ('(6)who is obligated, under any law or otherwise, to report such Original Information to the Board, including a compliance officer under securities laws.', {'entities': [(111, 130, 'ORG')]}), ('\"(1) Any information including Original Information may, at the discretion of the Board, be made available:', {'entities': [(78, 87, 'ORG')]}), ('(a)when it is required to be disclosed in connection with any legal proceedings in furtherance of the Board’s legal position;', {'entities': [(98, 110, 'ORG')]}), ('\"(2)Original Information may, at the discretion of the Board, be made available to -', {'entities': [(51, 60, 'ORG')]}), ('(i)any regulatory agency constituted by or under any law in India or outside India;', {'entities': [(7, 25, 'ORG')]}), ('(ii)any self-regulatory organization;', {'entities': [(8, 36, 'ORG')]}), ('(iii)the surveillance or investigation wings of any recognised stock exchange or clearing corporation; or', {'entities': [(52, 77, 'ORG')]}), ('(iv)any law enforcement organization including the police or any central or state revenue authorities; or', {'entities': [(8, 37, 'ORG')]}), ('(v)a public prosecutor in connection with any criminal proceedings.', {'entities': [(5, 22, 'PER')]}), ('Provided that sharing of information shall be in accordance with such assurances of confidentiality as the Board determines appropriate.', {'entities': [(103, 112, 'ORG')]}), ('Explanation - Nothing in these regulations is intended to limit, or shall be construed to limit, the ability of the public prosecutor to share such evidence with potential witnesses or accused in connection with any criminal proceedings.', {'entities': [(116, 133, 'PER')]}), ('\"(3)The Original Information and identity provided by an Informant shall be held in confidence and exempted from disclosure under clauses (g) and (h) of sub-section (1) of section 8 of the Right to Information Act, 2005 (No. 22 of 2005).', {'entities': [(57, 66, 'PER')]}), ('\"(4)Subject to the law of evidence for the time being in force, nothing in these regulations shall prejudice the right of the Board to use or to rely on information received otherwise.', {'entities': [(121, 131, 'ORG')]}), ('\"(5)No person shall have the right to compel disclosure of the identity, existence of an Informant or the information provided by an Informant, except to the extent relied upon in any proceeding initiated against such person by the Board.', {'entities': [(89, 98, 'PER')]}), ('\"Explanation 1. – The confidentiality in respect of the identity and existence of the Informant shall be maintained throughout the process of investigation, inquiry and examination as well as during any proceedings before the Board and save where the evidence of the Informant is required during such proceedings, advance notice of such evidence may be provided to the noticee at least seven (7) working days prior to the date of the scheduled hearing for evidence.', {'entities': [(86, 95, 'PER')]}), ('\"(1) Every person required to have a Code of Conduct under these regulations shall ensure that such a Code of Conduct provides for suitable protection against any discharge, termination, demotion, suspension, threats, harassment, directly or indirectly or discrimination against any employee who files a Voluntary Information Disclosure Form, irrespective of whether the information is considered or rejected by the Board or he or she is eligible for a Reward under these regulations, by reason of:', {'entities': [(11, 17, 'PER')]}), ('(ii)testifying in, participating in, or otherwise assisting or aiding the Board in any investigation, inquiry, audit, examination or proceeding instituted or about to be instituted for an alleged violation of insider trading laws or in any manner aiding the enforcement action taken by the Board; or', {'entities': [(70, 79, 'ORG')]}), ('(iii)breaching any confidentiality agreement or provisions of any terms and conditions of employment or engagement solely to prevent any employee from cooperating with the', {'entities': [(137, 145, 'PER')]}), ('Board in any manner.', {'entities': [(0, 5, 'ORG')]}), ('Explanation 1. - For the purpose of this Chapter, “employee” means any individual who during employment may become privy to information relating to violation of insider trading laws and files a Voluntary Information Disclosure Form under these regulations and is a director, partner, regular or contractual employee, but does not include an advocate.', {'entities': [(51, 59, 'PER')]}), ('Explanation 2. - Nothing in this regulation shall require the employee to establish that,-', {'entities': [(62, 70, 'PER')]}), ('(i)the Board has taken up any enforcement action in furtherance of information provided by such person; or', {'entities': [(3, 12, 'PER')]}), ('\"(2)Nothing in these regulations shall prohibit any Informant who believes that he or she has been subject to retaliation or victimisation by his or her employer, from approaching the competent court or tribunal for appropriate relief.', {'entities': [(52, 61, 'PER')]}), ('\"(3)Notwithstanding anything contained in sub-regulation (2), any employer who violates this Chapter may be liable for penalty, debarment, suspension, and/or criminal prosecution by the Board, as the case may be:', {'entities': [(66, 74, 'ORG')]}), ('\"(1) Any term in an agreement (oral or written) or Code of Conduct, is void in so far as it purports to preclude any person, other than an advocate, from submitting to the Board information relating to the violation of the securities laws that has occurred, is occurring or has a reasonable belief that it would occur.', {'entities': [(51, 66, 'MISC')]}), ('\"(2)No person shall by way of any threat or act impede an individual from communicating with the Board, including enforcing or threatening to enforce, a confidentiality agreement (other than agreements related to legal representations of a client and communications there under) with respect to such communications.', {'entities': [(7, 13, 'PER')]}), ('\"Explanation. - No employer shall require an employee to notify him of any Voluntary Information Disclosure Form filed with the Board or to seek its prior permission or consent or guidance of any person engaged by the employer before or after such filing.', {'entities': [(19, 27, 'ORG')]}), ('\"(2)Where an action against an Informant is deemed appropriate the Board may take into account the co-operation rendered in the final determination of any penalty, sanction, direction or settlement thereof, as the case may be.', {'entities': [(31, 40, 'PER')]}), ('\"(3)Where an action against an Informant is deemed appropriate, the Board while determining the value of monetary sanctions shall not take into account the monetary sanctions that the Informant is ordered to pay or that which any other person is ordered to pay if the liability of such other person is based substantially on the conduct that the Informant directed, planned, or initiated.', {'entities': [(31, 40, 'PER')]}), ('\"(4)An Informant who may be liable for enforcement action by the Board based on his or her conduct in connection with securities laws violations reported in the Voluntary Information Disclosure Form filed with the Board, may simultaneously or at any time thereafter file an application seeking settlement with confidentiality under Chapter IX of the Securities and Exchange Board of India (Settlement Proceedings) Regulations, 2018.', {'entities': [(7, 16, 'PER')]}), ('\"(5)Notwithstanding any action taken by the Board against an Informant, the Informant may, after payment of any monetary amounts be eligible for a Reward.', {'entities': [(61, 70, 'PER')]}), ('\"(1) The Informant Incentive Committee shall be assisted by the Office of Informant Protection.', {'entities': [(64, 94, 'PER')]}), ('\"(2)The Informant Incentive Committee shall give its recommendations to the Board on the following matters,-', {'entities': [(8, 37, 'ORG')]}), ('i.Eligibility of Informant for reward;', {'entities': [(17, 26, 'PER')]}), ('iii.Such other issues relating to Informant as the Board may require from time to time.', {'entities': [(34, 43, 'PER')]}), ('\"(1) The Board shall upload on its website the following,-', {'entities': [(5, 14, 'ORG')]}), ('i.Annual report of the Office of Informant Protection;', {'entities': [(23, 53, 'ORG')]}), ('ii.Press release informing the public that an intimation to the Informant has been issued under Regulation 7D;', {'entities': [(64, 73, 'ORG')]}), ('iii.Press release informing the public that a Reward has been paid under these regulations and the amount of Monetary Sanctions recovered pursuant to the information provided by the Informant;', {'entities': [(182, 191, 'PER')]}), ('Explanation. – Nothing in this regulation shall require the Board to disclose information that could identify the Informant or the information provided by the Informant.]', {'entities': [(56, 65, 'ORG')]}), ('\"(1) The board of directors of every company, whose securities are listed on a stock exchange, shall formulate and publish on its official website, a code of practices and procedures for fair disclosure of unpublished price sensitive information that it would follow in order to adhere to each of the principles set out in Schedule A to these regulations, without diluting the provisions of these regulations in any manner.', {'entities': [(9, 27, 'PER')]}), ('\"NOTE: This provision intends to require every company whose securities are listed on stock exchanges to formulate a stated framework and policy for fair disclosure of events and occurrences that could impact price discovery in the market for its securities. Principles such as, equality of access to information, publication of policies such as those on dividend, inorganic growth pursuits, calls and meetings with analysts, publication of transcripts of such calls and meetings, and the like are set out in the schedule.', {'entities': [(47, 54, 'PER')]}), ('\"(2)Every such code of practices and procedures for fair disclosure of unpublished price sensitive information and every amendment thereto shall be promptly intimated to the stock exchanges where the securities are listed.', {'entities': [(15, 47, 'MISC')]}), ('\"(1) The board of directors of every listed company and 26[the board of directors or head(s) of the organisation of every intermediary shall ensure that the chief executive officer or managing director] shall formulate a code of conduct 27[with their approval] to regulate, monitor and report trading by its 28[designated persons and immediate relatives of designated persons] towards achieving compliance with these regulations, adopting the minimum standards set out in Schedule B 29[(in case of a listed company) and Schedule C (in case of an intermediary)] to these regulations, without diluting the provisions of these regulations in any manner.', {'entities': [(8, 27, 'PER')]}), ('\"30[Explanation – For the avoidance of doubt it is clarified that intermediaries, which are listed, would be required to formulate a code of conduct to regulate, monitor and report trading by their designated persons, by adopting the minimum standards set out in Schedule B with respect to trading in their own securities and in Schedule C with respect to trading in other securities.]', {'entities': [(133, 149, 'MISC')]}), ('\"NOTE: It is intended that every company whose securities are listed on stock exchanges and every 31[intermediary] registered with SEBI is mandatorily required to formulate a code of conduct governing trading by 32[designated persons and their immediate relatives]. The standards set out in the 33[schedules] are required to be addressed by such code of conduct.', {'entities': [(33, 40, 'ORG')]}), ('\"26 Substituted for the words “market intermediary” by Securities and Exchange Board of India (Prohibition of Insider Trading) (Amendment) Regulations, 2018 (w.e.f. April 01, 2019)', {'entities': [(55, 93, 'ORG')]}), ('\"(2) 34[The board of directors or head(s) of the organisation, of every other person who is', {'entities': [(12, 30, 'PER')]}), ('\"required to handle unpublished price sensitive information in the course of business operations shall formulate a code of conduct to regulate, monitor and report trading by their designated persons and immediate relative of designated persons towards achieving compliance with these regulations, adopting the minimum standards set out in Schedule C to these regulations, without diluting the provisions of these regulations in any manner.', {'entities': [(112, 130, 'MISC')]}), ('\"Explanation - Professional firms such as auditors, accountancy firms, law firms, analysts, insolvency professional entities, consultants, banks etc., assisting or advising listed companies shall be collectively referred to as fiduciaries for the purpose of these regulations.]', {'entities': [(42, 50, 'PER')]}), ('\"NOTE: 35[This provision is intended to mandate persons other than listed companies and intermediaries that are required to handle unpublished price sensitive information to formulate a code of conduct governing trading in securities by their designated persons. These entities include professional firms such as auditors, accountancy firms, law firms, analysts, insolvency professional entities, consultants, banks etc., assisting or advising listed companies. Even entities that normally operate outside the capital market may handle unpublished price sensitive information. This provision would mandate all of them to formulate a code of conduct.]', {'entities': [(48, 55, 'PER')]}), ('\"“Every other person who is required to handle unpublished price sensitive information in the course of business operations shall formulate a code of conduct to regulate, monitor and report trading by employees and other connected persons towards achieving compliance with these regulations, adopting the minimum standards set out in Schedule B to these regulations, without diluting the provisions of these regulations in any manner.”', {'entities': [(14, 20, 'PER')]}), ('\"“This provision is intended to mandate persons other than listed companies and market intermediaries that are required to handle unpublished price sensitive information to formulate a code of conduct governing trading in securities by their employees. These entities include professional firms such as auditors, accountancy firms, law firms, analysts, consultants etc., assisting or advising listed companies, market intermediaries and other capital market participants. Even entities that normally operate outside the capital market may handle unpublished price sensitive information. This provision would mandate all of them to formulate a code of conduct.”', {'entities': [(40, 47, 'PER')]}), ('\"(3)Every listed company, 36[intermediary] and other persons formulating a code of conduct shall identify and designate a compliance officer to administer the code of conduct and other requirements under these regulations.', {'entities': [(10, 24, 'ORG')]}), ('\"NOTE: This provision is intended to designate a senior officer as the compliance officer with the responsibility to administer the code of conduct and monitor compliance with these regulations.', {'entities': [(48, 63, 'PER')]}), ('\"37[(4) For the purpose of sub regulation (1) and (2), the board of directors or such other analogous authority shall in consultation with the compliance officer specify the designated persons to be covered by the code of conduct on the basis of their role and function in the organisation and the access that such role and function would provide to unpublished price sensitive information in addition to seniority and professional designation and shall include:-', {'entities': [(59, 77, 'PER')]}), ('(i)Employees of such listed company, intermediary or fiduciary designated on the basis of their functional role or access to unpublished price sensitive information in the organization by their board of directors or analogous body;', {'entities': [(3, 12, 'PER')]}), ('(ii)Employees of material subsidiaries of such listed companies designated on the basis of their functional role or access to unpublished price sensitive information in the organization by their board of directors;', {'entities': [(4, 13, 'PER')]}), ('(iii)All promoters of listed companies and promoters who are individuals or investment companies for intermediaries or fiduciaries;', {'entities': [(9, 18, 'PER')]}), ('(iv)Chief Executive Officer and employees upto two levels below Chief Executive Officer of such listed company, intermediary, fiduciary and its material subsidiaries irrespective of their functional role in the company or ability to have access to unpublished price sensitive information;', {'entities': [(4, 27, 'PER')]}), ('9A. (1) The Chief Executive Officer, Managing Director or such other analogous person of a listed company, intermediary or fiduciary shall put in place adequate and effective system of internal controls to ensure compliance with the requirements given in these regulations to prevent insider trading.', {'entities': [(12, 35, 'PER')]}), ('(a). all employees who have access to unpublished price sensitive information are identified as designated person;', {'entities': [(9, 18, 'PER')]}), ('(d). lists of all employees and other persons with whom unpublished price sensitive information is shared shall be maintained and confidentiality agreements shall be signed or notice shall be served to all such employees and persons;', {'entities': [(18, 27, 'PER')]}), ('(4)The Audit Committee of a listed company or other analogous body for intermediary or fiduciary shall review compliance with the provisions of these regulations at least once in a financial year and shall verify that the systems for internal control are adequate and are operating effectively.', {'entities': [(3, 22, 'ORG')]}), ('10.Any contravention of these regulations shall be dealt with by the Board in accordance with the Act.', {'entities': [(65, 74, 'ORG')]}), ('40[11. (1) In order to remove any difficulties in the interpretation or application of the provisions of these regulations, the Board shall have the power to issue directions through guidance notes or circulars:', {'entities': [(123, 133, 'ORG')]}), ('Provided that where any direction is issued by the Board in a specific case relating to interpretation or application of any provision of these regulations, it shall be done only after affording a reasonable opportunity of being heard to the concerned persons and after recording reasons for the direction.]', {'entities': [(47, 56, 'ORG')]}), ('\"(1) The Securities and Exchange Board of India (Prohibition of Insider Trading) Regulations, 1992 are hereby repealed.', {'entities': [(9, 48, 'ORG')]}), ('\"40 Renumbered as 11 (1) by Securities and Exchange Board of India (Prohibition of Insider Trading) (Third Amendment) Regulations, 2019 (w.e.f. December 26, 2019)', {'entities': [(27, 66, 'ORG')]}), ('\"41 Inserted by Securities and Exchange Board of India (Prohibition of Insider Trading) (Third Amendment) Regulations, 2019 (w.e.f. December 26, 2019)', {'entities': [(16, 55, 'ORG')]}), ('\"(3)After the repeal of Securities and Exchange Board of India (Prohibition of Insider Trading) Regulations, 1992, any reference thereto in any other regulations made, guidelines or circulars issued thereunder by the Board shall be deemed to be a reference to the corresponding provisions of these regulations.', {'entities': [(24, 63, 'ORG')]}), ('\"(1) No insider shall communicate, provide, or allow access to any unpublished price sensitive information, relating to a company or securities listed or proposed to be listed, to any person including other insiders except where such communication is in furtherance of legitimate purposes, performance of duties or discharge of legal obligations.', {'entities': [(8, 15, 'PER'), (122, 129, 'PER'), (207, 215, 'PER')]}), ('\"NOTE: This provision is intended to cast an obligation on all insiders who are essentially persons in possession of unpublished price sensitive information to handle such information with care and to deal with the information with them when transacting their business strictly on a need-to-know basis. It is also intended to lead to organisations developing practices based on need-to-know principles for treatment of information in their possession.', {'entities': [(63, 71, 'PER')]}), ('\"(2)No person shall procure from or cause the communication by any insider of unpublished price sensitive information, relating to a company or securities listed or proposed to be listed, except in furtherance of legitimate purposes, performance of duties or discharge of legal obligations.', {'entities': [(67, 74, 'PER'), (133, 140, 'PER')]}), ('\"7[(2A) The board of directors of a listed company shall make a policy for determination of “legitimate purposes” as a part of “Codes of Fair Disclosure and Conduct” formulated under regulation 8.', {'entities': [(36, 51, 'ORG')]}), ('\"Explanation – For the purpose of illustration, the term “legitimate purpose” shall include sharing of unpublished price sensitive information in the ordinary course of business by an insider with', {'entities': [(184, 191, 'PER')]}), ('\"partners, collaborators, lenders, customers, suppliers, merchant bankers, legal advisors, auditors, insolvency professionals or other advisors or consultants, provided that such sharing has not been carried out to evade or circumvent the prohibitions of these regulations.]', {'entities': [(1, 9, 'PER'), (11, 24, 'PER'), (26, 33, 'PER'), (35, 44, 'PER'), (46, 55, 'PER'), (56, 73, 'PER'), (91, 99, 'PER'), (101, 125, 'PER'), (81, 89, 'PER'), (147, 158, 'PER')]}), ('\"8[(2B) Any person in receipt of unpublished price sensitive information pursuant to a “legitimate purpose” shall be considered an “insider” for purposes of these regulations and due notice shall be given to such persons to maintain confidentiality of such unpublished price sensitive information in compliance with these regulations.]', {'entities': [(132, 139, 'PER'), (12, 18, 'PER')]}), ('(i)entail an obligation to make an open offer under the takeover regulations where the board of directors of the listed company is of informed opinion that 10[sharing of such information] is in the best interests of the company;', {'entities': [(87, 105, 'PER'), (120, 127, 'ORG')]}), ('NOTE: It is intended to acknowledge the necessity of communicating, providing, allowing access to or procuring UPSI for substantial transactions such as takeovers, mergers and acquisitions involving trading in securities and change of control to assess a potential investment. In an open offer under the takeover regulations, not only would the same price be made available to all shareholders of the company but also all information necessary to enable an informed divestment or retention decision by the public shareholders is required to be made available to all shareholders in the letter of offer under those regulations.', {'entities': [(401, 408, 'PER'), (506, 525, 'PER')]}), ('(ii)not attract the obligation to make an open offer under the takeover regulations but where the board of directors of the 11[listed] company is of informed opinion 12[that sharing of such information] is in the best interests of the company and the information that constitute unpublished price sensitive information is disseminated to be made generally available at least two trading days prior to the proposed transaction being effected in such form as the board of directors may determine 13[to be adequate and fair to cover all relevant and material facts].', {'entities': [(127, 133, 'ORG'), (135, 142, 'ORG'), (98, 116, 'PER')]}), ('NOTE: It is intended to permit communicating, providing, allowing access to or procuring UPSI also in transactions that do not entail an open offer obligation under the takeover regulations 14[when authorised by the board of directors if sharing of such information] is in the best interests of the company. The board of directors, however, would cause public disclosures of such unpublished price sensitive information well before the proposed transaction to rule out any information asymmetry in the market.', {'entities': [(216, 234, 'PER'), (299, 306, 'PER')]}), ('\"(4)For purposes of sub-regulation (3), the board of directors shall require the parties to execute agreements to contract confidentiality and non-disclosure obligations on the part of such parties and such parties shall keep information so received confidential, except for the purpose of sub-regulation (3), and shall not otherwise trade in securities of the company when in possession of unpublished price sensitive information.', {'entities': [(44, 62, 'PER'), (361, 368, 'ORG')]}), ('\"15[(5) The board of directors shall ensure that a structured digital database is maintained containing the names of such persons or entities as the case may be with whom information is shared under this regulation along with the Permanent Account Number or any other identifier authorized by law where Permanent Account Number is not available. Such databases shall be', {'entities': [(12, 30, 'PER'), (117, 129, 'PER'), (133, 141, 'PER')]}), ('\"(1) No insider shall trade in securities that are listed or proposed to be listed on a stock exchange when in possession of unpublished price sensitive information:', {'entities': [(8, 15, 'PER'), (88, 102, 'ORG')]}), ('\"Provided that the insider may prove his innocence by demonstrating the circumstances including the following: –', {'entities': [(19, 26, 'PER')]}), ('(i)the transaction is an off-market inter-se transfer between 17[insiders] who were in possession of the same unpublished price sensitive information without being in breach of regulation 3 and both parties had made a conscious and informed trade decision.', {'entities': [(65, 73, 'PER'), (194, 206, 'PER')]}), ('Provided further that such off-market trades shall be reported by the insiders to the company within two working days. Every company shall notify the particulars of such trades to the stock exchange on which the securities are listed within two trading days from receipt of the disclosure or from becoming aware of such information.];', {'entities': [(70, 78, 'PER'), (86, 93, 'ORG'), (184, 198, 'ORG')]}), ('(a)the individuals who were in possession of such unpublished price sensitive information were different from the individuals taking trading decisions and such decision-making individuals were not in possession of such unpublished price sensitive information when they took the decision to trade; and', {'entities': [(3, 89, 'PER'), (110, 150, 'PER'), (160, 188, 'PER')]}), ('(b)appropriate and adequate arrangements were in place to ensure that these regulations are not violated and no unpublished price sensitive information was communicated by the individuals possessing the information to the individuals taking trading decisions and there is no evidence of such arrangements having been breached;', {'entities': [(218, 258, 'PER')]}), ('NOTE: When a person who has traded in securities has been in possession of unpublished price sensitive information, his trades would be presumed to have been motivated by the knowledge and awareness of such information in his possession. The reasons for which he trades or the purposes to which he applies the proceeds of the transactions are not intended to be relevant for determining whether a person has violated the regulation. He traded when in possession of unpublished price sensitive information is what would need to be demonstrated at the outset to bring a charge. Once this is established, it would be open to the insider to prove his innocence by demonstrating the circumstances mentioned in the proviso, failing which he would have violated the prohibition.', {'entities': [(10, 49, 'PER'), (621, 633, 'PER')]}), ('\"(1) An insider shall be entitled to formulate a trading plan and present it to the compliance officer for approval and public disclosure pursuant to which trades may be carried out on his behalf in accordance with such plan.', {'entities': [(8, 15, 'PER')]}), ('(i)not entail commencement of trading on behalf of the insider earlier than six months from the public disclosure of the plan;', {'entities': [(55, 62, 'PER')]}), ('NOTE: It is intended that to get the benefit of a trading plan, a cool-off period of six months is necessary. Such a period is considered reasonably long for unpublished price sensitive information that is in possession of the insider when formulating the trading plan, to become generally available. It is also considered to be a reasonable period for a time lag in which new unpublished price sensitive information may come into being without adversely affecting the trading plan formulated earlier. In any case, it should be remembered that this is only a statutory cool-off period and would not grant immunity from action if the insider were to be in possession of the same unpublished price sensitive information both at the time of formulation of the plan and implementation of the same.', {'entities': [(227, 234, 'PER')]}), ('(ii)not entail trading for the period between the twentieth trading day prior to the last day of any financial period for which results are required to be announced by the issuer of the securities and the second trading day after the disclosure of such financial results;', {'entities': [(168, 197, 'PER')]}), ('NOTE: Since the trading plan is envisaged to be an exception to the general rule prohibiting trading by insiders when in possession of unpublished price sensitive information, it is important that the trading plan does not entail trading for a reasonable period around the declaration of financial results as that would generate unpublished price sensitive information.', {'entities': [(12, 28, 'MISC')]}), ('NOTE: It is intended that it would be undesirable to have frequent announcements of trading plans for short periods of time rendering meaningless the defence of a', {'entities': []}), ('(iv)not entail overlap of any period for which another trading plan is already in existence;', {'entities': [(47, 67, 'MISC')]}), ('NOTE: It is intended that it would be undesirable to have multiple trading plans operating during the same time period. Since it would be possible for an insider to time the publication of the unpublished price sensitive information to make it generally available instead of timing the trades, it is important not to have the ability to initiate more than one plan covering the same time period.', {'entities': [(154, 161, 'PER')]}), ('NOTE: It is intended that while regulations should not be too prescriptive and rigid about what a trading plan should entail, they should stipulate certain basic parameters that a trading plan should conform to and within which, the plan may be formulated with full flexibility. The nature of the trades entailed in the trading plan i.e. acquisition or disposal should be set out. The trading plan may set out the value of securities or the number of securities to be invested or divested. Specific dates or specific time intervals may be set out in the plan.', {'entities': [(98, 110, 'MISC')]}), ('NOTE: Trading on the basis of such a trading plan would not grant absolute immunity from bringing proceedings for market abuse. For instance, in the event of manipulative timing of the release of unpublished price sensitive information to ensure that trading under a trading plan becomes lucrative in circumvention of regulation 4 being detected, it would be open to initiate proceedings for alleged breach of SEBI (Prohibition of', {'entities': [(37, 49, 'MISC'), (410, 414, 'ORG')]}), ('\"(3)The compliance officer shall review the trading plan to assess whether the plan would have any potential for violation of these regulations and shall be entitled to seek such express undertakings as may be necessary to enable such assessment and to approve and monitor the implementation of the plan.', {'entities': [(4, 26, 'PER'), (44, 56, 'MISC')]}), ('\"20[Provided that pre-clearance of trades shall not be required for a trade executed as per an approved trading plan.', {'entities': [(95, 116, 'MISC')]}), ('\"Provided further that trading window norms and restrictions on contra trade shall not be applicable for trades carried out in accordance with an approved trading plan.]', {'entities': [(146, 167, 'MISC')]}), ('\"NOTE: It is intended that the compliance officer would have to review and approve the plan. For doing so, he may need the insider to declare that he is not in possession of unpublished price sensitive information or that he would ensure that any unpublished price sensitive information in his possession becomes generally available before he commences executing his trades. Once satisfied, he may approve the trading plan, which would then have to be implemented in accordance with these regulations.', {'entities': [(27, 49, 'PER'), (123, 130, 'PER'), (410, 422, 'MISC')]}), ('\"(4)The trading plan once approved shall be irrevocable and the insider shall mandatorily have to implement the plan, without being entitled to either deviate from it or to execute any trade in the securities outside the scope of the trading plan.', {'entities': [(4, 21, 'MISC'), (108, 116, 'MISC'), (230, 247, 'MISC')]}), ('\"Provided that the implementation of the trading plan shall not be commenced if any unpublished price sensitive information in possession of the insider at the time of formulation of the plan has not become generally available at the time of the commencement of implementation and in such event the compliance officer shall confirm that the commencement ought to be deferred until', {'entities': [(37, 54, 'MISC'), (141, 152, 'PER'), (183, 191, 'PER'), (295, 317, 'PER')]}), ('\"20Inserted by Securities and Exchange Board of India (Prohibition of Insider Trading) (Amendment) Regulations, 2018 (w.e.f. April 01, 2019)', {'entities': [(14, 53, 'ORG')]}), ('\"NOTE: It is intended that since the trading plan is an exception to the general rule that an insider should not trade when in possession of unpublished price sensitive information, changing the plan or trading outside the same would negate the intent behind the exception. Other investors in the market, too, would factor the impact of the trading plan on their own trading decisions and in price discovery. Therefore, it is not fair or desirable to permit the insider to deviate from the trading plan based on which others in the market have assessed their views on the securities.', {'entities': [(90, 101, 'PER'), (191, 200, 'MISC'), (280, 289, 'PER'), (457, 469, 'PER'), (33, 49, 'PER')]}), ('\"The proviso is intended to address the prospect that despite the six-month gap between the formulation of the trading plan and its commencement, the unpublished price sensitive information in possession of the insider is still not generally available. In such a situation, commencement of the plan would conflict with the over-riding principle that trades should not be executed when in possession of such information. If the very same unpublished price sensitive information is still in the insider’s possession, the commencement of execution of the trading plan ought to be deferred.', {'entities': [(107, 123, 'MISC'), (290, 298, 'MISC'), (211, 218, 'PER')]}), ('\"(5)Upon approval of the trading plan, the compliance officer shall notify the plan to the stock exchanges on which the securities are listed.', {'entities': [(21, 37, 'MISC'), (38, 61, 'PER')]}), ('\"NOTE: It is intended that given the material exception to the prohibitory rule in regulation 4, a trading plan is required to be publicly disseminated. Investors in the market at large would also factor the potential pointers in the trading plan in their own assessment of the securities and price discovery for them on the premise of how the insiders perceive the prospects or approach the securities in their trading plan.', {'entities': [(153, 162, 'PER'), (230, 246, 'MISC'), (344, 352, 'PER'), (99, 111, 'MISC')]})]\n"
     ]
    }
   ],
   "source": [
    "import pickle\n",
    "with open('uj_train.pkl', 'rb') as f:  # Python 3: open(..., 'rb')\n",
    "    uj_train = pickle.load(f)\n",
    "print(uj_train)    "
   ]
  },
  {
   "cell_type": "markdown",
   "metadata": {},
   "source": [
    "Converting doccano annotations to spacy training data"
   ]
  },
  {
   "cell_type": "code",
   "execution_count": 1,
   "metadata": {},
   "outputs": [],
   "source": [
    "import json\n",
    "data = []\n",
    "f = open('file.json1', 'r')\n",
    "for line in f:\n",
    "    data.append(json.loads(line))"
   ]
  },
  {
   "cell_type": "code",
   "execution_count": 14,
   "metadata": {},
   "outputs": [],
   "source": [
    "#For test data\n",
    "import json\n",
    "data_test = []\n",
    "f = open('file2.json1', 'r')\n",
    "for line in f:\n",
    "    data_test.append(json.loads(line))"
   ]
  },
  {
   "cell_type": "code",
   "execution_count": 17,
   "metadata": {},
   "outputs": [
    {
     "data": {
      "text/plain": [
       "[('\"3A. Unless otherwise provided in these Regulations, an issuer making an offer of municipal debt securities shall satisfy the conditions of these Regulations as on the date of filing of the draft offer document or preliminary placement memorandum with the Board and also as on the date of filing the offer document or placement memorandum with the Board or upon registering the offer document or placement memorandum with the Registrar of Companies, as the case may be.]\\\\n\"',\n",
       "  {'entities': [(40, 51, 'Object'),\n",
       "    (56, 62, 'Person - General'),\n",
       "    (82, 107, 'Object'),\n",
       "    (126, 136, 'Object'),\n",
       "    (202, 210, 'Object'),\n",
       "    (214, 246, 'Object'),\n",
       "    (252, 261, 'Person In charge'),\n",
       "    (378, 392, 'Object'),\n",
       "    (422, 448, 'Person In charge')]}),\n",
       " ('\"9[Eligible issuers.\\\\n\"', {'entities': [(12, 19, 'Person - General')]}),\n",
       " ('\"4.No issuer shall be eligible to issue municipal debt securities under these regulations, unless the following criteria are complied with:\\\\n(a)the issuer, proposing to issue municipal debt securities is eligible to raise funds under its constitution document;\\\\n(b)the accounts of issuer shall be prepared in accordance with any of the following:\\\\ni.National Municipal Accounts Manual or;\\\\nii.Municipal Accounts Manual as adopted by the respective State Governments; or\\\\niii.Accounting standards, applicable to issuers, as prescribed under the Companies Act or;\\\\n9Regulation 4 substituted by the Securities and Exchange Board of India (Issue and Listing of Debt Securities by Municipalities) (Amendment) Regulations, 2019 w.e.f. 27.09.2019. Prior to its substitution, regulation 4 as amended by the Securities and Exchange Board of India (Issue and Listing of Debt Securities by Municipalities) (Amendment) Regulations, 2017 read as follows,-\\\\n\\\\u201cEligible municipalities.\\\\n\"',\n",
       "  {'entities': [(6, 12, 'Person - General'),\n",
       "    (40, 65, 'Object'),\n",
       "    (112, 120, 'Object'),\n",
       "    (222, 227, 'Object'),\n",
       "    (238, 259, 'Object'),\n",
       "    (350, 384, 'Object'),\n",
       "    (448, 465, 'Person In charge'),\n",
       "    (475, 495, 'Object'),\n",
       "    (795, 837, 'Person In charge'),\n",
       "    (592, 634, 'Person In charge'),\n",
       "    (175, 200, 'Object')]}),\n",
       " ('\"4.No issuer shall be eligible to issue debt securities to public under these regulations, unless the following criteria are complied with:\\\\n(a)municipality, whether proposing to issue debt securities itself or through corporate municipal entity, should be eligible to raise funds under its constitution;\\\\n(b)accounts of municipality shall be prepared in accordance with National Municipal Accounts Manual or in accordance with similar Municipal Accounts Manual adopted by the respective State Government for at least three immediately preceding financial years;\\\\n(c)municipality shall have surplus income as per its Income and Expenditure Statement, in any of the immediately preceding three financial years or any other financial criteria as may be specified by the Board from time to time.\\\\nProvided that a corporate municipal entity shall not have negative net worth in any of immediately preceding three financial years;\\\\n(d)municipality shall not have defaulted in repayment of debt securities or loans obtained from banks or financial institutions, during the last three hundred and sixty five days: Provided that where the issuer is a corporate municipal entity, the requirements at clauses (b) and (d) shall be complied by the municipality which is being financed;]\\\\n(e)no order or direction of restraint, prohibition or debarment by Board against the corporate municipal entity or its directors is in force;\\\\n(f)the corporate municipal entity, its promoter, group company or director(s), should not have been named in the list of the wilful defaulters published by the Reserve Bank of India or should not have defaulted of payment of interest or repayment of principal amount in respect of debt instruments issued by it to the public, if any.\\\\u201d\\\\nPage - 7 - of 68\\\\niv.Accounting standards/policies, applicable to issuers, as specified in their constitution document.\\\\n(c)the issuer has not defaulted in repayment of debt securities or loans obtained from banks or financial institutions, during the preceding three hundred and sixty five days;\\\\n(d)no order or direction of restraint, prohibition or debarment by the Board is in force against the issuer or its promoters or its directors from accessing the securities market;\\\\n(e)an issuer or its promoter, group company or director(s) thereof, should not have been named in the list of the wilful defaulters;\\\\n(f)any of its promoter or director(s) has not been declared as a fugitive economic offender(s):\\\\nProvided that where the issuer is a body corporate to which the Companies Act, 2013 applies or is a Special Purpose Vehicle, which is set up for the purpose of raising funds for an person for performing one or more functions entrusted under Article 243W of the Constitution of India, the requirements at clauses (b) and (c) above shall be complied by the person being financed.]\\\\n10[In-principle approval\\\\n\"',\n",
       "  {'entities': [(6, 12, 'Person - General'),\n",
       "    (40, 55, 'Object'),\n",
       "    (144, 156, 'Object'),\n",
       "    (219, 245, 'Person In charge'),\n",
       "    (291, 303, 'Object'),\n",
       "    (275, 280, 'Object'),\n",
       "    (309, 318, 'Object'),\n",
       "    (321, 333, 'Person In charge'),\n",
       "    (371, 405, 'Object'),\n",
       "    (436, 461, 'Object'),\n",
       "    (488, 504, 'Person In charge'),\n",
       "    (546, 561, 'Object'),\n",
       "    (567, 579, 'Person In charge'),\n",
       "    (599, 605, 'Object'),\n",
       "    (617, 649, 'Object'),\n",
       "    (722, 740, 'Object'),\n",
       "    (764, 773, 'Person In charge'),\n",
       "    (810, 836, 'Person In charge'),\n",
       "    (852, 870, 'Object'),\n",
       "    (930, 942, 'Person In charge'),\n",
       "    (971, 980, 'Penalty'),\n",
       "    (984, 999, 'Penalty'),\n",
       "    (1003, 1008, 'Penalty'),\n",
       "    (1131, 1137, 'Object'),\n",
       "    (1304, 1313, 'Investigation'),\n",
       "    (1315, 1326, 'Investigation'),\n",
       "    (1330, 1339, 'Investigation'),\n",
       "    (1343, 1348, 'Person In charge'),\n",
       "    (1361, 1387, 'Person In charge'),\n",
       "    (1422, 1452, 'Person In charge'),\n",
       "    (1458, 1466, 'Company'),\n",
       "    (1468, 1481, 'Company'),\n",
       "    (1485, 1493, 'Person In charge'),\n",
       "    (1551, 1561, 'Person - General'),\n",
       "    (1575, 1600, 'Person In charge'),\n",
       "    (1644, 1652, 'Object'),\n",
       "    (1656, 1665, 'Investigation'),\n",
       "    (1669, 1685, 'Object'),\n",
       "    (1700, 1716, 'Penalty'),\n",
       "    (1857, 1878, 'Object'),\n",
       "    (1802, 1810, 'Object'),\n",
       "    (1826, 1833, 'Person - General'),\n",
       "    (1916, 1925, 'Investigation'),\n",
       "    (2570, 2593, 'Object'),\n",
       "    (2219, 2236, 'Object'),\n",
       "    (2125, 2134, 'Person In charge'),\n",
       "    (2097, 2108, 'Penalty'),\n",
       "    (2112, 2121, 'Penalty'),\n",
       "    (2825, 2831, 'Person - General'),\n",
       "    (2638, 2643, 'Object')]}),\n",
       " ('\"4A. The issuer shall make an application to one or more recognized stock exchange for listing of such securities therein:\\\\n\"',\n",
       "  {'entities': [(30, 41, 'Object'),\n",
       "    (68, 82, 'Person In charge'),\n",
       "    (103, 113, 'Penalty')]}),\n",
       " ('\"Provided that where the application is made to more than one recognised stock exchanges, the issuer shall choose one of them as the designated stock exchange:\\\\n\"',\n",
       "  {'entities': [(25, 36, 'Object'),\n",
       "    (62, 88, 'Person In charge'),\n",
       "    (94, 100, 'Person - General'),\n",
       "    (133, 158, 'Person In charge')]}),\n",
       " ('\"Explanation.-For any subsequent issue, the issuer may choose a different stock exchange as a designated stock exchange subject to the requirements of this regulation.\\\\n\"',\n",
       "  {'entities': [(33, 38, 'Object'),\n",
       "    (44, 50, 'Person - General'),\n",
       "    (74, 88, 'Object'),\n",
       "    (94, 119, 'Object'),\n",
       "    (135, 147, 'Object')]}),\n",
       " ('\"Credit Rating\\\\n\"', {'entities': [(1, 14, 'Object')]}),\n",
       " ('\"4B. The issuer shall obtain credit rating from at least one credit rating agency registered with the Board, which shall be disclosed in the offer document or placement memorandum, as applicable:\\\\n\"',\n",
       "  {'entities': [(9, 15, 'Person - General'),\n",
       "    (61, 81, 'Person In charge'),\n",
       "    (29, 42, 'Object'),\n",
       "    (98, 107, 'Person In charge'),\n",
       "    (147, 155, 'Object'),\n",
       "    (159, 179, 'Object')]}),\n",
       " ('\"10 Inserted by the Securities and Exchange Board of India (Issue and Listing of Debt Securities by Municipalities) (Amendment) Regulations, 2019 w.e.f. 27.09.2019.\\\\n\"',\n",
       "  {'entities': [(16, 58, 'Person In charge')]}),\n",
       " ('\"Page - 8 - of 68\\\\n\"', {'entities': []})]"
      ]
     },
     "execution_count": 17,
     "metadata": {},
     "output_type": "execute_result"
    }
   ],
   "source": [
    "# data[-1]\n",
    "te_data = []\n",
    "for k in data_test:\n",
    "    label_dict = {}\n",
    "    label_list = []\n",
    "    for j in k['labels']:\n",
    "        label_list.append(tuple(j))\n",
    "    label_dict['entities'] = label_list\n",
    "    te_data.append((k['text'], label_dict))\n",
    "te_data = te_data[:11]\n",
    "te_data"
   ]
  },
  {
   "cell_type": "code",
   "execution_count": null,
   "metadata": {},
   "outputs": [],
   "source": [
    "# data[-1]\n",
    "train_data = []\n",
    "for k in data:\n",
    "    label_dict = {}\n",
    "    label_list = []\n",
    "    for j in k['labels']:\n",
    "        label_list.append(tuple(j))\n",
    "    label_dict['entities'] = label_list\n",
    "    train_data.append((k['text'], label_dict))"
   ]
  },
  {
   "cell_type": "code",
   "execution_count": 39,
   "metadata": {},
   "outputs": [],
   "source": [
    "# len(train_data)\n",
    "# def Diff(li1, li2): \n",
    "#     return (list(list(set(li1)-set(li2)) + list(set(li2)-set(li1)))) "
   ]
  },
  {
   "cell_type": "code",
   "execution_count": 48,
   "metadata": {},
   "outputs": [
    {
     "data": {
      "text/plain": [
       "0"
      ]
     },
     "execution_count": 48,
     "metadata": {},
     "output_type": "execute_result"
    }
   ],
   "source": [
    "# text_list_uj = []\n",
    "# for k in uj_train:\n",
    "#     text_list_uj.append(k[0])\n",
    "# my_text_list = []\n",
    "# for j in train_data:\n",
    "#     my_text_list.append(j[0])\n",
    "# # print(Diff(text_list_uj,my_text_list))\n",
    "# li1 = text_list_uj\n",
    "# li2 = my_text_list\n",
    "# len(list(set(li1).intersection(set(li2))))\n",
    "# for k in uj_train:\n",
    "#     for j in train_data:\n",
    "#         if k[0] \n",
    "# for k in uj_train:\n",
    "#     for j in train_data:\n",
    "#         if j[0] == k[0]:\n",
    "#             j[1]['entities'].extend(k[1]['entities'])"
   ]
  },
  {
   "cell_type": "code",
   "execution_count": 18,
   "metadata": {},
   "outputs": [
    {
     "data": {
      "text/plain": [
       "282"
      ]
     },
     "execution_count": 18,
     "metadata": {},
     "output_type": "execute_result"
    }
   ],
   "source": [
    "train_data.extend(uj_train)\n",
    "len(train_data)"
   ]
  },
  {
   "cell_type": "code",
   "execution_count": 25,
   "metadata": {},
   "outputs": [],
   "source": [
    "TRAIN_DATA = train_data"
   ]
  },
  {
   "cell_type": "code",
   "execution_count": 27,
   "metadata": {},
   "outputs": [],
   "source": [
    "for _, annotations in TRAIN_DATA:\n",
    "  for ent in annotations.get(\"entities\"):\n",
    "    ner.add_label(ent[2])\n",
    "# Disable pipeline components you dont need to change\n",
    "pipe_exceptions = [\"ner\", \"trf_wordpiecer\", \"trf_tok2vec\"]\n",
    "unaffected_pipes = [pipe for pipe in nlp.pipe_names if pipe not in pipe_exceptions]\n"
   ]
  },
  {
   "cell_type": "code",
   "execution_count": 26,
   "metadata": {},
   "outputs": [
    {
     "ename": "NameError",
     "evalue": "name 'unaffected_pipes' is not defined",
     "output_type": "error",
     "traceback": [
      "\u001b[0;31m---------------------------------------------------------------------------\u001b[0m",
      "\u001b[0;31mNameError\u001b[0m                                 Traceback (most recent call last)",
      "\u001b[0;32m<ipython-input-26-7a4f5e9bf005>\u001b[0m in \u001b[0;36m<module>\u001b[0;34m\u001b[0m\n\u001b[1;32m      6\u001b[0m \u001b[0;34m\u001b[0m\u001b[0m\n\u001b[1;32m      7\u001b[0m \u001b[0;31m# TRAINING THE MODEL\u001b[0m\u001b[0;34m\u001b[0m\u001b[0;34m\u001b[0m\u001b[0;34m\u001b[0m\u001b[0m\n\u001b[0;32m----> 8\u001b[0;31m \u001b[0;32mwith\u001b[0m \u001b[0mnlp\u001b[0m\u001b[0;34m.\u001b[0m\u001b[0mdisable_pipes\u001b[0m\u001b[0;34m(\u001b[0m\u001b[0;34m*\u001b[0m\u001b[0munaffected_pipes\u001b[0m\u001b[0;34m)\u001b[0m\u001b[0;34m:\u001b[0m\u001b[0;34m\u001b[0m\u001b[0;34m\u001b[0m\u001b[0m\n\u001b[0m\u001b[1;32m      9\u001b[0m \u001b[0;34m\u001b[0m\u001b[0m\n\u001b[1;32m     10\u001b[0m   \u001b[0;31m# Training for 30 iterations\u001b[0m\u001b[0;34m\u001b[0m\u001b[0;34m\u001b[0m\u001b[0;34m\u001b[0m\u001b[0m\n",
      "\u001b[0;31mNameError\u001b[0m: name 'unaffected_pipes' is not defined"
     ]
    }
   ],
   "source": [
    "# Import requirements\n",
    "import random\n",
    "from spacy.util import minibatch, compounding\n",
    "from pathlib import Path\n",
    "\n",
    "\n",
    "# TRAINING THE MODEL\n",
    "with nlp.disable_pipes(*unaffected_pipes):\n",
    "\n",
    "  # Training for 30 iterations\n",
    "  for iteration in range(30):\n",
    "\n",
    "    # shuufling examples  before every iteration\n",
    "    random.shuffle(TRAIN_DATA)\n",
    "    losses = {}\n",
    "    # batch up the examples using spaCy's minibatch\n",
    "    batches = minibatch(TRAIN_DATA, size=compounding(4.0, 32.0, 1.001))\n",
    "    for batch in batches:\n",
    "        texts, annotations = zip(*batch)\n",
    "        nlp.update(\n",
    "                    texts,  # batch of texts\n",
    "                    annotations,  # batch of annotations\n",
    "                    drop=0.2,  # dropout - make it harder to memorise data\n",
    "                    losses=losses,\n",
    "                )\n",
    "        print(\"Losses\", losses)"
   ]
  },
  {
   "cell_type": "code",
   "execution_count": 65,
   "metadata": {},
   "outputs": [
    {
     "data": {
      "text/plain": [
       "'\"Explanation – For the purpose of illustration, the term “legitimate purpose” shall include sharing of unpublished price sensitive information in the ordinary course of business by an insider with\\\\n\"'"
      ]
     },
     "execution_count": 65,
     "metadata": {},
     "output_type": "execute_result"
    }
   ],
   "source": [
    "test_text = data[10]['text']\n",
    "test_text"
   ]
  },
  {
   "cell_type": "code",
   "execution_count": 73,
   "metadata": {},
   "outputs": [
    {
     "name": "stdout",
     "output_type": "stream",
     "text": [
      "English\n",
      "Hindi\n",
      "vernacular newspaper(s\n"
     ]
    }
   ],
   "source": [
    "test_text = 'issue advertisements in an English and a Hindi newspaper having nationwide circulation and if so directed by the Recovery Officer, issue such advertisement in vernacular newspaper(s) having circulation in the area(s) where the investors are concentrated'\n",
    "doc = nlp(test_text)\n",
    "# print(\"Entities in '%s'\" % test_text)\n",
    "for ent in doc.ents:\n",
    "  print(ent)"
   ]
  },
  {
   "cell_type": "code",
   "execution_count": null,
   "metadata": {},
   "outputs": [],
   "source": [
    "# Output directory\n",
    "from pathlib import Path\n",
    "output_dir=Path('/content/')\n",
    "\n",
    "# Saving the model to the output directory\n",
    "if not output_dir.exists():\n",
    "  output_dir.mkdir()\n",
    "nlp.meta['name'] = 'my_ner'  # rename model\n",
    "nlp.to_disk(output_dir)\n",
    "print(\"Saved model to\", output_dir)\n",
    "\n",
    "# Loading the model from the directory\n",
    "print(\"Loading from\", output_dir)\n",
    "nlp2 = spacy.load(output_dir)\n",
    "assert nlp2.get_pipe(\"ner\").move_names == move_names\n",
    "doc2 = nlp2(' Dosa is an extremely famous south Indian dish')\n",
    "for ent in doc2.ents:\n",
    "  print(ent.label_, ent.text)"
   ]
  },
  {
   "cell_type": "code",
   "execution_count": 28,
   "metadata": {},
   "outputs": [
    {
     "name": "stdout",
     "output_type": "stream",
     "text": [
      "Statring iteration 0\n",
      "{'ner': 5174.638773405704}\n",
      "Statring iteration 1\n",
      "{'ner': 4815.947796235389}\n",
      "Statring iteration 2\n",
      "{'ner': 4615.580599711917}\n",
      "Statring iteration 3\n",
      "{'ner': 4212.026804352523}\n",
      "Statring iteration 4\n",
      "{'ner': 4320.360545780768}\n",
      "Statring iteration 5\n",
      "{'ner': 4602.306357123996}\n",
      "Statring iteration 6\n",
      "{'ner': 4234.498448264161}\n",
      "Statring iteration 7\n",
      "{'ner': 4191.301694694172}\n",
      "Statring iteration 8\n",
      "{'ner': 4470.709150168635}\n",
      "Statring iteration 9\n",
      "{'ner': 4388.809855528634}\n",
      "Statring iteration 10\n",
      "{'ner': 4437.2838545762925}\n",
      "Statring iteration 11\n",
      "{'ner': 4643.645821762549}\n",
      "Statring iteration 12\n",
      "{'ner': 4860.843632677232}\n",
      "Statring iteration 13\n",
      "{'ner': 4315.134162187758}\n",
      "Statring iteration 14\n",
      "{'ner': 4475.887178935196}\n",
      "Statring iteration 15\n",
      "{'ner': 5296.715961612868}\n",
      "Statring iteration 16\n",
      "{'ner': 4793.225885869888}\n",
      "Statring iteration 17\n",
      "{'ner': 4802.372948701351}\n",
      "Statring iteration 18\n",
      "{'ner': 4544.138278190929}\n",
      "Statring iteration 19\n",
      "{'ner': 5319.564784262077}\n",
      "Statring iteration 20\n",
      "{'ner': 5277.612942025389}\n",
      "Statring iteration 21\n",
      "{'ner': 5059.989124088914}\n",
      "Statring iteration 22\n",
      "{'ner': 4368.083755170675}\n",
      "Statring iteration 23\n",
      "{'ner': 4818.674554680958}\n",
      "Statring iteration 24\n",
      "{'ner': 5051.948911359079}\n",
      "Statring iteration 25\n",
      "{'ner': 4966.892199435451}\n",
      "Statring iteration 26\n",
      "{'ner': 4913.4033049497875}\n",
      "Statring iteration 27\n",
      "{'ner': 4969.044260850664}\n",
      "Statring iteration 28\n",
      "{'ner': 5426.838031286857}\n",
      "Statring iteration 29\n",
      "{'ner': 4892.735774083246}\n",
      "Statring iteration 30\n",
      "{'ner': 4928.740543708467}\n",
      "Statring iteration 31\n",
      "{'ner': 4943.245699035233}\n",
      "Statring iteration 32\n",
      "{'ner': 5026.736712188142}\n",
      "Statring iteration 33\n",
      "{'ner': 5051.407674265232}\n",
      "Statring iteration 34\n",
      "{'ner': 5253.623590772902}\n",
      "Statring iteration 35\n",
      "{'ner': 4920.2407963899195}\n",
      "Statring iteration 36\n",
      "{'ner': 5460.8603838922445}\n",
      "Statring iteration 37\n",
      "{'ner': 4957.920994871969}\n",
      "Statring iteration 38\n",
      "{'ner': 5473.383653951462}\n",
      "Statring iteration 39\n",
      "{'ner': 4952.909275180372}\n",
      "Statring iteration 40\n",
      "{'ner': 6047.987483121433}\n",
      "Statring iteration 41\n",
      "{'ner': 4913.841538248058}\n",
      "Statring iteration 42\n",
      "{'ner': 4937.590022432237}\n",
      "Statring iteration 43\n",
      "{'ner': 5130.3544811812335}\n",
      "Statring iteration 44\n",
      "{'ner': 4921.120700723666}\n",
      "Statring iteration 45\n",
      "{'ner': 5135.926122026089}\n",
      "Statring iteration 46\n",
      "{'ner': 5229.360198220019}\n",
      "Statring iteration 47\n",
      "{'ner': 5242.507453491913}\n",
      "Statring iteration 48\n",
      "{'ner': 5268.710547481873}\n",
      "Statring iteration 49\n",
      "{'ner': 5481.249915758222}\n",
      "Statring iteration 50\n",
      "{'ner': 4836.217825036004}\n",
      "Statring iteration 51\n",
      "{'ner': 5124.2770599020805}\n",
      "Statring iteration 52\n",
      "{'ner': 5742.173983598063}\n",
      "Statring iteration 53\n",
      "{'ner': 5378.609874758382}\n",
      "Statring iteration 54\n",
      "{'ner': 5132.256844303058}\n",
      "Statring iteration 55\n",
      "{'ner': 4907.373828926551}\n",
      "Statring iteration 56\n",
      "{'ner': 5216.970221830952}\n",
      "Statring iteration 57\n",
      "{'ner': 4746.197179288325}\n",
      "Statring iteration 58\n",
      "{'ner': 5045.162276070765}\n",
      "Statring iteration 59\n",
      "{'ner': 5149.630790880802}\n",
      "Statring iteration 60\n",
      "{'ner': 5167.899354095294}\n",
      "Statring iteration 61\n",
      "{'ner': 5399.972635813601}\n",
      "Statring iteration 62\n",
      "{'ner': 5267.123118382487}\n",
      "Statring iteration 63\n",
      "{'ner': 4905.8583135931685}\n",
      "Statring iteration 64\n",
      "{'ner': 5147.208467473532}\n",
      "Statring iteration 65\n",
      "{'ner': 5395.048629032879}\n",
      "Statring iteration 66\n",
      "{'ner': 5282.938671682574}\n",
      "Statring iteration 67\n",
      "{'ner': 5239.042920587833}\n",
      "Statring iteration 68\n",
      "{'ner': 4821.87652727909}\n",
      "Statring iteration 69\n",
      "{'ner': 4898.531923121076}\n",
      "Statring iteration 70\n",
      "{'ner': 5212.877090201729}\n",
      "Statring iteration 71\n",
      "{'ner': 5135.078693748954}\n",
      "Statring iteration 72\n",
      "{'ner': 5033.631629385372}\n",
      "Statring iteration 73\n",
      "{'ner': 5250.15145825797}\n",
      "Statring iteration 74\n",
      "{'ner': 4915.973627349541}\n",
      "Statring iteration 75\n",
      "{'ner': 4808.399850049703}\n",
      "Statring iteration 76\n",
      "{'ner': 5364.686641750801}\n",
      "Statring iteration 77\n",
      "{'ner': 5160.457576589843}\n",
      "Statring iteration 78\n",
      "{'ner': 5130.009063920392}\n",
      "Statring iteration 79\n",
      "{'ner': 4963.437231259666}\n",
      "Statring iteration 80\n",
      "{'ner': 5180.457334867851}\n",
      "Statring iteration 81\n",
      "{'ner': 5336.661580288967}\n",
      "Statring iteration 82\n",
      "{'ner': 5202.571065703207}\n",
      "Statring iteration 83\n",
      "{'ner': 5429.212443669277}\n",
      "Statring iteration 84\n",
      "{'ner': 5117.457351561354}\n",
      "Statring iteration 85\n",
      "{'ner': 4872.4713008312765}\n",
      "Statring iteration 86\n",
      "{'ner': 4930.808055728036}\n",
      "Statring iteration 87\n",
      "{'ner': 5102.09639957684}\n",
      "Statring iteration 88\n",
      "{'ner': 4728.972078483713}\n",
      "Statring iteration 89\n",
      "{'ner': 5544.086160668711}\n",
      "Statring iteration 90\n",
      "{'ner': 5462.549772418148}\n",
      "Statring iteration 91\n",
      "{'ner': 5011.440622851344}\n",
      "Statring iteration 92\n",
      "{'ner': 5257.340495539509}\n",
      "Statring iteration 93\n",
      "{'ner': 4749.9794900211955}\n",
      "Statring iteration 94\n",
      "{'ner': 5273.830420403304}\n",
      "Statring iteration 95\n",
      "{'ner': 5485.715373391296}\n",
      "Statring iteration 96\n",
      "{'ner': 4624.9960064543075}\n",
      "Statring iteration 97\n",
      "{'ner': 4950.901491711194}\n",
      "Statring iteration 98\n",
      "{'ner': 4989.64186239218}\n",
      "Statring iteration 99\n",
      "{'ner': 4472.185634037004}\n",
      "Enter your Model Name: my_loaded\n",
      "Enter your testing text: For the purpose of illustration, the term “legitimate purpose” shall include sharing of unpublished price sensitive information in the ordinary course of business by an insider with\n"
     ]
    }
   ],
   "source": [
    "import random\n",
    "def train_spacy(data,iterations):\n",
    "\n",
    "    # Disable pipeline components you dont need to change\n",
    "\n",
    "    \n",
    "    TRAIN_DATA = data\n",
    "#     nlp = spacy.blank('en')  # create blank Language class\n",
    "#     # create the built-in pipeline components and add them to the pipeline\n",
    "#     # nlp.create_pipe works for built-ins that are registered with spaCy\n",
    "#     if 'ner' not in nlp.pipe_names:\n",
    "#         ner = nlp.create_pipe('ner')\n",
    "#         nlp.add_pipe(ner, last=True)\n",
    "    nlp=spacy.load('en_core_web_sm')  \n",
    "    ner=nlp.get_pipe(\"ner\")\n",
    "    # add labels\n",
    "    for _, annotations in TRAIN_DATA:\n",
    "         for ent in annotations.get('entities'):\n",
    "            ner.add_label(ent[2])\n",
    "\n",
    "    # get names of other pipes to disable them during training\n",
    "#     other_pipes = [pipe for pipe in nlp.pipe_names if pipe != 'ner']\n",
    "    pipe_exceptions = [\"ner\", \"trf_wordpiecer\", \"trf_tok2vec\"]\n",
    "    unaffected_pipes = [pipe for pipe in nlp.pipe_names if pipe not in pipe_exceptions]\n",
    "#     with nlp.disable_pipes(*other_pipes):  # only train NER\n",
    "    with nlp.disable_pipes(*unaffected_pipes):    \n",
    "        optimizer = nlp.begin_training()\n",
    "        for itn in range(iterations):\n",
    "            print(\"Statring iteration \" + str(itn))\n",
    "            random.shuffle(TRAIN_DATA)\n",
    "            losses = {}\n",
    "            for text, annotations in TRAIN_DATA:\n",
    "                nlp.update(\n",
    "                    [text],  # batch of texts\n",
    "                    [annotations],  # batch of annotations\n",
    "                    drop=0.2,  # dropout - make it harder to memorise data\n",
    "                    sgd=optimizer,  # callable to update weights\n",
    "                    losses=losses)\n",
    "            print(losses)\n",
    "    return nlp\n",
    "\n",
    "\n",
    "prdnlp = train_spacy(TRAIN_DATA, 100)\n",
    "\n",
    "# Save our trained Model\n",
    "modelfile = input(\"Enter your Model Name: \")\n",
    "prdnlp.to_disk(modelfile)\n",
    "\n",
    "#Test your text\n",
    "test_text = input(\"Enter your testing text: \")\n",
    "doc = prdnlp(test_text)\n",
    "for ent in doc.ents:\n",
    "    print(ent.text, ent.start_char, ent.end_char, ent.label_)\n"
   ]
  },
  {
   "cell_type": "code",
   "execution_count": 29,
   "metadata": {},
   "outputs": [
    {
     "name": "stdout",
     "output_type": "stream",
     "text": [
      "Enter your testing text: his provision is intended to mandate persons other than listed companies and market intermediaries that are required to handle unpublished price sensitive information to formulate a code of conduct governing trading in securities by their employees. These entities include professional firms such as auditors, accountancy firms, law firms, analysts, consultants etc., assisting or advising listed companies, market intermediaries and other capital market participants. Even entities that normally operate outside the capital market may handle unpublished price sensitive information. This provision would mandate all of them to formulate a code of conduct.\n"
     ]
    }
   ],
   "source": [
    "test_text = input(\"Enter your testing text: \")\n",
    "doc = prdnlp(test_text)\n",
    "for ent in doc.ents:\n",
    "    print(ent.text, ent.start_char, ent.end_char, ent.label_)\n"
   ]
  },
  {
   "cell_type": "code",
   "execution_count": 49,
   "metadata": {},
   "outputs": [
    {
     "name": "stdout",
     "output_type": "stream",
     "text": [
      "Object reasonable belief\n"
     ]
    }
   ],
   "source": [
    "output_dir = 'my_loaded/'\n",
    "nlp2 = spacy.load(output_dir)\n",
    "# assert nlp2.get_pipe(\"ner\").move_names == move_names\n",
    "doc2 = nlp2('Any term in an agreement (oral or written) or Code of Conduct, is void in so far as it purports to preclude any person, other than an advocate, from submitting to the Board information relating to the violation of the securities laws that has occurred, is occurring or has a reasonable belief that it would occur.')\n",
    "# doc2 = nlp2('An Informant who may be liable for enforcement action by the Board based on his or her conduct in connection with securities laws violations reported in the Voluntary Information Disclosure Form filed with the Board, may simultaneously or at any time thereafter file an application seeking settlement with confidentiality under Chapter IX of the Securities and Exchange Board of India (Settlement Proceedings) Regulations, 2018')\n",
    "# doc2 = nlp2('No person shall have the right to compel disclosure of the identity, existence of an Informant or the information provided by an Informant, except to the extent relied upon in any proceeding initiated against such person by the Board.')\n",
    "for ent in doc2.ents:\n",
    "  print(ent.label_, ent.text)"
   ]
  },
  {
   "cell_type": "code",
   "execution_count": 18,
   "metadata": {},
   "outputs": [
    {
     "data": {
      "text/plain": [
       "[('\"3A. Unless otherwise provided in these Regulations, an issuer making an offer of municipal debt securities shall satisfy the conditions of these Regulations as on the date of filing of the draft offer document or preliminary placement memorandum with the Board and also as on the date of filing the offer document or placement memorandum with the Board or upon registering the offer document or placement memorandum with the Registrar of Companies, as the case may be.]\\\\n\"',\n",
       "  [(40, 51, 'Object'),\n",
       "   (56, 62, 'Person - General'),\n",
       "   (82, 107, 'Object'),\n",
       "   (126, 136, 'Object'),\n",
       "   (202, 210, 'Object'),\n",
       "   (214, 246, 'Object'),\n",
       "   (252, 261, 'Person In charge'),\n",
       "   (378, 392, 'Object'),\n",
       "   (422, 448, 'Person In charge')]),\n",
       " ('\"9[Eligible issuers.\\\\n\"', [(12, 19, 'Person - General')]),\n",
       " ('\"4.No issuer shall be eligible to issue municipal debt securities under these regulations, unless the following criteria are complied with:\\\\n(a)the issuer, proposing to issue municipal debt securities is eligible to raise funds under its constitution document;\\\\n(b)the accounts of issuer shall be prepared in accordance with any of the following:\\\\ni.National Municipal Accounts Manual or;\\\\nii.Municipal Accounts Manual as adopted by the respective State Governments; or\\\\niii.Accounting standards, applicable to issuers, as prescribed under the Companies Act or;\\\\n9Regulation 4 substituted by the Securities and Exchange Board of India (Issue and Listing of Debt Securities by Municipalities) (Amendment) Regulations, 2019 w.e.f. 27.09.2019. Prior to its substitution, regulation 4 as amended by the Securities and Exchange Board of India (Issue and Listing of Debt Securities by Municipalities) (Amendment) Regulations, 2017 read as follows,-\\\\n\\\\u201cEligible municipalities.\\\\n\"',\n",
       "  [(6, 12, 'Person - General'),\n",
       "   (40, 65, 'Object'),\n",
       "   (112, 120, 'Object'),\n",
       "   (222, 227, 'Object'),\n",
       "   (238, 259, 'Object'),\n",
       "   (350, 384, 'Object'),\n",
       "   (448, 465, 'Person In charge'),\n",
       "   (475, 495, 'Object'),\n",
       "   (795, 837, 'Person In charge'),\n",
       "   (592, 634, 'Person In charge'),\n",
       "   (175, 200, 'Object')]),\n",
       " ('\"4.No issuer shall be eligible to issue debt securities to public under these regulations, unless the following criteria are complied with:\\\\n(a)municipality, whether proposing to issue debt securities itself or through corporate municipal entity, should be eligible to raise funds under its constitution;\\\\n(b)accounts of municipality shall be prepared in accordance with National Municipal Accounts Manual or in accordance with similar Municipal Accounts Manual adopted by the respective State Government for at least three immediately preceding financial years;\\\\n(c)municipality shall have surplus income as per its Income and Expenditure Statement, in any of the immediately preceding three financial years or any other financial criteria as may be specified by the Board from time to time.\\\\nProvided that a corporate municipal entity shall not have negative net worth in any of immediately preceding three financial years;\\\\n(d)municipality shall not have defaulted in repayment of debt securities or loans obtained from banks or financial institutions, during the last three hundred and sixty five days: Provided that where the issuer is a corporate municipal entity, the requirements at clauses (b) and (d) shall be complied by the municipality which is being financed;]\\\\n(e)no order or direction of restraint, prohibition or debarment by Board against the corporate municipal entity or its directors is in force;\\\\n(f)the corporate municipal entity, its promoter, group company or director(s), should not have been named in the list of the wilful defaulters published by the Reserve Bank of India or should not have defaulted of payment of interest or repayment of principal amount in respect of debt instruments issued by it to the public, if any.\\\\u201d\\\\nPage - 7 - of 68\\\\niv.Accounting standards/policies, applicable to issuers, as specified in their constitution document.\\\\n(c)the issuer has not defaulted in repayment of debt securities or loans obtained from banks or financial institutions, during the preceding three hundred and sixty five days;\\\\n(d)no order or direction of restraint, prohibition or debarment by the Board is in force against the issuer or its promoters or its directors from accessing the securities market;\\\\n(e)an issuer or its promoter, group company or director(s) thereof, should not have been named in the list of the wilful defaulters;\\\\n(f)any of its promoter or director(s) has not been declared as a fugitive economic offender(s):\\\\nProvided that where the issuer is a body corporate to which the Companies Act, 2013 applies or is a Special Purpose Vehicle, which is set up for the purpose of raising funds for an person for performing one or more functions entrusted under Article 243W of the Constitution of India, the requirements at clauses (b) and (c) above shall be complied by the person being financed.]\\\\n10[In-principle approval\\\\n\"',\n",
       "  [(6, 12, 'Person - General'),\n",
       "   (40, 55, 'Object'),\n",
       "   (144, 156, 'Object'),\n",
       "   (219, 245, 'Person In charge'),\n",
       "   (291, 303, 'Object'),\n",
       "   (275, 280, 'Object'),\n",
       "   (309, 318, 'Object'),\n",
       "   (321, 333, 'Person In charge'),\n",
       "   (371, 405, 'Object'),\n",
       "   (436, 461, 'Object'),\n",
       "   (488, 504, 'Person In charge'),\n",
       "   (546, 561, 'Object'),\n",
       "   (567, 579, 'Person In charge'),\n",
       "   (599, 605, 'Object'),\n",
       "   (617, 649, 'Object'),\n",
       "   (722, 740, 'Object'),\n",
       "   (764, 773, 'Person In charge'),\n",
       "   (810, 836, 'Person In charge'),\n",
       "   (852, 870, 'Object'),\n",
       "   (930, 942, 'Person In charge'),\n",
       "   (971, 980, 'Penalty'),\n",
       "   (984, 999, 'Penalty'),\n",
       "   (1003, 1008, 'Penalty'),\n",
       "   (1131, 1137, 'Object'),\n",
       "   (1304, 1313, 'Investigation'),\n",
       "   (1315, 1326, 'Investigation'),\n",
       "   (1330, 1339, 'Investigation'),\n",
       "   (1343, 1348, 'Person In charge'),\n",
       "   (1361, 1387, 'Person In charge'),\n",
       "   (1422, 1452, 'Person In charge'),\n",
       "   (1458, 1466, 'Company'),\n",
       "   (1468, 1481, 'Company'),\n",
       "   (1485, 1493, 'Person In charge'),\n",
       "   (1551, 1561, 'Person - General'),\n",
       "   (1575, 1600, 'Person In charge'),\n",
       "   (1644, 1652, 'Object'),\n",
       "   (1656, 1665, 'Investigation'),\n",
       "   (1669, 1685, 'Object'),\n",
       "   (1700, 1716, 'Penalty'),\n",
       "   (1857, 1878, 'Object'),\n",
       "   (1802, 1810, 'Object'),\n",
       "   (1826, 1833, 'Person - General'),\n",
       "   (1916, 1925, 'Investigation'),\n",
       "   (2570, 2593, 'Object'),\n",
       "   (2219, 2236, 'Object'),\n",
       "   (2125, 2134, 'Person In charge'),\n",
       "   (2097, 2108, 'Penalty'),\n",
       "   (2112, 2121, 'Penalty'),\n",
       "   (2825, 2831, 'Person - General'),\n",
       "   (2638, 2643, 'Object')]),\n",
       " ('\"4A. The issuer shall make an application to one or more recognized stock exchange for listing of such securities therein:\\\\n\"',\n",
       "  [(30, 41, 'Object'), (68, 82, 'Person In charge'), (103, 113, 'Penalty')]),\n",
       " ('\"Provided that where the application is made to more than one recognised stock exchanges, the issuer shall choose one of them as the designated stock exchange:\\\\n\"',\n",
       "  [(25, 36, 'Object'),\n",
       "   (62, 88, 'Person In charge'),\n",
       "   (94, 100, 'Person - General'),\n",
       "   (133, 158, 'Person In charge')]),\n",
       " ('\"Explanation.-For any subsequent issue, the issuer may choose a different stock exchange as a designated stock exchange subject to the requirements of this regulation.\\\\n\"',\n",
       "  [(33, 38, 'Object'),\n",
       "   (44, 50, 'Person - General'),\n",
       "   (74, 88, 'Object'),\n",
       "   (94, 119, 'Object'),\n",
       "   (135, 147, 'Object')]),\n",
       " ('\"Credit Rating\\\\n\"', [(1, 14, 'Object')]),\n",
       " ('\"4B. The issuer shall obtain credit rating from at least one credit rating agency registered with the Board, which shall be disclosed in the offer document or placement memorandum, as applicable:\\\\n\"',\n",
       "  [(9, 15, 'Person - General'),\n",
       "   (61, 81, 'Person In charge'),\n",
       "   (29, 42, 'Object'),\n",
       "   (98, 107, 'Person In charge'),\n",
       "   (147, 155, 'Object'),\n",
       "   (159, 179, 'Object')]),\n",
       " ('\"10 Inserted by the Securities and Exchange Board of India (Issue and Listing of Debt Securities by Municipalities) (Amendment) Regulations, 2019 w.e.f. 27.09.2019.\\\\n\"',\n",
       "  [(16, 58, 'Person In charge')]),\n",
       " ('\"Page - 8 - of 68\\\\n\"', [])]"
      ]
     },
     "execution_count": 18,
     "metadata": {},
     "output_type": "execute_result"
    }
   ],
   "source": [
    "#Converting training to testing examples:\n",
    "test_data = []\n",
    "# for k in train_data:\n",
    "for k in te_data:\n",
    "    test_data.append((k[0], k[1]['entities']))\n",
    "test_data"
   ]
  },
  {
   "cell_type": "code",
   "execution_count": 33,
   "metadata": {},
   "outputs": [
    {
     "name": "stderr",
     "output_type": "stream",
     "text": [
      "<ipython-input-33-aca2b659fd37>:13: UserWarning: [W030] Some entities could not be aligned in the text \"\"9[Eligible issuers.\\n\"\" with entities \"[(12, 19, 'Person - General')]\". Use `spacy.gold.biluo_tags_from_offsets(nlp.make_doc(text), entities)` to check the alignment. Misaligned entities ('-') will be ignored during training.\n",
      "  gold = GoldParse(doc_gold_text, entities=annot)\n",
      "<ipython-input-33-aca2b659fd37>:13: UserWarning: [W030] Some entities could not be aligned in the text \"\"4.No issuer shall be eligible to issue municipal ...\" with entities \"[(6, 12, 'Person - General'), (40, 65, 'Object'), ...\". Use `spacy.gold.biluo_tags_from_offsets(nlp.make_doc(text), entities)` to check the alignment. Misaligned entities ('-') will be ignored during training.\n",
      "  gold = GoldParse(doc_gold_text, entities=annot)\n",
      "<ipython-input-33-aca2b659fd37>:13: UserWarning: [W030] Some entities could not be aligned in the text \"\"4.No issuer shall be eligible to issue debt secur...\" with entities \"[(6, 12, 'Person - General'), (40, 55, 'Object'), ...\". Use `spacy.gold.biluo_tags_from_offsets(nlp.make_doc(text), entities)` to check the alignment. Misaligned entities ('-') will be ignored during training.\n",
      "  gold = GoldParse(doc_gold_text, entities=annot)\n",
      "<ipython-input-33-aca2b659fd37>:13: UserWarning: [W030] Some entities could not be aligned in the text \"\"Provided that where the application is made to mo...\" with entities \"[(25, 36, 'Object'), (62, 88, 'Person In charge'),...\". Use `spacy.gold.biluo_tags_from_offsets(nlp.make_doc(text), entities)` to check the alignment. Misaligned entities ('-') will be ignored during training.\n",
      "  gold = GoldParse(doc_gold_text, entities=annot)\n",
      "<ipython-input-33-aca2b659fd37>:13: UserWarning: [W030] Some entities could not be aligned in the text \"\"Credit Rating\\n\"\" with entities \"[(1, 14, 'Object')]\". Use `spacy.gold.biluo_tags_from_offsets(nlp.make_doc(text), entities)` to check the alignment. Misaligned entities ('-') will be ignored during training.\n",
      "  gold = GoldParse(doc_gold_text, entities=annot)\n"
     ]
    }
   ],
   "source": [
    "\n",
    "\n",
    "# You can find different metrics including F-score, recall and precision in spaCy/scorer.py.\n",
    "\n",
    "# This example shows how you can use it:\n",
    "\n",
    "import spacy\n",
    "from spacy.gold import GoldParse\n",
    "from spacy.scorer import Scorer\n",
    "\n",
    "def evaluate(ner_model, examples):\n",
    "    scorer = Scorer()\n",
    "    for input_, annot in examples:\n",
    "        doc_gold_text = ner_model.make_doc(input_)\n",
    "        gold = GoldParse(doc_gold_text, entities=annot)\n",
    "        pred_value = ner_model(input_)\n",
    "        scorer.score(pred_value, gold)\n",
    "    return scorer.scores\n",
    "\n",
    "# example run\n",
    "\n",
    "# examples = [\n",
    "#     ('Who is Shaka Khan?',\n",
    "#      [(7, 17, 'PERSON')]),\n",
    "#     ('I like London and Berlin.',\n",
    "#      [(7, 13, 'LOC'), (18, 24, 'LOC')])\n",
    "# ]\n",
    "examples = test_data\n",
    "# print(examples)\n",
    "ner_model_path = 'uj_blank/'\n",
    "ner_model = spacy.load(ner_model_path) # for spaCy's pretrained use 'en_core_web_sm'\n",
    "results = evaluate(ner_model, examples)"
   ]
  },
  {
   "cell_type": "code",
   "execution_count": 34,
   "metadata": {},
   "outputs": [
    {
     "data": {
      "text/plain": [
       "{'uas': 0.0,\n",
       " 'las': 0.0,\n",
       " 'las_per_type': {'': {'p': 0.0, 'r': 0.0, 'f': 0.0}},\n",
       " 'ents_p': 0.0,\n",
       " 'ents_r': 0.0,\n",
       " 'ents_f': 0.0,\n",
       " 'ents_per_type': {'Object': {'p': 0.0, 'r': 0.0, 'f': 0.0},\n",
       "  'Person - General': {'p': 0.0, 'r': 0.0, 'f': 0.0},\n",
       "  'Person In charge': {'p': 0.0, 'r': 0.0, 'f': 0.0},\n",
       "  'Penalty': {'p': 0.0, 'r': 0.0, 'f': 0.0}},\n",
       " 'tags_acc': 0.0,\n",
       " 'token_acc': 100.0,\n",
       " 'textcat_score': 0.0,\n",
       " 'textcats_per_cat': {}}"
      ]
     },
     "execution_count": 34,
     "metadata": {},
     "output_type": "execute_result"
    }
   ],
   "source": [
    "results"
   ]
  },
  {
   "cell_type": "code",
   "execution_count": null,
   "metadata": {},
   "outputs": [],
   "source": []
  }
 ],
 "metadata": {
  "kernelspec": {
   "display_name": "Python 3",
   "language": "python",
   "name": "python3"
  },
  "language_info": {
   "codemirror_mode": {
    "name": "ipython",
    "version": 3
   },
   "file_extension": ".py",
   "mimetype": "text/x-python",
   "name": "python",
   "nbconvert_exporter": "python",
   "pygments_lexer": "ipython3",
   "version": "3.8.2"
  }
 },
 "nbformat": 4,
 "nbformat_minor": 4
}
