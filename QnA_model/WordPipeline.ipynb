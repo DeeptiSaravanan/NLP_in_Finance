{
 "cells": [
  {
   "cell_type": "markdown",
   "metadata": {},
   "source": [
    "## Knowledge Base Construction"
   ]
  },
  {
   "cell_type": "markdown",
   "metadata": {},
   "source": [
    "YET TO DO:\n",
    "- Extract document regulations from Sathvik's json file\n",
    "- Topic Modeling of documents - dictionary"
   ]
  },
  {
   "cell_type": "markdown",
   "metadata": {},
   "source": [
    "Extract document regulations from Sathvik's json file"
   ]
  },
  {
   "cell_type": "code",
   "execution_count": 2,
   "metadata": {},
   "outputs": [],
   "source": [
    "import json\n",
    "with open('/home/deepti-saravanan/Desktop/all_regulation_files.json') as f:\n",
    "    rules = json.load(f)"
   ]
  },
  {
   "cell_type": "code",
   "execution_count": 3,
   "metadata": {},
   "outputs": [],
   "source": [
    "docs = list(rules.keys())"
   ]
  },
  {
   "cell_type": "code",
   "execution_count": 79,
   "metadata": {},
   "outputs": [
    {
     "data": {
      "text/plain": [
       "20"
      ]
     },
     "execution_count": 79,
     "metadata": {},
     "output_type": "execute_result"
    }
   ],
   "source": [
    "len(docs)"
   ]
  },
  {
   "cell_type": "code",
   "execution_count": 444,
   "metadata": {},
   "outputs": [
    {
     "data": {
      "text/plain": [
       "['CHAPTER I\\n',\n",
       " 'CHAPTER II\\n',\n",
       " 'CHAPTER III\\n',\n",
       " 'CHAPTER IV\\n',\n",
       " 'CHAPTER V\\n',\n",
       " 'CHAPTER VI\\n']"
      ]
     },
     "execution_count": 444,
     "metadata": {},
     "output_type": "execute_result"
    }
   ],
   "source": [
    "chapterdict = rules[docs[19]]\n",
    "chapters = list(chapterdict.keys())\n",
    "chapters"
   ]
  },
  {
   "cell_type": "code",
   "execution_count": 445,
   "metadata": {},
   "outputs": [],
   "source": [
    "regid = []\n",
    "for i in chapters:\n",
    "    regdict = chapterdict[i]\n",
    "    regid1 = list(regdict.keys())\n",
    "    regid.append(regid1)"
   ]
  },
  {
   "cell_type": "code",
   "execution_count": 446,
   "metadata": {},
   "outputs": [],
   "source": [
    "regdict = chapterdict[chapters[1]]\n",
    "titledict = list(regdict.values())\n",
    "#titledict\n",
    "#titledict[0]"
   ]
  },
  {
   "cell_type": "code",
   "execution_count": 447,
   "metadata": {},
   "outputs": [],
   "source": [
    "titles = []\n",
    "t=0\n",
    "for i in chapters:\n",
    "    regdict = chapterdict[i]\n",
    "    titledict = list(regdict.values())\n",
    "    #titles1 = list(titledict.keys())\n",
    "    for j in titledict:\n",
    "        #print(j['content'])\n",
    "        #print('------------------------------------')\n",
    "        titles.append(j['content'])"
   ]
  },
  {
   "cell_type": "code",
   "execution_count": 448,
   "metadata": {},
   "outputs": [],
   "source": [
    "regulations0 = []\n",
    "for i in titles:\n",
    "    if(len(i) < 20):\n",
    "        for j in i:\n",
    "            regulations0.append(j)\n",
    "    else:\n",
    "        regulations0.append(i)"
   ]
  },
  {
   "cell_type": "code",
   "execution_count": 433,
   "metadata": {},
   "outputs": [],
   "source": [
    "r = []\n",
    "t=0\n",
    "while(t<59):\n",
    "    r.append(regulations0[t])\n",
    "    t+=1\n",
    "p=0\n",
    "while(p<len(regulations0[59])):\n",
    "    r.append(regulations0[59][p])\n",
    "    p+=1\n",
    "\n",
    "p=0\n",
    "while(p<len(regulations0[60])):\n",
    "    r.append(regulations0[60][p])\n",
    "    p+=1\n",
    "    \n",
    "t=61\n",
    "while(t<69):\n",
    "    r.append(regulations0[t])\n",
    "    t+=1\n",
    "p=0\n",
    "while(p<len(regulations0[69])):\n",
    "    r.append(regulations0[69][p])\n",
    "    p+=1\n",
    "\n",
    "t=70\n",
    "while(t<86):\n",
    "    r.append(regulations0[t])\n",
    "    t+=1\n",
    "p=0\n",
    "while(p<len(regulations0[86])):\n",
    "    r.append(regulations0[86][p])\n",
    "    p+=1\n",
    "t=87\n",
    "while(t<98):\n",
    "    r.append(regulations0[t])\n",
    "    t+=1\n",
    "p=0\n",
    "while(p<len(regulations0[98])):\n",
    "    r.append(regulations0[98][p])\n",
    "    p+=1\n",
    "\n",
    "p=0\n",
    "while(p<len(regulations0[99])):\n",
    "    r.append(regulations0[99][p])\n",
    "    p+=1\n",
    "\n",
    "p=0\n",
    "while(p<len(regulations0[100])):\n",
    "    r.append(regulations0[100][p])\n",
    "    p+=1\n",
    "\n",
    "\n",
    "t=101\n",
    "while(t<len(regulations0)):\n",
    "    r.append(regulations0[t])\n",
    "    t+=1"
   ]
  },
  {
   "cell_type": "code",
   "execution_count": 387,
   "metadata": {},
   "outputs": [],
   "source": [
    "r = []\n",
    "t=0\n",
    "while(t<89):\n",
    "    r.append(regulations0[t])\n",
    "    t+=1\n",
    "p=0\n",
    "while(p<len(regulations0[89])):\n",
    "    r.append(regulations0[89][p])\n",
    "    p+=1\n",
    "t=90\n",
    "while(t<len(regulations0)):\n",
    "    r.append(regulations0[t])\n",
    "    t+=1"
   ]
  },
  {
   "cell_type": "code",
   "execution_count": 434,
   "metadata": {},
   "outputs": [],
   "source": [
    "regulations0=r"
   ]
  },
  {
   "cell_type": "code",
   "execution_count": 449,
   "metadata": {},
   "outputs": [
    {
     "name": "stdout",
     "output_type": "stream",
     "text": [
      "Stored 'regulations0' (list)\n"
     ]
    }
   ],
   "source": [
    "%store regulations0"
   ]
  },
  {
   "cell_type": "code",
   "execution_count": 450,
   "metadata": {},
   "outputs": [],
   "source": [
    "docregs.append(regulations0)"
   ]
  },
  {
   "cell_type": "code",
   "execution_count": 451,
   "metadata": {},
   "outputs": [
    {
     "data": {
      "text/plain": [
       "20"
      ]
     },
     "execution_count": 451,
     "metadata": {},
     "output_type": "execute_result"
    }
   ],
   "source": [
    "len(docregs)"
   ]
  },
  {
   "cell_type": "code",
   "execution_count": 452,
   "metadata": {},
   "outputs": [
    {
     "name": "stdout",
     "output_type": "stream",
     "text": [
      "Stored 'docregs' (list)\n"
     ]
    }
   ],
   "source": [
    "%store docregs"
   ]
  },
  {
   "cell_type": "markdown",
   "metadata": {},
   "source": [
    "Synonyms Trial"
   ]
  },
  {
   "cell_type": "code",
   "execution_count": 5,
   "metadata": {},
   "outputs": [],
   "source": [
    "import gensim.downloader"
   ]
  },
  {
   "cell_type": "code",
   "execution_count": 6,
   "metadata": {},
   "outputs": [
    {
     "name": "stdout",
     "output_type": "stream",
     "text": [
      "[==================================================] 100.0% 104.8/104.8MB downloaded\n"
     ]
    }
   ],
   "source": [
    "# Download the \"glove-twitter-25\" embeddings\n",
    "glove_vectors = gensim.downloader.load('glove-twitter-25')"
   ]
  },
  {
   "cell_type": "code",
   "execution_count": 7,
   "metadata": {},
   "outputs": [
    {
     "data": {
      "text/plain": [
       "[('enforce', 0.9455411434173584),\n",
       " ('undermine', 0.9175203442573547),\n",
       " ('restrict', 0.9171945452690125),\n",
       " ('implement', 0.9106274247169495),\n",
       " ('enable', 0.9009907245635986),\n",
       " ('employ', 0.8794233798980713),\n",
       " ('negotiate', 0.8709830045700073),\n",
       " ('contribute', 0.8679776787757874),\n",
       " ('clarify', 0.8674840331077576),\n",
       " ('comply', 0.8662430047988892)]"
      ]
     },
     "execution_count": 7,
     "metadata": {},
     "output_type": "execute_result"
    }
   ],
   "source": [
    "glove_vectors.most_similar('disclose')"
   ]
  },
  {
   "cell_type": "code",
   "execution_count": 8,
   "metadata": {},
   "outputs": [
    {
     "data": {
      "text/plain": [
       "[('announced', 0.9334110021591187),\n",
       " ('signing', 0.8961676955223083),\n",
       " ('return', 0.896043598651886),\n",
       " ('announcing', 0.8931236863136292),\n",
       " ('joined', 0.8904770612716675),\n",
       " ('launch', 0.8737679123878479),\n",
       " ('confirmed', 0.8731899261474609),\n",
       " ('selected', 0.8702782988548279),\n",
       " ('host', 0.8700172901153564),\n",
       " ('returning', 0.8679215908050537)]"
      ]
     },
     "execution_count": 8,
     "metadata": {},
     "output_type": "execute_result"
    }
   ],
   "source": [
    "glove_vectors.most_similar('announce')"
   ]
  },
  {
   "cell_type": "code",
   "execution_count": 9,
   "metadata": {},
   "outputs": [
    {
     "name": "stdout",
     "output_type": "stream",
     "text": [
      "['fasttext-wiki-news-subwords-300', 'conceptnet-numberbatch-17-06-300', 'word2vec-ruscorpora-300', 'word2vec-google-news-300', 'glove-wiki-gigaword-50', 'glove-wiki-gigaword-100', 'glove-wiki-gigaword-200', 'glove-wiki-gigaword-300', 'glove-twitter-25', 'glove-twitter-50', 'glove-twitter-100', 'glove-twitter-200', '__testing_word2vec-matrix-synopsis']\n"
     ]
    }
   ],
   "source": [
    "print(list(gensim.downloader.info()['models'].keys()))"
   ]
  },
  {
   "cell_type": "code",
   "execution_count": 10,
   "metadata": {},
   "outputs": [
    {
     "name": "stdout",
     "output_type": "stream",
     "text": [
      "[==================================================] 100.0% 1662.8/1662.8MB downloaded\n"
     ]
    }
   ],
   "source": [
    "glove_vectors = gensim.downloader.load('word2vec-google-news-300')"
   ]
  },
  {
   "cell_type": "code",
   "execution_count": null,
   "metadata": {},
   "outputs": [],
   "source": [
    "glove_vectors.most_similar('disclose')"
   ]
  },
  {
   "cell_type": "code",
   "execution_count": null,
   "metadata": {},
   "outputs": [],
   "source": [
    "glove_vectors.most_similar('announce')"
   ]
  },
  {
   "cell_type": "markdown",
   "metadata": {},
   "source": [
    "SigmaLaw Embeddings"
   ]
  },
  {
   "cell_type": "code",
   "execution_count": 1,
   "metadata": {},
   "outputs": [],
   "source": [
    "import pandas as pd"
   ]
  },
  {
   "cell_type": "code",
   "execution_count": 9,
   "metadata": {},
   "outputs": [],
   "source": [
    "legalembeddings = pd.read_csv('/home/deepti-saravanan/Music/word2vec-result/LR.csv')"
   ]
  },
  {
   "cell_type": "code",
   "execution_count": 10,
   "metadata": {},
   "outputs": [
    {
     "data": {
      "text/html": [
       "<div>\n",
       "<style scoped>\n",
       "    .dataframe tbody tr th:only-of-type {\n",
       "        vertical-align: middle;\n",
       "    }\n",
       "\n",
       "    .dataframe tbody tr th {\n",
       "        vertical-align: top;\n",
       "    }\n",
       "\n",
       "    .dataframe thead th {\n",
       "        text-align: right;\n",
       "    }\n",
       "</style>\n",
       "<table border=\"1\" class=\"dataframe\">\n",
       "  <thead>\n",
       "    <tr style=\"text-align: right;\">\n",
       "      <th></th>\n",
       "      <th>Unnamed: 0</th>\n",
       "      <th>Unnamed: 1</th>\n",
       "      <th>Unnamed: 2</th>\n",
       "      <th>Unnamed: 3</th>\n",
       "      <th>Unnamed: 4</th>\n",
       "      <th>Unnamed: 5</th>\n",
       "      <th>Unnamed: 6</th>\n",
       "      <th>Unnamed: 7</th>\n",
       "      <th>Unnamed: 8</th>\n",
       "      <th>Unnamed: 9</th>\n",
       "      <th>...</th>\n",
       "      <th>Unnamed: 190</th>\n",
       "      <th>Unnamed: 191</th>\n",
       "      <th>Unnamed: 192</th>\n",
       "      <th>Unnamed: 193</th>\n",
       "      <th>Unnamed: 194</th>\n",
       "      <th>Unnamed: 195</th>\n",
       "      <th>Unnamed: 196</th>\n",
       "      <th>Unnamed: 197</th>\n",
       "      <th>Unnamed: 198</th>\n",
       "      <th>Unnamed: 199</th>\n",
       "    </tr>\n",
       "  </thead>\n",
       "  <tbody>\n",
       "    <tr>\n",
       "      <th>0</th>\n",
       "      <td>client:0.804371</td>\n",
       "      <td>lawyers:0.690381</td>\n",
       "      <td>counsel:0.683157</td>\n",
       "      <td>attorney:0.634477</td>\n",
       "      <td>clients:0.590072</td>\n",
       "      <td>representation:0.535750</td>\n",
       "      <td>ethically:0.516369</td>\n",
       "      <td>defender:0.516301</td>\n",
       "      <td>firm:0.515959</td>\n",
       "      <td>advice:0.515011</td>\n",
       "      <td>...</td>\n",
       "      <td>assistant:0.317779</td>\n",
       "      <td>tough:0.317600</td>\n",
       "      <td>suborns:0.316846</td>\n",
       "      <td>his:0.316752</td>\n",
       "      <td>fiance�:0.316585</td>\n",
       "      <td>perjuring:0.316094</td>\n",
       "      <td>juror:0.315800</td>\n",
       "      <td>ineffectively:0.315605</td>\n",
       "      <td>recused:0.314984</td>\n",
       "      <td>misadvising:0.314983</td>\n",
       "    </tr>\n",
       "    <tr>\n",
       "      <th>1</th>\n",
       "      <td>judges:0.573348</td>\n",
       "      <td>court:0.561687</td>\n",
       "      <td>prosecutor:0.488343</td>\n",
       "      <td>bench:0.484175</td>\n",
       "      <td>recommendation:0.471989</td>\n",
       "      <td>jurors:0.447416</td>\n",
       "      <td>magistrates:0.446405</td>\n",
       "      <td>referee:0.443262</td>\n",
       "      <td>presiding:0.443242</td>\n",
       "      <td>jury:0.441557</td>\n",
       "      <td>...</td>\n",
       "      <td>officer:0.264620</td>\n",
       "      <td>deserved:0.263849</td>\n",
       "      <td>arraignments:0.263753</td>\n",
       "      <td>voir:0.263017</td>\n",
       "      <td>bellwether:0.262970</td>\n",
       "      <td>evaluator:0.262867</td>\n",
       "      <td>venireperson:0.262665</td>\n",
       "      <td>pointedly:0.261880</td>\n",
       "      <td>ucfa:0.261417</td>\n",
       "      <td>settlegoode:0.261263</td>\n",
       "    </tr>\n",
       "    <tr>\n",
       "      <th>2</th>\n",
       "      <td>sac:0.693060</td>\n",
       "      <td>fac:0.677209</td>\n",
       "      <td>complaints:0.582464</td>\n",
       "      <td>pleading:0.581362</td>\n",
       "      <td>amended:0.567903</td>\n",
       "      <td>allegations:0.566583</td>\n",
       "      <td>pleadings:0.565637</td>\n",
       "      <td>lawsuit:0.558302</td>\n",
       "      <td>counterclaim:0.524657</td>\n",
       "      <td>suit:0.496473</td>\n",
       "      <td>...</td>\n",
       "      <td>rskco:0.276684</td>\n",
       "      <td>efendants:0.276324</td>\n",
       "      <td>ftcr:0.276219</td>\n",
       "      <td>ymus:0.276137</td>\n",
       "      <td>erf:0.275967</td>\n",
       "      <td>restated:0.275596</td>\n",
       "      <td>notice:0.275504</td>\n",
       "      <td>initially:0.275419</td>\n",
       "      <td>qcp:0.274687</td>\n",
       "      <td>efp:0.274586</td>\n",
       "    </tr>\n",
       "    <tr>\n",
       "      <th>3</th>\n",
       "      <td>statutes:0.731126</td>\n",
       "      <td>provision:0.628752</td>\n",
       "      <td>statutory:0.597145</td>\n",
       "      <td>regulation:0.576650</td>\n",
       "      <td>section:0.546472</td>\n",
       "      <td>legislation:0.531317</td>\n",
       "      <td>text:0.524833</td>\n",
       "      <td>legislature:0.515152</td>\n",
       "      <td>language:0.512638</td>\n",
       "      <td>tcpa:0.508470</td>\n",
       "      <td>...</td>\n",
       "      <td>instrument:0.282920</td>\n",
       "      <td>construction:0.282073</td>\n",
       "      <td>iccta:0.282056</td>\n",
       "      <td>ecpa:0.282043</td>\n",
       "      <td>explicit:0.281963</td>\n",
       "      <td>proscribe:0.281838</td>\n",
       "      <td>broad:0.281545</td>\n",
       "      <td>accrual:0.281028</td>\n",
       "      <td>regime:0.280818</td>\n",
       "      <td>expansively:0.280509</td>\n",
       "    </tr>\n",
       "    <tr>\n",
       "      <th>4</th>\n",
       "      <td>defendant:0.585073</td>\n",
       "      <td>defendants:0.497403</td>\n",
       "      <td>plaintiffs:0.489400</td>\n",
       "      <td>claim:0.467353</td>\n",
       "      <td>retaliation:0.465962</td>\n",
       "      <td>suit:0.447975</td>\n",
       "      <td>complaint:0.427251</td>\n",
       "      <td>lawsuit:0.426896</td>\n",
       "      <td>action:0.421000</td>\n",
       "      <td>defamation:0.406863</td>\n",
       "      <td>...</td>\n",
       "      <td>requisite:0.246096</td>\n",
       "      <td>injunctive:0.244991</td>\n",
       "      <td>insufficient:0.244975</td>\n",
       "      <td>protected:0.244885</td>\n",
       "      <td>attorney:0.244636</td>\n",
       "      <td>assertedly:0.244490</td>\n",
       "      <td>harassment:0.243950</td>\n",
       "      <td>libel:0.243874</td>\n",
       "      <td>secretarya:0.243742</td>\n",
       "      <td>distress:0.243722</td>\n",
       "    </tr>\n",
       "    <tr>\n",
       "      <th>...</th>\n",
       "      <td>...</td>\n",
       "      <td>...</td>\n",
       "      <td>...</td>\n",
       "      <td>...</td>\n",
       "      <td>...</td>\n",
       "      <td>...</td>\n",
       "      <td>...</td>\n",
       "      <td>...</td>\n",
       "      <td>...</td>\n",
       "      <td>...</td>\n",
       "      <td>...</td>\n",
       "      <td>...</td>\n",
       "      <td>...</td>\n",
       "      <td>...</td>\n",
       "      <td>...</td>\n",
       "      <td>...</td>\n",
       "      <td>...</td>\n",
       "      <td>...</td>\n",
       "      <td>...</td>\n",
       "      <td>...</td>\n",
       "      <td>...</td>\n",
       "    </tr>\n",
       "    <tr>\n",
       "      <th>95</th>\n",
       "      <td>text:0.516622</td>\n",
       "      <td>explanatory:0.510073</td>\n",
       "      <td>commentary:0.501295</td>\n",
       "      <td>prefatory:0.480191</td>\n",
       "      <td>preambles:0.479283</td>\n",
       "      <td>language:0.469126</td>\n",
       "      <td>accompanying:0.468368</td>\n",
       "      <td>promulgating:0.456118</td>\n",
       "      <td>specification:0.455241</td>\n",
       "      <td>interpretative:0.454842</td>\n",
       "      <td>...</td>\n",
       "      <td>bill:0.304300</td>\n",
       "      <td>peptide:0.304237</td>\n",
       "      <td>sess:0.303574</td>\n",
       "      <td>atomic:0.303449</td>\n",
       "      <td>kustom:0.303218</td>\n",
       "      <td>subtitle:0.303167</td>\n",
       "      <td>define:0.302761</td>\n",
       "      <td>parenchymal:0.302736</td>\n",
       "      <td>ioia:0.302537</td>\n",
       "      <td>sponsor:0.302527</td>\n",
       "    </tr>\n",
       "    <tr>\n",
       "      <th>96</th>\n",
       "      <td>offences:0.660255</td>\n",
       "      <td>nonbailable:0.603312</td>\n",
       "      <td>sedition:0.598929</td>\n",
       "      <td>piracies:0.577797</td>\n",
       "      <td>infamous:0.552053</td>\n",
       "      <td>offence:0.545139</td>\n",
       "      <td>blasphemy:0.511416</td>\n",
       "      <td>bailable:0.487861</td>\n",
       "      <td>crimes:0.485590</td>\n",
       "      <td>prosecutions:0.464686</td>\n",
       "      <td>...</td>\n",
       "      <td>signification:0.329371</td>\n",
       "      <td>bjs:0.328778</td>\n",
       "      <td>armies:0.328680</td>\n",
       "      <td>raping:0.328674</td>\n",
       "      <td>hamling:0.328465</td>\n",
       "      <td>arraigned:0.328151</td>\n",
       "      <td>pardoning:0.327800</td>\n",
       "      <td>mercenaries:0.327431</td>\n",
       "      <td>mob:0.327276</td>\n",
       "      <td>paupers:0.327253</td>\n",
       "    </tr>\n",
       "    <tr>\n",
       "      <th>97</th>\n",
       "      <td>writs:0.578947</td>\n",
       "      <td>mandamus:0.573579</td>\n",
       "      <td>petition:0.554302</td>\n",
       "      <td>rehearing:0.524594</td>\n",
       "      <td>mandate:0.493540</td>\n",
       "      <td>forthwith:0.490283</td>\n",
       "      <td>certiorari:0.485190</td>\n",
       "      <td>habeas:0.469726</td>\n",
       "      <td>directing:0.434530</td>\n",
       "      <td>petitioned:0.430222</td>\n",
       "      <td>...</td>\n",
       "      <td>probate:0.239389</td>\n",
       "      <td>reprosecution:0.239335</td>\n",
       "      <td>unopposed:0.238948</td>\n",
       "      <td>untimely:0.238666</td>\n",
       "      <td>resentenced:0.238430</td>\n",
       "      <td>fegans:0.238196</td>\n",
       "      <td>decreeing:0.238171</td>\n",
       "      <td>nnp:0.238154</td>\n",
       "      <td>equest:0.237966</td>\n",
       "      <td>expedited:0.237918</td>\n",
       "    </tr>\n",
       "    <tr>\n",
       "      <th>98</th>\n",
       "      <td>misrepresentation:0.706190</td>\n",
       "      <td>inducement:0.584641</td>\n",
       "      <td>nondisclosures:0.555844</td>\n",
       "      <td>misrepresentations:0.550625</td>\n",
       "      <td>fraud:0.547606</td>\n",
       "      <td>concealed:0.523566</td>\n",
       "      <td>contrivances:0.514915</td>\n",
       "      <td>deceit:0.510850</td>\n",
       "      <td>deceitful:0.501461</td>\n",
       "      <td>deception:0.493701</td>\n",
       "      <td>...</td>\n",
       "      <td>appling:0.284348</td>\n",
       "      <td>morganroths:0.283551</td>\n",
       "      <td>colludes:0.283332</td>\n",
       "      <td>hgp:0.283068</td>\n",
       "      <td>willfully:0.282752</td>\n",
       "      <td>miscreant:0.282742</td>\n",
       "      <td>mistake:0.282626</td>\n",
       "      <td>njcfa:0.281759</td>\n",
       "      <td>dunne:0.281594</td>\n",
       "      <td>obp:0.281592</td>\n",
       "    </tr>\n",
       "    <tr>\n",
       "      <th>99</th>\n",
       "      <td>autopsy:0.734058</td>\n",
       "      <td>autopsies:0.652376</td>\n",
       "      <td>corneas:0.650315</td>\n",
       "      <td>pathologist:0.595841</td>\n",
       "      <td>autopsied:0.591999</td>\n",
       "      <td>decomposed:0.551296</td>\n",
       "      <td>strangulation:0.521827</td>\n",
       "      <td>postmortem:0.514404</td>\n",
       "      <td>exhumed:0.514159</td>\n",
       "      <td>hematoma:0.502853</td>\n",
       "      <td>...</td>\n",
       "      <td>mangled:0.355710</td>\n",
       "      <td>wooded:0.355572</td>\n",
       "      <td>mutilated:0.355022</td>\n",
       "      <td>paramedic:0.354886</td>\n",
       "      <td>larynx:0.354761</td>\n",
       "      <td>smears:0.354696</td>\n",
       "      <td>amputation:0.354611</td>\n",
       "      <td>hemorrhages:0.354530</td>\n",
       "      <td>vaginal:0.354476</td>\n",
       "      <td>mortuaries:0.354436</td>\n",
       "    </tr>\n",
       "  </tbody>\n",
       "</table>\n",
       "<p>100 rows × 200 columns</p>\n",
       "</div>"
      ],
      "text/plain": [
       "                    Unnamed: 0            Unnamed: 1               Unnamed: 2  \\\n",
       "0              client:0.804371      lawyers:0.690381         counsel:0.683157   \n",
       "1              judges:0.573348        court:0.561687      prosecutor:0.488343   \n",
       "2                 sac:0.693060          fac:0.677209      complaints:0.582464   \n",
       "3            statutes:0.731126    provision:0.628752       statutory:0.597145   \n",
       "4           defendant:0.585073   defendants:0.497403      plaintiffs:0.489400   \n",
       "..                         ...                   ...                      ...   \n",
       "95               text:0.516622  explanatory:0.510073      commentary:0.501295   \n",
       "96           offences:0.660255  nonbailable:0.603312        sedition:0.598929   \n",
       "97              writs:0.578947     mandamus:0.573579        petition:0.554302   \n",
       "98  misrepresentation:0.706190   inducement:0.584641  nondisclosures:0.555844   \n",
       "99            autopsy:0.734058    autopsies:0.652376         corneas:0.650315   \n",
       "\n",
       "                     Unnamed: 3               Unnamed: 4  \\\n",
       "0             attorney:0.634477         clients:0.590072   \n",
       "1                bench:0.484175  recommendation:0.471989   \n",
       "2             pleading:0.581362         amended:0.567903   \n",
       "3           regulation:0.576650         section:0.546472   \n",
       "4                claim:0.467353     retaliation:0.465962   \n",
       "..                          ...                      ...   \n",
       "95           prefatory:0.480191       preambles:0.479283   \n",
       "96            piracies:0.577797        infamous:0.552053   \n",
       "97           rehearing:0.524594         mandate:0.493540   \n",
       "98  misrepresentations:0.550625           fraud:0.547606   \n",
       "99         pathologist:0.595841       autopsied:0.591999   \n",
       "\n",
       "                 Unnamed: 5              Unnamed: 6             Unnamed: 7  \\\n",
       "0   representation:0.535750      ethically:0.516369      defender:0.516301   \n",
       "1           jurors:0.447416    magistrates:0.446405       referee:0.443262   \n",
       "2      allegations:0.566583      pleadings:0.565637       lawsuit:0.558302   \n",
       "3      legislation:0.531317           text:0.524833   legislature:0.515152   \n",
       "4             suit:0.447975      complaint:0.427251       lawsuit:0.426896   \n",
       "..                      ...                     ...                    ...   \n",
       "95        language:0.469126   accompanying:0.468368  promulgating:0.456118   \n",
       "96         offence:0.545139      blasphemy:0.511416      bailable:0.487861   \n",
       "97       forthwith:0.490283     certiorari:0.485190        habeas:0.469726   \n",
       "98       concealed:0.523566   contrivances:0.514915        deceit:0.510850   \n",
       "99      decomposed:0.551296  strangulation:0.521827    postmortem:0.514404   \n",
       "\n",
       "                Unnamed: 8               Unnamed: 9  ...  \\\n",
       "0            firm:0.515959          advice:0.515011  ...   \n",
       "1       presiding:0.443242            jury:0.441557  ...   \n",
       "2    counterclaim:0.524657            suit:0.496473  ...   \n",
       "3        language:0.512638            tcpa:0.508470  ...   \n",
       "4          action:0.421000      defamation:0.406863  ...   \n",
       "..                     ...                      ...  ...   \n",
       "95  specification:0.455241  interpretative:0.454842  ...   \n",
       "96         crimes:0.485590    prosecutions:0.464686  ...   \n",
       "97      directing:0.434530      petitioned:0.430222  ...   \n",
       "98      deceitful:0.501461       deception:0.493701  ...   \n",
       "99        exhumed:0.514159        hematoma:0.502853  ...   \n",
       "\n",
       "              Unnamed: 190            Unnamed: 191           Unnamed: 192  \\\n",
       "0       assistant:0.317779          tough:0.317600       suborns:0.316846   \n",
       "1         officer:0.264620       deserved:0.263849  arraignments:0.263753   \n",
       "2           rskco:0.276684      efendants:0.276324          ftcr:0.276219   \n",
       "3      instrument:0.282920   construction:0.282073         iccta:0.282056   \n",
       "4       requisite:0.246096     injunctive:0.244991  insufficient:0.244975   \n",
       "..                     ...                     ...                    ...   \n",
       "95           bill:0.304300        peptide:0.304237          sess:0.303574   \n",
       "96  signification:0.329371            bjs:0.328778        armies:0.328680   \n",
       "97        probate:0.239389  reprosecution:0.239335     unopposed:0.238948   \n",
       "98        appling:0.284348    morganroths:0.283551      colludes:0.283332   \n",
       "99        mangled:0.355710         wooded:0.355572     mutilated:0.355022   \n",
       "\n",
       "          Unnamed: 193          Unnamed: 194         Unnamed: 195  \\\n",
       "0         his:0.316752      fiance�:0.316585   perjuring:0.316094   \n",
       "1        voir:0.263017   bellwether:0.262970   evaluator:0.262867   \n",
       "2        ymus:0.276137          erf:0.275967    restated:0.275596   \n",
       "3        ecpa:0.282043     explicit:0.281963   proscribe:0.281838   \n",
       "4   protected:0.244885     attorney:0.244636  assertedly:0.244490   \n",
       "..                 ...                   ...                  ...   \n",
       "95     atomic:0.303449       kustom:0.303218    subtitle:0.303167   \n",
       "96     raping:0.328674      hamling:0.328465   arraigned:0.328151   \n",
       "97   untimely:0.238666  resentenced:0.238430      fegans:0.238196   \n",
       "98        hgp:0.283068    willfully:0.282752   miscreant:0.282742   \n",
       "99  paramedic:0.354886       larynx:0.354761      smears:0.354696   \n",
       "\n",
       "             Unnamed: 196            Unnamed: 197         Unnamed: 198  \\\n",
       "0          juror:0.315800  ineffectively:0.315605     recused:0.314984   \n",
       "1   venireperson:0.262665      pointedly:0.261880        ucfa:0.261417   \n",
       "2         notice:0.275504      initially:0.275419         qcp:0.274687   \n",
       "3          broad:0.281545        accrual:0.281028      regime:0.280818   \n",
       "4     harassment:0.243950          libel:0.243874  secretarya:0.243742   \n",
       "..                    ...                     ...                  ...   \n",
       "95        define:0.302761    parenchymal:0.302736        ioia:0.302537   \n",
       "96     pardoning:0.327800    mercenaries:0.327431         mob:0.327276   \n",
       "97     decreeing:0.238171            nnp:0.238154      equest:0.237966   \n",
       "98       mistake:0.282626          njcfa:0.281759       dunne:0.281594   \n",
       "99    amputation:0.354611    hemorrhages:0.354530     vaginal:0.354476   \n",
       "\n",
       "            Unnamed: 199  \n",
       "0   misadvising:0.314983  \n",
       "1   settlegoode:0.261263  \n",
       "2           efp:0.274586  \n",
       "3   expansively:0.280509  \n",
       "4      distress:0.243722  \n",
       "..                   ...  \n",
       "95      sponsor:0.302527  \n",
       "96      paupers:0.327253  \n",
       "97    expedited:0.237918  \n",
       "98          obp:0.281592  \n",
       "99   mortuaries:0.354436  \n",
       "\n",
       "[100 rows x 200 columns]"
      ]
     },
     "execution_count": 10,
     "metadata": {},
     "output_type": "execute_result"
    }
   ],
   "source": [
    "legalembeddings"
   ]
  },
  {
   "cell_type": "code",
   "execution_count": 19,
   "metadata": {},
   "outputs": [],
   "source": [
    "t=0\n",
    "legalemb = []\n",
    "while(t<100):\n",
    "    legalemb.extend(legalembeddings.iloc[t].values)\n",
    "    t+=1"
   ]
  },
  {
   "cell_type": "code",
   "execution_count": 114,
   "metadata": {},
   "outputs": [],
   "source": [
    "ltokens = []\n",
    "lvector = []\n",
    "for i in legalemb:\n",
    "    ltokens.append(i.split(':')[0])\n",
    "    lvector.append(i.split(':')[1])"
   ]
  },
  {
   "cell_type": "code",
   "execution_count": 24,
   "metadata": {},
   "outputs": [
    {
     "name": "stdout",
     "output_type": "stream",
     "text": [
      "20000\n",
      "20000\n"
     ]
    }
   ],
   "source": [
    "print(len(ltokens))\n",
    "print(len(lvector))"
   ]
  },
  {
   "cell_type": "code",
   "execution_count": 25,
   "metadata": {},
   "outputs": [
    {
     "name": "stdout",
     "output_type": "stream",
     "text": [
      "9697\n",
      "18154\n",
      "19695\n"
     ]
    }
   ],
   "source": [
    "t=0\n",
    "while(t<len(ltokens)):\n",
    "    if(ltokens[t] == 'disclose'):\n",
    "        print(t)\n",
    "    t+=1"
   ]
  },
  {
   "cell_type": "code",
   "execution_count": 115,
   "metadata": {},
   "outputs": [],
   "source": [
    "v1 = float(lvector[9697])"
   ]
  },
  {
   "cell_type": "code",
   "execution_count": 116,
   "metadata": {},
   "outputs": [
    {
     "data": {
      "text/plain": [
       "0.323919"
      ]
     },
     "execution_count": 116,
     "metadata": {},
     "output_type": "execute_result"
    }
   ],
   "source": [
    "v1"
   ]
  },
  {
   "cell_type": "code",
   "execution_count": 118,
   "metadata": {},
   "outputs": [
    {
     "data": {
      "text/plain": [
       "0.014291666666666702"
      ]
     },
     "execution_count": 118,
     "metadata": {},
     "output_type": "execute_result"
    }
   ],
   "source": [
    "v1-v0"
   ]
  },
  {
   "cell_type": "code",
   "execution_count": 30,
   "metadata": {},
   "outputs": [
    {
     "name": "stdout",
     "output_type": "stream",
     "text": [
      "182\n",
      "18145\n"
     ]
    }
   ],
   "source": [
    "t=0\n",
    "while(t<len(ltokens)):\n",
    "    if(ltokens[t] == 'communicate'):\n",
    "        print(t)\n",
    "    t+=1"
   ]
  },
  {
   "cell_type": "code",
   "execution_count": 38,
   "metadata": {},
   "outputs": [],
   "source": [
    "v0 = float(lvector[9697])\n",
    "v1 = float(lvector[182])"
   ]
  },
  {
   "cell_type": "code",
   "execution_count": 34,
   "metadata": {},
   "outputs": [],
   "source": [
    "import numpy as np"
   ]
  },
  {
   "cell_type": "code",
   "execution_count": 251,
   "metadata": {},
   "outputs": [],
   "source": [
    "def cosine_sim(a, b):\n",
    "    cos_sim = np.dot(a, b)/(np.linalg.norm(a)*np.linalg.norm(b))\n",
    "    return cos_sim"
   ]
  },
  {
   "cell_type": "code",
   "execution_count": 117,
   "metadata": {},
   "outputs": [
    {
     "data": {
      "text/plain": [
       "0.3096273333333333"
      ]
     },
     "execution_count": 117,
     "metadata": {},
     "output_type": "execute_result"
    }
   ],
   "source": [
    "v0 = (float(lvector[19695]) + float(lvector[9697]) + float(lvector[18154]))/3 \n",
    "v0"
   ]
  },
  {
   "cell_type": "code",
   "execution_count": 119,
   "metadata": {},
   "outputs": [],
   "source": [
    "t=0\n",
    "sim = []\n",
    "while(t<len(lvector)):\n",
    "    v1 = float(lvector[t])\n",
    "    #print(v1)\n",
    "    sim.append([t,abs(v0-v1)])\n",
    "    t+=1"
   ]
  },
  {
   "cell_type": "code",
   "execution_count": 120,
   "metadata": {},
   "outputs": [],
   "source": [
    "def Sort(sub_li): \n",
    "    l = len(sub_li) \n",
    "    for i in range(0, l): \n",
    "        for j in range(0, l-i-1): \n",
    "            if (sub_li[j][1] > sub_li[j + 1][1]): \n",
    "                tempo = sub_li[j] \n",
    "                sub_li[j]= sub_li[j + 1] \n",
    "                sub_li[j + 1]= tempo \n",
    "    return sub_li "
   ]
  },
  {
   "cell_type": "code",
   "execution_count": 121,
   "metadata": {},
   "outputs": [],
   "source": [
    "simsort = Sort(sim)"
   ]
  },
  {
   "cell_type": "code",
   "execution_count": 122,
   "metadata": {},
   "outputs": [
    {
     "name": "stdout",
     "output_type": "stream",
     "text": [
      "3.3333333332996595e-06\n",
      "latch\n",
      "1.9666666666695587e-05\n",
      "intelligent\n",
      "2.333333333331966e-05\n",
      "binder\n",
      "3.066666666667883e-05\n",
      "annotation\n",
      "3.733333333333366e-05\n",
      "affiant\n",
      "4.333333333328415e-05\n",
      "negligent\n",
      "4.333333333328415e-05\n",
      "alleged\n",
      "4.633333333331491e-05\n",
      "pbgc\n",
      "4.633333333331491e-05\n",
      "tro\n",
      "4.766666666666808e-05\n",
      "precursor\n",
      "5.033333333331891e-05\n",
      "irregularities\n",
      "5.566666666667608e-05\n",
      "entered\n",
      "5.6666666666704835e-05\n",
      "ftca\n",
      "5.833333333332691e-05\n",
      "shackling\n",
      "5.833333333332691e-05\n",
      "stamped\n",
      "6.133333333330215e-05\n",
      "naturalizes\n",
      "6.266666666671084e-05\n",
      "foucha\n",
      "6.366666666668408e-05\n",
      "sales\n",
      "6.633333333333491e-05\n",
      "contract\n",
      "6.733333333330815e-05\n",
      "sulindac\n"
     ]
    }
   ],
   "source": [
    "#For the word: disclose\n",
    "t=0\n",
    "while(t<20):\n",
    "    p = simsort[t]\n",
    "    print(p[1])\n",
    "    print(ltokens[p[0]])\n",
    "    t+=1"
   ]
  },
  {
   "cell_type": "markdown",
   "metadata": {},
   "source": [
    "Raw Legal - SigmaLaw"
   ]
  },
  {
   "cell_type": "code",
   "execution_count": 125,
   "metadata": {},
   "outputs": [],
   "source": [
    "from gensim.models.keyedvectors import KeyedVectors"
   ]
  },
  {
   "cell_type": "code",
   "execution_count": 173,
   "metadata": {},
   "outputs": [],
   "source": [
    "model = KeyedVectors.load_word2vec_format('/home/deepti-saravanan/Music/raw-legal/no_replacements/legalrawwoldmodel.bin', binary=True, unicode_errors='ignore')\n",
    "model.save_word2vec_format('/home/deepti-saravanan/Music/raw-legal/no_replacements/legalmodeltext.txt', binary=False)"
   ]
  },
  {
   "cell_type": "code",
   "execution_count": 175,
   "metadata": {},
   "outputs": [],
   "source": [
    "m = KeyedVectors.load_word2vec_format('/home/deepti-saravanan/Music/raw-legal/no_replacements/legalmodeltext.txt',binary=False, unicode_errors='ignore')"
   ]
  },
  {
   "cell_type": "code",
   "execution_count": 177,
   "metadata": {},
   "outputs": [
    {
     "data": {
      "text/plain": [
       "[('disclosed', 0.6549974679946899),\n",
       " ('divulge', 0.646884560585022),\n",
       " ('inform', 0.6024377346038818),\n",
       " ('reveal', 0.5870198011398315),\n",
       " ('disclosing', 0.554264485836029),\n",
       " ('advise', 0.5521823167800903),\n",
       " ('produce', 0.5463437438011169),\n",
       " ('identify', 0.5454543828964233),\n",
       " ('disclosure', 0.5409607887268066),\n",
       " ('investigate', 0.5341242551803589)]"
      ]
     },
     "execution_count": 177,
     "metadata": {},
     "output_type": "execute_result"
    }
   ],
   "source": [
    "m.most_similar('disclose')"
   ]
  },
  {
   "cell_type": "code",
   "execution_count": 178,
   "metadata": {},
   "outputs": [
    {
     "data": {
      "text/plain": [
       "[('announced', 0.5799641609191895),\n",
       " ('announcing', 0.5693395137786865),\n",
       " ('announces', 0.5257490873336792),\n",
       " ('adhere', 0.47634491324424744),\n",
       " ('relax', 0.43053096532821655),\n",
       " ('adopt', 0.41156327724456787),\n",
       " ('endorse', 0.4089587926864624),\n",
       " ('reaffirm', 0.40665102005004883),\n",
       " ('knock', 0.4040679931640625),\n",
       " ('apply', 0.402182936668396)]"
      ]
     },
     "execution_count": 178,
     "metadata": {},
     "output_type": "execute_result"
    }
   ],
   "source": [
    "m.most_similar('announce')"
   ]
  },
  {
   "cell_type": "code",
   "execution_count": 179,
   "metadata": {},
   "outputs": [
    {
     "data": {
      "text/plain": [
       "[('speak', 0.7009037733078003),\n",
       " ('communicating', 0.6504828929901123),\n",
       " ('communicated', 0.6370362043380737),\n",
       " ('interact', 0.6138386726379395),\n",
       " ('learn', 0.6067314743995667),\n",
       " ('inform', 0.5706433057785034),\n",
       " ('disseminate', 0.5676958560943604),\n",
       " ('convey', 0.5600627064704895),\n",
       " ('consult', 0.5483720302581787),\n",
       " ('relay', 0.546090304851532)]"
      ]
     },
     "execution_count": 179,
     "metadata": {},
     "output_type": "execute_result"
    }
   ],
   "source": [
    "m.most_similar('communicate')"
   ]
  },
  {
   "cell_type": "code",
   "execution_count": 185,
   "metadata": {},
   "outputs": [
    {
     "data": {
      "text/plain": [
       "[('advise', 0.8715362548828125),\n",
       " ('notify', 0.7411466836929321),\n",
       " ('consult', 0.6257838606834412),\n",
       " ('apprise', 0.6225277185440063),\n",
       " ('informed', 0.6159007549285889),\n",
       " ('informing', 0.6094005703926086),\n",
       " ('disclose', 0.6024376749992371),\n",
       " ('apprised', 0.5943649411201477),\n",
       " ('respond', 0.5743628144264221),\n",
       " ('communicate', 0.5706433057785034)]"
      ]
     },
     "execution_count": 185,
     "metadata": {},
     "output_type": "execute_result"
    }
   ],
   "source": [
    "m.most_similar('inform')"
   ]
  },
  {
   "cell_type": "code",
   "execution_count": 181,
   "metadata": {},
   "outputs": [
    {
     "data": {
      "text/plain": [
       "0.2290683"
      ]
     },
     "execution_count": 181,
     "metadata": {},
     "output_type": "execute_result"
    }
   ],
   "source": [
    "m.similarity('announce', 'communicate')"
   ]
  },
  {
   "cell_type": "code",
   "execution_count": 182,
   "metadata": {},
   "outputs": [
    {
     "data": {
      "text/plain": [
       "0.44627306"
      ]
     },
     "execution_count": 182,
     "metadata": {},
     "output_type": "execute_result"
    }
   ],
   "source": [
    "m.similarity('disclose', 'communicate')"
   ]
  },
  {
   "cell_type": "code",
   "execution_count": 183,
   "metadata": {},
   "outputs": [
    {
     "data": {
      "text/plain": [
       "0.18253353"
      ]
     },
     "execution_count": 183,
     "metadata": {},
     "output_type": "execute_result"
    }
   ],
   "source": [
    "m.similarity('disclose', 'announce')"
   ]
  },
  {
   "cell_type": "code",
   "execution_count": 184,
   "metadata": {},
   "outputs": [
    {
     "name": "stdout",
     "output_type": "stream",
     "text": [
      "inform: 0.5380\n"
     ]
    }
   ],
   "source": [
    "result = m.most_similar_cosmul(positive=['announce', 'disclose'])\n",
    "most_similar_key, similarity = result[0]  # look at the first match\n",
    "print(f\"{most_similar_key}: {similarity:.4f}\")"
   ]
  },
  {
   "cell_type": "code",
   "execution_count": 198,
   "metadata": {},
   "outputs": [
    {
     "data": {
      "text/plain": [
       "0.18253353"
      ]
     },
     "execution_count": 198,
     "metadata": {},
     "output_type": "execute_result"
    }
   ],
   "source": [
    "v0 = m.get_vector('announce')\n",
    "v1 = m.get_vector('disclose')\n",
    "cosine_sim(v0,v1)"
   ]
  },
  {
   "cell_type": "code",
   "execution_count": 199,
   "metadata": {},
   "outputs": [
    {
     "data": {
      "text/plain": [
       "0.22906831"
      ]
     },
     "execution_count": 199,
     "metadata": {},
     "output_type": "execute_result"
    }
   ],
   "source": [
    "v0 = m.get_vector('announce')\n",
    "v1 = m.get_vector('communicate')\n",
    "cosine_sim(v0,v1)"
   ]
  },
  {
   "cell_type": "markdown",
   "metadata": {},
   "source": [
    "SigmaLaw - Raw Legal NNP Replaced"
   ]
  },
  {
   "cell_type": "code",
   "execution_count": 186,
   "metadata": {},
   "outputs": [],
   "source": [
    "model = KeyedVectors.load_word2vec_format('/home/deepti-saravanan/Music/raw-legal/NNP_replaced/legalrawtextreplacewithnnp.bin', binary=True, unicode_errors='ignore')\n",
    "model.save_word2vec_format('/home/deepti-saravanan/Music/raw-legal/NNP_replaced/lawmodel.txt', binary=False)"
   ]
  },
  {
   "cell_type": "code",
   "execution_count": 187,
   "metadata": {},
   "outputs": [],
   "source": [
    "m1 = KeyedVectors.load_word2vec_format('/home/deepti-saravanan/Music/raw-legal/NNP_replaced/lawmodel.txt',binary=False, unicode_errors='ignore')"
   ]
  },
  {
   "cell_type": "code",
   "execution_count": 188,
   "metadata": {},
   "outputs": [
    {
     "data": {
      "text/plain": [
       "[('disclosed', 0.6471325755119324),\n",
       " ('divulge', 0.6000357866287231),\n",
       " ('inform', 0.5889574289321899),\n",
       " ('reveal', 0.5752207040786743),\n",
       " ('discover', 0.5653939247131348),\n",
       " ('disclosing', 0.5624460577964783),\n",
       " ('disclosure', 0.5331306457519531),\n",
       " ('investigate', 0.5321711301803589),\n",
       " ('misrepresent', 0.5296716094017029),\n",
       " ('advise', 0.5242277383804321)]"
      ]
     },
     "execution_count": 188,
     "metadata": {},
     "output_type": "execute_result"
    }
   ],
   "source": [
    "m1.most_similar('disclose')"
   ]
  },
  {
   "cell_type": "code",
   "execution_count": 189,
   "metadata": {},
   "outputs": [
    {
     "data": {
      "text/plain": [
       "[('announced', 0.5820075273513794),\n",
       " ('announcing', 0.5633644461631775),\n",
       " ('announces', 0.5074188113212585),\n",
       " ('adhere', 0.49339452385902405),\n",
       " ('reaffirm', 0.4600294232368469),\n",
       " ('knock', 0.43976032733917236),\n",
       " ('adopt', 0.4255807399749756),\n",
       " ('enunciate', 0.4171063303947449),\n",
       " ('overrule', 0.41534024477005005),\n",
       " ('revisit', 0.40177950263023376)]"
      ]
     },
     "execution_count": 189,
     "metadata": {},
     "output_type": "execute_result"
    }
   ],
   "source": [
    "m1.most_similar('announce')"
   ]
  },
  {
   "cell_type": "code",
   "execution_count": 190,
   "metadata": {},
   "outputs": [
    {
     "data": {
      "text/plain": [
       "[('speak', 0.6908935308456421),\n",
       " ('communicated', 0.6559414863586426),\n",
       " ('communicating', 0.6463949084281921),\n",
       " ('relay', 0.6011410355567932),\n",
       " ('interact', 0.5960025787353516),\n",
       " ('learn', 0.5953488349914551),\n",
       " ('disseminate', 0.5673233270645142),\n",
       " ('inform', 0.5529935359954834),\n",
       " ('convey', 0.5420882701873779),\n",
       " ('advise', 0.5361782312393188)]"
      ]
     },
     "execution_count": 190,
     "metadata": {},
     "output_type": "execute_result"
    }
   ],
   "source": [
    "m1.most_similar('communicate')"
   ]
  },
  {
   "cell_type": "code",
   "execution_count": 192,
   "metadata": {},
   "outputs": [
    {
     "data": {
      "text/plain": [
       "[('advise', 0.8513647317886353),\n",
       " ('notify', 0.7412477731704712),\n",
       " ('apprise', 0.6123013496398926),\n",
       " ('informed', 0.6104136109352112),\n",
       " ('informing', 0.590215802192688),\n",
       " ('disclose', 0.5889574289321899),\n",
       " ('consult', 0.5815848112106323),\n",
       " ('apprised', 0.5803542137145996),\n",
       " ('alert', 0.577793300151825),\n",
       " ('respond', 0.55686354637146)]"
      ]
     },
     "execution_count": 192,
     "metadata": {},
     "output_type": "execute_result"
    }
   ],
   "source": [
    "m1.most_similar('inform')"
   ]
  },
  {
   "cell_type": "code",
   "execution_count": 193,
   "metadata": {},
   "outputs": [
    {
     "data": {
      "text/plain": [
       "0.24960788"
      ]
     },
     "execution_count": 193,
     "metadata": {},
     "output_type": "execute_result"
    }
   ],
   "source": [
    "m1.similarity('announce', 'communicate')"
   ]
  },
  {
   "cell_type": "code",
   "execution_count": 194,
   "metadata": {},
   "outputs": [
    {
     "data": {
      "text/plain": [
       "0.15220821"
      ]
     },
     "execution_count": 194,
     "metadata": {},
     "output_type": "execute_result"
    }
   ],
   "source": [
    "m1.similarity('announce', 'disclose')"
   ]
  },
  {
   "cell_type": "code",
   "execution_count": 195,
   "metadata": {},
   "outputs": [
    {
     "data": {
      "text/plain": [
       "0.4300669"
      ]
     },
     "execution_count": 195,
     "metadata": {},
     "output_type": "execute_result"
    }
   ],
   "source": [
    "m1.similarity('disclose', 'communicate')"
   ]
  },
  {
   "cell_type": "code",
   "execution_count": 191,
   "metadata": {},
   "outputs": [
    {
     "name": "stdout",
     "output_type": "stream",
     "text": [
      "inform: 0.5253\n"
     ]
    }
   ],
   "source": [
    "result = m1.most_similar_cosmul(positive=['announce', 'disclose'])\n",
    "most_similar_key, similarity = result[0]  # look at the first match\n",
    "print(f\"{most_similar_key}: {similarity:.4f}\")"
   ]
  },
  {
   "cell_type": "code",
   "execution_count": 196,
   "metadata": {},
   "outputs": [
    {
     "data": {
      "text/plain": [
       "0.15220822"
      ]
     },
     "execution_count": 196,
     "metadata": {},
     "output_type": "execute_result"
    }
   ],
   "source": [
    "v0 = m1.get_vector('announce')\n",
    "v1 = m1.get_vector('disclose')\n",
    "cosine_sim(v0,v1)"
   ]
  },
  {
   "cell_type": "code",
   "execution_count": 197,
   "metadata": {},
   "outputs": [
    {
     "data": {
      "text/plain": [
       "0.24960788"
      ]
     },
     "execution_count": 197,
     "metadata": {},
     "output_type": "execute_result"
    }
   ],
   "source": [
    "v0 = m1.get_vector('announce')\n",
    "v1 = m1.get_vector('communicate')\n",
    "cosine_sim(v0,v1)"
   ]
  },
  {
   "cell_type": "markdown",
   "metadata": {},
   "source": [
    "WordNet -> similarity score"
   ]
  },
  {
   "cell_type": "code",
   "execution_count": 201,
   "metadata": {},
   "outputs": [],
   "source": [
    "from nltk.corpus import wordnet"
   ]
  },
  {
   "cell_type": "markdown",
   "metadata": {},
   "source": [
    "Synonyms - Poor"
   ]
  },
  {
   "cell_type": "code",
   "execution_count": 207,
   "metadata": {},
   "outputs": [
    {
     "name": "stdout",
     "output_type": "stream",
     "text": [
      "[Synset('tell.v.02')]\n",
      "---------------------\n",
      "unwrap\n",
      "---------------------\n",
      "disclose\n",
      "---------------------\n",
      "let_on\n",
      "---------------------\n",
      "bring_out\n",
      "---------------------\n",
      "reveal\n",
      "---------------------\n",
      "discover\n",
      "---------------------\n",
      "expose\n",
      "---------------------\n",
      "divulge\n",
      "---------------------\n",
      "break\n",
      "---------------------\n",
      "give_away\n",
      "---------------------\n",
      "let_out\n",
      "---------------------\n",
      "[Synset('uncover.v.01')]\n",
      "---------------------\n",
      "disclose\n",
      "---------------------\n",
      "expose\n",
      "---------------------\n"
     ]
    }
   ],
   "source": [
    "for syn in wordnet.synsets('disclose', pos='v'):\n",
    "    print(syn.hypernyms())\n",
    "    print('---------------------')\n",
    "    for l in syn.lemmas():\n",
    "        print(l.name())\n",
    "        print('---------------------')"
   ]
  },
  {
   "cell_type": "code",
   "execution_count": 206,
   "metadata": {},
   "outputs": [
    {
     "name": "stdout",
     "output_type": "stream",
     "text": [
      "[Synset('convey.v.03')]\n",
      "---------------------\n",
      "communicate\n",
      "---------------------\n",
      "pass_on\n",
      "---------------------\n",
      "pass\n",
      "---------------------\n",
      "pass_along\n",
      "---------------------\n",
      "put_across\n",
      "---------------------\n",
      "[Synset('interact.v.01')]\n",
      "---------------------\n",
      "communicate\n",
      "---------------------\n",
      "intercommunicate\n",
      "---------------------\n",
      "[Synset('transfer.v.02')]\n",
      "---------------------\n",
      "convey\n",
      "---------------------\n",
      "transmit\n",
      "---------------------\n",
      "communicate\n",
      "---------------------\n",
      "[Synset('intercommunicate.v.01')]\n",
      "---------------------\n",
      "communicate\n",
      "---------------------\n",
      "[Synset('interact.v.01')]\n",
      "---------------------\n",
      "communicate\n",
      "---------------------\n",
      "[Synset('covenant.v.02')]\n",
      "---------------------\n",
      "communicate\n",
      "---------------------\n",
      "[Synset('covenant.v.02')]\n",
      "---------------------\n",
      "commune\n",
      "---------------------\n",
      "communicate\n",
      "---------------------\n"
     ]
    }
   ],
   "source": [
    "for syn in wordnet.synsets('communicate', pos='v'):\n",
    "    print(syn.hypernyms())\n",
    "    print('---------------------')\n",
    "    for l in syn.lemmas():\n",
    "        print(l.name())\n",
    "        print('---------------------')"
   ]
  },
  {
   "cell_type": "code",
   "execution_count": 205,
   "metadata": {},
   "outputs": [
    {
     "name": "stdout",
     "output_type": "stream",
     "text": [
      "[Synset('inform.v.01')]\n",
      "---------------------\n",
      "announce\n",
      "---------------------\n",
      "denote\n",
      "---------------------\n",
      "[Synset('state.v.01')]\n",
      "---------------------\n",
      "announce\n",
      "---------------------\n",
      "declare\n",
      "---------------------\n",
      "[Synset('name.v.02')]\n",
      "---------------------\n",
      "announce\n",
      "---------------------\n",
      "[Synset('tell.v.02')]\n",
      "---------------------\n",
      "announce\n",
      "---------------------\n",
      "annunciate\n",
      "---------------------\n",
      "harbinger\n",
      "---------------------\n",
      "foretell\n",
      "---------------------\n",
      "herald\n",
      "---------------------\n"
     ]
    }
   ],
   "source": [
    "for syn in wordnet.synsets('announce', pos='v'):\n",
    "    print(syn.hypernyms())\n",
    "    print('---------------------')\n",
    "    for l in syn.lemmas():\n",
    "        print(l.name())\n",
    "        print('---------------------')"
   ]
  },
  {
   "cell_type": "markdown",
   "metadata": {},
   "source": [
    "Similarity Score"
   ]
  },
  {
   "cell_type": "code",
   "execution_count": 210,
   "metadata": {},
   "outputs": [
    {
     "name": "stdout",
     "output_type": "stream",
     "text": [
      "0.25\n",
      "0.1111111111111111\n",
      "0.1\n",
      "0.14285714285714285\n",
      "0.09090909090909091\n",
      "0.125\n",
      "0.3333333333333333\n",
      "0.1\n"
     ]
    }
   ],
   "source": [
    "for syn in wordnet.synsets('announce', pos='v'):\n",
    "    for syn1 in wordnet.synsets('disclose',pos='v'):\n",
    "        print(syn.path_similarity(syn1))"
   ]
  },
  {
   "cell_type": "code",
   "execution_count": 214,
   "metadata": {},
   "outputs": [
    {
     "name": "stdout",
     "output_type": "stream",
     "text": [
      "0.5\n",
      "0.125\n",
      "0.3333333333333333\n",
      "0.125\n",
      "0.16666666666666666\n",
      "0.1111111111111111\n",
      "0.1111111111111111\n",
      "0.14285714285714285\n",
      "0.1\n",
      "0.3333333333333333\n",
      "0.1111111111111111\n",
      "0.25\n"
     ]
    }
   ],
   "source": [
    "for syn in wordnet.synsets('announce', pos='v'):\n",
    "    for syn1 in wordnet.synsets('inform',pos='v'):\n",
    "        print(syn.path_similarity(syn1))"
   ]
  },
  {
   "cell_type": "code",
   "execution_count": 215,
   "metadata": {},
   "outputs": [
    {
     "name": "stdout",
     "output_type": "stream",
     "text": [
      "0.1\n",
      "0.3333333333333333\n",
      "0.1111111111111111\n",
      "0.1\n",
      "0.2\n",
      "0.07692307692307693\n",
      "0.07692307692307693\n",
      "0.125\n",
      "0.14285714285714285\n",
      "0.14285714285714285\n",
      "0.125\n",
      "0.14285714285714285\n",
      "0.14285714285714285\n",
      "0.14285714285714285\n",
      "0.1111111111111111\n",
      "0.125\n",
      "0.125\n",
      "0.1111111111111111\n",
      "0.125\n",
      "0.08333333333333333\n",
      "0.08333333333333333\n",
      "0.09090909090909091\n",
      "0.25\n",
      "0.1\n",
      "0.09090909090909091\n",
      "0.16666666666666666\n",
      "0.07142857142857142\n",
      "0.07142857142857142\n"
     ]
    }
   ],
   "source": [
    "for syn in wordnet.synsets('announce', pos='v'):\n",
    "    for syn1 in wordnet.synsets('communicate',pos='v'):\n",
    "        print(syn.path_similarity(syn1))"
   ]
  },
  {
   "cell_type": "markdown",
   "metadata": {},
   "source": [
    "wup_similarity"
   ]
  },
  {
   "cell_type": "code",
   "execution_count": 217,
   "metadata": {},
   "outputs": [
    {
     "name": "stdout",
     "output_type": "stream",
     "text": [
      "0.7272727272727273\n",
      "0.2\n",
      "0.18181818181818182\n",
      "0.25\n",
      "0.16666666666666666\n",
      "0.2222222222222222\n",
      "0.8333333333333334\n",
      "0.18181818181818182\n"
     ]
    }
   ],
   "source": [
    "for syn in wordnet.synsets('announce', pos='v'):\n",
    "    for syn1 in wordnet.synsets('disclose',pos='v'):\n",
    "        print(syn.wup_similarity(syn1))"
   ]
  },
  {
   "cell_type": "code",
   "execution_count": 227,
   "metadata": {},
   "outputs": [
    {
     "name": "stdout",
     "output_type": "stream",
     "text": [
      "0.14285714285714285\n",
      "0.16666666666666666\n",
      "0.15384615384615385\n",
      "0.13333333333333333\n"
     ]
    }
   ],
   "source": [
    "for syn in wordnet.synsets('announce', pos='v'):\n",
    "    for syn1 in wordnet.synsets('disclosure',pos='n'):\n",
    "        print(syn.wup_similarity(syn1))"
   ]
  },
  {
   "cell_type": "code",
   "execution_count": 228,
   "metadata": {},
   "outputs": [
    {
     "name": "stdout",
     "output_type": "stream",
     "text": [
      "0.13333333333333333\n",
      "0.1111111111111111\n",
      "0.1111111111111111\n",
      "0.125\n",
      "0.15384615384615385\n",
      "0.125\n",
      "0.125\n",
      "0.14285714285714285\n",
      "0.14285714285714285\n",
      "0.11764705882352941\n",
      "0.11764705882352941\n",
      "0.13333333333333333\n",
      "0.125\n",
      "0.10526315789473684\n",
      "0.10526315789473684\n",
      "0.11764705882352941\n"
     ]
    }
   ],
   "source": [
    "for syn in wordnet.synsets('announce', pos='v'):\n",
    "    for syn1 in wordnet.synsets('coffee',pos='n'):\n",
    "        print(syn.wup_similarity(syn1))"
   ]
  },
  {
   "cell_type": "code",
   "execution_count": 218,
   "metadata": {},
   "outputs": [
    {
     "name": "stdout",
     "output_type": "stream",
     "text": [
      "0.18181818181818182\n",
      "0.75\n",
      "0.2\n",
      "0.18181818181818182\n",
      "0.5\n",
      "0.14285714285714285\n",
      "0.14285714285714285\n",
      "0.2222222222222222\n",
      "0.25\n",
      "0.25\n",
      "0.2222222222222222\n",
      "0.25\n",
      "0.4\n",
      "0.4\n",
      "0.2\n",
      "0.2222222222222222\n",
      "0.2222222222222222\n",
      "0.2\n",
      "0.2222222222222222\n",
      "0.15384615384615385\n",
      "0.15384615384615385\n",
      "0.16666666666666666\n",
      "0.6666666666666666\n",
      "0.18181818181818182\n",
      "0.16666666666666666\n",
      "0.4444444444444444\n",
      "0.13333333333333333\n",
      "0.13333333333333333\n"
     ]
    }
   ],
   "source": [
    "for syn in wordnet.synsets('announce', pos='v'):\n",
    "    for syn1 in wordnet.synsets('communicate',pos='v'):\n",
    "        print(syn.wup_similarity(syn1))"
   ]
  },
  {
   "cell_type": "code",
   "execution_count": 220,
   "metadata": {},
   "outputs": [
    {
     "name": "stdout",
     "output_type": "stream",
     "text": [
      "0.16666666666666666\n",
      "0.2222222222222222\n",
      "0.6666666666666666\n",
      "0.25\n",
      "0.18181818181818182\n",
      "0.25\n",
      "0.16666666666666666\n",
      "0.2222222222222222\n",
      "0.4444444444444444\n",
      "0.25\n",
      "0.13333333333333333\n",
      "0.16666666666666666\n",
      "0.13333333333333333\n",
      "0.16666666666666666\n"
     ]
    }
   ],
   "source": [
    "for syn in wordnet.synsets('communicate', pos='v'):\n",
    "    for syn1 in wordnet.synsets('disclose',pos='v'):\n",
    "        print(syn.wup_similarity(syn1))"
   ]
  },
  {
   "cell_type": "code",
   "execution_count": 221,
   "metadata": {},
   "outputs": [
    {
     "name": "stdout",
     "output_type": "stream",
     "text": [
      "0.16666666666666666\n",
      "0.2222222222222222\n",
      "0.2\n",
      "0.2857142857142857\n"
     ]
    }
   ],
   "source": [
    "for syn in wordnet.synsets('sleep', pos='v'):\n",
    "    for syn1 in wordnet.synsets('disclose',pos='v'):\n",
    "        print(syn.wup_similarity(syn1))"
   ]
  },
  {
   "cell_type": "code",
   "execution_count": 222,
   "metadata": {},
   "outputs": [
    {
     "name": "stdout",
     "output_type": "stream",
     "text": [
      "0.2\n",
      "0.2857142857142857\n"
     ]
    }
   ],
   "source": [
    "for syn in wordnet.synsets('laugh', pos='v'):\n",
    "    for syn1 in wordnet.synsets('disclose',pos='v'):\n",
    "        print(syn.wup_similarity(syn1))"
   ]
  },
  {
   "cell_type": "markdown",
   "metadata": {},
   "source": [
    "WordNet Definition similarity"
   ]
  },
  {
   "cell_type": "code",
   "execution_count": 224,
   "metadata": {},
   "outputs": [
    {
     "data": {
      "text/plain": [
       "'make known to the public information that was previously known only to a few people or that was meant to be kept a secret'"
      ]
     },
     "execution_count": 224,
     "metadata": {},
     "output_type": "execute_result"
    }
   ],
   "source": [
    "syns = wordnet.synsets(\"disclose\")\n",
    "d0 = syns[0].definition()\n",
    "d0"
   ]
  },
  {
   "cell_type": "code",
   "execution_count": 225,
   "metadata": {},
   "outputs": [
    {
     "data": {
      "text/plain": [
       "'make known; make an announcement'"
      ]
     },
     "execution_count": 225,
     "metadata": {},
     "output_type": "execute_result"
    }
   ],
   "source": [
    "syns = wordnet.synsets(\"announce\")\n",
    "d1 = syns[0].definition()\n",
    "d1"
   ]
  },
  {
   "cell_type": "code",
   "execution_count": 226,
   "metadata": {},
   "outputs": [
    {
     "data": {
      "text/plain": [
       "'transmit information'"
      ]
     },
     "execution_count": 226,
     "metadata": {},
     "output_type": "execute_result"
    }
   ],
   "source": [
    "syns = wordnet.synsets(\"communicate\")\n",
    "d2 = syns[0].definition()\n",
    "d2"
   ]
  },
  {
   "cell_type": "code",
   "execution_count": 242,
   "metadata": {},
   "outputs": [],
   "source": [
    "legalvocab = list(m1.vocab.keys())"
   ]
  },
  {
   "cell_type": "code",
   "execution_count": 246,
   "metadata": {},
   "outputs": [],
   "source": [
    "def avg_sentence_vector(words, model, num_features):\n",
    "    #function to average all words vectors in a given paragraph\n",
    "    featureVec = np.zeros((num_features,), dtype=\"float32\")\n",
    "    nwords = 0\n",
    "\n",
    "    for word in words:\n",
    "        if(word in legalvocab):\n",
    "            featureVec = np.add(featureVec, model.get_vector(word))\n",
    "\n",
    "    if nwords>0:\n",
    "        featureVec = np.divide(featureVec, nwords)\n",
    "    return featureVec"
   ]
  },
  {
   "cell_type": "code",
   "execution_count": 253,
   "metadata": {},
   "outputs": [
    {
     "data": {
      "text/plain": [
       "0.3598101"
      ]
     },
     "execution_count": 253,
     "metadata": {},
     "output_type": "execute_result"
    }
   ],
   "source": [
    "#get average vector for sentence 1\n",
    "sentence_1 = d0\n",
    "sentence_1_avg_vector = avg_sentence_vector(sentence_1.split(), model=m1, num_features=200)\n",
    "\n",
    "#get average vector for sentence 2\n",
    "sentence_2 = d1\n",
    "sentence_2_avg_vector = avg_sentence_vector(sentence_2.split(), model=m1, num_features=200)\n",
    "\n",
    "cosine_sim(sentence_1_avg_vector,sentence_2_avg_vector)"
   ]
  },
  {
   "cell_type": "code",
   "execution_count": 254,
   "metadata": {},
   "outputs": [
    {
     "data": {
      "text/plain": [
       "0.36945236"
      ]
     },
     "execution_count": 254,
     "metadata": {},
     "output_type": "execute_result"
    }
   ],
   "source": [
    "#get average vector for sentence 1\n",
    "sentence_1 = d0\n",
    "sentence_1_avg_vector = avg_sentence_vector(sentence_1.split(), model=m1, num_features=200)\n",
    "\n",
    "#get average vector for sentence 2\n",
    "sentence_2 = d2\n",
    "sentence_2_avg_vector = avg_sentence_vector(sentence_2.split(), model=m1, num_features=200)\n",
    "\n",
    "cosine_sim(sentence_1_avg_vector,sentence_2_avg_vector)"
   ]
  },
  {
   "cell_type": "code",
   "execution_count": 255,
   "metadata": {},
   "outputs": [
    {
     "data": {
      "text/plain": [
       "0.23893483"
      ]
     },
     "execution_count": 255,
     "metadata": {},
     "output_type": "execute_result"
    }
   ],
   "source": [
    "#get average vector for sentence 1\n",
    "sentence_1 = d2\n",
    "sentence_1_avg_vector = avg_sentence_vector(sentence_1.split(), model=m1, num_features=200)\n",
    "\n",
    "#get average vector for sentence 2\n",
    "sentence_2 = d1\n",
    "sentence_2_avg_vector = avg_sentence_vector(sentence_2.split(), model=m1, num_features=200)\n",
    "\n",
    "cosine_sim(sentence_1_avg_vector,sentence_2_avg_vector)"
   ]
  },
  {
   "cell_type": "markdown",
   "metadata": {},
   "source": [
    "## Query Processing Module"
   ]
  },
  {
   "cell_type": "markdown",
   "metadata": {},
   "source": [
    "#### Query Input"
   ]
  },
  {
   "cell_type": "markdown",
   "metadata": {},
   "source": [
    "YET TO DO: Prune parts of query after words like 'like'"
   ]
  },
  {
   "cell_type": "code",
   "execution_count": 291,
   "metadata": {},
   "outputs": [
    {
     "data": {
      "text/plain": [
       "['rule',\n",
       " 'India',\n",
       " 'SEBI',\n",
       " 'makes',\n",
       " 'companies',\n",
       " 'announce',\n",
       " 'important',\n",
       " 'corporate',\n",
       " 'news']"
      ]
     },
     "execution_count": 291,
     "metadata": {},
     "output_type": "execute_result"
    }
   ],
   "source": [
    "query = \"is there any rule in India by SEBI that makes companies to announce important corporate news?\"\n",
    "from nltk.corpus import stopwords\n",
    "query1 = \"\"\n",
    "qvocab=[]\n",
    "for i in query.split():\n",
    "    if(i not in stopwords.words()):\n",
    "        if(i != 'What' and i != 'what'):\n",
    "            qvocab.append(i)\n",
    "            query1 = query1 + \" \" + i\n",
    "t=0\n",
    "for i in qvocab:\n",
    "    if('?' in i):\n",
    "        qvocab[t] = qvocab[t].replace('?','')\n",
    "    t=t+1\n",
    "qvocab"
   ]
  },
  {
   "cell_type": "code",
   "execution_count": 292,
   "metadata": {},
   "outputs": [
    {
     "data": {
      "text/plain": [
       "' rule India SEBI makes companies announce important corporate news?'"
      ]
     },
     "execution_count": 292,
     "metadata": {},
     "output_type": "execute_result"
    }
   ],
   "source": [
    "query = query1\n",
    "query"
   ]
  },
  {
   "cell_type": "markdown",
   "metadata": {},
   "source": [
    "#### Document Specific?"
   ]
  },
  {
   "cell_type": "markdown",
   "metadata": {},
   "source": [
    "YET TO DO: Document names to be added to the docs list below"
   ]
  },
  {
   "cell_type": "code",
   "execution_count": null,
   "metadata": {},
   "outputs": [],
   "source": [
    "doc_v = []\n",
    "docs = ['prohibition of insider trading']\n",
    "for i in docs:\n",
    "    doc_v.append(i.split())\n",
    "doc_v"
   ]
  },
  {
   "cell_type": "code",
   "execution_count": null,
   "metadata": {},
   "outputs": [],
   "source": [
    "docinput = 'prohibition of insider trading'"
   ]
  },
  {
   "cell_type": "markdown",
   "metadata": {},
   "source": [
    "YET TO DO: \n",
    "- Read regulations accordingly"
   ]
  },
  {
   "cell_type": "code",
   "execution_count": 2,
   "metadata": {},
   "outputs": [],
   "source": [
    "%store -r docregs"
   ]
  },
  {
   "cell_type": "code",
   "execution_count": 3,
   "metadata": {},
   "outputs": [
    {
     "data": {
      "text/plain": [
       "20"
      ]
     },
     "execution_count": 3,
     "metadata": {},
     "output_type": "execute_result"
    }
   ],
   "source": [
    "len(docregs)"
   ]
  },
  {
   "cell_type": "code",
   "execution_count": 4,
   "metadata": {},
   "outputs": [],
   "source": [
    "allregulations = []\n",
    "for i in docregs:\n",
    "    for j in i:\n",
    "        allregulations.append(j)"
   ]
  },
  {
   "cell_type": "code",
   "execution_count": 8,
   "metadata": {},
   "outputs": [],
   "source": [
    "rules = allregulations"
   ]
  },
  {
   "cell_type": "code",
   "execution_count": 9,
   "metadata": {},
   "outputs": [],
   "source": [
    "t=-1\n",
    "vocab = []\n",
    "for i in rules:\n",
    "    t=t+1\n",
    "    vocab.append(i.split())"
   ]
  },
  {
   "cell_type": "code",
   "execution_count": 10,
   "metadata": {},
   "outputs": [],
   "source": [
    "#Topics documentwise\n",
    "%store -r finaltopics"
   ]
  },
  {
   "cell_type": "code",
   "execution_count": 12,
   "metadata": {},
   "outputs": [
    {
     "data": {
      "text/plain": [
       "276"
      ]
     },
     "execution_count": 12,
     "metadata": {},
     "output_type": "execute_result"
    }
   ],
   "source": [
    "import os, json\n",
    "import pandas as pd\n",
    "defdict = {}\n",
    "\n",
    "path_to_json = './Definitions/'\n",
    "json_files = [pos_json for pos_json in os.listdir(path_to_json) if pos_json.endswith('.json')]\n",
    "\n",
    "for i in json_files:\n",
    "    with open('./Definitions/'+i) as json_file: \n",
    "        data = json.load(json_file)\n",
    "    defdict.update(data)\n",
    "len(defdict)"
   ]
  },
  {
   "cell_type": "code",
   "execution_count": 14,
   "metadata": {},
   "outputs": [],
   "source": [
    "definitions = list(defdict.keys())"
   ]
  },
  {
   "cell_type": "code",
   "execution_count": 293,
   "metadata": {},
   "outputs": [],
   "source": [
    "if('regulations' in qvocab):\n",
    "    qvocab.remove('regulations')\n",
    "if('rules' in qvocab):\n",
    "    qvocab.remove('rules')\n",
    "if('rule' in qvocab):\n",
    "    qvocab.remove('rule')\n",
    "if('chapter' in qvocab):\n",
    "    qvocab.remove('chapter')\n",
    "if('section' in qvocab):\n",
    "    qvocab.remove('section')\n",
    "if('sub' in qvocab):\n",
    "    qvocab.remove('sub')\n",
    "if('SEBI' in qvocab):\n",
    "    qvocab.remove('SEBI')\n",
    "if('means' in qvocab):\n",
    "    qvocab.remove('means')\n",
    "if('shall' in qvocab):\n",
    "    qvocab.remove('shall')\n",
    "if('Securities' in qvocab):\n",
    "    qvocab.remove('Securities')\n",
    "if('Exchange' in qvocab):\n",
    "    qvocab.remove('Exchange')\n",
    "if('pertaining' in qvocab):\n",
    "    qvocab.remove('pertaining')\n",
    "if('India' in qvocab):\n",
    "    qvocab.remove('India')"
   ]
  },
  {
   "cell_type": "code",
   "execution_count": 294,
   "metadata": {},
   "outputs": [],
   "source": [
    "query = \"\"\n",
    "for i in qvocab:\n",
    "    query = query + \" \" + i"
   ]
  },
  {
   "cell_type": "code",
   "execution_count": 295,
   "metadata": {},
   "outputs": [
    {
     "data": {
      "text/plain": [
       "['makes', 'announce', 'important', 'news']"
      ]
     },
     "execution_count": 295,
     "metadata": {},
     "output_type": "execute_result"
    }
   ],
   "source": [
    "synwords = []\n",
    "importantwords = []\n",
    "for i in qvocab:\n",
    "    #print(i)\n",
    "    flag = 0\n",
    "    for j in definitions:\n",
    "        if(i in j):\n",
    "            flag = 1\n",
    "            break\n",
    "    if(flag == 1):\n",
    "        importantwords.append(i)\n",
    "    if(flag == 0):\n",
    "        synwords.append(i)\n",
    "for i in synwords:\n",
    "    for j in finaltopics:\n",
    "        for k in j:\n",
    "            if(i == k):\n",
    "                synwords.remove(i)\n",
    "synwords"
   ]
  },
  {
   "cell_type": "code",
   "execution_count": 296,
   "metadata": {},
   "outputs": [
    {
     "data": {
      "text/plain": [
       "['group companies', 'body corporate']"
      ]
     },
     "execution_count": 296,
     "metadata": {},
     "output_type": "execute_result"
    }
   ],
   "source": [
    "expansionwords = []\n",
    "for i in qvocab:\n",
    "    flag=0\n",
    "    for j in finaltopics:\n",
    "        for k in j:\n",
    "            if(i == k):\n",
    "                flag=1\n",
    "    if(flag==1):\n",
    "        if(i not in importantwords):\n",
    "            importantwords.append(i)\n",
    "    if(flag==0):\n",
    "        for j0 in definitions:\n",
    "            if(i in j0):\n",
    "                expansionwords.append(j0)\n",
    "                break\n",
    "expansionwords"
   ]
  },
  {
   "cell_type": "markdown",
   "metadata": {},
   "source": [
    "#### Query Expansion (If not a topic word)"
   ]
  },
  {
   "cell_type": "markdown",
   "metadata": {},
   "source": [
    "YET TO DO:\n",
    "- Compare the query definition words to topics. If yes, no expansion. If no, expand"
   ]
  },
  {
   "cell_type": "code",
   "execution_count": 269,
   "metadata": {},
   "outputs": [
    {
     "data": {
      "text/plain": [
       "' makes companies announce important corporate news group companies means group companies as defined in the Monopolies and Restrictive Trade Practices Act, 1969 (54 of 1969); (n) body corporate shall have the meaning assigned to it under sub-section (11) of Page 1 of 62 Section 2 of the Companies Act, 2013 (18 of 2013) as amended from time to time; (c)'"
      ]
     },
     "execution_count": 269,
     "metadata": {},
     "output_type": "execute_result"
    }
   ],
   "source": [
    "#Expanding the query\n",
    "keys = list(defdict.keys())\n",
    "values = list(defdict.values())\n",
    "qnew = query\n",
    "for j in expansionwords:\n",
    "    k=0\n",
    "    for i in keys:\n",
    "        if(i==j):\n",
    "            #print(i)\n",
    "            #print(k)\n",
    "            s = i\n",
    "            s = s + values[k]\n",
    "            qnew = qnew + ' ' + s\n",
    "            break\n",
    "        k=k+1\n",
    "    else:\n",
    "        qnew = qnew + ' ' + j\n",
    "query = qnew\n",
    "query"
   ]
  },
  {
   "cell_type": "markdown",
   "metadata": {},
   "source": [
    "#### Query Keywords"
   ]
  },
  {
   "cell_type": "code",
   "execution_count": 297,
   "metadata": {},
   "outputs": [],
   "source": [
    "from collections import OrderedDict\n",
    "import numpy as np\n",
    "import spacy\n",
    "import csv\n",
    "from spacy.lang.en.stop_words import STOP_WORDS\n",
    "import numpy as np\n",
    "import matplotlib.pyplot as plt\n",
    "import seaborn as sns\n",
    "import csv\n",
    "from urllib.request import urlopen\n",
    "from bs4 import BeautifulSoup as bs\n",
    "\n",
    "nlp = spacy.load('en_core_web_sm')\n",
    "\n",
    "\n",
    "class TextRank4Keyword():\n",
    "\t\"\"\"Extract keywords from text\"\"\"\n",
    "    \n",
    "\tdef __init__(self):\n",
    "\t\tself.d = 0.85 # damping coefficient, usually is .85\n",
    "\t\tself.min_diff = 1e-5 # convergence threshold\n",
    "\t\tself.steps = 10 # iteration steps\n",
    "\t\tself.node_weight = None # save keywords and its weight\n",
    "\n",
    "    \n",
    "\tdef set_stopwords(self, stopwords):  \n",
    "\t\t\"\"\"Set stop words\"\"\"\n",
    "\t\tfor word in STOP_WORDS.union(set(stopwords)):\n",
    "\t\t\tlexeme = nlp.vocab[word]\n",
    "\t\t\tlexeme.is_stop = True\n",
    "    \n",
    "\tdef sentence_segment(self, doc, candidate_pos, lower):\n",
    "\t\t\"\"\"Store those words only in cadidate_pos\"\"\"\n",
    "\t\tsentences = []\n",
    "\t\tfor sent in doc.sents:\n",
    "\t\t\tselected_words = []\n",
    "\t\t\tfor token in sent:\n",
    "\t\t\t\t# Store words only with cadidate POS tag\n",
    "\t\t\t\tif token.pos_ in candidate_pos and token.is_stop is False:\n",
    "\t\t\t\t\tprint(token.pos_)\n",
    "\t\t\t\t\tif lower is True:\n",
    "\t\t\t\t\t\tselected_words.append(token.text.lower())\n",
    "\t\t\t\t\telse:\n",
    "\t\t\t\t\t\tselected_words.append(token.text)\n",
    "\t\t\tsentences.append(selected_words)\n",
    "\t\treturn sentences\n",
    "        \n",
    "\tdef get_vocab(self, sentences):\n",
    "\t\t\"\"\"Get all tokens\"\"\"\n",
    "\t\tvocab = OrderedDict()\n",
    "\t\tsent = {}\n",
    "\t\ti = 0\n",
    "\t\tfor sentence in sentences:\n",
    "\t\t\tfor word in sentence:\n",
    "\t\t\t\tif word not in vocab:\n",
    "\t\t\t\t\tvocab[word] = i\n",
    "\t\t\t\t\tsent[word] = sentence \n",
    "\t\t\t\t\ti += 1\n",
    "\t\t#print(\"-----------------------------\")\n",
    "\t\t#print(type(sent))\n",
    "\t\t#print(sent['officer'])\n",
    "\t\treturn vocab,sent\n",
    "    \n",
    "\tdef get_token_pairs(self, window_size, sentences):\n",
    "\t\t\"\"\"Build token_pairs from windows in sentences\"\"\"\n",
    "\t\ttoken_pairs = list()\n",
    "\t\tfor sentence in sentences:\n",
    "\t\t\tfor i, word in enumerate(sentence):\n",
    "\t\t\t\tfor j in range(i+1, i+window_size):\n",
    "\t\t\t\t\tif j >= len(sentence):\n",
    "\t\t\t\t\t\tbreak\n",
    "\t\t\t\t\tpair = (word, sentence[j])\n",
    "\t\t\t\t\tif pair not in token_pairs:\n",
    "\t\t\t\t\t\ttoken_pairs.append(pair)\n",
    "\t\treturn token_pairs\n",
    "        \n",
    "\tdef symmetrize(self, a):\n",
    "\t\treturn a + a.T - np.diag(a.diagonal())\n",
    "    \n",
    "\tdef get_matrix(self, vocab, token_pairs):\n",
    "\t\t\"\"\"Get normalized matrix\"\"\"\n",
    "\t\t# Build matrix\n",
    "\t\tvocab_size = len(vocab)\n",
    "\t\tg = np.zeros((vocab_size, vocab_size), dtype='float')\n",
    "\t\tfor word1, word2 in token_pairs:\n",
    "\t\t\ti, j = vocab[word1], vocab[word2]\n",
    "\t\t\tg[i][j] = 1\n",
    "            \n",
    "\t\t# Get Symmeric matrix\n",
    "\t\tg = self.symmetrize(g)\n",
    "        \n",
    "\t\t# Normalize matrix by column\n",
    "\t\tnorm = np.sum(g, axis=0)\n",
    "\t\tg_norm = np.divide(g, norm, where=norm!=0) # this is ignore the 0 element in norm\n",
    "        \n",
    "\t\treturn g_norm\n",
    "\n",
    "    \n",
    "\tdef get_keywords(self, sent, number=120):\n",
    "\t\t\"\"\"Print top number keywords\"\"\"\n",
    "\t\tsentlist = []\n",
    "\t\t\n",
    "\t\tnode_weight = OrderedDict(sorted(self.node_weight.items(), key=lambda t: t[1], reverse=True))\n",
    "\t\tfor i, (key, value) in enumerate(node_weight.items()):\n",
    "\t\t\t\n",
    "\t\t\tsentlist.append(sent[key])\n",
    "            \n",
    "\t\treturn sentlist\n",
    "        \n",
    "        \n",
    "\tdef analyze(self, text, candidate_pos=['NOUN', 'PROPN','VERB'], window_size=4, lower=False, stopwords=list()):\n",
    "\t\t\"\"\"Main function to analyze text\"\"\"\n",
    "        \n",
    "\t\t# Set stop words\n",
    "\t\tself.set_stopwords(stopwords)\n",
    "        \n",
    "\t\t# Pare text by spaCy\n",
    "\t\tdoc = nlp(text)\n",
    "        \n",
    "\t\t# Filter sentences\n",
    "\t\tsentences = self.sentence_segment(doc, candidate_pos, lower) # list of list of words\n",
    "        \n",
    "\t\t# Build vocabulary\n",
    "\t\tvocab,sent = self.get_vocab(sentences)\n",
    "        \n",
    "\t\t# Get token_pairs from windows\n",
    "\t\ttoken_pairs = self.get_token_pairs(window_size, sentences)\n",
    "        \n",
    "\t\t# Get normalized matrix\n",
    "\t\tg = self.get_matrix(vocab, token_pairs)\n",
    "        \n",
    "\t\t# Initionlization for weight(pagerank value)\n",
    "\t\tpr = np.array([1] * len(vocab))\n",
    "        \n",
    "\t\t# Iteration\n",
    "\t\tprevious_pr = 0\n",
    "\t\tfor epoch in range(self.steps):\n",
    "\t\t\tpr = (1-self.d) + self.d * np.dot(g, pr)\n",
    "\t\t\tif abs(previous_pr - sum(pr))  < self.min_diff:\n",
    "\t\t\t\tbreak\n",
    "\t\t\telse:\n",
    "\t\t\t\tprevious_pr = sum(pr)\n",
    "\n",
    "\t\t# Get weight for each node\n",
    "\t\tnode_weight = dict()\n",
    "\t\tfor word, index in vocab.items():\n",
    "\t\t\tnode_weight[word] = pr[index]\n",
    "        \n",
    "\t\tself.node_weight = node_weight\n",
    "\n",
    "\t\tsentlist = tr4w.get_keywords(sent,120)\n",
    "\t\t\n",
    "\n",
    "\t\treturn sentlist"
   ]
  },
  {
   "cell_type": "code",
   "execution_count": 298,
   "metadata": {},
   "outputs": [
    {
     "name": "stdout",
     "output_type": "stream",
     "text": [
      "VERB\n",
      "NOUN\n",
      "VERB\n",
      "NOUN\n"
     ]
    }
   ],
   "source": [
    "#Keywords\n",
    "text = query\n",
    "tr4w = TextRank4Keyword()\n",
    "sentlist = tr4w.analyze(text, candidate_pos = ['NOUN', 'PROPN', 'VERB'], window_size=4, lower=False)\n",
    "#print(sentlist[0])"
   ]
  },
  {
   "cell_type": "code",
   "execution_count": 299,
   "metadata": {},
   "outputs": [
    {
     "data": {
      "text/plain": [
       "['makes', 'companies', 'announce', 'news']"
      ]
     },
     "execution_count": 299,
     "metadata": {},
     "output_type": "execute_result"
    }
   ],
   "source": [
    "keywords = []\n",
    "t=0\n",
    "while(t<len(sentlist)):\n",
    "    i = sentlist[t]\n",
    "    for tok in i:\n",
    "        if(tok not in keywords):\n",
    "            if(len(tok) > 1):\n",
    "                keywords.append(tok)\n",
    "    t=t+1\n",
    "keywords"
   ]
  },
  {
   "cell_type": "markdown",
   "metadata": {},
   "source": [
    "## Regulations Retrieval Module"
   ]
  },
  {
   "cell_type": "markdown",
   "metadata": {},
   "source": [
    "#### Assigning Relative Importance to Keywords"
   ]
  },
  {
   "cell_type": "code",
   "execution_count": 300,
   "metadata": {},
   "outputs": [
    {
     "data": {
      "text/plain": [
       "['companies', 'corporate']"
      ]
     },
     "execution_count": 300,
     "metadata": {},
     "output_type": "execute_result"
    }
   ],
   "source": [
    "importantwords"
   ]
  },
  {
   "cell_type": "code",
   "execution_count": 42,
   "metadata": {},
   "outputs": [],
   "source": [
    "nlp = spacy.load('en_core_web_lg')"
   ]
  },
  {
   "cell_type": "code",
   "execution_count": 301,
   "metadata": {},
   "outputs": [],
   "source": [
    "sent = nlp(query)"
   ]
  },
  {
   "cell_type": "code",
   "execution_count": 302,
   "metadata": {},
   "outputs": [],
   "source": [
    "t=0\n",
    "for token in sent:\n",
    "    if(str(token) in importantwords):\n",
    "        if(t!=0):\n",
    "            if(str(sent[t-1]) not in importantwords):\n",
    "                importantwords.append(str(sent[t-1]))\n",
    "        if(token.tag_ == 'VB'):\n",
    "            importantwords.append(str(token))\n",
    "    t+=1"
   ]
  },
  {
   "cell_type": "code",
   "execution_count": 303,
   "metadata": {},
   "outputs": [
    {
     "data": {
      "text/plain": [
       "['companies', 'corporate', 'makes', 'important']"
      ]
     },
     "execution_count": 303,
     "metadata": {},
     "output_type": "execute_result"
    }
   ],
   "source": [
    "importantwords"
   ]
  },
  {
   "cell_type": "markdown",
   "metadata": {},
   "source": [
    "#### Synonyms of keywords with high importance"
   ]
  },
  {
   "cell_type": "markdown",
   "metadata": {},
   "source": [
    "Part1: Pretrained Legal Embeddings"
   ]
  },
  {
   "cell_type": "code",
   "execution_count": 70,
   "metadata": {},
   "outputs": [],
   "source": [
    "from gensim.models.keyedvectors import KeyedVectors\n",
    "\n",
    "m = KeyedVectors.load_word2vec_format('/home/deepti-saravanan/Music/raw-legal/no_replacements/legalmodeltext.txt',binary=False, unicode_errors='ignore')"
   ]
  },
  {
   "cell_type": "code",
   "execution_count": 99,
   "metadata": {},
   "outputs": [],
   "source": [
    "modelvocab = list(m.vocab.keys())"
   ]
  },
  {
   "cell_type": "code",
   "execution_count": 304,
   "metadata": {},
   "outputs": [],
   "source": [
    "synonyms0 = []\n",
    "for i in synwords:\n",
    "    l = m.most_similar(i)\n",
    "    for j in l:\n",
    "        if(j in vocab):\n",
    "            synonyms0.append(j)"
   ]
  },
  {
   "cell_type": "code",
   "execution_count": 101,
   "metadata": {},
   "outputs": [
    {
     "ename": "KeyboardInterrupt",
     "evalue": "",
     "output_type": "error",
     "traceback": [
      "\u001b[0;31m---------------------------------------------------------------------------\u001b[0m",
      "\u001b[0;31mKeyboardInterrupt\u001b[0m                         Traceback (most recent call last)",
      "\u001b[0;32m<ipython-input-101-bac3595f9f56>\u001b[0m in \u001b[0;36m<module>\u001b[0;34m\u001b[0m\n\u001b[1;32m      5\u001b[0m                 \u001b[0mresult\u001b[0m \u001b[0;34m=\u001b[0m \u001b[0mm\u001b[0m\u001b[0;34m.\u001b[0m\u001b[0mmost_similar_cosmul\u001b[0m\u001b[0;34m(\u001b[0m\u001b[0mpositive\u001b[0m\u001b[0;34m=\u001b[0m\u001b[0;34m[\u001b[0m\u001b[0mi\u001b[0m\u001b[0;34m,\u001b[0m \u001b[0mj\u001b[0m\u001b[0;34m]\u001b[0m\u001b[0;34m)\u001b[0m\u001b[0;34m\u001b[0m\u001b[0;34m\u001b[0m\u001b[0m\n\u001b[1;32m      6\u001b[0m                 \u001b[0;32mfor\u001b[0m \u001b[0mk\u001b[0m \u001b[0;32min\u001b[0m \u001b[0mresult\u001b[0m\u001b[0;34m:\u001b[0m\u001b[0;34m\u001b[0m\u001b[0;34m\u001b[0m\u001b[0m\n\u001b[0;32m----> 7\u001b[0;31m                     \u001b[0;32mif\u001b[0m\u001b[0;34m(\u001b[0m\u001b[0mk\u001b[0m\u001b[0;34m[\u001b[0m\u001b[0;36m0\u001b[0m\u001b[0;34m]\u001b[0m \u001b[0;32min\u001b[0m \u001b[0mm\u001b[0m\u001b[0;34m.\u001b[0m\u001b[0mmost_similar\u001b[0m\u001b[0;34m(\u001b[0m\u001b[0mi\u001b[0m\u001b[0;34m)\u001b[0m\u001b[0;34m)\u001b[0m\u001b[0;34m:\u001b[0m\u001b[0;34m\u001b[0m\u001b[0;34m\u001b[0m\u001b[0m\n\u001b[0m\u001b[1;32m      8\u001b[0m                         \u001b[0;32mif\u001b[0m\u001b[0;34m(\u001b[0m\u001b[0mk\u001b[0m\u001b[0;34m[\u001b[0m\u001b[0;36m0\u001b[0m\u001b[0;34m]\u001b[0m \u001b[0;32min\u001b[0m \u001b[0mvocab\u001b[0m\u001b[0;34m)\u001b[0m\u001b[0;34m:\u001b[0m\u001b[0;34m\u001b[0m\u001b[0;34m\u001b[0m\u001b[0m\n\u001b[1;32m      9\u001b[0m                             \u001b[0msynonyms0\u001b[0m\u001b[0;34m.\u001b[0m\u001b[0mappend\u001b[0m\u001b[0;34m(\u001b[0m\u001b[0mk\u001b[0m\u001b[0;34m[\u001b[0m\u001b[0;36m0\u001b[0m\u001b[0;34m]\u001b[0m\u001b[0;34m)\u001b[0m\u001b[0;34m\u001b[0m\u001b[0;34m\u001b[0m\u001b[0m\n",
      "\u001b[0;32m~/anaconda3/lib/python3.7/site-packages/gensim/models/keyedvectors.py\u001b[0m in \u001b[0;36mmost_similar\u001b[0;34m(self, positive, negative, topn, restrict_vocab, indexer)\u001b[0m\n\u001b[1;32m    562\u001b[0m \u001b[0;34m\u001b[0m\u001b[0m\n\u001b[1;32m    563\u001b[0m         \u001b[0mlimited\u001b[0m \u001b[0;34m=\u001b[0m \u001b[0mself\u001b[0m\u001b[0;34m.\u001b[0m\u001b[0mvectors_norm\u001b[0m \u001b[0;32mif\u001b[0m \u001b[0mrestrict_vocab\u001b[0m \u001b[0;32mis\u001b[0m \u001b[0;32mNone\u001b[0m \u001b[0;32melse\u001b[0m \u001b[0mself\u001b[0m\u001b[0;34m.\u001b[0m\u001b[0mvectors_norm\u001b[0m\u001b[0;34m[\u001b[0m\u001b[0;34m:\u001b[0m\u001b[0mrestrict_vocab\u001b[0m\u001b[0;34m]\u001b[0m\u001b[0;34m\u001b[0m\u001b[0;34m\u001b[0m\u001b[0m\n\u001b[0;32m--> 564\u001b[0;31m         \u001b[0mdists\u001b[0m \u001b[0;34m=\u001b[0m \u001b[0mdot\u001b[0m\u001b[0;34m(\u001b[0m\u001b[0mlimited\u001b[0m\u001b[0;34m,\u001b[0m \u001b[0mmean\u001b[0m\u001b[0;34m)\u001b[0m\u001b[0;34m\u001b[0m\u001b[0;34m\u001b[0m\u001b[0m\n\u001b[0m\u001b[1;32m    565\u001b[0m         \u001b[0;32mif\u001b[0m \u001b[0;32mnot\u001b[0m \u001b[0mtopn\u001b[0m\u001b[0;34m:\u001b[0m\u001b[0;34m\u001b[0m\u001b[0;34m\u001b[0m\u001b[0m\n\u001b[1;32m    566\u001b[0m             \u001b[0;32mreturn\u001b[0m \u001b[0mdists\u001b[0m\u001b[0;34m\u001b[0m\u001b[0;34m\u001b[0m\u001b[0m\n",
      "\u001b[0;32m<__array_function__ internals>\u001b[0m in \u001b[0;36mdot\u001b[0;34m(*args, **kwargs)\u001b[0m\n",
      "\u001b[0;31mKeyboardInterrupt\u001b[0m: "
     ]
    }
   ],
   "source": [
    "for i in synwords:\n",
    "    for j1 in vocab:\n",
    "        for j in j1:\n",
    "            if(j in modelvocab):\n",
    "                result = m.most_similar_cosmul(positive=[i, j])\n",
    "                for k in result:\n",
    "                    if(k[0] in m.most_similar(i)):\n",
    "                        if(k[0] in vocab):\n",
    "                            if(k[0] not in synonyms0):\n",
    "                                synonyms0.append(k[0])"
   ]
  },
  {
   "cell_type": "code",
   "execution_count": 305,
   "metadata": {},
   "outputs": [
    {
     "data": {
      "text/plain": [
       "[]"
      ]
     },
     "execution_count": 305,
     "metadata": {},
     "output_type": "execute_result"
    }
   ],
   "source": [
    "synonyms0"
   ]
  },
  {
   "cell_type": "markdown",
   "metadata": {},
   "source": [
    "Part2: Definitions comparison"
   ]
  },
  {
   "cell_type": "code",
   "execution_count": 103,
   "metadata": {},
   "outputs": [],
   "source": [
    "from nltk.corpus import wordnet"
   ]
  },
  {
   "cell_type": "code",
   "execution_count": 279,
   "metadata": {},
   "outputs": [],
   "source": [
    "#Definitions of all vocab words\n",
    "vocabdef =  []\n",
    "done = []\n",
    "for i in vocab:\n",
    "    for j in i:\n",
    "        if(j not in done):\n",
    "            syns = wordnet.synsets(j)\n",
    "            if(syns != []):\n",
    "                vocabdef.append(syns[0].definition())\n",
    "                done.append(j)"
   ]
  },
  {
   "cell_type": "code",
   "execution_count": 306,
   "metadata": {},
   "outputs": [],
   "source": [
    "#Definitions of all synwords\n",
    "syndef = []\n",
    "for i in synwords:\n",
    "    syns = wordnet.synsets(i)\n",
    "    if(syns != []):\n",
    "        syndef.append(syns[0].definition())"
   ]
  },
  {
   "cell_type": "code",
   "execution_count": 123,
   "metadata": {},
   "outputs": [],
   "source": [
    "from nltk import ngrams\n",
    "from collections import Counter"
   ]
  },
  {
   "cell_type": "code",
   "execution_count": 307,
   "metadata": {},
   "outputs": [],
   "source": [
    "synonyms1 = []\n",
    "if(syndef != [] and vocabdef != []):\n",
    "    p=0\n",
    "    for i in syndef:\n",
    "        for j in vocabdef[0:5]:\n",
    "            s = []\n",
    "            tok = []\n",
    "            for ct in i.split():\n",
    "                if(ct not in tok):\n",
    "                    tok.append(ct)\n",
    "            i = ''\n",
    "            for a in tok:\n",
    "                i = i + \" \" + a\n",
    "            tok = []\n",
    "            for ct in j.split():\n",
    "                if(ct not in tok):\n",
    "                    tok.append(ct)\n",
    "            j = ''\n",
    "            for a in tok:\n",
    "                j = j + \" \" + a\n",
    "            s.append(i)\n",
    "            s.append(j)\n",
    "            sentence = ''\n",
    "            for k in s:\n",
    "                sentence = sentence + ' ' + k.lower() \n",
    "            for n in range(len(sentence.split(' ')), 1, -1):\n",
    "                phrases = []\n",
    "    \n",
    "                for token in ngrams(sentence.split(), n-3):\n",
    "\n",
    "                    phrases.append(' '.join(token))\n",
    "                    if(len(phrases) == 0):\n",
    "                        phrase = []\n",
    "                        freq = 0\n",
    "                    else:\n",
    "                         phrase, freq = Counter(phrases).most_common(1)[0]\n",
    "                if freq > 1:\n",
    "                    if(len(phrase.split()) > 1):\n",
    "                        synonyms1.append([synwords[p],done[t],phrase])\n",
    "                        sentence = sentence.replace(phrase, '')\n",
    "            t=t+1  \n",
    "        p=p+1"
   ]
  },
  {
   "cell_type": "code",
   "execution_count": 308,
   "metadata": {},
   "outputs": [
    {
     "data": {
      "text/plain": [
       "[]"
      ]
     },
     "execution_count": 308,
     "metadata": {},
     "output_type": "execute_result"
    }
   ],
   "source": [
    "synonyms1"
   ]
  },
  {
   "cell_type": "markdown",
   "metadata": {},
   "source": [
    "Part3: WordNet Similarity Score"
   ]
  },
  {
   "cell_type": "code",
   "execution_count": 309,
   "metadata": {},
   "outputs": [
    {
     "data": {
      "text/plain": [
       "[]"
      ]
     },
     "execution_count": 309,
     "metadata": {},
     "output_type": "execute_result"
    }
   ],
   "source": [
    "synonyms2 = []\n",
    "for i in synonyms0:\n",
    "    if(i not in synonyms2):\n",
    "        synonyms2.append(i)\n",
    "for i in synonyms1:\n",
    "    if(i not in synonyms2):\n",
    "        synonyms2.append(i)\n",
    "synonyms2"
   ]
  },
  {
   "cell_type": "code",
   "execution_count": 284,
   "metadata": {},
   "outputs": [
    {
     "data": {
      "text/plain": [
       "[]"
      ]
     },
     "execution_count": 284,
     "metadata": {},
     "output_type": "execute_result"
    }
   ],
   "source": [
    "synonyms = []\n",
    "for i in synwords:\n",
    "    for j in synonyms2:\n",
    "        score = []\n",
    "        for syn in wordnet.synsets(i):\n",
    "            for syn1 in wordnet.synsets(j):\n",
    "                score.append(syn.wup_similarity(syn1))\n",
    "        score.sort(reverse=True)\n",
    "        if(score[0] > 0.5):\n",
    "            synonyms.append(j)\n",
    "synonyms"
   ]
  },
  {
   "cell_type": "markdown",
   "metadata": {},
   "source": [
    "YET TO DO: Include all forms of verbs and nouns of synonyms"
   ]
  },
  {
   "cell_type": "code",
   "execution_count": 310,
   "metadata": {},
   "outputs": [
    {
     "data": {
      "text/plain": [
       "' makes companies announce important corporate news'"
      ]
     },
     "execution_count": 310,
     "metadata": {},
     "output_type": "execute_result"
    }
   ],
   "source": [
    "for i in synonyms:\n",
    "    query = query + ' ' + i\n",
    "query"
   ]
  },
  {
   "cell_type": "markdown",
   "metadata": {},
   "source": [
    "#### tf-idf based embedding"
   ]
  },
  {
   "cell_type": "code",
   "execution_count": 161,
   "metadata": {},
   "outputs": [],
   "source": [
    "import pandas as pd\n",
    "from sklearn.feature_extraction.text import TfidfVectorizer\n",
    "from nltk.tokenize import word_tokenize\n",
    "from nltk.stem import PorterStemmer\n",
    "import math"
   ]
  },
  {
   "cell_type": "code",
   "execution_count": 162,
   "metadata": {},
   "outputs": [
    {
     "name": "stderr",
     "output_type": "stream",
     "text": [
      "/home/deepti-saravanan/anaconda3/lib/python3.7/site-packages/sklearn/utils/deprecation.py:143: FutureWarning: The sklearn.feature_extraction.stop_words module is  deprecated in version 0.22 and will be removed in version 0.24. The corresponding classes / functions should instead be imported from sklearn.feature_extraction.text. Anything that cannot be imported from sklearn.feature_extraction.text is now part of the private API.\n",
      "  warnings.warn(message, FutureWarning)\n"
     ]
    }
   ],
   "source": [
    "from nltk.corpus import stopwords\n",
    "from sklearn.feature_extraction import stop_words\n",
    "\n",
    "STOPWORDS = set(\n",
    "    list(stop_words.ENGLISH_STOP_WORDS) +\\\n",
    "    stopwords.words('english') +\\\n",
    "    ['mm', 'section', 'subsection', 'schedule', '-PRON-', 'chapter', 'regulation', 'repealed', 'thereto','unpublishe', 'thereunder','guideline', 'reference','onus','make','Page','Securities','Exchange','India'])"
   ]
  },
  {
   "cell_type": "code",
   "execution_count": 163,
   "metadata": {},
   "outputs": [],
   "source": [
    "import spacy\n",
    "import numpy as np\n",
    "from collections import Counter"
   ]
  },
  {
   "cell_type": "code",
   "execution_count": 164,
   "metadata": {},
   "outputs": [],
   "source": [
    "def convert_lower_case(data):\n",
    "    return np.char.lower(data)\n",
    "\n",
    "def remove_stop_words(data):\n",
    "    stop_words = STOPWORDS\n",
    "    words = word_tokenize(str(data))\n",
    "    new_text = \"\"\n",
    "    for w in words:\n",
    "        if w not in stop_words and len(w) > 1:\n",
    "            new_text = new_text + \" \" + w\n",
    "    return new_text\n",
    "\n",
    "def remove_punctuation(data):\n",
    "    symbols = \"!\\\"#$%&()*+-./:;<=>?@[\\]^_`{|}~\\n\"\n",
    "    for i in range(len(symbols)):\n",
    "        data = np.char.replace(data, symbols[i], ' ')\n",
    "        data = np.char.replace(data, \"  \", \" \")\n",
    "    data = np.char.replace(data, ',', '')\n",
    "    return data\n",
    "\n",
    "def remove_apostrophe(data):\n",
    "    return np.char.replace(data, \"'\", \"\")\n",
    "\n",
    "def stemming(data):\n",
    "    stemmer= PorterStemmer()\n",
    "    \n",
    "    tokens = word_tokenize(str(data))\n",
    "    new_text = \"\"\n",
    "    for w in tokens:\n",
    "        new_text = new_text + \" \" + stemmer.stem(w)\n",
    "    return new_text"
   ]
  },
  {
   "cell_type": "code",
   "execution_count": 165,
   "metadata": {},
   "outputs": [],
   "source": [
    "def preprocess(data):\n",
    "    data = convert_lower_case(data)\n",
    "    data = remove_punctuation(data)\n",
    "    data = remove_apostrophe(data)\n",
    "    data = remove_stop_words(data)\n",
    "    data = stemming(data)\n",
    "    data = remove_punctuation(data)\n",
    "    data = stemming(data)\n",
    "    return data"
   ]
  },
  {
   "cell_type": "code",
   "execution_count": 176,
   "metadata": {},
   "outputs": [],
   "source": [
    "regstring = []\n",
    "for i in docregs:\n",
    "    for j in i:\n",
    "        data = preprocess(j)\n",
    "        regstring.append(data)"
   ]
  },
  {
   "cell_type": "code",
   "execution_count": 181,
   "metadata": {},
   "outputs": [],
   "source": [
    "wordregs = allregulations"
   ]
  },
  {
   "cell_type": "code",
   "execution_count": 182,
   "metadata": {},
   "outputs": [
    {
     "data": {
      "text/plain": [
       "3504"
      ]
     },
     "execution_count": 182,
     "metadata": {},
     "output_type": "execute_result"
    }
   ],
   "source": [
    "t=0\n",
    "for i in regstring:\n",
    "    if(i=='\\xa0\\n'):\n",
    "        regstring.remove(i)\n",
    "        wordregs.remove(wordregs[t])\n",
    "    t+=1\n",
    "indrem = []\n",
    "t=0\n",
    "while('' in regstring):\n",
    "    indrem.append(t)\n",
    "    regstring.remove('')\n",
    "    t+=1\n",
    "len(regstring)"
   ]
  },
  {
   "cell_type": "code",
   "execution_count": 184,
   "metadata": {},
   "outputs": [],
   "source": [
    "wordregs0 = []\n",
    "t=0\n",
    "while(t<len(wordregs)):\n",
    "    if(t not in indrem):\n",
    "        wordregs0.append(wordregs[t])\n",
    "    t+=1"
   ]
  },
  {
   "cell_type": "code",
   "execution_count": 185,
   "metadata": {},
   "outputs": [
    {
     "data": {
      "text/plain": [
       "3504"
      ]
     },
     "execution_count": 185,
     "metadata": {},
     "output_type": "execute_result"
    }
   ],
   "source": [
    "wordregs = wordregs0\n",
    "len(wordregs)"
   ]
  },
  {
   "cell_type": "code",
   "execution_count": null,
   "metadata": {},
   "outputs": [],
   "source": [
    "#processed_title.append(word_tokenize(str(preprocess(i[1]))))"
   ]
  },
  {
   "cell_type": "code",
   "execution_count": 168,
   "metadata": {},
   "outputs": [],
   "source": [
    "DF = {}\n",
    "for i in range(len(regstring)):\n",
    "    tokens = regstring[i]\n",
    "    for w in tokens.split():\n",
    "        try:\n",
    "            DF[w].add(i)\n",
    "        except:\n",
    "            DF[w] = {i}\n",
    "    #tokens = processed_title[i]\n",
    "    #for w in tokens:\n",
    "    #    try:\n",
    "    #        DF[w].add(i)\n",
    "    #    except:\n",
    "    #        DF[w] = {i}"
   ]
  },
  {
   "cell_type": "code",
   "execution_count": 169,
   "metadata": {},
   "outputs": [],
   "source": [
    "for i in DF:\n",
    "    DF[i] = len(DF[i])"
   ]
  },
  {
   "cell_type": "code",
   "execution_count": 170,
   "metadata": {},
   "outputs": [],
   "source": [
    "total_vocab = [x for x in DF]\n",
    "total_vocab_size = len(DF)"
   ]
  },
  {
   "cell_type": "markdown",
   "metadata": {},
   "source": [
    "YET TO DO: TF-IDF(document) = TF-IDF(title) * alpha + TF-IDF(body) * (1-alpha)"
   ]
  },
  {
   "cell_type": "code",
   "execution_count": 171,
   "metadata": {},
   "outputs": [],
   "source": [
    "tf_idf = {}\n",
    "N = len(regstring)\n",
    "for i in range(N):\n",
    "    tokens = regstring[i].split()\n",
    "    #counter = Counter(tokens + processed_title[i])\n",
    "    counter = Counter(tokens)\n",
    "    for token in np.unique(tokens):\n",
    "        tf = counter[token]/len(tokens)\n",
    "        df = DF[token]\n",
    "        idf = np.log(N/(df+1))\n",
    "        tf_idf[i,token] = tf*idf"
   ]
  },
  {
   "cell_type": "code",
   "execution_count": null,
   "metadata": {},
   "outputs": [],
   "source": [
    "#tf-idf for title\n",
    "tf_idf_title = {}\n",
    "\n",
    "for i in range(N):\n",
    "    \n",
    "    tokens = processed_title[i]\n",
    "    counter = Counter(tokens + processed_text[i])\n",
    "    words_count = len(tokens + processed_text[i])\n",
    "\n",
    "    for token in np.unique(tokens):\n",
    "        \n",
    "        tf = counter[token]/words_count\n",
    "        df = doc_freq(token)\n",
    "        idf = np.log((N+1)/(df+1)) #numerator is added 1 to avoid negative values\n",
    "        \n",
    "        tf_idf_title[doc, token] = tf*idf"
   ]
  },
  {
   "cell_type": "code",
   "execution_count": null,
   "metadata": {},
   "outputs": [],
   "source": [
    "for i in tf_idf:\n",
    "    tf_idf[i] *= alpha #alpha=0.3"
   ]
  },
  {
   "cell_type": "code",
   "execution_count": null,
   "metadata": {},
   "outputs": [],
   "source": [
    "for i in tf_idf_title:\n",
    "    tf_idf[i] = tf_idf_title[i]"
   ]
  },
  {
   "cell_type": "markdown",
   "metadata": {},
   "source": [
    "#### Vector Model"
   ]
  },
  {
   "cell_type": "code",
   "execution_count": 192,
   "metadata": {},
   "outputs": [],
   "source": [
    "# Document Vectorization (Document = Regulation)\n",
    "D = np.zeros((N, len(total_vocab)))\n",
    "for i in tf_idf:\n",
    "    try:\n",
    "        ind = total_vocab.index(i[1])\n",
    "        D[i[0]][ind] = tf_idf[i]\n",
    "    except:\n",
    "        pass"
   ]
  },
  {
   "cell_type": "code",
   "execution_count": 193,
   "metadata": {},
   "outputs": [],
   "source": [
    "def q_vector(tokens):\n",
    "    #synonyms = syn(query)\n",
    "    #querytokens = synonyms\n",
    "    #querytokens = ['there','unpulished','price','sensitive','information']\n",
    "    Q = np.zeros((len(total_vocab)))\n",
    "    querytokens = tokens\n",
    "    counter = Counter(querytokens)\n",
    "    words_count = len(querytokens)\n",
    "\n",
    "    query_weights = {}\n",
    "    \n",
    "    for token in np.unique(querytokens):\n",
    "        if(token in DF):\n",
    "            tf = counter[token]/words_count\n",
    "            df = DF[token]\n",
    "            idf = math.log((N+1)/(df+1))\n",
    "\n",
    "            try:\n",
    "                ind = total_vocab.index(token)\n",
    "                Q[ind] = tf*idf\n",
    "            except:\n",
    "                pass\n",
    "    return Q"
   ]
  },
  {
   "cell_type": "markdown",
   "metadata": {},
   "source": [
    "#### Ranked Retrieval using cosine similarity"
   ]
  },
  {
   "cell_type": "code",
   "execution_count": 194,
   "metadata": {},
   "outputs": [],
   "source": [
    "def cosine_sim(a, b):\n",
    "    cos_sim = np.dot(a, b)/(np.linalg.norm(a)*np.linalg.norm(b))\n",
    "    return cos_sim"
   ]
  },
  {
   "cell_type": "code",
   "execution_count": 311,
   "metadata": {},
   "outputs": [
    {
     "data": {
      "text/plain": [
       "['makes', 'companies', 'announce', 'important', 'corporate', 'news']"
      ]
     },
     "execution_count": 311,
     "metadata": {},
     "output_type": "execute_result"
    }
   ],
   "source": [
    "querytokensall = []\n",
    "for i in query.split():\n",
    "    querytokensall.append(i)\n",
    "querytokensall"
   ]
  },
  {
   "cell_type": "code",
   "execution_count": 316,
   "metadata": {},
   "outputs": [],
   "source": [
    "querytokensall.append('disclosures')\n",
    "querytokensall.append('listed')"
   ]
  },
  {
   "cell_type": "code",
   "execution_count": 317,
   "metadata": {},
   "outputs": [
    {
     "data": {
      "text/plain": [
       "' makes companies announce important corporate news disclose inform disclosures listed'"
      ]
     },
     "execution_count": 317,
     "metadata": {},
     "output_type": "execute_result"
    }
   ],
   "source": [
    "query = \"\"\n",
    "for i in querytokensall:\n",
    "    query = query + \" \" + i\n",
    "query"
   ]
  },
  {
   "cell_type": "code",
   "execution_count": 322,
   "metadata": {},
   "outputs": [],
   "source": [
    "def cosine_similarity(k, query):\n",
    "    #print(\"Cosine Similarity\")\n",
    "    preprocessed_query = preprocess(query)\n",
    "    tokens = word_tokenize(str(preprocessed_query))\n",
    "    \n",
    "    #print(\"\\nQuery:\", query)\n",
    "    #print(\"\")\n",
    "    #print(tokens)\n",
    "    \n",
    "    d_cosines = []\n",
    "    \n",
    "    query_vector = q_vector(tokens)\n",
    "    \n",
    "    t=0\n",
    "    for d in D:\n",
    "        d_cosines.append(cosine_sim(query_vector, d))\n",
    "        t=t+1\n",
    "        \n",
    "    out = np.array(d_cosines).argsort()[::-1]\n",
    "    \n",
    "    #print(\"\")\n",
    "    \n",
    "    #print(out)\n",
    "\n",
    "    answers = []\n",
    "    for i in out:\n",
    "        #print(wordregs[i].split())\n",
    "        flag=0\n",
    "        for j in querytokensall:\n",
    "            if(j in wordregs[i].split()):\n",
    "                flag=flag+1\n",
    "        if(flag>1):\n",
    "            answers.append([flag,wordregs[i]])\n",
    "    \n",
    "    answers.sort(reverse=True)\n",
    "    return answers[0:k]\n",
    "\n",
    "A = cosine_similarity(10, query)"
   ]
  },
  {
   "cell_type": "markdown",
   "metadata": {},
   "source": [
    "#### Query : What are the exceptions in the communication of unpublished price sensitive information?"
   ]
  },
  {
   "cell_type": "code",
   "execution_count": 241,
   "metadata": {},
   "outputs": [
    {
     "name": "stdout",
     "output_type": "stream",
     "text": [
      "[6, '7A. (1) In this Chapter, unless the context otherwise requires:-\\n(a)‘Investor Protection and Education Fund’ means the Investor Protection and Education Fund created by the Board under section 11 of the Act;\\n(b)‘Informant’ means an individual(s), who voluntarily submits to the Board a Voluntary Information Disclosure Form relating to an alleged violation of insider trading laws that has occurred, is occurring or has a reasonable belief that it is about to occur, in a manner\\n25 Inserted by Securities and Exchange Board of India (Prohibition of Insider Trading) (Third Amendment) Regulations, 2019 (w.e.f. December 26, 2019)\\nprovided under these regulations, regardless of whether such individual(s) satisfies the requirements, procedures and conditions to qualify for a reward;\\n(c)‘Informant Incentive Committee’ means the High Powered Advisory Committee constituted by the Board in the manner as may be specified under regulation 11 of the Securities and Exchange Board of India (Settlement Proceedings) Regulations, 2018.\\n(d)‘insider trading laws’ means the following provisions of securities laws,-\\ni.Section 15G of the Act;\\nii.regulation 3 of these regulations;\\niii.regulation 4 of these regulations;\\niv.regulation 5 of these regulations; and\\nv.regulation 9 or regulation 9A of these regulations, in so far as they pertain to trading or communication of unpublished price sensitive information.\\n(e)‘irrelevant, vexatious and frivolous information’ includes, reporting of information which in the opinion of the Board, -\\n(i)Does not constitute a violation of insider trading laws; or\\n(ii)Is rendered solely for the purposes of malicious prosecution; or\\n(iii)Is rendered intentionally in an effort to waste the time and resource of the Board.\\n(f)‘Legal Representative’ means a duly authorised individual who is admitted to the practice of law in India;\\n(g)‘Monetary Sanctions’ shall mean any non-monetary settlement terms or any direction of the Board, in the nature of disgorgement under securities laws aggregating to at least Rupees one crore arising from the same operative facts contained in the original information.\\n(h)‘Original Information’ means any relevant information submitted in accordance with these regulations pertaining to any violation of insider trading laws that is:-\\n(i)derived from the independent knowledge and analysis of the Informant;\\n(ii)not known to the Board from any other source, except where the Informant is the original source of the information;\\n(iii)is sufficiently specific, credible and timely to - (1) commence an examination or inquiry or audit, (2) assist in an ongoing examination or investigation or inquiry or audit, (3) open or re-open an investigation or inquiry, or (4) inquire into a different conduct as part of an ongoing examination or investigation or inquiry or audit directed by the Board;\\n(iv)not exclusively derived from an allegation made in a judicial or administrative hearing, in a Governmental report, hearing, audit, or investigation, or from the news media, except where the Informant is the original source of the information; and\\n(v)not irrelevant or frivolous or vexatious.\\nExplanation. –Information which does not in the opinion of the Board add to the information already possessed by the Board is not original information.\\n(i)‘own analysis’ means the examination and evaluation of the relevant information by the Informant that may be publicly available, but which reveals analysis that is not known to SEBI:\\nProvided that such analysis is not derived from professional or confidential communication protected under the Indian Evidence Act, 1872 (1 of 1872);\\n(j)‘own knowledge’ means relevant information in the possession of the Informant not derived from publicly available sources:\\nProvided that such knowledge is not derived from professional or confidential communications protected under the Indian Evidence Act, 1872 (1 of 1872);\\n']\n",
      "---------------------\n",
      "[6, '2.(1) In these regulations, unless the context otherwise requires, the following words, expressions and derivations therefrom shall have the meanings assigned to them as under:–\\n(a)“Act” means the Securities and Exchange Board of India Act, 1992 (15 of 1992);\\n(b)“Board” means the Securities and Exchange Board of India;\\n(c)“compliance officer” means any senior officer, designated so and reporting to the board of directors or head of the organization in case board is not there, who is financially literate and is capable of appreciating requirements for legal and regulatory compliance under these regulations and who shall be responsible for compliance of policies, procedures, maintenance of records, monitoring adherence to the rules for the preservation of unpublished price sensitive information, monitoring of trades and the implementation of the codes specified in these regulations under the overall supervision of the board of directors of the listed company or the head of an organization, as the case may be.\\n1[Explanation – For the purpose of this regulation, “financially literate” shall mean a person who has the ability to read and understand basic financial statements i.e. balance sheet, profit and loss account, and statement of cash flows];\\n(d)\"connected person\" means,-\\n(i)any person who is or has during the six months prior to the concerned act been associated with a company, directly or indirectly, in any capacity including by\\nreason of frequent communication with its officers or by being in any contractual, fiduciary or employment relationship or by being a director, officer or an employee of the company or holds any position including a professional or\\n1Inserted by Securities and Exchange Board of India (Prohibition of Insider Trading) (Amendment) Regulations, 2018 (w.e.f. April 01, 2019)\\nbusiness relationship between himself and the company whether temporary or permanent, that allows such person, directly or indirectly, access to unpublished price sensitive information or is reasonably expected to allow such access.\\n(ii)Without prejudice to the generality of the foregoing, the persons falling within the following categories shall be deemed to be connected persons unless the contrary is established, -\\n(a). an immediate relative of connected persons specified in clause (i); or\\n(b). a holding company or associate company or subsidiary company; or\\n(c). an intermediary as specified in section 12 of the Act or an employee or director thereof; or\\n(d). an investment company, trustee company, asset management company or an employee or director thereof; or\\n(e). an official of a stock exchange or of clearing house or corporation; or\\n(f). a member of board of trustees of a mutual fund or a member of the board of directors of the asset management company of a mutual fund or is an employee thereof; or\\n(g). a member of the board of directors or an employee, of a public financial institution as defined in section 2 (72) of the Companies Act, 2013; or\\n(h). an official or an employee of a self-regulatory organization recognised or authorized by the Board; or\\n(i). a banker of the company; or\\n(j). a concern, firm, trust, Hindu undivided family, company or association of persons wherein a director of a company or his immediate relative or banker of the company, has more than ten per cent. of the holding or interest;\\nNOTE: It is intended that a connected person is one who has a connection with the company that is expected to put him in possession of unpublished price sensitive information. Immediate relatives and other categories of persons specified above are also presumed to be connected persons but such a presumption is a deeming legal fiction and\\nis rebuttable. This definition is also intended to bring into its ambit persons who may not seemingly occupy any position in a company but are in regular touch with the company and its officers and are involved in the know of the company’s operations. It is intended to bring within its ambit those who would have access to or could access unpublished price sensitive information about any company or class of companies by virtue of any connection that would put them in possession of unpublished price sensitive information.\\n(e)\"generally available information\" means information that is accessible to the public on a non-discriminatory basis;\\nNOTE: It is intended to define what constitutes generally available information so that it is easier to crystallize and appreciate what unpublished price sensitive information is. Information published on the website of a stock exchange, would ordinarily be considered generally available.\\n(f)“immediate relative” means a spouse of a person, and includes parent, sibling, and\\nchild of such person or of the spouse, any of whom is either dependent financially on such person, or consults such person in taking decisions relating to trading in securities;\\nNOTE: It is intended that the immediate relatives of a “connected person” too become connected persons for purposes of these regulations. Indeed, this is a rebuttable presumption.\\n(g)\"insider\" means any person who is:\\ni)a connected person; or\\nii)in possession of or having access to unpublished price sensitive information;\\nNOTE: Since “generally available information” is defined, it is intended that anyone in possession of or having access to unpublished price sensitive information should be considered an “insider” regardless of how one came in possession of or had access to such information. Various circumstances are provided for such a person to demonstrate that he has not indulged in insider trading. Therefore, this definition is intended to bring within its reach any person who is in receipt of or has access to unpublished price sensitive information. The onus of showing that a certain person was in possession of or had access to unpublished price sensitive information at the time of trading would, therefore, be on the person leveling the charge after which the person who has traded when in possession of or having access to unpublished price sensitive information may demonstrate that he was not in such possession or that he has not traded or or he could not access or that his trading when in possession of such information was squarely covered by the exonerating circumstances.\\n(h)\"promoter\" shall have the meaning assigned to it under the Securities and Exchange Board of India (Issue of Capital and Disclosure Requirements) Regulations,\\n2[2018] or any modification thereof;\\n3[(ha) \"promoter group\" shall have the meaning assigned to it under the Securities and Exchange Board of India (Issue of Capital and Disclosure Requirements) Regulations, 2018 or any modification thereof;]\\n4[(5[hb]) “proposed to be listed” shall include securities of an unlisted company:\\n(i)if such unlisted company has filed offer documents or other documents, as the case may be, with the Board, stock exchange(s) or registrar of companies in connection with the listing; or\\n2Substituted for the number “2009” by Securities and Exchange Board of India (Prohibition of Insider Trading) (Amendment) Regulations, 2018 (w.e.f. April 01, 2019)\\n3Inserted by Securities and Exchange Board of India (Prohibition of Insider Trading) (Amendment) Regulations, 2019 (w.e.f. January 21, 2019)\\n4Inserted by Securities and Exchange Board of India (Prohibition of Insider Trading) (Amendment) Regulations, 2018 (w.e.f. April 01, 2019)\\n5Re-numbered by Securities and Exchange Board of India (Prohibition of Insider Trading) (Amendment) Regulations, 2019 (w.e.f. January 21, 2019)\\n(ii)if such unlisted company is getting listed pursuant to any merger or amalgamation and has filed a copy of such scheme of merger or amalgamation under the Companies Act, 2013;]\\n(i)\"securities\" shall have the meaning assigned to it under the Securities Contracts (Regulation) Act, 1956 (42 of 1956) or any modification thereof except units of a mutual fund;\\n(j)\"specified\" means specified by the Board in writing;\\n(k)“takeover regulations” means the Securities and Exchange Board of India\\n(Substantial Acquisition of Shares and Takeovers) Regulations, 2011 and any amendments thereto;\\n(l)\"trading\" means and includes subscribing, buying, selling, dealing, or agreeing to subscribe, buy, sell, deal in any securities, and \"trade\" shall be construed accordingly ;\\nNOTE: Under the parliamentary mandate, since the Section 12A (e) and Section 15G of the Act employs the term \\'dealing in securities\\', it is intended to widely define the term “trading” to include dealing. Such a construction is intended to curb the activities based on unpublished price sensitive information which are strictly not buying, selling or subscribing, such as pledging etc when in possession of unpublished price sensitive information.\\n(m)“trading day” means a day on which the recognized stock exchanges are open for\\ntrading;\\n(n)\"unpublished price sensitive information\" means any information, relating to a company or its securities, directly or indirectly, that is not generally available which upon becoming generally available, is likely to materially affect the price of the securities and shall, ordinarily including but not restricted to, information relating to the following: –\\n(i)financial results;\\n(ii)dividends;\\n(iii)change in capital structure;\\n(iv)mergers, de-mergers, acquisitions, delistings, disposals and expansion of business and such other transactions;\\n(v)changes in key managerial personnel.\\n6[***].\\n']\n",
      "---------------------\n",
      "[5, '3.(1) No insider shall communicate, provide, or allow access to any unpublished price sensitive information, relating to a company or securities listed or proposed to be listed, to any person including other insiders except where such communication is in furtherance of legitimate purposes, performance of duties or discharge of legal obligations.\\n']\n",
      "---------------------\n",
      "[5, '(4)For purposes of sub-regulation (3), the board of directors shall require the parties to execute agreements to contract confidentiality and non-disclosure obligations on the part of such parties and such parties shall keep information so received confidential, except for the purpose of sub-regulation (3), and shall not otherwise trade in securities of the company when in possession of unpublished price sensitive information.\\n']\n",
      "---------------------\n",
      "[5, '(2)No person shall procure from or cause the communication by any insider of unpublished price sensitive information, relating to a company or securities listed or proposed to be listed, except in furtherance of legitimate purposes, performance of duties or discharge of legal obligations.\\n']\n",
      "---------------------\n",
      "[5, '(2) The internal controls shall include the following:\\n(a). all employees who have access to unpublished price sensitive information are identified as designated 39[person];\\n(b). all the unpublished price sensitive information shall be identified and its confidentiality shall be maintained as per the requirements of these regulations;\\n(c). adequate restrictions shall be placed on communication or procurement of unpublished price sensitive information as required by these regulations;\\n(d). lists of all employees and other persons with whom unpublished price sensitive information is shared shall be maintained and confidentiality agreements shall be signed or notice shall be served to all such employees and persons;\\n(e). all other relevant requirements specified under these regulations shall be complied with;\\n(f).\\nperiodic process review to evaluate effectiveness of such internal controls.\\n38Inserted by Securities and Exchange Board of India (Prohibition of Insider Trading) (Amendment) Regulations, 2018 (w.e.f. April 01, 2019)\\n39Substituted for the word “employee” by Securities and Exchange Board of India (Prohibition of Insider Trading) (Second Amendment) Regulations, 2019 (w.e.f. July 25, 2019)\\n']\n",
      "---------------------\n",
      "[4, '“This provision is intended to mandate persons other than listed companies and market intermediaries that are required to handle unpublished price sensitive information to formulate a code of conduct governing trading in securities by their employees. These entities include professional firms such as auditors, accountancy firms, law firms, analysts, consultants etc., assisting or advising listed companies, market intermediaries and other capital market participants. Even entities that normally operate outside the capital market may handle unpublished price sensitive information. This provision would mandate all of them to formulate a code of conduct.”\\n']\n",
      "---------------------\n",
      "[4, '“Every other person who is required to handle unpublished price sensitive information in the course of business operations shall formulate a code of conduct to regulate, monitor and report trading by employees and other connected persons towards achieving compliance with these regulations, adopting the minimum standards set out in Schedule B to these regulations, without diluting the provisions of these regulations in any manner.”\\n']\n",
      "---------------------\n",
      "[4, 'such unpublished price sensitive information becomes generally available information so as to avoid a violation of sub-regulation (1) of regulation 4.\\n']\n",
      "---------------------\n",
      "[4, 'required to handle unpublished price sensitive information in the course of business operations shall formulate a code of conduct to regulate, monitor and report trading by their designated persons and immediate relative of designated persons towards achieving compliance with these regulations, adopting the minimum standards set out in Schedule C to these regulations, without diluting the provisions of these regulations in any manner.\\n']\n",
      "---------------------\n"
     ]
    }
   ],
   "source": [
    "for i in A:\n",
    "    print(i)\n",
    "    print('---------------------')"
   ]
  },
  {
   "cell_type": "markdown",
   "metadata": {},
   "source": [
    "Query: Is there any rule in India by SEBI that makes companies to announce important corporate news?"
   ]
  },
  {
   "cell_type": "markdown",
   "metadata": {},
   "source": [
    "With query expansion"
   ]
  },
  {
   "cell_type": "code",
   "execution_count": 290,
   "metadata": {},
   "outputs": [
    {
     "name": "stdout",
     "output_type": "stream",
     "text": [
      "[42, '2.(1) In these regulations, unless the context otherwise requires, ─\\n(a)“Act” means the Securities and Exchange Board of India Act, 1992 (15 of 1992);\\n(b)“body corporate” shall have the meaning assigned to it under sub-section (11) of\\nPage 1 of 62\\nSection 2 of the Companies Act, 2013 (18 of 2013) as amended from time to time;\\n(c)“certificate” means a certificate of registration issued by the Board;\\n(d)“change of status or constitution” in relation to a portfolio manager─\\n(i)means any change in its status or constitution of whatsoever nature; and\\n(ii)without prejudice to generality of sub-clause (i), includes–\\n(A)amalgamation, demerger, consolidation or any other kind of corporate restructuring falling within the scope of section 230 of the Companies Act, 2013 (18 of 2013) or the corresponding provision of any other law for the time being in force; and\\n(B)any change in control over the body corporate;\\n(e)“change in control”, in relation to a portfolio manager being a body corporate, shall be construed with reference to : ─\\n(i)the definition of control in terms of Regulation 2(1)(e) of SEBI (Substantial Acquisition of Shares and Takeovers) Regulations, 2011 as amended from time to time, if its shares are listed on any recognized stock exchange;\\n(ii)in any other case, change in the controlling interest in the body corporate;\\nExplanation. ─ For the purpose of sub-clause (ii), the expression “controlling interest” means,\\n(A)an interest, whether direct or indirect, to the extent of at least fifty-one percent of voting rights in the body corporate;\\n(B)right to appoint majority of the directors or to control the management directly or indirectly.\\n(f)“chartered accountant\" means a chartered accountant as defined in clause (b) of sub-section\\n(1) of section 2 of the Chartered Accountants Act, 1949 (38 of 1949) and who has obtained a certificate of practice under sub-section (1) of section 6 of that Act;\\nPage 2 of 62\\n(g)“discretionary portfolio manager” means a portfolio manager who under a contract relating to portfolio management, exercises or may exercise, any degree of discretion as to the investment of funds or management of the portfolio of securities of the client, as the case may be;\\n(h)“eligible fund manager” shall have the same meaning as assigned to it in\\nsub-section (4) of Section 9A of the Income-tax Act, 1961;\\n(i)“eligible investment fund” shall have the same meaning as assigned to it in\\nsub-section (3) of Section 9A of the Income-tax Act, 1961;\\n(j)\"form\" means a form specified in Schedule I;\\n(k)“goods” means the goods notified by the Central Government under clause (bc) of section 2 of the Securities Contracts (Regulation) Act, 1956 and forming the underlying of any commodity derivative;\\n(l)\"inspecting authority\" means one or more persons appointed by the Board to exercise powers conferred under Chapter V;\\n(m)“NISM” means the National Institute of Securities Market established by the Board;\\n(n)“portfolio” means the total holdings of securities and goods belonging to any person;\\n(o)“portfolio manager” means a body corporate, which pursuant to a contract with a client, advises or directs or undertakes on behalf of the client (whether as a discretionary portfolio manager or otherwise) the management or administration of a portfolio of securities or goods or funds of the client, as the case may be:\\nProvided that the Portfolio Manager may deal in goods received in delivery against physical\\nPage 3 of 62\\nsettlement of commodity derivatives.\\n(p)“principal officer” means an employee of the portfolio manager who has been designated as such by the portfolio manager and is responsible for: -\\n(i)the decisions made by the portfolio manager for the management or administration of portfolio of securities or the funds of the client, as the case may be; and\\n(ii)all other operations of the portfolio manager.\\n']\n",
      "---------------------\n",
      "[39, '2.(1) In these regulations, unless the context otherwise requires, the terms defined herein shall bear the meanings assigned to them below, and their cognate expressions shall be construed accordingly,–\\n(a)“Act” means the Securities and Exchange Board of India Act, 1992 (15 of 1992);\\n1\\n(b)“associate” of any person 1[“means “associate company” as defined under the Companies Act, 2013 or under the applicable accounting standards and shall also include”,] –\\n(i)any person controlled, directly or indirectly, by the said person;\\n(ii)any person who controls, directly or indirectly, the said person;\\n(iii)where the said person is a company or a body corporate, any person(s) who is designated as promoter(s) of the company or body corporate and any other company or body corporate with the same promoter(s);\\n(iv)where the said person is an individual, any relative of the individual;\\n(v)2[***]\\n(vi)3[***]\\n(vii)4[***]\\n(viii)5[***]\\n(c)\"Board\" means the Securities and Exchange Board of India established under section 3 of the Act;\\n(d)“body corporate” shall have the meaning assigned to it in or under sub- section (11) of section 2 of the Companies Act, 2013;\\n(e)“bonus issue” means additional units allotted to the unit holders, as on the record date fixed for the said purpose, without any cost to the unit holder;\\n(f)“certificate” means a certificate of registration granted under these regulations;\\n(g)\"change in control\", means,–\\n1Substituted by Securities and Exchange Board of India (Infrastructure Investment Trusts) (Amendment)\\nRegulations, 2016, w.e.f 30.11.2016. Prior to which it read as ‘“associate” of any person includes’.\\n2Sub clause (v) omitted by Securities and Exchange Board of India (Infrastructure Investment Trusts) (Amendment)\\nRegulations, 2016, w.e.f 30.11.2016. Prior to which it read as ‘where the said person is a company or a body corporate or an LLP, its group companies;’\\n3Sub clause (vi) omitted by Securities and Exchange Board of India (Infrastructure Investment Trusts)\\n(Amendment) Regulations, 2016, w.e.f 30.11.2016. Prior to which it read as ‘companies or LLPs under the same management;’\\n4Sub clause (vii) omitted by Securities and Exchange Board of India (Infrastructure Investment Trusts) (Amendment) Regulations, 2016, w.e.f 30.11.2016. Prior to which it read as ‘where the said person is an InvIT, related parties to the InvIT;’\\n5Sub clause (viii) omitted by Securities and Exchange Board of India (Infrastructure Investment Trusts) (Amendment) Regulations, 2016, w.e.f 30.11.2016. Prior to which it read as ‘any company or LLP or body corporate in which the person or its director(s) or partner(s) holds, either individually or collectively, more than fifteen percent of its paid-up equity share capital or partnership interest, as the case may be;’\\n2\\n(i)In case of a company or body corporate, change in control where \\'control\\' shall have the meaning as provided in sub-section (27) of Section 2 of the Companies Act, 2013;\\n(ii)in any other case, change in the controlling interest.\\nExplanation.─ For the purpose of sub-clause (ii), the expression “controlling interest” means an interest, whether direct or indirect, to the extent of more than fifty percent of voting rights or interest;\\n(h)“company” means a company as defined under sub-section (20) of section 2 of the Companies Act, 2013;\\n(i)\"completed and revenue generating project\" means an infrastructure project, which prior to the date of its acquisition by, or transfer to, the InvIT, satisfies the following conditions,–\\n(i)the infrastructure project has achieved the commercial operations date as defined under the relevant project agreement including concession agreement, power purchase agreement or any other agreement of a similar nature entered into in relation to the operation of the project or in any agreement entered into with the lenders;\\n(ii)the infrastructure project has received all the requisite approvals and certifications for commencing operations; and\\n(iii)the infrastructure project has been generating revenue from operations for a period of not less than one year;\\n(j)“concession agreement” means an agreement entered into by a person with a concessioning authority for the purpose of implementation of the project as provided in the agreement;\\n(k)“concessioning authority” means the public sector concessioning authority in PPP projects;\\n(l)“credit rating agency” means a credit rating agency registered with the Board under the Securities and Exchange Board of India (Credit Rating Agencies) Regulations, 1999;\\n(m)“custodian” means a person registered with the Board under the Securities and Exchange Board of India (Custodian of Securities) Regulations, 1996;\\n3\\n6 [“(ma) “debt securities” shall be defined under Regulation 2(1)(e) of the Securities and Exchange Board of India (Issue and Listing of Debt Securities) Regulations, 2008;”]\\n(n)“designated stock exchange” means a recognised stock exchange in which units of an InvIT are listed or proposed to be listed and which is chosen by the InvIT as a designated stock exchange for the purpose of a particular issue of the units of the InvIT under these regulations:\\nProvided that where one or more of such stock exchanges have nationwide trading terminals, the InvIT shall choose one of them as the designated stock exchange:\\nProvided further that the InvIT may choose a different recognised stock exchange as a designated stock exchange for any subsequent issue of units of the InvIT under these regulations;\\n(o)\"eligible infrastructure project\" means an infrastructure project which, prior to the date of its acquisition by, or transfer to, the InvIT, satisfies the following conditions,–\\n(i)For PPP projects,–\\n(1)the Infrastructure Project is 7[a] completed and revenue generating [project]8, or\\n9[“(1a) the Infrastructure Project, which has achieved commercial operations date and does not have the track record of revenue from operations for a period of not less than one year, or”]\\n(2)the Infrastructure Project is a pre-COD project;\\n(ii)In non-PPP projects, the infrastructure project has received all the requisite approvals and certifications for commencing construction of the project;\\n6Inserted by the Securities and Exchange Board of India (Infrastructure Investment Trusts) (Amendment) Regulations, 2016, w.e.f 30.11.2016.\\n7Inserted by the Securities and Exchange Board of India (Infrastructure Investment Trusts) (Amendment) Regulations, 2016, w.e.f 30.11.2016.\\n8Inserted by the Securities and Exchange Board of India (Infrastructure Investment Trusts) (Amendment) Regulations, 2016, w.e.f 30.11.2016.\\n9Inserted by the Securities and Exchange Board of India (Infrastructure Investment Trusts) (Amendment) Regulations, 2016, w.e.f 30.11.2016.\\n4\\n(p)\"follow–on offer” means offer of units of an InvIT to the public for subscription and includes an offer for sale of InvIT units by an existing unit holder to the public;\\n(q)10[***]\\n(r)“form” means any of the forms set out in the Schedule I;\\n11[(ra) general purposes\" include such identified purposes for which no specific amount is allocated or any amount so specified towards general purpose or any such purpose by whatever name called, in the draft offer document filed with the Board:\\nProvided that any issue related expenses shall not be considered as a part of general purpose merely because no specific amount has been allocated for such expenses in the draft offer document filed with the Board;”]\\n(s)“governing board” in case of an LLP shall mean a group of members assigned by the LLP to act in a manner similar to the board of directors in case of a company;\\n12 [(sa) “holdco” or “holding company” means a company or LLP,-\\n(i)in which InvIT holds or proposes to hold controlling interest and not less than fifty one per cent of the equity share capital or interest and which in turn has made investments in other SPV(s), which ultimately hold the infrastructure assets;\\n(ii)which is not engaged in any other activity other than holding of the underlying SPV(s), holding of infrastructure projects and any other activities pertaining to and incidental to such holdings;”]\\n10Sub clause (q) omitted by the Securities and Exchange Board of India (Infrastructure Investment Trusts) (Amendment) Regulations, 2016, w.e.f 30.11.2016. Prior to omission it read as ‘“follow-on offer document” means any document by which follow-on offer is made to the public by an InvIT;’\\n11Inserted by the Securities and Exchange Board of India (Infrastructure Investment Trusts) (Amendment) Regulations, 2016, w.e.f 30.11.2016.\\n12Inserted by the Securities and Exchange Board of India (Infrastructure Investment Trusts) (Amendment) Regulations, 2016, w.e.f 30.11.2016.\\n5\\n(t)“infrastructure” includes all infrastructure sub-sectors as defined vide notification of the Ministry of Finance dated October 07, 2013 and shall include any amendments or additions made thereof;\\n(u)\"infrastructure project\" means any project in infrastructure sector;\\n13 [(ua) “initial offer” means the first offer of units of an InvIT including an offer for\\nsale of the InvIT units by an existing unit holder whether through public issue or private placement;”]\\n(v)“initial 14 [public] offer” means the first offer of units of an InvIT to the public for subscription and includes an offer for sale of the InvIT units by an existing unit holder to the public;\\n(w)15[***]\\n(x)“infrastructure developer” in case of PPP projects shall mean the lead member of the concessionaire SPV;\\n(y)“inspecting officer” means any one or more person appointed by the Board to exercise powers conferred under Chapter V;\\n16[(ya) “institutional investor” means -\\n(i)a qualified institutional buyer; or\\n(ii)family trust or systematically important NBFCs registered with Reserve Bank of India or intermediaries registered with the Board, all with net-worth of more than five hundred crore rupees, as per the last audited financial statements;]\\n(z)“investment management agreement” means an agreement between the trustee and the investment manager which lays down the roles and responsibilities of the investment manager towards the InvIT;\\n(za) “InvIT” or \\'Infrastructure Investment Trust\\' shall mean the trust registered as such under these regulations;\\n13Inserted by the Securities and Exchange Board of India (Infrastructure Investment Trusts) (Amendment) Regulations, 2016, w.e.f 30.11.2016.\\n14Inserted by the Securities and Exchange Board of India (Infrastructure Investment Trusts) (Amendment) Regulations, 2016 w.e.f 30.11.2016, w.e.f 30.11.2016.\\n15Sub clause (w) omitted by Securities and Exchange Board of India (Infrastructure Investment Trusts) (Amendment) Regulations, 2016, w.e.f 30.11.2016. Prior to which it read as “initial offer document” means any document by which initial offer is made to the public by an InvIT;\\n16Inserted by the Securities and Exchange Board of India (Infrastructure Investment Trusts) (Amendment) Regulations, 2018, w.e.f. 10.04.2018.\\n6\\n(zb)\\n\"InvIT assets” means assets owned by the InvIT, whether directly or through\\n\\xa0\\na 17 [holdco and/ or] SPV, and includes all rights, interests and benefits\\n\\xa0\\narising from and incidental to ownership of such assets;\\n(zc)\\n“Lead member” means the lead member of the Concessionaire SPV for\\n\\xa0\\nPPP projects as defined in the project documents;\\n(zd)\\n“listed InvIT” means an InvIT whose units are listed on a recognized stock\\n\\xa0\\nexchange;\\n(ze)\\n\"LLP\" means a limited liability partnership as defined under the Limited\\n\\xa0\\nLiability Partnership Act, 2008;\\n(zf)\\n“investment manager” means a company or LLP or body corporate which\\n\\xa0\\nmanages assets and investments of the InvIT and undertakes activities of\\n\\xa0\\nthe InvIT as specified under regulation 10;\\n(zg)\\n\"NAV\" or \"net asset value” means the value of the InvIT 18[“ assets reduced\\n\\xa0\\nby the external debt”] divided by the number of outstanding units as on a\\n\\xa0\\nparticular date;\\n(zh)\\n“net worth” in relation to a company or a body corporate shall have the\\n\\xa0\\nmeaning assigned to it under sub-section (57) of section 2 of the Companies\\n\\xa0\\nAct, 2013;.\\n(zi)\\n“non-PPP project” means an infrastructure project that is not a PPP project;\\n(zj)\\n\"offer document\" means any document described or issued as an offer\\n\\xa0\\ndocument including any notice, circular, advertisement or other document\\n\\xa0\\ninviting offers 19[through a public issue ]for the subscription or purchase of\\n\\xa0\\nunits of the 20[***]InvIT and includes initial 21[public]offer document, follow-\\n\\xa0\\non offer document 22[“, letter of offer in case of rights issue] and any other\\n\\xa0\\noffer document as may be specified by the Board;\\n17Inserted by Securities and Exchange Board of India (Infrastructure Investment Trusts) (Amendment) Regulations, 2016, w.e.f 30.11.2016.\\n18Inserted by Securities and Exchange Board of India (Infrastructure Investment Trusts) (Amendment) Regulations, 2016, w.e.f 30.11.2016.\\n19Substituted by Securities and Exchange Board of India (Infrastructure Investment Trusts) (Amendment) Regulations, 2016, w.e.f 30.11.2016. Prior to its substitution it was read as ‘from the public’.\\n20Omitted by Securities and Exchange Board of India (Infrastructure Investment Trusts) (Amendment) Regulations, 2016, w.e.f 30.11.2016. Prior to its omission it read as ‘publically offered’.\\n21Inserted by Securities and Exchange Board of India (Infrastructure Investment Trusts) (Amendment) Regulations, 2016, w.e.f 30.11.2016.\\n22Inserted by Securities and Exchange Board of India (Infrastructure Investment Trusts) (Amendment) Regulations, 2016, w.e.f 30.11.2016.\\n7\\n(zk) “parties to the InvIT” shall include the sponsor(s), investment manager, project manager 23[(s)] and the trustee;\\n(zl) “placement memorandum” means any document through which private placement of units of the InvIT is made;\\n(zm) “PPP project” means an infrastructure project undertaken on a Public- Private Partnership basis between a public concessioning authority and a private SPV concessionaire selected on the basis of open competitive bidding or on the basis of an MoU with the relevant authorities;\\n(zn) “pre-COD project” means an infrastructure project which,–\\n(i)has not achieved commercial operation date as defined under the relevant project agreements including the concession agreement, power purchase agreement or any other agreement of a similar nature entered into in relation to the operation of a project or any agreement entered into with the lenders; and\\n(ii)has,–\\n(1)achieved completion of at least fifty per cent. of the construction of the infrastructure project as certified by an independent engineer of such project; or\\n(2)expended not less than fifty per cent. of the total capital cost set forth in the financial package of the relevant project agreement;\\n(zo) “preferential issue” means an issue of units by a listed InvIT to any select person or group of persons on a private placement basis and does not include an offer of units made through a public issue, rights issue, bonus issue, qualified institutions placement or any other issue as may be specified by the Board;\\n24[(zoa) “private placement” means an issue of units by an InvIT to any select person or group of persons and does not include an offer of units made through a public issue;\\n(zob)\\n“project implementation agreement\" or \"project management agreement”\\n\\xa0\\nmeans an agreement between the project manager, the concessionaire\\n23Inserted by Securities and Exchange Board of India (Infrastructure Investment Trusts) (Amendment) Regulations, 2016, w.e.f 30.11.2016.\\n24Inserted by Securities and Exchange Board of India (Infrastructure Investment Trusts) (Amendment) Regulations, 2016, w.e.f 30.11.2016.\\n8\\nSPV and the trustee which sets out obligations of the project manager with respect to execution of the project 25[and/or management]:\\nProvided that in case of PPP projects, such obligations shall be in addition to the responsibilities as under the concession agreement or any such\\nagreement entered into with the concessioning authority;”]\\n(zp) “project manager” means 26[a company or LLP or a body corporate] designated as the project manager by the InvIT, responsible for achieving execution 27[/management] of the project as specified under regulation 11 and in case of PPP projects, shall mean the entity responsible for such execution and achievement of project milestones in accordance with the concession agreement or any other relevant project document;\\n(zq) “public” for the purposes of offer and listing of units means any person other than related party of the InvIT or any other person as may be specified by the Board:\\nProvided that in case any related party to the InvIT is a qualified institutional buyer, such person shall be included under the term \\'public\\';\\n(zr) “public issue” means issue of units by a 28[***] InvIT to the public and includes initial 29[public] offer and follow-on offer or any other issue made to the public as may be specified by the Board;\\n(zs) “qualified Institutional buyer” shall have the meaning assigned to it under clause (zd) of sub-regulation (1) of regulation 2 of the Securities and Exchange Board of India (Issue Of Capital And Disclosure Requirements) Regulations, 2009;\\n(zt) “qualified Institutions placement” means allotment of units by a listed InvIT to qualified institutional buyers on private placement basis in terms of these regulations;\\n25Inserted by the Securities and Exchange Board of India (Infrastructure Investment Trusts) (Amendment) Regulations, 2018, w.e.f. 10.04.2018.\\n26Inserted ibid in place of the words “the person”.\\n27Inserted by Securities and Exchange Board of India (Infrastructure Investment Trusts) (Amendment) Regulations, 2016, w.e.f 30.11.2016.\\n28Omitted by Securities and Exchange Board of India (Infrastructure Investment Trusts) (Amendment) Regulations, 2016, w.e.f 30.11.2016. Prior to the omission the clause read as “public issue” means issue of units by a publically offered InvIT to the public and includes initial offer and follow-on offer or any other issue made to the public as may be specified by the Board;\\n29Inserted by Securities and Exchange Board of India (Infrastructure Investment Trusts) (Amendment) Regulations, 2016, w.e.f 30.11.2016.\\n9\\n(zu) “recognised stock exchange” means any stock exchange which is recognised under section 4 of the Securities Contracts (Regulation) Act, 1956 (42 of 1956);\\n(zv) 30[“related parties”] shall 31[be defined under the Companies Act, 2013 or under the applicable accounting standards and shall also] include,–\\n(i)parties to the InvIT;\\n(ii)32[***]\\n(iii)33[***]promoters, directors and partners of the persons mentioned in clause (i)34[***];\\n(zw) “rights issue” means an offer of units by a listed InvIT to the unit holders of the InvIT as on the record date fixed for the said purpose;\\n(zx) “right-of-first-refusal” or \"ROFR\" means the right given to the InvIT by a person to enter into a transaction with it before the person is entitled to enter that transaction with any other party;\\n(zy)\\n\"SPV\" or \"special purpose vehicle\" means any company or LLP,–\\n(i)in which 35[either] the InvIT 36[or the holdco] holds or proposes to hold controlling interest and not less than fifty [37one] per cent. of the equity share capital or interest:\\nProvided that in case of PPP projects where such acquiring or holding is disallowed by government or regulatory provisions under the concession agreement or such other agreement, this clause\\n30Substituted by Securities and Exchange Board of India (Infrastructure Investment Trusts) (Amendment) Regulations, 2016, w.e.f 30.11.2016.\\n31Inserted by Securities and Exchange Board of India (Infrastructure Investment Trusts) (Amendment) Regulations, 2016, w.e.f 30.11.2016.\\n32Omitted by Securities and Exchange Board of India (Infrastructure Investment Trusts) (Amendment) Regulations, 2016, w.e.f 30.11.2016. Prior to the omission the clause read as any unit holder holding, directly or indirectly, more than twenty per cent. of the units of the InvIT\\n33Omitted by Securities and Exchange Board of India (Infrastructure Investment Trusts) (Amendment) Regulations, 2016, w.e.f 30.11.2016. Prior to the omission the clause read as associates, promoters, directors and partners of the persons mentioned in clause (i) and (ii);\\n34Omitted by Securities and Exchange Board of India (Infrastructure Investment Trusts) (Amendment) Regulations, 2016, w.e.f 30.11.2016. Prior to the omission the clause read as associates, promoters, directors and partners of the persons mentioned in clause (i) and (ii);\\n35Inserted by Securities and Exchange Board of India (Infrastructure Investment Trusts) (Amendment) Regulations, 2016, w.e.f 30.11.2016.\\n36Inserted by Securities and Exchange Board of India (Infrastructure Investment Trusts) (Amendment) Regulations, 2016, w.e.f 30.11.2016.\\n37Inserted by Securities and Exchange Board of India (Infrastructure Investment Trusts) (Amendment) Regulations, 2016, w.e.f 30.11.2016.\\n10\\nshall not apply and shall be subject to provisions under proviso to sub-regulation (3) of regulation 12;\\n(ii)which holds not less than ninety per cent. of its assets directly in infrastructure projects and does not invest in other SPVs; and\\n(iii)which is not 38[***] engaged in any other activity other than activities pertaining to and incidental to the underlying infrastructure projects;\\n(zz)“sponsor” means any company or LLP or body corporate which sets up the\\nInvIT and is designated as such at the time of application made to the Board 39[***];\\n(zza)\\n‘strategic investor’ means,–\\n\\xa0\\na.\\nan infrastructure finance company registered with Reserve Bank of\\n\\xa0\\n\\xa0\\nIndia as a Non Banking Financial Company;\\n\\xa0\\nb.\\na Scheduled Commercial Bank;\\n\\xa0\\nc.\\n40[a multilateral and/or bilateral development financial institution];\\n\\xa0\\nd.\\na systemically important Non Banking Financial Companies\\n\\xa0\\n\\xa0\\nregistered with Reserve Bank of India;\\n\\xa0\\ne.\\na foreign portfolio investors,\\n\\xa0\\n41[who invest, either jointly or severally,] not less than five per cent. of the\\n\\xa0\\ntotal offer size of the InvIT or such amount as may be specified by the Board\\n\\xa0\\nfrom time to time 42[, subject to the compliance with the applicable\\n\\xa0\\nprovisions, if any, of the Foreign Exchange Management Act, 1999 and the\\n\\xa0\\nrules or regulations or guidelines made thereunder];\\n(zzb)\\n“trustee” means a person who holds the InvIT assets in trust for the benefit\\n\\xa0\\nof the unit holders, in accordance with these regulations;\\n(zzc)\\n\"under-construction project\" means an infrastructure project whether PPP\\n\\xa0\\nor non-PPP, which has 43[either] not achieved commercial operation date\\n38Omitted by Securities and Exchange Board of India (Infrastructure Investment Trusts) (Amendment) Regulations, 2016, w.e.f 30.11.2016. Prior to the omission it read as which is not be engaged in any other activity other than activities pertaining to and incidental to the underlying infrastructure projects;\\n39Words “and in case of PPP projects, shall mean the infrastructure developer or a special purpose vehicle holding concession agreement”, omitted by the Securities and Exchange Board of India (Infrastructure Investment Trusts) (Amendment) Regulations, 2018, w.e.f. 10.04.2018.\\n40Substituted ibid for the words “an international multilateral financial institution”.\\n41Substituted for the words “who together invest” by the Securities and Exchange Board of India (Infrastructure Investment Trusts) (Amendment) Regulations, 2017, w.e.f. 15.12.2017.\\n42Inserted ibid.\\n43Inserted by Securities and Exchange Board of India (Infrastructure Investment Trusts) (Amendment) Regulations, 2016, w.e.f 30.11.2016.\\n11\\n\\xa0\\nas defined under the relevant project agreements including the concession\\n\\xa0\\nagreement, power purchase agreement or any other agreement of a similar\\n\\xa0\\nnature entered into in relation to the operation of a project or in any\\n\\xa0\\nagreement entered into with the lenders 44[or has achieved commercial\\n\\xa0\\noperation date and does not have the track record of revenue from\\n\\xa0\\noperations for a period of not less than one year];\\n(zzd)\\n“unit” means beneficial interest of the InvIT;\\n(zze)\\n“unit holder” means any person who owns units of the InvIT;\\n(zzf)\\n45[“valuer” means any person who is a “registered valuer” under section 247\\n\\xa0\\nof the Companies Act, 2013 or as specified by the Board from time to time.]\\n44Inserted by Securities and Exchange Board of India (Infrastructure Investment Trusts) (Amendment) Regulations, 2016, w.e.f 30.11.2016.\\n45Substituted by the Securities and Exchange Board of India (Infrastructure Investment Trusts) (Amendment) Regulations, 2017, w.e.f. 15.12.2017. Prior to the substitution, the definition of the term “valuer” read as follows:\\n“valuer” means any person 45[(s)] who is a \"registered valuer\" under section 247 of the Companies Act, 2013 45[or as defined hereunder] and who has 45[/have] been appointed by the investment manager to undertake 45[both financial and technical] valuation of the InvIT assets:\\nProvided that:-\\n45[(a) a valuer in respect of financial valuation means,-\\n(i)a chartered accountant, company secretary or cost accountant who is in whole-time practice, or retired member of Indian Corporate Law Service or any person holding equivalent Indian or foreign qualification as the Ministry of Corporate Affairs may recognize by an order:\\nProvided that such foreign qualification is acquired by Indian citizen.\\n(ii)a Merchant Banker registered with the Securities and Exchange Board of India, and who has in his employment person(s) having qualifications prescribed under sub-sub- clause (i) above to carry out valuation by such qualified persons.\\n(b)a valuer in respect of technical asset valuation, means members of the following institutions for specific asset categories,-\\n(i)Institution of Valuers;\\n(ii)Institution of Surveyors (Valuation Branch);\\n(iii)Institution of Government Approved Valuers;\\n(iv)Practicing Valuers Association of India;\\n(v)Centre for Valuation Studies, Research and Training;\\n(vi)Royal Institution of Chartered Surveyors, UK;\\n(vii)American Society of Appraisers, United States;\\n(viii)Appraisal Institute, United States;\\n(ix)Institute of Engineers;\\n12\\n(zzg)\\n46[\"value of 47[the] InvIT assets\"] means 48[49[value of the assets of the\\n\\xa0\\nInvIT]] as assessed by the valuer based on value of the infrastructure and\\n\\xa0\\nother assets owned by the InvIT, whether directly or through 50[holdco\\n\\xa0\\nand/or] SPV 51[***]\\n']\n",
      "---------------------\n",
      "[39, '2.(1) In these regulations, unless the context otherwise requires, the terms defined herein shall bear the meanings assigned to them below, and their cognate expressions and variations shall be construed accordingly,—\\n(a)“Act” means the Securities and Exchange Board of India Act, 1992 (15 of 1992);\\n(b)“Alternative Investment Fund” means any fund established or incorporated in India in the form of a trust or a company or a limited liability partnership or a body corporate which,-\\n(i)is a privately pooled investment vehicle which collects funds from investors, whether Indian or foreign, for investing it in accordance with a defined investment policy for the benefit of its investors; and\\n(ii)is not covered under the Securities and Exchange Board of India (Mutual Funds) Regulations, 1996, Securities and Exchange Board of India (Collective Investment Schemes) Regulations, 1999 or any other regulations of the Board to regulate fund management activities:\\nProvided that the following shall not be considered as Alternative Investment Fund for the purpose of these regulations,-\\n(i)family trusts set up for the benefit of ‘relatives’ as defined under\\n1[Companies Act, 2013];\\n(ii)2[ESOP Trusts set up under the Securities and Exchange Board of India (Share Based Employee Benefits) Regulations, 2014 or as permitted under Companies Act, 2013;]\\n(iii)employee welfare trusts or gratuity trusts set up for the benefit of employees;\\n(iv)3[’holding companies’ as defined under sub-section 46 of section 2 of Companies Act, 2013;]\\n1Substituted by the SEBI (Alternative Investment Funds)(Amendment) Regulations, 2018, w.e.f. 01-06-2018. Prior to the substitution, it read as “Companies Act, 1956”.\\n2Substituted by the SEBI (Alternative Investment Funds)(Amendment) Regulations, 2018, w.e.f. 01-06-2018. Prior to the substitution, it read as “(ii) ESOP Trusts set up under the Securities and Exchange Board of India (Employee Stock Option Scheme and Employee Stock Purchase Scheme), Guidelines, 1999 or as permitted under Companies Act, 1956;”\\n3Substituted by the SEBI (Alternative Investment Funds)(Amendment) Regulations, 2018, w.e.f. 01-06-2018. Prior to the substitution, it read as “holding companies’ within the meaning of Section 4 of the Companies Act, 1956;”.\\n(v)other special purpose vehicles not established by fund managers, including securitization trusts, regulated under a specific regulatory framework;\\n(vi)funds managed by securitisation company or reconstruction company which is registered with the Reserve Bank of India under Section 3 of the Securitisation and Reconstruction of Financial Assets and Enforcement of Security Interest Act, 2002; and\\n(vii)any such pool of funds which is directly regulated by any other regulator in India;\\n(c)“associate” means a company or a limited liability partnership or a body corporate in which a director or trustee or partner or Sponsor or Manager of the Alternative Investment Fund or a director or partner of the Manager or Sponsor holds, either individually or collectively, more than fifteen percent of its paid-up equity share capital or partnership interest, as the case may be;\\n(d)“Board” means the Securities and Exchange Board of India established under\\nSection 3 of the Act;\\n(e)“certificate” means a certificate of registration granted by the Board under regulation 6;\\n(f)“change in control” in relation to a company or a body corporate, means:\\n(i)if its shares are listed on any recognized stock exchange, change in control within the meaning of clause (e) of sub-regulation (1) of regulation 2 of the Securities and Exchange Board of India (Substantial Acquisition of Shares and Takeovers) Regulations, 2011;\\n(ii)in any other case, change in the controlling interest or change in legal form;\\nExplanation.─ For the purpose of sub-clause (ii), the expression\\n“controlling interest” means an interest, whether direct or indirect, to the extent of more than fifty percent of voting rights or interest;\\n(g)“company” means a company incorporated under the 4[Companies Act, 2013];\\n(h)“corpus” means the total amount of funds committed by investors to the Alternative Investment Fund by way of a written contract or any such document as on a particular date;\\n5[(ha) “custodian” means a person who has been granted a certificate of registration to carry on the business of custodian under the Securities and Exchange Board of India (Custodian) Regulations, 1996;]\\n(i)“debt fund” means an Alternative Investment Fund which invests primarily in debt or debt securities of listed or unlisted investee companies according to the stated objectives of the Fund;\\n(j)“equity linked instruments” includes instruments convertible into equity shares or share warrants, preference shares, debentures compulsorily or optionally convertible into equity;\\n(k)“form” means any of the forms set out in the First Schedule;\\n6[(ka) “goods” means the goods notified by the Central Government under clause (bc) of section 2 of the Securities Contracts (Regulation) Act, 1956 and forming the underlying of any commodity derivative;]\\n(l)“hedge fund” means an Alternative Investment Fund which employs diverse or complex trading strategies and invests and trades in securities having diverse risks or complex products including listed and unlisted derivatives;\\n(m)“infrastructure fund” means an Alternative Investment Fund which invests primarily in unlisted securities or partnership interest or listed debt or securitized\\n4Substituted by the SEBI (Alternative Investment Funds)(Amendment) Regulations, 2018, w.e.f. 01-06-2018. Prior to the substitution, it read as “Companies Act, 1956”.\\n5Inserted by the SEBI (Alternative Investment Funds)(Amendment) Regulations, 2019, w.e.f. 10-05-2019.\\n6Inserted by the SEBI (Alternative Investment Funds)(Amendment) Regulations, 2019, w.e.f. 10-05-2019.\\ndebt instruments of investee companies or special purpose vehicles engaged in or formed for the purpose of operating, developing or holding infrastructure projects;\\nExplanation.─ ‘Infrastructure’ shall be as defined by the government of India from time to time.\\n(n)“inspecting authority” means any one or more person appointed by the Board to\\nexercise powers conferred under regulation 30;\\n(o)“investee company” means any company, special purpose vehicle or limited liability partnership or body corporate 7[or real estate investment trust or infrastructure investment trust] in which an Alternative Investment Fund makes an investment;\\n(p)“investible funds” means corpus of the Alternative Investment Fund net of\\nestimated expenditure for administration and management of the fund;\\n(q)“manager” means any person or entity who is appointed by the Alternative\\nInvestment Fund to manage its investments by whatever name called and may also be same as the sponsor of the Fund;\\n(r)“private equity fund” means an Alternative Investment Fund which invests primarily in equity or equity linked instruments or partnership interests of investee companies according to the stated objective of the fund;\\n(s)“SME” means Small and Medium Enterprise and shall have the same meaning as assigned to it under the Micro, Small and Medium Enterprises Development Act 2006 as amended from time to time;\\n(t)“SME fund” means an Alternative Investment Fund which invests primarily in\\nunlisted securities of investee companies which are SMEs or securities of those SMEs which are listed or proposed to be listed on a SME exchange or SME segment of an exchange;\\n7Inserted by the SEBI (Real Estate Investment Trusts) Regulations, 2014, w.e.f. 26-09-2014.\\n(u)“social venture” means a trust, society or company or venture capital undertaking or limited liability partnership formed with the purpose of promoting social welfare or solving social problems or providing social benefits and includes,-\\n(i)public charitable trusts registered with Charity Commissioner;\\n(ii)societies registered for charitable purposes or for promotion of science, literature, or fine arts;\\n(iii)8[company registered under section 8 of the Companies Act, 2013;]\\n(iv)micro finance institutions;\\n(v)“social venture fund” means an Alternative Investment Fund which invests primarily in securities or units of social ventures and which satisfies social performance norms laid down by the fund and whose investors may agree to receive restricted or muted returns;\\n(w)“sponsor” means any person or persons who set up the Alternative Investment Fund and includes promoter in case of a company and designated partner in case of a limited liability partnership;\\n(x)“trust” means a trust established under the Indian Trusts Act, 1882 or under an Act of Parliament or State Legislation;\\n(y)“unit” means beneficial interest of the investors in the Alternative Investment Fund or a scheme of the Alternative Investment Fund and shall include shares or partnership interests;\\n(z)“venture capital fund” means an Alternative Investment Fund which invests primarily in unlisted securities of start-ups, emerging or early-stage venture capital undertakings mainly involved in new products, new services, technology or intellectual property right based activities or a new business model 9[and shall include an angel fund as defined under Chapter III-A];\\n8Substituted by the SEBI (Alternative Investment Funds)(Amendment) Regulations, 2018, w.e.f. 01-06-2018. Prior to the substitution, it read as “company registered under Section 25 of the Companies Act, 1956”.\\n9Inserted by the SEBI (Alternative Investment Funds) (Amendment) Regulations, 2013, w.e.f. 16-09-2013\\n(aa)“venture capital undertaking” means a domestic company:\\n(i)which is not listed on a recognised stock exchange in India at the time of making investment; and\\n(ii)which is engaged in the business for providing services, production or manufacture of article or things and does not include following activities or sectors:\\n(1)non-banking financial companies;\\n(2)gold financing;\\n(3)activities not permitted under industrial policy of Government of India;\\n(4)any other activity which may be specified by the Board in consultation with Government of India from time to time;\\n']\n",
      "---------------------\n",
      "[38, '2.(1) In these regulations, unless the context otherwise requires, the terms defined herein shall bear the meanings assigned to them below, and their cognate expressions shall be construed accordingly,–\\n(a)“Act” means the Securities and Exchange Board of India Act, 1992 (15 of 1992);\\n1\\n(b)“associate” of any person 1[shall be as defined under the Companies Act, 2013 or under the applicable accounting standards and shall also include following],-\\n(i)any person controlled, directly or indirectly, by the said person;\\n(ii)any person who controls, directly or indirectly, the said person;\\n(iii)where the said person is a company or a body corporate, any person(s) who is designated as promoter(s) of the company or body corporate and any other company or body corporate with the same promoter(s);\\n(iv)where the said person is an individual, any relative of the individual;\\n(v)2[***]\\n(vi)3[***]\\n(vii)4[***]\\n(viii)5[***]\\n(c)\"Board\" means the Securities and Exchange Board of India established under section 3 of the Act;\\n(d)“body corporate” shall have the meaning assigned to it in or under sub-section (11) of section 2 of the Companies Act, 2013;\\n(e)“bonus issue” means additional units allotted to the unit holders as on the record date fixed for the said purpose, without any cost to the unit holder;\\n(f)“certificate” means a certificate of registration granted under these regulations;\\n(g)\"change in control\" means,-\\n1Substituted for \"includes\" by the SEBI (Real Estate Investment Trusts) (Amendment) Regulations, 2016, w.e.f. 30.11.2016\\n2Omitted, by the SEBI (Real Estate Investment Trusts) (Amendment) Regulations, 2016, w.e.f. 30.11.2016. Prior to its omission, sub-clause (v) read as under :\\n“where the said person is a company or a body corporate or an LLP, its group companies;”\\n3Omitted, by the SEBI (Real Estate Investment Trusts) (Amendment) Regulations, 2016, w.e.f. 30.11.2016. Prior to its omission, sub-clause (vi) read as under :\\n“companies or LLPs under the same management;”\\n4Omitted, by the SEBI (Real Estate Investment Trusts) (Amendment) Regulations, 2016, w.e.f. 30.11.2016. Prior to its omission, sub-clause (vii) read as under :\\n“where the said person is a REIT, related parties to the REIT;”\\n5Omitted, by the SEBI (Real Estate Investment Trusts) (Amendment) Regulations, 2016, w.e.f. 30.11.2016. Prior to its omission, sub-clause (viii) read as under :\\n“any company or LLP or body corporate in which the person or its director(s) or partner(s) hold(s), either individually or collectively, more than fifteen percent of its paid-up equity share capital or partnership interest, as the case may be;”\\n2\\n(i)in case of a company or body corporate, change in control where \\'control\\' shall have the meaning as provided in sub-section (27) of section 2 of the Companies Act, 2013;\\n(ii)in any other case, change in the controlling interest;\\nExplanation.─ For the purpose of sub-clause (ii), the expression “controlling interest” means an interest, whether direct or indirect, to the extent of 6[not less] than fifty percent of voting rights or interest;\\n(h)“company” means a company as defined under sub-section (20) of section 2 of the Companies Act, 2013;\\n(i)“completed property” means property for which occupancy certificate has been received from the relevant authority;\\n(j)“credit rating agency” means a credit rating agency registered with the Board under the Securities and Exchange Board of India (Credit Rating Agencies) Regulations, 1999;\\n(k)“custodian” means a person registered with the Board under the Securities and Exchange Board of India (Custodian of Securities) Regulations, 1996;\\n7[(ka) “debt securities” shall be as defined under Regulation 2(1)(e) of SEBI (Issue and Listing of Debt Securities) Regulations, 2008;]\\n(l)“designated stock exchange” means a recognised stock exchange in which units of a\\nREIT are listed or proposed to be listed and which is chosen by the REIT as a designated stock exchange for the purpose of a particular issue of the units of the REIT under these regulations:\\nProvided that where one or more of such stock exchanges have nationwide trading terminals, the REIT shall choose one of them as the designated stock exchange:\\nProvided further that subject to the provisions of this clause, the REIT may choose a different recognised stock exchange as a designated stock exchange for any subsequent issue of units of the REIT under these regulations;\\n6Substituted for the word “more” by the Securities and Exchange Board of India (Real Estate Investment Trusts) (Amendment) Regulations, 2018, w.e.f. 10.04.2018.\\n7Inserted by the SEBI (Real Estate Investment Trusts) (Amendment) Regulations, 2016, w.e.f. 30.11.2016.\\n3\\n(m)\"floor space index\" or \"FSI\" shall mean the buildable area on a plot of land as specified by the competant authority;\\n(n)“follow–on offer” means offer of units of a listed REIT to the public for subscription\\nand includes an offer for sale of REIT units by an existing unit holder to the public;\\n(o) 8[***]\\n(p)“form” means any of the forms set out in the Schedule I of these regulations;\\n9[(pa) \"general purposes\" include such identified purposes for which no specific amount is allocated or any amount so specified towards general purpose or any such purpose by whatever name called, in the offer document filed with the Board:\\nProvided that any issue related expenses shall not be considered as a part of general purpose merely because no specific amount has been allocated for such expenses in the offer document filed with the Board;”]\\n(q)\"governing board” in case of an LLP shall mean a group of members assigned by the\\nLLP to act in a manner similar to the Board of directors in case of a company;“initial offer” means the first offer of units of an REIT to the public for subscription and includes an offer for sale of REIT units by an existing unit holder to the public; 10[“(qa) “holdco” or “holding company” shall mean a company or LLP.,-\\n(i)in which REIT holds or proposes to hold 11[***] not less than fifty 12[***] per cent. of the equity share capital or interest and which it in turn has made investments in other SPV(s), which ultimately hold the property(ies);\\n(ii)which is not engaged in any other activity other than holding of the underlying SPV(s), holding of real estate/properties and any other activities\\npertaining to and incidental to such holdings;”;\\n(qb) “initial offer” means the first offer of units of an REIT to the public for subscription and includes an offer for sale of REIT units by an existing unit holder to the public;]\\n8Omitted, by the SEBI (Real Estate Investment Trusts) (Amendment) Regulations, 2016, w.e.f. 30.11.2016. Prior to its omission, clause (o) read as under :\\n““follow-on offer document” means any document by which follow-on offer is made to the public;”\\n9Inserted by the SEBI (Real Estate Investment Trusts) (Amendment) Regulations, 2016, w.e.f. 30.11.2016.\\n10Inserted by the SEBI (Real Estate Investment Trusts) (Amendment) Regulations, 2016, w.e.f. 30.11.2016.\\n11Words “controlling interest and” omitted by the Securities and Exchange Board of India (Real Estate Investment Trusts) (Amendment) Regulations, 2018, w.e.f. 10.04.2018.\\n12Word “one” omitted ibid.\\n4\\n(r) 13[***]\\n(s)“inspecting officer” means any one or more person appointed by the Board to exercise powers conferred under Chapter VII of these regulations;\\n(t)“investment management agreement” means an agreement between the trustee and the manager which lays down the roles and responsibilities of the manager towards the REIT;\\n(u)“listed REIT” means a REIT whose units are listed on a recognized stock exchange;\\n(v)\"LLP\" means a limited liability partnership as defined under the Limited Liability Partnership Act, 2008;\\n(w)“manager” means a company or LLP or body corporate incorporated in India which manages assets and investments of the REIT and undertakes operational activities of the REIT;\\n(x)\"net asset value” or \"NAV\" means the value of the REIT 14[assets reduced by the external debt] divided by the number of outstanding units as on a particular date;\\n(y)“net worth” in relation to a company or a body corporate shall have the meaning assigned to it under sub-section (57) of section 2 of the Companies Act, 2013;\\n(za) “occupancy certificate” means a completion certificate, or such other certificate, as the case may be, issued by the competent authority permitting occupation of any property under any law for the time being in force;\\n(zb) \"offer document\" means any document described or issued as an offer document including any notice, circular, advertisement or other document inviting offers 15[through a public issue] for the subscription or purchase of units of the REIT and includes initial offer document, follow-on offer document16[, letter of offer in case of rights issue] and any other document as may be specified by the Board;\\n13Omitted, by the SEBI (Real Estate Investment Trusts) (Amendment) Regulations, 2016, w.e.f. 30.11.2016. Prior to its omission, clause (r) read as under :\\n““initial offer document” means any documentby which initial offer is made to the public by the REIT;”\\n14Inserted by the SEBI (Real Estate Investment Trusts) (Amendment) Regulations, 2016, w.e.f. 30.11.2016\\n15Substituted for “from the public” by the SEBI (Real Estate Investment Trusts) (Amendment) Regulations, 2016, w.e.f. 30.11.2016\\n16Inserted by the SEBI (Real Estate Investment Trusts) (Amendment) Regulations, 2016, w.e.f. 30.11.2016\\n5\\n(zc) “parties to the REIT” shall include the 17[sponsor group(s)], re-designated sponsor(s), manager, and trustee;\\n(zd) “preferential issue” means an issue of units by a listed REIT to any select person or group of persons on a private placement basis and does not include an offer of units made through a public issue, rights issue, bonus issue, qualified institutions placement or any other issue as may be specified by the Board;\\n(ze) “public” for the purposes of offer and listing of units means any person other than related party of the REIT or any other person as may be specified by the Board:\\nProvided that in case any related party to the REIT is a qualified institutional buyer, such person shall be included under the term \\'public\\';\\n(zf) “public issue” means an initial offer or follow-on offer or any other issue made to the public as may be specified by the Board;\\n(zg) “qualified institutional buyer” shall have the meaning assigned to it under clause (zd) of sub-regulation (1) of regulation 2 of the SEBI (Issue Of Capital And Disclosure Requirements) Regulations, 2009;\\n(zh) “qualified institutions placement” means allotment of units by a listed REIT to qualified institutional buyers on private placement basis in terms of these regulations;\\n(zi) “real estate” or “property” means land and any permanently attached improvements to it, whether leasehold or freehold and includes buildings, sheds, garages, fences, fittings, fixtures, warehouses, car parks, etc. and any other assets incidental to the ownership of real estate but does not include mortgage:\\nProvided that any asset falling under the purview of \\'infrastructure\\' as defined vide Notification of Ministry of Finance dated October 07, 2013 including any amendments or additions made thereof shall not be considered as \\'real estate\\' or \\'property\\' for the purpose of these regulations;\\n18[Notwithstanding the above, following captured within the abovementioned definition of infrastructure shall be considered under “real estate” or “property”,-\\n17Substituted for “sponsor(s)” by the SEBI (Real Estate Investment Trusts) (Amendment) Regulations, 2016, w.e.f. 30.11.2016\\n18Inserted by the SEBI (Real Estate Investment Trusts) (Amendment) Regulations, 2016, w.e.f. 30.11.2016\\n6\\n(i)hotels, hospitals and convention centers, forming part of composite real estate projects, whether rent generating or income generating;\\n(ii)common infrastructure\" for composite real estate projects, industrial parks and SEZ;]\\n(zj) 19[“real estate assets” means properties held by REIT, on a freehold or leasehold basis, whether directly or through a holdco and/or a special purpose vehicle];\\n(zk) “recognised stock exchange” means any stock exchange which is recognised under section 4 of the Securities Contracts (Regulation) Act, 1956 (42 of 1956);\\n(zl) \"re-designated sponsor\" means any person who has assumed the responsibility of the sponsor as provided under regulation 11 from the person as designated under clause (zt) of sub-regulation (1) of this regulation or from any re-designated sponsor thereafter;\\n(zm) “REIT” or \"Real Estate Investment Trust\" shall mean a trust registered as such under these regulations;\\n(zn) 20[“REIT assets” means real estate assets and any other assets held by the REIT, on a freehold or leasehold basis, whether directly or through a holdco and/or a special purpose vehicle.”];\\n(zo) 21[“related party” shall be defined under the Companies Act, 2013 or under the applicable accounting standards and shall also include:]\\n(i)parties to the REIT;\\n(ii)22[***]\\n19 Substituted by the Securities and Exchange Board of India (Real Estate Investment Trusts) (Amendment) Regulations, 2018, w.e.f. 10.04.2018. Prior to the substitution, the definition read as follows:\\n““real estate assets” means properties owned by REIT whether directly or through a special purpose vehicle”\\n20Substituted ibid. Prior to the substitution, the definition read as follows:\\n““REIT assets” means real estate assets and any other assets owned by the REIT whether directly or through a 20[holdco and /or] special purpose vehicle”\\n21Substituted for ““related party to the REIT” shall include:” by the SEBI (Real Estate Investment Trusts) (Amendment) Regulations, 2016, w.e.f. 30.11.2016\\n22Omitted, by the SEBI (Real Estate Investment Trusts) (Amendment) Regulations, 2016, w.e.f. 30.11.2016. Prior to its omission, sub-clause (ii) read as under :\\n“any unit holder holding, directly or indirectly, more than twenty per cent. of the units of the REIT;”\\n7\\n(iii) 23[***] 24[promoters] 25[***], directors and partners of the persons in clause (i) 26[***];\\n(zp) \"rent generating property\" means property which has been leased or rented out in accordance with an agreement entered into for the purpose;\\n(zq) “rights issue” means an offer of units by a listed REIT to the unit holders of the REIT as on the record date fixed for the said purpose;\\n(zr) “right-of-first-refusal” or \"ROFR\" of a REIT means the right given to the REIT by a person to enter into a transaction with it before the person is entitled to enter that transaction with any other party;\\n(zs) \"special purpose vehicle\" or \"SPV\" means any company or LLP, -\\n(i)in which 27[either the REIT or the holdco] holds or proposes to hold 28[***] not less than fifty 29[30[***]] per cent. of the equity share capital or interest;\\n(ii)which holds not less than eighty per cent. of its assets directly in properties and does not invest in other special purpose vehicles; and\\n(iii)which is not engaged in any activity other than holding and developing property and any other activity incidental to such holding or development;\\n(zt) “sponsor” means any person(s) who set(s) up the REIT and designated as such at the time of application made to the Board;\\n31[“(zta) “sponsor group” – includes:\\n(i)the sponsor(s);\\n(ii)in case the sponsor is a body corporate:\\na. entities or person(s) which are controlled by such body corporate;\\n23Omitted “associates,”, by the SEBI (Real Estate Investment Trusts) (Amendment) Regulations, 2016, w.e.f. 30.11.2016.\\n24Inserted by the Securities and Exchange Board of India (Real Estate Investment Trusts) (Amendment) Regulations, 2018, w.e.f. 10.04.2018.\\n25The word “sponsors” was omitted ibid.\\n26Omitted“and (ii)”, by the SEBI (Real Estate Investment Trusts) (Amendment) Regulations, 2016, w.e.f. 30.11.2016.\\n27Substituted for “the REIT” by the SEBI (Real Estate Investment Trusts) (Amendment) Regulations, 2016, w.e.f. 30.11.2016\\n28Words “controlling interest and” omitted by the Securities and Exchange Board of India (Real Estate Investment Trusts) (Amendment) Regulations, 2018, w.e.f. 10.04.2018.\\n29Word “one” omitted ibid.\\n30Inserted by the SEBI (Real Estate Investment Trusts) (Amendment) Regulations, 2016, w.e.f. 30.11.2016\\n31Inserted by the SEBI (Real Estate Investment Trusts) (Amendment) Regulations, 2016, w.e.f. 30.11.2016\\n8\\nb.entities or person(s) who control such body corporate;\\nc.entities or person(s) which are controlled by person(s) as referred at clause b.\\n(iii)in case sponsor is an individual:\\na.an immediate relative of such individual (i.e., any spouse of that person, or any parent, brother, sister or child of the person or of the spouse); and\\nb.entities or person(s) which are controlled by such individual;]\\n32[(ztb) “strategic investor” means, -\\na.an infrastructure finance company registered with the Reserve Bank of India as a Non-Banking Financial Company;\\nb.a Scheduled Commercial Bank;\\nc.a multilateral 33[and/or] bilateral development financial institution;\\nd.a systemically important Non-Banking Financial Company registered with the Reserve Bank of India;\\ne.a foreign portfolio investor,\\nwho invest, either jointly or severally, not less than five per cent. of the total offer size of the REIT or such amount as may be specified by the Board from time to time, subject to the compliance with the applicable provisions, if any, of the Foreign Exchange Management Act, 1999 and the rules or regulations or guidelines made thereunder;]\\n(zu) \"transferable development rights\" or \"TDR\" shall mean development rights issued by the competent authority under relevant laws in lieu of the area relinquished or surrendered by the owner or developer or by way of declared incentives by the government or authority;\\n(zv) “trustee” means a person who holds the REIT assets in trust for the benefit of the unit holders, in accordance with these regulations;\\n(zw) “under-construction property” means a property of which construction is not complete and occupancy certificate has not been received;\\n(zx) “unit” means beneficial interest of the REIT;\\n(zy) “unit holder” means any person who owns units of the REIT;\\n32Inserted by the SEBI (Real Estate Investment Trusts) (Amendment) Regulations, 2017, w.e.f. 15.12.2017\\n33Substituted for the word “and” by the Securities and Exchange Board of India (Real Estate Investment Trusts) (Amendment) Regulations, 2018, w.e.f. 10.04.2018.\\n9\\n34[“(zz) “valuer” means any person who is a “registered valuer” under section 247 of the Companies Act, 2013 or as specified by the Board from time to time.]\\n(zza) 35[***]\\n(zzb) \"value of the REIT assets\" means aggregate value of all the assets under the REIT as assessed by the valuer.\\n']\n",
      "---------------------\n",
      "[34, '2.(1) In these regulations, unless the context otherwise requires, the terms defined herein shall bear the meanings assigned to them below, and their cognate expressions and variations shall be construed accordingly,—\\n(a)“acquirer” means any person who, directly or indirectly, acquires or agrees to acquire whether by himself, or through, or with persons acting in concert with him, shares or voting rights in, or control over a target company;\\n(b)“acquisition” means, directly or indirectly, acquiring or agreeing to acquire shares or voting rights in, or control over, a target company;\\n(c)“Act” means the Securities and Exchange Board of India Act, 1992 (15 of 1992);\\n(d)“Board” means the Securities and Exchange Board of India established under section 3 of the Act;\\n(e)“control” includes the right to appoint majority of the directors or to control the management or policy decisions exercisable by a person or persons acting individually or in concert, directly or indirectly, including by virtue of their shareholding or management rights or shareholders agreements or voting agreements or in any other manner:\\nProvided that a director or officer of a target company shall not be considered to be in control over such target company, merely by virtue of holding such position;\\n(f)“convertible security” means a security which is convertible into or ex- changeable with equity shares of the issuer at a later date, with or without the option of the holder of the security, and includes convertible debt instruments and convertible preference shares;\\n2Proviso substituted by the SEBI (Substantial Acquisition of Shares and Takeovers) (Third Amendment) Regulations, 2015, w.e.f. 14-8-2015. Prior to its substitution, said Proviso, as inserted by the SEBI (Listing of Specified Securities on Institutional Trading Platform) Regulations, 2013, w.e.f. 8-10-2013, read as under :\\n“Provided that these regulations shall not apply to direct and indirect acquisition of shares or voting rights in, or control over a company listed on the institutional trading platform of a recognized stock exchange”\\nPage 2 of 69\\n(g)“disinvestment” means the direct or indirect sale by the Central\\nGovernment or any State Government or by a government company, as the case may be, of shares or voting rights in, or control over, a target company, which is a public sector undertaking;\\n(h)“enterprise value” means the value calculated as market capitalization of a company plus debt, minority interest and preferred shares, minus total cash and cash equivalents;\\n(i)“financial year” means the period of twelve months commencing on the first day of the month of April;\\n(j)“frequently traded shares” means shares of a target company, in which the traded turnover on any stock exchange during the twelve calendar months preceding the calendar month in which the public announcement 3[is required to be made under these regulations], is at least ten per cent of the total number of shares of such class of the target company:\\nProvided that where the share capital of a particular class of shares of the target company is not identical throughout such period, the\\nweighted average number of total shares of such class of the target company shall represent the total number of shares;\\n4[(ja) “fugitive economic offender” shall mean an individual who is declared a fugitive economic offender under section 12 of the Fugitive Economic Offenders Act, 2018 (17 of 2018)]\\n(k)“identified date” means the date falling on the tenth working day prior to the commencement of the tendering period, for the purposes of determining the shareholders to whom the letter of offer shall be sent;\\n(l)“immediate relative” means any spouse of a person, and includes parent, brother, sister or child of such person or of the spouse;\\n(m)“listing agreement” means the agreement with the stock exchange governing the conditions of listing of shares of the target company;\\n3 Substituted by the SEBI (Substantial Acquisition of Shares and Takeovers) (Second Amendment) Regulations, 2018, w.e.f. 11-09-2018. Prior to the amendment, it read as “is made”.\\n4Inserted by the SEBI (Substantial Acquisition of Shares and Takeovers) (Second Amendment) Regulations, 2018, w.e.f. 11-09-2018.\\nPage 3 of 69\\n5[(ma) “listing regulations” means the Securities and Exchange Board of India (Listing Obligations and Disclosure Requirements) Regulations, 2015.]\\n(n)“manager to the open offer” means a merchant banker referred to in regulation 12;\\n(o)“maximum permissible non-public shareholding” means such percentage shareholding in the target company excluding the minimum public shareholding required under the Securities Contracts (Regulation) Rules, 1957;\\n(p)“offer period” means the period between the date of entering into an agreement, formal or informal, to acquire shares, voting rights in, or control over a target company requiring a public announcement, or the date of the public announcement, as the case may be, and the date on which the payment of consideration to shareholders who have accepted the open offer is made, or the date on which open offer is withdrawn, as the case may be;\\n(q)“persons acting in concert” means,—\\n(1)persons who, with a common objective or purpose of acquisition of shares or voting rights in, or exercising control over a target company, pursuant to an agreement or understanding, formal or informal, directly or indirectly co-operate for acquisition of shares or voting rights in, or exercise of control over the target company.\\n(2)Without prejudice to the generality of the foregoing, the persons falling within the following categories shall be deemed to be persons acting in concert with other persons within the same category, unless the contrary is established,—\\n(i)a company, its holding company, subsidiary company and any company under the same management or control;\\n(ii)a company, its directors, and any person entrusted with the management of the company;\\n5Inserted by the SEBI (Substantial Acquisition of Shares and Takeovers) (Second Amendment) Regulations, 2018, w.e.f. 11-09-2018.\\nPage 4 of 69\\n(iii)directors of companies referred to in item (i) and (ii) of this sub-clause and associates of such directors;\\n(iv)promoters and members of the promoter group;\\n(v)immediate relatives;\\n(vi)a mutual fund, its sponsor, trustees, trustee company, and asset management company;\\n(vii)a collective investment scheme and its collective investment management company, trustees and trustee company;\\n(viii)a venture capital fund and its sponsor, trustees, trustee company and asset management company;\\n6[(viiia) an alternative investment fund and its sponsor, trustees, trustee company and manager;]\\n(ix) 7[***]\\n(x)a merchant banker and its client, who is an acquirer;\\n(xi)a portfolio manager and its client, who is an acquirer;\\n(xii)banks, financial advisors and stock brokers of the acquirer, or of any company which is a holding company or subsidiary of the acquirer, and where the acquirer is an individual, of the immediate relative of such individual:\\nProvided that this sub-clause shall not apply to a bank whose sole role is that of providing normal commercial banking services or activities in relation to an open offer under these regulations;\\n(xiii)an investment company or fund and any person who has an interest in such investment company or fund as a shareholder or unitholder having not less than 10 per cent of the paid-up capital of the investment company or unit\\n6Inserted by the SEBI (Alternative Investment Funds) Regulations, 2012, w.e.f. 21-5-2012.\\n7Omitted by the SEBI (Foreign Portfolio Investors) Regulations, 2014, w.e.f. 7-1-2014. Prior to its omission, item (ix) read as under :\\n\"(ix)\\na foreign institutional investor and its sub-accounts;\"\\n\\xa0\\nPage 5 of 69\\ncapital of the fund, and any other investment company or fund in which such person or his associate holds not less than 10 per cent of the paid-up capital of that investment company or unit capital of that fund:\\nProvided that nothing contained in this sub-clause shall apply to holding of units of mutual funds registered with the Board;\\nExplanation.— For the purposes of this clause “associate” of a person means,—\\n(a)any immediate relative of such person;\\n(b)trusts of which such person or his immediate relative is a trustee;\\n(c)partnership firm in which such person or his immediate relative is a partner; and\\n(d)members of Hindu undivided families of which such person is a coparcener;\\n(r)8[“postal ballot” means a postal ballot as provided for under Rule 22 of the Companies (Management and Administration) Rules, 2014 made under the Companies Act, 2013;]\\n(s)“promoter” has the same meaning as in the Securities and Exchange\\nBoard of India (Issue of Capital and Disclosure Requirements) Regulations, 2009 and includes a member of the promoter group;\\n(t)“promoter group” has the same meaning as in the Securities and\\nExchange Board of India (Issue of Capital and Disclosure Requirements) Regulations, 2009;\\n(u)“public sector undertaking” means a target company in which, directly or indirectly, majority of shares or voting rights or control is held by the Central Government or any State Government or Governments, or partly\\n8 Substituted by the SEBI (Substantial Acquisition of Shares and Takeovers) (Second Amendment) Regulations, 2018, w.e.f. 11-09-2018. Prior to the amendment, the clause read as:\\n“(r) “postal ballot” means a postal ballot as provided for under the Companies (Passing of the Resolution by Postal Ballot) Rules, 2001 made under the Companies Act, 1956 (1 of 1956)”\\nPage 6 of 69\\nby the Central Government and partly by one or more State Governments;\\n(v)“shares” means shares in the equity share capital of a target company carrying voting rights, and includes any security which entitles the holder thereof to exercise voting rights;\\nExplanation.— For the purpose of this clause shares will include all depository receipts carrying an entitlement to exercise voting rights in the target company;\\n(w)“specified” means as specified by the Board;\\n(x)“state-level financial institution” means a Financial Corporation established under section 3 or section 3A and institutions notified under section 46 of the State Financial Corporations Act, 1951 (63 of 1951), and includes a development corporation established as a company by a State Government with the object of development of industries or agricultural activities in the state;\\n(y)“stock exchange” means a stock exchange which has been granted recognition under section 4 of the Securities Contracts (Regulation) Act, 1956 (42 of 1956);\\n(z)“target company” means a company and includes a body corporate or corporation established under a Central legislation, State legislation or\\nProvincial legislation for the time being in force, whose shares are listed on a stock exchange;\\n(za) “tendering period” means the period within which shareholders may tender their shares in acceptance of an open offer to acquire shares made under these regulations;\\n(zb) “volume weighted average market price” means the product of the number of equity shares traded on a stock exchange and the price of each equity share divided by the total number of equity shares traded on the stock exchange;\\nPage 7 of 69\\n(zc) “volume weighted average price” means the product of the number of equity shares bought and price of each such equity share divided by the total number of equity shares bought;\\n']\n",
      "---------------------\n",
      "[33, '2.(1) In these regulations, unless the context otherwise requires:—\\n(a)“Act” means the Securities and Exchange Board of India Act, 1992 (15 of 1992);\\n(b)“associate” shall mean any entity which is an associate under sub-section (6) of section 2 of the Companies Act, 2013 or under the applicable accounting standards: Provided that this definition shall not be applicable for the units issued by mutual fund which are listed on a recognised stock exchange(s) for which the provisions of the Securities and Exchange Board of India (Mutual Funds) Regulations, 1996 shall be applicable;\\n1\\n(c)\"Board\" means the Securities and Exchange Board of India established under section 3 of the Act ;\\n(d)“board of directors” or “board of trustees” shall mean the board of directors or board of trustees, whichever applicable, of the listed entity;\\n(e)“chief executive officer” or “managing director” or “manager” shall mean the person so appointed in terms of the Companies Act, 2013;\\n(f)“chief financial officer” or “whole time finance director” or “head of finance”, by whatever name called, shall mean the person heading and discharging the finance function of the listed entity as disclosed by it to the recognised stock exchange(s) in its filing under these regulations;\\n(g)“committee” shall mean committee of board of directors or any other committee so constituted;\\n(h)“designated securities” means specified securities, non-convertible debt securities, non-convertible redeemable preference shares, perpetual debt instrument, perpetual non-cumulative preference shares, Indian depository receipts, securitised debt instruments, [security receipts,]1 units issued by mutual funds and any other securities as may be specified by the Board ;\\n(i)“financial year” shall have the same meaning as assigned to it under sub-section (41) of section 2 of the Companies Act, 2013;\\n2[(ia) “fugitive economic offender” shall mean an individual who is declared a fugitive economic offender under section 12 of the Fugitive Economic Offenders Act, 2018 (17 of 2018);]\\n(j)\"global depository receipts” means global depository receipts as defined in sub- section (44) of section 2 of the Companies Act, 2013;\\n(k)“half year” means the period of six months commencing on the first day of April or October of a financial year;\\n(l)“half yearly results” means the financial results prepared in accordance with these regulations in respect of a half year;\\n(m)\"holding company\" means a holding company as defined in sub-section (46) of section 2 of the Companies Act, 2013;\\n(n)‘Indian depository receipts’ means Indian depository receipts as defined in sub- section(48) of section 2 of the Companies Act, 2013;\\n1Inserted by SEBI (Listing Obligations and Disclosure Requirements) (Fifth Amendment) Regulations, 2018, w.e.f. 06.09.2018.\\n2Inserted by SEBI (Listing Obligations and Disclosure Requirements) (Sixth Amendment) Regulations, 2018, w.e.f. 16.11.2018.\\n2\\n[(na) “Insolvency Code” means the Insolvency and Bankruptcy Code, 2016 [No. 31 of\\n2016]]3\\n(o)“key managerial personnel” means key managerial personnel as defined in sub- section (51) of section 2 of the Companies Act, 2013;\\n(p)\"listed entity\" means an entity which has listed, on a recognised stock exchange(s), the designated securities issued by it or designated securities issued under schemes managed by it, in accordance with the listing agreement entered into between the entity and the recognised stock exchange(s);\\n(q)“listing agreement” shall mean an agreement that is entered into between a recognised stock exchange and an entity, on the application of that entity to the recognised stock exchange, undertaking to comply with conditions for listing of designated securities;\\n(r)“main board\" means main board as defined in clause (a) of sub-regulation (1) of regulation 106N of the Securities and Exchange Board of India (Issue of Capital and Disclosure Requirements) Regulations, 2009;\\n(s)“net worth” means net worth as defined in sub-section (57) of section 2 of the Companies Act, 2013;\\n(t)‘non-convertible debt securities’ which is ‘debt securities’ as defined under regulation 2(1)(e) of the Securities and Exchange Board of India (Issue and Listing of Debt Securities) Regulations, 2008;\\n(u)‘non-convertible redeemable preference shares’, ‘perpetual debt\\ninstrument’/\\'innovative perpetual debt instrument\\' and ‘perpetual non-\\ncumulative preference share’ shall have the same meaning as assigned to them in the Securities and Exchange Board of India (Issue and Listing of Non- Convertible Redeemable Preference Shares) Regulations, 2013;\\n(v)\"offer document\" shall have the same meaning assigned to it under clause (x) of sub-regulation (1) of regulation 2 of the Securities and Exchange Board of India (Issue of Capital and Disclosure Requirements) Regulations, 2009, clause (j) of sub-regulation(1) of regulation 2 of the Securities and Exchange Board of India (Issue and Listing of Debt Securities) Regulations, 2008, clause (p) of sub- regulation (1) of regulation 2 of the Securities and Exchange Board of India (Issue and Listing of Non-Convertible Redeemable Preference Shares) Regulations, 2013, clause (r) of regulation 2 of the Securities and Exchange Board of India (Mutual Funds) Regulations, 1996 and clause (l) of sub-regulation\\n(1)of regulation 2 of the [Securities and Exchange Board of India (Issue and\\n3Inserted by SEBI (Listing Obligations and Disclosure Requirements) (Third Amendment) Regulations, 2018, w.e.f. 31.05.2018.\\n3\\nListing of Securitised Debt Instruments and Security Receipts) Regulations, 2008]4, as may be applicable;\\n(w)\"promoter\" and \"promoter group\" shall have the same meaning as assigned to them respectively in clauses (za) and (zb) of sub-regulation (1) of regulation 2 of the Securities and Exchange Board of India (Issue of Capital and Disclosure Requirements) Regulations, 2009.\\n(x)\"public\" means public as defined under clause (d) of rule 2 of the Securities Contracts (Regulation) Rules, 1957;\\n(y)\"public shareholding\" means public shareholding as defined under clause (e) of rule 2 of the Securities Contracts (Regulation) Rules, 1957;\\n(z)“quarter” means the period of three months commencing on the first day of April, July, October or January of a financial year;\\n(za) \"quarterly results\" means the financial results prepared in accordance with these regulations in respect of a quarter;\\n(zb) “related party” means a related party as defined under sub-section (76) of section 2 of the Companies Act, 2013 or under the applicable accounting standards:\\n5[Provided that any person or entity belonging to the promoter or promoter group of the listed entity and holding 20% or more of shareholding in the listed entity shall be deemed to be a related party.]\\nProvided 6 [further] that this definition shall not be applicable for the units issued by mutual funds which are listed on a recognised stock exchange(s);\\n(zc) “related party transaction” means a transfer of resources, services or obligations between a listed entity and a related party, regardless of whether a price is charged and a \"transaction\" with a related party shall be construed to include a single transaction or a group of transactions in a contract:\\nProvided that this definition shall not be applicable for the units issued by mutual funds which are listed on a recognised stock exchange(s);\\n(zd) “relative” means relative as defined under sub-section (77) of section 2 of the Companies Act, 2013 and rules prescribed there under:\\nProvided this definition shall not be applicable for the units issued by mutual fund which are listed on a recognised stock exchange(s);\\n4Substituted by SEBI (Listing Obligations and Disclosure Requirements) (Fifth Amendment) Regulations, 2018, w.e.f. 06.09.2018. Prior to this, it read as “Securities and Exchange Board of India (Public Offer and Listing of Securitised Debt Instruments) Regulations, 2008”.\\n5Inserted by the SEBI (Listing Obligations and Disclosure Requirements) (Amendment) Regulations, 2018, w.e.f. 1.4.2019\\n6Inserted ibid.\\n4\\n(ze) \"schedule\" means a schedule annexed to these regulations;\\n(zf) \"securities laws\" means the Act, the Securities Contracts (Regulation) Act, 1956, the Depositories Act, 1996, and the provisions of the Companies Act, 1956 and Companies Act, 2013, and the rules, regulations, circulars or guidelines made thereunder.\\n[(zg) “securitized debt instruments” shall have the meaning assigned to it under the Securities and Exchange Board of India (Issue and Listing of Securitised Debt Instruments and Security Receipts) Regulations, 2008;]7\\n[(zga) “security receipts” shall have the meaning assigned to it under the Securities and Exchange Board of India (Issue and Listing of Securitised Debt Instruments and Security Receipts) Regulations, 2008;]8\\n(zh) “servicer” means servicer as defined under clause(t) of sub-regulation (1) of regulation 2 of the [Securities and Exchange Board of India (Issue and Listing of Securitised Debt Instruments and Security Receipts) Regulations, 2008;]9\\n(zi) \"small and medium enterprises\" or \"SME\" shall mean an entity which has issued specified securities in accordance with the provisions of Chapter XB of the Securities and Exchange Board of India (Issue of Capital and Disclosure Requirements) Regulations, 2009;\\n(zj) “SME Exchange” means an SME exchange as defined under clause (c) of sub- regulation (1) of regulation 106N of the Securities and Exchange Board of India (Issue of Capital and Disclosure Requirements) Regulations, 2009;\\n(zk) \"stock exchange\" means a recognised stock exchange as defined under clause (f) of section 2 of the Securities Contracts (Regulation) Act, 1956;\\n(zl) ‘specified securities’ means ‘equity shares’ and ‘convertible securities’ as defined under clause (zj) of sub-regulation (1) of regulation 2 of the Securities and Exchange Board of India (Issue of Capital and Disclosure Requirements) Regulations, 2009;\\n(zm) “subsidiary” means a subsidiary as defined under sub-section(87) of section 2 of the Companies Act, 2013;\\n7Substituted by SEBI (Listing Obligations and Disclosure Requirements) (Fifth Amendment) Regulations, 2018, w.e.f. 06.09.2018. Prior to this, it read as “[(zg) ‘securitised debt instruments’ as defined in the Securities and Exchange Board of India (Public Offer and Listing of Securitised Debt Instruments) Regulations, 2008”.\\n8Inserted by the SEBI (Listing Obligations and Disclosure Requirements) (Fifth Amendment) Regulations, 2018, w.e.f. 06.09.2018.\\n9Substituted by SEBI (Listing Obligations and Disclosure Requirements) (Fifth Amendment) Regulations, 2018, w.e.f. 06.09.2018. Prior to this, it read as “Securities and Exchange Board of India (Public Offer and Listing of Securitised Debt Instruments) Regulations, 2008”\\n5\\n']\n",
      "---------------------\n",
      "[33, '2.(1) In these regulations, unless the context otherwise requires, the terms defined herein shall bear the meanings assigned to them below, and their cognate expressions shall be construed accordingly,–\\n(a)“Act” means the Securities and Exchange Board of India Act, 1992 (15 of 1992);\\n(b)\"asset management company\" means a company as defined under clause(d) of Regulation 2 of Securities and Exchange Board of India ( Mutual Funds) Regulations, 1996;\\n(c)\"associate\" means an associate as defined in Securities and Exchange Board of India (Intermediaries) Regulations, 2008;\\n(d)\"Board\" means the Securities and Exchange Board of India established under section 3 of the Act;\\n(e)“certificate” means a certificate of registration granted under these regulations;\\n(f)“control” means control as defined under the Companies Act, 2013;\\nPage 1 of 24\\n(g)\"fund manager\" includes fund managers of a mutual fund or alternative investment fund or venture capital fund or portfolio manager;\\n(h)\"independent research analyst\" means a person whose only business activity is research analysis or preparation and/or publication of research report;\\n(i)“inspecting authority” means any one or more persons appointed by the Board to exercise powers conferred under regulation 27;\\n(j)\"investment adviser\" means any person registered under Securities and Exchange Board of India (Investment Advisers) Regulations, 2013;\\n(k)“limited liability partnership” means a partnership formed and registered under The\\nLimited Liability Partnership Act, 2008(6 of 2009);\\n(l)“merchant banking or investment banking or brokerage services” includes,-\\ni.acting as an underwriter;\\nii.participating in a selling or an offering for the issuer or otherwise acting in furtherance of a public offer of the issuer;\\niii.acting as an adviser in a merger or acquisition;\\niv.providing or arranging venture capital or equity or debt;\\nv.serving as placement agent for the issuer or otherwise acting in furtherance of a private offering of the issuer;\\nvi.offering brokerage or market making services;\\n(m)“NBFC” means a Non-Banking Financial Company registered by Reserve Bank of India;\\n(n)“NISM” means the National Institute of Securities Market established by the Board;\\n(o)\"price target\" means expectations of research analyst on the future performance of specific securities;\\n(p)\"proxy adviser” means any person who provide advice, through any means, to institutional investor or shareholder of a company, in relation to exercise of their rights in the company including recommendations on public offer or voting recommendation on agenda items;\\n(q)“public appearance” means any participation in a conference call, seminar, forum (including interactive and non-interactive electronic forum), radio or television or internet or web or print media broadcast, authoring a print media article or other public speaking activity in public media in which a research analyst makes a recommendation or offers an opinion, concerning securities or public offer:\\nProvided that it does not include a password protected webcast, conference call or such other events with the clients, if all of the event participants previously received the research report or other documentation that contains the required applicable disclosures and that the research analyst appearing at the event corrects and updates during the public appearance any disclosures in the research report that are inaccurate, misleading or no longer applicable;\\n(r)“public media” means any media source available to the general public and includes a radio, television, internet, web or print media;\\nPage 2 of 24\\n(s)\"public offer\" includes initial public offer, further public offer, offer for sale, disinvestment, takeover, buy-back or delisting of securities;\\n(t)\"relative\" means a person as defined in sub section (77) of section 2 of the Companies Act, 2013 and who is financially dependent on independent research analyst or individual research analyst employed by research entity;\\n(u)“research analyst” means a person who is primarily responsible for,-\\ni.preparation or publication of the content of the research report; or\\nii.providing research report; or\\niii.making \\'buy/sell/hold\\' recommendation; or\\niv.giving price target; or\\nv.offering an opinion concerning public offer,\\nwith respect to securities that are listed or to be listed in a stock exchange, whether or not any such person has the job title of \\'research analyst\\' and includes any other entities engaged in issuance of research report or research analysis.\\nExplanation.-The term also includes any associated person who reports directly or indirectly to such a research analyst in connection with activities provided above;\\n(v)\"research entity\" means an intermediary registered with Board who is also engaged in merchant banking or investment banking or brokerage services or underwriting services and issue research report or research analysis in its own name through the individuals employed by it as research analyst and includes any other intermediary engaged in issuance of research report or research analysis;\\n(w)“research report” means any written or electronic communication that includes research analysis or research recommendation or an opinion concerning securities or\\npublic offer, providing a basis for investment decision and does not include the following communications:-\\n(i)\\ncomments on general trends in the securities market;\\n(ii)\\ndiscussions on the broad-based indices;\\n(iii)commentaries on economic, political or market conditions;\\n(iv)periodic reports or other communications prepared for unit holders of mutual fund or alternative investment fund or clients of portfolio managers and investment advisers;\\n(v)internal communications that are not given to current or prospective clients;\\n(vi)communications that constitute offer documents or prospectus that are circulated as per regulations made by the Board;\\n(vii)statistical summaries of financial data of the companies;\\n(viii)technical analysis relating to the demand and supply in a sector or the index;\\n(ix)any other communication which the Board may specify from time to time;\\n(x)\"securities\" means securities as defined in clause (h) of section 2 of the Securities Contracts (Regulation) Act, 1956;\\n(y)\"significant news or event\" means any news or event which is expected to have a material impact on, or that reflects a material change to, the subject company\\'s\\nPage 3 of 24\\nearnings, operations or financial condition, other than unpublished price sensitive information, as specified in the internal policies and procedures of the research analyst or research entity;\\n(z)“subject company” means the company whose securities are the subject of a research\\nreport or a public appearance;\\n(za) \"stock exchange\" means a stock exchange recognised under section 4 of the Securities Contracts (Regulation) Act, 1956 (42 of 1956);\\n(zb) “third party research report” means a research report produced by a person or entity other than the research analyst or research entity.\\n']\n",
      "---------------------\n",
      "[33, '19A. For the purposes of this Chapter, unless the context otherwise requires, the terms defined herein shall bear the meanings assigned to them below, and their cognate expressions and variations shall be construed accordingly,-\\n(1)“angel fund” means a sub-category of Venture Capital Fund under Category I- Alternative Investment Fund that raises funds from angel investors and invests in accordance with the provisions of this Chapter.\\n(2)\"angel investor\" means any person who proposes to invest in an angel fund and satisfies one of the following conditions, namely,\\n(a)an individual investor who has net tangible assets of at least two crore rupees excluding value of his principal residence, and who:\\n(i)has early stage investment experience, or\\n(ii)has experience as a serial entrepreneur, or\\n(iii)is a senior management professional with at least ten years of experience;\\nExplanation: For the purpose of this clause, \\'early stage investment experience\\' shall mean prior experience in investing in start-up or emerging or early-stage ventures and \\'serial entrepreneur\\' shall mean a person who has promoted or co-promoted more than one start-up venture.\\n31Inserted by the SEBI (Alternative Investment Fund) (Amendment) Regulations, 2013, w.e..f 16-09-2013\\n(b)a body corporate with a net worth of at least ten crore rupees; or\\n(c)an Alternative Investment Fund registered under these regulations or a Venture Capital Fund registered under the SEBI (Venture Capital Funds) Regulations, 1996.\\n(3)\"company with family connection\" means: a. if the angel investor is an individual,\\ni.any company which is promoted by such an individual or his relative; or\\nii.any company where the individual or his relative is a director; or\\niii.any company where the person or his relative has control, or shares or voting rights which entitle them to fifteen percent or more of the shares or voting rights in the company.\\nExplanation I: For the purpose of this clause, \"relative\" means a person as defined under 32[ sub-section 77 of section 2 of the Companies Act, 2013].\\nExplanation II: For the purpose of this clause, \"control\" shall have the same meaning as assigned to it under sub-regulation (1) of regulation 2 of the Securities and Exchange Board of India (Substantial Acquisition of Shares and Takeovers) Regulations, 2011.\\nb. if the angel investor is a body corporate,\\ni. any company which is a subsidiary or a holding company of the investor;\\nor\\nii.any company which is part of the same group or under the same management of the investor; or\\nExplanation: For the purpose of this clause, \"part of the same group\" and \"under the same management\" shall have the same meaning as assigned to it under regulation 23 of the Securities and Exchange Board of India (Issue of Capital and Disclosure Requirements) Regulations, 2009.\\n32Substituted by the SEBI (Alternative Investment Funds)(Amendment) Regulations, 2018, w.e.f. 01-06-2018. Prior to the substitution, it read as “section 6 of the Companies Act, 1956 (1 of 1956)”.\\niii.any company where the body corporate or its directors/partners have control, or shares or voting rights which entitle them to fifteen percent or more of the shares or voting rights in the company.\\nExplanation: For the purpose of this clause, \"control\" shall have the same meaning as assigned to it under sub-regulation (1) of regulation 2 of the Securities and Exchange Board of India (Substantial Acquisition of Shares and Takeovers) Regulations, 2011.\\n']\n",
      "---------------------\n",
      "[32, '10.(1) The following acquisitions shall be exempt from the obligation to make an open offer under regulation 3 and regulation 4 subject to fulfillment of the conditions stipulated therefor,—\\n(a)acquisition pursuant to inter se transfer of shares amongst qualifying persons, being,—\\n22Substituted by the SEBI (Substantial Acquisition of Shares and Takeovers) (Second Amendment) Regulations, 2018, w.e.f. 11-09-2018. Prior to this, it read as “Companies Act, 1956 (1 of 1956)”.\\nPage 24 of 69\\n(i)immediate relatives;\\n(ii)persons named as promoters in the shareholding pattern filed by the target company in terms of the 23[listing regulations or as the case may be, the listing agreement] or these regulations for not less than three years prior to the proposed acquisition;\\n(iii)a company, its subsidiaries, its holding company, other subsidiaries of such holding company, persons holding not less than fifty per cent of the equity shares of such company, other companies in which such persons hold not less than fifty per cent of the equity shares, and their subsidiaries subject to control over such qualifying persons being exclusively held by the same persons;\\n24[Explanation: For the purpose of this sub-clause, the company shall include a body corporate, whether Indian or foreign.]\\n(iv)persons acting in concert for not less than three years prior to the proposed acquisition, and disclosed as such pursuant to filings under the 25[listing regulations or as the case may be, the listing agreement];\\n(v)shareholders of a target company who have been persons acting in concert for a period of not less than three years prior to the proposed acquisition and are disclosed as such pursuant to filings under the 26[listing regulations or as the case may be, the listing agreement], and any company in which the entire equity share capital is owned by such shareholders in the same proportion as their holdings in the target company without any differential entitlement to exercise voting rights in such company:\\n23 Substituted by the SEBI (Substantial Acquisition of Shares and Takeovers) (Second Amendment) Regulations, 2018, w.e.f. 11-09-2018. Prior to this, it read as “listing agreement”.\\n24Inserted by the SEBI (Substantial Acquisition of Shares and Takeovers) (Second Amendment) Regulations, 2018, w.e.f. 11-09-2018.\\n25Substituted by the SEBI (Substantial Acquisition of Shares and Takeovers) (Second Amendment) Regulations, 2018, w.e.f. 11-09-2018. Prior to this, it read as “listing agreement”.\\n26Ibid\\nPage 25 of 69\\nProvided that for purposes of availing of the exemption under this clause,—\\n(i)If the shares of the target company are frequently traded, the acquisition price per share shall not be higher by more than twenty-five per cent of the volume-weighted average market price for a period of sixty trading days preceding the date of issuance of notice for the proposed inter se transfer under sub-regulation (5), as traded on the stock exchange where the maximum volume of trading in the shares of the target company are recorded during such period, and if the shares of the target company are infrequently traded, the acquisition price shall not be higher by more than twenty-five percent of the price determined in terms of clause (e) of sub-regulation (2) of regulation 8; and\\n(ii)the transferor and the transferee shall have complied with applicable disclosure requirements set out in Chapter V.\\n(b)acquisition in the ordinary course of business by,—\\n(i)an underwriter registered with the Board by way of allotment pursuant to an underwriting agreement in terms of the Securities and Exchange Board of India (Issue of Capital and Disclosure Requirements) Regulations, 2009;\\n(ii)a stock broker registered with the Board on behalf of his client in exercise of lien over the shares purchased on behalf of the client under the bye-laws of the stock exchange where such stock broker is a member;\\n(iii)a merchant banker registered with the Board or a nominated investor in the process of market making or subscription to the unsubscribed portion of issue in terms of Chapter XB of the Securities and Exchange Board of India (Issue of Capital and Disclosure Requirements) Regulations, 2009;\\nPage 26 of 69\\n(iv)any person acquiring shares pursuant to a scheme of safety net in terms of regulation 44 of the Securities and Exchange Board of India (Issue of Capital and Disclosure Requirements) Regulations, 2009;\\n(v)a merchant banker registered with the Board acting as a stabilising agent or by the promoter or pre-issue shareholder in terms of regulation 45 of the Securities and Exchange Board of India (Issue of Capital and Disclosure Requirements) Regulations, 2009;\\n(vi)by a registered market-maker of a stock exchange in respect of shares for which he is the market maker during the course of market making;\\n(vii)a Scheduled Commercial Bank, acting as an escrow agent; and\\n(viii)invocation of pledge by Scheduled Commercial Banks or Public Financial Institutions as a pledgee.\\n(c)acquisitions at subsequent stages, by an acquirer who has made a public announcement of an open offer for acquiring shares pursuant to an agreement of disinvestment, as contemplated in such agreement:\\nProvided that,—\\n(i)both the acquirer and the seller are the same at all the stages of acquisition; and\\n(ii)full disclosures of all the subsequent stages of acquisition, if any, have been made in the public announcement of the open offer and in the letter of offer.\\n(d)acquisition pursuant to a scheme,—\\n(i)made under section 18 of the Sick Industrial Companies (Special Provisions) Act, 1985 (1 of 1986) or any statutory modification or re-enactment thereto;\\n(ii)of arrangement involving the target company as a transferor company or as a transferee company, or reconstruction of the target company, including amalgamation, merger or demerger,\\nPage 27 of 69\\npursuant to an order of a court [or a tribunal]27 [***]28under any law or regulation, Indian or foreign; or\\n(iii)of arrangement not directly involving the target company as a transferor company or as a transferee company, or reconstruction not involving the target company’s undertaking, including amalgamation, merger or demerger, pursuant to an order of a court 29 [or a tribunal] or [***]30 under any law or regulation, Indian or foreign, subject to,—\\n(A)the component of cash and cash equivalents in the consideration paid being less than twenty-five per cent of the consideration paid under the scheme; and\\n(B)where after implementation of the scheme of arrangement, persons directly or indirectly holding at least thirty-three per cent of the voting rights in the combined entity are the same as the persons who held the entire voting rights before the implementation of the\\nscheme.\\n31[(da) acquisition pursuant to a resolution plan approved under section 31 of the Insolvency and Bankruptcy Code, 2016 (31 of 2016);]\\n(e)acquisition pursuant to the provisions of the Securitisation and Reconstruction of Financial Assets and Enforcement of Security Interest Act, 2002 (54 of 2002);\\n(f)acquisition pursuant to the provisions of the Securities and Exchange Board of India (Delisting of Equity Shares) Regulations, 2009;\\n(g)acquisition by way of transmission, succession or inheritance;\\n27Inserted by the SEBI (Substantial Acquisition of Shares and Takeovers) (Amendment) Regulations, 2017, w.e.f 14.8.2017.\\n28Words “or a competent authority” omitted by the SEBI (Substantial Acquisition of Shares and Takeovers) (Amendment) Regulations, 2019, w.e.f 29.03.2019.\\n29Inserted by the SEBI (Substantial Acquisition of Shares and Takeovers) (Amendment) Regulations, 2017, w.e.f 14.8.2017.\\n30Words “or a competent authority” omitted by the SEBI (Substantial Acquisition of Shares and Takeovers)\\n(Amendment) Regulations, 2019, w.e.f 29.03.2019.\\n31Inserted ibid.\\nPage 28 of 69\\n(h)acquisition of voting rights or preference shares carrying voting rights arising out of the operation of 32 [sub-section (2) of section 47 of the Companies Act, 2013 (18 of 2013)].\\nAcquisition of shares by the lenders pursuant to conversion of their debt as part of a debt restructuring [***]34 implemented in accordance with the guidelines specified by the Reserve Bank of India:\\n[Provided that the conditions specified under sub-regulation (6) of regulation 158 of the Securities and Exchange Board of India (Issue of Capital and Disclosure Requirements) Regulations, 2018 are complied with]35]\\n[Explanation. – For the purpose of this clause, “lenders” shall mean all scheduled commercial banks (excluding Regional Rural Banks) and All India Financial Institutions]36\\n37[(ia) [***]38]\\n32 Substituted by the SEBI (Substantial Acquisition of Shares and Takeovers) (Second Amendment) Regulations, 2018, w.e.f. 11-09-2018. Prior to this, it read as “sub-section (2) of section 87 of the Companies Act, 1956 (1 of 1956)”.\\n33Substituted by the SEBI (Substantial Acquisition of Shares and Takeovers) (Amendment) Regulations, 2017, w.e.f 14.8.2017. Prior to the substitution, clause (i), inserted by the SEBI (Substantial Acquisition of Shares and Takeovers) (Second Amendment) Regulations, 2015, w.e.f. 05-05-2015, read as follows:\\n“Conversion of debt into equity under Strategic Debt Restructuring Scheme - Acquisition of equity shares by the consortium of banks, financial institutions and other secured lenders pursuant to conversion of their debt as part of the Strategic Debt Restructuring Scheme in accordance with the guidelines specified by the Reserve Bank of India:\\nProvided that the conditions specified under sub-regulation (5) or (6) of regulation 70 of the Securities and Exchange Board of India (Issue of Capital and Disclosure Requirements) Regulations, 2009, as may be applicable, are complied with.”\\n34The word “scheme” omitted by the SEBI (Substantial Acquisition of Shares and Takeovers) (Amendment) Regulations, 2019, w.e.f 29.03.2019.\\n35Substituted by the SEBI (Substantial Acquisition of Shares and Takeovers) (Amendment) Regulations, 2019, w.e.f 29.03.2019. Prior to its substitution, the proviso read as follows,-\\n“Provided that the conditions specified under sub-regulation (5) of regulation 70 of the Securities and Exchange Board of India (Issue of Capital and Disclosure Requirements) Regulations, 2009 are complied with.”\\n36Inserted by the SEBI (Substantial Acquisition of Shares and Takeovers) (Amendment) Regulations, 2019, w.e.f 29.03.2019.\\n37Inserted ibid.\\n38Omitted by the SEBI (Substantial Acquisition of Shares and Takeovers) (Amendment) Regulations, 2019, w.e.f 29.03.2019. Prior to its omission, clause (ia) read as follows,-\\n“Acquisition of shares by the person(s), by way of allotment by the target company or purchase\\nfrom the lenders at the time of lenders selling their shareholding or enforcing change in ownership Page 29 of 69\\n39[(j) increase in voting rights arising out of the operation of sub-section (1) of section 106 of the Companies Act, 2013 or pursuant to a forfeiture of shares by the target company, undertaken in compliance with the provisions of the Companies Act, 2013 and its articles of association.]\\n']\n",
      "---------------------\n",
      "[31, '2.(1) In these regulations, unless the context otherwise requires, the terms defined herein shall bear the meanings assigned to them below, and their cognate expressions shall be construed accordingly,–\\n(a)“Act” means the Securities and Exchange Board of India Act, 1992 (15 of 1992);\\n(b)\"Board\" means the Securities and Exchange Board of India established under section 3 of the Act;\\n(c)“body corporate” shall have the meaning assigned to it in or under sub-section\\n(7) of section 2 of the Companies Act, 1956 (1 of 1956);\\n(d)“certificate” means a certificate of registration granted under these regulations;\\n1\\n(e)“change in control” in relation to a company or a body corporate, means:\\n(i)if its shares are listed on any recognized stock exchange, change in control within the meaning of clause (e) of sub-regulation (1) of regulation 2 of the Securities and Exchange Board of India (Substantial Acquisition of Shares and Takeovers) Regulations, 2011;\\n(ii)in any other case, change in the controlling interest or change in legal form.\\nExplanation.─ For the purpose of sub-clause (ii), the expression “controlling interest” means an interest, whether direct or indirect, to the extent of more than fifty percent of voting rights or interest;\\n(f)“company” means a company incorporated under the Companies Act, 1956;\\n(g)“consideration” means any form of economic benefit including non-cash benefit, received or receivable for providing investment advice;\\n(h)“financial planning” shall include analysis of clients’ current financial situation, identification of their financial goals, and developing and recommending financial strategies to realise such goals;\\n(i)“firm” means a partnership firm registered under Indian Partnership Act, 1932 (9 of 1932);\\n(j)“form” means any of the forms set out in the First Schedule;\\n(k)“inspecting authority” means any one or more persons appointed by the Board to exercise powers conferred under regulation 23;\\n(l)“investment advice” means advice relating to investing in, purchasing, selling or otherwise dealing in securities or investment products, and advice on investment portfolio containing securities or investment products, whether written, oral or through any other means of communication for the benefit of the client and shall include financial planning:\\nProvided that investment advice given through newspaper, magazines, any electronic or broadcasting or telecommunications medium, which is widely available to the public shall not be considered as investment advice for the purpose of these regulations;\\n(m)“investment adviser” means any person, who for consideration, is engaged in the business of providing investment advice to clients or other persons or group of persons and includes any person who holds out himself as an investment adviser, by whatever name called;\\n(n)“limited liability partnership” means a partnership formed and registered under The Limited Liability Partnership Act, 2008(6 of 2009);\\n(o)“NBFC” means a Non-Banking Financial Company regulated by Reserve Bank of India;\\n2\\n(p)“NISM” means the National Institute of Securities Market established by the Board;\\n(q)“partner” means partner of the firm or a limited liability partnership who renders investment advice on behalf of the firm or limited liability partnership;\\n']\n",
      "---------------------\n"
     ]
    }
   ],
   "source": [
    "for i in A:\n",
    "    print(i)\n",
    "    print('---------------------')"
   ]
  },
  {
   "cell_type": "markdown",
   "metadata": {},
   "source": [
    "Without query expansion"
   ]
  },
  {
   "cell_type": "code",
   "execution_count": 319,
   "metadata": {},
   "outputs": [
    {
     "name": "stdout",
     "output_type": "stream",
     "text": [
      "[4, '2.(1) In these regulations, unless the context otherwise requires, the terms defined herein shall bear the meanings assigned to them below, and their cognate expressions shall be construed accordingly,–\\n(a)“Act” means the Securities and Exchange Board of India Act, 1992 (15 of 1992);\\n(b)\"asset management company\" means a company as defined under clause(d) of Regulation 2 of Securities and Exchange Board of India ( Mutual Funds) Regulations, 1996;\\n(c)\"associate\" means an associate as defined in Securities and Exchange Board of India (Intermediaries) Regulations, 2008;\\n(d)\"Board\" means the Securities and Exchange Board of India established under section 3 of the Act;\\n(e)“certificate” means a certificate of registration granted under these regulations;\\n(f)“control” means control as defined under the Companies Act, 2013;\\nPage 1 of 24\\n(g)\"fund manager\" includes fund managers of a mutual fund or alternative investment fund or venture capital fund or portfolio manager;\\n(h)\"independent research analyst\" means a person whose only business activity is research analysis or preparation and/or publication of research report;\\n(i)“inspecting authority” means any one or more persons appointed by the Board to exercise powers conferred under regulation 27;\\n(j)\"investment adviser\" means any person registered under Securities and Exchange Board of India (Investment Advisers) Regulations, 2013;\\n(k)“limited liability partnership” means a partnership formed and registered under The\\nLimited Liability Partnership Act, 2008(6 of 2009);\\n(l)“merchant banking or investment banking or brokerage services” includes,-\\ni.acting as an underwriter;\\nii.participating in a selling or an offering for the issuer or otherwise acting in furtherance of a public offer of the issuer;\\niii.acting as an adviser in a merger or acquisition;\\niv.providing or arranging venture capital or equity or debt;\\nv.serving as placement agent for the issuer or otherwise acting in furtherance of a private offering of the issuer;\\nvi.offering brokerage or market making services;\\n(m)“NBFC” means a Non-Banking Financial Company registered by Reserve Bank of India;\\n(n)“NISM” means the National Institute of Securities Market established by the Board;\\n(o)\"price target\" means expectations of research analyst on the future performance of specific securities;\\n(p)\"proxy adviser” means any person who provide advice, through any means, to institutional investor or shareholder of a company, in relation to exercise of their rights in the company including recommendations on public offer or voting recommendation on agenda items;\\n(q)“public appearance” means any participation in a conference call, seminar, forum (including interactive and non-interactive electronic forum), radio or television or internet or web or print media broadcast, authoring a print media article or other public speaking activity in public media in which a research analyst makes a recommendation or offers an opinion, concerning securities or public offer:\\nProvided that it does not include a password protected webcast, conference call or such other events with the clients, if all of the event participants previously received the research report or other documentation that contains the required applicable disclosures and that the research analyst appearing at the event corrects and updates during the public appearance any disclosures in the research report that are inaccurate, misleading or no longer applicable;\\n(r)“public media” means any media source available to the general public and includes a radio, television, internet, web or print media;\\nPage 2 of 24\\n(s)\"public offer\" includes initial public offer, further public offer, offer for sale, disinvestment, takeover, buy-back or delisting of securities;\\n(t)\"relative\" means a person as defined in sub section (77) of section 2 of the Companies Act, 2013 and who is financially dependent on independent research analyst or individual research analyst employed by research entity;\\n(u)“research analyst” means a person who is primarily responsible for,-\\ni.preparation or publication of the content of the research report; or\\nii.providing research report; or\\niii.making \\'buy/sell/hold\\' recommendation; or\\niv.giving price target; or\\nv.offering an opinion concerning public offer,\\nwith respect to securities that are listed or to be listed in a stock exchange, whether or not any such person has the job title of \\'research analyst\\' and includes any other entities engaged in issuance of research report or research analysis.\\nExplanation.-The term also includes any associated person who reports directly or indirectly to such a research analyst in connection with activities provided above;\\n(v)\"research entity\" means an intermediary registered with Board who is also engaged in merchant banking or investment banking or brokerage services or underwriting services and issue research report or research analysis in its own name through the individuals employed by it as research analyst and includes any other intermediary engaged in issuance of research report or research analysis;\\n(w)“research report” means any written or electronic communication that includes research analysis or research recommendation or an opinion concerning securities or\\npublic offer, providing a basis for investment decision and does not include the following communications:-\\n(i)\\ncomments on general trends in the securities market;\\n(ii)\\ndiscussions on the broad-based indices;\\n(iii)commentaries on economic, political or market conditions;\\n(iv)periodic reports or other communications prepared for unit holders of mutual fund or alternative investment fund or clients of portfolio managers and investment advisers;\\n(v)internal communications that are not given to current or prospective clients;\\n(vi)communications that constitute offer documents or prospectus that are circulated as per regulations made by the Board;\\n(vii)statistical summaries of financial data of the companies;\\n(viii)technical analysis relating to the demand and supply in a sector or the index;\\n(ix)any other communication which the Board may specify from time to time;\\n(x)\"securities\" means securities as defined in clause (h) of section 2 of the Securities Contracts (Regulation) Act, 1956;\\n(y)\"significant news or event\" means any news or event which is expected to have a material impact on, or that reflects a material change to, the subject company\\'s\\nPage 3 of 24\\nearnings, operations or financial condition, other than unpublished price sensitive information, as specified in the internal policies and procedures of the research analyst or research entity;\\n(z)“subject company” means the company whose securities are the subject of a research\\nreport or a public appearance;\\n(za) \"stock exchange\" means a stock exchange recognised under section 4 of the Securities Contracts (Regulation) Act, 1956 (42 of 1956);\\n(zb) “third party research report” means a research report produced by a person or entity other than the research analyst or research entity.\\n']\n",
      "---------------------\n",
      "[4, '2.(1) In these regulations, unless the context otherwise requires, the terms defined herein shall bear the meanings assigned to them below, and their cognate expressions and variations shall be construed accordingly,—\\n(a)“Act” means the Securities and Exchange Board of India Act, 1992 (15 of 1992);\\n(b)“Alternative Investment Fund” means any fund established or incorporated in India in the form of a trust or a company or a limited liability partnership or a body corporate which,-\\n(i)is a privately pooled investment vehicle which collects funds from investors, whether Indian or foreign, for investing it in accordance with a defined investment policy for the benefit of its investors; and\\n(ii)is not covered under the Securities and Exchange Board of India (Mutual Funds) Regulations, 1996, Securities and Exchange Board of India (Collective Investment Schemes) Regulations, 1999 or any other regulations of the Board to regulate fund management activities:\\nProvided that the following shall not be considered as Alternative Investment Fund for the purpose of these regulations,-\\n(i)family trusts set up for the benefit of ‘relatives’ as defined under\\n1[Companies Act, 2013];\\n(ii)2[ESOP Trusts set up under the Securities and Exchange Board of India (Share Based Employee Benefits) Regulations, 2014 or as permitted under Companies Act, 2013;]\\n(iii)employee welfare trusts or gratuity trusts set up for the benefit of employees;\\n(iv)3[’holding companies’ as defined under sub-section 46 of section 2 of Companies Act, 2013;]\\n1Substituted by the SEBI (Alternative Investment Funds)(Amendment) Regulations, 2018, w.e.f. 01-06-2018. Prior to the substitution, it read as “Companies Act, 1956”.\\n2Substituted by the SEBI (Alternative Investment Funds)(Amendment) Regulations, 2018, w.e.f. 01-06-2018. Prior to the substitution, it read as “(ii) ESOP Trusts set up under the Securities and Exchange Board of India (Employee Stock Option Scheme and Employee Stock Purchase Scheme), Guidelines, 1999 or as permitted under Companies Act, 1956;”\\n3Substituted by the SEBI (Alternative Investment Funds)(Amendment) Regulations, 2018, w.e.f. 01-06-2018. Prior to the substitution, it read as “holding companies’ within the meaning of Section 4 of the Companies Act, 1956;”.\\n(v)other special purpose vehicles not established by fund managers, including securitization trusts, regulated under a specific regulatory framework;\\n(vi)funds managed by securitisation company or reconstruction company which is registered with the Reserve Bank of India under Section 3 of the Securitisation and Reconstruction of Financial Assets and Enforcement of Security Interest Act, 2002; and\\n(vii)any such pool of funds which is directly regulated by any other regulator in India;\\n(c)“associate” means a company or a limited liability partnership or a body corporate in which a director or trustee or partner or Sponsor or Manager of the Alternative Investment Fund or a director or partner of the Manager or Sponsor holds, either individually or collectively, more than fifteen percent of its paid-up equity share capital or partnership interest, as the case may be;\\n(d)“Board” means the Securities and Exchange Board of India established under\\nSection 3 of the Act;\\n(e)“certificate” means a certificate of registration granted by the Board under regulation 6;\\n(f)“change in control” in relation to a company or a body corporate, means:\\n(i)if its shares are listed on any recognized stock exchange, change in control within the meaning of clause (e) of sub-regulation (1) of regulation 2 of the Securities and Exchange Board of India (Substantial Acquisition of Shares and Takeovers) Regulations, 2011;\\n(ii)in any other case, change in the controlling interest or change in legal form;\\nExplanation.─ For the purpose of sub-clause (ii), the expression\\n“controlling interest” means an interest, whether direct or indirect, to the extent of more than fifty percent of voting rights or interest;\\n(g)“company” means a company incorporated under the 4[Companies Act, 2013];\\n(h)“corpus” means the total amount of funds committed by investors to the Alternative Investment Fund by way of a written contract or any such document as on a particular date;\\n5[(ha) “custodian” means a person who has been granted a certificate of registration to carry on the business of custodian under the Securities and Exchange Board of India (Custodian) Regulations, 1996;]\\n(i)“debt fund” means an Alternative Investment Fund which invests primarily in debt or debt securities of listed or unlisted investee companies according to the stated objectives of the Fund;\\n(j)“equity linked instruments” includes instruments convertible into equity shares or share warrants, preference shares, debentures compulsorily or optionally convertible into equity;\\n(k)“form” means any of the forms set out in the First Schedule;\\n6[(ka) “goods” means the goods notified by the Central Government under clause (bc) of section 2 of the Securities Contracts (Regulation) Act, 1956 and forming the underlying of any commodity derivative;]\\n(l)“hedge fund” means an Alternative Investment Fund which employs diverse or complex trading strategies and invests and trades in securities having diverse risks or complex products including listed and unlisted derivatives;\\n(m)“infrastructure fund” means an Alternative Investment Fund which invests primarily in unlisted securities or partnership interest or listed debt or securitized\\n4Substituted by the SEBI (Alternative Investment Funds)(Amendment) Regulations, 2018, w.e.f. 01-06-2018. Prior to the substitution, it read as “Companies Act, 1956”.\\n5Inserted by the SEBI (Alternative Investment Funds)(Amendment) Regulations, 2019, w.e.f. 10-05-2019.\\n6Inserted by the SEBI (Alternative Investment Funds)(Amendment) Regulations, 2019, w.e.f. 10-05-2019.\\ndebt instruments of investee companies or special purpose vehicles engaged in or formed for the purpose of operating, developing or holding infrastructure projects;\\nExplanation.─ ‘Infrastructure’ shall be as defined by the government of India from time to time.\\n(n)“inspecting authority” means any one or more person appointed by the Board to\\nexercise powers conferred under regulation 30;\\n(o)“investee company” means any company, special purpose vehicle or limited liability partnership or body corporate 7[or real estate investment trust or infrastructure investment trust] in which an Alternative Investment Fund makes an investment;\\n(p)“investible funds” means corpus of the Alternative Investment Fund net of\\nestimated expenditure for administration and management of the fund;\\n(q)“manager” means any person or entity who is appointed by the Alternative\\nInvestment Fund to manage its investments by whatever name called and may also be same as the sponsor of the Fund;\\n(r)“private equity fund” means an Alternative Investment Fund which invests primarily in equity or equity linked instruments or partnership interests of investee companies according to the stated objective of the fund;\\n(s)“SME” means Small and Medium Enterprise and shall have the same meaning as assigned to it under the Micro, Small and Medium Enterprises Development Act 2006 as amended from time to time;\\n(t)“SME fund” means an Alternative Investment Fund which invests primarily in\\nunlisted securities of investee companies which are SMEs or securities of those SMEs which are listed or proposed to be listed on a SME exchange or SME segment of an exchange;\\n7Inserted by the SEBI (Real Estate Investment Trusts) Regulations, 2014, w.e.f. 26-09-2014.\\n(u)“social venture” means a trust, society or company or venture capital undertaking or limited liability partnership formed with the purpose of promoting social welfare or solving social problems or providing social benefits and includes,-\\n(i)public charitable trusts registered with Charity Commissioner;\\n(ii)societies registered for charitable purposes or for promotion of science, literature, or fine arts;\\n(iii)8[company registered under section 8 of the Companies Act, 2013;]\\n(iv)micro finance institutions;\\n(v)“social venture fund” means an Alternative Investment Fund which invests primarily in securities or units of social ventures and which satisfies social performance norms laid down by the fund and whose investors may agree to receive restricted or muted returns;\\n(w)“sponsor” means any person or persons who set up the Alternative Investment Fund and includes promoter in case of a company and designated partner in case of a limited liability partnership;\\n(x)“trust” means a trust established under the Indian Trusts Act, 1882 or under an Act of Parliament or State Legislation;\\n(y)“unit” means beneficial interest of the investors in the Alternative Investment Fund or a scheme of the Alternative Investment Fund and shall include shares or partnership interests;\\n(z)“venture capital fund” means an Alternative Investment Fund which invests primarily in unlisted securities of start-ups, emerging or early-stage venture capital undertakings mainly involved in new products, new services, technology or intellectual property right based activities or a new business model 9[and shall include an angel fund as defined under Chapter III-A];\\n8Substituted by the SEBI (Alternative Investment Funds)(Amendment) Regulations, 2018, w.e.f. 01-06-2018. Prior to the substitution, it read as “company registered under Section 25 of the Companies Act, 1956”.\\n9Inserted by the SEBI (Alternative Investment Funds) (Amendment) Regulations, 2013, w.e.f. 16-09-2013\\n(aa)“venture capital undertaking” means a domestic company:\\n(i)which is not listed on a recognised stock exchange in India at the time of making investment; and\\n(ii)which is engaged in the business for providing services, production or manufacture of article or things and does not include following activities or sectors:\\n(1)non-banking financial companies;\\n(2)gold financing;\\n(3)activities not permitted under industrial policy of Government of India;\\n(4)any other activity which may be specified by the Board in consultation with Government of India from time to time;\\n']\n",
      "---------------------\n",
      "[4, '(5)In case of InvITs as specified under sub-regulation (4) of regulation 14,–\\n(a)not less than eighty per cent. of the value of 206[InvIT] the assets shall be invested, proportionate to the holding of the InvITs, in completed and revenue generating infrastructure projects subject to the following;\\n204Inserted by the Securities and Exchange Board of India (Infrastructure Investment Trusts) (Amendment) Regulations, 2018, w.e.f. 10.04.2018.\\n205Substituted for “In case of InvIT as specified under sub-regulation (2) of regulation 14, the InvIT shall invest only in eligible infrastructure projects or securities of companies or partnership interests of LLPs in infrastructure sector:\\nProvided that un-invested funds may be invested in liquid funds or government securities or money market instruments or cash equivalents.\\nExplanation.- Companies or LLPs in infrastructure sector shall mean those companies or LLPs which derive not less than eighty per cent. of their operating income from infrastructure sector as per the audited accounts of the previous financial year.” by Securities and Exchange Board of India (Infrastructure Investment Trusts) (Amendment) Regulations, 2016, w.e.f 30.11.2016\\n206Inserted by Securities and Exchange Board of India (Infrastructure Investment Trusts) (Amendment) Regulations, 2016, w.e.f 30.11.2016\\n48\\n(i)if the investment has been made through a 207[holdco and/ or] SPV208[(s)], whether by way of equity or debt or equity linked instruments or partnership interest, only the portion of direct investments in 209[completed and revenue generating] projects by such 210[holdco and/ or SPV(s)] shall be considered under this sub-regulation and the remaining portion shall be included under clause (b);\\n(ii)if any project is implemented in stages, the part of the project which can be categorised as completed and revenue generating project shall be considered under this sub-regulation and the remaining portion shall be included under clause (b);\\n(b)not more than twenty per cent. of value of the 211[InvIT] assets, 212[***] shall be invested in,–\\n(i)under-construction infrastructure projects, whether directly or through 213[holdco and/ or] SPVs:\\nProvided that investment in such assets shall not exceed ten per cent. of the value of the 214[InvIT assets];\\n(ii)listed or unlisted debt of companies or body corporate in infrastructure sector:\\nProvided that this shall not include any investment made in debt of the 215[holdco and/ or SPV(s)];\\n(iii)equity shares of companies listed on a recognized stock exchange in India which derive not less than eighty per cent. of their operating income from infrastructure sector\\n207Inserted by Securities and Exchange Board of India (Infrastructure Investment Trusts) (Amendment) Regulations, 2016, w.e.f 30.11.2016\\n208Inserted by Securities and Exchange Board of India (Infrastructure Investment Trusts) (Amendment) Regulations, 2016, w.e.f 30.11.2016\\n209Substituted for “eligible infrastructure” by Securities and Exchange Board of India (Infrastructure Investment Trusts) (Amendment) Regulations, 2016, w.e.f 30.11.2016\\n210Substituted for “SPVs” by Securities and Exchange Board of India (Infrastructure Investment Trusts) (Amendment) Regulations, 2016, w.e.f 30.11.2016\\n211Inserted by Securities and Exchange Board of India (Infrastructure Investment Trusts) (Amendment) Regulations, 2016, w.e.f 30.11.2016\\n212Omitted “proportionate to the holding of the InvITs,” by Securities and Exchange Board of India (Infrastructure Investment Trusts) (Amendment) Regulations, 2016, w.e.f 30.11.2016\\n213Inserted by Securities and Exchange Board of India (Infrastructure Investment Trusts) (Amendment) Regulations, 2016, w.e.f 30.11.2016\\n214Substituted for “assets of the InvIT” by Securities and Exchange Board of India (Infrastructure Investment Trusts) (Amendment) Regulations, 2016, w.e.f 30.11.2016\\n215Substituted for “SPV” by Securities and Exchange Board of India (Infrastructure Investment Trusts) (Amendment) Regulations, 2016, w.e.f 30.11.2016\\n49\\nas per the audited accounts of the previous financial year;\\n(iv)government securities;\\n(v)money market instruments, liquid mutual funds or cash equivalents;\\n(c)if the conditions specified in clauses (a) and (b) are breached on account of market movements of the price of the underlying assets or securities, the investment manager shall inform the same to the trustee and ensure that the conditions as specified in this regulation are satisfied within six months of such breach:\\nProvided that the period may be extended to one year subject to approval from investors in accordance with regulation 22.\\n216[(5A) The investment conditions as specified at sub-regulation (4) and (5) of regulation 18 and sub -regulation shall be complied at the time of Offer document/placement memorandum and therafter.]\\n']\n",
      "---------------------\n",
      "[3, 'Provided further that in respect of acquisition by way of purchase of shares from the lenders, the acquisition shall be exempted subject to the compliance with the following conditions:\\n(a)the guidelines for determining the purchase price have been specified by the Reserve Bank of India and that the purchase price has been determined in accordance with such guidelines;\\n(b)the purchase price shall be certified by two independent qualified valuers, and for this purpose ‘valuer’ shall be a person who is registered under section 247 of the Companies Act, 2013 and the relevant Rules framed thereunder:\\nProvided that till such date on which section 247 of the Companies Act, 2013 and the relevant Rules come into force, valuer shall mean an independent merchant banker registered with the Board or an independent chartered accountant in practice having a minimum experience of ten years;\\n(c)the specified securities so purchased shall be locked-in for a period of at least three years from the date of purchase;\\n(d)the lock-in of equity shares acquired pursuant to conversion of convertible securities purchased from the lenders shall be reduced to the extent the convertible securities have already been locked-in;\\n(e)a special resolution has been passed by shareholders of the issuer before the purchase;\\n(f)the issuer shall, in addition to the disclosures required under the Companies Act, 2013 or any other applicable law, disclose the following information pertaining to the proposed acquirer(s) in the explanatory statement to the notice for the general meeting proposed for passing special resolution as stipulated at clause (e) of this sub-regulation:\\na.the identity including of the natural persons who are the ultimate beneficial owners of the shares proposed to be purchased and/ or who ultimately control the proposed acquirer(s);\\nb.the business model;\\nc.a statement on growth of business over the period of time;\\nd.summary of audited financials of previous three financial years;\\ne.track record in turning around companies, if any;\\nf.the proposed roadmap for effecting turnaround of the issuer;\\ng.applicable provisions of the Companies Act, 2013 are complied with.”\\n39Inserted by the SEBI(Substantial Acquisition of Shares and Takeovers) (Fourth Amendment) Regulations, 2015, w.e.f. 22-12-2015.\\n40Omitted by the SEBI (Substantial Acquisition of Shares and Takeovers) (Amendment) Regulations, 2019, w.e.f 29.03.2019. Prior to its omission, sub-regulation (2) read as follows,-\\n“The acquisition of shares of a target company, not involving a change of control over such target company, pursuant to a scheme of corporate debt restructuring in terms of the Corporate Debt Restructuring Scheme notified by the Reserve Bank of India vide circular no. B.P.BC 15/21.04,\\n114/2001 dated August 23, 2001, or any modification or re-notification thereto provided such Page 30 of 69\\n41[(2A) An increase in the voting rights of any shareholder beyond the threshold limits stipulated in sub-regulations (1) and (2) of regulation 3, without the acquisition of control, pursuant to the conversion of equity shares with superior voting rights into ordinary equity shares, shall be exempted from the obligation to make an open offer under regulation 3.]\\n']\n",
      "---------------------\n",
      "[3, \"56.(1) The listed entity shall forward the following to the debenture trustee promptly:\\n(a)a copy of the annual report at the same time as it is issued along with a copy of certificate from the listed entity's auditors in respect of utilisation of funds during the implementation period of the project for which the funds have been raised:\\nProvided that in the case of debentures or preference shares issued for financing working capital or general corporate purposes or for capital raising purposes the copy of the auditor's certificate may be submitted at the end of each financial year till the funds have been fully utilised or the purpose for which these funds were intended has been achieved.\\n(b)a copy of all notices, resolutions and circulars relating to-\\n(i)new issue of non convertible debt securities at the same time as they are sent to shareholders/ holders of non convertible debt securities;\\n(ii)the meetings of holders of non-convertible debt securities at the same time as they are sent to the holders of non convertible debt securities or advertised in the media including those relating to proceedings of the meetings;\\n(c)intimations regarding :\\n(i)any revision in the rating;\\n(ii)any default in timely payment of interest or redemption or both in respect of the non convertible debt securities;\\n(iii)failure to create charge on the assets;\\n(d)a half-yearly certificate regarding maintenance of hundred percent. asset cover in respect of listed non convertible debt securities, by either a practicing company secretary or a practicing chartered accountant, along with the half yearly financial results:\\nProvided that submission of such half yearly certificates is not applicable in cases where a listed entity is a bank or non banking financial companies registered with Reserve Bank of India or where bonds are secured by a Government guarantee.\\n\"]\n",
      "---------------------\n",
      "[3, '34. 83[(1) The listed entity shall submit to the stock exchange and publish on its website-\\n(a)a copy of the annual report sent to the shareholders along with the notice of the annual general meeting not later than the day of commencement of dispatch to its shareholders;\\n77Substituted for ‘Form A (for audit report with unmodified opinion) & Form B (for audit report with modified opinion)’ by SEBI (Listing Obligations and Disclosure Requirements) (Amendment) Regulations, 2016, w.e.f. 01.04.2016\\n78The words ‘from time to time’ omitted by SEBI (Listing Obligations and Disclosure Requirements)\\n(Amendment) Regulations, 2016, w.e.f. 01.04.2016.\\n79Substituted for ‘Form B’ by SEBI (Listing Obligations and Disclosure Requirements) (Amendment) Regulations, 2016, w.e.f. 01.04.2016\\n80The words ‘and Qualified Audit Report Review Committee in manner as specified in Schedule VIII’ omitted by SEBI (Listing Obligations and Disclosure Requirements) (Amendment) Regulations, 2016, w.e.f. 01.04.2016.\\n81Omitted by SEBI (Listing Obligations and Disclosure Requirements) (Amendment) Regulations, 2016, w.e.f. 01.04.2016. Prior to omission, sub regulation (7) read as follows:\\n‘(7) The listed entity shall on the direction issued by the Board, carry out the necessary steps, for rectification of modified opinion and/or submission of revised pro-forma financial results, in the manner specified in Schedule\\nVIII.’\\n82Inserted by the SEBI (Listing Obligations and Disclosure Requirements) (Amendment) Regulations, 2018, w.e.f. 1.4.2019.\\n83Substituted ibid, and applicable for Annual report filed for the year ended March 31, 2019 and thereafter. Prior to the substitution, sub-regulation (1) read as follows:\\n“(1) The listed entity shall submit the annual report to the stock exchange within twenty one working days of it being approved and adopted in the annual general meeting as per the provisions of the Companies Act, 2013.”\\n40\\n(b)in the event of any changes to the annual report, the revised copy along with the details of and explanation for the changes shall be sent not later than 48 hours after the annual general meeting.]\\n(2)The annual report shall contain the following:\\n(a)audited financial statements i.e. balance sheets, profit and loss accounts etc [,and\\nStatement on Impact of Audit Qualifications as stipulated in regulation 33(3)(d), if applicable;]84\\n(b)consolidated financial statements audited by its statutory auditors;\\n(c)cash flow statement presented only under the indirect method as prescribed in Accounting Standard-3 or Indian Accounting Standard 7, as applicable, specified in Section 133 of the Companies Act, 2013 read with relevant rules framed thereunder or as specified by the Institute of Chartered Accountants of India, whichever is applicable;\\n(d)directors report;\\n(e)management discussion and analysis report - either as a part of directors report or addition thereto;\\n(f)for the top 85 [one thousand] listed entities based on market capitalization (calculated as on March 31 of every financial year), business responsibility report describing the initiatives taken by them from an environmental, social and governance perspective, in the format as specified by the Board from time to time:\\nProvided that listed entities other than top 86 [one thousand] listed companies based on market capitalization and listed entities which have listed their specified securities on SME Exchange, may include these business responsibility reports on a voluntary basis in the format as specified.\\n(3)The annual report shall contain any other disclosures specified in Companies Act, 2013 along with other requirements as specified in Schedule V of these regulations.\\n']\n",
      "---------------------\n",
      "[3, '33.(1) The disclosure requirements and corporate governance norms as specified for listed companies shall mutatis mutandis apply to a recognised stock exchange and a recognised clearing corporation.\\n']\n",
      "---------------------\n",
      "[3, '31.(1) The disclosure requirements and corporate governance norms as specified for listed companies shall mutatis mutandis apply to a depository.\\n']\n",
      "---------------------\n",
      "[3, '27Substituted by the SEBI (Alternative Investment Fund) (Amendment) Regulations, 2013, w.e..f 16-09-2013 for the word “corpus”\\n(a)Category II Alternative Investment Funds shall invest primarily in unlisted investee companies or in units of other Alternative Investment Funds as may be specified in the placement memorandum;\\n(b)Fund of Category II Alternative Investment Funds may invest in units of Category I or Category II Alternative Investment Funds:\\nProvided that they shall only invest in such units and shall not invest in units of other Fund of Funds.\\n(c)Category II Alternative Investment Funds may not borrow funds directly or indirectly and shall not engage in leverage except for meeting temporary funding requirements for not more than thirty days, not more than four occasions in a year and not more than ten percent of the 28[investable funds];\\n(d)Notwithstanding clause (c), Category II Alternative Investment Funds may engage in hedging, subject to guidelines as specified by the Board from time to time;\\n(e)Category II Alternative Investment Funds may enter into an agreement with merchant banker to subscribe to the unsubscribed portion of the issue or to receive or deliver securities in the process of market making under Chapter XB of the Securities and Exchange Board of India (Issue of Capital and Disclosure Requirements) Regulations, 2009.\\n(f)Category II Alternative Investment Funds shall be exempt from regulation 3 and 3A of Securities and Exchange Board of India (Prohibition of Insider Trading) Regulations, 1992 in respect of investment in companies listed on SME Exchange or SME segment of an exchange pursuant to due diligence of such companies subject to the following conditions:\\n(i)the fund shall disclose any acquisition or dealing in securities pursuant to such due- diligence, within two working days of such acquisition or dealing, to the stock exchanges where the investee company is listed;\\n(ii)such investment shall be locked in for a period of one year from the date of investment.\\n28Substituted by the SEBI (Alternative Investment Fund) (Amendment) Regulations, 2013, w.e..f 16-09-2013 for the word “corpus”\\n']\n",
      "---------------------\n",
      "[3, '2.(1) In these regulations, unless the context otherwise requires, the terms defined herein shall bear the meanings assigned to them below, and their cognate expressions shall be construed accordingly,–\\n(a)“Act” means the Securities and Exchange Board of India Act, 1992 (15 of 1992);\\n1\\n(b)“associate” of any person 1[“means “associate company” as defined under the Companies Act, 2013 or under the applicable accounting standards and shall also include”,] –\\n(i)any person controlled, directly or indirectly, by the said person;\\n(ii)any person who controls, directly or indirectly, the said person;\\n(iii)where the said person is a company or a body corporate, any person(s) who is designated as promoter(s) of the company or body corporate and any other company or body corporate with the same promoter(s);\\n(iv)where the said person is an individual, any relative of the individual;\\n(v)2[***]\\n(vi)3[***]\\n(vii)4[***]\\n(viii)5[***]\\n(c)\"Board\" means the Securities and Exchange Board of India established under section 3 of the Act;\\n(d)“body corporate” shall have the meaning assigned to it in or under sub- section (11) of section 2 of the Companies Act, 2013;\\n(e)“bonus issue” means additional units allotted to the unit holders, as on the record date fixed for the said purpose, without any cost to the unit holder;\\n(f)“certificate” means a certificate of registration granted under these regulations;\\n(g)\"change in control\", means,–\\n1Substituted by Securities and Exchange Board of India (Infrastructure Investment Trusts) (Amendment)\\nRegulations, 2016, w.e.f 30.11.2016. Prior to which it read as ‘“associate” of any person includes’.\\n2Sub clause (v) omitted by Securities and Exchange Board of India (Infrastructure Investment Trusts) (Amendment)\\nRegulations, 2016, w.e.f 30.11.2016. Prior to which it read as ‘where the said person is a company or a body corporate or an LLP, its group companies;’\\n3Sub clause (vi) omitted by Securities and Exchange Board of India (Infrastructure Investment Trusts)\\n(Amendment) Regulations, 2016, w.e.f 30.11.2016. Prior to which it read as ‘companies or LLPs under the same management;’\\n4Sub clause (vii) omitted by Securities and Exchange Board of India (Infrastructure Investment Trusts) (Amendment) Regulations, 2016, w.e.f 30.11.2016. Prior to which it read as ‘where the said person is an InvIT, related parties to the InvIT;’\\n5Sub clause (viii) omitted by Securities and Exchange Board of India (Infrastructure Investment Trusts) (Amendment) Regulations, 2016, w.e.f 30.11.2016. Prior to which it read as ‘any company or LLP or body corporate in which the person or its director(s) or partner(s) holds, either individually or collectively, more than fifteen percent of its paid-up equity share capital or partnership interest, as the case may be;’\\n2\\n(i)In case of a company or body corporate, change in control where \\'control\\' shall have the meaning as provided in sub-section (27) of Section 2 of the Companies Act, 2013;\\n(ii)in any other case, change in the controlling interest.\\nExplanation.─ For the purpose of sub-clause (ii), the expression “controlling interest” means an interest, whether direct or indirect, to the extent of more than fifty percent of voting rights or interest;\\n(h)“company” means a company as defined under sub-section (20) of section 2 of the Companies Act, 2013;\\n(i)\"completed and revenue generating project\" means an infrastructure project, which prior to the date of its acquisition by, or transfer to, the InvIT, satisfies the following conditions,–\\n(i)the infrastructure project has achieved the commercial operations date as defined under the relevant project agreement including concession agreement, power purchase agreement or any other agreement of a similar nature entered into in relation to the operation of the project or in any agreement entered into with the lenders;\\n(ii)the infrastructure project has received all the requisite approvals and certifications for commencing operations; and\\n(iii)the infrastructure project has been generating revenue from operations for a period of not less than one year;\\n(j)“concession agreement” means an agreement entered into by a person with a concessioning authority for the purpose of implementation of the project as provided in the agreement;\\n(k)“concessioning authority” means the public sector concessioning authority in PPP projects;\\n(l)“credit rating agency” means a credit rating agency registered with the Board under the Securities and Exchange Board of India (Credit Rating Agencies) Regulations, 1999;\\n(m)“custodian” means a person registered with the Board under the Securities and Exchange Board of India (Custodian of Securities) Regulations, 1996;\\n3\\n6 [“(ma) “debt securities” shall be defined under Regulation 2(1)(e) of the Securities and Exchange Board of India (Issue and Listing of Debt Securities) Regulations, 2008;”]\\n(n)“designated stock exchange” means a recognised stock exchange in which units of an InvIT are listed or proposed to be listed and which is chosen by the InvIT as a designated stock exchange for the purpose of a particular issue of the units of the InvIT under these regulations:\\nProvided that where one or more of such stock exchanges have nationwide trading terminals, the InvIT shall choose one of them as the designated stock exchange:\\nProvided further that the InvIT may choose a different recognised stock exchange as a designated stock exchange for any subsequent issue of units of the InvIT under these regulations;\\n(o)\"eligible infrastructure project\" means an infrastructure project which, prior to the date of its acquisition by, or transfer to, the InvIT, satisfies the following conditions,–\\n(i)For PPP projects,–\\n(1)the Infrastructure Project is 7[a] completed and revenue generating [project]8, or\\n9[“(1a) the Infrastructure Project, which has achieved commercial operations date and does not have the track record of revenue from operations for a period of not less than one year, or”]\\n(2)the Infrastructure Project is a pre-COD project;\\n(ii)In non-PPP projects, the infrastructure project has received all the requisite approvals and certifications for commencing construction of the project;\\n6Inserted by the Securities and Exchange Board of India (Infrastructure Investment Trusts) (Amendment) Regulations, 2016, w.e.f 30.11.2016.\\n7Inserted by the Securities and Exchange Board of India (Infrastructure Investment Trusts) (Amendment) Regulations, 2016, w.e.f 30.11.2016.\\n8Inserted by the Securities and Exchange Board of India (Infrastructure Investment Trusts) (Amendment) Regulations, 2016, w.e.f 30.11.2016.\\n9Inserted by the Securities and Exchange Board of India (Infrastructure Investment Trusts) (Amendment) Regulations, 2016, w.e.f 30.11.2016.\\n4\\n(p)\"follow–on offer” means offer of units of an InvIT to the public for subscription and includes an offer for sale of InvIT units by an existing unit holder to the public;\\n(q)10[***]\\n(r)“form” means any of the forms set out in the Schedule I;\\n11[(ra) general purposes\" include such identified purposes for which no specific amount is allocated or any amount so specified towards general purpose or any such purpose by whatever name called, in the draft offer document filed with the Board:\\nProvided that any issue related expenses shall not be considered as a part of general purpose merely because no specific amount has been allocated for such expenses in the draft offer document filed with the Board;”]\\n(s)“governing board” in case of an LLP shall mean a group of members assigned by the LLP to act in a manner similar to the board of directors in case of a company;\\n12 [(sa) “holdco” or “holding company” means a company or LLP,-\\n(i)in which InvIT holds or proposes to hold controlling interest and not less than fifty one per cent of the equity share capital or interest and which in turn has made investments in other SPV(s), which ultimately hold the infrastructure assets;\\n(ii)which is not engaged in any other activity other than holding of the underlying SPV(s), holding of infrastructure projects and any other activities pertaining to and incidental to such holdings;”]\\n10Sub clause (q) omitted by the Securities and Exchange Board of India (Infrastructure Investment Trusts) (Amendment) Regulations, 2016, w.e.f 30.11.2016. Prior to omission it read as ‘“follow-on offer document” means any document by which follow-on offer is made to the public by an InvIT;’\\n11Inserted by the Securities and Exchange Board of India (Infrastructure Investment Trusts) (Amendment) Regulations, 2016, w.e.f 30.11.2016.\\n12Inserted by the Securities and Exchange Board of India (Infrastructure Investment Trusts) (Amendment) Regulations, 2016, w.e.f 30.11.2016.\\n5\\n(t)“infrastructure” includes all infrastructure sub-sectors as defined vide notification of the Ministry of Finance dated October 07, 2013 and shall include any amendments or additions made thereof;\\n(u)\"infrastructure project\" means any project in infrastructure sector;\\n13 [(ua) “initial offer” means the first offer of units of an InvIT including an offer for\\nsale of the InvIT units by an existing unit holder whether through public issue or private placement;”]\\n(v)“initial 14 [public] offer” means the first offer of units of an InvIT to the public for subscription and includes an offer for sale of the InvIT units by an existing unit holder to the public;\\n(w)15[***]\\n(x)“infrastructure developer” in case of PPP projects shall mean the lead member of the concessionaire SPV;\\n(y)“inspecting officer” means any one or more person appointed by the Board to exercise powers conferred under Chapter V;\\n16[(ya) “institutional investor” means -\\n(i)a qualified institutional buyer; or\\n(ii)family trust or systematically important NBFCs registered with Reserve Bank of India or intermediaries registered with the Board, all with net-worth of more than five hundred crore rupees, as per the last audited financial statements;]\\n(z)“investment management agreement” means an agreement between the trustee and the investment manager which lays down the roles and responsibilities of the investment manager towards the InvIT;\\n(za) “InvIT” or \\'Infrastructure Investment Trust\\' shall mean the trust registered as such under these regulations;\\n13Inserted by the Securities and Exchange Board of India (Infrastructure Investment Trusts) (Amendment) Regulations, 2016, w.e.f 30.11.2016.\\n14Inserted by the Securities and Exchange Board of India (Infrastructure Investment Trusts) (Amendment) Regulations, 2016 w.e.f 30.11.2016, w.e.f 30.11.2016.\\n15Sub clause (w) omitted by Securities and Exchange Board of India (Infrastructure Investment Trusts) (Amendment) Regulations, 2016, w.e.f 30.11.2016. Prior to which it read as “initial offer document” means any document by which initial offer is made to the public by an InvIT;\\n16Inserted by the Securities and Exchange Board of India (Infrastructure Investment Trusts) (Amendment) Regulations, 2018, w.e.f. 10.04.2018.\\n6\\n(zb)\\n\"InvIT assets” means assets owned by the InvIT, whether directly or through\\n\\xa0\\na 17 [holdco and/ or] SPV, and includes all rights, interests and benefits\\n\\xa0\\narising from and incidental to ownership of such assets;\\n(zc)\\n“Lead member” means the lead member of the Concessionaire SPV for\\n\\xa0\\nPPP projects as defined in the project documents;\\n(zd)\\n“listed InvIT” means an InvIT whose units are listed on a recognized stock\\n\\xa0\\nexchange;\\n(ze)\\n\"LLP\" means a limited liability partnership as defined under the Limited\\n\\xa0\\nLiability Partnership Act, 2008;\\n(zf)\\n“investment manager” means a company or LLP or body corporate which\\n\\xa0\\nmanages assets and investments of the InvIT and undertakes activities of\\n\\xa0\\nthe InvIT as specified under regulation 10;\\n(zg)\\n\"NAV\" or \"net asset value” means the value of the InvIT 18[“ assets reduced\\n\\xa0\\nby the external debt”] divided by the number of outstanding units as on a\\n\\xa0\\nparticular date;\\n(zh)\\n“net worth” in relation to a company or a body corporate shall have the\\n\\xa0\\nmeaning assigned to it under sub-section (57) of section 2 of the Companies\\n\\xa0\\nAct, 2013;.\\n(zi)\\n“non-PPP project” means an infrastructure project that is not a PPP project;\\n(zj)\\n\"offer document\" means any document described or issued as an offer\\n\\xa0\\ndocument including any notice, circular, advertisement or other document\\n\\xa0\\ninviting offers 19[through a public issue ]for the subscription or purchase of\\n\\xa0\\nunits of the 20[***]InvIT and includes initial 21[public]offer document, follow-\\n\\xa0\\non offer document 22[“, letter of offer in case of rights issue] and any other\\n\\xa0\\noffer document as may be specified by the Board;\\n17Inserted by Securities and Exchange Board of India (Infrastructure Investment Trusts) (Amendment) Regulations, 2016, w.e.f 30.11.2016.\\n18Inserted by Securities and Exchange Board of India (Infrastructure Investment Trusts) (Amendment) Regulations, 2016, w.e.f 30.11.2016.\\n19Substituted by Securities and Exchange Board of India (Infrastructure Investment Trusts) (Amendment) Regulations, 2016, w.e.f 30.11.2016. Prior to its substitution it was read as ‘from the public’.\\n20Omitted by Securities and Exchange Board of India (Infrastructure Investment Trusts) (Amendment) Regulations, 2016, w.e.f 30.11.2016. Prior to its omission it read as ‘publically offered’.\\n21Inserted by Securities and Exchange Board of India (Infrastructure Investment Trusts) (Amendment) Regulations, 2016, w.e.f 30.11.2016.\\n22Inserted by Securities and Exchange Board of India (Infrastructure Investment Trusts) (Amendment) Regulations, 2016, w.e.f 30.11.2016.\\n7\\n(zk) “parties to the InvIT” shall include the sponsor(s), investment manager, project manager 23[(s)] and the trustee;\\n(zl) “placement memorandum” means any document through which private placement of units of the InvIT is made;\\n(zm) “PPP project” means an infrastructure project undertaken on a Public- Private Partnership basis between a public concessioning authority and a private SPV concessionaire selected on the basis of open competitive bidding or on the basis of an MoU with the relevant authorities;\\n(zn) “pre-COD project” means an infrastructure project which,–\\n(i)has not achieved commercial operation date as defined under the relevant project agreements including the concession agreement, power purchase agreement or any other agreement of a similar nature entered into in relation to the operation of a project or any agreement entered into with the lenders; and\\n(ii)has,–\\n(1)achieved completion of at least fifty per cent. of the construction of the infrastructure project as certified by an independent engineer of such project; or\\n(2)expended not less than fifty per cent. of the total capital cost set forth in the financial package of the relevant project agreement;\\n(zo) “preferential issue” means an issue of units by a listed InvIT to any select person or group of persons on a private placement basis and does not include an offer of units made through a public issue, rights issue, bonus issue, qualified institutions placement or any other issue as may be specified by the Board;\\n24[(zoa) “private placement” means an issue of units by an InvIT to any select person or group of persons and does not include an offer of units made through a public issue;\\n(zob)\\n“project implementation agreement\" or \"project management agreement”\\n\\xa0\\nmeans an agreement between the project manager, the concessionaire\\n23Inserted by Securities and Exchange Board of India (Infrastructure Investment Trusts) (Amendment) Regulations, 2016, w.e.f 30.11.2016.\\n24Inserted by Securities and Exchange Board of India (Infrastructure Investment Trusts) (Amendment) Regulations, 2016, w.e.f 30.11.2016.\\n8\\nSPV and the trustee which sets out obligations of the project manager with respect to execution of the project 25[and/or management]:\\nProvided that in case of PPP projects, such obligations shall be in addition to the responsibilities as under the concession agreement or any such\\nagreement entered into with the concessioning authority;”]\\n(zp) “project manager” means 26[a company or LLP or a body corporate] designated as the project manager by the InvIT, responsible for achieving execution 27[/management] of the project as specified under regulation 11 and in case of PPP projects, shall mean the entity responsible for such execution and achievement of project milestones in accordance with the concession agreement or any other relevant project document;\\n(zq) “public” for the purposes of offer and listing of units means any person other than related party of the InvIT or any other person as may be specified by the Board:\\nProvided that in case any related party to the InvIT is a qualified institutional buyer, such person shall be included under the term \\'public\\';\\n(zr) “public issue” means issue of units by a 28[***] InvIT to the public and includes initial 29[public] offer and follow-on offer or any other issue made to the public as may be specified by the Board;\\n(zs) “qualified Institutional buyer” shall have the meaning assigned to it under clause (zd) of sub-regulation (1) of regulation 2 of the Securities and Exchange Board of India (Issue Of Capital And Disclosure Requirements) Regulations, 2009;\\n(zt) “qualified Institutions placement” means allotment of units by a listed InvIT to qualified institutional buyers on private placement basis in terms of these regulations;\\n25Inserted by the Securities and Exchange Board of India (Infrastructure Investment Trusts) (Amendment) Regulations, 2018, w.e.f. 10.04.2018.\\n26Inserted ibid in place of the words “the person”.\\n27Inserted by Securities and Exchange Board of India (Infrastructure Investment Trusts) (Amendment) Regulations, 2016, w.e.f 30.11.2016.\\n28Omitted by Securities and Exchange Board of India (Infrastructure Investment Trusts) (Amendment) Regulations, 2016, w.e.f 30.11.2016. Prior to the omission the clause read as “public issue” means issue of units by a publically offered InvIT to the public and includes initial offer and follow-on offer or any other issue made to the public as may be specified by the Board;\\n29Inserted by Securities and Exchange Board of India (Infrastructure Investment Trusts) (Amendment) Regulations, 2016, w.e.f 30.11.2016.\\n9\\n(zu) “recognised stock exchange” means any stock exchange which is recognised under section 4 of the Securities Contracts (Regulation) Act, 1956 (42 of 1956);\\n(zv) 30[“related parties”] shall 31[be defined under the Companies Act, 2013 or under the applicable accounting standards and shall also] include,–\\n(i)parties to the InvIT;\\n(ii)32[***]\\n(iii)33[***]promoters, directors and partners of the persons mentioned in clause (i)34[***];\\n(zw) “rights issue” means an offer of units by a listed InvIT to the unit holders of the InvIT as on the record date fixed for the said purpose;\\n(zx) “right-of-first-refusal” or \"ROFR\" means the right given to the InvIT by a person to enter into a transaction with it before the person is entitled to enter that transaction with any other party;\\n(zy)\\n\"SPV\" or \"special purpose vehicle\" means any company or LLP,–\\n(i)in which 35[either] the InvIT 36[or the holdco] holds or proposes to hold controlling interest and not less than fifty [37one] per cent. of the equity share capital or interest:\\nProvided that in case of PPP projects where such acquiring or holding is disallowed by government or regulatory provisions under the concession agreement or such other agreement, this clause\\n30Substituted by Securities and Exchange Board of India (Infrastructure Investment Trusts) (Amendment) Regulations, 2016, w.e.f 30.11.2016.\\n31Inserted by Securities and Exchange Board of India (Infrastructure Investment Trusts) (Amendment) Regulations, 2016, w.e.f 30.11.2016.\\n32Omitted by Securities and Exchange Board of India (Infrastructure Investment Trusts) (Amendment) Regulations, 2016, w.e.f 30.11.2016. Prior to the omission the clause read as any unit holder holding, directly or indirectly, more than twenty per cent. of the units of the InvIT\\n33Omitted by Securities and Exchange Board of India (Infrastructure Investment Trusts) (Amendment) Regulations, 2016, w.e.f 30.11.2016. Prior to the omission the clause read as associates, promoters, directors and partners of the persons mentioned in clause (i) and (ii);\\n34Omitted by Securities and Exchange Board of India (Infrastructure Investment Trusts) (Amendment) Regulations, 2016, w.e.f 30.11.2016. Prior to the omission the clause read as associates, promoters, directors and partners of the persons mentioned in clause (i) and (ii);\\n35Inserted by Securities and Exchange Board of India (Infrastructure Investment Trusts) (Amendment) Regulations, 2016, w.e.f 30.11.2016.\\n36Inserted by Securities and Exchange Board of India (Infrastructure Investment Trusts) (Amendment) Regulations, 2016, w.e.f 30.11.2016.\\n37Inserted by Securities and Exchange Board of India (Infrastructure Investment Trusts) (Amendment) Regulations, 2016, w.e.f 30.11.2016.\\n10\\nshall not apply and shall be subject to provisions under proviso to sub-regulation (3) of regulation 12;\\n(ii)which holds not less than ninety per cent. of its assets directly in infrastructure projects and does not invest in other SPVs; and\\n(iii)which is not 38[***] engaged in any other activity other than activities pertaining to and incidental to the underlying infrastructure projects;\\n(zz)“sponsor” means any company or LLP or body corporate which sets up the\\nInvIT and is designated as such at the time of application made to the Board 39[***];\\n(zza)\\n‘strategic investor’ means,–\\n\\xa0\\na.\\nan infrastructure finance company registered with Reserve Bank of\\n\\xa0\\n\\xa0\\nIndia as a Non Banking Financial Company;\\n\\xa0\\nb.\\na Scheduled Commercial Bank;\\n\\xa0\\nc.\\n40[a multilateral and/or bilateral development financial institution];\\n\\xa0\\nd.\\na systemically important Non Banking Financial Companies\\n\\xa0\\n\\xa0\\nregistered with Reserve Bank of India;\\n\\xa0\\ne.\\na foreign portfolio investors,\\n\\xa0\\n41[who invest, either jointly or severally,] not less than five per cent. of the\\n\\xa0\\ntotal offer size of the InvIT or such amount as may be specified by the Board\\n\\xa0\\nfrom time to time 42[, subject to the compliance with the applicable\\n\\xa0\\nprovisions, if any, of the Foreign Exchange Management Act, 1999 and the\\n\\xa0\\nrules or regulations or guidelines made thereunder];\\n(zzb)\\n“trustee” means a person who holds the InvIT assets in trust for the benefit\\n\\xa0\\nof the unit holders, in accordance with these regulations;\\n(zzc)\\n\"under-construction project\" means an infrastructure project whether PPP\\n\\xa0\\nor non-PPP, which has 43[either] not achieved commercial operation date\\n38Omitted by Securities and Exchange Board of India (Infrastructure Investment Trusts) (Amendment) Regulations, 2016, w.e.f 30.11.2016. Prior to the omission it read as which is not be engaged in any other activity other than activities pertaining to and incidental to the underlying infrastructure projects;\\n39Words “and in case of PPP projects, shall mean the infrastructure developer or a special purpose vehicle holding concession agreement”, omitted by the Securities and Exchange Board of India (Infrastructure Investment Trusts) (Amendment) Regulations, 2018, w.e.f. 10.04.2018.\\n40Substituted ibid for the words “an international multilateral financial institution”.\\n41Substituted for the words “who together invest” by the Securities and Exchange Board of India (Infrastructure Investment Trusts) (Amendment) Regulations, 2017, w.e.f. 15.12.2017.\\n42Inserted ibid.\\n43Inserted by Securities and Exchange Board of India (Infrastructure Investment Trusts) (Amendment) Regulations, 2016, w.e.f 30.11.2016.\\n11\\n\\xa0\\nas defined under the relevant project agreements including the concession\\n\\xa0\\nagreement, power purchase agreement or any other agreement of a similar\\n\\xa0\\nnature entered into in relation to the operation of a project or in any\\n\\xa0\\nagreement entered into with the lenders 44[or has achieved commercial\\n\\xa0\\noperation date and does not have the track record of revenue from\\n\\xa0\\noperations for a period of not less than one year];\\n(zzd)\\n“unit” means beneficial interest of the InvIT;\\n(zze)\\n“unit holder” means any person who owns units of the InvIT;\\n(zzf)\\n45[“valuer” means any person who is a “registered valuer” under section 247\\n\\xa0\\nof the Companies Act, 2013 or as specified by the Board from time to time.]\\n44Inserted by Securities and Exchange Board of India (Infrastructure Investment Trusts) (Amendment) Regulations, 2016, w.e.f 30.11.2016.\\n45Substituted by the Securities and Exchange Board of India (Infrastructure Investment Trusts) (Amendment) Regulations, 2017, w.e.f. 15.12.2017. Prior to the substitution, the definition of the term “valuer” read as follows:\\n“valuer” means any person 45[(s)] who is a \"registered valuer\" under section 247 of the Companies Act, 2013 45[or as defined hereunder] and who has 45[/have] been appointed by the investment manager to undertake 45[both financial and technical] valuation of the InvIT assets:\\nProvided that:-\\n45[(a) a valuer in respect of financial valuation means,-\\n(i)a chartered accountant, company secretary or cost accountant who is in whole-time practice, or retired member of Indian Corporate Law Service or any person holding equivalent Indian or foreign qualification as the Ministry of Corporate Affairs may recognize by an order:\\nProvided that such foreign qualification is acquired by Indian citizen.\\n(ii)a Merchant Banker registered with the Securities and Exchange Board of India, and who has in his employment person(s) having qualifications prescribed under sub-sub- clause (i) above to carry out valuation by such qualified persons.\\n(b)a valuer in respect of technical asset valuation, means members of the following institutions for specific asset categories,-\\n(i)Institution of Valuers;\\n(ii)Institution of Surveyors (Valuation Branch);\\n(iii)Institution of Government Approved Valuers;\\n(iv)Practicing Valuers Association of India;\\n(v)Centre for Valuation Studies, Research and Training;\\n(vi)Royal Institution of Chartered Surveyors, UK;\\n(vii)American Society of Appraisers, United States;\\n(viii)Appraisal Institute, United States;\\n(ix)Institute of Engineers;\\n12\\n(zzg)\\n46[\"value of 47[the] InvIT assets\"] means 48[49[value of the assets of the\\n\\xa0\\nInvIT]] as assessed by the valuer based on value of the infrastructure and\\n\\xa0\\nother assets owned by the InvIT, whether directly or through 50[holdco\\n\\xa0\\nand/or] SPV 51[***]\\n']\n",
      "---------------------\n"
     ]
    }
   ],
   "source": [
    "for i in A:\n",
    "    print(i)\n",
    "    print('---------------------')"
   ]
  },
  {
   "cell_type": "code",
   "execution_count": 321,
   "metadata": {},
   "outputs": [
    {
     "name": "stdout",
     "output_type": "stream",
     "text": [
      "[3, '2.(1) In these regulations, unless the context otherwise requires, the terms defined herein shall bear the meanings assigned to them below, and their cognate expressions shall be construed accordingly,–\\n(a)“Act” means the Securities and Exchange Board of India Act, 1992 (15 of 1992);\\n1\\n(b)“associate” of any person 1[shall be as defined under the Companies Act, 2013 or under the applicable accounting standards and shall also include following],-\\n(i)any person controlled, directly or indirectly, by the said person;\\n(ii)any person who controls, directly or indirectly, the said person;\\n(iii)where the said person is a company or a body corporate, any person(s) who is designated as promoter(s) of the company or body corporate and any other company or body corporate with the same promoter(s);\\n(iv)where the said person is an individual, any relative of the individual;\\n(v)2[***]\\n(vi)3[***]\\n(vii)4[***]\\n(viii)5[***]\\n(c)\"Board\" means the Securities and Exchange Board of India established under section 3 of the Act;\\n(d)“body corporate” shall have the meaning assigned to it in or under sub-section (11) of section 2 of the Companies Act, 2013;\\n(e)“bonus issue” means additional units allotted to the unit holders as on the record date fixed for the said purpose, without any cost to the unit holder;\\n(f)“certificate” means a certificate of registration granted under these regulations;\\n(g)\"change in control\" means,-\\n1Substituted for \"includes\" by the SEBI (Real Estate Investment Trusts) (Amendment) Regulations, 2016, w.e.f. 30.11.2016\\n2Omitted, by the SEBI (Real Estate Investment Trusts) (Amendment) Regulations, 2016, w.e.f. 30.11.2016. Prior to its omission, sub-clause (v) read as under :\\n“where the said person is a company or a body corporate or an LLP, its group companies;”\\n3Omitted, by the SEBI (Real Estate Investment Trusts) (Amendment) Regulations, 2016, w.e.f. 30.11.2016. Prior to its omission, sub-clause (vi) read as under :\\n“companies or LLPs under the same management;”\\n4Omitted, by the SEBI (Real Estate Investment Trusts) (Amendment) Regulations, 2016, w.e.f. 30.11.2016. Prior to its omission, sub-clause (vii) read as under :\\n“where the said person is a REIT, related parties to the REIT;”\\n5Omitted, by the SEBI (Real Estate Investment Trusts) (Amendment) Regulations, 2016, w.e.f. 30.11.2016. Prior to its omission, sub-clause (viii) read as under :\\n“any company or LLP or body corporate in which the person or its director(s) or partner(s) hold(s), either individually or collectively, more than fifteen percent of its paid-up equity share capital or partnership interest, as the case may be;”\\n2\\n(i)in case of a company or body corporate, change in control where \\'control\\' shall have the meaning as provided in sub-section (27) of section 2 of the Companies Act, 2013;\\n(ii)in any other case, change in the controlling interest;\\nExplanation.─ For the purpose of sub-clause (ii), the expression “controlling interest” means an interest, whether direct or indirect, to the extent of 6[not less] than fifty percent of voting rights or interest;\\n(h)“company” means a company as defined under sub-section (20) of section 2 of the Companies Act, 2013;\\n(i)“completed property” means property for which occupancy certificate has been received from the relevant authority;\\n(j)“credit rating agency” means a credit rating agency registered with the Board under the Securities and Exchange Board of India (Credit Rating Agencies) Regulations, 1999;\\n(k)“custodian” means a person registered with the Board under the Securities and Exchange Board of India (Custodian of Securities) Regulations, 1996;\\n7[(ka) “debt securities” shall be as defined under Regulation 2(1)(e) of SEBI (Issue and Listing of Debt Securities) Regulations, 2008;]\\n(l)“designated stock exchange” means a recognised stock exchange in which units of a\\nREIT are listed or proposed to be listed and which is chosen by the REIT as a designated stock exchange for the purpose of a particular issue of the units of the REIT under these regulations:\\nProvided that where one or more of such stock exchanges have nationwide trading terminals, the REIT shall choose one of them as the designated stock exchange:\\nProvided further that subject to the provisions of this clause, the REIT may choose a different recognised stock exchange as a designated stock exchange for any subsequent issue of units of the REIT under these regulations;\\n6Substituted for the word “more” by the Securities and Exchange Board of India (Real Estate Investment Trusts) (Amendment) Regulations, 2018, w.e.f. 10.04.2018.\\n7Inserted by the SEBI (Real Estate Investment Trusts) (Amendment) Regulations, 2016, w.e.f. 30.11.2016.\\n3\\n(m)\"floor space index\" or \"FSI\" shall mean the buildable area on a plot of land as specified by the competant authority;\\n(n)“follow–on offer” means offer of units of a listed REIT to the public for subscription\\nand includes an offer for sale of REIT units by an existing unit holder to the public;\\n(o) 8[***]\\n(p)“form” means any of the forms set out in the Schedule I of these regulations;\\n9[(pa) \"general purposes\" include such identified purposes for which no specific amount is allocated or any amount so specified towards general purpose or any such purpose by whatever name called, in the offer document filed with the Board:\\nProvided that any issue related expenses shall not be considered as a part of general purpose merely because no specific amount has been allocated for such expenses in the offer document filed with the Board;”]\\n(q)\"governing board” in case of an LLP shall mean a group of members assigned by the\\nLLP to act in a manner similar to the Board of directors in case of a company;“initial offer” means the first offer of units of an REIT to the public for subscription and includes an offer for sale of REIT units by an existing unit holder to the public; 10[“(qa) “holdco” or “holding company” shall mean a company or LLP.,-\\n(i)in which REIT holds or proposes to hold 11[***] not less than fifty 12[***] per cent. of the equity share capital or interest and which it in turn has made investments in other SPV(s), which ultimately hold the property(ies);\\n(ii)which is not engaged in any other activity other than holding of the underlying SPV(s), holding of real estate/properties and any other activities\\npertaining to and incidental to such holdings;”;\\n(qb) “initial offer” means the first offer of units of an REIT to the public for subscription and includes an offer for sale of REIT units by an existing unit holder to the public;]\\n8Omitted, by the SEBI (Real Estate Investment Trusts) (Amendment) Regulations, 2016, w.e.f. 30.11.2016. Prior to its omission, clause (o) read as under :\\n““follow-on offer document” means any document by which follow-on offer is made to the public;”\\n9Inserted by the SEBI (Real Estate Investment Trusts) (Amendment) Regulations, 2016, w.e.f. 30.11.2016.\\n10Inserted by the SEBI (Real Estate Investment Trusts) (Amendment) Regulations, 2016, w.e.f. 30.11.2016.\\n11Words “controlling interest and” omitted by the Securities and Exchange Board of India (Real Estate Investment Trusts) (Amendment) Regulations, 2018, w.e.f. 10.04.2018.\\n12Word “one” omitted ibid.\\n4\\n(r) 13[***]\\n(s)“inspecting officer” means any one or more person appointed by the Board to exercise powers conferred under Chapter VII of these regulations;\\n(t)“investment management agreement” means an agreement between the trustee and the manager which lays down the roles and responsibilities of the manager towards the REIT;\\n(u)“listed REIT” means a REIT whose units are listed on a recognized stock exchange;\\n(v)\"LLP\" means a limited liability partnership as defined under the Limited Liability Partnership Act, 2008;\\n(w)“manager” means a company or LLP or body corporate incorporated in India which manages assets and investments of the REIT and undertakes operational activities of the REIT;\\n(x)\"net asset value” or \"NAV\" means the value of the REIT 14[assets reduced by the external debt] divided by the number of outstanding units as on a particular date;\\n(y)“net worth” in relation to a company or a body corporate shall have the meaning assigned to it under sub-section (57) of section 2 of the Companies Act, 2013;\\n(za) “occupancy certificate” means a completion certificate, or such other certificate, as the case may be, issued by the competent authority permitting occupation of any property under any law for the time being in force;\\n(zb) \"offer document\" means any document described or issued as an offer document including any notice, circular, advertisement or other document inviting offers 15[through a public issue] for the subscription or purchase of units of the REIT and includes initial offer document, follow-on offer document16[, letter of offer in case of rights issue] and any other document as may be specified by the Board;\\n13Omitted, by the SEBI (Real Estate Investment Trusts) (Amendment) Regulations, 2016, w.e.f. 30.11.2016. Prior to its omission, clause (r) read as under :\\n““initial offer document” means any documentby which initial offer is made to the public by the REIT;”\\n14Inserted by the SEBI (Real Estate Investment Trusts) (Amendment) Regulations, 2016, w.e.f. 30.11.2016\\n15Substituted for “from the public” by the SEBI (Real Estate Investment Trusts) (Amendment) Regulations, 2016, w.e.f. 30.11.2016\\n16Inserted by the SEBI (Real Estate Investment Trusts) (Amendment) Regulations, 2016, w.e.f. 30.11.2016\\n5\\n(zc) “parties to the REIT” shall include the 17[sponsor group(s)], re-designated sponsor(s), manager, and trustee;\\n(zd) “preferential issue” means an issue of units by a listed REIT to any select person or group of persons on a private placement basis and does not include an offer of units made through a public issue, rights issue, bonus issue, qualified institutions placement or any other issue as may be specified by the Board;\\n(ze) “public” for the purposes of offer and listing of units means any person other than related party of the REIT or any other person as may be specified by the Board:\\nProvided that in case any related party to the REIT is a qualified institutional buyer, such person shall be included under the term \\'public\\';\\n(zf) “public issue” means an initial offer or follow-on offer or any other issue made to the public as may be specified by the Board;\\n(zg) “qualified institutional buyer” shall have the meaning assigned to it under clause (zd) of sub-regulation (1) of regulation 2 of the SEBI (Issue Of Capital And Disclosure Requirements) Regulations, 2009;\\n(zh) “qualified institutions placement” means allotment of units by a listed REIT to qualified institutional buyers on private placement basis in terms of these regulations;\\n(zi) “real estate” or “property” means land and any permanently attached improvements to it, whether leasehold or freehold and includes buildings, sheds, garages, fences, fittings, fixtures, warehouses, car parks, etc. and any other assets incidental to the ownership of real estate but does not include mortgage:\\nProvided that any asset falling under the purview of \\'infrastructure\\' as defined vide Notification of Ministry of Finance dated October 07, 2013 including any amendments or additions made thereof shall not be considered as \\'real estate\\' or \\'property\\' for the purpose of these regulations;\\n18[Notwithstanding the above, following captured within the abovementioned definition of infrastructure shall be considered under “real estate” or “property”,-\\n17Substituted for “sponsor(s)” by the SEBI (Real Estate Investment Trusts) (Amendment) Regulations, 2016, w.e.f. 30.11.2016\\n18Inserted by the SEBI (Real Estate Investment Trusts) (Amendment) Regulations, 2016, w.e.f. 30.11.2016\\n6\\n(i)hotels, hospitals and convention centers, forming part of composite real estate projects, whether rent generating or income generating;\\n(ii)common infrastructure\" for composite real estate projects, industrial parks and SEZ;]\\n(zj) 19[“real estate assets” means properties held by REIT, on a freehold or leasehold basis, whether directly or through a holdco and/or a special purpose vehicle];\\n(zk) “recognised stock exchange” means any stock exchange which is recognised under section 4 of the Securities Contracts (Regulation) Act, 1956 (42 of 1956);\\n(zl) \"re-designated sponsor\" means any person who has assumed the responsibility of the sponsor as provided under regulation 11 from the person as designated under clause (zt) of sub-regulation (1) of this regulation or from any re-designated sponsor thereafter;\\n(zm) “REIT” or \"Real Estate Investment Trust\" shall mean a trust registered as such under these regulations;\\n(zn) 20[“REIT assets” means real estate assets and any other assets held by the REIT, on a freehold or leasehold basis, whether directly or through a holdco and/or a special purpose vehicle.”];\\n(zo) 21[“related party” shall be defined under the Companies Act, 2013 or under the applicable accounting standards and shall also include:]\\n(i)parties to the REIT;\\n(ii)22[***]\\n19 Substituted by the Securities and Exchange Board of India (Real Estate Investment Trusts) (Amendment) Regulations, 2018, w.e.f. 10.04.2018. Prior to the substitution, the definition read as follows:\\n““real estate assets” means properties owned by REIT whether directly or through a special purpose vehicle”\\n20Substituted ibid. Prior to the substitution, the definition read as follows:\\n““REIT assets” means real estate assets and any other assets owned by the REIT whether directly or through a 20[holdco and /or] special purpose vehicle”\\n21Substituted for ““related party to the REIT” shall include:” by the SEBI (Real Estate Investment Trusts) (Amendment) Regulations, 2016, w.e.f. 30.11.2016\\n22Omitted, by the SEBI (Real Estate Investment Trusts) (Amendment) Regulations, 2016, w.e.f. 30.11.2016. Prior to its omission, sub-clause (ii) read as under :\\n“any unit holder holding, directly or indirectly, more than twenty per cent. of the units of the REIT;”\\n7\\n(iii) 23[***] 24[promoters] 25[***], directors and partners of the persons in clause (i) 26[***];\\n(zp) \"rent generating property\" means property which has been leased or rented out in accordance with an agreement entered into for the purpose;\\n(zq) “rights issue” means an offer of units by a listed REIT to the unit holders of the REIT as on the record date fixed for the said purpose;\\n(zr) “right-of-first-refusal” or \"ROFR\" of a REIT means the right given to the REIT by a person to enter into a transaction with it before the person is entitled to enter that transaction with any other party;\\n(zs) \"special purpose vehicle\" or \"SPV\" means any company or LLP, -\\n(i)in which 27[either the REIT or the holdco] holds or proposes to hold 28[***] not less than fifty 29[30[***]] per cent. of the equity share capital or interest;\\n(ii)which holds not less than eighty per cent. of its assets directly in properties and does not invest in other special purpose vehicles; and\\n(iii)which is not engaged in any activity other than holding and developing property and any other activity incidental to such holding or development;\\n(zt) “sponsor” means any person(s) who set(s) up the REIT and designated as such at the time of application made to the Board;\\n31[“(zta) “sponsor group” – includes:\\n(i)the sponsor(s);\\n(ii)in case the sponsor is a body corporate:\\na. entities or person(s) which are controlled by such body corporate;\\n23Omitted “associates,”, by the SEBI (Real Estate Investment Trusts) (Amendment) Regulations, 2016, w.e.f. 30.11.2016.\\n24Inserted by the Securities and Exchange Board of India (Real Estate Investment Trusts) (Amendment) Regulations, 2018, w.e.f. 10.04.2018.\\n25The word “sponsors” was omitted ibid.\\n26Omitted“and (ii)”, by the SEBI (Real Estate Investment Trusts) (Amendment) Regulations, 2016, w.e.f. 30.11.2016.\\n27Substituted for “the REIT” by the SEBI (Real Estate Investment Trusts) (Amendment) Regulations, 2016, w.e.f. 30.11.2016\\n28Words “controlling interest and” omitted by the Securities and Exchange Board of India (Real Estate Investment Trusts) (Amendment) Regulations, 2018, w.e.f. 10.04.2018.\\n29Word “one” omitted ibid.\\n30Inserted by the SEBI (Real Estate Investment Trusts) (Amendment) Regulations, 2016, w.e.f. 30.11.2016\\n31Inserted by the SEBI (Real Estate Investment Trusts) (Amendment) Regulations, 2016, w.e.f. 30.11.2016\\n8\\nb.entities or person(s) who control such body corporate;\\nc.entities or person(s) which are controlled by person(s) as referred at clause b.\\n(iii)in case sponsor is an individual:\\na.an immediate relative of such individual (i.e., any spouse of that person, or any parent, brother, sister or child of the person or of the spouse); and\\nb.entities or person(s) which are controlled by such individual;]\\n32[(ztb) “strategic investor” means, -\\na.an infrastructure finance company registered with the Reserve Bank of India as a Non-Banking Financial Company;\\nb.a Scheduled Commercial Bank;\\nc.a multilateral 33[and/or] bilateral development financial institution;\\nd.a systemically important Non-Banking Financial Company registered with the Reserve Bank of India;\\ne.a foreign portfolio investor,\\nwho invest, either jointly or severally, not less than five per cent. of the total offer size of the REIT or such amount as may be specified by the Board from time to time, subject to the compliance with the applicable provisions, if any, of the Foreign Exchange Management Act, 1999 and the rules or regulations or guidelines made thereunder;]\\n(zu) \"transferable development rights\" or \"TDR\" shall mean development rights issued by the competent authority under relevant laws in lieu of the area relinquished or surrendered by the owner or developer or by way of declared incentives by the government or authority;\\n(zv) “trustee” means a person who holds the REIT assets in trust for the benefit of the unit holders, in accordance with these regulations;\\n(zw) “under-construction property” means a property of which construction is not complete and occupancy certificate has not been received;\\n(zx) “unit” means beneficial interest of the REIT;\\n(zy) “unit holder” means any person who owns units of the REIT;\\n32Inserted by the SEBI (Real Estate Investment Trusts) (Amendment) Regulations, 2017, w.e.f. 15.12.2017\\n33Substituted for the word “and” by the Securities and Exchange Board of India (Real Estate Investment Trusts) (Amendment) Regulations, 2018, w.e.f. 10.04.2018.\\n9\\n34[“(zz) “valuer” means any person who is a “registered valuer” under section 247 of the Companies Act, 2013 or as specified by the Board from time to time.]\\n(zza) 35[***]\\n(zzb) \"value of the REIT assets\" means aggregate value of all the assets under the REIT as assessed by the valuer.\\n']\n",
      "---------------------\n",
      "[3, '2.(1) In these regulations, unless the context otherwise requires, the terms defined herein shall bear the meanings assigned to them below, and their cognate expressions and variations shall be construed accordingly,—\\n(a)“acquirer” means any person who, directly or indirectly, acquires or agrees to acquire whether by himself, or through, or with persons acting in concert with him, shares or voting rights in, or control over a target company;\\n(b)“acquisition” means, directly or indirectly, acquiring or agreeing to acquire shares or voting rights in, or control over, a target company;\\n(c)“Act” means the Securities and Exchange Board of India Act, 1992 (15 of 1992);\\n(d)“Board” means the Securities and Exchange Board of India established under section 3 of the Act;\\n(e)“control” includes the right to appoint majority of the directors or to control the management or policy decisions exercisable by a person or persons acting individually or in concert, directly or indirectly, including by virtue of their shareholding or management rights or shareholders agreements or voting agreements or in any other manner:\\nProvided that a director or officer of a target company shall not be considered to be in control over such target company, merely by virtue of holding such position;\\n(f)“convertible security” means a security which is convertible into or ex- changeable with equity shares of the issuer at a later date, with or without the option of the holder of the security, and includes convertible debt instruments and convertible preference shares;\\n2Proviso substituted by the SEBI (Substantial Acquisition of Shares and Takeovers) (Third Amendment) Regulations, 2015, w.e.f. 14-8-2015. Prior to its substitution, said Proviso, as inserted by the SEBI (Listing of Specified Securities on Institutional Trading Platform) Regulations, 2013, w.e.f. 8-10-2013, read as under :\\n“Provided that these regulations shall not apply to direct and indirect acquisition of shares or voting rights in, or control over a company listed on the institutional trading platform of a recognized stock exchange”\\nPage 2 of 69\\n(g)“disinvestment” means the direct or indirect sale by the Central\\nGovernment or any State Government or by a government company, as the case may be, of shares or voting rights in, or control over, a target company, which is a public sector undertaking;\\n(h)“enterprise value” means the value calculated as market capitalization of a company plus debt, minority interest and preferred shares, minus total cash and cash equivalents;\\n(i)“financial year” means the period of twelve months commencing on the first day of the month of April;\\n(j)“frequently traded shares” means shares of a target company, in which the traded turnover on any stock exchange during the twelve calendar months preceding the calendar month in which the public announcement 3[is required to be made under these regulations], is at least ten per cent of the total number of shares of such class of the target company:\\nProvided that where the share capital of a particular class of shares of the target company is not identical throughout such period, the\\nweighted average number of total shares of such class of the target company shall represent the total number of shares;\\n4[(ja) “fugitive economic offender” shall mean an individual who is declared a fugitive economic offender under section 12 of the Fugitive Economic Offenders Act, 2018 (17 of 2018)]\\n(k)“identified date” means the date falling on the tenth working day prior to the commencement of the tendering period, for the purposes of determining the shareholders to whom the letter of offer shall be sent;\\n(l)“immediate relative” means any spouse of a person, and includes parent, brother, sister or child of such person or of the spouse;\\n(m)“listing agreement” means the agreement with the stock exchange governing the conditions of listing of shares of the target company;\\n3 Substituted by the SEBI (Substantial Acquisition of Shares and Takeovers) (Second Amendment) Regulations, 2018, w.e.f. 11-09-2018. Prior to the amendment, it read as “is made”.\\n4Inserted by the SEBI (Substantial Acquisition of Shares and Takeovers) (Second Amendment) Regulations, 2018, w.e.f. 11-09-2018.\\nPage 3 of 69\\n5[(ma) “listing regulations” means the Securities and Exchange Board of India (Listing Obligations and Disclosure Requirements) Regulations, 2015.]\\n(n)“manager to the open offer” means a merchant banker referred to in regulation 12;\\n(o)“maximum permissible non-public shareholding” means such percentage shareholding in the target company excluding the minimum public shareholding required under the Securities Contracts (Regulation) Rules, 1957;\\n(p)“offer period” means the period between the date of entering into an agreement, formal or informal, to acquire shares, voting rights in, or control over a target company requiring a public announcement, or the date of the public announcement, as the case may be, and the date on which the payment of consideration to shareholders who have accepted the open offer is made, or the date on which open offer is withdrawn, as the case may be;\\n(q)“persons acting in concert” means,—\\n(1)persons who, with a common objective or purpose of acquisition of shares or voting rights in, or exercising control over a target company, pursuant to an agreement or understanding, formal or informal, directly or indirectly co-operate for acquisition of shares or voting rights in, or exercise of control over the target company.\\n(2)Without prejudice to the generality of the foregoing, the persons falling within the following categories shall be deemed to be persons acting in concert with other persons within the same category, unless the contrary is established,—\\n(i)a company, its holding company, subsidiary company and any company under the same management or control;\\n(ii)a company, its directors, and any person entrusted with the management of the company;\\n5Inserted by the SEBI (Substantial Acquisition of Shares and Takeovers) (Second Amendment) Regulations, 2018, w.e.f. 11-09-2018.\\nPage 4 of 69\\n(iii)directors of companies referred to in item (i) and (ii) of this sub-clause and associates of such directors;\\n(iv)promoters and members of the promoter group;\\n(v)immediate relatives;\\n(vi)a mutual fund, its sponsor, trustees, trustee company, and asset management company;\\n(vii)a collective investment scheme and its collective investment management company, trustees and trustee company;\\n(viii)a venture capital fund and its sponsor, trustees, trustee company and asset management company;\\n6[(viiia) an alternative investment fund and its sponsor, trustees, trustee company and manager;]\\n(ix) 7[***]\\n(x)a merchant banker and its client, who is an acquirer;\\n(xi)a portfolio manager and its client, who is an acquirer;\\n(xii)banks, financial advisors and stock brokers of the acquirer, or of any company which is a holding company or subsidiary of the acquirer, and where the acquirer is an individual, of the immediate relative of such individual:\\nProvided that this sub-clause shall not apply to a bank whose sole role is that of providing normal commercial banking services or activities in relation to an open offer under these regulations;\\n(xiii)an investment company or fund and any person who has an interest in such investment company or fund as a shareholder or unitholder having not less than 10 per cent of the paid-up capital of the investment company or unit\\n6Inserted by the SEBI (Alternative Investment Funds) Regulations, 2012, w.e.f. 21-5-2012.\\n7Omitted by the SEBI (Foreign Portfolio Investors) Regulations, 2014, w.e.f. 7-1-2014. Prior to its omission, item (ix) read as under :\\n\"(ix)\\na foreign institutional investor and its sub-accounts;\"\\n\\xa0\\nPage 5 of 69\\ncapital of the fund, and any other investment company or fund in which such person or his associate holds not less than 10 per cent of the paid-up capital of that investment company or unit capital of that fund:\\nProvided that nothing contained in this sub-clause shall apply to holding of units of mutual funds registered with the Board;\\nExplanation.— For the purposes of this clause “associate” of a person means,—\\n(a)any immediate relative of such person;\\n(b)trusts of which such person or his immediate relative is a trustee;\\n(c)partnership firm in which such person or his immediate relative is a partner; and\\n(d)members of Hindu undivided families of which such person is a coparcener;\\n(r)8[“postal ballot” means a postal ballot as provided for under Rule 22 of the Companies (Management and Administration) Rules, 2014 made under the Companies Act, 2013;]\\n(s)“promoter” has the same meaning as in the Securities and Exchange\\nBoard of India (Issue of Capital and Disclosure Requirements) Regulations, 2009 and includes a member of the promoter group;\\n(t)“promoter group” has the same meaning as in the Securities and\\nExchange Board of India (Issue of Capital and Disclosure Requirements) Regulations, 2009;\\n(u)“public sector undertaking” means a target company in which, directly or indirectly, majority of shares or voting rights or control is held by the Central Government or any State Government or Governments, or partly\\n8 Substituted by the SEBI (Substantial Acquisition of Shares and Takeovers) (Second Amendment) Regulations, 2018, w.e.f. 11-09-2018. Prior to the amendment, the clause read as:\\n“(r) “postal ballot” means a postal ballot as provided for under the Companies (Passing of the Resolution by Postal Ballot) Rules, 2001 made under the Companies Act, 1956 (1 of 1956)”\\nPage 6 of 69\\nby the Central Government and partly by one or more State Governments;\\n(v)“shares” means shares in the equity share capital of a target company carrying voting rights, and includes any security which entitles the holder thereof to exercise voting rights;\\nExplanation.— For the purpose of this clause shares will include all depository receipts carrying an entitlement to exercise voting rights in the target company;\\n(w)“specified” means as specified by the Board;\\n(x)“state-level financial institution” means a Financial Corporation established under section 3 or section 3A and institutions notified under section 46 of the State Financial Corporations Act, 1951 (63 of 1951), and includes a development corporation established as a company by a State Government with the object of development of industries or agricultural activities in the state;\\n(y)“stock exchange” means a stock exchange which has been granted recognition under section 4 of the Securities Contracts (Regulation) Act, 1956 (42 of 1956);\\n(z)“target company” means a company and includes a body corporate or corporation established under a Central legislation, State legislation or\\nProvincial legislation for the time being in force, whose shares are listed on a stock exchange;\\n(za) “tendering period” means the period within which shareholders may tender their shares in acceptance of an open offer to acquire shares made under these regulations;\\n(zb) “volume weighted average market price” means the product of the number of equity shares traded on a stock exchange and the price of each equity share divided by the total number of equity shares traded on the stock exchange;\\nPage 7 of 69\\n(zc) “volume weighted average price” means the product of the number of equity shares bought and price of each such equity share divided by the total number of equity shares bought;\\n']\n",
      "---------------------\n",
      "[3, '18.The following investment conditions shall apply to Category III Alternative Investment Funds:-\\n(a)Category III Alternative Investment Funds may invest in securities of listed or unlisted investee companies or derivatives or complex or structured products;\\n29[(aa) Category III Alternative Investment Funds may deal in goods received in delivery against physical settlement of commodity derivatives;]\\n(b) 30[Fund of Category III] Alternative Investment Funds may invest in units of Category I or Category II Alternative Investment Funds:\\nProvided that they invest solely in such units and shall not invest in units of other Fund of Funds.\\n(c)Category III Alternative Investment Funds may engage in leverage or borrow subject to consent from the investors in the fund and subject to a maximum limit, as may be specified by the Board:\\nProvided that such funds shall disclose information regarding the overall level of leverage employed, the level of leverage arising from borrowing of cash, the level of leverage arising from position held in derivatives or in any complex product and the main source of leverage in their fund to the investors and to the Board periodically, as may be specified by the Board.\\n(d)Category III Alternative Investment Funds shall be regulated through issuance of directions regarding areas such as operational standards, conduct of business rules, prudential requirements, restrictions on redemption and conflict of interest as may be specified by the Board.\\nOther Alternative Investment Fund.\\n29Inserted by the SEBI (Alternative Investment Fund) (Amendment) Regulations, 2019, w.e.f 10-05-2019.\\n']\n",
      "---------------------\n",
      "[3, '(8)The listed entity shall disclose on its website all such events or information which has been disclosed to stock exchange(s) under this regulation , and such disclosures shall be hosted on the website of the listed entity for a minimum period of five years and thereafter as per the archival policy of the listed entity, as disclosed on its website.\\n']\n",
      "---------------------\n",
      "[3, '(5)The listed entity shall disclose on its website or on the website of the sponsor all such events or information which has been disclosed to stock exchange(s) under this regulation, and such disclosures shall be hosted on the website of the listed entity for a minimum period of five years and thereafter as per the archival policy of the listed entity, as disclosed on its website.\\n']\n",
      "---------------------\n",
      "[3, '(5)Not more than twenty per cent. of value of the REIT assets shall be invested 162[***] in assets other than as provided in sub-regulation (4) and such other investment shall only be in,-\\n(a)properties, 163[whether directly or through a company or LLP,] 164[***] which are:\\n(i)under-construction properties which shall be held by the REIT for not less than three years after completion;\\n(ii)under-construction properties which are a part of the existing income generating properties owned by the REIT which shall be held by the REIT for not less than three years after completion;\\n(iii)completed and not rent generating properties which shall be held by the REIT for not less than three years from date of purchase;\\n157Omitted “proportionate to the holding of the REITs” by the SEBI (Real Estate Investment Trusts) (Amendment) Regulations, 2016, w.e.f. 30.11.2016\\n158Inserted by the SEBI (Real Estate Investment Trusts) (Amendment) Regulations, 2017, w.e.f. 15.12.2017\\n159Inserted by the SEBI (Real Estate Investment Trusts) (Amendment) Regulations, 2016, w.e.f. 30.11.2016\\n160Inserted by the SEBI (Real Estate Investment Trusts) (Amendment) Regulations, 2016, w.e.f. 30.11.2016\\n161Substituted for the words “rent-generating” by the SEBI (Real Estate Investment Trusts) (Amendment) Regulations, 2017, w.e.f. 15.12.2017\\n162Omitted “proportionate to the holding of the REITs” by the SEBI (Real Estate Investment Trusts) (Amendment) Regulations, 2016, w.e.f. 30.11.2016\\n163Inserted by the Securities and Exchange Board of India (Real Estate Investment Trusts) (Amendment) Regulations, 2018, w.e.f. 10.04.2018.\\n164Omitted “in which not more than ten per cent. of value of the REIT assets shall be invested,” by the SEBI (Real Estate Investment Trusts) (Amendment) Regulations, 2016, w.e.f. 30.11.2016\\n38\\n(b)listed or unlisted debt of companies or body corporate in real estate sector:\\nProvided that this shall not include any investment made in debt of the 165[holdco and/or SPVs];\\n(c)mortgage backed securities;\\n(d)equity shares of companies 166[which are] listed on a recognized stock exchange in India which derive not less than seventy five per cent. of their operating income from real estate activity as per the audited accounts of the previous financial year;\\n167[(da) unlisted equity shares of companies which derive not less than seventy five per cent. of their operating income from real estate activity as per the audited accounts of the previous financial year:\\nProvided that the investments, made through unlisted equity shares of a company, in under construction properties and/or completed and not rent generating properties, shall be in compliance with clause (a) of this sub- regulation.]\\n(e)government securities;\\n(f)unutilized FSI of a project where it has already made investment;\\n(g)TDR acquired for the purpose of utilization with respect to a project where it has already made investment;\\n(h)money market instruments or cash equivalents.\\n168[(5A) The investment conditions as specified at sub-regulation (4) and (5) of regulation 18 shall be complied at the time of Offer document and thereafter.]\\n165Substituted for “SPV” by the SEBI (Real Estate Investment Trusts) (Amendment) Regulations, 2016, w.e.f. 30.11.2016\\n166Inserted by the Securities and Exchange Board of India (Real Estate Investment Trusts) (Amendment) Regulations, 2018, w.e.f. 10.04.2018.\\n167Inserted by the Securities and Exchange Board of India (Real Estate Investment Trusts) (Amendment) Regulations, 2018, w.e.f. 10.04.2018.\\n168Inserted by the SEBI (Real Estate Investment Trusts) (Amendment) Regulations, 2016, w.e.f. 30.11.2016\\n39\\n']\n",
      "---------------------\n",
      "[3, '(4)The Disclosure Document, shall inter alia include the following :─\\n(a)the quantum and manner of payment of fees payable by the client for each activity for which service is rendered by the portfolio manager directly or indirectly (where such service is out sourced);\\n(b)portfolio risks including risk specific to each investment approach offered by the portfolio\\nPage 14 of 62\\nmanager;\\n(c)complete disclosures of transactions with related parties as per the accounting standards specified by the Institute of Chartered Accountants of India;\\n(d)details of conflicts of interest related to services offered by group companies or associates of the portfolio manager;\\n(e)the performance of the portfolio manager:\\nProvided that the performance of a discretionary portfolio manager shall be calculated using ‘Time Weighted Rate of Return’ for the immediately preceding three years and in such cases performance indicators shall also be disclosed:\\nProvided further that the portfolio manager may be allowed to disclose performance segregated on the basis of investment approach;\\n(f)the audited financial statements of the portfolio manager for the immediately preceding three years.\\n']\n",
      "---------------------\n",
      "[3, '(3)The following conditions shall apply to SME Funds in addition to conditions laid down in sub-regulation (1):-\\n(a)atleast seventy five percent of the 23[investable funds] shall be invested in unlisted securities or partnership interest of venture capital undertakings or investee companies which are SMEs or in companies listed or proposed to be listed on SME exchange or SME segment of an exchange;\\n(b)such funds may enter into an agreement with merchant banker to subscribe to the unsubscribed portion of the issue or to receive or deliver securities in the process of market making under Chapter XB of the Securities and Exchange Board of India (Issue of Capital and Disclosure Requirements) Regulations, 2009;\\n(c)such funds shall be exempt from regulation 3 and 3A of Securities and Exchange Board of India (Prohibition of Insider Trading) Regulations, 1992 in respect of investment in companies listed on SME Exchange or SME segment of an exchange pursuant to due diligence of such companies subject to the following conditions:\\n(i)the fund shall disclose any acquisition or dealing in securities pursuant to such due-diligence, within two working days of such acquisition or dealing, to the stock exchanges where the investee company is listed;\\n(ii)such investment shall be locked in for a period of one year from the date of investment.\\n']\n",
      "---------------------\n",
      "[3, '(2)The listed entity which has listed its specified securities shall comply with the corporate governance provisions as specified in chapter IV which shall be implemented in a manner so as to achieve the objectives of the principles as mentioned below.\\n(a)The rights of shareholders: The listed entity shall seek to protect and facilitate the exercise of the following rights of shareholders:\\n(i)right to participate in, and to be sufficiently informed of, decisions concerning fundamental corporate changes.\\n(ii)opportunity to participate effectively and vote in general shareholder meetings. (iii)being informed of the rules, including voting procedures that govern general\\nshareholder meetings.\\n(iv)opportunity to ask questions to the board of directors, to place items on the agenda of general meetings, and to propose resolutions, subject to reasonable limitations.\\n(v)Effective shareholder participation in key corporate governance decisions, such as the nomination and election of members of board of directors.\\n(vi)exercise of ownership rights by all shareholders, including institutional investors.\\n(vii)adequate mechanism to address the grievances of the shareholders.\\n(viii)protection of minority shareholders from abusive actions by, or in the interest of, controlling shareholders acting either directly or indirectly, and effective means of redress.\\n7\\n(b)Timely information: The listed entity shall provide adequate and timely information to shareholders, including but not limited to the following:\\n(i)sufficient and timely information concerning the date, location and agenda of general meetings, as well as full and timely information regarding the issues to be discussed at the meeting.\\n(ii)Capital structures and arrangements that enable certain shareholders to obtain a degree of control disproportionate to their equity ownership.\\n(iii)rights attached to all series and classes of shares, which shall be disclosed to investors before they acquire shares.\\n(c)Equitable treatment: The listed entity shall ensure equitable treatment of all shareholders, including minority and foreign shareholders, in the following manner:\\n(i)All shareholders of the same series of a class shall be treated equally.\\n(ii)Effective shareholder participation in key corporate governance decisions,\\nsuch as the nomination and election of members of board of directors, shall be facilitated.\\n(iii)Exercise of voting rights by foreign shareholders shall be facilitated.\\n(iv)The listed entity shall devise a framework to avoid insider trading and abusive self-dealing.\\n(v)Processes and procedures for general shareholder meetings shall allow for equitable treatment of all shareholders.\\n(vi)Procedures of listed entity shall not make it unduly difficult or expensive to cast votes.\\n(d)Role of stakeholders in corporate governance: The listed entity shall recognise the rights of its stakeholders and encourage co-operation between listed entity and the stakeholders, in the following manner:\\n(i)The listed entity shall respect the rights of stakeholders that are established by law or through mutual agreements.\\n(ii)Stakeholders shall have the opportunity to obtain effective redress for violation of their rights.\\n(iii)Stakeholders shall have access to relevant, sufficient and reliable information on a timely and regular basis to enable them to participate in corporate governance process.\\n(iv)The listed entity shall devise an effective whistle blower mechanism enabling stakeholders, including individual employees and their representative bodies, to freely communicate their concerns about illegal or unethical practices.\\n(e)Disclosure and transparency: The listed entity shall ensure timely and accurate disclosure on all material matters including the financial situation, performance, ownership, and governance of the listed entity, in the following manner:\\n(i)Information shall be prepared and disclosed in accordance with the prescribed standards of accounting, financial and non-financial disclosure.\\n(ii)Channels for disseminating information shall provide for equal, timely and cost efficient access to relevant information by users.\\n(iii)Minutes of the meeting shall be maintained explicitly recording dissenting opinions, if any.\\n8\\n.\\n(f)Responsibilities of the board of directors: The board of directors of the listed entity shall have the following responsibilities:\\n(i)Disclosure of information:\\n(1)Members of board of directors and key managerial personnel shall disclose to the board of directors whether they, directly, indirectly, or on behalf of third parties, have a material interest in any transaction or matter directly affecting the listed entity.\\n(2)The board of directors and senior management shall conduct themselves so as to meet the expectations of operational transparency to stakeholders while at the same time maintaining confidentiality of information in order to foster a culture of good decision-making.\\n(ii)Key functions of the board of directors-\\n(1)Reviewing and guiding corporate strategy, major plans of action, risk policy, annual budgets and business plans, setting performance objectives, monitoring implementation and corporate performance, and overseeing major capital expenditures, acquisitions and divestments.\\n(2)Monitoring the effectiveness of the listed entity’s governance practices and making changes as needed.\\n(3)Selecting, compensating, monitoring and, when necessary, replacing key managerial personnel and overseeing succession planning.\\n(4)Aligning key managerial personnel and remuneration of board of directors with the longer term interests of the listed entity and its shareholders.\\n(5)Ensuring a transparent nomination process to the board of directors with the diversity of thought, experience, knowledge, perspective and gender in the board of directors.\\n(6)Monitoring and managing potential conflicts of interest of management, members of the board of directors and shareholders, including misuse of corporate assets and abuse in related party transactions.\\n(7)Ensuring the integrity of the listed entity’s accounting and financial reporting systems, including the independent audit, and that appropriate systems of control are in place, in particular, systems for risk management, financial and operational control, and compliance with the law and relevant standards.\\n(8)Overseeing the process of disclosure and communications.\\n(9)Monitoring and reviewing board of director’s evaluation framework.\\n(iii)Other responsibilities:\\n(1)The board of directors shall provide strategic guidance to the listed entity, ensure effective monitoring of the management and shall be accountable to the listed entity and the shareholders.\\n(2)The board of directors shall set a corporate culture and the values by which executives throughout a group shall behave.\\n(3)Members of the board of directors shall act on a fully informed basis, in good faith, with due diligence and care, and in the best interest of the listed entity and the shareholders.\\n(4)The board of directors shall encourage continuing directors training to ensure that the members of board of directors are kept up to date.\\n9\\n(5)Where decisions of the board of directors may affect different shareholder groups differently, the board of directors shall treat all shareholders fairly.\\n(6)The board of directors shall maintain high ethical standards and shall take into account the interests of stakeholders.\\n(7)The board of directors shall exercise objective independent judgement on corporate affairs.\\n(8)The board of directors shall consider assigning a sufficient number of non- executive members of the board of directors capable of exercising independent judgement to tasks where there is a potential for conflict of interest.\\n(9)The board of directors shall ensure that, while rightly encouraging positive thinking, these do not result in over-optimism that either leads to significant risks not being recognised or exposes the listed entity to excessive risk.\\n(10)The board of directors shall have ability to ‘step back’ to assist executive management by challenging the assumptions underlying: strategy, strategic initiatives (such as acquisitions), risk appetite, exposures and the key areas of the listed entity’s focus.\\n(11)When committees of the board of directors are established, their mandate, composition and working procedures shall be well defined and disclosed by the board of directors.\\n(12)Members of the board of directors shall be able to commit themselves effectively to their responsibilities.\\n(13)In order to fulfil their responsibilities, members of the board of directors shall have access to accurate, relevant and timely information.\\n(14)The board of directors and senior management shall facilitate the independent directors to perform their role effectively as a member of the board of directors and also a member of a committee of board of directors.\\n']\n",
      "---------------------\n",
      "[3, '(2)The listed entity shall disseminate the following information 101[under a separate section on its website]:\\n(a)details of its business;\\n(b)terms and conditions of appointment of independent directors;\\n(c)composition of various committees of board of directors;\\n(d)code of conduct of board of directors and senior management personnel;\\n(e)details of establishment of vigil mechanism/ Whistle Blower policy;\\n(f)criteria of making payments to non-executive directors , if the same has not been disclosed in annual report;\\n(g)policy on dealing with related party transactions;\\n(h)policy for determining ‘material’ subsidiaries;\\n(i)details of familiarization programmes imparted to independent directors including the following details:-\\n(i)number of programmes attended by independent directors (during the year and\\non a cumulative basis till date),\\n(ii)number of hours spent by independent directors in such programmes (during the year and on cumulative basis till date), and\\n(iii)other relevant details\\n(j)the email address for grievance redressal and other relevant details;\\n(k)contact information of the designated officials of the listed entity who are responsible for assisting and handling investor grievances;\\n(l)financial information including:\\n(i)notice of meeting of the board of directors where financial results shall be discussed;\\n(ii)financial results, on conclusion of the meeting of the board of directors where the financial results were approved;\\n(iii)complete copy of the annual report including balance sheet, profit and loss account, directors report, corporate governance report etc;\\n(m)shareholding pattern;\\n(n)details of agreements entered into with the media companies and/or their associates, etc;\\n(o)schedule of analyst or institutional investor meet and presentations made by the listed entity to analysts or institutional investors simultaneously with submission to stock exchange;\\n(p)new name and the old name of the listed entity for a continuous period of one year, from the date of the last name change;\\n(q)items in sub-regulation (1) of regulation 47 .\\n102[(r) With effect from October 1, 2018, all credit ratings obtained by the entity for all its outstanding instruments, updated immediately as and when there is any revision in any of the ratings.\\n(s)separate audited financial statements of each subsidiary of the listed entity in respect of a relevant financial year, uploaded at least 21 days prior to the date of the annual general meeting which has been called to inter alia consider accounts of that financial year.]\\n']\n",
      "---------------------\n"
     ]
    }
   ],
   "source": [
    "for i in A:\n",
    "    print(i)\n",
    "    print('---------------------')"
   ]
  },
  {
   "cell_type": "code",
   "execution_count": 323,
   "metadata": {},
   "outputs": [
    {
     "name": "stdout",
     "output_type": "stream",
     "text": [
      "[3, '(2)The following investment conditions shall apply to venture capital funds in addition to conditions laid down in sub-regulation (1):-\\n(a)at least two-thirds of the 21[investable funds] shall be invested in unlisted equity shares or equity linked instruments of a venture capital undertaking or in companies listed or proposed to be listed on a SME exchange or SME segment of an exchange;\\n(b)not more than one-third of the 22[investable funds] shall be invested in:\\n(i)subscription to initial public offer of a venture capital undertaking whose shares are proposed to be listed;\\n(ii)debt or debt instrument of a venture capital undertaking in which the fund has already made an investment by way of equity or contribution towards partnership interest;\\n20Substituted by the SEBI (Alternative Investment Fund) (Amendment) Regulations, 2013, w.e..f 16-09-2013 for the word “corpus”\\n21Ibid.\\n22Substituted by the SEBI (Alternative Investment Fund) (Amendment) Regulations, 2013, w.e..f 16-09-2013 for the word “corpus”\\n(iii)preferential allotment, including through qualified institutional placement, of equity shares or equity linked instruments of a listed company subject to lock in period of one year;\\n(iv)the equity shares or equity linked instruments of a financially weak company or a sick industrial company whose shares are listed.\\nExplanation.– For the purpose of these regulations, “a financially weak company” means a company, which has at the end of the previous financial year accumulated losses, which has resulted in erosion of more than fifty percent but less than hundred percent of its net worth as at the beginning of the previous financial year.\\n(v)special purpose vehicles which are created by the fund for the purpose of facilitating or promoting investment in accordance with these regulations:\\nProvided that the investment conditions and restrictions stipulated in clause (a) and clause (b) of sub-regulation (2) shall be achieved by the fund by the end of its life cycle.\\n(c)such funds may enter into an agreement with merchant banker to subscribe to the unsubscribed portion of the issue or to receive or deliver securities in the process of market making under Chapter XB of the Securities and Exchange Board of India (Issue of Capital and Disclosure Requirements) Regulations, 2009 and the provisions of clause (a) and clause (b) of sub-regulation (2) shall not apply in case of acquisition or sale of securities pursuant to such subscription or market making.\\n(d)such funds shall be exempt from regulation 3 and 3A of Securities and Exchange Board of India (Prohibition of Insider Trading) Regulations, 1992 in respect of investment in companies listed on SME Exchange or SME segment of an exchange pursuant to due diligence of such companies subject to the following conditions:\\n(i)the fund shall disclose any acquisition or dealing in securities pursuant to such due-diligence, within two working days of such acquisition or dealing, to the stock exchanges where the investee company is listed;\\n(ii)such investment shall be locked in for a period of one year from the date of investment.\\n']\n",
      "---------------------\n",
      "[2, '“This provision is intended to mandate persons other than listed companies and market intermediaries that are required to handle unpublished price sensitive information to formulate a code of conduct governing trading in securities by their employees. These entities include professional firms such as auditors, accountancy firms, law firms, analysts, consultants etc., assisting or advising listed companies, market intermediaries and other capital market participants. Even entities that normally operate outside the capital market may handle unpublished price sensitive information. This provision would mandate all of them to formulate a code of conduct.”\\n']\n",
      "---------------------\n",
      "[2, 'shares in compliance with the provisions of the Companies Act,1956, rules prescribed thereunder and other applicable laws;\\n(b)credit rating has been obtained in respect of such non-convertible redeemable preference shares from at least one credit rating agency registered with the Board:\\nProvided that where credit ratings are obtained from more than one credit rating agencies, all the ratings shall be disclosed in the offer document;\\n(c)the non-convertible redeemable preference shares proposed to be listed\\nare in dematerialized form;\\n(d)the disclosures as provided in regulation 18 have been made;\\n(e)the minimum application size for each investor is not less than ten lakh rupees; and\\n(f)the issue is in compliance with sub-regulation (3) and (4) of regulation 4.\\nwhere the application is made to more than one recognised stock exchange, the issuer shall choose one of them as the designated stock exchange.]\\n(2)The issuer shall comply with conditions of listing of such non-convertible redeemable preference shares as specified in the Listing Agreement with the stock exchange where such non-convertible redeemable preference shares are sought to be listed.\\nDisclosures in respect of private placements of non-convertible redeemable preference\\n']\n",
      "---------------------\n",
      "[2, 'Provided that such debt securities shall be listed on recognized stock exchange(s).]\\n237[(2)] The aggregate consolidated borrowings and deferred payments of the InvIT 238[, holdco and the SPV(s),] net of cash and cash equivalents shall 239[not] exceed 240[seventy] per cent. of the value of the InvIT assets.\\n241[(3)] If the aggregate consolidated borrowings and deferred payments of the InvIT 242[, holdco and the SPV(s),] net of cash and cash equivalents exceed twenty five per cent. of the value of the InvIT assets, for any further borrowing,–\\n243[a) upto forty nine percent, an InvIT shall -\\n(i)obtain credit rating from a credit rating agency registered with the Board; and\\n(ii)seek approval of unitholders in the manner as specified in Regulation 22.\\nb)above forty nine percent, an InvIT shall -\\n(i)obtain a credit rating of “AAA” or equivalent for its consolidated borrowing and the proposed borrowing, from a credit rating agency registered with the Board;\\n236Inserted by the Securities and Exchange Board of India (Infrastructure Investment Trusts) (Amendment) Regulations, 2017, w.e.f. 15.12.2017\\n237Re-numbered ibid.\\n238Inserted by Securities and Exchange Board of India (Infrastructure Investment Trusts) (Amendment) Regulations, 2016, w.e.f 30.11.2016\\n239Substituted for the word “never” by the Securities and Exchange Board of India (Infrastructure Investment Trusts) (Amendment) Regulations, 2019, w.e.f. 22.4.2019\\n240Substituted ibid for the words “forty nine”.\\n241Re-numbered by the Securities and Exchange Board of India (Infrastructure Investment Trusts) (Amendment) Regulations, 2017, w.e.f. 15.12.2017\\n242Inserted by Securities and Exchange Board of India (Infrastructure Investment Trusts) (Amendment) Regulations, 2016, w.e.f 30.11.2016\\n243Substituted by the Securities and Exchange Board of India (Infrastructure Investment Trusts) (Amendment) Regulations, 2019, w.e.f. 22.4.2019. prior to the substitution, clauses (a) and (b) read as follows:\\n“(a)credit rating shall be obtained from a credit rating agency registered with the Board; and (b)approval of unit holders shall be obtained in the manner as specified in regulation 22.”\\n54\\n(ii)utilize the funds only for acquisition or development of infrastructure projects;\\n(iii)have a track record of atleast six distributions, in terms of sub- regulation (6) of regulation 18, on a continuous basis, post listing, in the years preceding the financial year in which the enhanced borrowings are proposed to be made;\\n(iv)obtain the approval of unitholders in the manner specified in sub- regulation (5A) of regulation 22.]\\n244[(4)] If the conditions specified in sub-regulations (1) and (2) are breached on account of market movements of the price of the underlying assets or securities, the investment manager shall inform the same to the trustee and ensure that the conditions are satisfied within six months of such breach.\\n']\n",
      "---------------------\n",
      "[2, 'Provided that such debt securities shall be listed on recognized stock exchange(s).]\\n196[(2)] The aggregate consolidated borrowings and deferred payments of the REIT 197[, holdco and/or the SPV(s),] net of cash and cash equivalents shall never exceed forty nine per cent. of the value of the REIT assets:\\nProvided that such borrowings and deferred payments shall not include any refundable security deposits to tenants.\\n198[(3)] If the aggregate consolidated borrowings and deferred payments of the REIT 199[, holdco and/or the SPV(s),] net of cash and cash equivalents exceed twenty five per cent. of the value of the REIT assets, for any further borrowing,-\\n(a)credit rating shall be obtained from a credit rating agency registered with the Board; and\\n(b)approval of unit holders shall be obtained in the manner as specified in regulation 22.\\n200[(4)] If the conditions specified in sub-regulations (1) and (2) are breached on account of market movements of the price of the underlying assets or securities, the manager shall inform\\n195Inserted by the SEBI (Real Estate Investment Trusts) (Amendment) Regulations, 2017, w.e.f. 15.12.2017\\n196Re-numbered by the SEBI (Real Estate Investment Trusts) (Amendment) Regulations, 2017, w.e.f. 15.12.2017\\n197Inserted by the SEBI (Real Estate Investment Trusts) (Amendment) Regulations, 2016, w.e.f. 30.11.2016\\n198Re-numbered by the SEBI (Real Estate Investment Trusts) (Amendment) Regulations, 2017, w.e.f. 15.12.2017\\n199Inserted by the SEBI (Real Estate Investment Trusts) (Amendment) Regulations, 2016, w.e.f. 30.11.2016\\n200Re-numbered by the SEBI (Real Estate Investment Trusts) (Amendment) Regulations, 2017, w.e.f. 15.12.2017\\n47\\nthe same to the trustee and ensure that the conditions as specified in this regulation are satisfied within six months of such breach.\\n']\n",
      "---------------------\n",
      "[2, 'Provided that in case the disclosure is made after twenty four hours of occurrence of the event or information, the listed entity shall, along with such disclosures provide explanation for the delay.\\n']\n",
      "---------------------\n",
      "[2, 'Provided that in case the disclosure is made after twenty four hours of occurrence of the event or information, the listed entity shall, along with such disclosures provide explanation for delay:\\n']\n",
      "---------------------\n",
      "[2, 'NOTE: 35[This provision is intended to mandate persons other than listed companies and intermediaries that are required to handle unpublished price sensitive information to formulate a code of conduct governing trading in securities by their designated persons. These entities include professional firms such as auditors, accountancy firms, law firms, analysts, insolvency professional entities, consultants, banks etc., assisting or advising listed companies. Even entities that normally operate outside the capital market may handle unpublished price sensitive information. This provision would mandate all of them to formulate a code of conduct.]\\n']\n",
      "---------------------\n",
      "[2, 'Explanation - Professional firms such as auditors, accountancy firms, law firms, analysts, insolvency professional entities, consultants, banks etc., assisting or advising listed companies shall be collectively referred to as fiduciaries for the purpose of these regulations.]\\n']\n",
      "---------------------\n",
      "[2, 'Continual disclosures.\\n30(1) Every person, who together with persons acting in concert with him, holds shares or voting rights entitling him to exercise twenty-five per cent or more of the voting rights in a target company, shall disclose their aggregate shareholding and voting\\n70Inserted by the SEBI (Substantial Acquisition of Shares and Takeovers) (Second Amendment) Regulations, 2018, w.e.f. 11-09-2018.\\n71Inserted by the Securities and Exchange Board of India (Substantial Acquisition of Shares and Takeovers) (Third Amendment) Regulations, 2018 w.e.f. 31-12-2018\\n72Inserted by the Securities and Exchange Board of India (Substantial Acquisition of Shares and Takeovers) (Third Amendment) Regulations, 2018 w.e.f. 31-12-2018.\\nPage 62 of 69\\nrights as of the thirty-first day of March, in such target company in such form as may be specified.\\n(2)The promoter of every target company shall together with persons acting in concert with him, disclose their aggregate shareholding and voting rights as of the thirty-first day of March, in such target company in such form as may be specified.\\n(3)The disclosures required under sub-regulation (1) and sub-regulation (2) shall be made within seven working days from the end of each financial year to,—\\n(a)every stock exchange where the shares of the target company are listed; and\\n(b)the target company at its registered office.\\nDisclosure of encumbered shares.\\n31(1) The promoter of every target company shall disclose details of shares in such target company encumbered by him or by persons acting in concert with him in such form as may be specified.\\n(2)The promoter of every target company shall disclose details of any invocation of such encumbrance or release of such encumbrance of shares in such form as may be specified.\\n(3)The disclosures required under sub-regulation (1) and sub-regulation (2) shall be made within seven working days from the creation or invocation or release of encumbrance, as the case may be to,—\\n(a)every stock exchange where the shares of the target company are listed; and\\n(b)the target company at its registered office.\\n73[(4) The promoter of every target company shall declare on a yearly basis that he, along with persons acting in concert, has not made any encumbrance, directly or indirectly, other than those already disclosed during the financial year.\\n(5)The declaration required under sub-regulation (4) shall be made within seven working days from the end of each financial year to –\\n(a) every stock exchange where the shares of the target company are listed; and\\n73Inserted by the SEBI (Substantial Acquisition of Shares and Takeovers) (Second Amendment) Regulations, 2019 w.e.f. 29-07-2019.\\nPage 63 of 69\\n']\n",
      "---------------------\n"
     ]
    }
   ],
   "source": [
    "for i in A:\n",
    "    print(i)\n",
    "    print('---------------------')"
   ]
  },
  {
   "cell_type": "markdown",
   "metadata": {},
   "source": [
    "## Answer(s) Identification"
   ]
  },
  {
   "cell_type": "code",
   "execution_count": null,
   "metadata": {},
   "outputs": [],
   "source": []
  }
 ],
 "metadata": {
  "kernelspec": {
   "display_name": "Python 3",
   "language": "python",
   "name": "python3"
  },
  "language_info": {
   "codemirror_mode": {
    "name": "ipython",
    "version": 3
   },
   "file_extension": ".py",
   "mimetype": "text/x-python",
   "name": "python",
   "nbconvert_exporter": "python",
   "pygments_lexer": "ipython3",
   "version": "3.7.3"
  }
 },
 "nbformat": 4,
 "nbformat_minor": 4
}
